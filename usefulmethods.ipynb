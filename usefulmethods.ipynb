{
 "cells": [
  {
   "cell_type": "code",
   "metadata": {
    "tags": [],
    "cell_id": "00000-5b9ccd97-170d-4ffe-a09d-0207af7bc2e5",
    "deepnote_to_be_reexecuted": false,
    "source_hash": "ac1caaa4",
    "execution_start": 1622382410075,
    "execution_millis": 2,
    "deepnote_cell_type": "code"
   },
   "source": "#useful methods in Pandas\nimport numpy as np \nimport pandas as pd \n",
   "execution_count": 1,
   "outputs": []
  },
  {
   "cell_type": "code",
   "metadata": {
    "tags": [],
    "cell_id": "00001-1ec56d94-54a3-4020-9512-cb6d530178f9",
    "deepnote_to_be_reexecuted": false,
    "source_hash": "e3a66135",
    "execution_start": 1622382410086,
    "execution_millis": 1,
    "deepnote_cell_type": "code"
   },
   "source": "#Apply on SIngle column",
   "execution_count": 2,
   "outputs": []
  },
  {
   "cell_type": "code",
   "metadata": {
    "tags": [],
    "cell_id": "00002-0c27fc9d-9e83-45a9-8b4e-0b4275e9f738",
    "deepnote_to_be_reexecuted": false,
    "source_hash": "b9db7578",
    "execution_start": 1622382410093,
    "execution_millis": 7,
    "deepnote_cell_type": "code"
   },
   "source": "df=pd.read_csv('tips.csv')",
   "execution_count": 3,
   "outputs": []
  },
  {
   "cell_type": "code",
   "metadata": {
    "tags": [],
    "cell_id": "00003-14792d8f-81bc-4e48-9245-849e8387018a",
    "deepnote_to_be_reexecuted": false,
    "source_hash": "c085b6ba",
    "execution_start": 1622382410142,
    "execution_millis": 46,
    "deepnote_cell_type": "code"
   },
   "source": "df.head()",
   "execution_count": 4,
   "outputs": [
    {
     "output_type": "execute_result",
     "execution_count": 4,
     "data": {
      "application/vnd.deepnote.dataframe.v2+json": {
       "row_count": 5,
       "column_count": 11,
       "columns": [
        {
         "name": "total_bill",
         "dtype": "float64",
         "stats": {
          "unique_count": 5,
          "nan_count": 0,
          "min": "10.34",
          "max": "24.59",
          "histogram": [
           {
            "bin_start": 10.34,
            "bin_end": 11.765,
            "count": 1
           },
           {
            "bin_start": 11.765,
            "bin_end": 13.19,
            "count": 0
           },
           {
            "bin_start": 13.19,
            "bin_end": 14.615,
            "count": 0
           },
           {
            "bin_start": 14.615,
            "bin_end": 16.04,
            "count": 0
           },
           {
            "bin_start": 16.04,
            "bin_end": 17.465,
            "count": 1
           },
           {
            "bin_start": 17.465,
            "bin_end": 18.89,
            "count": 0
           },
           {
            "bin_start": 18.89,
            "bin_end": 20.314999999999998,
            "count": 0
           },
           {
            "bin_start": 20.314999999999998,
            "bin_end": 21.740000000000002,
            "count": 1
           },
           {
            "bin_start": 21.740000000000002,
            "bin_end": 23.165,
            "count": 0
           },
           {
            "bin_start": 23.165,
            "bin_end": 24.59,
            "count": 2
           }
          ]
         }
        },
        {
         "name": "tip",
         "dtype": "float64",
         "stats": {
          "unique_count": 5,
          "nan_count": 0,
          "min": "1.01",
          "max": "3.61",
          "histogram": [
           {
            "bin_start": 1.01,
            "bin_end": 1.27,
            "count": 1
           },
           {
            "bin_start": 1.27,
            "bin_end": 1.5299999999999998,
            "count": 0
           },
           {
            "bin_start": 1.5299999999999998,
            "bin_end": 1.7899999999999998,
            "count": 1
           },
           {
            "bin_start": 1.7899999999999998,
            "bin_end": 2.05,
            "count": 0
           },
           {
            "bin_start": 2.05,
            "bin_end": 2.3099999999999996,
            "count": 0
           },
           {
            "bin_start": 2.3099999999999996,
            "bin_end": 2.5699999999999994,
            "count": 0
           },
           {
            "bin_start": 2.5699999999999994,
            "bin_end": 2.8299999999999996,
            "count": 0
           },
           {
            "bin_start": 2.8299999999999996,
            "bin_end": 3.09,
            "count": 0
           },
           {
            "bin_start": 3.09,
            "bin_end": 3.3499999999999996,
            "count": 1
           },
           {
            "bin_start": 3.3499999999999996,
            "bin_end": 3.61,
            "count": 2
           }
          ]
         }
        },
        {
         "name": "sex",
         "dtype": "object",
         "stats": {
          "unique_count": 2,
          "nan_count": 0,
          "categories": [
           {
            "name": "Male",
            "count": 3
           },
           {
            "name": "Female",
            "count": 2
           }
          ]
         }
        },
        {
         "name": "smoker",
         "dtype": "object",
         "stats": {
          "unique_count": 1,
          "nan_count": 0,
          "categories": [
           {
            "name": "No",
            "count": 5
           }
          ]
         }
        },
        {
         "name": "day",
         "dtype": "object",
         "stats": {
          "unique_count": 1,
          "nan_count": 0,
          "categories": [
           {
            "name": "Sun",
            "count": 5
           }
          ]
         }
        },
        {
         "name": "time",
         "dtype": "object",
         "stats": {
          "unique_count": 1,
          "nan_count": 0,
          "categories": [
           {
            "name": "Dinner",
            "count": 5
           }
          ]
         }
        },
        {
         "name": "size",
         "dtype": "int64",
         "stats": {
          "unique_count": 3,
          "nan_count": 0,
          "min": "2",
          "max": "4",
          "histogram": [
           {
            "bin_start": 2,
            "bin_end": 2.2,
            "count": 2
           },
           {
            "bin_start": 2.2,
            "bin_end": 2.4,
            "count": 0
           },
           {
            "bin_start": 2.4,
            "bin_end": 2.6,
            "count": 0
           },
           {
            "bin_start": 2.6,
            "bin_end": 2.8,
            "count": 0
           },
           {
            "bin_start": 2.8,
            "bin_end": 3,
            "count": 0
           },
           {
            "bin_start": 3,
            "bin_end": 3.2,
            "count": 2
           },
           {
            "bin_start": 3.2,
            "bin_end": 3.4000000000000004,
            "count": 0
           },
           {
            "bin_start": 3.4000000000000004,
            "bin_end": 3.6,
            "count": 0
           },
           {
            "bin_start": 3.6,
            "bin_end": 3.8,
            "count": 0
           },
           {
            "bin_start": 3.8,
            "bin_end": 4,
            "count": 1
           }
          ]
         }
        },
        {
         "name": "price_per_person",
         "dtype": "float64",
         "stats": {
          "unique_count": 5,
          "nan_count": 0,
          "min": "3.45",
          "max": "11.84",
          "histogram": [
           {
            "bin_start": 3.45,
            "bin_end": 4.289000000000001,
            "count": 1
           },
           {
            "bin_start": 4.289000000000001,
            "bin_end": 5.128,
            "count": 0
           },
           {
            "bin_start": 5.128,
            "bin_end": 5.9670000000000005,
            "count": 0
           },
           {
            "bin_start": 5.9670000000000005,
            "bin_end": 6.806000000000001,
            "count": 1
           },
           {
            "bin_start": 6.806000000000001,
            "bin_end": 7.6450000000000005,
            "count": 1
           },
           {
            "bin_start": 7.6450000000000005,
            "bin_end": 8.484000000000002,
            "count": 0
           },
           {
            "bin_start": 8.484000000000002,
            "bin_end": 9.323,
            "count": 1
           },
           {
            "bin_start": 9.323,
            "bin_end": 10.162,
            "count": 0
           },
           {
            "bin_start": 10.162,
            "bin_end": 11.001000000000001,
            "count": 0
           },
           {
            "bin_start": 11.001000000000001,
            "bin_end": 11.84,
            "count": 1
           }
          ]
         }
        },
        {
         "name": "Payer Name",
         "dtype": "object",
         "stats": {
          "unique_count": 5,
          "nan_count": 0,
          "categories": [
           {
            "name": "Christy Cunningham",
            "count": 1
           },
           {
            "name": "Douglas Tucker",
            "count": 1
           },
           {
            "name": "3 others",
            "count": 3
           }
          ]
         }
        },
        {
         "name": "CC Number",
         "dtype": "int64",
         "stats": {
          "unique_count": 5,
          "nan_count": 0,
          "min": "3560325168603410",
          "max": "6011812112971322",
          "histogram": [
           {
            "bin_start": 3560325168603410,
            "bin_end": 3805473863040201,
            "count": 1
           },
           {
            "bin_start": 3805473863040201,
            "bin_end": 4050622557476992.5,
            "count": 0
           },
           {
            "bin_start": 4050622557476992.5,
            "bin_end": 4295771251913783.5,
            "count": 0
           },
           {
            "bin_start": 4295771251913783.5,
            "bin_end": 4540919946350575,
            "count": 1
           },
           {
            "bin_start": 4540919946350575,
            "bin_end": 4786068640787366,
            "count": 1
           },
           {
            "bin_start": 4786068640787366,
            "bin_end": 5031217335224157,
            "count": 1
           },
           {
            "bin_start": 5031217335224157,
            "bin_end": 5276366029660948,
            "count": 0
           },
           {
            "bin_start": 5276366029660948,
            "bin_end": 5521514724097740,
            "count": 0
           },
           {
            "bin_start": 5521514724097740,
            "bin_end": 5766663418534531,
            "count": 0
           },
           {
            "bin_start": 5766663418534531,
            "bin_end": 6011812112971322,
            "count": 1
           }
          ]
         }
        },
        {
         "name": "Payment ID",
         "dtype": "object",
         "stats": {
          "unique_count": 5,
          "nan_count": 0,
          "categories": [
           {
            "name": "Sun2959",
            "count": 1
           },
           {
            "name": "Sun4608",
            "count": 1
           },
           {
            "name": "3 others",
            "count": 3
           }
          ]
         }
        },
        {
         "name": "_deepnote_index_column",
         "dtype": "int64"
        }
       ],
       "rows_top": [
        {
         "total_bill": 16.99,
         "tip": 1.01,
         "sex": "Female",
         "smoker": "No",
         "day": "Sun",
         "time": "Dinner",
         "size": 2,
         "price_per_person": 8.49,
         "Payer Name": "Christy Cunningham",
         "CC Number": 3560325168603410,
         "Payment ID": "Sun2959",
         "_deepnote_index_column": 0
        },
        {
         "total_bill": 10.34,
         "tip": 1.66,
         "sex": "Male",
         "smoker": "No",
         "day": "Sun",
         "time": "Dinner",
         "size": 3,
         "price_per_person": 3.45,
         "Payer Name": "Douglas Tucker",
         "CC Number": 4478071379779230,
         "Payment ID": "Sun4608",
         "_deepnote_index_column": 1
        },
        {
         "total_bill": 21.01,
         "tip": 3.5,
         "sex": "Male",
         "smoker": "No",
         "day": "Sun",
         "time": "Dinner",
         "size": 3,
         "price_per_person": 7,
         "Payer Name": "Travis Walters",
         "CC Number": 6011812112971322,
         "Payment ID": "Sun4458",
         "_deepnote_index_column": 2
        },
        {
         "total_bill": 23.68,
         "tip": 3.31,
         "sex": "Male",
         "smoker": "No",
         "day": "Sun",
         "time": "Dinner",
         "size": 2,
         "price_per_person": 11.84,
         "Payer Name": "Nathaniel Harris",
         "CC Number": 4676137647685994,
         "Payment ID": "Sun5260",
         "_deepnote_index_column": 3
        },
        {
         "total_bill": 24.59,
         "tip": 3.61,
         "sex": "Female",
         "smoker": "No",
         "day": "Sun",
         "time": "Dinner",
         "size": 4,
         "price_per_person": 6.15,
         "Payer Name": "Tonya Carter",
         "CC Number": 4832732618637221,
         "Payment ID": "Sun2251",
         "_deepnote_index_column": 4
        }
       ],
       "rows_bottom": null
      },
      "text/plain": "   total_bill   tip     sex smoker  day    time  size  price_per_person  \\\n0       16.99  1.01  Female     No  Sun  Dinner     2              8.49   \n1       10.34  1.66    Male     No  Sun  Dinner     3              3.45   \n2       21.01  3.50    Male     No  Sun  Dinner     3              7.00   \n3       23.68  3.31    Male     No  Sun  Dinner     2             11.84   \n4       24.59  3.61  Female     No  Sun  Dinner     4              6.15   \n\n           Payer Name         CC Number Payment ID  \n0  Christy Cunningham  3560325168603410    Sun2959  \n1      Douglas Tucker  4478071379779230    Sun4608  \n2      Travis Walters  6011812112971322    Sun4458  \n3    Nathaniel Harris  4676137647685994    Sun5260  \n4        Tonya Carter  4832732618637221    Sun2251  ",
      "text/html": "<div>\n<style scoped>\n    .dataframe tbody tr th:only-of-type {\n        vertical-align: middle;\n    }\n\n    .dataframe tbody tr th {\n        vertical-align: top;\n    }\n\n    .dataframe thead th {\n        text-align: right;\n    }\n</style>\n<table border=\"1\" class=\"dataframe\">\n  <thead>\n    <tr style=\"text-align: right;\">\n      <th></th>\n      <th>total_bill</th>\n      <th>tip</th>\n      <th>sex</th>\n      <th>smoker</th>\n      <th>day</th>\n      <th>time</th>\n      <th>size</th>\n      <th>price_per_person</th>\n      <th>Payer Name</th>\n      <th>CC Number</th>\n      <th>Payment ID</th>\n    </tr>\n  </thead>\n  <tbody>\n    <tr>\n      <th>0</th>\n      <td>16.99</td>\n      <td>1.01</td>\n      <td>Female</td>\n      <td>No</td>\n      <td>Sun</td>\n      <td>Dinner</td>\n      <td>2</td>\n      <td>8.49</td>\n      <td>Christy Cunningham</td>\n      <td>3560325168603410</td>\n      <td>Sun2959</td>\n    </tr>\n    <tr>\n      <th>1</th>\n      <td>10.34</td>\n      <td>1.66</td>\n      <td>Male</td>\n      <td>No</td>\n      <td>Sun</td>\n      <td>Dinner</td>\n      <td>3</td>\n      <td>3.45</td>\n      <td>Douglas Tucker</td>\n      <td>4478071379779230</td>\n      <td>Sun4608</td>\n    </tr>\n    <tr>\n      <th>2</th>\n      <td>21.01</td>\n      <td>3.50</td>\n      <td>Male</td>\n      <td>No</td>\n      <td>Sun</td>\n      <td>Dinner</td>\n      <td>3</td>\n      <td>7.00</td>\n      <td>Travis Walters</td>\n      <td>6011812112971322</td>\n      <td>Sun4458</td>\n    </tr>\n    <tr>\n      <th>3</th>\n      <td>23.68</td>\n      <td>3.31</td>\n      <td>Male</td>\n      <td>No</td>\n      <td>Sun</td>\n      <td>Dinner</td>\n      <td>2</td>\n      <td>11.84</td>\n      <td>Nathaniel Harris</td>\n      <td>4676137647685994</td>\n      <td>Sun5260</td>\n    </tr>\n    <tr>\n      <th>4</th>\n      <td>24.59</td>\n      <td>3.61</td>\n      <td>Female</td>\n      <td>No</td>\n      <td>Sun</td>\n      <td>Dinner</td>\n      <td>4</td>\n      <td>6.15</td>\n      <td>Tonya Carter</td>\n      <td>4832732618637221</td>\n      <td>Sun2251</td>\n    </tr>\n  </tbody>\n</table>\n</div>"
     },
     "metadata": {}
    }
   ]
  },
  {
   "cell_type": "code",
   "metadata": {
    "tags": [],
    "cell_id": "00004-d04150e0-e05c-4a2c-b03d-077b42ff18b5",
    "deepnote_to_be_reexecuted": false,
    "source_hash": "75e6a942",
    "execution_start": 1622382410225,
    "execution_millis": 9,
    "deepnote_cell_type": "code"
   },
   "source": "str(12345678)[-4:]",
   "execution_count": 5,
   "outputs": [
    {
     "output_type": "execute_result",
     "execution_count": 5,
     "data": {
      "text/plain": "'5678'"
     },
     "metadata": {}
    }
   ]
  },
  {
   "cell_type": "code",
   "metadata": {
    "tags": [],
    "cell_id": "00005-809c5c9a-3b7a-4b3b-85e0-69fd8f441805",
    "deepnote_to_be_reexecuted": false,
    "source_hash": "b7f76cea",
    "execution_start": 1622382410226,
    "execution_millis": 3995684,
    "deepnote_cell_type": "code"
   },
   "source": "def last_four(num):\n    return str(num)[-4:]",
   "execution_count": 6,
   "outputs": []
  },
  {
   "cell_type": "code",
   "metadata": {
    "tags": [],
    "cell_id": "00006-efda13c4-267a-4d61-bc53-63848ee3a404",
    "deepnote_to_be_reexecuted": false,
    "source_hash": "747d5d1",
    "execution_start": 1622382410227,
    "execution_millis": 8,
    "deepnote_cell_type": "code"
   },
   "source": "last_four(12345678)",
   "execution_count": 7,
   "outputs": [
    {
     "output_type": "execute_result",
     "execution_count": 7,
     "data": {
      "text/plain": "'5678'"
     },
     "metadata": {}
    }
   ]
  },
  {
   "cell_type": "code",
   "metadata": {
    "tags": [],
    "cell_id": "00007-90482b0a-e62d-4715-b8b8-8348befc191f",
    "deepnote_to_be_reexecuted": false,
    "source_hash": "60dee919",
    "execution_start": 1622382410229,
    "execution_millis": 63,
    "deepnote_cell_type": "code"
   },
   "source": "df['last_four']=df[\"CC Number\"].apply(last_four)\ndf.head()",
   "execution_count": 8,
   "outputs": [
    {
     "output_type": "execute_result",
     "execution_count": 8,
     "data": {
      "application/vnd.deepnote.dataframe.v2+json": {
       "row_count": 5,
       "column_count": 12,
       "columns": [
        {
         "name": "total_bill",
         "dtype": "float64",
         "stats": {
          "unique_count": 5,
          "nan_count": 0,
          "min": "10.34",
          "max": "24.59",
          "histogram": [
           {
            "bin_start": 10.34,
            "bin_end": 11.765,
            "count": 1
           },
           {
            "bin_start": 11.765,
            "bin_end": 13.19,
            "count": 0
           },
           {
            "bin_start": 13.19,
            "bin_end": 14.615,
            "count": 0
           },
           {
            "bin_start": 14.615,
            "bin_end": 16.04,
            "count": 0
           },
           {
            "bin_start": 16.04,
            "bin_end": 17.465,
            "count": 1
           },
           {
            "bin_start": 17.465,
            "bin_end": 18.89,
            "count": 0
           },
           {
            "bin_start": 18.89,
            "bin_end": 20.314999999999998,
            "count": 0
           },
           {
            "bin_start": 20.314999999999998,
            "bin_end": 21.740000000000002,
            "count": 1
           },
           {
            "bin_start": 21.740000000000002,
            "bin_end": 23.165,
            "count": 0
           },
           {
            "bin_start": 23.165,
            "bin_end": 24.59,
            "count": 2
           }
          ]
         }
        },
        {
         "name": "tip",
         "dtype": "float64",
         "stats": {
          "unique_count": 5,
          "nan_count": 0,
          "min": "1.01",
          "max": "3.61",
          "histogram": [
           {
            "bin_start": 1.01,
            "bin_end": 1.27,
            "count": 1
           },
           {
            "bin_start": 1.27,
            "bin_end": 1.5299999999999998,
            "count": 0
           },
           {
            "bin_start": 1.5299999999999998,
            "bin_end": 1.7899999999999998,
            "count": 1
           },
           {
            "bin_start": 1.7899999999999998,
            "bin_end": 2.05,
            "count": 0
           },
           {
            "bin_start": 2.05,
            "bin_end": 2.3099999999999996,
            "count": 0
           },
           {
            "bin_start": 2.3099999999999996,
            "bin_end": 2.5699999999999994,
            "count": 0
           },
           {
            "bin_start": 2.5699999999999994,
            "bin_end": 2.8299999999999996,
            "count": 0
           },
           {
            "bin_start": 2.8299999999999996,
            "bin_end": 3.09,
            "count": 0
           },
           {
            "bin_start": 3.09,
            "bin_end": 3.3499999999999996,
            "count": 1
           },
           {
            "bin_start": 3.3499999999999996,
            "bin_end": 3.61,
            "count": 2
           }
          ]
         }
        },
        {
         "name": "sex",
         "dtype": "object",
         "stats": {
          "unique_count": 2,
          "nan_count": 0,
          "categories": [
           {
            "name": "Male",
            "count": 3
           },
           {
            "name": "Female",
            "count": 2
           }
          ]
         }
        },
        {
         "name": "smoker",
         "dtype": "object",
         "stats": {
          "unique_count": 1,
          "nan_count": 0,
          "categories": [
           {
            "name": "No",
            "count": 5
           }
          ]
         }
        },
        {
         "name": "day",
         "dtype": "object",
         "stats": {
          "unique_count": 1,
          "nan_count": 0,
          "categories": [
           {
            "name": "Sun",
            "count": 5
           }
          ]
         }
        },
        {
         "name": "time",
         "dtype": "object",
         "stats": {
          "unique_count": 1,
          "nan_count": 0,
          "categories": [
           {
            "name": "Dinner",
            "count": 5
           }
          ]
         }
        },
        {
         "name": "size",
         "dtype": "int64",
         "stats": {
          "unique_count": 3,
          "nan_count": 0,
          "min": "2",
          "max": "4",
          "histogram": [
           {
            "bin_start": 2,
            "bin_end": 2.2,
            "count": 2
           },
           {
            "bin_start": 2.2,
            "bin_end": 2.4,
            "count": 0
           },
           {
            "bin_start": 2.4,
            "bin_end": 2.6,
            "count": 0
           },
           {
            "bin_start": 2.6,
            "bin_end": 2.8,
            "count": 0
           },
           {
            "bin_start": 2.8,
            "bin_end": 3,
            "count": 0
           },
           {
            "bin_start": 3,
            "bin_end": 3.2,
            "count": 2
           },
           {
            "bin_start": 3.2,
            "bin_end": 3.4000000000000004,
            "count": 0
           },
           {
            "bin_start": 3.4000000000000004,
            "bin_end": 3.6,
            "count": 0
           },
           {
            "bin_start": 3.6,
            "bin_end": 3.8,
            "count": 0
           },
           {
            "bin_start": 3.8,
            "bin_end": 4,
            "count": 1
           }
          ]
         }
        },
        {
         "name": "price_per_person",
         "dtype": "float64",
         "stats": {
          "unique_count": 5,
          "nan_count": 0,
          "min": "3.45",
          "max": "11.84",
          "histogram": [
           {
            "bin_start": 3.45,
            "bin_end": 4.289000000000001,
            "count": 1
           },
           {
            "bin_start": 4.289000000000001,
            "bin_end": 5.128,
            "count": 0
           },
           {
            "bin_start": 5.128,
            "bin_end": 5.9670000000000005,
            "count": 0
           },
           {
            "bin_start": 5.9670000000000005,
            "bin_end": 6.806000000000001,
            "count": 1
           },
           {
            "bin_start": 6.806000000000001,
            "bin_end": 7.6450000000000005,
            "count": 1
           },
           {
            "bin_start": 7.6450000000000005,
            "bin_end": 8.484000000000002,
            "count": 0
           },
           {
            "bin_start": 8.484000000000002,
            "bin_end": 9.323,
            "count": 1
           },
           {
            "bin_start": 9.323,
            "bin_end": 10.162,
            "count": 0
           },
           {
            "bin_start": 10.162,
            "bin_end": 11.001000000000001,
            "count": 0
           },
           {
            "bin_start": 11.001000000000001,
            "bin_end": 11.84,
            "count": 1
           }
          ]
         }
        },
        {
         "name": "Payer Name",
         "dtype": "object",
         "stats": {
          "unique_count": 5,
          "nan_count": 0,
          "categories": [
           {
            "name": "Christy Cunningham",
            "count": 1
           },
           {
            "name": "Douglas Tucker",
            "count": 1
           },
           {
            "name": "3 others",
            "count": 3
           }
          ]
         }
        },
        {
         "name": "CC Number",
         "dtype": "int64",
         "stats": {
          "unique_count": 5,
          "nan_count": 0,
          "min": "3560325168603410",
          "max": "6011812112971322",
          "histogram": [
           {
            "bin_start": 3560325168603410,
            "bin_end": 3805473863040201,
            "count": 1
           },
           {
            "bin_start": 3805473863040201,
            "bin_end": 4050622557476992.5,
            "count": 0
           },
           {
            "bin_start": 4050622557476992.5,
            "bin_end": 4295771251913783.5,
            "count": 0
           },
           {
            "bin_start": 4295771251913783.5,
            "bin_end": 4540919946350575,
            "count": 1
           },
           {
            "bin_start": 4540919946350575,
            "bin_end": 4786068640787366,
            "count": 1
           },
           {
            "bin_start": 4786068640787366,
            "bin_end": 5031217335224157,
            "count": 1
           },
           {
            "bin_start": 5031217335224157,
            "bin_end": 5276366029660948,
            "count": 0
           },
           {
            "bin_start": 5276366029660948,
            "bin_end": 5521514724097740,
            "count": 0
           },
           {
            "bin_start": 5521514724097740,
            "bin_end": 5766663418534531,
            "count": 0
           },
           {
            "bin_start": 5766663418534531,
            "bin_end": 6011812112971322,
            "count": 1
           }
          ]
         }
        },
        {
         "name": "Payment ID",
         "dtype": "object",
         "stats": {
          "unique_count": 5,
          "nan_count": 0,
          "categories": [
           {
            "name": "Sun2959",
            "count": 1
           },
           {
            "name": "Sun4608",
            "count": 1
           },
           {
            "name": "3 others",
            "count": 3
           }
          ]
         }
        },
        {
         "name": "last_four",
         "dtype": "object",
         "stats": {
          "unique_count": 5,
          "nan_count": 0,
          "categories": [
           {
            "name": "3410",
            "count": 1
           },
           {
            "name": "9230",
            "count": 1
           },
           {
            "name": "3 others",
            "count": 3
           }
          ]
         }
        },
        {
         "name": "_deepnote_index_column",
         "dtype": "int64"
        }
       ],
       "rows_top": [
        {
         "total_bill": 16.99,
         "tip": 1.01,
         "sex": "Female",
         "smoker": "No",
         "day": "Sun",
         "time": "Dinner",
         "size": 2,
         "price_per_person": 8.49,
         "Payer Name": "Christy Cunningham",
         "CC Number": 3560325168603410,
         "Payment ID": "Sun2959",
         "last_four": "3410",
         "_deepnote_index_column": 0
        },
        {
         "total_bill": 10.34,
         "tip": 1.66,
         "sex": "Male",
         "smoker": "No",
         "day": "Sun",
         "time": "Dinner",
         "size": 3,
         "price_per_person": 3.45,
         "Payer Name": "Douglas Tucker",
         "CC Number": 4478071379779230,
         "Payment ID": "Sun4608",
         "last_four": "9230",
         "_deepnote_index_column": 1
        },
        {
         "total_bill": 21.01,
         "tip": 3.5,
         "sex": "Male",
         "smoker": "No",
         "day": "Sun",
         "time": "Dinner",
         "size": 3,
         "price_per_person": 7,
         "Payer Name": "Travis Walters",
         "CC Number": 6011812112971322,
         "Payment ID": "Sun4458",
         "last_four": "1322",
         "_deepnote_index_column": 2
        },
        {
         "total_bill": 23.68,
         "tip": 3.31,
         "sex": "Male",
         "smoker": "No",
         "day": "Sun",
         "time": "Dinner",
         "size": 2,
         "price_per_person": 11.84,
         "Payer Name": "Nathaniel Harris",
         "CC Number": 4676137647685994,
         "Payment ID": "Sun5260",
         "last_four": "5994",
         "_deepnote_index_column": 3
        },
        {
         "total_bill": 24.59,
         "tip": 3.61,
         "sex": "Female",
         "smoker": "No",
         "day": "Sun",
         "time": "Dinner",
         "size": 4,
         "price_per_person": 6.15,
         "Payer Name": "Tonya Carter",
         "CC Number": 4832732618637221,
         "Payment ID": "Sun2251",
         "last_four": "7221",
         "_deepnote_index_column": 4
        }
       ],
       "rows_bottom": null
      },
      "text/plain": "   total_bill   tip     sex smoker  day    time  size  price_per_person  \\\n0       16.99  1.01  Female     No  Sun  Dinner     2              8.49   \n1       10.34  1.66    Male     No  Sun  Dinner     3              3.45   \n2       21.01  3.50    Male     No  Sun  Dinner     3              7.00   \n3       23.68  3.31    Male     No  Sun  Dinner     2             11.84   \n4       24.59  3.61  Female     No  Sun  Dinner     4              6.15   \n\n           Payer Name         CC Number Payment ID last_four  \n0  Christy Cunningham  3560325168603410    Sun2959      3410  \n1      Douglas Tucker  4478071379779230    Sun4608      9230  \n2      Travis Walters  6011812112971322    Sun4458      1322  \n3    Nathaniel Harris  4676137647685994    Sun5260      5994  \n4        Tonya Carter  4832732618637221    Sun2251      7221  ",
      "text/html": "<div>\n<style scoped>\n    .dataframe tbody tr th:only-of-type {\n        vertical-align: middle;\n    }\n\n    .dataframe tbody tr th {\n        vertical-align: top;\n    }\n\n    .dataframe thead th {\n        text-align: right;\n    }\n</style>\n<table border=\"1\" class=\"dataframe\">\n  <thead>\n    <tr style=\"text-align: right;\">\n      <th></th>\n      <th>total_bill</th>\n      <th>tip</th>\n      <th>sex</th>\n      <th>smoker</th>\n      <th>day</th>\n      <th>time</th>\n      <th>size</th>\n      <th>price_per_person</th>\n      <th>Payer Name</th>\n      <th>CC Number</th>\n      <th>Payment ID</th>\n      <th>last_four</th>\n    </tr>\n  </thead>\n  <tbody>\n    <tr>\n      <th>0</th>\n      <td>16.99</td>\n      <td>1.01</td>\n      <td>Female</td>\n      <td>No</td>\n      <td>Sun</td>\n      <td>Dinner</td>\n      <td>2</td>\n      <td>8.49</td>\n      <td>Christy Cunningham</td>\n      <td>3560325168603410</td>\n      <td>Sun2959</td>\n      <td>3410</td>\n    </tr>\n    <tr>\n      <th>1</th>\n      <td>10.34</td>\n      <td>1.66</td>\n      <td>Male</td>\n      <td>No</td>\n      <td>Sun</td>\n      <td>Dinner</td>\n      <td>3</td>\n      <td>3.45</td>\n      <td>Douglas Tucker</td>\n      <td>4478071379779230</td>\n      <td>Sun4608</td>\n      <td>9230</td>\n    </tr>\n    <tr>\n      <th>2</th>\n      <td>21.01</td>\n      <td>3.50</td>\n      <td>Male</td>\n      <td>No</td>\n      <td>Sun</td>\n      <td>Dinner</td>\n      <td>3</td>\n      <td>7.00</td>\n      <td>Travis Walters</td>\n      <td>6011812112971322</td>\n      <td>Sun4458</td>\n      <td>1322</td>\n    </tr>\n    <tr>\n      <th>3</th>\n      <td>23.68</td>\n      <td>3.31</td>\n      <td>Male</td>\n      <td>No</td>\n      <td>Sun</td>\n      <td>Dinner</td>\n      <td>2</td>\n      <td>11.84</td>\n      <td>Nathaniel Harris</td>\n      <td>4676137647685994</td>\n      <td>Sun5260</td>\n      <td>5994</td>\n    </tr>\n    <tr>\n      <th>4</th>\n      <td>24.59</td>\n      <td>3.61</td>\n      <td>Female</td>\n      <td>No</td>\n      <td>Sun</td>\n      <td>Dinner</td>\n      <td>4</td>\n      <td>6.15</td>\n      <td>Tonya Carter</td>\n      <td>4832732618637221</td>\n      <td>Sun2251</td>\n      <td>7221</td>\n    </tr>\n  </tbody>\n</table>\n</div>"
     },
     "metadata": {}
    }
   ]
  },
  {
   "cell_type": "code",
   "metadata": {
    "tags": [],
    "cell_id": "00008-20cc60ac-1583-4b48-bb9d-35bb049df38e",
    "deepnote_to_be_reexecuted": false,
    "source_hash": "803007b3",
    "execution_start": 1622382410334,
    "execution_millis": 6,
    "deepnote_cell_type": "code"
   },
   "source": "df['total_bill']",
   "execution_count": 9,
   "outputs": [
    {
     "output_type": "execute_result",
     "execution_count": 9,
     "data": {
      "text/plain": "0      16.99\n1      10.34\n2      21.01\n3      23.68\n4      24.59\n       ...  \n239    29.03\n240    27.18\n241    22.67\n242    17.82\n243    18.78\nName: total_bill, Length: 244, dtype: float64"
     },
     "metadata": {}
    }
   ]
  },
  {
   "cell_type": "code",
   "metadata": {
    "tags": [],
    "cell_id": "00009-dec1bc42-e59a-48af-882d-f8bf29381401",
    "deepnote_to_be_reexecuted": false,
    "source_hash": "dd1da296",
    "execution_start": 1622382410335,
    "execution_millis": 0,
    "deepnote_cell_type": "code"
   },
   "source": "def yelp(price):\n    if price <10:\n        return '$'\n    elif price >=10 and price <20:\n        return '$$'\n    else:\n        return '$$$'",
   "execution_count": 10,
   "outputs": []
  },
  {
   "cell_type": "code",
   "metadata": {
    "tags": [],
    "cell_id": "00010-1a3401bd-3fad-4fb6-923d-52f6a4309f97",
    "deepnote_to_be_reexecuted": false,
    "source_hash": "b04b2b9d",
    "execution_start": 1622382410387,
    "execution_millis": 19,
    "deepnote_cell_type": "code"
   },
   "source": "df['yelp']=df['total_bill'].apply(yelp)\ndf.head()",
   "execution_count": 11,
   "outputs": [
    {
     "output_type": "execute_result",
     "execution_count": 11,
     "data": {
      "application/vnd.deepnote.dataframe.v2+json": {
       "row_count": 5,
       "column_count": 13,
       "columns": [
        {
         "name": "total_bill",
         "dtype": "float64",
         "stats": {
          "unique_count": 5,
          "nan_count": 0,
          "min": "10.34",
          "max": "24.59",
          "histogram": [
           {
            "bin_start": 10.34,
            "bin_end": 11.765,
            "count": 1
           },
           {
            "bin_start": 11.765,
            "bin_end": 13.19,
            "count": 0
           },
           {
            "bin_start": 13.19,
            "bin_end": 14.615,
            "count": 0
           },
           {
            "bin_start": 14.615,
            "bin_end": 16.04,
            "count": 0
           },
           {
            "bin_start": 16.04,
            "bin_end": 17.465,
            "count": 1
           },
           {
            "bin_start": 17.465,
            "bin_end": 18.89,
            "count": 0
           },
           {
            "bin_start": 18.89,
            "bin_end": 20.314999999999998,
            "count": 0
           },
           {
            "bin_start": 20.314999999999998,
            "bin_end": 21.740000000000002,
            "count": 1
           },
           {
            "bin_start": 21.740000000000002,
            "bin_end": 23.165,
            "count": 0
           },
           {
            "bin_start": 23.165,
            "bin_end": 24.59,
            "count": 2
           }
          ]
         }
        },
        {
         "name": "tip",
         "dtype": "float64",
         "stats": {
          "unique_count": 5,
          "nan_count": 0,
          "min": "1.01",
          "max": "3.61",
          "histogram": [
           {
            "bin_start": 1.01,
            "bin_end": 1.27,
            "count": 1
           },
           {
            "bin_start": 1.27,
            "bin_end": 1.5299999999999998,
            "count": 0
           },
           {
            "bin_start": 1.5299999999999998,
            "bin_end": 1.7899999999999998,
            "count": 1
           },
           {
            "bin_start": 1.7899999999999998,
            "bin_end": 2.05,
            "count": 0
           },
           {
            "bin_start": 2.05,
            "bin_end": 2.3099999999999996,
            "count": 0
           },
           {
            "bin_start": 2.3099999999999996,
            "bin_end": 2.5699999999999994,
            "count": 0
           },
           {
            "bin_start": 2.5699999999999994,
            "bin_end": 2.8299999999999996,
            "count": 0
           },
           {
            "bin_start": 2.8299999999999996,
            "bin_end": 3.09,
            "count": 0
           },
           {
            "bin_start": 3.09,
            "bin_end": 3.3499999999999996,
            "count": 1
           },
           {
            "bin_start": 3.3499999999999996,
            "bin_end": 3.61,
            "count": 2
           }
          ]
         }
        },
        {
         "name": "sex",
         "dtype": "object",
         "stats": {
          "unique_count": 2,
          "nan_count": 0,
          "categories": [
           {
            "name": "Male",
            "count": 3
           },
           {
            "name": "Female",
            "count": 2
           }
          ]
         }
        },
        {
         "name": "smoker",
         "dtype": "object",
         "stats": {
          "unique_count": 1,
          "nan_count": 0,
          "categories": [
           {
            "name": "No",
            "count": 5
           }
          ]
         }
        },
        {
         "name": "day",
         "dtype": "object",
         "stats": {
          "unique_count": 1,
          "nan_count": 0,
          "categories": [
           {
            "name": "Sun",
            "count": 5
           }
          ]
         }
        },
        {
         "name": "time",
         "dtype": "object",
         "stats": {
          "unique_count": 1,
          "nan_count": 0,
          "categories": [
           {
            "name": "Dinner",
            "count": 5
           }
          ]
         }
        },
        {
         "name": "size",
         "dtype": "int64",
         "stats": {
          "unique_count": 3,
          "nan_count": 0,
          "min": "2",
          "max": "4",
          "histogram": [
           {
            "bin_start": 2,
            "bin_end": 2.2,
            "count": 2
           },
           {
            "bin_start": 2.2,
            "bin_end": 2.4,
            "count": 0
           },
           {
            "bin_start": 2.4,
            "bin_end": 2.6,
            "count": 0
           },
           {
            "bin_start": 2.6,
            "bin_end": 2.8,
            "count": 0
           },
           {
            "bin_start": 2.8,
            "bin_end": 3,
            "count": 0
           },
           {
            "bin_start": 3,
            "bin_end": 3.2,
            "count": 2
           },
           {
            "bin_start": 3.2,
            "bin_end": 3.4000000000000004,
            "count": 0
           },
           {
            "bin_start": 3.4000000000000004,
            "bin_end": 3.6,
            "count": 0
           },
           {
            "bin_start": 3.6,
            "bin_end": 3.8,
            "count": 0
           },
           {
            "bin_start": 3.8,
            "bin_end": 4,
            "count": 1
           }
          ]
         }
        },
        {
         "name": "price_per_person",
         "dtype": "float64",
         "stats": {
          "unique_count": 5,
          "nan_count": 0,
          "min": "3.45",
          "max": "11.84",
          "histogram": [
           {
            "bin_start": 3.45,
            "bin_end": 4.289000000000001,
            "count": 1
           },
           {
            "bin_start": 4.289000000000001,
            "bin_end": 5.128,
            "count": 0
           },
           {
            "bin_start": 5.128,
            "bin_end": 5.9670000000000005,
            "count": 0
           },
           {
            "bin_start": 5.9670000000000005,
            "bin_end": 6.806000000000001,
            "count": 1
           },
           {
            "bin_start": 6.806000000000001,
            "bin_end": 7.6450000000000005,
            "count": 1
           },
           {
            "bin_start": 7.6450000000000005,
            "bin_end": 8.484000000000002,
            "count": 0
           },
           {
            "bin_start": 8.484000000000002,
            "bin_end": 9.323,
            "count": 1
           },
           {
            "bin_start": 9.323,
            "bin_end": 10.162,
            "count": 0
           },
           {
            "bin_start": 10.162,
            "bin_end": 11.001000000000001,
            "count": 0
           },
           {
            "bin_start": 11.001000000000001,
            "bin_end": 11.84,
            "count": 1
           }
          ]
         }
        },
        {
         "name": "Payer Name",
         "dtype": "object",
         "stats": {
          "unique_count": 5,
          "nan_count": 0,
          "categories": [
           {
            "name": "Christy Cunningham",
            "count": 1
           },
           {
            "name": "Douglas Tucker",
            "count": 1
           },
           {
            "name": "3 others",
            "count": 3
           }
          ]
         }
        },
        {
         "name": "CC Number",
         "dtype": "int64",
         "stats": {
          "unique_count": 5,
          "nan_count": 0,
          "min": "3560325168603410",
          "max": "6011812112971322",
          "histogram": [
           {
            "bin_start": 3560325168603410,
            "bin_end": 3805473863040201,
            "count": 1
           },
           {
            "bin_start": 3805473863040201,
            "bin_end": 4050622557476992.5,
            "count": 0
           },
           {
            "bin_start": 4050622557476992.5,
            "bin_end": 4295771251913783.5,
            "count": 0
           },
           {
            "bin_start": 4295771251913783.5,
            "bin_end": 4540919946350575,
            "count": 1
           },
           {
            "bin_start": 4540919946350575,
            "bin_end": 4786068640787366,
            "count": 1
           },
           {
            "bin_start": 4786068640787366,
            "bin_end": 5031217335224157,
            "count": 1
           },
           {
            "bin_start": 5031217335224157,
            "bin_end": 5276366029660948,
            "count": 0
           },
           {
            "bin_start": 5276366029660948,
            "bin_end": 5521514724097740,
            "count": 0
           },
           {
            "bin_start": 5521514724097740,
            "bin_end": 5766663418534531,
            "count": 0
           },
           {
            "bin_start": 5766663418534531,
            "bin_end": 6011812112971322,
            "count": 1
           }
          ]
         }
        },
        {
         "name": "Payment ID",
         "dtype": "object",
         "stats": {
          "unique_count": 5,
          "nan_count": 0,
          "categories": [
           {
            "name": "Sun2959",
            "count": 1
           },
           {
            "name": "Sun4608",
            "count": 1
           },
           {
            "name": "3 others",
            "count": 3
           }
          ]
         }
        },
        {
         "name": "last_four",
         "dtype": "object",
         "stats": {
          "unique_count": 5,
          "nan_count": 0,
          "categories": [
           {
            "name": "3410",
            "count": 1
           },
           {
            "name": "9230",
            "count": 1
           },
           {
            "name": "3 others",
            "count": 3
           }
          ]
         }
        },
        {
         "name": "yelp",
         "dtype": "object",
         "stats": {
          "unique_count": 2,
          "nan_count": 0,
          "categories": [
           {
            "name": "$$$",
            "count": 3
           },
           {
            "name": "$$",
            "count": 2
           }
          ]
         }
        },
        {
         "name": "_deepnote_index_column",
         "dtype": "int64"
        }
       ],
       "rows_top": [
        {
         "total_bill": 16.99,
         "tip": 1.01,
         "sex": "Female",
         "smoker": "No",
         "day": "Sun",
         "time": "Dinner",
         "size": 2,
         "price_per_person": 8.49,
         "Payer Name": "Christy Cunningham",
         "CC Number": 3560325168603410,
         "Payment ID": "Sun2959",
         "last_four": "3410",
         "yelp": "$$",
         "_deepnote_index_column": 0
        },
        {
         "total_bill": 10.34,
         "tip": 1.66,
         "sex": "Male",
         "smoker": "No",
         "day": "Sun",
         "time": "Dinner",
         "size": 3,
         "price_per_person": 3.45,
         "Payer Name": "Douglas Tucker",
         "CC Number": 4478071379779230,
         "Payment ID": "Sun4608",
         "last_four": "9230",
         "yelp": "$$",
         "_deepnote_index_column": 1
        },
        {
         "total_bill": 21.01,
         "tip": 3.5,
         "sex": "Male",
         "smoker": "No",
         "day": "Sun",
         "time": "Dinner",
         "size": 3,
         "price_per_person": 7,
         "Payer Name": "Travis Walters",
         "CC Number": 6011812112971322,
         "Payment ID": "Sun4458",
         "last_four": "1322",
         "yelp": "$$$",
         "_deepnote_index_column": 2
        },
        {
         "total_bill": 23.68,
         "tip": 3.31,
         "sex": "Male",
         "smoker": "No",
         "day": "Sun",
         "time": "Dinner",
         "size": 2,
         "price_per_person": 11.84,
         "Payer Name": "Nathaniel Harris",
         "CC Number": 4676137647685994,
         "Payment ID": "Sun5260",
         "last_four": "5994",
         "yelp": "$$$",
         "_deepnote_index_column": 3
        },
        {
         "total_bill": 24.59,
         "tip": 3.61,
         "sex": "Female",
         "smoker": "No",
         "day": "Sun",
         "time": "Dinner",
         "size": 4,
         "price_per_person": 6.15,
         "Payer Name": "Tonya Carter",
         "CC Number": 4832732618637221,
         "Payment ID": "Sun2251",
         "last_four": "7221",
         "yelp": "$$$",
         "_deepnote_index_column": 4
        }
       ],
       "rows_bottom": null
      },
      "text/plain": "   total_bill   tip     sex smoker  day    time  size  price_per_person  \\\n0       16.99  1.01  Female     No  Sun  Dinner     2              8.49   \n1       10.34  1.66    Male     No  Sun  Dinner     3              3.45   \n2       21.01  3.50    Male     No  Sun  Dinner     3              7.00   \n3       23.68  3.31    Male     No  Sun  Dinner     2             11.84   \n4       24.59  3.61  Female     No  Sun  Dinner     4              6.15   \n\n           Payer Name         CC Number Payment ID last_four yelp  \n0  Christy Cunningham  3560325168603410    Sun2959      3410   $$  \n1      Douglas Tucker  4478071379779230    Sun4608      9230   $$  \n2      Travis Walters  6011812112971322    Sun4458      1322  $$$  \n3    Nathaniel Harris  4676137647685994    Sun5260      5994  $$$  \n4        Tonya Carter  4832732618637221    Sun2251      7221  $$$  ",
      "text/html": "<div>\n<style scoped>\n    .dataframe tbody tr th:only-of-type {\n        vertical-align: middle;\n    }\n\n    .dataframe tbody tr th {\n        vertical-align: top;\n    }\n\n    .dataframe thead th {\n        text-align: right;\n    }\n</style>\n<table border=\"1\" class=\"dataframe\">\n  <thead>\n    <tr style=\"text-align: right;\">\n      <th></th>\n      <th>total_bill</th>\n      <th>tip</th>\n      <th>sex</th>\n      <th>smoker</th>\n      <th>day</th>\n      <th>time</th>\n      <th>size</th>\n      <th>price_per_person</th>\n      <th>Payer Name</th>\n      <th>CC Number</th>\n      <th>Payment ID</th>\n      <th>last_four</th>\n      <th>yelp</th>\n    </tr>\n  </thead>\n  <tbody>\n    <tr>\n      <th>0</th>\n      <td>16.99</td>\n      <td>1.01</td>\n      <td>Female</td>\n      <td>No</td>\n      <td>Sun</td>\n      <td>Dinner</td>\n      <td>2</td>\n      <td>8.49</td>\n      <td>Christy Cunningham</td>\n      <td>3560325168603410</td>\n      <td>Sun2959</td>\n      <td>3410</td>\n      <td>$$</td>\n    </tr>\n    <tr>\n      <th>1</th>\n      <td>10.34</td>\n      <td>1.66</td>\n      <td>Male</td>\n      <td>No</td>\n      <td>Sun</td>\n      <td>Dinner</td>\n      <td>3</td>\n      <td>3.45</td>\n      <td>Douglas Tucker</td>\n      <td>4478071379779230</td>\n      <td>Sun4608</td>\n      <td>9230</td>\n      <td>$$</td>\n    </tr>\n    <tr>\n      <th>2</th>\n      <td>21.01</td>\n      <td>3.50</td>\n      <td>Male</td>\n      <td>No</td>\n      <td>Sun</td>\n      <td>Dinner</td>\n      <td>3</td>\n      <td>7.00</td>\n      <td>Travis Walters</td>\n      <td>6011812112971322</td>\n      <td>Sun4458</td>\n      <td>1322</td>\n      <td>$$$</td>\n    </tr>\n    <tr>\n      <th>3</th>\n      <td>23.68</td>\n      <td>3.31</td>\n      <td>Male</td>\n      <td>No</td>\n      <td>Sun</td>\n      <td>Dinner</td>\n      <td>2</td>\n      <td>11.84</td>\n      <td>Nathaniel Harris</td>\n      <td>4676137647685994</td>\n      <td>Sun5260</td>\n      <td>5994</td>\n      <td>$$$</td>\n    </tr>\n    <tr>\n      <th>4</th>\n      <td>24.59</td>\n      <td>3.61</td>\n      <td>Female</td>\n      <td>No</td>\n      <td>Sun</td>\n      <td>Dinner</td>\n      <td>4</td>\n      <td>6.15</td>\n      <td>Tonya Carter</td>\n      <td>4832732618637221</td>\n      <td>Sun2251</td>\n      <td>7221</td>\n      <td>$$$</td>\n    </tr>\n  </tbody>\n</table>\n</div>"
     },
     "metadata": {}
    }
   ]
  },
  {
   "cell_type": "code",
   "metadata": {
    "tags": [],
    "cell_id": "00011-da99526a-c1db-4e71-b1ad-c7ba0163643e",
    "deepnote_to_be_reexecuted": false,
    "source_hash": "9f189a48",
    "execution_start": 1622382410404,
    "execution_millis": 4,
    "deepnote_cell_type": "code"
   },
   "source": "#Multiple column",
   "execution_count": 12,
   "outputs": []
  },
  {
   "cell_type": "code",
   "metadata": {
    "tags": [],
    "cell_id": "00012-15e32531-0374-4ef1-b982-a93fd4b215f9",
    "deepnote_to_be_reexecuted": false,
    "source_hash": "3c0e5c07",
    "execution_start": 1622382410449,
    "execution_millis": 6,
    "deepnote_cell_type": "code"
   },
   "source": "#lambda expression\nlambda num:num*2",
   "execution_count": 13,
   "outputs": [
    {
     "output_type": "execute_result",
     "execution_count": 13,
     "data": {
      "text/plain": "<function __main__.<lambda>(num)>"
     },
     "metadata": {}
    }
   ]
  },
  {
   "cell_type": "code",
   "metadata": {
    "tags": [],
    "cell_id": "00013-e4196d40-32fe-4c08-a177-51dd04956648",
    "deepnote_to_be_reexecuted": false,
    "source_hash": "67efac48",
    "execution_start": 1622382410450,
    "execution_millis": 5,
    "deepnote_cell_type": "code"
   },
   "source": "df['total_bill'].apply(lambda num:num*2)",
   "execution_count": 14,
   "outputs": [
    {
     "output_type": "execute_result",
     "execution_count": 14,
     "data": {
      "text/plain": "0      33.98\n1      20.68\n2      42.02\n3      47.36\n4      49.18\n       ...  \n239    58.06\n240    54.36\n241    45.34\n242    35.64\n243    37.56\nName: total_bill, Length: 244, dtype: float64"
     },
     "metadata": {}
    }
   ]
  },
  {
   "cell_type": "code",
   "metadata": {
    "tags": [],
    "cell_id": "00014-ae4c46a6-8fcb-4a89-a105-c167746c5e1f",
    "deepnote_to_be_reexecuted": false,
    "source_hash": "5150c194",
    "execution_start": 1622382410451,
    "execution_millis": 4,
    "deepnote_cell_type": "code"
   },
   "source": "def quality(total_bill,tip):\n    if tip/total_bill >0.25:\n        return 'generous'\n    else:\n        return 'other'\n    \nquality(16.99,1.01)",
   "execution_count": 15,
   "outputs": [
    {
     "output_type": "execute_result",
     "execution_count": 15,
     "data": {
      "text/plain": "'other'"
     },
     "metadata": {}
    }
   ]
  },
  {
   "cell_type": "code",
   "metadata": {
    "tags": [],
    "cell_id": "00015-7dec5b63-fd68-42c8-be52-2d6b2cf1e2b4",
    "deepnote_to_be_reexecuted": false,
    "source_hash": "464303ae",
    "execution_start": 1622382410493,
    "execution_millis": 1,
    "deepnote_cell_type": "code"
   },
   "source": "df['quality']=df[['total_bill','tip']].apply(lambda df: quality(df['total_bill'],df['tip']),axis=1)",
   "execution_count": 16,
   "outputs": []
  },
  {
   "cell_type": "code",
   "metadata": {
    "tags": [],
    "cell_id": "00017-c47e1099-0489-4f01-b4f7-326943813a14",
    "deepnote_to_be_reexecuted": false,
    "source_hash": "69ea742b",
    "execution_start": 1622382410538,
    "execution_millis": 0,
    "deepnote_cell_type": "code"
   },
   "source": "df['quality']=np.vectorize(quality)(df['total_bill'],df['tip'])   #both of these are correct. vectorize is faster and somewhat easier.",
   "execution_count": 17,
   "outputs": []
  },
  {
   "cell_type": "code",
   "metadata": {
    "tags": [],
    "cell_id": "00017-d6ccdb19-4509-441f-9531-cc9f5956db61",
    "deepnote_to_be_reexecuted": false,
    "source_hash": "c085b6ba",
    "execution_start": 1622382410539,
    "execution_millis": 49,
    "deepnote_cell_type": "code"
   },
   "source": "df.head()",
   "execution_count": 18,
   "outputs": [
    {
     "output_type": "execute_result",
     "execution_count": 18,
     "data": {
      "application/vnd.deepnote.dataframe.v2+json": {
       "row_count": 5,
       "column_count": 14,
       "columns": [
        {
         "name": "total_bill",
         "dtype": "float64",
         "stats": {
          "unique_count": 5,
          "nan_count": 0,
          "min": "10.34",
          "max": "24.59",
          "histogram": [
           {
            "bin_start": 10.34,
            "bin_end": 11.765,
            "count": 1
           },
           {
            "bin_start": 11.765,
            "bin_end": 13.19,
            "count": 0
           },
           {
            "bin_start": 13.19,
            "bin_end": 14.615,
            "count": 0
           },
           {
            "bin_start": 14.615,
            "bin_end": 16.04,
            "count": 0
           },
           {
            "bin_start": 16.04,
            "bin_end": 17.465,
            "count": 1
           },
           {
            "bin_start": 17.465,
            "bin_end": 18.89,
            "count": 0
           },
           {
            "bin_start": 18.89,
            "bin_end": 20.314999999999998,
            "count": 0
           },
           {
            "bin_start": 20.314999999999998,
            "bin_end": 21.740000000000002,
            "count": 1
           },
           {
            "bin_start": 21.740000000000002,
            "bin_end": 23.165,
            "count": 0
           },
           {
            "bin_start": 23.165,
            "bin_end": 24.59,
            "count": 2
           }
          ]
         }
        },
        {
         "name": "tip",
         "dtype": "float64",
         "stats": {
          "unique_count": 5,
          "nan_count": 0,
          "min": "1.01",
          "max": "3.61",
          "histogram": [
           {
            "bin_start": 1.01,
            "bin_end": 1.27,
            "count": 1
           },
           {
            "bin_start": 1.27,
            "bin_end": 1.5299999999999998,
            "count": 0
           },
           {
            "bin_start": 1.5299999999999998,
            "bin_end": 1.7899999999999998,
            "count": 1
           },
           {
            "bin_start": 1.7899999999999998,
            "bin_end": 2.05,
            "count": 0
           },
           {
            "bin_start": 2.05,
            "bin_end": 2.3099999999999996,
            "count": 0
           },
           {
            "bin_start": 2.3099999999999996,
            "bin_end": 2.5699999999999994,
            "count": 0
           },
           {
            "bin_start": 2.5699999999999994,
            "bin_end": 2.8299999999999996,
            "count": 0
           },
           {
            "bin_start": 2.8299999999999996,
            "bin_end": 3.09,
            "count": 0
           },
           {
            "bin_start": 3.09,
            "bin_end": 3.3499999999999996,
            "count": 1
           },
           {
            "bin_start": 3.3499999999999996,
            "bin_end": 3.61,
            "count": 2
           }
          ]
         }
        },
        {
         "name": "sex",
         "dtype": "object",
         "stats": {
          "unique_count": 2,
          "nan_count": 0,
          "categories": [
           {
            "name": "Male",
            "count": 3
           },
           {
            "name": "Female",
            "count": 2
           }
          ]
         }
        },
        {
         "name": "smoker",
         "dtype": "object",
         "stats": {
          "unique_count": 1,
          "nan_count": 0,
          "categories": [
           {
            "name": "No",
            "count": 5
           }
          ]
         }
        },
        {
         "name": "day",
         "dtype": "object",
         "stats": {
          "unique_count": 1,
          "nan_count": 0,
          "categories": [
           {
            "name": "Sun",
            "count": 5
           }
          ]
         }
        },
        {
         "name": "time",
         "dtype": "object",
         "stats": {
          "unique_count": 1,
          "nan_count": 0,
          "categories": [
           {
            "name": "Dinner",
            "count": 5
           }
          ]
         }
        },
        {
         "name": "size",
         "dtype": "int64",
         "stats": {
          "unique_count": 3,
          "nan_count": 0,
          "min": "2",
          "max": "4",
          "histogram": [
           {
            "bin_start": 2,
            "bin_end": 2.2,
            "count": 2
           },
           {
            "bin_start": 2.2,
            "bin_end": 2.4,
            "count": 0
           },
           {
            "bin_start": 2.4,
            "bin_end": 2.6,
            "count": 0
           },
           {
            "bin_start": 2.6,
            "bin_end": 2.8,
            "count": 0
           },
           {
            "bin_start": 2.8,
            "bin_end": 3,
            "count": 0
           },
           {
            "bin_start": 3,
            "bin_end": 3.2,
            "count": 2
           },
           {
            "bin_start": 3.2,
            "bin_end": 3.4000000000000004,
            "count": 0
           },
           {
            "bin_start": 3.4000000000000004,
            "bin_end": 3.6,
            "count": 0
           },
           {
            "bin_start": 3.6,
            "bin_end": 3.8,
            "count": 0
           },
           {
            "bin_start": 3.8,
            "bin_end": 4,
            "count": 1
           }
          ]
         }
        },
        {
         "name": "price_per_person",
         "dtype": "float64",
         "stats": {
          "unique_count": 5,
          "nan_count": 0,
          "min": "3.45",
          "max": "11.84",
          "histogram": [
           {
            "bin_start": 3.45,
            "bin_end": 4.289000000000001,
            "count": 1
           },
           {
            "bin_start": 4.289000000000001,
            "bin_end": 5.128,
            "count": 0
           },
           {
            "bin_start": 5.128,
            "bin_end": 5.9670000000000005,
            "count": 0
           },
           {
            "bin_start": 5.9670000000000005,
            "bin_end": 6.806000000000001,
            "count": 1
           },
           {
            "bin_start": 6.806000000000001,
            "bin_end": 7.6450000000000005,
            "count": 1
           },
           {
            "bin_start": 7.6450000000000005,
            "bin_end": 8.484000000000002,
            "count": 0
           },
           {
            "bin_start": 8.484000000000002,
            "bin_end": 9.323,
            "count": 1
           },
           {
            "bin_start": 9.323,
            "bin_end": 10.162,
            "count": 0
           },
           {
            "bin_start": 10.162,
            "bin_end": 11.001000000000001,
            "count": 0
           },
           {
            "bin_start": 11.001000000000001,
            "bin_end": 11.84,
            "count": 1
           }
          ]
         }
        },
        {
         "name": "Payer Name",
         "dtype": "object",
         "stats": {
          "unique_count": 5,
          "nan_count": 0,
          "categories": [
           {
            "name": "Christy Cunningham",
            "count": 1
           },
           {
            "name": "Douglas Tucker",
            "count": 1
           },
           {
            "name": "3 others",
            "count": 3
           }
          ]
         }
        },
        {
         "name": "CC Number",
         "dtype": "int64",
         "stats": {
          "unique_count": 5,
          "nan_count": 0,
          "min": "3560325168603410",
          "max": "6011812112971322",
          "histogram": [
           {
            "bin_start": 3560325168603410,
            "bin_end": 3805473863040201,
            "count": 1
           },
           {
            "bin_start": 3805473863040201,
            "bin_end": 4050622557476992.5,
            "count": 0
           },
           {
            "bin_start": 4050622557476992.5,
            "bin_end": 4295771251913783.5,
            "count": 0
           },
           {
            "bin_start": 4295771251913783.5,
            "bin_end": 4540919946350575,
            "count": 1
           },
           {
            "bin_start": 4540919946350575,
            "bin_end": 4786068640787366,
            "count": 1
           },
           {
            "bin_start": 4786068640787366,
            "bin_end": 5031217335224157,
            "count": 1
           },
           {
            "bin_start": 5031217335224157,
            "bin_end": 5276366029660948,
            "count": 0
           },
           {
            "bin_start": 5276366029660948,
            "bin_end": 5521514724097740,
            "count": 0
           },
           {
            "bin_start": 5521514724097740,
            "bin_end": 5766663418534531,
            "count": 0
           },
           {
            "bin_start": 5766663418534531,
            "bin_end": 6011812112971322,
            "count": 1
           }
          ]
         }
        },
        {
         "name": "Payment ID",
         "dtype": "object",
         "stats": {
          "unique_count": 5,
          "nan_count": 0,
          "categories": [
           {
            "name": "Sun2959",
            "count": 1
           },
           {
            "name": "Sun4608",
            "count": 1
           },
           {
            "name": "3 others",
            "count": 3
           }
          ]
         }
        },
        {
         "name": "last_four",
         "dtype": "object",
         "stats": {
          "unique_count": 5,
          "nan_count": 0,
          "categories": [
           {
            "name": "3410",
            "count": 1
           },
           {
            "name": "9230",
            "count": 1
           },
           {
            "name": "3 others",
            "count": 3
           }
          ]
         }
        },
        {
         "name": "yelp",
         "dtype": "object",
         "stats": {
          "unique_count": 2,
          "nan_count": 0,
          "categories": [
           {
            "name": "$$$",
            "count": 3
           },
           {
            "name": "$$",
            "count": 2
           }
          ]
         }
        },
        {
         "name": "quality",
         "dtype": "object",
         "stats": {
          "unique_count": 1,
          "nan_count": 0,
          "categories": [
           {
            "name": "other",
            "count": 5
           }
          ]
         }
        },
        {
         "name": "_deepnote_index_column",
         "dtype": "int64"
        }
       ],
       "rows_top": [
        {
         "total_bill": 16.99,
         "tip": 1.01,
         "sex": "Female",
         "smoker": "No",
         "day": "Sun",
         "time": "Dinner",
         "size": 2,
         "price_per_person": 8.49,
         "Payer Name": "Christy Cunningham",
         "CC Number": 3560325168603410,
         "Payment ID": "Sun2959",
         "last_four": "3410",
         "yelp": "$$",
         "quality": "other",
         "_deepnote_index_column": 0
        },
        {
         "total_bill": 10.34,
         "tip": 1.66,
         "sex": "Male",
         "smoker": "No",
         "day": "Sun",
         "time": "Dinner",
         "size": 3,
         "price_per_person": 3.45,
         "Payer Name": "Douglas Tucker",
         "CC Number": 4478071379779230,
         "Payment ID": "Sun4608",
         "last_four": "9230",
         "yelp": "$$",
         "quality": "other",
         "_deepnote_index_column": 1
        },
        {
         "total_bill": 21.01,
         "tip": 3.5,
         "sex": "Male",
         "smoker": "No",
         "day": "Sun",
         "time": "Dinner",
         "size": 3,
         "price_per_person": 7,
         "Payer Name": "Travis Walters",
         "CC Number": 6011812112971322,
         "Payment ID": "Sun4458",
         "last_four": "1322",
         "yelp": "$$$",
         "quality": "other",
         "_deepnote_index_column": 2
        },
        {
         "total_bill": 23.68,
         "tip": 3.31,
         "sex": "Male",
         "smoker": "No",
         "day": "Sun",
         "time": "Dinner",
         "size": 2,
         "price_per_person": 11.84,
         "Payer Name": "Nathaniel Harris",
         "CC Number": 4676137647685994,
         "Payment ID": "Sun5260",
         "last_four": "5994",
         "yelp": "$$$",
         "quality": "other",
         "_deepnote_index_column": 3
        },
        {
         "total_bill": 24.59,
         "tip": 3.61,
         "sex": "Female",
         "smoker": "No",
         "day": "Sun",
         "time": "Dinner",
         "size": 4,
         "price_per_person": 6.15,
         "Payer Name": "Tonya Carter",
         "CC Number": 4832732618637221,
         "Payment ID": "Sun2251",
         "last_four": "7221",
         "yelp": "$$$",
         "quality": "other",
         "_deepnote_index_column": 4
        }
       ],
       "rows_bottom": null
      },
      "text/plain": "   total_bill   tip     sex smoker  day    time  size  price_per_person  \\\n0       16.99  1.01  Female     No  Sun  Dinner     2              8.49   \n1       10.34  1.66    Male     No  Sun  Dinner     3              3.45   \n2       21.01  3.50    Male     No  Sun  Dinner     3              7.00   \n3       23.68  3.31    Male     No  Sun  Dinner     2             11.84   \n4       24.59  3.61  Female     No  Sun  Dinner     4              6.15   \n\n           Payer Name         CC Number Payment ID last_four yelp quality  \n0  Christy Cunningham  3560325168603410    Sun2959      3410   $$   other  \n1      Douglas Tucker  4478071379779230    Sun4608      9230   $$   other  \n2      Travis Walters  6011812112971322    Sun4458      1322  $$$   other  \n3    Nathaniel Harris  4676137647685994    Sun5260      5994  $$$   other  \n4        Tonya Carter  4832732618637221    Sun2251      7221  $$$   other  ",
      "text/html": "<div>\n<style scoped>\n    .dataframe tbody tr th:only-of-type {\n        vertical-align: middle;\n    }\n\n    .dataframe tbody tr th {\n        vertical-align: top;\n    }\n\n    .dataframe thead th {\n        text-align: right;\n    }\n</style>\n<table border=\"1\" class=\"dataframe\">\n  <thead>\n    <tr style=\"text-align: right;\">\n      <th></th>\n      <th>total_bill</th>\n      <th>tip</th>\n      <th>sex</th>\n      <th>smoker</th>\n      <th>day</th>\n      <th>time</th>\n      <th>size</th>\n      <th>price_per_person</th>\n      <th>Payer Name</th>\n      <th>CC Number</th>\n      <th>Payment ID</th>\n      <th>last_four</th>\n      <th>yelp</th>\n      <th>quality</th>\n    </tr>\n  </thead>\n  <tbody>\n    <tr>\n      <th>0</th>\n      <td>16.99</td>\n      <td>1.01</td>\n      <td>Female</td>\n      <td>No</td>\n      <td>Sun</td>\n      <td>Dinner</td>\n      <td>2</td>\n      <td>8.49</td>\n      <td>Christy Cunningham</td>\n      <td>3560325168603410</td>\n      <td>Sun2959</td>\n      <td>3410</td>\n      <td>$$</td>\n      <td>other</td>\n    </tr>\n    <tr>\n      <th>1</th>\n      <td>10.34</td>\n      <td>1.66</td>\n      <td>Male</td>\n      <td>No</td>\n      <td>Sun</td>\n      <td>Dinner</td>\n      <td>3</td>\n      <td>3.45</td>\n      <td>Douglas Tucker</td>\n      <td>4478071379779230</td>\n      <td>Sun4608</td>\n      <td>9230</td>\n      <td>$$</td>\n      <td>other</td>\n    </tr>\n    <tr>\n      <th>2</th>\n      <td>21.01</td>\n      <td>3.50</td>\n      <td>Male</td>\n      <td>No</td>\n      <td>Sun</td>\n      <td>Dinner</td>\n      <td>3</td>\n      <td>7.00</td>\n      <td>Travis Walters</td>\n      <td>6011812112971322</td>\n      <td>Sun4458</td>\n      <td>1322</td>\n      <td>$$$</td>\n      <td>other</td>\n    </tr>\n    <tr>\n      <th>3</th>\n      <td>23.68</td>\n      <td>3.31</td>\n      <td>Male</td>\n      <td>No</td>\n      <td>Sun</td>\n      <td>Dinner</td>\n      <td>2</td>\n      <td>11.84</td>\n      <td>Nathaniel Harris</td>\n      <td>4676137647685994</td>\n      <td>Sun5260</td>\n      <td>5994</td>\n      <td>$$$</td>\n      <td>other</td>\n    </tr>\n    <tr>\n      <th>4</th>\n      <td>24.59</td>\n      <td>3.61</td>\n      <td>Female</td>\n      <td>No</td>\n      <td>Sun</td>\n      <td>Dinner</td>\n      <td>4</td>\n      <td>6.15</td>\n      <td>Tonya Carter</td>\n      <td>4832732618637221</td>\n      <td>Sun2251</td>\n      <td>7221</td>\n      <td>$$$</td>\n      <td>other</td>\n    </tr>\n  </tbody>\n</table>\n</div>"
     },
     "metadata": {}
    }
   ]
  },
  {
   "cell_type": "code",
   "metadata": {
    "tags": [],
    "cell_id": "00018-fe8b62d7-7915-4ba9-b976-b910e3cf592a",
    "deepnote_to_be_reexecuted": false,
    "source_hash": "7ba6b303",
    "execution_start": 1622382410585,
    "execution_millis": 4,
    "deepnote_cell_type": "code"
   },
   "source": "#Statistical information and storting",
   "execution_count": 19,
   "outputs": []
  },
  {
   "cell_type": "code",
   "metadata": {
    "tags": [],
    "cell_id": "00019-971772a1-47aa-495a-aa21-2671eb2b5d9b",
    "deepnote_to_be_reexecuted": false,
    "source_hash": "92705593",
    "execution_start": 1622382410634,
    "execution_millis": 0,
    "deepnote_cell_type": "code"
   },
   "source": "df=pd.read_csv(\"tips.csv\")",
   "execution_count": 20,
   "outputs": []
  },
  {
   "cell_type": "code",
   "metadata": {
    "tags": [],
    "cell_id": "00020-25a2f555-e39a-4408-ba65-a26b2ceb0c19",
    "deepnote_to_be_reexecuted": false,
    "source_hash": "c085b6ba",
    "execution_start": 1622382410658,
    "execution_millis": 9,
    "deepnote_cell_type": "code"
   },
   "source": "df.head()",
   "execution_count": 21,
   "outputs": [
    {
     "output_type": "execute_result",
     "execution_count": 21,
     "data": {
      "application/vnd.deepnote.dataframe.v2+json": {
       "row_count": 5,
       "column_count": 11,
       "columns": [
        {
         "name": "total_bill",
         "dtype": "float64",
         "stats": {
          "unique_count": 5,
          "nan_count": 0,
          "min": "10.34",
          "max": "24.59",
          "histogram": [
           {
            "bin_start": 10.34,
            "bin_end": 11.765,
            "count": 1
           },
           {
            "bin_start": 11.765,
            "bin_end": 13.19,
            "count": 0
           },
           {
            "bin_start": 13.19,
            "bin_end": 14.615,
            "count": 0
           },
           {
            "bin_start": 14.615,
            "bin_end": 16.04,
            "count": 0
           },
           {
            "bin_start": 16.04,
            "bin_end": 17.465,
            "count": 1
           },
           {
            "bin_start": 17.465,
            "bin_end": 18.89,
            "count": 0
           },
           {
            "bin_start": 18.89,
            "bin_end": 20.314999999999998,
            "count": 0
           },
           {
            "bin_start": 20.314999999999998,
            "bin_end": 21.740000000000002,
            "count": 1
           },
           {
            "bin_start": 21.740000000000002,
            "bin_end": 23.165,
            "count": 0
           },
           {
            "bin_start": 23.165,
            "bin_end": 24.59,
            "count": 2
           }
          ]
         }
        },
        {
         "name": "tip",
         "dtype": "float64",
         "stats": {
          "unique_count": 5,
          "nan_count": 0,
          "min": "1.01",
          "max": "3.61",
          "histogram": [
           {
            "bin_start": 1.01,
            "bin_end": 1.27,
            "count": 1
           },
           {
            "bin_start": 1.27,
            "bin_end": 1.5299999999999998,
            "count": 0
           },
           {
            "bin_start": 1.5299999999999998,
            "bin_end": 1.7899999999999998,
            "count": 1
           },
           {
            "bin_start": 1.7899999999999998,
            "bin_end": 2.05,
            "count": 0
           },
           {
            "bin_start": 2.05,
            "bin_end": 2.3099999999999996,
            "count": 0
           },
           {
            "bin_start": 2.3099999999999996,
            "bin_end": 2.5699999999999994,
            "count": 0
           },
           {
            "bin_start": 2.5699999999999994,
            "bin_end": 2.8299999999999996,
            "count": 0
           },
           {
            "bin_start": 2.8299999999999996,
            "bin_end": 3.09,
            "count": 0
           },
           {
            "bin_start": 3.09,
            "bin_end": 3.3499999999999996,
            "count": 1
           },
           {
            "bin_start": 3.3499999999999996,
            "bin_end": 3.61,
            "count": 2
           }
          ]
         }
        },
        {
         "name": "sex",
         "dtype": "object",
         "stats": {
          "unique_count": 2,
          "nan_count": 0,
          "categories": [
           {
            "name": "Male",
            "count": 3
           },
           {
            "name": "Female",
            "count": 2
           }
          ]
         }
        },
        {
         "name": "smoker",
         "dtype": "object",
         "stats": {
          "unique_count": 1,
          "nan_count": 0,
          "categories": [
           {
            "name": "No",
            "count": 5
           }
          ]
         }
        },
        {
         "name": "day",
         "dtype": "object",
         "stats": {
          "unique_count": 1,
          "nan_count": 0,
          "categories": [
           {
            "name": "Sun",
            "count": 5
           }
          ]
         }
        },
        {
         "name": "time",
         "dtype": "object",
         "stats": {
          "unique_count": 1,
          "nan_count": 0,
          "categories": [
           {
            "name": "Dinner",
            "count": 5
           }
          ]
         }
        },
        {
         "name": "size",
         "dtype": "int64",
         "stats": {
          "unique_count": 3,
          "nan_count": 0,
          "min": "2",
          "max": "4",
          "histogram": [
           {
            "bin_start": 2,
            "bin_end": 2.2,
            "count": 2
           },
           {
            "bin_start": 2.2,
            "bin_end": 2.4,
            "count": 0
           },
           {
            "bin_start": 2.4,
            "bin_end": 2.6,
            "count": 0
           },
           {
            "bin_start": 2.6,
            "bin_end": 2.8,
            "count": 0
           },
           {
            "bin_start": 2.8,
            "bin_end": 3,
            "count": 0
           },
           {
            "bin_start": 3,
            "bin_end": 3.2,
            "count": 2
           },
           {
            "bin_start": 3.2,
            "bin_end": 3.4000000000000004,
            "count": 0
           },
           {
            "bin_start": 3.4000000000000004,
            "bin_end": 3.6,
            "count": 0
           },
           {
            "bin_start": 3.6,
            "bin_end": 3.8,
            "count": 0
           },
           {
            "bin_start": 3.8,
            "bin_end": 4,
            "count": 1
           }
          ]
         }
        },
        {
         "name": "price_per_person",
         "dtype": "float64",
         "stats": {
          "unique_count": 5,
          "nan_count": 0,
          "min": "3.45",
          "max": "11.84",
          "histogram": [
           {
            "bin_start": 3.45,
            "bin_end": 4.289000000000001,
            "count": 1
           },
           {
            "bin_start": 4.289000000000001,
            "bin_end": 5.128,
            "count": 0
           },
           {
            "bin_start": 5.128,
            "bin_end": 5.9670000000000005,
            "count": 0
           },
           {
            "bin_start": 5.9670000000000005,
            "bin_end": 6.806000000000001,
            "count": 1
           },
           {
            "bin_start": 6.806000000000001,
            "bin_end": 7.6450000000000005,
            "count": 1
           },
           {
            "bin_start": 7.6450000000000005,
            "bin_end": 8.484000000000002,
            "count": 0
           },
           {
            "bin_start": 8.484000000000002,
            "bin_end": 9.323,
            "count": 1
           },
           {
            "bin_start": 9.323,
            "bin_end": 10.162,
            "count": 0
           },
           {
            "bin_start": 10.162,
            "bin_end": 11.001000000000001,
            "count": 0
           },
           {
            "bin_start": 11.001000000000001,
            "bin_end": 11.84,
            "count": 1
           }
          ]
         }
        },
        {
         "name": "Payer Name",
         "dtype": "object",
         "stats": {
          "unique_count": 5,
          "nan_count": 0,
          "categories": [
           {
            "name": "Christy Cunningham",
            "count": 1
           },
           {
            "name": "Douglas Tucker",
            "count": 1
           },
           {
            "name": "3 others",
            "count": 3
           }
          ]
         }
        },
        {
         "name": "CC Number",
         "dtype": "int64",
         "stats": {
          "unique_count": 5,
          "nan_count": 0,
          "min": "3560325168603410",
          "max": "6011812112971322",
          "histogram": [
           {
            "bin_start": 3560325168603410,
            "bin_end": 3805473863040201,
            "count": 1
           },
           {
            "bin_start": 3805473863040201,
            "bin_end": 4050622557476992.5,
            "count": 0
           },
           {
            "bin_start": 4050622557476992.5,
            "bin_end": 4295771251913783.5,
            "count": 0
           },
           {
            "bin_start": 4295771251913783.5,
            "bin_end": 4540919946350575,
            "count": 1
           },
           {
            "bin_start": 4540919946350575,
            "bin_end": 4786068640787366,
            "count": 1
           },
           {
            "bin_start": 4786068640787366,
            "bin_end": 5031217335224157,
            "count": 1
           },
           {
            "bin_start": 5031217335224157,
            "bin_end": 5276366029660948,
            "count": 0
           },
           {
            "bin_start": 5276366029660948,
            "bin_end": 5521514724097740,
            "count": 0
           },
           {
            "bin_start": 5521514724097740,
            "bin_end": 5766663418534531,
            "count": 0
           },
           {
            "bin_start": 5766663418534531,
            "bin_end": 6011812112971322,
            "count": 1
           }
          ]
         }
        },
        {
         "name": "Payment ID",
         "dtype": "object",
         "stats": {
          "unique_count": 5,
          "nan_count": 0,
          "categories": [
           {
            "name": "Sun2959",
            "count": 1
           },
           {
            "name": "Sun4608",
            "count": 1
           },
           {
            "name": "3 others",
            "count": 3
           }
          ]
         }
        },
        {
         "name": "_deepnote_index_column",
         "dtype": "int64"
        }
       ],
       "rows_top": [
        {
         "total_bill": 16.99,
         "tip": 1.01,
         "sex": "Female",
         "smoker": "No",
         "day": "Sun",
         "time": "Dinner",
         "size": 2,
         "price_per_person": 8.49,
         "Payer Name": "Christy Cunningham",
         "CC Number": 3560325168603410,
         "Payment ID": "Sun2959",
         "_deepnote_index_column": 0
        },
        {
         "total_bill": 10.34,
         "tip": 1.66,
         "sex": "Male",
         "smoker": "No",
         "day": "Sun",
         "time": "Dinner",
         "size": 3,
         "price_per_person": 3.45,
         "Payer Name": "Douglas Tucker",
         "CC Number": 4478071379779230,
         "Payment ID": "Sun4608",
         "_deepnote_index_column": 1
        },
        {
         "total_bill": 21.01,
         "tip": 3.5,
         "sex": "Male",
         "smoker": "No",
         "day": "Sun",
         "time": "Dinner",
         "size": 3,
         "price_per_person": 7,
         "Payer Name": "Travis Walters",
         "CC Number": 6011812112971322,
         "Payment ID": "Sun4458",
         "_deepnote_index_column": 2
        },
        {
         "total_bill": 23.68,
         "tip": 3.31,
         "sex": "Male",
         "smoker": "No",
         "day": "Sun",
         "time": "Dinner",
         "size": 2,
         "price_per_person": 11.84,
         "Payer Name": "Nathaniel Harris",
         "CC Number": 4676137647685994,
         "Payment ID": "Sun5260",
         "_deepnote_index_column": 3
        },
        {
         "total_bill": 24.59,
         "tip": 3.61,
         "sex": "Female",
         "smoker": "No",
         "day": "Sun",
         "time": "Dinner",
         "size": 4,
         "price_per_person": 6.15,
         "Payer Name": "Tonya Carter",
         "CC Number": 4832732618637221,
         "Payment ID": "Sun2251",
         "_deepnote_index_column": 4
        }
       ],
       "rows_bottom": null
      },
      "text/plain": "   total_bill   tip     sex smoker  day    time  size  price_per_person  \\\n0       16.99  1.01  Female     No  Sun  Dinner     2              8.49   \n1       10.34  1.66    Male     No  Sun  Dinner     3              3.45   \n2       21.01  3.50    Male     No  Sun  Dinner     3              7.00   \n3       23.68  3.31    Male     No  Sun  Dinner     2             11.84   \n4       24.59  3.61  Female     No  Sun  Dinner     4              6.15   \n\n           Payer Name         CC Number Payment ID  \n0  Christy Cunningham  3560325168603410    Sun2959  \n1      Douglas Tucker  4478071379779230    Sun4608  \n2      Travis Walters  6011812112971322    Sun4458  \n3    Nathaniel Harris  4676137647685994    Sun5260  \n4        Tonya Carter  4832732618637221    Sun2251  ",
      "text/html": "<div>\n<style scoped>\n    .dataframe tbody tr th:only-of-type {\n        vertical-align: middle;\n    }\n\n    .dataframe tbody tr th {\n        vertical-align: top;\n    }\n\n    .dataframe thead th {\n        text-align: right;\n    }\n</style>\n<table border=\"1\" class=\"dataframe\">\n  <thead>\n    <tr style=\"text-align: right;\">\n      <th></th>\n      <th>total_bill</th>\n      <th>tip</th>\n      <th>sex</th>\n      <th>smoker</th>\n      <th>day</th>\n      <th>time</th>\n      <th>size</th>\n      <th>price_per_person</th>\n      <th>Payer Name</th>\n      <th>CC Number</th>\n      <th>Payment ID</th>\n    </tr>\n  </thead>\n  <tbody>\n    <tr>\n      <th>0</th>\n      <td>16.99</td>\n      <td>1.01</td>\n      <td>Female</td>\n      <td>No</td>\n      <td>Sun</td>\n      <td>Dinner</td>\n      <td>2</td>\n      <td>8.49</td>\n      <td>Christy Cunningham</td>\n      <td>3560325168603410</td>\n      <td>Sun2959</td>\n    </tr>\n    <tr>\n      <th>1</th>\n      <td>10.34</td>\n      <td>1.66</td>\n      <td>Male</td>\n      <td>No</td>\n      <td>Sun</td>\n      <td>Dinner</td>\n      <td>3</td>\n      <td>3.45</td>\n      <td>Douglas Tucker</td>\n      <td>4478071379779230</td>\n      <td>Sun4608</td>\n    </tr>\n    <tr>\n      <th>2</th>\n      <td>21.01</td>\n      <td>3.50</td>\n      <td>Male</td>\n      <td>No</td>\n      <td>Sun</td>\n      <td>Dinner</td>\n      <td>3</td>\n      <td>7.00</td>\n      <td>Travis Walters</td>\n      <td>6011812112971322</td>\n      <td>Sun4458</td>\n    </tr>\n    <tr>\n      <th>3</th>\n      <td>23.68</td>\n      <td>3.31</td>\n      <td>Male</td>\n      <td>No</td>\n      <td>Sun</td>\n      <td>Dinner</td>\n      <td>2</td>\n      <td>11.84</td>\n      <td>Nathaniel Harris</td>\n      <td>4676137647685994</td>\n      <td>Sun5260</td>\n    </tr>\n    <tr>\n      <th>4</th>\n      <td>24.59</td>\n      <td>3.61</td>\n      <td>Female</td>\n      <td>No</td>\n      <td>Sun</td>\n      <td>Dinner</td>\n      <td>4</td>\n      <td>6.15</td>\n      <td>Tonya Carter</td>\n      <td>4832732618637221</td>\n      <td>Sun2251</td>\n    </tr>\n  </tbody>\n</table>\n</div>"
     },
     "metadata": {}
    }
   ]
  },
  {
   "cell_type": "code",
   "metadata": {
    "tags": [],
    "cell_id": "00021-970a1fbc-9aa8-41c7-9b21-786496cf54fc",
    "deepnote_to_be_reexecuted": false,
    "source_hash": "67e7e248",
    "execution_start": 1622382410667,
    "execution_millis": 65,
    "deepnote_cell_type": "code"
   },
   "source": "df.describe().transpose()",
   "execution_count": 22,
   "outputs": [
    {
     "output_type": "execute_result",
     "execution_count": 22,
     "data": {
      "application/vnd.deepnote.dataframe.v2+json": {
       "row_count": 5,
       "column_count": 8,
       "columns": [
        {
         "name": "count",
         "dtype": "float64",
         "stats": {
          "unique_count": 1,
          "nan_count": 0,
          "min": "244.0",
          "max": "244.0",
          "histogram": [
           {
            "bin_start": 243.5,
            "bin_end": 243.6,
            "count": 0
           },
           {
            "bin_start": 243.6,
            "bin_end": 243.7,
            "count": 0
           },
           {
            "bin_start": 243.7,
            "bin_end": 243.8,
            "count": 0
           },
           {
            "bin_start": 243.8,
            "bin_end": 243.9,
            "count": 0
           },
           {
            "bin_start": 243.9,
            "bin_end": 244,
            "count": 0
           },
           {
            "bin_start": 244,
            "bin_end": 244.1,
            "count": 5
           },
           {
            "bin_start": 244.1,
            "bin_end": 244.2,
            "count": 0
           },
           {
            "bin_start": 244.2,
            "bin_end": 244.3,
            "count": 0
           },
           {
            "bin_start": 244.3,
            "bin_end": 244.4,
            "count": 0
           },
           {
            "bin_start": 244.4,
            "bin_end": 244.5,
            "count": 0
           }
          ]
         }
        },
        {
         "name": "mean",
         "dtype": "float64",
         "stats": {
          "unique_count": 5,
          "nan_count": 0,
          "min": "2.569672131147541",
          "max": "2563495562019613.0",
          "histogram": [
           {
            "bin_start": 2.569672131147541,
            "bin_end": 256349556201963.62,
            "count": 4
           },
           {
            "bin_start": 256349556201963.62,
            "bin_end": 512699112403924.7,
            "count": 0
           },
           {
            "bin_start": 512699112403924.7,
            "bin_end": 769048668605885.9,
            "count": 0
           },
           {
            "bin_start": 769048668605885.9,
            "bin_end": 1025398224807846.9,
            "count": 0
           },
           {
            "bin_start": 1025398224807846.9,
            "bin_end": 1281747781009807.8,
            "count": 0
           },
           {
            "bin_start": 1281747781009807.8,
            "bin_end": 1538097337211769,
            "count": 0
           },
           {
            "bin_start": 1538097337211769,
            "bin_end": 1794446893413730,
            "count": 0
           },
           {
            "bin_start": 1794446893413730,
            "bin_end": 2050796449615691,
            "count": 0
           },
           {
            "bin_start": 2050796449615691,
            "bin_end": 2307146005817652,
            "count": 0
           },
           {
            "bin_start": 2307146005817652,
            "bin_end": 2563495562019613,
            "count": 1
           }
          ]
         }
        },
        {
         "name": "std",
         "dtype": "float64",
         "stats": {
          "unique_count": 5,
          "nan_count": 0,
          "min": "0.9510998047322344",
          "max": "2369339882289543.5",
          "histogram": [
           {
            "bin_start": 0.9510998047322344,
            "bin_end": 236933988228955.2,
            "count": 4
           },
           {
            "bin_start": 236933988228955.2,
            "bin_end": 473867976457909.44,
            "count": 0
           },
           {
            "bin_start": 473867976457909.44,
            "bin_end": 710801964686863.8,
            "count": 0
           },
           {
            "bin_start": 710801964686863.8,
            "bin_end": 947735952915818,
            "count": 0
           },
           {
            "bin_start": 947735952915818,
            "bin_end": 1184669941144772.2,
            "count": 0
           },
           {
            "bin_start": 1184669941144772.2,
            "bin_end": 1421603929373726.5,
            "count": 0
           },
           {
            "bin_start": 1421603929373726.5,
            "bin_end": 1658537917602680.8,
            "count": 0
           },
           {
            "bin_start": 1658537917602680.8,
            "bin_end": 1895471905831635,
            "count": 0
           },
           {
            "bin_start": 1895471905831635,
            "bin_end": 2132405894060589.2,
            "count": 0
           },
           {
            "bin_start": 2132405894060589.2,
            "bin_end": 2369339882289543.5,
            "count": 1
           }
          ]
         }
        },
        {
         "name": "min",
         "dtype": "float64",
         "stats": {
          "unique_count": 4,
          "nan_count": 0,
          "min": "1.0",
          "max": "60406789937.0",
          "histogram": [
           {
            "bin_start": 1,
            "bin_end": 6040678994.6,
            "count": 4
           },
           {
            "bin_start": 6040678994.6,
            "bin_end": 12081357988.2,
            "count": 0
           },
           {
            "bin_start": 12081357988.2,
            "bin_end": 18122036981.800003,
            "count": 0
           },
           {
            "bin_start": 18122036981.800003,
            "bin_end": 24162715975.4,
            "count": 0
           },
           {
            "bin_start": 24162715975.4,
            "bin_end": 30203394969,
            "count": 0
           },
           {
            "bin_start": 30203394969,
            "bin_end": 36244073962.600006,
            "count": 0
           },
           {
            "bin_start": 36244073962.600006,
            "bin_end": 42284752956.200005,
            "count": 0
           },
           {
            "bin_start": 42284752956.200005,
            "bin_end": 48325431949.8,
            "count": 0
           },
           {
            "bin_start": 48325431949.8,
            "bin_end": 54366110943.4,
            "count": 0
           },
           {
            "bin_start": 54366110943.4,
            "bin_end": 60406789937,
            "count": 1
           }
          ]
         }
        },
        {
         "name": "25%",
         "dtype": "float64",
         "stats": {
          "unique_count": 4,
          "nan_count": 0,
          "min": "2.0",
          "max": "30407308242440.0",
          "histogram": [
           {
            "bin_start": 2,
            "bin_end": 3040730824245.8,
            "count": 4
           },
           {
            "bin_start": 3040730824245.8,
            "bin_end": 6081461648489.6,
            "count": 0
           },
           {
            "bin_start": 6081461648489.6,
            "bin_end": 9122192472733.398,
            "count": 0
           },
           {
            "bin_start": 9122192472733.398,
            "bin_end": 12162923296977.2,
            "count": 0
           },
           {
            "bin_start": 12162923296977.2,
            "bin_end": 15203654121221,
            "count": 0
           },
           {
            "bin_start": 15203654121221,
            "bin_end": 18244384945464.797,
            "count": 0
           },
           {
            "bin_start": 18244384945464.797,
            "bin_end": 21285115769708.598,
            "count": 0
           },
           {
            "bin_start": 21285115769708.598,
            "bin_end": 24325846593952.4,
            "count": 0
           },
           {
            "bin_start": 24325846593952.4,
            "bin_end": 27366577418196.2,
            "count": 0
           },
           {
            "bin_start": 27366577418196.2,
            "bin_end": 30407308242440,
            "count": 1
           }
          ]
         }
        },
        {
         "name": "50%",
         "dtype": "float64",
         "stats": {
          "unique_count": 5,
          "nan_count": 0,
          "min": "2.0",
          "max": "3525317610005860.5",
          "histogram": [
           {
            "bin_start": 2,
            "bin_end": 352531761000587.9,
            "count": 4
           },
           {
            "bin_start": 352531761000587.9,
            "bin_end": 705063522001173.8,
            "count": 0
           },
           {
            "bin_start": 705063522001173.8,
            "bin_end": 1057595283001759.6,
            "count": 0
           },
           {
            "bin_start": 1057595283001759.6,
            "bin_end": 1410127044002345.5,
            "count": 0
           },
           {
            "bin_start": 1410127044002345.5,
            "bin_end": 1762658805002931.5,
            "count": 0
           },
           {
            "bin_start": 1762658805002931.5,
            "bin_end": 2115190566003517.2,
            "count": 0
           },
           {
            "bin_start": 2115190566003517.2,
            "bin_end": 2467722327004103,
            "count": 0
           },
           {
            "bin_start": 2467722327004103,
            "bin_end": 2820254088004689,
            "count": 0
           },
           {
            "bin_start": 2820254088004689,
            "bin_end": 3172785849005275,
            "count": 0
           },
           {
            "bin_start": 3172785849005275,
            "bin_end": 3525317610005860.5,
            "count": 1
           }
          ]
         }
        },
        {
         "name": "75%",
         "dtype": "float64",
         "stats": {
          "unique_count": 5,
          "nan_count": 0,
          "min": "3.0",
          "max": "4553675399499020.0",
          "histogram": [
           {
            "bin_start": 3,
            "bin_end": 455367539949904.7,
            "count": 4
           },
           {
            "bin_start": 455367539949904.7,
            "bin_end": 910735079899806.4,
            "count": 0
           },
           {
            "bin_start": 910735079899806.4,
            "bin_end": 1366102619849708,
            "count": 0
           },
           {
            "bin_start": 1366102619849708,
            "bin_end": 1821470159799609.8,
            "count": 0
           },
           {
            "bin_start": 1821470159799609.8,
            "bin_end": 2276837699749511.5,
            "count": 0
           },
           {
            "bin_start": 2276837699749511.5,
            "bin_end": 2732205239699413,
            "count": 0
           },
           {
            "bin_start": 2732205239699413,
            "bin_end": 3187572779649315,
            "count": 0
           },
           {
            "bin_start": 3187572779649315,
            "bin_end": 3642940319599216.5,
            "count": 0
           },
           {
            "bin_start": 3642940319599216.5,
            "bin_end": 4098307859549118,
            "count": 0
           },
           {
            "bin_start": 4098307859549118,
            "bin_end": 4553675399499020,
            "count": 1
           }
          ]
         }
        },
        {
         "name": "max",
         "dtype": "float64",
         "stats": {
          "unique_count": 5,
          "nan_count": 0,
          "min": "6.0",
          "max": "6596453823950595.0",
          "histogram": [
           {
            "bin_start": 6,
            "bin_end": 659645382395064.9,
            "count": 4
           },
           {
            "bin_start": 659645382395064.9,
            "bin_end": 1319290764790123.8,
            "count": 0
           },
           {
            "bin_start": 1319290764790123.8,
            "bin_end": 1978936147185182.5,
            "count": 0
           },
           {
            "bin_start": 1978936147185182.5,
            "bin_end": 2638581529580241.5,
            "count": 0
           },
           {
            "bin_start": 2638581529580241.5,
            "bin_end": 3298226911975300.5,
            "count": 0
           },
           {
            "bin_start": 3298226911975300.5,
            "bin_end": 3957872294370359,
            "count": 0
           },
           {
            "bin_start": 3957872294370359,
            "bin_end": 4617517676765418,
            "count": 0
           },
           {
            "bin_start": 4617517676765418,
            "bin_end": 5277163059160477,
            "count": 0
           },
           {
            "bin_start": 5277163059160477,
            "bin_end": 5936808441555536,
            "count": 0
           },
           {
            "bin_start": 5936808441555536,
            "bin_end": 6596453823950595,
            "count": 1
           }
          ]
         }
        },
        {
         "name": "_deepnote_index_column",
         "dtype": "object"
        }
       ],
       "rows_top": [
        {
         "count": 244,
         "mean": 19.78594262295082,
         "std": 8.902411954856856,
         "min": 3.07,
         "25%": 13.3475,
         "50%": 17.795,
         "75%": 24.127499999999998,
         "max": 50.81,
         "_deepnote_index_column": "total_bill"
        },
        {
         "count": 244,
         "mean": 2.99827868852459,
         "std": 1.3836381890011822,
         "min": 1,
         "25%": 2,
         "50%": 2.9,
         "75%": 3.5624999999999996,
         "max": 10,
         "_deepnote_index_column": "tip"
        },
        {
         "count": 244,
         "mean": 2.569672131147541,
         "std": 0.9510998047322344,
         "min": 1,
         "25%": 2,
         "50%": 2,
         "75%": 3,
         "max": 6,
         "_deepnote_index_column": "size"
        },
        {
         "count": 244,
         "mean": 7.888196721311474,
         "std": 2.9142341225118225,
         "min": 2.88,
         "25%": 5.8,
         "50%": 7.255,
         "75%": 9.39,
         "max": 20.27,
         "_deepnote_index_column": "price_per_person"
        },
        {
         "count": 244,
         "mean": 2563495562019613,
         "std": 2369339882289543.5,
         "min": 60406789937,
         "25%": 30407308242440,
         "50%": 3525317610005860.5,
         "75%": 4553675399499020,
         "max": 6596453823950595,
         "_deepnote_index_column": "CC Number"
        }
       ],
       "rows_bottom": null
      },
      "text/plain": "                  count          mean           std           min  \\\ntotal_bill        244.0  1.978594e+01  8.902412e+00  3.070000e+00   \ntip               244.0  2.998279e+00  1.383638e+00  1.000000e+00   \nsize              244.0  2.569672e+00  9.510998e-01  1.000000e+00   \nprice_per_person  244.0  7.888197e+00  2.914234e+00  2.880000e+00   \nCC Number         244.0  2.563496e+15  2.369340e+15  6.040679e+10   \n\n                           25%           50%           75%           max  \ntotal_bill        1.334750e+01  1.779500e+01  2.412750e+01  5.081000e+01  \ntip               2.000000e+00  2.900000e+00  3.562500e+00  1.000000e+01  \nsize              2.000000e+00  2.000000e+00  3.000000e+00  6.000000e+00  \nprice_per_person  5.800000e+00  7.255000e+00  9.390000e+00  2.027000e+01  \nCC Number         3.040731e+13  3.525318e+15  4.553675e+15  6.596454e+15  ",
      "text/html": "<div>\n<style scoped>\n    .dataframe tbody tr th:only-of-type {\n        vertical-align: middle;\n    }\n\n    .dataframe tbody tr th {\n        vertical-align: top;\n    }\n\n    .dataframe thead th {\n        text-align: right;\n    }\n</style>\n<table border=\"1\" class=\"dataframe\">\n  <thead>\n    <tr style=\"text-align: right;\">\n      <th></th>\n      <th>count</th>\n      <th>mean</th>\n      <th>std</th>\n      <th>min</th>\n      <th>25%</th>\n      <th>50%</th>\n      <th>75%</th>\n      <th>max</th>\n    </tr>\n  </thead>\n  <tbody>\n    <tr>\n      <th>total_bill</th>\n      <td>244.0</td>\n      <td>1.978594e+01</td>\n      <td>8.902412e+00</td>\n      <td>3.070000e+00</td>\n      <td>1.334750e+01</td>\n      <td>1.779500e+01</td>\n      <td>2.412750e+01</td>\n      <td>5.081000e+01</td>\n    </tr>\n    <tr>\n      <th>tip</th>\n      <td>244.0</td>\n      <td>2.998279e+00</td>\n      <td>1.383638e+00</td>\n      <td>1.000000e+00</td>\n      <td>2.000000e+00</td>\n      <td>2.900000e+00</td>\n      <td>3.562500e+00</td>\n      <td>1.000000e+01</td>\n    </tr>\n    <tr>\n      <th>size</th>\n      <td>244.0</td>\n      <td>2.569672e+00</td>\n      <td>9.510998e-01</td>\n      <td>1.000000e+00</td>\n      <td>2.000000e+00</td>\n      <td>2.000000e+00</td>\n      <td>3.000000e+00</td>\n      <td>6.000000e+00</td>\n    </tr>\n    <tr>\n      <th>price_per_person</th>\n      <td>244.0</td>\n      <td>7.888197e+00</td>\n      <td>2.914234e+00</td>\n      <td>2.880000e+00</td>\n      <td>5.800000e+00</td>\n      <td>7.255000e+00</td>\n      <td>9.390000e+00</td>\n      <td>2.027000e+01</td>\n    </tr>\n    <tr>\n      <th>CC Number</th>\n      <td>244.0</td>\n      <td>2.563496e+15</td>\n      <td>2.369340e+15</td>\n      <td>6.040679e+10</td>\n      <td>3.040731e+13</td>\n      <td>3.525318e+15</td>\n      <td>4.553675e+15</td>\n      <td>6.596454e+15</td>\n    </tr>\n  </tbody>\n</table>\n</div>"
     },
     "metadata": {}
    }
   ]
  },
  {
   "cell_type": "code",
   "metadata": {
    "tags": [],
    "cell_id": "00022-7d9f5e8b-16b3-473e-8179-46b3108bbfc3",
    "deepnote_to_be_reexecuted": false,
    "source_hash": "71f65a69",
    "execution_start": 1622382410746,
    "execution_millis": 79,
    "deepnote_cell_type": "code"
   },
   "source": "df.sort_values('tip')",
   "execution_count": 23,
   "outputs": [
    {
     "output_type": "execute_result",
     "execution_count": 23,
     "data": {
      "application/vnd.deepnote.dataframe.v2+json": {
       "row_count": 244,
       "column_count": 11,
       "columns": [
        {
         "name": "total_bill",
         "dtype": "float64",
         "stats": {
          "unique_count": 229,
          "nan_count": 0,
          "min": "3.07",
          "max": "50.81",
          "histogram": [
           {
            "bin_start": 3.07,
            "bin_end": 7.843999999999999,
            "count": 7
           },
           {
            "bin_start": 7.843999999999999,
            "bin_end": 12.618,
            "count": 42
           },
           {
            "bin_start": 12.618,
            "bin_end": 17.392,
            "count": 68
           },
           {
            "bin_start": 17.392,
            "bin_end": 22.166,
            "count": 51
           },
           {
            "bin_start": 22.166,
            "bin_end": 26.94,
            "count": 31
           },
           {
            "bin_start": 26.94,
            "bin_end": 31.714,
            "count": 19
           },
           {
            "bin_start": 31.714,
            "bin_end": 36.488,
            "count": 12
           },
           {
            "bin_start": 36.488,
            "bin_end": 41.262,
            "count": 7
           },
           {
            "bin_start": 41.262,
            "bin_end": 46.036,
            "count": 3
           },
           {
            "bin_start": 46.036,
            "bin_end": 50.81,
            "count": 4
           }
          ]
         }
        },
        {
         "name": "tip",
         "dtype": "float64",
         "stats": {
          "unique_count": 123,
          "nan_count": 0,
          "min": "1.0",
          "max": "10.0",
          "histogram": [
           {
            "bin_start": 1,
            "bin_end": 1.9,
            "count": 41
           },
           {
            "bin_start": 1.9,
            "bin_end": 2.8,
            "count": 79
           },
           {
            "bin_start": 2.8,
            "bin_end": 3.7,
            "count": 66
           },
           {
            "bin_start": 3.7,
            "bin_end": 4.6,
            "count": 27
           },
           {
            "bin_start": 4.6,
            "bin_end": 5.5,
            "count": 19
           },
           {
            "bin_start": 5.5,
            "bin_end": 6.4,
            "count": 5
           },
           {
            "bin_start": 6.4,
            "bin_end": 7.3,
            "count": 4
           },
           {
            "bin_start": 7.3,
            "bin_end": 8.2,
            "count": 1
           },
           {
            "bin_start": 8.2,
            "bin_end": 9.1,
            "count": 1
           },
           {
            "bin_start": 9.1,
            "bin_end": 10,
            "count": 1
           }
          ]
         }
        },
        {
         "name": "sex",
         "dtype": "object",
         "stats": {
          "unique_count": 2,
          "nan_count": 0,
          "categories": [
           {
            "name": "Male",
            "count": 157
           },
           {
            "name": "Female",
            "count": 87
           }
          ]
         }
        },
        {
         "name": "smoker",
         "dtype": "object",
         "stats": {
          "unique_count": 2,
          "nan_count": 0,
          "categories": [
           {
            "name": "No",
            "count": 151
           },
           {
            "name": "Yes",
            "count": 93
           }
          ]
         }
        },
        {
         "name": "day",
         "dtype": "object",
         "stats": {
          "unique_count": 4,
          "nan_count": 0,
          "categories": [
           {
            "name": "Sat",
            "count": 87
           },
           {
            "name": "Sun",
            "count": 76
           },
           {
            "name": "2 others",
            "count": 81
           }
          ]
         }
        },
        {
         "name": "time",
         "dtype": "object",
         "stats": {
          "unique_count": 2,
          "nan_count": 0,
          "categories": [
           {
            "name": "Dinner",
            "count": 176
           },
           {
            "name": "Lunch",
            "count": 68
           }
          ]
         }
        },
        {
         "name": "size",
         "dtype": "int64",
         "stats": {
          "unique_count": 6,
          "nan_count": 0,
          "min": "1",
          "max": "6",
          "histogram": [
           {
            "bin_start": 1,
            "bin_end": 1.5,
            "count": 4
           },
           {
            "bin_start": 1.5,
            "bin_end": 2,
            "count": 0
           },
           {
            "bin_start": 2,
            "bin_end": 2.5,
            "count": 156
           },
           {
            "bin_start": 2.5,
            "bin_end": 3,
            "count": 0
           },
           {
            "bin_start": 3,
            "bin_end": 3.5,
            "count": 38
           },
           {
            "bin_start": 3.5,
            "bin_end": 4,
            "count": 0
           },
           {
            "bin_start": 4,
            "bin_end": 4.5,
            "count": 37
           },
           {
            "bin_start": 4.5,
            "bin_end": 5,
            "count": 0
           },
           {
            "bin_start": 5,
            "bin_end": 5.5,
            "count": 5
           },
           {
            "bin_start": 5.5,
            "bin_end": 6,
            "count": 4
           }
          ]
         }
        },
        {
         "name": "price_per_person",
         "dtype": "float64",
         "stats": {
          "unique_count": 217,
          "nan_count": 0,
          "min": "2.88",
          "max": "20.27",
          "histogram": [
           {
            "bin_start": 2.88,
            "bin_end": 4.619,
            "count": 19
           },
           {
            "bin_start": 4.619,
            "bin_end": 6.3580000000000005,
            "count": 69
           },
           {
            "bin_start": 6.3580000000000005,
            "bin_end": 8.097000000000001,
            "count": 60
           },
           {
            "bin_start": 8.097000000000001,
            "bin_end": 9.836,
            "count": 44
           },
           {
            "bin_start": 9.836,
            "bin_end": 11.575,
            "count": 26
           },
           {
            "bin_start": 11.575,
            "bin_end": 13.314,
            "count": 12
           },
           {
            "bin_start": 13.314,
            "bin_end": 15.053,
            "count": 6
           },
           {
            "bin_start": 15.053,
            "bin_end": 16.792,
            "count": 5
           },
           {
            "bin_start": 16.792,
            "bin_end": 18.531000000000002,
            "count": 2
           },
           {
            "bin_start": 18.531000000000002,
            "bin_end": 20.27,
            "count": 1
           }
          ]
         }
        },
        {
         "name": "Payer Name",
         "dtype": "object",
         "stats": {
          "unique_count": 244,
          "nan_count": 0,
          "categories": [
           {
            "name": "Tiffany Brock",
            "count": 1
           },
           {
            "name": "Matthew Myers",
            "count": 1
           },
           {
            "name": "242 others",
            "count": 242
           }
          ]
         }
        },
        {
         "name": "CC Number",
         "dtype": "int64",
         "stats": {
          "unique_count": 244,
          "nan_count": 0,
          "min": "60406789937",
          "max": "6596453823950595",
          "histogram": [
           {
            "bin_start": 60406789937,
            "bin_end": 659699748506002.8,
            "count": 110
           },
           {
            "bin_start": 659699748506002.8,
            "bin_end": 1319339090222068.5,
            "count": 0
           },
           {
            "bin_start": 1319339090222068.5,
            "bin_end": 1978978431938134.2,
            "count": 0
           },
           {
            "bin_start": 1978978431938134.2,
            "bin_end": 2638617773654200,
            "count": 3
           },
           {
            "bin_start": 2638617773654200,
            "bin_end": 3298257115370266,
            "count": 0
           },
           {
            "bin_start": 3298257115370266,
            "bin_end": 3957896457086331.5,
            "count": 43
           },
           {
            "bin_start": 3957896457086331.5,
            "bin_end": 4617535798802397,
            "count": 30
           },
           {
            "bin_start": 4617535798802397,
            "bin_end": 5277175140518463,
            "count": 19
           },
           {
            "bin_start": 5277175140518463,
            "bin_end": 5936814482234529,
            "count": 15
           },
           {
            "bin_start": 5936814482234529,
            "bin_end": 6596453823950595,
            "count": 24
           }
          ]
         }
        },
        {
         "name": "Payment ID",
         "dtype": "object",
         "stats": {
          "unique_count": 243,
          "nan_count": 0,
          "categories": [
           {
            "name": "Thur8084",
            "count": 2
           },
           {
            "name": "Sat3455",
            "count": 1
           },
           {
            "name": "241 others",
            "count": 241
           }
          ]
         }
        },
        {
         "name": "_deepnote_index_column",
         "dtype": "int64"
        }
       ],
       "rows_top": [
        {
         "total_bill": 3.07,
         "tip": 1,
         "sex": "Female",
         "smoker": "Yes",
         "day": "Sat",
         "time": "Dinner",
         "size": 1,
         "price_per_person": 3.07,
         "Payer Name": "Tiffany Brock",
         "CC Number": 4359488526995267,
         "Payment ID": "Sat3455",
         "_deepnote_index_column": 67
        },
        {
         "total_bill": 12.6,
         "tip": 1,
         "sex": "Male",
         "smoker": "Yes",
         "day": "Sat",
         "time": "Dinner",
         "size": 2,
         "price_per_person": 6.3,
         "Payer Name": "Matthew Myers",
         "CC Number": 3543676378973965,
         "Payment ID": "Sat5032",
         "_deepnote_index_column": 236
        },
        {
         "total_bill": 5.75,
         "tip": 1,
         "sex": "Female",
         "smoker": "Yes",
         "day": "Fri",
         "time": "Dinner",
         "size": 2,
         "price_per_person": 2.88,
         "Payer Name": "Leah Ramirez",
         "CC Number": 3508911676966392,
         "Payment ID": "Fri3780",
         "_deepnote_index_column": 92
        },
        {
         "total_bill": 7.25,
         "tip": 1,
         "sex": "Female",
         "smoker": "No",
         "day": "Sat",
         "time": "Dinner",
         "size": 1,
         "price_per_person": 7.25,
         "Payer Name": "Terri Jones",
         "CC Number": 3559221007826887,
         "Payment ID": "Sat4801",
         "_deepnote_index_column": 111
        },
        {
         "total_bill": 16.99,
         "tip": 1.01,
         "sex": "Female",
         "smoker": "No",
         "day": "Sun",
         "time": "Dinner",
         "size": 2,
         "price_per_person": 8.49,
         "Payer Name": "Christy Cunningham",
         "CC Number": 3560325168603410,
         "Payment ID": "Sun2959",
         "_deepnote_index_column": 0
        },
        {
         "total_bill": 12.9,
         "tip": 1.1,
         "sex": "Female",
         "smoker": "Yes",
         "day": "Sat",
         "time": "Dinner",
         "size": 2,
         "price_per_person": 6.45,
         "Payer Name": "Jessica Owen",
         "CC Number": 4726904879471,
         "Payment ID": "Sat6983",
         "_deepnote_index_column": 215
        },
        {
         "total_bill": 32.83,
         "tip": 1.17,
         "sex": "Male",
         "smoker": "Yes",
         "day": "Sat",
         "time": "Dinner",
         "size": 2,
         "price_per_person": 16.42,
         "Payer Name": "Thomas Brown",
         "CC Number": 4284722681265508,
         "Payment ID": "Sat2929",
         "_deepnote_index_column": 237
        },
        {
         "total_bill": 10.07,
         "tip": 1.25,
         "sex": "Male",
         "smoker": "No",
         "day": "Sat",
         "time": "Dinner",
         "size": 2,
         "price_per_person": 5.04,
         "Payer Name": "Sean Gonzalez",
         "CC Number": 3534021246117605,
         "Payment ID": "Sat4615",
         "_deepnote_index_column": 235
        },
        {
         "total_bill": 10.51,
         "tip": 1.25,
         "sex": "Male",
         "smoker": "No",
         "day": "Sat",
         "time": "Dinner",
         "size": 2,
         "price_per_person": 5.26,
         "Payer Name": "Kenneth Hayes",
         "CC Number": 213142079731108,
         "Payment ID": "Sat5056",
         "_deepnote_index_column": 75
        },
        {
         "total_bill": 8.51,
         "tip": 1.25,
         "sex": "Female",
         "smoker": "No",
         "day": "Thur",
         "time": "Lunch",
         "size": 2,
         "price_per_person": 4.26,
         "Payer Name": "Rebecca Harris",
         "CC Number": 4320272020376174,
         "Payment ID": "Thur6600",
         "_deepnote_index_column": 135
        },
        {
         "total_bill": 9.68,
         "tip": 1.32,
         "sex": "Male",
         "smoker": "No",
         "day": "Sun",
         "time": "Dinner",
         "size": 2,
         "price_per_person": 4.84,
         "Payer Name": "Christopher Spears",
         "CC Number": 4387671121369212,
         "Payment ID": "Sun3279",
         "_deepnote_index_column": 43
        },
        {
         "total_bill": 18.64,
         "tip": 1.36,
         "sex": "Female",
         "smoker": "No",
         "day": "Thur",
         "time": "Lunch",
         "size": 3,
         "price_per_person": 6.21,
         "Payer Name": "Kelly Estrada",
         "CC Number": 60463302327,
         "Payment ID": "Thur3941",
         "_deepnote_index_column": 146
        },
        {
         "total_bill": 7.74,
         "tip": 1.44,
         "sex": "Male",
         "smoker": "Yes",
         "day": "Sat",
         "time": "Dinner",
         "size": 2,
         "price_per_person": 3.87,
         "Payer Name": "Nicholas Archer",
         "CC Number": 340517153733524,
         "Payment ID": "Sat4772",
         "_deepnote_index_column": 218
        },
        {
         "total_bill": 7.56,
         "tip": 1.44,
         "sex": "Male",
         "smoker": "No",
         "day": "Thur",
         "time": "Lunch",
         "size": 2,
         "price_per_person": 3.78,
         "Payer Name": "Michael White",
         "CC Number": 4865390263095532,
         "Payment ID": "Thur697",
         "_deepnote_index_column": 195
        },
        {
         "total_bill": 9.55,
         "tip": 1.45,
         "sex": "Male",
         "smoker": "No",
         "day": "Sat",
         "time": "Dinner",
         "size": 2,
         "price_per_person": 4.78,
         "Payer Name": "Grant Hall",
         "CC Number": 30196517521548,
         "Payment ID": "Sat4099",
         "_deepnote_index_column": 30
        },
        {
         "total_bill": 10.77,
         "tip": 1.47,
         "sex": "Male",
         "smoker": "No",
         "day": "Sat",
         "time": "Dinner",
         "size": 2,
         "price_per_person": 5.38,
         "Payer Name": "Paul Novak",
         "CC Number": 6011698897610858,
         "Payment ID": "Sat1467",
         "_deepnote_index_column": 233
        },
        {
         "total_bill": 8.52,
         "tip": 1.48,
         "sex": "Male",
         "smoker": "No",
         "day": "Thur",
         "time": "Lunch",
         "size": 2,
         "price_per_person": 4.26,
         "Payer Name": "Mario Bradshaw",
         "CC Number": 4524404353861811,
         "Payment ID": "Thur6719",
         "_deepnote_index_column": 126
        },
        {
         "total_bill": 15.69,
         "tip": 1.5,
         "sex": "Male",
         "smoker": "Yes",
         "day": "Sun",
         "time": "Dinner",
         "size": 2,
         "price_per_person": 7.84,
         "Payer Name": "Riley Barnes",
         "CC Number": 180053549128800,
         "Payment ID": "Sun5104",
         "_deepnote_index_column": 190
        },
        {
         "total_bill": 26.41,
         "tip": 1.5,
         "sex": "Female",
         "smoker": "No",
         "day": "Sat",
         "time": "Dinner",
         "size": 2,
         "price_per_person": 13.2,
         "Payer Name": "Melody Simon",
         "CC Number": 4745394421258160,
         "Payment ID": "Sat8980",
         "_deepnote_index_column": 57
        },
        {
         "total_bill": 12.03,
         "tip": 1.5,
         "sex": "Male",
         "smoker": "Yes",
         "day": "Fri",
         "time": "Dinner",
         "size": 2,
         "price_per_person": 6.02,
         "Payer Name": "Eric Herrera",
         "CC Number": 580116092652,
         "Payment ID": "Fri9268",
         "_deepnote_index_column": 97
        },
        {
         "total_bill": 12.46,
         "tip": 1.5,
         "sex": "Male",
         "smoker": "No",
         "day": "Fri",
         "time": "Dinner",
         "size": 2,
         "price_per_person": 6.23,
         "Payer Name": "Edward Carter",
         "CC Number": 347435564751626,
         "Payment ID": "Fri5575",
         "_deepnote_index_column": 99
        },
        {
         "total_bill": 10.65,
         "tip": 1.5,
         "sex": "Female",
         "smoker": "No",
         "day": "Thur",
         "time": "Lunch",
         "size": 2,
         "price_per_person": 5.32,
         "Payer Name": "Linda Zhang",
         "CC Number": 3560509622598239,
         "Payment ID": "Thur9593",
         "_deepnote_index_column": 117
        },
        {
         "total_bill": 11.17,
         "tip": 1.5,
         "sex": "Female",
         "smoker": "No",
         "day": "Thur",
         "time": "Lunch",
         "size": 2,
         "price_per_person": 5.58,
         "Payer Name": "Taylor Gonzalez",
         "CC Number": 6011990685390011,
         "Payment ID": "Thur7783",
         "_deepnote_index_column": 132
        },
        {
         "total_bill": 11.59,
         "tip": 1.5,
         "sex": "Male",
         "smoker": "Yes",
         "day": "Sat",
         "time": "Dinner",
         "size": 2,
         "price_per_person": 5.8,
         "Payer Name": "Gary Orr",
         "CC Number": 30324521283406,
         "Payment ID": "Sat8489",
         "_deepnote_index_column": 217
        },
        {
         "total_bill": 8.35,
         "tip": 1.5,
         "sex": "Female",
         "smoker": "No",
         "day": "Thur",
         "time": "Lunch",
         "size": 2,
         "price_per_person": 4.18,
         "Payer Name": "Amy Young",
         "CC Number": 4285454264477,
         "Payment ID": "Thur9331",
         "_deepnote_index_column": 145
        },
        {
         "total_bill": 19.08,
         "tip": 1.5,
         "sex": "Male",
         "smoker": "No",
         "day": "Thur",
         "time": "Lunch",
         "size": 2,
         "price_per_person": 9.54,
         "Payer Name": "Seth Sexton",
         "CC Number": 213113680829581,
         "Payment ID": "Thur1446",
         "_deepnote_index_column": 130
        },
        {
         "total_bill": 9.94,
         "tip": 1.56,
         "sex": "Male",
         "smoker": "No",
         "day": "Sun",
         "time": "Dinner",
         "size": 2,
         "price_per_person": 4.97,
         "Payer Name": "Curtis Morgan",
         "CC Number": 4628628020417301,
         "Payment ID": "Sun4561",
         "_deepnote_index_column": 53
        },
        {
         "total_bill": 15.42,
         "tip": 1.57,
         "sex": "Male",
         "smoker": "No",
         "day": "Sun",
         "time": "Dinner",
         "size": 2,
         "price_per_person": 7.71,
         "Payer Name": "Chad Harrington",
         "CC Number": 577040572932,
         "Payment ID": "Sun1300",
         "_deepnote_index_column": 12
        },
        {
         "total_bill": 13.42,
         "tip": 1.58,
         "sex": "Male",
         "smoker": "Yes",
         "day": "Fri",
         "time": "Lunch",
         "size": 2,
         "price_per_person": 6.71,
         "Payer Name": "Ronald Vaughn DVM",
         "CC Number": 341503466406403,
         "Payment ID": "Fri5959",
         "_deepnote_index_column": 224
        },
        {
         "total_bill": 10.59,
         "tip": 1.61,
         "sex": "Female",
         "smoker": "Yes",
         "day": "Sat",
         "time": "Dinner",
         "size": 2,
         "price_per_person": 5.3,
         "Payer Name": "Sara Jimenez",
         "CC Number": 502053147208,
         "Payment ID": "Sat9795",
         "_deepnote_index_column": 168
        },
        {
         "total_bill": 11.87,
         "tip": 1.63,
         "sex": "Female",
         "smoker": "No",
         "day": "Thur",
         "time": "Lunch",
         "size": 2,
         "price_per_person": 5.94,
         "Payer Name": "Annette Cunningham",
         "CC Number": 675937746864,
         "Payment ID": "Thur4780",
         "_deepnote_index_column": 147
        },
        {
         "total_bill": 15.36,
         "tip": 1.64,
         "sex": "Male",
         "smoker": "Yes",
         "day": "Sat",
         "time": "Dinner",
         "size": 2,
         "price_per_person": 7.68,
         "Payer Name": "David Price",
         "CC Number": 4029957452720,
         "Payment ID": "Sat5106",
         "_deepnote_index_column": 105
        },
        {
         "total_bill": 10.34,
         "tip": 1.66,
         "sex": "Male",
         "smoker": "No",
         "day": "Sun",
         "time": "Dinner",
         "size": 3,
         "price_per_person": 3.45,
         "Payer Name": "Douglas Tucker",
         "CC Number": 4478071379779230,
         "Payment ID": "Sun4608",
         "_deepnote_index_column": 1
        },
        {
         "total_bill": 10.33,
         "tip": 1.67,
         "sex": "Female",
         "smoker": "No",
         "day": "Sun",
         "time": "Dinner",
         "size": 3,
         "price_per_person": 3.44,
         "Payer Name": "Elizabeth Foster",
         "CC Number": 4240025044626033,
         "Payment ID": "Sun9715",
         "_deepnote_index_column": 16
        },
        {
         "total_bill": 13.42,
         "tip": 1.68,
         "sex": "Female",
         "smoker": "No",
         "day": "Thur",
         "time": "Lunch",
         "size": 2,
         "price_per_person": 6.71,
         "Payer Name": "Laura Garcia",
         "CC Number": 5181484390945653,
         "Payment ID": "Thur2158",
         "_deepnote_index_column": 121
        },
        {
         "total_bill": 10.27,
         "tip": 1.71,
         "sex": "Male",
         "smoker": "No",
         "day": "Sun",
         "time": "Dinner",
         "size": 2,
         "price_per_person": 5.14,
         "Payer Name": "William Riley",
         "CC Number": 566287581219,
         "Payment ID": "Sun2546",
         "_deepnote_index_column": 10
        },
        {
         "total_bill": 9.78,
         "tip": 1.73,
         "sex": "Male",
         "smoker": "No",
         "day": "Thur",
         "time": "Lunch",
         "size": 2,
         "price_per_person": 4.89,
         "Payer Name": "David Stewart",
         "CC Number": 3578014604116399,
         "Payment ID": "Thur7276",
         "_deepnote_index_column": 148
        },
        {
         "total_bill": 17.82,
         "tip": 1.75,
         "sex": "Male",
         "smoker": "No",
         "day": "Sat",
         "time": "Dinner",
         "size": 2,
         "price_per_person": 8.91,
         "Payer Name": "Dennis Dixon",
         "CC Number": 4375220550950,
         "Payment ID": "Sat17",
         "_deepnote_index_column": 242
        },
        {
         "total_bill": 11.24,
         "tip": 1.76,
         "sex": "Male",
         "smoker": "Yes",
         "day": "Sat",
         "time": "Dinner",
         "size": 2,
         "price_per_person": 5.62,
         "Payer Name": "Troy Guerrero",
         "CC Number": 3560782621035582,
         "Payment ID": "Sat6683",
         "_deepnote_index_column": 58
        },
        {
         "total_bill": 12.43,
         "tip": 1.8,
         "sex": "Female",
         "smoker": "No",
         "day": "Thur",
         "time": "Lunch",
         "size": 2,
         "price_per_person": 6.22,
         "Payer Name": "Dr. Caroline Tucker",
         "CC Number": 502047186908,
         "Payment ID": "Thur8084",
         "_deepnote_index_column": 118
        },
        {
         "total_bill": 10.07,
         "tip": 1.83,
         "sex": "Female",
         "smoker": "No",
         "day": "Thur",
         "time": "Lunch",
         "size": 1,
         "price_per_person": 10.07,
         "Payer Name": "Julie Moody",
         "CC Number": 630413282843,
         "Payment ID": "Thur4909",
         "_deepnote_index_column": 82
        },
        {
         "total_bill": 8.58,
         "tip": 1.92,
         "sex": "Male",
         "smoker": "Yes",
         "day": "Fri",
         "time": "Lunch",
         "size": 1,
         "price_per_person": 8.58,
         "Payer Name": "Jason Lawrence",
         "CC Number": 3505302934650403,
         "Payment ID": "Fri6624",
         "_deepnote_index_column": 222
        },
        {
         "total_bill": 15.04,
         "tip": 1.96,
         "sex": "Male",
         "smoker": "No",
         "day": "Sun",
         "time": "Dinner",
         "size": 2,
         "price_per_person": 7.52,
         "Payer Name": "Joseph Mcdonald",
         "CC Number": 3522866365840377,
         "Payment ID": "Sun6820",
         "_deepnote_index_column": 8
        },
        {
         "total_bill": 12.02,
         "tip": 1.97,
         "sex": "Male",
         "smoker": "No",
         "day": "Sat",
         "time": "Dinner",
         "size": 2,
         "price_per_person": 6.01,
         "Payer Name": "Max Brown",
         "CC Number": 213139760497718,
         "Payment ID": "Sat2100",
         "_deepnote_index_column": 70
        },
        {
         "total_bill": 11.02,
         "tip": 1.98,
         "sex": "Male",
         "smoker": "Yes",
         "day": "Sat",
         "time": "Dinner",
         "size": 2,
         "price_per_person": 5.51,
         "Payer Name": "Joseph Hart",
         "CC Number": 180046232326178,
         "Payment ID": "Sat2265",
         "_deepnote_index_column": 62
        }
       ],
       "rows_bottom": [
        {
         "total_bill": 16.82,
         "tip": 4,
         "sex": "Male",
         "smoker": "Yes",
         "day": "Sun",
         "time": "Dinner",
         "size": 2,
         "price_per_person": 8.41,
         "Payer Name": "Brian Miles",
         "CC Number": 3586342145399277,
         "Payment ID": "Sun7621",
         "_deepnote_index_column": 174
        },
        {
         "total_bill": 9.6,
         "tip": 4,
         "sex": "Female",
         "smoker": "Yes",
         "day": "Sun",
         "time": "Dinner",
         "size": 2,
         "price_per_person": 4.8,
         "Payer Name": "Melanie Gray",
         "CC Number": 4211808859168,
         "Payment ID": "Sun4598",
         "_deepnote_index_column": 178
        },
        {
         "total_bill": 23.1,
         "tip": 4,
         "sex": "Male",
         "smoker": "Yes",
         "day": "Sun",
         "time": "Dinner",
         "size": 3,
         "price_per_person": 7.7,
         "Payer Name": "Richard Stevens",
         "CC Number": 3560193117506187,
         "Payment ID": "Sun1821",
         "_deepnote_index_column": 189
        },
        {
         "total_bill": 16.58,
         "tip": 4,
         "sex": "Male",
         "smoker": "Yes",
         "day": "Thur",
         "time": "Lunch",
         "size": 2,
         "price_per_person": 8.29,
         "Payer Name": "Benjamin Weber",
         "CC Number": 676210011505,
         "Payment ID": "Thur9318",
         "_deepnote_index_column": 194
        },
        {
         "total_bill": 20.49,
         "tip": 4.06,
         "sex": "Male",
         "smoker": "Yes",
         "day": "Sat",
         "time": "Dinner",
         "size": 2,
         "price_per_person": 10.24,
         "Payer Name": "Karl Mcdaniel",
         "CC Number": 180024452771522,
         "Payment ID": "Sat7865",
         "_deepnote_index_column": 106
        },
        {
         "total_bill": 20.92,
         "tip": 4.08,
         "sex": "Female",
         "smoker": "No",
         "day": "Sat",
         "time": "Dinner",
         "size": 2,
         "price_per_person": 10.46,
         "Payer Name": "Gabrielle Frederick",
         "CC Number": 4013010878990106,
         "Payment ID": "Sat3194",
         "_deepnote_index_column": 104
        },
        {
         "total_bill": 17.92,
         "tip": 4.08,
         "sex": "Male",
         "smoker": "No",
         "day": "Sat",
         "time": "Dinner",
         "size": 2,
         "price_per_person": 8.96,
         "Payer Name": "Thomas Rice",
         "CC Number": 4403296224639756,
         "Payment ID": "Sat1709",
         "_deepnote_index_column": 20
        },
        {
         "total_bill": 19.81,
         "tip": 4.19,
         "sex": "Female",
         "smoker": "Yes",
         "day": "Thur",
         "time": "Lunch",
         "size": 2,
         "price_per_person": 9.9,
         "Payer Name": "Kristy Boyd",
         "CC Number": 4317015327600068,
         "Payment ID": "Thur967",
         "_deepnote_index_column": 191
        },
        {
         "total_bill": 29.8,
         "tip": 4.2,
         "sex": "Female",
         "smoker": "No",
         "day": "Thur",
         "time": "Lunch",
         "size": 6,
         "price_per_person": 4.97,
         "Payer Name": "Angela Sanchez",
         "CC Number": 503857080488,
         "Payment ID": "Thur3948",
         "_deepnote_index_column": 125
        },
        {
         "total_bill": 25.21,
         "tip": 4.29,
         "sex": "Male",
         "smoker": "Yes",
         "day": "Sat",
         "time": "Dinner",
         "size": 2,
         "price_per_person": 12.6,
         "Payer Name": "Jason Mullen",
         "CC Number": 4738781782868,
         "Payment ID": "Sat5196",
         "_deepnote_index_column": 107
        },
        {
         "total_bill": 21.7,
         "tip": 4.3,
         "sex": "Male",
         "smoker": "No",
         "day": "Sat",
         "time": "Dinner",
         "size": 2,
         "price_per_person": 10.85,
         "Payer Name": "David Collier",
         "CC Number": 5529694315416009,
         "Payment ID": "Sat3697",
         "_deepnote_index_column": 28
        },
        {
         "total_bill": 16.32,
         "tip": 4.3,
         "sex": "Female",
         "smoker": "Yes",
         "day": "Fri",
         "time": "Dinner",
         "size": 2,
         "price_per_person": 8.16,
         "Payer Name": "Natalie Nguyen",
         "CC Number": 5181236182893396,
         "Payment ID": "Fri6963",
         "_deepnote_index_column": 93
        },
        {
         "total_bill": 25.56,
         "tip": 4.34,
         "sex": "Male",
         "smoker": "No",
         "day": "Sun",
         "time": "Dinner",
         "size": 4,
         "price_per_person": 6.39,
         "Payer Name": "Ronald Owens",
         "CC Number": 6569607991983380,
         "Payment ID": "Sun9470",
         "_deepnote_index_column": 54
        },
        {
         "total_bill": 31.71,
         "tip": 4.5,
         "sex": "Male",
         "smoker": "No",
         "day": "Sun",
         "time": "Dinner",
         "size": 4,
         "price_per_person": 7.93,
         "Payer Name": "Michael Lawson",
         "CC Number": 3566285921227119,
         "Payment ID": "Sun3719",
         "_deepnote_index_column": 167
        },
        {
         "total_bill": 35.83,
         "tip": 4.67,
         "sex": "Female",
         "smoker": "No",
         "day": "Sat",
         "time": "Dinner",
         "size": 3,
         "price_per_person": 11.94,
         "Payer Name": "Kimberly Crane",
         "CC Number": 676184013727,
         "Payment ID": "Sat9777",
         "_deepnote_index_column": 238
        },
        {
         "total_bill": 25.29,
         "tip": 4.71,
         "sex": "Male",
         "smoker": "No",
         "day": "Sun",
         "time": "Dinner",
         "size": 4,
         "price_per_person": 6.32,
         "Payer Name": "Erik Smith",
         "CC Number": 213140353657882,
         "Payment ID": "Sun9679",
         "_deepnote_index_column": 5
        },
        {
         "total_bill": 40.17,
         "tip": 4.73,
         "sex": "Male",
         "smoker": "Yes",
         "day": "Fri",
         "time": "Dinner",
         "size": 4,
         "price_per_person": 10.04,
         "Payer Name": "Aaron Bentley",
         "CC Number": 180026611638690,
         "Payment ID": "Fri9628",
         "_deepnote_index_column": 95
        },
        {
         "total_bill": 22.23,
         "tip": 5,
         "sex": "Male",
         "smoker": "No",
         "day": "Sun",
         "time": "Dinner",
         "size": 2,
         "price_per_person": 11.12,
         "Payer Name": "Joshua Gilmore",
         "CC Number": 4292072734899,
         "Payment ID": "Sun7097",
         "_deepnote_index_column": 46
        },
        {
         "total_bill": 31.27,
         "tip": 5,
         "sex": "Male",
         "smoker": "No",
         "day": "Sat",
         "time": "Dinner",
         "size": 3,
         "price_per_person": 10.42,
         "Payer Name": "Mr. Brandon Berry",
         "CC Number": 6011525851069856,
         "Payment ID": "Sat6373",
         "_deepnote_index_column": 39
        },
        {
         "total_bill": 41.19,
         "tip": 5,
         "sex": "Male",
         "smoker": "No",
         "day": "Thur",
         "time": "Lunch",
         "size": 5,
         "price_per_person": 8.24,
         "Payer Name": "Eric Andrews",
         "CC Number": 4356531761046453,
         "Payment ID": "Thur3621",
         "_deepnote_index_column": 142
        },
        {
         "total_bill": 27.05,
         "tip": 5,
         "sex": "Female",
         "smoker": "No",
         "day": "Thur",
         "time": "Lunch",
         "size": 6,
         "price_per_person": 4.51,
         "Payer Name": "Regina Jones",
         "CC Number": 4311048695487,
         "Payment ID": "Thur6179",
         "_deepnote_index_column": 143
        },
        {
         "total_bill": 48.17,
         "tip": 5,
         "sex": "Male",
         "smoker": "No",
         "day": "Sun",
         "time": "Dinner",
         "size": 6,
         "price_per_person": 8.03,
         "Payer Name": "Ryan Gonzales",
         "CC Number": 3523151482063321,
         "Payment ID": "Sun7518",
         "_deepnote_index_column": 156
        },
        {
         "total_bill": 20.69,
         "tip": 5,
         "sex": "Male",
         "smoker": "No",
         "day": "Sun",
         "time": "Dinner",
         "size": 5,
         "price_per_person": 4.14,
         "Payer Name": "Joseph Howell",
         "CC Number": 30362407455623,
         "Payment ID": "Sun5842",
         "_deepnote_index_column": 185
        },
        {
         "total_bill": 35.26,
         "tip": 5,
         "sex": "Female",
         "smoker": "No",
         "day": "Sun",
         "time": "Dinner",
         "size": 4,
         "price_per_person": 8.82,
         "Payer Name": "Diane Macias",
         "CC Number": 4577817359320969,
         "Payment ID": "Sun6686",
         "_deepnote_index_column": 11
        },
        {
         "total_bill": 32.68,
         "tip": 5,
         "sex": "Male",
         "smoker": "Yes",
         "day": "Thur",
         "time": "Lunch",
         "size": 2,
         "price_per_person": 16.34,
         "Payer Name": "Daniel Murphy",
         "CC Number": 5356177501009133,
         "Payment ID": "Thur8801",
         "_deepnote_index_column": 83
        },
        {
         "total_bill": 43.11,
         "tip": 5,
         "sex": "Female",
         "smoker": "Yes",
         "day": "Thur",
         "time": "Lunch",
         "size": 4,
         "price_per_person": 10.78,
         "Payer Name": "Brooke Soto",
         "CC Number": 5544902205760175,
         "Payment ID": "Thur9313",
         "_deepnote_index_column": 197
        },
        {
         "total_bill": 25.28,
         "tip": 5,
         "sex": "Female",
         "smoker": "Yes",
         "day": "Sat",
         "time": "Dinner",
         "size": 2,
         "price_per_person": 12.64,
         "Payer Name": "Julie Holmes",
         "CC Number": 5418689346409571,
         "Payment ID": "Sat6065",
         "_deepnote_index_column": 73
        },
        {
         "total_bill": 29.93,
         "tip": 5.07,
         "sex": "Male",
         "smoker": "No",
         "day": "Sun",
         "time": "Dinner",
         "size": 4,
         "price_per_person": 7.48,
         "Payer Name": "Shawn Blake",
         "CC Number": 4689079711213722,
         "Payment ID": "Sun22",
         "_deepnote_index_column": 116
        },
        {
         "total_bill": 29.85,
         "tip": 5.14,
         "sex": "Female",
         "smoker": "No",
         "day": "Sun",
         "time": "Dinner",
         "size": 5,
         "price_per_person": 5.97,
         "Payer Name": "Madison Wilson",
         "CC Number": 4210875236164664,
         "Payment ID": "Sun9176",
         "_deepnote_index_column": 155
        },
        {
         "total_bill": 7.25,
         "tip": 5.15,
         "sex": "Male",
         "smoker": "Yes",
         "day": "Sun",
         "time": "Dinner",
         "size": 2,
         "price_per_person": 3.62,
         "Payer Name": "Larry White",
         "CC Number": 30432617123103,
         "Payment ID": "Sun9209",
         "_deepnote_index_column": 172
        },
        {
         "total_bill": 25.89,
         "tip": 5.16,
         "sex": "Male",
         "smoker": "Yes",
         "day": "Sat",
         "time": "Dinner",
         "size": 4,
         "price_per_person": 6.47,
         "Payer Name": "Christopher Li",
         "CC Number": 6011962464150569,
         "Payment ID": "Sat6735",
         "_deepnote_index_column": 211
        },
        {
         "total_bill": 34.83,
         "tip": 5.17,
         "sex": "Female",
         "smoker": "No",
         "day": "Thur",
         "time": "Lunch",
         "size": 4,
         "price_per_person": 8.71,
         "Payer Name": "Shawna Cook",
         "CC Number": 6011787464177340,
         "Payment ID": "Thur7972",
         "_deepnote_index_column": 85
        },
        {
         "total_bill": 34.81,
         "tip": 5.2,
         "sex": "Female",
         "smoker": "No",
         "day": "Sun",
         "time": "Dinner",
         "size": 4,
         "price_per_person": 8.7,
         "Payer Name": "Emily Daniel",
         "CC Number": 4291280793094374,
         "Payment ID": "Sun6165",
         "_deepnote_index_column": 52
        },
        {
         "total_bill": 30.4,
         "tip": 5.6,
         "sex": "Male",
         "smoker": "No",
         "day": "Sun",
         "time": "Dinner",
         "size": 4,
         "price_per_person": 7.6,
         "Payer Name": "Todd Cooper",
         "CC Number": 503846761263,
         "Payment ID": "Sun2274",
         "_deepnote_index_column": 44
        },
        {
         "total_bill": 23.33,
         "tip": 5.65,
         "sex": "Male",
         "smoker": "Yes",
         "day": "Sun",
         "time": "Dinner",
         "size": 2,
         "price_per_person": 11.66,
         "Payer Name": "Jason Cox",
         "CC Number": 6556931703586223,
         "Payment ID": "Sun3402",
         "_deepnote_index_column": 181
        },
        {
         "total_bill": 24.71,
         "tip": 5.85,
         "sex": "Male",
         "smoker": "No",
         "day": "Thur",
         "time": "Lunch",
         "size": 2,
         "price_per_person": 12.36,
         "Payer Name": "Roger Taylor",
         "CC Number": 4410248629955,
         "Payment ID": "Thur9003",
         "_deepnote_index_column": 88
        },
        {
         "total_bill": 29.03,
         "tip": 5.92,
         "sex": "Male",
         "smoker": "No",
         "day": "Sat",
         "time": "Dinner",
         "size": 3,
         "price_per_person": 9.68,
         "Payer Name": "Michael Avila",
         "CC Number": 5296068606052842,
         "Payment ID": "Sat2657",
         "_deepnote_index_column": 239
        },
        {
         "total_bill": 32.4,
         "tip": 6,
         "sex": "Male",
         "smoker": "No",
         "day": "Sun",
         "time": "Dinner",
         "size": 4,
         "price_per_person": 8.1,
         "Payer Name": "James Barnes",
         "CC Number": 3552002592874186,
         "Payment ID": "Sun9677",
         "_deepnote_index_column": 47
        },
        {
         "total_bill": 23.17,
         "tip": 6.5,
         "sex": "Male",
         "smoker": "Yes",
         "day": "Sun",
         "time": "Dinner",
         "size": 4,
         "price_per_person": 5.79,
         "Payer Name": "Dr. Michael James",
         "CC Number": 4718501859162,
         "Payment ID": "Sun6059",
         "_deepnote_index_column": 183
        },
        {
         "total_bill": 28.17,
         "tip": 6.5,
         "sex": "Female",
         "smoker": "Yes",
         "day": "Sat",
         "time": "Dinner",
         "size": 3,
         "price_per_person": 9.39,
         "Payer Name": "Marissa Jackson",
         "CC Number": 4922302538691962,
         "Payment ID": "Sat3374",
         "_deepnote_index_column": 214
        },
        {
         "total_bill": 34.3,
         "tip": 6.7,
         "sex": "Male",
         "smoker": "No",
         "day": "Thur",
         "time": "Lunch",
         "size": 6,
         "price_per_person": 5.72,
         "Payer Name": "Steven Carlson",
         "CC Number": 3526515703718508,
         "Payment ID": "Thur1025",
         "_deepnote_index_column": 141
        },
        {
         "total_bill": 48.27,
         "tip": 6.73,
         "sex": "Male",
         "smoker": "No",
         "day": "Sat",
         "time": "Dinner",
         "size": 4,
         "price_per_person": 12.07,
         "Payer Name": "Brian Ortiz",
         "CC Number": 6596453823950595,
         "Payment ID": "Sat8139",
         "_deepnote_index_column": 59
        },
        {
         "total_bill": 39.42,
         "tip": 7.58,
         "sex": "Male",
         "smoker": "No",
         "day": "Sat",
         "time": "Dinner",
         "size": 4,
         "price_per_person": 9.86,
         "Payer Name": "Lance Peterson",
         "CC Number": 3542584061609808,
         "Payment ID": "Sat239",
         "_deepnote_index_column": 23
        },
        {
         "total_bill": 48.33,
         "tip": 9,
         "sex": "Male",
         "smoker": "No",
         "day": "Sat",
         "time": "Dinner",
         "size": 4,
         "price_per_person": 12.08,
         "Payer Name": "Alex Williamson",
         "CC Number": 676218815212,
         "Payment ID": "Sat4590",
         "_deepnote_index_column": 212
        },
        {
         "total_bill": 50.81,
         "tip": 10,
         "sex": "Male",
         "smoker": "Yes",
         "day": "Sat",
         "time": "Dinner",
         "size": 3,
         "price_per_person": 16.94,
         "Payer Name": "Gregory Clark",
         "CC Number": 5473850968388236,
         "Payment ID": "Sat1954",
         "_deepnote_index_column": 170
        }
       ]
      },
      "text/plain": "     total_bill    tip     sex smoker   day    time  size  price_per_person  \\\n67         3.07   1.00  Female    Yes   Sat  Dinner     1              3.07   \n236       12.60   1.00    Male    Yes   Sat  Dinner     2              6.30   \n92         5.75   1.00  Female    Yes   Fri  Dinner     2              2.88   \n111        7.25   1.00  Female     No   Sat  Dinner     1              7.25   \n0         16.99   1.01  Female     No   Sun  Dinner     2              8.49   \n..          ...    ...     ...    ...   ...     ...   ...               ...   \n141       34.30   6.70    Male     No  Thur   Lunch     6              5.72   \n59        48.27   6.73    Male     No   Sat  Dinner     4             12.07   \n23        39.42   7.58    Male     No   Sat  Dinner     4              9.86   \n212       48.33   9.00    Male     No   Sat  Dinner     4             12.08   \n170       50.81  10.00    Male    Yes   Sat  Dinner     3             16.94   \n\n             Payer Name         CC Number Payment ID  \n67        Tiffany Brock  4359488526995267    Sat3455  \n236       Matthew Myers  3543676378973965    Sat5032  \n92         Leah Ramirez  3508911676966392    Fri3780  \n111         Terri Jones  3559221007826887    Sat4801  \n0    Christy Cunningham  3560325168603410    Sun2959  \n..                  ...               ...        ...  \n141      Steven Carlson  3526515703718508   Thur1025  \n59          Brian Ortiz  6596453823950595    Sat8139  \n23       Lance Peterson  3542584061609808     Sat239  \n212     Alex Williamson      676218815212    Sat4590  \n170       Gregory Clark  5473850968388236    Sat1954  \n\n[244 rows x 11 columns]",
      "text/html": "<div>\n<style scoped>\n    .dataframe tbody tr th:only-of-type {\n        vertical-align: middle;\n    }\n\n    .dataframe tbody tr th {\n        vertical-align: top;\n    }\n\n    .dataframe thead th {\n        text-align: right;\n    }\n</style>\n<table border=\"1\" class=\"dataframe\">\n  <thead>\n    <tr style=\"text-align: right;\">\n      <th></th>\n      <th>total_bill</th>\n      <th>tip</th>\n      <th>sex</th>\n      <th>smoker</th>\n      <th>day</th>\n      <th>time</th>\n      <th>size</th>\n      <th>price_per_person</th>\n      <th>Payer Name</th>\n      <th>CC Number</th>\n      <th>Payment ID</th>\n    </tr>\n  </thead>\n  <tbody>\n    <tr>\n      <th>67</th>\n      <td>3.07</td>\n      <td>1.00</td>\n      <td>Female</td>\n      <td>Yes</td>\n      <td>Sat</td>\n      <td>Dinner</td>\n      <td>1</td>\n      <td>3.07</td>\n      <td>Tiffany Brock</td>\n      <td>4359488526995267</td>\n      <td>Sat3455</td>\n    </tr>\n    <tr>\n      <th>236</th>\n      <td>12.60</td>\n      <td>1.00</td>\n      <td>Male</td>\n      <td>Yes</td>\n      <td>Sat</td>\n      <td>Dinner</td>\n      <td>2</td>\n      <td>6.30</td>\n      <td>Matthew Myers</td>\n      <td>3543676378973965</td>\n      <td>Sat5032</td>\n    </tr>\n    <tr>\n      <th>92</th>\n      <td>5.75</td>\n      <td>1.00</td>\n      <td>Female</td>\n      <td>Yes</td>\n      <td>Fri</td>\n      <td>Dinner</td>\n      <td>2</td>\n      <td>2.88</td>\n      <td>Leah Ramirez</td>\n      <td>3508911676966392</td>\n      <td>Fri3780</td>\n    </tr>\n    <tr>\n      <th>111</th>\n      <td>7.25</td>\n      <td>1.00</td>\n      <td>Female</td>\n      <td>No</td>\n      <td>Sat</td>\n      <td>Dinner</td>\n      <td>1</td>\n      <td>7.25</td>\n      <td>Terri Jones</td>\n      <td>3559221007826887</td>\n      <td>Sat4801</td>\n    </tr>\n    <tr>\n      <th>0</th>\n      <td>16.99</td>\n      <td>1.01</td>\n      <td>Female</td>\n      <td>No</td>\n      <td>Sun</td>\n      <td>Dinner</td>\n      <td>2</td>\n      <td>8.49</td>\n      <td>Christy Cunningham</td>\n      <td>3560325168603410</td>\n      <td>Sun2959</td>\n    </tr>\n    <tr>\n      <th>...</th>\n      <td>...</td>\n      <td>...</td>\n      <td>...</td>\n      <td>...</td>\n      <td>...</td>\n      <td>...</td>\n      <td>...</td>\n      <td>...</td>\n      <td>...</td>\n      <td>...</td>\n      <td>...</td>\n    </tr>\n    <tr>\n      <th>141</th>\n      <td>34.30</td>\n      <td>6.70</td>\n      <td>Male</td>\n      <td>No</td>\n      <td>Thur</td>\n      <td>Lunch</td>\n      <td>6</td>\n      <td>5.72</td>\n      <td>Steven Carlson</td>\n      <td>3526515703718508</td>\n      <td>Thur1025</td>\n    </tr>\n    <tr>\n      <th>59</th>\n      <td>48.27</td>\n      <td>6.73</td>\n      <td>Male</td>\n      <td>No</td>\n      <td>Sat</td>\n      <td>Dinner</td>\n      <td>4</td>\n      <td>12.07</td>\n      <td>Brian Ortiz</td>\n      <td>6596453823950595</td>\n      <td>Sat8139</td>\n    </tr>\n    <tr>\n      <th>23</th>\n      <td>39.42</td>\n      <td>7.58</td>\n      <td>Male</td>\n      <td>No</td>\n      <td>Sat</td>\n      <td>Dinner</td>\n      <td>4</td>\n      <td>9.86</td>\n      <td>Lance Peterson</td>\n      <td>3542584061609808</td>\n      <td>Sat239</td>\n    </tr>\n    <tr>\n      <th>212</th>\n      <td>48.33</td>\n      <td>9.00</td>\n      <td>Male</td>\n      <td>No</td>\n      <td>Sat</td>\n      <td>Dinner</td>\n      <td>4</td>\n      <td>12.08</td>\n      <td>Alex Williamson</td>\n      <td>676218815212</td>\n      <td>Sat4590</td>\n    </tr>\n    <tr>\n      <th>170</th>\n      <td>50.81</td>\n      <td>10.00</td>\n      <td>Male</td>\n      <td>Yes</td>\n      <td>Sat</td>\n      <td>Dinner</td>\n      <td>3</td>\n      <td>16.94</td>\n      <td>Gregory Clark</td>\n      <td>5473850968388236</td>\n      <td>Sat1954</td>\n    </tr>\n  </tbody>\n</table>\n<p>244 rows × 11 columns</p>\n</div>"
     },
     "metadata": {}
    }
   ]
  },
  {
   "cell_type": "code",
   "metadata": {
    "tags": [],
    "cell_id": "00023-19371c94-bfbe-4066-8c9b-4c79f74dda5b",
    "deepnote_to_be_reexecuted": false,
    "source_hash": "df887b3a",
    "execution_start": 1622382410821,
    "execution_millis": 91,
    "deepnote_cell_type": "code"
   },
   "source": "df.sort_values(['tip','size'])    #multiple columns",
   "execution_count": 24,
   "outputs": [
    {
     "output_type": "execute_result",
     "execution_count": 24,
     "data": {
      "application/vnd.deepnote.dataframe.v2+json": {
       "row_count": 244,
       "column_count": 11,
       "columns": [
        {
         "name": "total_bill",
         "dtype": "float64",
         "stats": {
          "unique_count": 229,
          "nan_count": 0,
          "min": "3.07",
          "max": "50.81",
          "histogram": [
           {
            "bin_start": 3.07,
            "bin_end": 7.843999999999999,
            "count": 7
           },
           {
            "bin_start": 7.843999999999999,
            "bin_end": 12.618,
            "count": 42
           },
           {
            "bin_start": 12.618,
            "bin_end": 17.392,
            "count": 68
           },
           {
            "bin_start": 17.392,
            "bin_end": 22.166,
            "count": 51
           },
           {
            "bin_start": 22.166,
            "bin_end": 26.94,
            "count": 31
           },
           {
            "bin_start": 26.94,
            "bin_end": 31.714,
            "count": 19
           },
           {
            "bin_start": 31.714,
            "bin_end": 36.488,
            "count": 12
           },
           {
            "bin_start": 36.488,
            "bin_end": 41.262,
            "count": 7
           },
           {
            "bin_start": 41.262,
            "bin_end": 46.036,
            "count": 3
           },
           {
            "bin_start": 46.036,
            "bin_end": 50.81,
            "count": 4
           }
          ]
         }
        },
        {
         "name": "tip",
         "dtype": "float64",
         "stats": {
          "unique_count": 123,
          "nan_count": 0,
          "min": "1.0",
          "max": "10.0",
          "histogram": [
           {
            "bin_start": 1,
            "bin_end": 1.9,
            "count": 41
           },
           {
            "bin_start": 1.9,
            "bin_end": 2.8,
            "count": 79
           },
           {
            "bin_start": 2.8,
            "bin_end": 3.7,
            "count": 66
           },
           {
            "bin_start": 3.7,
            "bin_end": 4.6,
            "count": 27
           },
           {
            "bin_start": 4.6,
            "bin_end": 5.5,
            "count": 19
           },
           {
            "bin_start": 5.5,
            "bin_end": 6.4,
            "count": 5
           },
           {
            "bin_start": 6.4,
            "bin_end": 7.3,
            "count": 4
           },
           {
            "bin_start": 7.3,
            "bin_end": 8.2,
            "count": 1
           },
           {
            "bin_start": 8.2,
            "bin_end": 9.1,
            "count": 1
           },
           {
            "bin_start": 9.1,
            "bin_end": 10,
            "count": 1
           }
          ]
         }
        },
        {
         "name": "sex",
         "dtype": "object",
         "stats": {
          "unique_count": 2,
          "nan_count": 0,
          "categories": [
           {
            "name": "Male",
            "count": 157
           },
           {
            "name": "Female",
            "count": 87
           }
          ]
         }
        },
        {
         "name": "smoker",
         "dtype": "object",
         "stats": {
          "unique_count": 2,
          "nan_count": 0,
          "categories": [
           {
            "name": "No",
            "count": 151
           },
           {
            "name": "Yes",
            "count": 93
           }
          ]
         }
        },
        {
         "name": "day",
         "dtype": "object",
         "stats": {
          "unique_count": 4,
          "nan_count": 0,
          "categories": [
           {
            "name": "Sat",
            "count": 87
           },
           {
            "name": "Sun",
            "count": 76
           },
           {
            "name": "2 others",
            "count": 81
           }
          ]
         }
        },
        {
         "name": "time",
         "dtype": "object",
         "stats": {
          "unique_count": 2,
          "nan_count": 0,
          "categories": [
           {
            "name": "Dinner",
            "count": 176
           },
           {
            "name": "Lunch",
            "count": 68
           }
          ]
         }
        },
        {
         "name": "size",
         "dtype": "int64",
         "stats": {
          "unique_count": 6,
          "nan_count": 0,
          "min": "1",
          "max": "6",
          "histogram": [
           {
            "bin_start": 1,
            "bin_end": 1.5,
            "count": 4
           },
           {
            "bin_start": 1.5,
            "bin_end": 2,
            "count": 0
           },
           {
            "bin_start": 2,
            "bin_end": 2.5,
            "count": 156
           },
           {
            "bin_start": 2.5,
            "bin_end": 3,
            "count": 0
           },
           {
            "bin_start": 3,
            "bin_end": 3.5,
            "count": 38
           },
           {
            "bin_start": 3.5,
            "bin_end": 4,
            "count": 0
           },
           {
            "bin_start": 4,
            "bin_end": 4.5,
            "count": 37
           },
           {
            "bin_start": 4.5,
            "bin_end": 5,
            "count": 0
           },
           {
            "bin_start": 5,
            "bin_end": 5.5,
            "count": 5
           },
           {
            "bin_start": 5.5,
            "bin_end": 6,
            "count": 4
           }
          ]
         }
        },
        {
         "name": "price_per_person",
         "dtype": "float64",
         "stats": {
          "unique_count": 217,
          "nan_count": 0,
          "min": "2.88",
          "max": "20.27",
          "histogram": [
           {
            "bin_start": 2.88,
            "bin_end": 4.619,
            "count": 19
           },
           {
            "bin_start": 4.619,
            "bin_end": 6.3580000000000005,
            "count": 69
           },
           {
            "bin_start": 6.3580000000000005,
            "bin_end": 8.097000000000001,
            "count": 60
           },
           {
            "bin_start": 8.097000000000001,
            "bin_end": 9.836,
            "count": 44
           },
           {
            "bin_start": 9.836,
            "bin_end": 11.575,
            "count": 26
           },
           {
            "bin_start": 11.575,
            "bin_end": 13.314,
            "count": 12
           },
           {
            "bin_start": 13.314,
            "bin_end": 15.053,
            "count": 6
           },
           {
            "bin_start": 15.053,
            "bin_end": 16.792,
            "count": 5
           },
           {
            "bin_start": 16.792,
            "bin_end": 18.531000000000002,
            "count": 2
           },
           {
            "bin_start": 18.531000000000002,
            "bin_end": 20.27,
            "count": 1
           }
          ]
         }
        },
        {
         "name": "Payer Name",
         "dtype": "object",
         "stats": {
          "unique_count": 244,
          "nan_count": 0,
          "categories": [
           {
            "name": "Tiffany Brock",
            "count": 1
           },
           {
            "name": "Terri Jones",
            "count": 1
           },
           {
            "name": "242 others",
            "count": 242
           }
          ]
         }
        },
        {
         "name": "CC Number",
         "dtype": "int64",
         "stats": {
          "unique_count": 244,
          "nan_count": 0,
          "min": "60406789937",
          "max": "6596453823950595",
          "histogram": [
           {
            "bin_start": 60406789937,
            "bin_end": 659699748506002.8,
            "count": 110
           },
           {
            "bin_start": 659699748506002.8,
            "bin_end": 1319339090222068.5,
            "count": 0
           },
           {
            "bin_start": 1319339090222068.5,
            "bin_end": 1978978431938134.2,
            "count": 0
           },
           {
            "bin_start": 1978978431938134.2,
            "bin_end": 2638617773654200,
            "count": 3
           },
           {
            "bin_start": 2638617773654200,
            "bin_end": 3298257115370266,
            "count": 0
           },
           {
            "bin_start": 3298257115370266,
            "bin_end": 3957896457086331.5,
            "count": 43
           },
           {
            "bin_start": 3957896457086331.5,
            "bin_end": 4617535798802397,
            "count": 30
           },
           {
            "bin_start": 4617535798802397,
            "bin_end": 5277175140518463,
            "count": 19
           },
           {
            "bin_start": 5277175140518463,
            "bin_end": 5936814482234529,
            "count": 15
           },
           {
            "bin_start": 5936814482234529,
            "bin_end": 6596453823950595,
            "count": 24
           }
          ]
         }
        },
        {
         "name": "Payment ID",
         "dtype": "object",
         "stats": {
          "unique_count": 243,
          "nan_count": 0,
          "categories": [
           {
            "name": "Thur8084",
            "count": 2
           },
           {
            "name": "Sat3455",
            "count": 1
           },
           {
            "name": "241 others",
            "count": 241
           }
          ]
         }
        },
        {
         "name": "_deepnote_index_column",
         "dtype": "int64"
        }
       ],
       "rows_top": [
        {
         "total_bill": 3.07,
         "tip": 1,
         "sex": "Female",
         "smoker": "Yes",
         "day": "Sat",
         "time": "Dinner",
         "size": 1,
         "price_per_person": 3.07,
         "Payer Name": "Tiffany Brock",
         "CC Number": 4359488526995267,
         "Payment ID": "Sat3455",
         "_deepnote_index_column": 67
        },
        {
         "total_bill": 7.25,
         "tip": 1,
         "sex": "Female",
         "smoker": "No",
         "day": "Sat",
         "time": "Dinner",
         "size": 1,
         "price_per_person": 7.25,
         "Payer Name": "Terri Jones",
         "CC Number": 3559221007826887,
         "Payment ID": "Sat4801",
         "_deepnote_index_column": 111
        },
        {
         "total_bill": 5.75,
         "tip": 1,
         "sex": "Female",
         "smoker": "Yes",
         "day": "Fri",
         "time": "Dinner",
         "size": 2,
         "price_per_person": 2.88,
         "Payer Name": "Leah Ramirez",
         "CC Number": 3508911676966392,
         "Payment ID": "Fri3780",
         "_deepnote_index_column": 92
        },
        {
         "total_bill": 12.6,
         "tip": 1,
         "sex": "Male",
         "smoker": "Yes",
         "day": "Sat",
         "time": "Dinner",
         "size": 2,
         "price_per_person": 6.3,
         "Payer Name": "Matthew Myers",
         "CC Number": 3543676378973965,
         "Payment ID": "Sat5032",
         "_deepnote_index_column": 236
        },
        {
         "total_bill": 16.99,
         "tip": 1.01,
         "sex": "Female",
         "smoker": "No",
         "day": "Sun",
         "time": "Dinner",
         "size": 2,
         "price_per_person": 8.49,
         "Payer Name": "Christy Cunningham",
         "CC Number": 3560325168603410,
         "Payment ID": "Sun2959",
         "_deepnote_index_column": 0
        },
        {
         "total_bill": 12.9,
         "tip": 1.1,
         "sex": "Female",
         "smoker": "Yes",
         "day": "Sat",
         "time": "Dinner",
         "size": 2,
         "price_per_person": 6.45,
         "Payer Name": "Jessica Owen",
         "CC Number": 4726904879471,
         "Payment ID": "Sat6983",
         "_deepnote_index_column": 215
        },
        {
         "total_bill": 32.83,
         "tip": 1.17,
         "sex": "Male",
         "smoker": "Yes",
         "day": "Sat",
         "time": "Dinner",
         "size": 2,
         "price_per_person": 16.42,
         "Payer Name": "Thomas Brown",
         "CC Number": 4284722681265508,
         "Payment ID": "Sat2929",
         "_deepnote_index_column": 237
        },
        {
         "total_bill": 10.51,
         "tip": 1.25,
         "sex": "Male",
         "smoker": "No",
         "day": "Sat",
         "time": "Dinner",
         "size": 2,
         "price_per_person": 5.26,
         "Payer Name": "Kenneth Hayes",
         "CC Number": 213142079731108,
         "Payment ID": "Sat5056",
         "_deepnote_index_column": 75
        },
        {
         "total_bill": 8.51,
         "tip": 1.25,
         "sex": "Female",
         "smoker": "No",
         "day": "Thur",
         "time": "Lunch",
         "size": 2,
         "price_per_person": 4.26,
         "Payer Name": "Rebecca Harris",
         "CC Number": 4320272020376174,
         "Payment ID": "Thur6600",
         "_deepnote_index_column": 135
        },
        {
         "total_bill": 10.07,
         "tip": 1.25,
         "sex": "Male",
         "smoker": "No",
         "day": "Sat",
         "time": "Dinner",
         "size": 2,
         "price_per_person": 5.04,
         "Payer Name": "Sean Gonzalez",
         "CC Number": 3534021246117605,
         "Payment ID": "Sat4615",
         "_deepnote_index_column": 235
        },
        {
         "total_bill": 9.68,
         "tip": 1.32,
         "sex": "Male",
         "smoker": "No",
         "day": "Sun",
         "time": "Dinner",
         "size": 2,
         "price_per_person": 4.84,
         "Payer Name": "Christopher Spears",
         "CC Number": 4387671121369212,
         "Payment ID": "Sun3279",
         "_deepnote_index_column": 43
        },
        {
         "total_bill": 18.64,
         "tip": 1.36,
         "sex": "Female",
         "smoker": "No",
         "day": "Thur",
         "time": "Lunch",
         "size": 3,
         "price_per_person": 6.21,
         "Payer Name": "Kelly Estrada",
         "CC Number": 60463302327,
         "Payment ID": "Thur3941",
         "_deepnote_index_column": 146
        },
        {
         "total_bill": 7.56,
         "tip": 1.44,
         "sex": "Male",
         "smoker": "No",
         "day": "Thur",
         "time": "Lunch",
         "size": 2,
         "price_per_person": 3.78,
         "Payer Name": "Michael White",
         "CC Number": 4865390263095532,
         "Payment ID": "Thur697",
         "_deepnote_index_column": 195
        },
        {
         "total_bill": 7.74,
         "tip": 1.44,
         "sex": "Male",
         "smoker": "Yes",
         "day": "Sat",
         "time": "Dinner",
         "size": 2,
         "price_per_person": 3.87,
         "Payer Name": "Nicholas Archer",
         "CC Number": 340517153733524,
         "Payment ID": "Sat4772",
         "_deepnote_index_column": 218
        },
        {
         "total_bill": 9.55,
         "tip": 1.45,
         "sex": "Male",
         "smoker": "No",
         "day": "Sat",
         "time": "Dinner",
         "size": 2,
         "price_per_person": 4.78,
         "Payer Name": "Grant Hall",
         "CC Number": 30196517521548,
         "Payment ID": "Sat4099",
         "_deepnote_index_column": 30
        },
        {
         "total_bill": 10.77,
         "tip": 1.47,
         "sex": "Male",
         "smoker": "No",
         "day": "Sat",
         "time": "Dinner",
         "size": 2,
         "price_per_person": 5.38,
         "Payer Name": "Paul Novak",
         "CC Number": 6011698897610858,
         "Payment ID": "Sat1467",
         "_deepnote_index_column": 233
        },
        {
         "total_bill": 8.52,
         "tip": 1.48,
         "sex": "Male",
         "smoker": "No",
         "day": "Thur",
         "time": "Lunch",
         "size": 2,
         "price_per_person": 4.26,
         "Payer Name": "Mario Bradshaw",
         "CC Number": 4524404353861811,
         "Payment ID": "Thur6719",
         "_deepnote_index_column": 126
        },
        {
         "total_bill": 26.41,
         "tip": 1.5,
         "sex": "Female",
         "smoker": "No",
         "day": "Sat",
         "time": "Dinner",
         "size": 2,
         "price_per_person": 13.2,
         "Payer Name": "Melody Simon",
         "CC Number": 4745394421258160,
         "Payment ID": "Sat8980",
         "_deepnote_index_column": 57
        },
        {
         "total_bill": 12.03,
         "tip": 1.5,
         "sex": "Male",
         "smoker": "Yes",
         "day": "Fri",
         "time": "Dinner",
         "size": 2,
         "price_per_person": 6.02,
         "Payer Name": "Eric Herrera",
         "CC Number": 580116092652,
         "Payment ID": "Fri9268",
         "_deepnote_index_column": 97
        },
        {
         "total_bill": 12.46,
         "tip": 1.5,
         "sex": "Male",
         "smoker": "No",
         "day": "Fri",
         "time": "Dinner",
         "size": 2,
         "price_per_person": 6.23,
         "Payer Name": "Edward Carter",
         "CC Number": 347435564751626,
         "Payment ID": "Fri5575",
         "_deepnote_index_column": 99
        },
        {
         "total_bill": 10.65,
         "tip": 1.5,
         "sex": "Female",
         "smoker": "No",
         "day": "Thur",
         "time": "Lunch",
         "size": 2,
         "price_per_person": 5.32,
         "Payer Name": "Linda Zhang",
         "CC Number": 3560509622598239,
         "Payment ID": "Thur9593",
         "_deepnote_index_column": 117
        },
        {
         "total_bill": 19.08,
         "tip": 1.5,
         "sex": "Male",
         "smoker": "No",
         "day": "Thur",
         "time": "Lunch",
         "size": 2,
         "price_per_person": 9.54,
         "Payer Name": "Seth Sexton",
         "CC Number": 213113680829581,
         "Payment ID": "Thur1446",
         "_deepnote_index_column": 130
        },
        {
         "total_bill": 11.17,
         "tip": 1.5,
         "sex": "Female",
         "smoker": "No",
         "day": "Thur",
         "time": "Lunch",
         "size": 2,
         "price_per_person": 5.58,
         "Payer Name": "Taylor Gonzalez",
         "CC Number": 6011990685390011,
         "Payment ID": "Thur7783",
         "_deepnote_index_column": 132
        },
        {
         "total_bill": 8.35,
         "tip": 1.5,
         "sex": "Female",
         "smoker": "No",
         "day": "Thur",
         "time": "Lunch",
         "size": 2,
         "price_per_person": 4.18,
         "Payer Name": "Amy Young",
         "CC Number": 4285454264477,
         "Payment ID": "Thur9331",
         "_deepnote_index_column": 145
        },
        {
         "total_bill": 15.69,
         "tip": 1.5,
         "sex": "Male",
         "smoker": "Yes",
         "day": "Sun",
         "time": "Dinner",
         "size": 2,
         "price_per_person": 7.84,
         "Payer Name": "Riley Barnes",
         "CC Number": 180053549128800,
         "Payment ID": "Sun5104",
         "_deepnote_index_column": 190
        },
        {
         "total_bill": 11.59,
         "tip": 1.5,
         "sex": "Male",
         "smoker": "Yes",
         "day": "Sat",
         "time": "Dinner",
         "size": 2,
         "price_per_person": 5.8,
         "Payer Name": "Gary Orr",
         "CC Number": 30324521283406,
         "Payment ID": "Sat8489",
         "_deepnote_index_column": 217
        },
        {
         "total_bill": 9.94,
         "tip": 1.56,
         "sex": "Male",
         "smoker": "No",
         "day": "Sun",
         "time": "Dinner",
         "size": 2,
         "price_per_person": 4.97,
         "Payer Name": "Curtis Morgan",
         "CC Number": 4628628020417301,
         "Payment ID": "Sun4561",
         "_deepnote_index_column": 53
        },
        {
         "total_bill": 15.42,
         "tip": 1.57,
         "sex": "Male",
         "smoker": "No",
         "day": "Sun",
         "time": "Dinner",
         "size": 2,
         "price_per_person": 7.71,
         "Payer Name": "Chad Harrington",
         "CC Number": 577040572932,
         "Payment ID": "Sun1300",
         "_deepnote_index_column": 12
        },
        {
         "total_bill": 13.42,
         "tip": 1.58,
         "sex": "Male",
         "smoker": "Yes",
         "day": "Fri",
         "time": "Lunch",
         "size": 2,
         "price_per_person": 6.71,
         "Payer Name": "Ronald Vaughn DVM",
         "CC Number": 341503466406403,
         "Payment ID": "Fri5959",
         "_deepnote_index_column": 224
        },
        {
         "total_bill": 10.59,
         "tip": 1.61,
         "sex": "Female",
         "smoker": "Yes",
         "day": "Sat",
         "time": "Dinner",
         "size": 2,
         "price_per_person": 5.3,
         "Payer Name": "Sara Jimenez",
         "CC Number": 502053147208,
         "Payment ID": "Sat9795",
         "_deepnote_index_column": 168
        },
        {
         "total_bill": 11.87,
         "tip": 1.63,
         "sex": "Female",
         "smoker": "No",
         "day": "Thur",
         "time": "Lunch",
         "size": 2,
         "price_per_person": 5.94,
         "Payer Name": "Annette Cunningham",
         "CC Number": 675937746864,
         "Payment ID": "Thur4780",
         "_deepnote_index_column": 147
        },
        {
         "total_bill": 15.36,
         "tip": 1.64,
         "sex": "Male",
         "smoker": "Yes",
         "day": "Sat",
         "time": "Dinner",
         "size": 2,
         "price_per_person": 7.68,
         "Payer Name": "David Price",
         "CC Number": 4029957452720,
         "Payment ID": "Sat5106",
         "_deepnote_index_column": 105
        },
        {
         "total_bill": 10.34,
         "tip": 1.66,
         "sex": "Male",
         "smoker": "No",
         "day": "Sun",
         "time": "Dinner",
         "size": 3,
         "price_per_person": 3.45,
         "Payer Name": "Douglas Tucker",
         "CC Number": 4478071379779230,
         "Payment ID": "Sun4608",
         "_deepnote_index_column": 1
        },
        {
         "total_bill": 10.33,
         "tip": 1.67,
         "sex": "Female",
         "smoker": "No",
         "day": "Sun",
         "time": "Dinner",
         "size": 3,
         "price_per_person": 3.44,
         "Payer Name": "Elizabeth Foster",
         "CC Number": 4240025044626033,
         "Payment ID": "Sun9715",
         "_deepnote_index_column": 16
        },
        {
         "total_bill": 13.42,
         "tip": 1.68,
         "sex": "Female",
         "smoker": "No",
         "day": "Thur",
         "time": "Lunch",
         "size": 2,
         "price_per_person": 6.71,
         "Payer Name": "Laura Garcia",
         "CC Number": 5181484390945653,
         "Payment ID": "Thur2158",
         "_deepnote_index_column": 121
        },
        {
         "total_bill": 10.27,
         "tip": 1.71,
         "sex": "Male",
         "smoker": "No",
         "day": "Sun",
         "time": "Dinner",
         "size": 2,
         "price_per_person": 5.14,
         "Payer Name": "William Riley",
         "CC Number": 566287581219,
         "Payment ID": "Sun2546",
         "_deepnote_index_column": 10
        },
        {
         "total_bill": 9.78,
         "tip": 1.73,
         "sex": "Male",
         "smoker": "No",
         "day": "Thur",
         "time": "Lunch",
         "size": 2,
         "price_per_person": 4.89,
         "Payer Name": "David Stewart",
         "CC Number": 3578014604116399,
         "Payment ID": "Thur7276",
         "_deepnote_index_column": 148
        },
        {
         "total_bill": 17.82,
         "tip": 1.75,
         "sex": "Male",
         "smoker": "No",
         "day": "Sat",
         "time": "Dinner",
         "size": 2,
         "price_per_person": 8.91,
         "Payer Name": "Dennis Dixon",
         "CC Number": 4375220550950,
         "Payment ID": "Sat17",
         "_deepnote_index_column": 242
        },
        {
         "total_bill": 11.24,
         "tip": 1.76,
         "sex": "Male",
         "smoker": "Yes",
         "day": "Sat",
         "time": "Dinner",
         "size": 2,
         "price_per_person": 5.62,
         "Payer Name": "Troy Guerrero",
         "CC Number": 3560782621035582,
         "Payment ID": "Sat6683",
         "_deepnote_index_column": 58
        },
        {
         "total_bill": 12.43,
         "tip": 1.8,
         "sex": "Female",
         "smoker": "No",
         "day": "Thur",
         "time": "Lunch",
         "size": 2,
         "price_per_person": 6.22,
         "Payer Name": "Dr. Caroline Tucker",
         "CC Number": 502047186908,
         "Payment ID": "Thur8084",
         "_deepnote_index_column": 118
        },
        {
         "total_bill": 10.07,
         "tip": 1.83,
         "sex": "Female",
         "smoker": "No",
         "day": "Thur",
         "time": "Lunch",
         "size": 1,
         "price_per_person": 10.07,
         "Payer Name": "Julie Moody",
         "CC Number": 630413282843,
         "Payment ID": "Thur4909",
         "_deepnote_index_column": 82
        },
        {
         "total_bill": 8.58,
         "tip": 1.92,
         "sex": "Male",
         "smoker": "Yes",
         "day": "Fri",
         "time": "Lunch",
         "size": 1,
         "price_per_person": 8.58,
         "Payer Name": "Jason Lawrence",
         "CC Number": 3505302934650403,
         "Payment ID": "Fri6624",
         "_deepnote_index_column": 222
        },
        {
         "total_bill": 15.04,
         "tip": 1.96,
         "sex": "Male",
         "smoker": "No",
         "day": "Sun",
         "time": "Dinner",
         "size": 2,
         "price_per_person": 7.52,
         "Payer Name": "Joseph Mcdonald",
         "CC Number": 3522866365840377,
         "Payment ID": "Sun6820",
         "_deepnote_index_column": 8
        },
        {
         "total_bill": 12.02,
         "tip": 1.97,
         "sex": "Male",
         "smoker": "No",
         "day": "Sat",
         "time": "Dinner",
         "size": 2,
         "price_per_person": 6.01,
         "Payer Name": "Max Brown",
         "CC Number": 213139760497718,
         "Payment ID": "Sat2100",
         "_deepnote_index_column": 70
        },
        {
         "total_bill": 11.02,
         "tip": 1.98,
         "sex": "Male",
         "smoker": "Yes",
         "day": "Sat",
         "time": "Dinner",
         "size": 2,
         "price_per_person": 5.51,
         "Payer Name": "Joseph Hart",
         "CC Number": 180046232326178,
         "Payment ID": "Sat2265",
         "_deepnote_index_column": 62
        }
       ],
       "rows_bottom": [
        {
         "total_bill": 23.1,
         "tip": 4,
         "sex": "Male",
         "smoker": "Yes",
         "day": "Sun",
         "time": "Dinner",
         "size": 3,
         "price_per_person": 7.7,
         "Payer Name": "Richard Stevens",
         "CC Number": 3560193117506187,
         "Payment ID": "Sun1821",
         "_deepnote_index_column": 189
        },
        {
         "total_bill": 18.71,
         "tip": 4,
         "sex": "Male",
         "smoker": "Yes",
         "day": "Thur",
         "time": "Lunch",
         "size": 3,
         "price_per_person": 6.24,
         "Payer Name": "Jason Conrad",
         "CC Number": 4581233003487,
         "Payment ID": "Thur6048",
         "_deepnote_index_column": 200
        },
        {
         "total_bill": 27.2,
         "tip": 4,
         "sex": "Male",
         "smoker": "No",
         "day": "Thur",
         "time": "Lunch",
         "size": 4,
         "price_per_person": 6.8,
         "Payer Name": "John Davis",
         "CC Number": 30344778738589,
         "Payment ID": "Thur4924",
         "_deepnote_index_column": 77
        },
        {
         "total_bill": 20.53,
         "tip": 4,
         "sex": "Male",
         "smoker": "Yes",
         "day": "Thur",
         "time": "Lunch",
         "size": 4,
         "price_per_person": 5.13,
         "Payer Name": "Scott Kim",
         "CC Number": 3570611756827620,
         "Payment ID": "Thur2160",
         "_deepnote_index_column": 204
        },
        {
         "total_bill": 20.49,
         "tip": 4.06,
         "sex": "Male",
         "smoker": "Yes",
         "day": "Sat",
         "time": "Dinner",
         "size": 2,
         "price_per_person": 10.24,
         "Payer Name": "Karl Mcdaniel",
         "CC Number": 180024452771522,
         "Payment ID": "Sat7865",
         "_deepnote_index_column": 106
        },
        {
         "total_bill": 17.92,
         "tip": 4.08,
         "sex": "Male",
         "smoker": "No",
         "day": "Sat",
         "time": "Dinner",
         "size": 2,
         "price_per_person": 8.96,
         "Payer Name": "Thomas Rice",
         "CC Number": 4403296224639756,
         "Payment ID": "Sat1709",
         "_deepnote_index_column": 20
        },
        {
         "total_bill": 20.92,
         "tip": 4.08,
         "sex": "Female",
         "smoker": "No",
         "day": "Sat",
         "time": "Dinner",
         "size": 2,
         "price_per_person": 10.46,
         "Payer Name": "Gabrielle Frederick",
         "CC Number": 4013010878990106,
         "Payment ID": "Sat3194",
         "_deepnote_index_column": 104
        },
        {
         "total_bill": 19.81,
         "tip": 4.19,
         "sex": "Female",
         "smoker": "Yes",
         "day": "Thur",
         "time": "Lunch",
         "size": 2,
         "price_per_person": 9.9,
         "Payer Name": "Kristy Boyd",
         "CC Number": 4317015327600068,
         "Payment ID": "Thur967",
         "_deepnote_index_column": 191
        },
        {
         "total_bill": 29.8,
         "tip": 4.2,
         "sex": "Female",
         "smoker": "No",
         "day": "Thur",
         "time": "Lunch",
         "size": 6,
         "price_per_person": 4.97,
         "Payer Name": "Angela Sanchez",
         "CC Number": 503857080488,
         "Payment ID": "Thur3948",
         "_deepnote_index_column": 125
        },
        {
         "total_bill": 25.21,
         "tip": 4.29,
         "sex": "Male",
         "smoker": "Yes",
         "day": "Sat",
         "time": "Dinner",
         "size": 2,
         "price_per_person": 12.6,
         "Payer Name": "Jason Mullen",
         "CC Number": 4738781782868,
         "Payment ID": "Sat5196",
         "_deepnote_index_column": 107
        },
        {
         "total_bill": 21.7,
         "tip": 4.3,
         "sex": "Male",
         "smoker": "No",
         "day": "Sat",
         "time": "Dinner",
         "size": 2,
         "price_per_person": 10.85,
         "Payer Name": "David Collier",
         "CC Number": 5529694315416009,
         "Payment ID": "Sat3697",
         "_deepnote_index_column": 28
        },
        {
         "total_bill": 16.32,
         "tip": 4.3,
         "sex": "Female",
         "smoker": "Yes",
         "day": "Fri",
         "time": "Dinner",
         "size": 2,
         "price_per_person": 8.16,
         "Payer Name": "Natalie Nguyen",
         "CC Number": 5181236182893396,
         "Payment ID": "Fri6963",
         "_deepnote_index_column": 93
        },
        {
         "total_bill": 25.56,
         "tip": 4.34,
         "sex": "Male",
         "smoker": "No",
         "day": "Sun",
         "time": "Dinner",
         "size": 4,
         "price_per_person": 6.39,
         "Payer Name": "Ronald Owens",
         "CC Number": 6569607991983380,
         "Payment ID": "Sun9470",
         "_deepnote_index_column": 54
        },
        {
         "total_bill": 31.71,
         "tip": 4.5,
         "sex": "Male",
         "smoker": "No",
         "day": "Sun",
         "time": "Dinner",
         "size": 4,
         "price_per_person": 7.93,
         "Payer Name": "Michael Lawson",
         "CC Number": 3566285921227119,
         "Payment ID": "Sun3719",
         "_deepnote_index_column": 167
        },
        {
         "total_bill": 35.83,
         "tip": 4.67,
         "sex": "Female",
         "smoker": "No",
         "day": "Sat",
         "time": "Dinner",
         "size": 3,
         "price_per_person": 11.94,
         "Payer Name": "Kimberly Crane",
         "CC Number": 676184013727,
         "Payment ID": "Sat9777",
         "_deepnote_index_column": 238
        },
        {
         "total_bill": 25.29,
         "tip": 4.71,
         "sex": "Male",
         "smoker": "No",
         "day": "Sun",
         "time": "Dinner",
         "size": 4,
         "price_per_person": 6.32,
         "Payer Name": "Erik Smith",
         "CC Number": 213140353657882,
         "Payment ID": "Sun9679",
         "_deepnote_index_column": 5
        },
        {
         "total_bill": 40.17,
         "tip": 4.73,
         "sex": "Male",
         "smoker": "Yes",
         "day": "Fri",
         "time": "Dinner",
         "size": 4,
         "price_per_person": 10.04,
         "Payer Name": "Aaron Bentley",
         "CC Number": 180026611638690,
         "Payment ID": "Fri9628",
         "_deepnote_index_column": 95
        },
        {
         "total_bill": 22.23,
         "tip": 5,
         "sex": "Male",
         "smoker": "No",
         "day": "Sun",
         "time": "Dinner",
         "size": 2,
         "price_per_person": 11.12,
         "Payer Name": "Joshua Gilmore",
         "CC Number": 4292072734899,
         "Payment ID": "Sun7097",
         "_deepnote_index_column": 46
        },
        {
         "total_bill": 25.28,
         "tip": 5,
         "sex": "Female",
         "smoker": "Yes",
         "day": "Sat",
         "time": "Dinner",
         "size": 2,
         "price_per_person": 12.64,
         "Payer Name": "Julie Holmes",
         "CC Number": 5418689346409571,
         "Payment ID": "Sat6065",
         "_deepnote_index_column": 73
        },
        {
         "total_bill": 32.68,
         "tip": 5,
         "sex": "Male",
         "smoker": "Yes",
         "day": "Thur",
         "time": "Lunch",
         "size": 2,
         "price_per_person": 16.34,
         "Payer Name": "Daniel Murphy",
         "CC Number": 5356177501009133,
         "Payment ID": "Thur8801",
         "_deepnote_index_column": 83
        },
        {
         "total_bill": 31.27,
         "tip": 5,
         "sex": "Male",
         "smoker": "No",
         "day": "Sat",
         "time": "Dinner",
         "size": 3,
         "price_per_person": 10.42,
         "Payer Name": "Mr. Brandon Berry",
         "CC Number": 6011525851069856,
         "Payment ID": "Sat6373",
         "_deepnote_index_column": 39
        },
        {
         "total_bill": 35.26,
         "tip": 5,
         "sex": "Female",
         "smoker": "No",
         "day": "Sun",
         "time": "Dinner",
         "size": 4,
         "price_per_person": 8.82,
         "Payer Name": "Diane Macias",
         "CC Number": 4577817359320969,
         "Payment ID": "Sun6686",
         "_deepnote_index_column": 11
        },
        {
         "total_bill": 43.11,
         "tip": 5,
         "sex": "Female",
         "smoker": "Yes",
         "day": "Thur",
         "time": "Lunch",
         "size": 4,
         "price_per_person": 10.78,
         "Payer Name": "Brooke Soto",
         "CC Number": 5544902205760175,
         "Payment ID": "Thur9313",
         "_deepnote_index_column": 197
        },
        {
         "total_bill": 41.19,
         "tip": 5,
         "sex": "Male",
         "smoker": "No",
         "day": "Thur",
         "time": "Lunch",
         "size": 5,
         "price_per_person": 8.24,
         "Payer Name": "Eric Andrews",
         "CC Number": 4356531761046453,
         "Payment ID": "Thur3621",
         "_deepnote_index_column": 142
        },
        {
         "total_bill": 20.69,
         "tip": 5,
         "sex": "Male",
         "smoker": "No",
         "day": "Sun",
         "time": "Dinner",
         "size": 5,
         "price_per_person": 4.14,
         "Payer Name": "Joseph Howell",
         "CC Number": 30362407455623,
         "Payment ID": "Sun5842",
         "_deepnote_index_column": 185
        },
        {
         "total_bill": 27.05,
         "tip": 5,
         "sex": "Female",
         "smoker": "No",
         "day": "Thur",
         "time": "Lunch",
         "size": 6,
         "price_per_person": 4.51,
         "Payer Name": "Regina Jones",
         "CC Number": 4311048695487,
         "Payment ID": "Thur6179",
         "_deepnote_index_column": 143
        },
        {
         "total_bill": 48.17,
         "tip": 5,
         "sex": "Male",
         "smoker": "No",
         "day": "Sun",
         "time": "Dinner",
         "size": 6,
         "price_per_person": 8.03,
         "Payer Name": "Ryan Gonzales",
         "CC Number": 3523151482063321,
         "Payment ID": "Sun7518",
         "_deepnote_index_column": 156
        },
        {
         "total_bill": 29.93,
         "tip": 5.07,
         "sex": "Male",
         "smoker": "No",
         "day": "Sun",
         "time": "Dinner",
         "size": 4,
         "price_per_person": 7.48,
         "Payer Name": "Shawn Blake",
         "CC Number": 4689079711213722,
         "Payment ID": "Sun22",
         "_deepnote_index_column": 116
        },
        {
         "total_bill": 29.85,
         "tip": 5.14,
         "sex": "Female",
         "smoker": "No",
         "day": "Sun",
         "time": "Dinner",
         "size": 5,
         "price_per_person": 5.97,
         "Payer Name": "Madison Wilson",
         "CC Number": 4210875236164664,
         "Payment ID": "Sun9176",
         "_deepnote_index_column": 155
        },
        {
         "total_bill": 7.25,
         "tip": 5.15,
         "sex": "Male",
         "smoker": "Yes",
         "day": "Sun",
         "time": "Dinner",
         "size": 2,
         "price_per_person": 3.62,
         "Payer Name": "Larry White",
         "CC Number": 30432617123103,
         "Payment ID": "Sun9209",
         "_deepnote_index_column": 172
        },
        {
         "total_bill": 25.89,
         "tip": 5.16,
         "sex": "Male",
         "smoker": "Yes",
         "day": "Sat",
         "time": "Dinner",
         "size": 4,
         "price_per_person": 6.47,
         "Payer Name": "Christopher Li",
         "CC Number": 6011962464150569,
         "Payment ID": "Sat6735",
         "_deepnote_index_column": 211
        },
        {
         "total_bill": 34.83,
         "tip": 5.17,
         "sex": "Female",
         "smoker": "No",
         "day": "Thur",
         "time": "Lunch",
         "size": 4,
         "price_per_person": 8.71,
         "Payer Name": "Shawna Cook",
         "CC Number": 6011787464177340,
         "Payment ID": "Thur7972",
         "_deepnote_index_column": 85
        },
        {
         "total_bill": 34.81,
         "tip": 5.2,
         "sex": "Female",
         "smoker": "No",
         "day": "Sun",
         "time": "Dinner",
         "size": 4,
         "price_per_person": 8.7,
         "Payer Name": "Emily Daniel",
         "CC Number": 4291280793094374,
         "Payment ID": "Sun6165",
         "_deepnote_index_column": 52
        },
        {
         "total_bill": 30.4,
         "tip": 5.6,
         "sex": "Male",
         "smoker": "No",
         "day": "Sun",
         "time": "Dinner",
         "size": 4,
         "price_per_person": 7.6,
         "Payer Name": "Todd Cooper",
         "CC Number": 503846761263,
         "Payment ID": "Sun2274",
         "_deepnote_index_column": 44
        },
        {
         "total_bill": 23.33,
         "tip": 5.65,
         "sex": "Male",
         "smoker": "Yes",
         "day": "Sun",
         "time": "Dinner",
         "size": 2,
         "price_per_person": 11.66,
         "Payer Name": "Jason Cox",
         "CC Number": 6556931703586223,
         "Payment ID": "Sun3402",
         "_deepnote_index_column": 181
        },
        {
         "total_bill": 24.71,
         "tip": 5.85,
         "sex": "Male",
         "smoker": "No",
         "day": "Thur",
         "time": "Lunch",
         "size": 2,
         "price_per_person": 12.36,
         "Payer Name": "Roger Taylor",
         "CC Number": 4410248629955,
         "Payment ID": "Thur9003",
         "_deepnote_index_column": 88
        },
        {
         "total_bill": 29.03,
         "tip": 5.92,
         "sex": "Male",
         "smoker": "No",
         "day": "Sat",
         "time": "Dinner",
         "size": 3,
         "price_per_person": 9.68,
         "Payer Name": "Michael Avila",
         "CC Number": 5296068606052842,
         "Payment ID": "Sat2657",
         "_deepnote_index_column": 239
        },
        {
         "total_bill": 32.4,
         "tip": 6,
         "sex": "Male",
         "smoker": "No",
         "day": "Sun",
         "time": "Dinner",
         "size": 4,
         "price_per_person": 8.1,
         "Payer Name": "James Barnes",
         "CC Number": 3552002592874186,
         "Payment ID": "Sun9677",
         "_deepnote_index_column": 47
        },
        {
         "total_bill": 28.17,
         "tip": 6.5,
         "sex": "Female",
         "smoker": "Yes",
         "day": "Sat",
         "time": "Dinner",
         "size": 3,
         "price_per_person": 9.39,
         "Payer Name": "Marissa Jackson",
         "CC Number": 4922302538691962,
         "Payment ID": "Sat3374",
         "_deepnote_index_column": 214
        },
        {
         "total_bill": 23.17,
         "tip": 6.5,
         "sex": "Male",
         "smoker": "Yes",
         "day": "Sun",
         "time": "Dinner",
         "size": 4,
         "price_per_person": 5.79,
         "Payer Name": "Dr. Michael James",
         "CC Number": 4718501859162,
         "Payment ID": "Sun6059",
         "_deepnote_index_column": 183
        },
        {
         "total_bill": 34.3,
         "tip": 6.7,
         "sex": "Male",
         "smoker": "No",
         "day": "Thur",
         "time": "Lunch",
         "size": 6,
         "price_per_person": 5.72,
         "Payer Name": "Steven Carlson",
         "CC Number": 3526515703718508,
         "Payment ID": "Thur1025",
         "_deepnote_index_column": 141
        },
        {
         "total_bill": 48.27,
         "tip": 6.73,
         "sex": "Male",
         "smoker": "No",
         "day": "Sat",
         "time": "Dinner",
         "size": 4,
         "price_per_person": 12.07,
         "Payer Name": "Brian Ortiz",
         "CC Number": 6596453823950595,
         "Payment ID": "Sat8139",
         "_deepnote_index_column": 59
        },
        {
         "total_bill": 39.42,
         "tip": 7.58,
         "sex": "Male",
         "smoker": "No",
         "day": "Sat",
         "time": "Dinner",
         "size": 4,
         "price_per_person": 9.86,
         "Payer Name": "Lance Peterson",
         "CC Number": 3542584061609808,
         "Payment ID": "Sat239",
         "_deepnote_index_column": 23
        },
        {
         "total_bill": 48.33,
         "tip": 9,
         "sex": "Male",
         "smoker": "No",
         "day": "Sat",
         "time": "Dinner",
         "size": 4,
         "price_per_person": 12.08,
         "Payer Name": "Alex Williamson",
         "CC Number": 676218815212,
         "Payment ID": "Sat4590",
         "_deepnote_index_column": 212
        },
        {
         "total_bill": 50.81,
         "tip": 10,
         "sex": "Male",
         "smoker": "Yes",
         "day": "Sat",
         "time": "Dinner",
         "size": 3,
         "price_per_person": 16.94,
         "Payer Name": "Gregory Clark",
         "CC Number": 5473850968388236,
         "Payment ID": "Sat1954",
         "_deepnote_index_column": 170
        }
       ]
      },
      "text/plain": "     total_bill    tip     sex smoker   day    time  size  price_per_person  \\\n67         3.07   1.00  Female    Yes   Sat  Dinner     1              3.07   \n111        7.25   1.00  Female     No   Sat  Dinner     1              7.25   \n92         5.75   1.00  Female    Yes   Fri  Dinner     2              2.88   \n236       12.60   1.00    Male    Yes   Sat  Dinner     2              6.30   \n0         16.99   1.01  Female     No   Sun  Dinner     2              8.49   \n..          ...    ...     ...    ...   ...     ...   ...               ...   \n141       34.30   6.70    Male     No  Thur   Lunch     6              5.72   \n59        48.27   6.73    Male     No   Sat  Dinner     4             12.07   \n23        39.42   7.58    Male     No   Sat  Dinner     4              9.86   \n212       48.33   9.00    Male     No   Sat  Dinner     4             12.08   \n170       50.81  10.00    Male    Yes   Sat  Dinner     3             16.94   \n\n             Payer Name         CC Number Payment ID  \n67        Tiffany Brock  4359488526995267    Sat3455  \n111         Terri Jones  3559221007826887    Sat4801  \n92         Leah Ramirez  3508911676966392    Fri3780  \n236       Matthew Myers  3543676378973965    Sat5032  \n0    Christy Cunningham  3560325168603410    Sun2959  \n..                  ...               ...        ...  \n141      Steven Carlson  3526515703718508   Thur1025  \n59          Brian Ortiz  6596453823950595    Sat8139  \n23       Lance Peterson  3542584061609808     Sat239  \n212     Alex Williamson      676218815212    Sat4590  \n170       Gregory Clark  5473850968388236    Sat1954  \n\n[244 rows x 11 columns]",
      "text/html": "<div>\n<style scoped>\n    .dataframe tbody tr th:only-of-type {\n        vertical-align: middle;\n    }\n\n    .dataframe tbody tr th {\n        vertical-align: top;\n    }\n\n    .dataframe thead th {\n        text-align: right;\n    }\n</style>\n<table border=\"1\" class=\"dataframe\">\n  <thead>\n    <tr style=\"text-align: right;\">\n      <th></th>\n      <th>total_bill</th>\n      <th>tip</th>\n      <th>sex</th>\n      <th>smoker</th>\n      <th>day</th>\n      <th>time</th>\n      <th>size</th>\n      <th>price_per_person</th>\n      <th>Payer Name</th>\n      <th>CC Number</th>\n      <th>Payment ID</th>\n    </tr>\n  </thead>\n  <tbody>\n    <tr>\n      <th>67</th>\n      <td>3.07</td>\n      <td>1.00</td>\n      <td>Female</td>\n      <td>Yes</td>\n      <td>Sat</td>\n      <td>Dinner</td>\n      <td>1</td>\n      <td>3.07</td>\n      <td>Tiffany Brock</td>\n      <td>4359488526995267</td>\n      <td>Sat3455</td>\n    </tr>\n    <tr>\n      <th>111</th>\n      <td>7.25</td>\n      <td>1.00</td>\n      <td>Female</td>\n      <td>No</td>\n      <td>Sat</td>\n      <td>Dinner</td>\n      <td>1</td>\n      <td>7.25</td>\n      <td>Terri Jones</td>\n      <td>3559221007826887</td>\n      <td>Sat4801</td>\n    </tr>\n    <tr>\n      <th>92</th>\n      <td>5.75</td>\n      <td>1.00</td>\n      <td>Female</td>\n      <td>Yes</td>\n      <td>Fri</td>\n      <td>Dinner</td>\n      <td>2</td>\n      <td>2.88</td>\n      <td>Leah Ramirez</td>\n      <td>3508911676966392</td>\n      <td>Fri3780</td>\n    </tr>\n    <tr>\n      <th>236</th>\n      <td>12.60</td>\n      <td>1.00</td>\n      <td>Male</td>\n      <td>Yes</td>\n      <td>Sat</td>\n      <td>Dinner</td>\n      <td>2</td>\n      <td>6.30</td>\n      <td>Matthew Myers</td>\n      <td>3543676378973965</td>\n      <td>Sat5032</td>\n    </tr>\n    <tr>\n      <th>0</th>\n      <td>16.99</td>\n      <td>1.01</td>\n      <td>Female</td>\n      <td>No</td>\n      <td>Sun</td>\n      <td>Dinner</td>\n      <td>2</td>\n      <td>8.49</td>\n      <td>Christy Cunningham</td>\n      <td>3560325168603410</td>\n      <td>Sun2959</td>\n    </tr>\n    <tr>\n      <th>...</th>\n      <td>...</td>\n      <td>...</td>\n      <td>...</td>\n      <td>...</td>\n      <td>...</td>\n      <td>...</td>\n      <td>...</td>\n      <td>...</td>\n      <td>...</td>\n      <td>...</td>\n      <td>...</td>\n    </tr>\n    <tr>\n      <th>141</th>\n      <td>34.30</td>\n      <td>6.70</td>\n      <td>Male</td>\n      <td>No</td>\n      <td>Thur</td>\n      <td>Lunch</td>\n      <td>6</td>\n      <td>5.72</td>\n      <td>Steven Carlson</td>\n      <td>3526515703718508</td>\n      <td>Thur1025</td>\n    </tr>\n    <tr>\n      <th>59</th>\n      <td>48.27</td>\n      <td>6.73</td>\n      <td>Male</td>\n      <td>No</td>\n      <td>Sat</td>\n      <td>Dinner</td>\n      <td>4</td>\n      <td>12.07</td>\n      <td>Brian Ortiz</td>\n      <td>6596453823950595</td>\n      <td>Sat8139</td>\n    </tr>\n    <tr>\n      <th>23</th>\n      <td>39.42</td>\n      <td>7.58</td>\n      <td>Male</td>\n      <td>No</td>\n      <td>Sat</td>\n      <td>Dinner</td>\n      <td>4</td>\n      <td>9.86</td>\n      <td>Lance Peterson</td>\n      <td>3542584061609808</td>\n      <td>Sat239</td>\n    </tr>\n    <tr>\n      <th>212</th>\n      <td>48.33</td>\n      <td>9.00</td>\n      <td>Male</td>\n      <td>No</td>\n      <td>Sat</td>\n      <td>Dinner</td>\n      <td>4</td>\n      <td>12.08</td>\n      <td>Alex Williamson</td>\n      <td>676218815212</td>\n      <td>Sat4590</td>\n    </tr>\n    <tr>\n      <th>170</th>\n      <td>50.81</td>\n      <td>10.00</td>\n      <td>Male</td>\n      <td>Yes</td>\n      <td>Sat</td>\n      <td>Dinner</td>\n      <td>3</td>\n      <td>16.94</td>\n      <td>Gregory Clark</td>\n      <td>5473850968388236</td>\n      <td>Sat1954</td>\n    </tr>\n  </tbody>\n</table>\n<p>244 rows × 11 columns</p>\n</div>"
     },
     "metadata": {}
    }
   ]
  },
  {
   "cell_type": "code",
   "metadata": {
    "tags": [],
    "cell_id": "00024-a835076a-a6b5-4482-be57-317d63a86666",
    "deepnote_to_be_reexecuted": false,
    "source_hash": "da65f7d4",
    "execution_start": 1622382410954,
    "execution_millis": 5,
    "deepnote_cell_type": "code"
   },
   "source": "df['total_bill'].max()",
   "execution_count": 25,
   "outputs": [
    {
     "output_type": "execute_result",
     "execution_count": 25,
     "data": {
      "text/plain": "50.81"
     },
     "metadata": {}
    }
   ]
  },
  {
   "cell_type": "code",
   "metadata": {
    "tags": [],
    "cell_id": "00025-d64090f7-616b-4232-9876-57bf1224db77",
    "deepnote_to_be_reexecuted": false,
    "source_hash": "9ee34de9",
    "execution_start": 1622382410955,
    "execution_millis": 4,
    "deepnote_cell_type": "code"
   },
   "source": "df['total_bill'].idxmax()      #for index",
   "execution_count": 26,
   "outputs": [
    {
     "output_type": "execute_result",
     "execution_count": 26,
     "data": {
      "text/plain": "170"
     },
     "metadata": {}
    }
   ]
  },
  {
   "cell_type": "code",
   "metadata": {
    "tags": [],
    "cell_id": "00026-b830bfb6-d00b-4bd7-92ef-0a5cbbcc0b00",
    "deepnote_to_be_reexecuted": false,
    "source_hash": "f8453a83",
    "execution_start": 1622382410955,
    "execution_millis": 16,
    "deepnote_cell_type": "code"
   },
   "source": "df.corr()",
   "execution_count": 27,
   "outputs": [
    {
     "output_type": "execute_result",
     "execution_count": 27,
     "data": {
      "application/vnd.deepnote.dataframe.v2+json": {
       "row_count": 5,
       "column_count": 5,
       "columns": [
        {
         "name": "total_bill",
         "dtype": "float64",
         "stats": {
          "unique_count": 5,
          "nan_count": 0,
          "min": "0.10457570083739566",
          "max": "1.0",
          "histogram": [
           {
            "bin_start": 0.10457570083739566,
            "bin_end": 0.19411813075365608,
            "count": 1
           },
           {
            "bin_start": 0.19411813075365608,
            "bin_end": 0.2836605606699165,
            "count": 0
           },
           {
            "bin_start": 0.2836605606699165,
            "bin_end": 0.37320299058617695,
            "count": 0
           },
           {
            "bin_start": 0.37320299058617695,
            "bin_end": 0.4627454205024374,
            "count": 0
           },
           {
            "bin_start": 0.4627454205024374,
            "bin_end": 0.5522878504186979,
            "count": 0
           },
           {
            "bin_start": 0.5522878504186979,
            "bin_end": 0.6418302803349583,
            "count": 1
           },
           {
            "bin_start": 0.6418302803349583,
            "bin_end": 0.7313727102512187,
            "count": 2
           },
           {
            "bin_start": 0.7313727102512187,
            "bin_end": 0.8209151401674791,
            "count": 0
           },
           {
            "bin_start": 0.8209151401674791,
            "bin_end": 0.9104575700837395,
            "count": 0
           },
           {
            "bin_start": 0.9104575700837395,
            "bin_end": 1,
            "count": 1
           }
          ]
         }
        },
        {
         "name": "tip",
         "dtype": "float64",
         "stats": {
          "unique_count": 5,
          "nan_count": 0,
          "min": "0.11085660286787324",
          "max": "1.0",
          "histogram": [
           {
            "bin_start": 0.11085660286787324,
            "bin_end": 0.1997709425810859,
            "count": 1
           },
           {
            "bin_start": 0.1997709425810859,
            "bin_end": 0.2886852822942986,
            "count": 0
           },
           {
            "bin_start": 0.2886852822942986,
            "bin_end": 0.3775996220075113,
            "count": 1
           },
           {
            "bin_start": 0.3775996220075113,
            "bin_end": 0.46651396172072396,
            "count": 0
           },
           {
            "bin_start": 0.46651396172072396,
            "bin_end": 0.5554283014339366,
            "count": 1
           },
           {
            "bin_start": 0.5554283014339366,
            "bin_end": 0.6443426411471493,
            "count": 0
           },
           {
            "bin_start": 0.6443426411471493,
            "bin_end": 0.733256980860362,
            "count": 1
           },
           {
            "bin_start": 0.733256980860362,
            "bin_end": 0.8221713205735747,
            "count": 0
           },
           {
            "bin_start": 0.8221713205735747,
            "bin_end": 0.9110856602867874,
            "count": 0
           },
           {
            "bin_start": 0.9110856602867874,
            "bin_end": 1,
            "count": 1
           }
          ]
         }
        },
        {
         "name": "size",
         "dtype": "float64",
         "stats": {
          "unique_count": 5,
          "nan_count": 0,
          "min": "-0.17535875491145994",
          "max": "1.0",
          "histogram": [
           {
            "bin_start": -0.17535875491145994,
            "bin_end": -0.057822879420313944,
            "count": 1
           },
           {
            "bin_start": -0.057822879420313944,
            "bin_end": 0.05971299607083205,
            "count": 1
           },
           {
            "bin_start": 0.05971299607083205,
            "bin_end": 0.17724887156197808,
            "count": 0
           },
           {
            "bin_start": 0.17724887156197808,
            "bin_end": 0.2947847470531241,
            "count": 0
           },
           {
            "bin_start": 0.2947847470531241,
            "bin_end": 0.41232062254427004,
            "count": 0
           },
           {
            "bin_start": 0.41232062254427004,
            "bin_end": 0.5298564980354161,
            "count": 1
           },
           {
            "bin_start": 0.5298564980354161,
            "bin_end": 0.6473923735265621,
            "count": 1
           },
           {
            "bin_start": 0.6473923735265621,
            "bin_end": 0.7649282490177081,
            "count": 0
           },
           {
            "bin_start": 0.7649282490177081,
            "bin_end": 0.882464124508854,
            "count": 0
           },
           {
            "bin_start": 0.882464124508854,
            "bin_end": 1,
            "count": 1
           }
          ]
         }
        },
        {
         "name": "price_per_person",
         "dtype": "float64",
         "stats": {
          "unique_count": 5,
          "nan_count": 0,
          "min": "-0.17535875491145994",
          "max": "1.0",
          "histogram": [
           {
            "bin_start": -0.17535875491145994,
            "bin_end": -0.057822879420313944,
            "count": 1
           },
           {
            "bin_start": -0.057822879420313944,
            "bin_end": 0.05971299607083205,
            "count": 0
           },
           {
            "bin_start": 0.05971299607083205,
            "bin_end": 0.17724887156197808,
            "count": 1
           },
           {
            "bin_start": 0.17724887156197808,
            "bin_end": 0.2947847470531241,
            "count": 0
           },
           {
            "bin_start": 0.2947847470531241,
            "bin_end": 0.41232062254427004,
            "count": 1
           },
           {
            "bin_start": 0.41232062254427004,
            "bin_end": 0.5298564980354161,
            "count": 0
           },
           {
            "bin_start": 0.5298564980354161,
            "bin_end": 0.6473923735265621,
            "count": 0
           },
           {
            "bin_start": 0.6473923735265621,
            "bin_end": 0.7649282490177081,
            "count": 1
           },
           {
            "bin_start": 0.7649282490177081,
            "bin_end": 0.882464124508854,
            "count": 0
           },
           {
            "bin_start": 0.882464124508854,
            "bin_end": 1,
            "count": 1
           }
          ]
         }
        },
        {
         "name": "CC Number",
         "dtype": "float64",
         "stats": {
          "unique_count": 5,
          "nan_count": 0,
          "min": "-0.030239475507188408",
          "max": "1.0",
          "histogram": [
           {
            "bin_start": -0.030239475507188408,
            "bin_end": 0.07278447204353043,
            "count": 1
           },
           {
            "bin_start": 0.07278447204353043,
            "bin_end": 0.17580841959424925,
            "count": 3
           },
           {
            "bin_start": 0.17580841959424925,
            "bin_end": 0.27883236714496806,
            "count": 0
           },
           {
            "bin_start": 0.27883236714496806,
            "bin_end": 0.3818563146956869,
            "count": 0
           },
           {
            "bin_start": 0.3818563146956869,
            "bin_end": 0.4848802622464058,
            "count": 0
           },
           {
            "bin_start": 0.4848802622464058,
            "bin_end": 0.5879042097971245,
            "count": 0
           },
           {
            "bin_start": 0.5879042097971245,
            "bin_end": 0.6909281573478434,
            "count": 0
           },
           {
            "bin_start": 0.6909281573478434,
            "bin_end": 0.7939521048985623,
            "count": 0
           },
           {
            "bin_start": 0.7939521048985623,
            "bin_end": 0.8969760524492811,
            "count": 0
           },
           {
            "bin_start": 0.8969760524492811,
            "bin_end": 1,
            "count": 1
           }
          ]
         }
        },
        {
         "name": "_deepnote_index_column",
         "dtype": "object"
        }
       ],
       "rows_top": [
        {
         "total_bill": 1,
         "tip": 0.6757341092113648,
         "size": 0.5983151309049014,
         "price_per_person": 0.6475536299671444,
         "CC Number": 0.10457570083739566,
         "_deepnote_index_column": "total_bill"
        },
        {
         "total_bill": 0.6757341092113648,
         "tip": 1,
         "size": 0.48929877523035714,
         "price_per_person": 0.3474053326501849,
         "CC Number": 0.11085660286787324,
         "_deepnote_index_column": "tip"
        },
        {
         "total_bill": 0.5983151309049014,
         "tip": 0.48929877523035714,
         "size": 1,
         "price_per_person": -0.17535875491145994,
         "CC Number": -0.030239475507188408,
         "_deepnote_index_column": "size"
        },
        {
         "total_bill": 0.6475536299671444,
         "tip": 0.3474053326501849,
         "size": -0.17535875491145994,
         "price_per_person": 1,
         "CC Number": 0.1352398798207124,
         "_deepnote_index_column": "price_per_person"
        },
        {
         "total_bill": 0.10457570083739566,
         "tip": 0.11085660286787324,
         "size": -0.030239475507188408,
         "price_per_person": 0.1352398798207124,
         "CC Number": 1,
         "_deepnote_index_column": "CC Number"
        }
       ],
       "rows_bottom": null
      },
      "text/plain": "                  total_bill       tip      size  price_per_person  CC Number\ntotal_bill          1.000000  0.675734  0.598315          0.647554   0.104576\ntip                 0.675734  1.000000  0.489299          0.347405   0.110857\nsize                0.598315  0.489299  1.000000         -0.175359  -0.030239\nprice_per_person    0.647554  0.347405 -0.175359          1.000000   0.135240\nCC Number           0.104576  0.110857 -0.030239          0.135240   1.000000",
      "text/html": "<div>\n<style scoped>\n    .dataframe tbody tr th:only-of-type {\n        vertical-align: middle;\n    }\n\n    .dataframe tbody tr th {\n        vertical-align: top;\n    }\n\n    .dataframe thead th {\n        text-align: right;\n    }\n</style>\n<table border=\"1\" class=\"dataframe\">\n  <thead>\n    <tr style=\"text-align: right;\">\n      <th></th>\n      <th>total_bill</th>\n      <th>tip</th>\n      <th>size</th>\n      <th>price_per_person</th>\n      <th>CC Number</th>\n    </tr>\n  </thead>\n  <tbody>\n    <tr>\n      <th>total_bill</th>\n      <td>1.000000</td>\n      <td>0.675734</td>\n      <td>0.598315</td>\n      <td>0.647554</td>\n      <td>0.104576</td>\n    </tr>\n    <tr>\n      <th>tip</th>\n      <td>0.675734</td>\n      <td>1.000000</td>\n      <td>0.489299</td>\n      <td>0.347405</td>\n      <td>0.110857</td>\n    </tr>\n    <tr>\n      <th>size</th>\n      <td>0.598315</td>\n      <td>0.489299</td>\n      <td>1.000000</td>\n      <td>-0.175359</td>\n      <td>-0.030239</td>\n    </tr>\n    <tr>\n      <th>price_per_person</th>\n      <td>0.647554</td>\n      <td>0.347405</td>\n      <td>-0.175359</td>\n      <td>1.000000</td>\n      <td>0.135240</td>\n    </tr>\n    <tr>\n      <th>CC Number</th>\n      <td>0.104576</td>\n      <td>0.110857</td>\n      <td>-0.030239</td>\n      <td>0.135240</td>\n      <td>1.000000</td>\n    </tr>\n  </tbody>\n</table>\n</div>"
     },
     "metadata": {}
    }
   ]
  },
  {
   "cell_type": "code",
   "metadata": {
    "tags": [],
    "cell_id": "00027-7fbe1ff9-1487-465a-b50a-3649f855d87b",
    "deepnote_to_be_reexecuted": false,
    "source_hash": "c085b6ba",
    "execution_start": 1622382410968,
    "execution_millis": 61,
    "deepnote_cell_type": "code"
   },
   "source": "df.head()",
   "execution_count": 28,
   "outputs": [
    {
     "output_type": "execute_result",
     "execution_count": 28,
     "data": {
      "application/vnd.deepnote.dataframe.v2+json": {
       "row_count": 5,
       "column_count": 11,
       "columns": [
        {
         "name": "total_bill",
         "dtype": "float64",
         "stats": {
          "unique_count": 5,
          "nan_count": 0,
          "min": "10.34",
          "max": "24.59",
          "histogram": [
           {
            "bin_start": 10.34,
            "bin_end": 11.765,
            "count": 1
           },
           {
            "bin_start": 11.765,
            "bin_end": 13.19,
            "count": 0
           },
           {
            "bin_start": 13.19,
            "bin_end": 14.615,
            "count": 0
           },
           {
            "bin_start": 14.615,
            "bin_end": 16.04,
            "count": 0
           },
           {
            "bin_start": 16.04,
            "bin_end": 17.465,
            "count": 1
           },
           {
            "bin_start": 17.465,
            "bin_end": 18.89,
            "count": 0
           },
           {
            "bin_start": 18.89,
            "bin_end": 20.314999999999998,
            "count": 0
           },
           {
            "bin_start": 20.314999999999998,
            "bin_end": 21.740000000000002,
            "count": 1
           },
           {
            "bin_start": 21.740000000000002,
            "bin_end": 23.165,
            "count": 0
           },
           {
            "bin_start": 23.165,
            "bin_end": 24.59,
            "count": 2
           }
          ]
         }
        },
        {
         "name": "tip",
         "dtype": "float64",
         "stats": {
          "unique_count": 5,
          "nan_count": 0,
          "min": "1.01",
          "max": "3.61",
          "histogram": [
           {
            "bin_start": 1.01,
            "bin_end": 1.27,
            "count": 1
           },
           {
            "bin_start": 1.27,
            "bin_end": 1.5299999999999998,
            "count": 0
           },
           {
            "bin_start": 1.5299999999999998,
            "bin_end": 1.7899999999999998,
            "count": 1
           },
           {
            "bin_start": 1.7899999999999998,
            "bin_end": 2.05,
            "count": 0
           },
           {
            "bin_start": 2.05,
            "bin_end": 2.3099999999999996,
            "count": 0
           },
           {
            "bin_start": 2.3099999999999996,
            "bin_end": 2.5699999999999994,
            "count": 0
           },
           {
            "bin_start": 2.5699999999999994,
            "bin_end": 2.8299999999999996,
            "count": 0
           },
           {
            "bin_start": 2.8299999999999996,
            "bin_end": 3.09,
            "count": 0
           },
           {
            "bin_start": 3.09,
            "bin_end": 3.3499999999999996,
            "count": 1
           },
           {
            "bin_start": 3.3499999999999996,
            "bin_end": 3.61,
            "count": 2
           }
          ]
         }
        },
        {
         "name": "sex",
         "dtype": "object",
         "stats": {
          "unique_count": 2,
          "nan_count": 0,
          "categories": [
           {
            "name": "Male",
            "count": 3
           },
           {
            "name": "Female",
            "count": 2
           }
          ]
         }
        },
        {
         "name": "smoker",
         "dtype": "object",
         "stats": {
          "unique_count": 1,
          "nan_count": 0,
          "categories": [
           {
            "name": "No",
            "count": 5
           }
          ]
         }
        },
        {
         "name": "day",
         "dtype": "object",
         "stats": {
          "unique_count": 1,
          "nan_count": 0,
          "categories": [
           {
            "name": "Sun",
            "count": 5
           }
          ]
         }
        },
        {
         "name": "time",
         "dtype": "object",
         "stats": {
          "unique_count": 1,
          "nan_count": 0,
          "categories": [
           {
            "name": "Dinner",
            "count": 5
           }
          ]
         }
        },
        {
         "name": "size",
         "dtype": "int64",
         "stats": {
          "unique_count": 3,
          "nan_count": 0,
          "min": "2",
          "max": "4",
          "histogram": [
           {
            "bin_start": 2,
            "bin_end": 2.2,
            "count": 2
           },
           {
            "bin_start": 2.2,
            "bin_end": 2.4,
            "count": 0
           },
           {
            "bin_start": 2.4,
            "bin_end": 2.6,
            "count": 0
           },
           {
            "bin_start": 2.6,
            "bin_end": 2.8,
            "count": 0
           },
           {
            "bin_start": 2.8,
            "bin_end": 3,
            "count": 0
           },
           {
            "bin_start": 3,
            "bin_end": 3.2,
            "count": 2
           },
           {
            "bin_start": 3.2,
            "bin_end": 3.4000000000000004,
            "count": 0
           },
           {
            "bin_start": 3.4000000000000004,
            "bin_end": 3.6,
            "count": 0
           },
           {
            "bin_start": 3.6,
            "bin_end": 3.8,
            "count": 0
           },
           {
            "bin_start": 3.8,
            "bin_end": 4,
            "count": 1
           }
          ]
         }
        },
        {
         "name": "price_per_person",
         "dtype": "float64",
         "stats": {
          "unique_count": 5,
          "nan_count": 0,
          "min": "3.45",
          "max": "11.84",
          "histogram": [
           {
            "bin_start": 3.45,
            "bin_end": 4.289000000000001,
            "count": 1
           },
           {
            "bin_start": 4.289000000000001,
            "bin_end": 5.128,
            "count": 0
           },
           {
            "bin_start": 5.128,
            "bin_end": 5.9670000000000005,
            "count": 0
           },
           {
            "bin_start": 5.9670000000000005,
            "bin_end": 6.806000000000001,
            "count": 1
           },
           {
            "bin_start": 6.806000000000001,
            "bin_end": 7.6450000000000005,
            "count": 1
           },
           {
            "bin_start": 7.6450000000000005,
            "bin_end": 8.484000000000002,
            "count": 0
           },
           {
            "bin_start": 8.484000000000002,
            "bin_end": 9.323,
            "count": 1
           },
           {
            "bin_start": 9.323,
            "bin_end": 10.162,
            "count": 0
           },
           {
            "bin_start": 10.162,
            "bin_end": 11.001000000000001,
            "count": 0
           },
           {
            "bin_start": 11.001000000000001,
            "bin_end": 11.84,
            "count": 1
           }
          ]
         }
        },
        {
         "name": "Payer Name",
         "dtype": "object",
         "stats": {
          "unique_count": 5,
          "nan_count": 0,
          "categories": [
           {
            "name": "Christy Cunningham",
            "count": 1
           },
           {
            "name": "Douglas Tucker",
            "count": 1
           },
           {
            "name": "3 others",
            "count": 3
           }
          ]
         }
        },
        {
         "name": "CC Number",
         "dtype": "int64",
         "stats": {
          "unique_count": 5,
          "nan_count": 0,
          "min": "3560325168603410",
          "max": "6011812112971322",
          "histogram": [
           {
            "bin_start": 3560325168603410,
            "bin_end": 3805473863040201,
            "count": 1
           },
           {
            "bin_start": 3805473863040201,
            "bin_end": 4050622557476992.5,
            "count": 0
           },
           {
            "bin_start": 4050622557476992.5,
            "bin_end": 4295771251913783.5,
            "count": 0
           },
           {
            "bin_start": 4295771251913783.5,
            "bin_end": 4540919946350575,
            "count": 1
           },
           {
            "bin_start": 4540919946350575,
            "bin_end": 4786068640787366,
            "count": 1
           },
           {
            "bin_start": 4786068640787366,
            "bin_end": 5031217335224157,
            "count": 1
           },
           {
            "bin_start": 5031217335224157,
            "bin_end": 5276366029660948,
            "count": 0
           },
           {
            "bin_start": 5276366029660948,
            "bin_end": 5521514724097740,
            "count": 0
           },
           {
            "bin_start": 5521514724097740,
            "bin_end": 5766663418534531,
            "count": 0
           },
           {
            "bin_start": 5766663418534531,
            "bin_end": 6011812112971322,
            "count": 1
           }
          ]
         }
        },
        {
         "name": "Payment ID",
         "dtype": "object",
         "stats": {
          "unique_count": 5,
          "nan_count": 0,
          "categories": [
           {
            "name": "Sun2959",
            "count": 1
           },
           {
            "name": "Sun4608",
            "count": 1
           },
           {
            "name": "3 others",
            "count": 3
           }
          ]
         }
        },
        {
         "name": "_deepnote_index_column",
         "dtype": "int64"
        }
       ],
       "rows_top": [
        {
         "total_bill": 16.99,
         "tip": 1.01,
         "sex": "Female",
         "smoker": "No",
         "day": "Sun",
         "time": "Dinner",
         "size": 2,
         "price_per_person": 8.49,
         "Payer Name": "Christy Cunningham",
         "CC Number": 3560325168603410,
         "Payment ID": "Sun2959",
         "_deepnote_index_column": 0
        },
        {
         "total_bill": 10.34,
         "tip": 1.66,
         "sex": "Male",
         "smoker": "No",
         "day": "Sun",
         "time": "Dinner",
         "size": 3,
         "price_per_person": 3.45,
         "Payer Name": "Douglas Tucker",
         "CC Number": 4478071379779230,
         "Payment ID": "Sun4608",
         "_deepnote_index_column": 1
        },
        {
         "total_bill": 21.01,
         "tip": 3.5,
         "sex": "Male",
         "smoker": "No",
         "day": "Sun",
         "time": "Dinner",
         "size": 3,
         "price_per_person": 7,
         "Payer Name": "Travis Walters",
         "CC Number": 6011812112971322,
         "Payment ID": "Sun4458",
         "_deepnote_index_column": 2
        },
        {
         "total_bill": 23.68,
         "tip": 3.31,
         "sex": "Male",
         "smoker": "No",
         "day": "Sun",
         "time": "Dinner",
         "size": 2,
         "price_per_person": 11.84,
         "Payer Name": "Nathaniel Harris",
         "CC Number": 4676137647685994,
         "Payment ID": "Sun5260",
         "_deepnote_index_column": 3
        },
        {
         "total_bill": 24.59,
         "tip": 3.61,
         "sex": "Female",
         "smoker": "No",
         "day": "Sun",
         "time": "Dinner",
         "size": 4,
         "price_per_person": 6.15,
         "Payer Name": "Tonya Carter",
         "CC Number": 4832732618637221,
         "Payment ID": "Sun2251",
         "_deepnote_index_column": 4
        }
       ],
       "rows_bottom": null
      },
      "text/plain": "   total_bill   tip     sex smoker  day    time  size  price_per_person  \\\n0       16.99  1.01  Female     No  Sun  Dinner     2              8.49   \n1       10.34  1.66    Male     No  Sun  Dinner     3              3.45   \n2       21.01  3.50    Male     No  Sun  Dinner     3              7.00   \n3       23.68  3.31    Male     No  Sun  Dinner     2             11.84   \n4       24.59  3.61  Female     No  Sun  Dinner     4              6.15   \n\n           Payer Name         CC Number Payment ID  \n0  Christy Cunningham  3560325168603410    Sun2959  \n1      Douglas Tucker  4478071379779230    Sun4608  \n2      Travis Walters  6011812112971322    Sun4458  \n3    Nathaniel Harris  4676137647685994    Sun5260  \n4        Tonya Carter  4832732618637221    Sun2251  ",
      "text/html": "<div>\n<style scoped>\n    .dataframe tbody tr th:only-of-type {\n        vertical-align: middle;\n    }\n\n    .dataframe tbody tr th {\n        vertical-align: top;\n    }\n\n    .dataframe thead th {\n        text-align: right;\n    }\n</style>\n<table border=\"1\" class=\"dataframe\">\n  <thead>\n    <tr style=\"text-align: right;\">\n      <th></th>\n      <th>total_bill</th>\n      <th>tip</th>\n      <th>sex</th>\n      <th>smoker</th>\n      <th>day</th>\n      <th>time</th>\n      <th>size</th>\n      <th>price_per_person</th>\n      <th>Payer Name</th>\n      <th>CC Number</th>\n      <th>Payment ID</th>\n    </tr>\n  </thead>\n  <tbody>\n    <tr>\n      <th>0</th>\n      <td>16.99</td>\n      <td>1.01</td>\n      <td>Female</td>\n      <td>No</td>\n      <td>Sun</td>\n      <td>Dinner</td>\n      <td>2</td>\n      <td>8.49</td>\n      <td>Christy Cunningham</td>\n      <td>3560325168603410</td>\n      <td>Sun2959</td>\n    </tr>\n    <tr>\n      <th>1</th>\n      <td>10.34</td>\n      <td>1.66</td>\n      <td>Male</td>\n      <td>No</td>\n      <td>Sun</td>\n      <td>Dinner</td>\n      <td>3</td>\n      <td>3.45</td>\n      <td>Douglas Tucker</td>\n      <td>4478071379779230</td>\n      <td>Sun4608</td>\n    </tr>\n    <tr>\n      <th>2</th>\n      <td>21.01</td>\n      <td>3.50</td>\n      <td>Male</td>\n      <td>No</td>\n      <td>Sun</td>\n      <td>Dinner</td>\n      <td>3</td>\n      <td>7.00</td>\n      <td>Travis Walters</td>\n      <td>6011812112971322</td>\n      <td>Sun4458</td>\n    </tr>\n    <tr>\n      <th>3</th>\n      <td>23.68</td>\n      <td>3.31</td>\n      <td>Male</td>\n      <td>No</td>\n      <td>Sun</td>\n      <td>Dinner</td>\n      <td>2</td>\n      <td>11.84</td>\n      <td>Nathaniel Harris</td>\n      <td>4676137647685994</td>\n      <td>Sun5260</td>\n    </tr>\n    <tr>\n      <th>4</th>\n      <td>24.59</td>\n      <td>3.61</td>\n      <td>Female</td>\n      <td>No</td>\n      <td>Sun</td>\n      <td>Dinner</td>\n      <td>4</td>\n      <td>6.15</td>\n      <td>Tonya Carter</td>\n      <td>4832732618637221</td>\n      <td>Sun2251</td>\n    </tr>\n  </tbody>\n</table>\n</div>"
     },
     "metadata": {}
    }
   ]
  },
  {
   "cell_type": "code",
   "metadata": {
    "tags": [],
    "cell_id": "00028-d6fa2d8d-f7e6-4725-89eb-a86bc4d7a139",
    "deepnote_to_be_reexecuted": false,
    "source_hash": "70e06760",
    "execution_start": 1622382411031,
    "execution_millis": 9,
    "deepnote_cell_type": "code"
   },
   "source": "df[\"sex\"].value_counts()",
   "execution_count": 29,
   "outputs": [
    {
     "output_type": "execute_result",
     "execution_count": 29,
     "data": {
      "text/plain": "Male      157\nFemale     87\nName: sex, dtype: int64"
     },
     "metadata": {}
    }
   ]
  },
  {
   "cell_type": "code",
   "metadata": {
    "tags": [],
    "cell_id": "00029-d5ff7a26-bab9-4293-8af0-553555b1c04a",
    "deepnote_to_be_reexecuted": false,
    "source_hash": "d8b89da6",
    "execution_start": 1622382411043,
    "execution_millis": 10,
    "deepnote_cell_type": "code"
   },
   "source": "df['day'].unique()",
   "execution_count": 30,
   "outputs": [
    {
     "output_type": "execute_result",
     "execution_count": 30,
     "data": {
      "text/plain": "array(['Sun', 'Sat', 'Thur', 'Fri'], dtype=object)"
     },
     "metadata": {}
    }
   ]
  },
  {
   "cell_type": "code",
   "metadata": {
    "tags": [],
    "cell_id": "00030-a00d6f1e-3637-4cb4-9f39-d87afe162f0d",
    "deepnote_to_be_reexecuted": false,
    "source_hash": "c085b6ba",
    "execution_start": 1622382411093,
    "execution_millis": 17,
    "deepnote_cell_type": "code"
   },
   "source": "df.head()",
   "execution_count": 31,
   "outputs": [
    {
     "output_type": "execute_result",
     "execution_count": 31,
     "data": {
      "application/vnd.deepnote.dataframe.v2+json": {
       "row_count": 5,
       "column_count": 11,
       "columns": [
        {
         "name": "total_bill",
         "dtype": "float64",
         "stats": {
          "unique_count": 5,
          "nan_count": 0,
          "min": "10.34",
          "max": "24.59",
          "histogram": [
           {
            "bin_start": 10.34,
            "bin_end": 11.765,
            "count": 1
           },
           {
            "bin_start": 11.765,
            "bin_end": 13.19,
            "count": 0
           },
           {
            "bin_start": 13.19,
            "bin_end": 14.615,
            "count": 0
           },
           {
            "bin_start": 14.615,
            "bin_end": 16.04,
            "count": 0
           },
           {
            "bin_start": 16.04,
            "bin_end": 17.465,
            "count": 1
           },
           {
            "bin_start": 17.465,
            "bin_end": 18.89,
            "count": 0
           },
           {
            "bin_start": 18.89,
            "bin_end": 20.314999999999998,
            "count": 0
           },
           {
            "bin_start": 20.314999999999998,
            "bin_end": 21.740000000000002,
            "count": 1
           },
           {
            "bin_start": 21.740000000000002,
            "bin_end": 23.165,
            "count": 0
           },
           {
            "bin_start": 23.165,
            "bin_end": 24.59,
            "count": 2
           }
          ]
         }
        },
        {
         "name": "tip",
         "dtype": "float64",
         "stats": {
          "unique_count": 5,
          "nan_count": 0,
          "min": "1.01",
          "max": "3.61",
          "histogram": [
           {
            "bin_start": 1.01,
            "bin_end": 1.27,
            "count": 1
           },
           {
            "bin_start": 1.27,
            "bin_end": 1.5299999999999998,
            "count": 0
           },
           {
            "bin_start": 1.5299999999999998,
            "bin_end": 1.7899999999999998,
            "count": 1
           },
           {
            "bin_start": 1.7899999999999998,
            "bin_end": 2.05,
            "count": 0
           },
           {
            "bin_start": 2.05,
            "bin_end": 2.3099999999999996,
            "count": 0
           },
           {
            "bin_start": 2.3099999999999996,
            "bin_end": 2.5699999999999994,
            "count": 0
           },
           {
            "bin_start": 2.5699999999999994,
            "bin_end": 2.8299999999999996,
            "count": 0
           },
           {
            "bin_start": 2.8299999999999996,
            "bin_end": 3.09,
            "count": 0
           },
           {
            "bin_start": 3.09,
            "bin_end": 3.3499999999999996,
            "count": 1
           },
           {
            "bin_start": 3.3499999999999996,
            "bin_end": 3.61,
            "count": 2
           }
          ]
         }
        },
        {
         "name": "sex",
         "dtype": "object",
         "stats": {
          "unique_count": 2,
          "nan_count": 0,
          "categories": [
           {
            "name": "Male",
            "count": 3
           },
           {
            "name": "Female",
            "count": 2
           }
          ]
         }
        },
        {
         "name": "smoker",
         "dtype": "object",
         "stats": {
          "unique_count": 1,
          "nan_count": 0,
          "categories": [
           {
            "name": "No",
            "count": 5
           }
          ]
         }
        },
        {
         "name": "day",
         "dtype": "object",
         "stats": {
          "unique_count": 1,
          "nan_count": 0,
          "categories": [
           {
            "name": "Sun",
            "count": 5
           }
          ]
         }
        },
        {
         "name": "time",
         "dtype": "object",
         "stats": {
          "unique_count": 1,
          "nan_count": 0,
          "categories": [
           {
            "name": "Dinner",
            "count": 5
           }
          ]
         }
        },
        {
         "name": "size",
         "dtype": "int64",
         "stats": {
          "unique_count": 3,
          "nan_count": 0,
          "min": "2",
          "max": "4",
          "histogram": [
           {
            "bin_start": 2,
            "bin_end": 2.2,
            "count": 2
           },
           {
            "bin_start": 2.2,
            "bin_end": 2.4,
            "count": 0
           },
           {
            "bin_start": 2.4,
            "bin_end": 2.6,
            "count": 0
           },
           {
            "bin_start": 2.6,
            "bin_end": 2.8,
            "count": 0
           },
           {
            "bin_start": 2.8,
            "bin_end": 3,
            "count": 0
           },
           {
            "bin_start": 3,
            "bin_end": 3.2,
            "count": 2
           },
           {
            "bin_start": 3.2,
            "bin_end": 3.4000000000000004,
            "count": 0
           },
           {
            "bin_start": 3.4000000000000004,
            "bin_end": 3.6,
            "count": 0
           },
           {
            "bin_start": 3.6,
            "bin_end": 3.8,
            "count": 0
           },
           {
            "bin_start": 3.8,
            "bin_end": 4,
            "count": 1
           }
          ]
         }
        },
        {
         "name": "price_per_person",
         "dtype": "float64",
         "stats": {
          "unique_count": 5,
          "nan_count": 0,
          "min": "3.45",
          "max": "11.84",
          "histogram": [
           {
            "bin_start": 3.45,
            "bin_end": 4.289000000000001,
            "count": 1
           },
           {
            "bin_start": 4.289000000000001,
            "bin_end": 5.128,
            "count": 0
           },
           {
            "bin_start": 5.128,
            "bin_end": 5.9670000000000005,
            "count": 0
           },
           {
            "bin_start": 5.9670000000000005,
            "bin_end": 6.806000000000001,
            "count": 1
           },
           {
            "bin_start": 6.806000000000001,
            "bin_end": 7.6450000000000005,
            "count": 1
           },
           {
            "bin_start": 7.6450000000000005,
            "bin_end": 8.484000000000002,
            "count": 0
           },
           {
            "bin_start": 8.484000000000002,
            "bin_end": 9.323,
            "count": 1
           },
           {
            "bin_start": 9.323,
            "bin_end": 10.162,
            "count": 0
           },
           {
            "bin_start": 10.162,
            "bin_end": 11.001000000000001,
            "count": 0
           },
           {
            "bin_start": 11.001000000000001,
            "bin_end": 11.84,
            "count": 1
           }
          ]
         }
        },
        {
         "name": "Payer Name",
         "dtype": "object",
         "stats": {
          "unique_count": 5,
          "nan_count": 0,
          "categories": [
           {
            "name": "Christy Cunningham",
            "count": 1
           },
           {
            "name": "Douglas Tucker",
            "count": 1
           },
           {
            "name": "3 others",
            "count": 3
           }
          ]
         }
        },
        {
         "name": "CC Number",
         "dtype": "int64",
         "stats": {
          "unique_count": 5,
          "nan_count": 0,
          "min": "3560325168603410",
          "max": "6011812112971322",
          "histogram": [
           {
            "bin_start": 3560325168603410,
            "bin_end": 3805473863040201,
            "count": 1
           },
           {
            "bin_start": 3805473863040201,
            "bin_end": 4050622557476992.5,
            "count": 0
           },
           {
            "bin_start": 4050622557476992.5,
            "bin_end": 4295771251913783.5,
            "count": 0
           },
           {
            "bin_start": 4295771251913783.5,
            "bin_end": 4540919946350575,
            "count": 1
           },
           {
            "bin_start": 4540919946350575,
            "bin_end": 4786068640787366,
            "count": 1
           },
           {
            "bin_start": 4786068640787366,
            "bin_end": 5031217335224157,
            "count": 1
           },
           {
            "bin_start": 5031217335224157,
            "bin_end": 5276366029660948,
            "count": 0
           },
           {
            "bin_start": 5276366029660948,
            "bin_end": 5521514724097740,
            "count": 0
           },
           {
            "bin_start": 5521514724097740,
            "bin_end": 5766663418534531,
            "count": 0
           },
           {
            "bin_start": 5766663418534531,
            "bin_end": 6011812112971322,
            "count": 1
           }
          ]
         }
        },
        {
         "name": "Payment ID",
         "dtype": "object",
         "stats": {
          "unique_count": 5,
          "nan_count": 0,
          "categories": [
           {
            "name": "Sun2959",
            "count": 1
           },
           {
            "name": "Sun4608",
            "count": 1
           },
           {
            "name": "3 others",
            "count": 3
           }
          ]
         }
        },
        {
         "name": "_deepnote_index_column",
         "dtype": "int64"
        }
       ],
       "rows_top": [
        {
         "total_bill": 16.99,
         "tip": 1.01,
         "sex": "Female",
         "smoker": "No",
         "day": "Sun",
         "time": "Dinner",
         "size": 2,
         "price_per_person": 8.49,
         "Payer Name": "Christy Cunningham",
         "CC Number": 3560325168603410,
         "Payment ID": "Sun2959",
         "_deepnote_index_column": 0
        },
        {
         "total_bill": 10.34,
         "tip": 1.66,
         "sex": "Male",
         "smoker": "No",
         "day": "Sun",
         "time": "Dinner",
         "size": 3,
         "price_per_person": 3.45,
         "Payer Name": "Douglas Tucker",
         "CC Number": 4478071379779230,
         "Payment ID": "Sun4608",
         "_deepnote_index_column": 1
        },
        {
         "total_bill": 21.01,
         "tip": 3.5,
         "sex": "Male",
         "smoker": "No",
         "day": "Sun",
         "time": "Dinner",
         "size": 3,
         "price_per_person": 7,
         "Payer Name": "Travis Walters",
         "CC Number": 6011812112971322,
         "Payment ID": "Sun4458",
         "_deepnote_index_column": 2
        },
        {
         "total_bill": 23.68,
         "tip": 3.31,
         "sex": "Male",
         "smoker": "No",
         "day": "Sun",
         "time": "Dinner",
         "size": 2,
         "price_per_person": 11.84,
         "Payer Name": "Nathaniel Harris",
         "CC Number": 4676137647685994,
         "Payment ID": "Sun5260",
         "_deepnote_index_column": 3
        },
        {
         "total_bill": 24.59,
         "tip": 3.61,
         "sex": "Female",
         "smoker": "No",
         "day": "Sun",
         "time": "Dinner",
         "size": 4,
         "price_per_person": 6.15,
         "Payer Name": "Tonya Carter",
         "CC Number": 4832732618637221,
         "Payment ID": "Sun2251",
         "_deepnote_index_column": 4
        }
       ],
       "rows_bottom": null
      },
      "text/plain": "   total_bill   tip     sex smoker  day    time  size  price_per_person  \\\n0       16.99  1.01  Female     No  Sun  Dinner     2              8.49   \n1       10.34  1.66    Male     No  Sun  Dinner     3              3.45   \n2       21.01  3.50    Male     No  Sun  Dinner     3              7.00   \n3       23.68  3.31    Male     No  Sun  Dinner     2             11.84   \n4       24.59  3.61  Female     No  Sun  Dinner     4              6.15   \n\n           Payer Name         CC Number Payment ID  \n0  Christy Cunningham  3560325168603410    Sun2959  \n1      Douglas Tucker  4478071379779230    Sun4608  \n2      Travis Walters  6011812112971322    Sun4458  \n3    Nathaniel Harris  4676137647685994    Sun5260  \n4        Tonya Carter  4832732618637221    Sun2251  ",
      "text/html": "<div>\n<style scoped>\n    .dataframe tbody tr th:only-of-type {\n        vertical-align: middle;\n    }\n\n    .dataframe tbody tr th {\n        vertical-align: top;\n    }\n\n    .dataframe thead th {\n        text-align: right;\n    }\n</style>\n<table border=\"1\" class=\"dataframe\">\n  <thead>\n    <tr style=\"text-align: right;\">\n      <th></th>\n      <th>total_bill</th>\n      <th>tip</th>\n      <th>sex</th>\n      <th>smoker</th>\n      <th>day</th>\n      <th>time</th>\n      <th>size</th>\n      <th>price_per_person</th>\n      <th>Payer Name</th>\n      <th>CC Number</th>\n      <th>Payment ID</th>\n    </tr>\n  </thead>\n  <tbody>\n    <tr>\n      <th>0</th>\n      <td>16.99</td>\n      <td>1.01</td>\n      <td>Female</td>\n      <td>No</td>\n      <td>Sun</td>\n      <td>Dinner</td>\n      <td>2</td>\n      <td>8.49</td>\n      <td>Christy Cunningham</td>\n      <td>3560325168603410</td>\n      <td>Sun2959</td>\n    </tr>\n    <tr>\n      <th>1</th>\n      <td>10.34</td>\n      <td>1.66</td>\n      <td>Male</td>\n      <td>No</td>\n      <td>Sun</td>\n      <td>Dinner</td>\n      <td>3</td>\n      <td>3.45</td>\n      <td>Douglas Tucker</td>\n      <td>4478071379779230</td>\n      <td>Sun4608</td>\n    </tr>\n    <tr>\n      <th>2</th>\n      <td>21.01</td>\n      <td>3.50</td>\n      <td>Male</td>\n      <td>No</td>\n      <td>Sun</td>\n      <td>Dinner</td>\n      <td>3</td>\n      <td>7.00</td>\n      <td>Travis Walters</td>\n      <td>6011812112971322</td>\n      <td>Sun4458</td>\n    </tr>\n    <tr>\n      <th>3</th>\n      <td>23.68</td>\n      <td>3.31</td>\n      <td>Male</td>\n      <td>No</td>\n      <td>Sun</td>\n      <td>Dinner</td>\n      <td>2</td>\n      <td>11.84</td>\n      <td>Nathaniel Harris</td>\n      <td>4676137647685994</td>\n      <td>Sun5260</td>\n    </tr>\n    <tr>\n      <th>4</th>\n      <td>24.59</td>\n      <td>3.61</td>\n      <td>Female</td>\n      <td>No</td>\n      <td>Sun</td>\n      <td>Dinner</td>\n      <td>4</td>\n      <td>6.15</td>\n      <td>Tonya Carter</td>\n      <td>4832732618637221</td>\n      <td>Sun2251</td>\n    </tr>\n  </tbody>\n</table>\n</div>"
     },
     "metadata": {}
    }
   ]
  },
  {
   "cell_type": "code",
   "metadata": {
    "tags": [],
    "cell_id": "00031-1a4937a3-c130-4393-99a3-a1c17e6973ef",
    "deepnote_to_be_reexecuted": false,
    "source_hash": "98674644",
    "execution_start": 1622382411115,
    "execution_millis": 9,
    "deepnote_cell_type": "code"
   },
   "source": "df['sex'].replace('Female',\"F\")",
   "execution_count": 32,
   "outputs": [
    {
     "output_type": "execute_result",
     "execution_count": 32,
     "data": {
      "text/plain": "0         F\n1      Male\n2      Male\n3      Male\n4         F\n       ... \n239    Male\n240       F\n241    Male\n242    Male\n243       F\nName: sex, Length: 244, dtype: object"
     },
     "metadata": {}
    }
   ]
  },
  {
   "cell_type": "code",
   "metadata": {
    "tags": [],
    "cell_id": "00032-dc1d9b3a-c7d5-434b-a5f2-f4ec77da0c97",
    "deepnote_to_be_reexecuted": false,
    "source_hash": "24ed2727",
    "execution_start": 1622382411156,
    "execution_millis": 9,
    "deepnote_cell_type": "code"
   },
   "source": "df[\"sex\"].replace([\"Female\",\"Male\"],[\"F\",\"M\"])",
   "execution_count": 33,
   "outputs": [
    {
     "output_type": "execute_result",
     "execution_count": 33,
     "data": {
      "text/plain": "0      F\n1      M\n2      M\n3      M\n4      F\n      ..\n239    M\n240    F\n241    M\n242    M\n243    F\nName: sex, Length: 244, dtype: object"
     },
     "metadata": {}
    }
   ]
  },
  {
   "cell_type": "code",
   "metadata": {
    "tags": [],
    "cell_id": "00033-a1d2facf-e54e-4657-8101-7282ed178648",
    "deepnote_to_be_reexecuted": false,
    "source_hash": "e74820a5",
    "execution_start": 1622382411156,
    "execution_millis": 0,
    "deepnote_cell_type": "code"
   },
   "source": "mymap={\"Female\":\"F\",\"Male\":\"M\"}",
   "execution_count": 34,
   "outputs": []
  },
  {
   "cell_type": "code",
   "metadata": {
    "tags": [],
    "cell_id": "00034-858d3102-34d1-4ff5-a921-399f421ce24c",
    "deepnote_to_be_reexecuted": false,
    "source_hash": "173566e4",
    "execution_start": 1622382411157,
    "execution_millis": 8,
    "deepnote_cell_type": "code"
   },
   "source": "df['sex'].map(mymap)",
   "execution_count": 35,
   "outputs": [
    {
     "output_type": "execute_result",
     "execution_count": 35,
     "data": {
      "text/plain": "0      F\n1      M\n2      M\n3      M\n4      F\n      ..\n239    M\n240    F\n241    M\n242    M\n243    F\nName: sex, Length: 244, dtype: object"
     },
     "metadata": {}
    }
   ]
  },
  {
   "cell_type": "code",
   "metadata": {
    "tags": [],
    "cell_id": "00035-e07ae8a9-55b0-45b5-8711-c64d209c62f1",
    "deepnote_to_be_reexecuted": false,
    "source_hash": "2fca16ee",
    "execution_start": 1622382411161,
    "execution_millis": 32,
    "deepnote_cell_type": "code"
   },
   "source": "df.duplicated()        #for duplicated row",
   "execution_count": 36,
   "outputs": [
    {
     "output_type": "execute_result",
     "execution_count": 36,
     "data": {
      "text/plain": "0      False\n1      False\n2      False\n3      False\n4      False\n       ...  \n239    False\n240    False\n241    False\n242    False\n243    False\nLength: 244, dtype: bool"
     },
     "metadata": {}
    }
   ]
  },
  {
   "cell_type": "code",
   "metadata": {
    "tags": [],
    "cell_id": "00036-af2ec5d1-e31d-4b3f-ad7c-5b39dd65bffb",
    "deepnote_to_be_reexecuted": false,
    "source_hash": "790e7690",
    "execution_start": 1622382411177,
    "execution_millis": 1,
    "deepnote_cell_type": "code"
   },
   "source": "#drop_duplicates() for droppig duplicates",
   "execution_count": 37,
   "outputs": []
  },
  {
   "cell_type": "code",
   "metadata": {
    "tags": [],
    "cell_id": "00037-5eeebfb2-1f2c-4036-b4e8-538088e446f8",
    "deepnote_to_be_reexecuted": false,
    "source_hash": "82fb677a",
    "execution_start": 1622382411183,
    "execution_millis": 21,
    "deepnote_cell_type": "code"
   },
   "source": "df['total_bill'].between(10,20,inclusive=True)",
   "execution_count": 38,
   "outputs": [
    {
     "output_type": "execute_result",
     "execution_count": 38,
     "data": {
      "text/plain": "0       True\n1       True\n2      False\n3      False\n4      False\n       ...  \n239    False\n240    False\n241    False\n242     True\n243     True\nName: total_bill, Length: 244, dtype: bool"
     },
     "metadata": {}
    }
   ]
  },
  {
   "cell_type": "code",
   "metadata": {
    "tags": [],
    "cell_id": "00038-660badef-6053-4148-ace0-6d050df8dbfb",
    "deepnote_to_be_reexecuted": false,
    "source_hash": "b88a9695",
    "execution_start": 1622382411249,
    "execution_millis": 49,
    "deepnote_cell_type": "code"
   },
   "source": "df[df['total_bill'].between(10,20,inclusive=True)]  #filtering",
   "execution_count": 39,
   "outputs": [
    {
     "output_type": "execute_result",
     "execution_count": 39,
     "data": {
      "application/vnd.deepnote.dataframe.v2+json": {
       "row_count": 130,
       "column_count": 11,
       "columns": [
        {
         "name": "total_bill",
         "dtype": "float64",
         "stats": {
          "unique_count": 119,
          "nan_count": 0,
          "min": "10.07",
          "max": "19.82",
          "histogram": [
           {
            "bin_start": 10.07,
            "bin_end": 11.045,
            "count": 15
           },
           {
            "bin_start": 11.045,
            "bin_end": 12.02,
            "count": 8
           },
           {
            "bin_start": 12.02,
            "bin_end": 12.995000000000001,
            "count": 14
           },
           {
            "bin_start": 12.995000000000001,
            "bin_end": 13.97,
            "count": 16
           },
           {
            "bin_start": 13.97,
            "bin_end": 14.945,
            "count": 10
           },
           {
            "bin_start": 14.945,
            "bin_end": 15.92,
            "count": 12
           },
           {
            "bin_start": 15.92,
            "bin_end": 16.895,
            "count": 18
           },
           {
            "bin_start": 16.895,
            "bin_end": 17.87,
            "count": 14
           },
           {
            "bin_start": 17.87,
            "bin_end": 18.845,
            "count": 16
           },
           {
            "bin_start": 18.845,
            "bin_end": 19.82,
            "count": 7
           }
          ]
         }
        },
        {
         "name": "tip",
         "dtype": "float64",
         "stats": {
          "unique_count": 66,
          "nan_count": 0,
          "min": "1.0",
          "max": "4.3",
          "histogram": [
           {
            "bin_start": 1,
            "bin_end": 1.33,
            "count": 5
           },
           {
            "bin_start": 1.33,
            "bin_end": 1.66,
            "count": 14
           },
           {
            "bin_start": 1.66,
            "bin_end": 1.9899999999999998,
            "count": 11
           },
           {
            "bin_start": 1.9899999999999998,
            "bin_end": 2.32,
            "count": 37
           },
           {
            "bin_start": 2.32,
            "bin_end": 2.65,
            "count": 16
           },
           {
            "bin_start": 2.65,
            "bin_end": 2.9799999999999995,
            "count": 4
           },
           {
            "bin_start": 2.9799999999999995,
            "bin_end": 3.3099999999999996,
            "count": 24
           },
           {
            "bin_start": 3.3099999999999996,
            "bin_end": 3.6399999999999997,
            "count": 8
           },
           {
            "bin_start": 3.6399999999999997,
            "bin_end": 3.9699999999999998,
            "count": 3
           },
           {
            "bin_start": 3.9699999999999998,
            "bin_end": 4.3,
            "count": 8
           }
          ]
         }
        },
        {
         "name": "sex",
         "dtype": "object",
         "stats": {
          "unique_count": 2,
          "nan_count": 0,
          "categories": [
           {
            "name": "Male",
            "count": 76
           },
           {
            "name": "Female",
            "count": 54
           }
          ]
         }
        },
        {
         "name": "smoker",
         "dtype": "object",
         "stats": {
          "unique_count": 2,
          "nan_count": 0,
          "categories": [
           {
            "name": "No",
            "count": 84
           },
           {
            "name": "Yes",
            "count": 46
           }
          ]
         }
        },
        {
         "name": "day",
         "dtype": "object",
         "stats": {
          "unique_count": 4,
          "nan_count": 0,
          "categories": [
           {
            "name": "Sat",
            "count": 45
           },
           {
            "name": "Thur",
            "count": 40
           },
           {
            "name": "2 others",
            "count": 45
           }
          ]
         }
        },
        {
         "name": "time",
         "dtype": "object",
         "stats": {
          "unique_count": 2,
          "nan_count": 0,
          "categories": [
           {
            "name": "Dinner",
            "count": 85
           },
           {
            "name": "Lunch",
            "count": 45
           }
          ]
         }
        },
        {
         "name": "size",
         "dtype": "int64",
         "stats": {
          "unique_count": 4,
          "nan_count": 0,
          "min": "1",
          "max": "4",
          "histogram": [
           {
            "bin_start": 1,
            "bin_end": 1.3,
            "count": 1
           },
           {
            "bin_start": 1.3,
            "bin_end": 1.6,
            "count": 0
           },
           {
            "bin_start": 1.6,
            "bin_end": 1.9,
            "count": 0
           },
           {
            "bin_start": 1.9,
            "bin_end": 2.2,
            "count": 105
           },
           {
            "bin_start": 2.2,
            "bin_end": 2.5,
            "count": 0
           },
           {
            "bin_start": 2.5,
            "bin_end": 2.8,
            "count": 0
           },
           {
            "bin_start": 2.8,
            "bin_end": 3.1,
            "count": 18
           },
           {
            "bin_start": 3.1,
            "bin_end": 3.4,
            "count": 0
           },
           {
            "bin_start": 3.4,
            "bin_end": 3.6999999999999997,
            "count": 0
           },
           {
            "bin_start": 3.6999999999999997,
            "bin_end": 4,
            "count": 6
           }
          ]
         }
        },
        {
         "name": "price_per_person",
         "dtype": "float64",
         "stats": {
          "unique_count": 115,
          "nan_count": 0,
          "min": "3.44",
          "max": "10.07",
          "histogram": [
           {
            "bin_start": 3.44,
            "bin_end": 4.103,
            "count": 2
           },
           {
            "bin_start": 4.103,
            "bin_end": 4.766,
            "count": 5
           },
           {
            "bin_start": 4.766,
            "bin_end": 5.429,
            "count": 16
           },
           {
            "bin_start": 5.429,
            "bin_end": 6.0920000000000005,
            "count": 21
           },
           {
            "bin_start": 6.0920000000000005,
            "bin_end": 6.755000000000001,
            "count": 26
           },
           {
            "bin_start": 6.755000000000001,
            "bin_end": 7.418,
            "count": 13
           },
           {
            "bin_start": 7.418,
            "bin_end": 8.081,
            "count": 15
           },
           {
            "bin_start": 8.081,
            "bin_end": 8.744,
            "count": 13
           },
           {
            "bin_start": 8.744,
            "bin_end": 9.407,
            "count": 12
           },
           {
            "bin_start": 9.407,
            "bin_end": 10.07,
            "count": 7
           }
          ]
         }
        },
        {
         "name": "Payer Name",
         "dtype": "object",
         "stats": {
          "unique_count": 130,
          "nan_count": 0,
          "categories": [
           {
            "name": "Christy Cunningham",
            "count": 1
           },
           {
            "name": "Douglas Tucker",
            "count": 1
           },
           {
            "name": "128 others",
            "count": 128
           }
          ]
         }
        },
        {
         "name": "CC Number",
         "dtype": "int64",
         "stats": {
          "unique_count": 130,
          "nan_count": 0,
          "min": "60463302327",
          "max": "6573923967142503",
          "histogram": [
           {
            "bin_start": 60463302327,
            "bin_end": 657446813686344.6,
            "count": 65
           },
           {
            "bin_start": 657446813686344.6,
            "bin_end": 1314833164070362.2,
            "count": 0
           },
           {
            "bin_start": 1314833164070362.2,
            "bin_end": 1972219514454380,
            "count": 0
           },
           {
            "bin_start": 1972219514454380,
            "bin_end": 2629605864838397.5,
            "count": 2
           },
           {
            "bin_start": 2629605864838397.5,
            "bin_end": 3286992215222415,
            "count": 0
           },
           {
            "bin_start": 3286992215222415,
            "bin_end": 3944378565606433,
            "count": 24
           },
           {
            "bin_start": 3944378565606433,
            "bin_end": 4601764915990450,
            "count": 13
           },
           {
            "bin_start": 4601764915990450,
            "bin_end": 5259151266374468,
            "count": 8
           },
           {
            "bin_start": 5259151266374468,
            "bin_end": 5916537616758486,
            "count": 6
           },
           {
            "bin_start": 5916537616758486,
            "bin_end": 6573923967142503,
            "count": 12
           }
          ]
         }
        },
        {
         "name": "Payment ID",
         "dtype": "object",
         "stats": {
          "unique_count": 129,
          "nan_count": 0,
          "categories": [
           {
            "name": "Thur8084",
            "count": 2
           },
           {
            "name": "Sun2959",
            "count": 1
           },
           {
            "name": "127 others",
            "count": 127
           }
          ]
         }
        },
        {
         "name": "_deepnote_index_column",
         "dtype": "int64"
        }
       ],
       "rows_top": [
        {
         "total_bill": 16.99,
         "tip": 1.01,
         "sex": "Female",
         "smoker": "No",
         "day": "Sun",
         "time": "Dinner",
         "size": 2,
         "price_per_person": 8.49,
         "Payer Name": "Christy Cunningham",
         "CC Number": 3560325168603410,
         "Payment ID": "Sun2959",
         "_deepnote_index_column": 0
        },
        {
         "total_bill": 10.34,
         "tip": 1.66,
         "sex": "Male",
         "smoker": "No",
         "day": "Sun",
         "time": "Dinner",
         "size": 3,
         "price_per_person": 3.45,
         "Payer Name": "Douglas Tucker",
         "CC Number": 4478071379779230,
         "Payment ID": "Sun4608",
         "_deepnote_index_column": 1
        },
        {
         "total_bill": 15.04,
         "tip": 1.96,
         "sex": "Male",
         "smoker": "No",
         "day": "Sun",
         "time": "Dinner",
         "size": 2,
         "price_per_person": 7.52,
         "Payer Name": "Joseph Mcdonald",
         "CC Number": 3522866365840377,
         "Payment ID": "Sun6820",
         "_deepnote_index_column": 8
        },
        {
         "total_bill": 14.78,
         "tip": 3.23,
         "sex": "Male",
         "smoker": "No",
         "day": "Sun",
         "time": "Dinner",
         "size": 2,
         "price_per_person": 7.39,
         "Payer Name": "Jerome Abbott",
         "CC Number": 3532124519049786,
         "Payment ID": "Sun3775",
         "_deepnote_index_column": 9
        },
        {
         "total_bill": 10.27,
         "tip": 1.71,
         "sex": "Male",
         "smoker": "No",
         "day": "Sun",
         "time": "Dinner",
         "size": 2,
         "price_per_person": 5.14,
         "Payer Name": "William Riley",
         "CC Number": 566287581219,
         "Payment ID": "Sun2546",
         "_deepnote_index_column": 10
        },
        {
         "total_bill": 15.42,
         "tip": 1.57,
         "sex": "Male",
         "smoker": "No",
         "day": "Sun",
         "time": "Dinner",
         "size": 2,
         "price_per_person": 7.71,
         "Payer Name": "Chad Harrington",
         "CC Number": 577040572932,
         "Payment ID": "Sun1300",
         "_deepnote_index_column": 12
        },
        {
         "total_bill": 18.43,
         "tip": 3,
         "sex": "Male",
         "smoker": "No",
         "day": "Sun",
         "time": "Dinner",
         "size": 4,
         "price_per_person": 4.61,
         "Payer Name": "Joshua Jones",
         "CC Number": 6011163105616890,
         "Payment ID": "Sun2971",
         "_deepnote_index_column": 13
        },
        {
         "total_bill": 14.83,
         "tip": 3.02,
         "sex": "Female",
         "smoker": "No",
         "day": "Sun",
         "time": "Dinner",
         "size": 2,
         "price_per_person": 7.42,
         "Payer Name": "Vanessa Jones",
         "CC Number": 30016702287574,
         "Payment ID": "Sun3848",
         "_deepnote_index_column": 14
        },
        {
         "total_bill": 10.33,
         "tip": 1.67,
         "sex": "Female",
         "smoker": "No",
         "day": "Sun",
         "time": "Dinner",
         "size": 3,
         "price_per_person": 3.44,
         "Payer Name": "Elizabeth Foster",
         "CC Number": 4240025044626033,
         "Payment ID": "Sun9715",
         "_deepnote_index_column": 16
        },
        {
         "total_bill": 16.29,
         "tip": 3.71,
         "sex": "Male",
         "smoker": "No",
         "day": "Sun",
         "time": "Dinner",
         "size": 3,
         "price_per_person": 5.43,
         "Payer Name": "John Pittman",
         "CC Number": 6521340257218708,
         "Payment ID": "Sun2998",
         "_deepnote_index_column": 17
        },
        {
         "total_bill": 16.97,
         "tip": 3.5,
         "sex": "Female",
         "smoker": "No",
         "day": "Sun",
         "time": "Dinner",
         "size": 3,
         "price_per_person": 5.66,
         "Payer Name": "Laura Martinez",
         "CC Number": 30422275171379,
         "Payment ID": "Sun2789",
         "_deepnote_index_column": 18
        },
        {
         "total_bill": 17.92,
         "tip": 4.08,
         "sex": "Male",
         "smoker": "No",
         "day": "Sat",
         "time": "Dinner",
         "size": 2,
         "price_per_person": 8.96,
         "Payer Name": "Thomas Rice",
         "CC Number": 4403296224639756,
         "Payment ID": "Sat1709",
         "_deepnote_index_column": 20
        },
        {
         "total_bill": 15.77,
         "tip": 2.23,
         "sex": "Female",
         "smoker": "No",
         "day": "Sat",
         "time": "Dinner",
         "size": 2,
         "price_per_person": 7.88,
         "Payer Name": "Ashley Shelton",
         "CC Number": 3524119516293213,
         "Payment ID": "Sat9786",
         "_deepnote_index_column": 22
        },
        {
         "total_bill": 19.82,
         "tip": 3.18,
         "sex": "Male",
         "smoker": "No",
         "day": "Sat",
         "time": "Dinner",
         "size": 2,
         "price_per_person": 9.91,
         "Payer Name": "Christopher Ross",
         "CC Number": 36739148167928,
         "Payment ID": "Sat6236",
         "_deepnote_index_column": 24
        },
        {
         "total_bill": 17.81,
         "tip": 2.34,
         "sex": "Male",
         "smoker": "No",
         "day": "Sat",
         "time": "Dinner",
         "size": 4,
         "price_per_person": 4.45,
         "Payer Name": "Robert Perkins",
         "CC Number": 30502930499388,
         "Payment ID": "Sat907",
         "_deepnote_index_column": 25
        },
        {
         "total_bill": 13.37,
         "tip": 2,
         "sex": "Male",
         "smoker": "No",
         "day": "Sat",
         "time": "Dinner",
         "size": 2,
         "price_per_person": 6.68,
         "Payer Name": "Kyle Avery",
         "CC Number": 6531339539615499,
         "Payment ID": "Sat6651",
         "_deepnote_index_column": 26
        },
        {
         "total_bill": 12.69,
         "tip": 2,
         "sex": "Male",
         "smoker": "No",
         "day": "Sat",
         "time": "Dinner",
         "size": 2,
         "price_per_person": 6.34,
         "Payer Name": "Patrick Barber",
         "CC Number": 30155551880343,
         "Payment ID": "Sat394",
         "_deepnote_index_column": 27
        },
        {
         "total_bill": 19.65,
         "tip": 3,
         "sex": "Female",
         "smoker": "No",
         "day": "Sat",
         "time": "Dinner",
         "size": 2,
         "price_per_person": 9.82,
         "Payer Name": "Melinda Murphy",
         "CC Number": 5489272944576051,
         "Payment ID": "Sat2467",
         "_deepnote_index_column": 29
        },
        {
         "total_bill": 18.35,
         "tip": 2.5,
         "sex": "Male",
         "smoker": "No",
         "day": "Sat",
         "time": "Dinner",
         "size": 4,
         "price_per_person": 4.59,
         "Payer Name": "Danny Santiago",
         "CC Number": 630415546013,
         "Payment ID": "Sat4947",
         "_deepnote_index_column": 31
        },
        {
         "total_bill": 15.06,
         "tip": 3,
         "sex": "Female",
         "smoker": "No",
         "day": "Sat",
         "time": "Dinner",
         "size": 2,
         "price_per_person": 7.53,
         "Payer Name": "Amanda Wilson",
         "CC Number": 213186304291560,
         "Payment ID": "Sat1327",
         "_deepnote_index_column": 32
        },
        {
         "total_bill": 17.78,
         "tip": 3.27,
         "sex": "Male",
         "smoker": "No",
         "day": "Sat",
         "time": "Dinner",
         "size": 2,
         "price_per_person": 8.89,
         "Payer Name": "Jacob Castillo",
         "CC Number": 3551492000704805,
         "Payment ID": "Sat8124",
         "_deepnote_index_column": 34
        },
        {
         "total_bill": 16.31,
         "tip": 2,
         "sex": "Male",
         "smoker": "No",
         "day": "Sat",
         "time": "Dinner",
         "size": 3,
         "price_per_person": 5.44,
         "Payer Name": "William Ford",
         "CC Number": 3527691170179398,
         "Payment ID": "Sat9139",
         "_deepnote_index_column": 36
        },
        {
         "total_bill": 16.93,
         "tip": 3.07,
         "sex": "Female",
         "smoker": "No",
         "day": "Sat",
         "time": "Dinner",
         "size": 3,
         "price_per_person": 5.64,
         "Payer Name": "Erin Lewis",
         "CC Number": 5161695527390786,
         "Payment ID": "Sat6406",
         "_deepnote_index_column": 37
        },
        {
         "total_bill": 18.69,
         "tip": 2.31,
         "sex": "Male",
         "smoker": "No",
         "day": "Sat",
         "time": "Dinner",
         "size": 3,
         "price_per_person": 6.23,
         "Payer Name": "Brandon Bradley",
         "CC Number": 4427601595688633,
         "Payment ID": "Sat4056",
         "_deepnote_index_column": 38
        },
        {
         "total_bill": 16.04,
         "tip": 2.24,
         "sex": "Male",
         "smoker": "No",
         "day": "Sat",
         "time": "Dinner",
         "size": 3,
         "price_per_person": 5.35,
         "Payer Name": "Adam Edwards",
         "CC Number": 3544447755679420,
         "Payment ID": "Sat8549",
         "_deepnote_index_column": 40
        },
        {
         "total_bill": 17.46,
         "tip": 2.54,
         "sex": "Male",
         "smoker": "No",
         "day": "Sun",
         "time": "Dinner",
         "size": 2,
         "price_per_person": 8.73,
         "Payer Name": "David Boyer",
         "CC Number": 3536678244278149,
         "Payment ID": "Sun9460",
         "_deepnote_index_column": 41
        },
        {
         "total_bill": 13.94,
         "tip": 3.06,
         "sex": "Male",
         "smoker": "No",
         "day": "Sun",
         "time": "Dinner",
         "size": 2,
         "price_per_person": 6.97,
         "Payer Name": "Bryan Brown",
         "CC Number": 36231182760859,
         "Payment ID": "Sun1699",
         "_deepnote_index_column": 42
        },
        {
         "total_bill": 18.29,
         "tip": 3,
         "sex": "Male",
         "smoker": "No",
         "day": "Sun",
         "time": "Dinner",
         "size": 2,
         "price_per_person": 9.14,
         "Payer Name": "Richard Fitzgerald",
         "CC Number": 375156610762053,
         "Payment ID": "Sun8643",
         "_deepnote_index_column": 45
        },
        {
         "total_bill": 18.04,
         "tip": 3,
         "sex": "Male",
         "smoker": "No",
         "day": "Sun",
         "time": "Dinner",
         "size": 2,
         "price_per_person": 9.02,
         "Payer Name": "William Roth",
         "CC Number": 6573923967142503,
         "Payment ID": "Sun9774",
         "_deepnote_index_column": 49
        },
        {
         "total_bill": 12.54,
         "tip": 2.5,
         "sex": "Male",
         "smoker": "No",
         "day": "Sun",
         "time": "Dinner",
         "size": 2,
         "price_per_person": 6.27,
         "Payer Name": "Jeremiah Neal",
         "CC Number": 2225400829691416,
         "Payment ID": "Sun2021",
         "_deepnote_index_column": 50
        },
        {
         "total_bill": 10.29,
         "tip": 2.6,
         "sex": "Female",
         "smoker": "No",
         "day": "Sun",
         "time": "Dinner",
         "size": 2,
         "price_per_person": 5.14,
         "Payer Name": "Jessica Ibarra",
         "CC Number": 4999759463713,
         "Payment ID": "Sun4474",
         "_deepnote_index_column": 51
        },
        {
         "total_bill": 19.49,
         "tip": 3.51,
         "sex": "Male",
         "smoker": "No",
         "day": "Sun",
         "time": "Dinner",
         "size": 2,
         "price_per_person": 9.74,
         "Payer Name": "Michael Hamilton",
         "CC Number": 6502227786581768,
         "Payment ID": "Sun1118",
         "_deepnote_index_column": 55
        },
        {
         "total_bill": 11.24,
         "tip": 1.76,
         "sex": "Male",
         "smoker": "Yes",
         "day": "Sat",
         "time": "Dinner",
         "size": 2,
         "price_per_person": 5.62,
         "Payer Name": "Troy Guerrero",
         "CC Number": 3560782621035582,
         "Payment ID": "Sat6683",
         "_deepnote_index_column": 58
        },
        {
         "total_bill": 13.81,
         "tip": 2,
         "sex": "Male",
         "smoker": "Yes",
         "day": "Sat",
         "time": "Dinner",
         "size": 2,
         "price_per_person": 6.9,
         "Payer Name": "Ryan Hernandez",
         "CC Number": 4766834726806,
         "Payment ID": "Sat3030",
         "_deepnote_index_column": 61
        },
        {
         "total_bill": 11.02,
         "tip": 1.98,
         "sex": "Male",
         "smoker": "Yes",
         "day": "Sat",
         "time": "Dinner",
         "size": 2,
         "price_per_person": 5.51,
         "Payer Name": "Joseph Hart",
         "CC Number": 180046232326178,
         "Payment ID": "Sat2265",
         "_deepnote_index_column": 62
        },
        {
         "total_bill": 18.29,
         "tip": 3.76,
         "sex": "Male",
         "smoker": "Yes",
         "day": "Sat",
         "time": "Dinner",
         "size": 4,
         "price_per_person": 4.57,
         "Payer Name": "Chad Hart",
         "CC Number": 580171498976,
         "Payment ID": "Sat4178",
         "_deepnote_index_column": 63
        },
        {
         "total_bill": 17.59,
         "tip": 2.64,
         "sex": "Male",
         "smoker": "No",
         "day": "Sat",
         "time": "Dinner",
         "size": 3,
         "price_per_person": 5.86,
         "Payer Name": "Michael Johnson",
         "CC Number": 2222114458088108,
         "Payment ID": "Sat1667",
         "_deepnote_index_column": 64
        },
        {
         "total_bill": 16.45,
         "tip": 2.47,
         "sex": "Female",
         "smoker": "No",
         "day": "Sat",
         "time": "Dinner",
         "size": 2,
         "price_per_person": 8.22,
         "Payer Name": "Rachel Vaughn",
         "CC Number": 3569262692675583,
         "Payment ID": "Sat4750",
         "_deepnote_index_column": 66
        },
        {
         "total_bill": 15.01,
         "tip": 2.09,
         "sex": "Male",
         "smoker": "Yes",
         "day": "Sat",
         "time": "Dinner",
         "size": 2,
         "price_per_person": 7.5,
         "Payer Name": "Adam Hall",
         "CC Number": 4700924377057571,
         "Payment ID": "Sat855",
         "_deepnote_index_column": 69
        },
        {
         "total_bill": 12.02,
         "tip": 1.97,
         "sex": "Male",
         "smoker": "No",
         "day": "Sat",
         "time": "Dinner",
         "size": 2,
         "price_per_person": 6.01,
         "Payer Name": "Max Brown",
         "CC Number": 213139760497718,
         "Payment ID": "Sat2100",
         "_deepnote_index_column": 70
        },
        {
         "total_bill": 17.07,
         "tip": 3,
         "sex": "Female",
         "smoker": "No",
         "day": "Sat",
         "time": "Dinner",
         "size": 3,
         "price_per_person": 5.69,
         "Payer Name": "Teresa Fisher",
         "CC Number": 5442222963796367,
         "Payment ID": "Sat3469",
         "_deepnote_index_column": 71
        },
        {
         "total_bill": 14.73,
         "tip": 2.2,
         "sex": "Female",
         "smoker": "No",
         "day": "Sat",
         "time": "Dinner",
         "size": 2,
         "price_per_person": 7.36,
         "Payer Name": "Ashley Harris",
         "CC Number": 501828723483,
         "Payment ID": "Sat6548",
         "_deepnote_index_column": 74
        },
        {
         "total_bill": 10.51,
         "tip": 1.25,
         "sex": "Male",
         "smoker": "No",
         "day": "Sat",
         "time": "Dinner",
         "size": 2,
         "price_per_person": 5.26,
         "Payer Name": "Kenneth Hayes",
         "CC Number": 213142079731108,
         "Payment ID": "Sat5056",
         "_deepnote_index_column": 75
        },
        {
         "total_bill": 17.92,
         "tip": 3.08,
         "sex": "Male",
         "smoker": "Yes",
         "day": "Sat",
         "time": "Dinner",
         "size": 2,
         "price_per_person": 8.96,
         "Payer Name": "Mark Smith",
         "CC Number": 676188485350,
         "Payment ID": "Sat9908",
         "_deepnote_index_column": 76
        },
        {
         "total_bill": 17.29,
         "tip": 2.71,
         "sex": "Male",
         "smoker": "No",
         "day": "Thur",
         "time": "Lunch",
         "size": 2,
         "price_per_person": 8.64,
         "Payer Name": "Brian Diaz",
         "CC Number": 4759290988169738,
         "Payment ID": "Thur9501",
         "_deepnote_index_column": 79
        }
       ],
       "rows_bottom": [
        {
         "total_bill": 19.77,
         "tip": 2,
         "sex": "Male",
         "smoker": "No",
         "day": "Sun",
         "time": "Dinner",
         "size": 4,
         "price_per_person": 4.94,
         "Payer Name": "James Smith",
         "CC Number": 213169731428229,
         "Payment ID": "Sun5814",
         "_deepnote_index_column": 154
        },
        {
         "total_bill": 13.39,
         "tip": 2.61,
         "sex": "Female",
         "smoker": "No",
         "day": "Sun",
         "time": "Dinner",
         "size": 2,
         "price_per_person": 6.7,
         "Payer Name": "Ashley Boyd",
         "CC Number": 3571088058115021,
         "Payment ID": "Sun982",
         "_deepnote_index_column": 158
        },
        {
         "total_bill": 16.49,
         "tip": 2,
         "sex": "Male",
         "smoker": "No",
         "day": "Sun",
         "time": "Dinner",
         "size": 4,
         "price_per_person": 4.12,
         "Payer Name": "Christopher Soto",
         "CC Number": 30501814271434,
         "Payment ID": "Sun1781",
         "_deepnote_index_column": 159
        },
        {
         "total_bill": 12.66,
         "tip": 2.5,
         "sex": "Male",
         "smoker": "No",
         "day": "Sun",
         "time": "Dinner",
         "size": 2,
         "price_per_person": 6.33,
         "Payer Name": "Brandon Oconnor",
         "CC Number": 4406882156920533,
         "Payment ID": "Sun5879",
         "_deepnote_index_column": 161
        },
        {
         "total_bill": 16.21,
         "tip": 2,
         "sex": "Female",
         "smoker": "No",
         "day": "Sun",
         "time": "Dinner",
         "size": 3,
         "price_per_person": 5.4,
         "Payer Name": "Jennifer Baird",
         "CC Number": 4227834176859693,
         "Payment ID": "Sun5521",
         "_deepnote_index_column": 162
        },
        {
         "total_bill": 13.81,
         "tip": 2,
         "sex": "Male",
         "smoker": "No",
         "day": "Sun",
         "time": "Dinner",
         "size": 2,
         "price_per_person": 6.9,
         "Payer Name": "Charles Newton",
         "CC Number": 5552793481414044,
         "Payment ID": "Sun8594",
         "_deepnote_index_column": 163
        },
        {
         "total_bill": 17.51,
         "tip": 3,
         "sex": "Female",
         "smoker": "Yes",
         "day": "Sun",
         "time": "Dinner",
         "size": 2,
         "price_per_person": 8.76,
         "Payer Name": "Audrey Griffin",
         "CC Number": 3500853929693258,
         "Payment ID": "Sun444",
         "_deepnote_index_column": 164
        },
        {
         "total_bill": 10.59,
         "tip": 1.61,
         "sex": "Female",
         "smoker": "Yes",
         "day": "Sat",
         "time": "Dinner",
         "size": 2,
         "price_per_person": 5.3,
         "Payer Name": "Sara Jimenez",
         "CC Number": 502053147208,
         "Payment ID": "Sat9795",
         "_deepnote_index_column": 168
        },
        {
         "total_bill": 10.63,
         "tip": 2,
         "sex": "Female",
         "smoker": "Yes",
         "day": "Sat",
         "time": "Dinner",
         "size": 2,
         "price_per_person": 5.32,
         "Payer Name": "Amy Hill",
         "CC Number": 3536332481454019,
         "Payment ID": "Sat1788",
         "_deepnote_index_column": 169
        },
        {
         "total_bill": 15.81,
         "tip": 3.16,
         "sex": "Male",
         "smoker": "Yes",
         "day": "Sat",
         "time": "Dinner",
         "size": 2,
         "price_per_person": 7.9,
         "Payer Name": "David Hall",
         "CC Number": 502004138207,
         "Payment ID": "Sat6750",
         "_deepnote_index_column": 171
        },
        {
         "total_bill": 16.82,
         "tip": 4,
         "sex": "Male",
         "smoker": "Yes",
         "day": "Sun",
         "time": "Dinner",
         "size": 2,
         "price_per_person": 8.41,
         "Payer Name": "Brian Miles",
         "CC Number": 3586342145399277,
         "Payment ID": "Sun7621",
         "_deepnote_index_column": 174
        },
        {
         "total_bill": 17.89,
         "tip": 2,
         "sex": "Male",
         "smoker": "Yes",
         "day": "Sun",
         "time": "Dinner",
         "size": 2,
         "price_per_person": 8.94,
         "Payer Name": "Walter Simmons",
         "CC Number": 6011481578696110,
         "Payment ID": "Sun5961",
         "_deepnote_index_column": 176
        },
        {
         "total_bill": 14.48,
         "tip": 2,
         "sex": "Male",
         "smoker": "Yes",
         "day": "Sun",
         "time": "Dinner",
         "size": 2,
         "price_per_person": 7.24,
         "Payer Name": "John Dudley",
         "CC Number": 4565183162071073,
         "Payment ID": "Sun6203",
         "_deepnote_index_column": 177
        },
        {
         "total_bill": 18.15,
         "tip": 3.5,
         "sex": "Female",
         "smoker": "Yes",
         "day": "Sun",
         "time": "Dinner",
         "size": 3,
         "price_per_person": 6.05,
         "Payer Name": "Glenda Wiggins",
         "CC Number": 578329325307,
         "Payment ID": "Sun430",
         "_deepnote_index_column": 188
        },
        {
         "total_bill": 15.69,
         "tip": 1.5,
         "sex": "Male",
         "smoker": "Yes",
         "day": "Sun",
         "time": "Dinner",
         "size": 2,
         "price_per_person": 7.84,
         "Payer Name": "Riley Barnes",
         "CC Number": 180053549128800,
         "Payment ID": "Sun5104",
         "_deepnote_index_column": 190
        },
        {
         "total_bill": 19.81,
         "tip": 4.19,
         "sex": "Female",
         "smoker": "Yes",
         "day": "Thur",
         "time": "Lunch",
         "size": 2,
         "price_per_person": 9.9,
         "Payer Name": "Kristy Boyd",
         "CC Number": 4317015327600068,
         "Payment ID": "Thur967",
         "_deepnote_index_column": 191
        },
        {
         "total_bill": 15.48,
         "tip": 2.02,
         "sex": "Male",
         "smoker": "Yes",
         "day": "Thur",
         "time": "Lunch",
         "size": 2,
         "price_per_person": 7.74,
         "Payer Name": "Raymond Sullivan",
         "CC Number": 180068856139315,
         "Payment ID": "Thur606",
         "_deepnote_index_column": 193
        },
        {
         "total_bill": 16.58,
         "tip": 4,
         "sex": "Male",
         "smoker": "Yes",
         "day": "Thur",
         "time": "Lunch",
         "size": 2,
         "price_per_person": 8.29,
         "Payer Name": "Benjamin Weber",
         "CC Number": 676210011505,
         "Payment ID": "Thur9318",
         "_deepnote_index_column": 194
        },
        {
         "total_bill": 10.34,
         "tip": 2,
         "sex": "Male",
         "smoker": "Yes",
         "day": "Thur",
         "time": "Lunch",
         "size": 2,
         "price_per_person": 5.17,
         "Payer Name": "Eric Martin",
         "CC Number": 30442491190342,
         "Payment ID": "Thur9862",
         "_deepnote_index_column": 196
        },
        {
         "total_bill": 13,
         "tip": 2,
         "sex": "Female",
         "smoker": "Yes",
         "day": "Thur",
         "time": "Lunch",
         "size": 2,
         "price_per_person": 6.5,
         "Payer Name": "Katherine Bond",
         "CC Number": 4926725945192,
         "Payment ID": "Thur437",
         "_deepnote_index_column": 198
        },
        {
         "total_bill": 13.51,
         "tip": 2,
         "sex": "Male",
         "smoker": "Yes",
         "day": "Thur",
         "time": "Lunch",
         "size": 2,
         "price_per_person": 6.76,
         "Payer Name": "Joseph Murphy MD",
         "CC Number": 6547218923471275,
         "Payment ID": "Thur2428",
         "_deepnote_index_column": 199
        },
        {
         "total_bill": 18.71,
         "tip": 4,
         "sex": "Male",
         "smoker": "Yes",
         "day": "Thur",
         "time": "Lunch",
         "size": 3,
         "price_per_person": 6.24,
         "Payer Name": "Jason Conrad",
         "CC Number": 4581233003487,
         "Payment ID": "Thur6048",
         "_deepnote_index_column": 200
        },
        {
         "total_bill": 12.74,
         "tip": 2.01,
         "sex": "Female",
         "smoker": "Yes",
         "day": "Thur",
         "time": "Lunch",
         "size": 2,
         "price_per_person": 6.37,
         "Payer Name": "Abigail Parks",
         "CC Number": 3586645396220590,
         "Payment ID": "Thur2544",
         "_deepnote_index_column": 201
        },
        {
         "total_bill": 13,
         "tip": 2,
         "sex": "Female",
         "smoker": "Yes",
         "day": "Thur",
         "time": "Lunch",
         "size": 2,
         "price_per_person": 6.5,
         "Payer Name": "Ashley Shaw",
         "CC Number": 180088043008041,
         "Payment ID": "Thur1301",
         "_deepnote_index_column": 202
        },
        {
         "total_bill": 16.4,
         "tip": 2.5,
         "sex": "Female",
         "smoker": "Yes",
         "day": "Thur",
         "time": "Lunch",
         "size": 2,
         "price_per_person": 8.2,
         "Payer Name": "Toni Brooks",
         "CC Number": 3582289985920239,
         "Payment ID": "Thur7770",
         "_deepnote_index_column": 203
        },
        {
         "total_bill": 16.47,
         "tip": 3.23,
         "sex": "Female",
         "smoker": "Yes",
         "day": "Thur",
         "time": "Lunch",
         "size": 3,
         "price_per_person": 5.49,
         "Payer Name": "Carly Reyes",
         "CC Number": 4787787236486,
         "Payment ID": "Thur8084",
         "_deepnote_index_column": 205
        },
        {
         "total_bill": 12.76,
         "tip": 2.23,
         "sex": "Female",
         "smoker": "Yes",
         "day": "Sat",
         "time": "Dinner",
         "size": 2,
         "price_per_person": 6.38,
         "Payer Name": "Sarah Cunningham",
         "CC Number": 341876516331163,
         "Payment ID": "Sat1274",
         "_deepnote_index_column": 209
        },
        {
         "total_bill": 13.27,
         "tip": 2.5,
         "sex": "Female",
         "smoker": "Yes",
         "day": "Sat",
         "time": "Dinner",
         "size": 2,
         "price_per_person": 6.64,
         "Payer Name": "Robin Andersen",
         "CC Number": 580140531089,
         "Payment ID": "Sat1374",
         "_deepnote_index_column": 213
        },
        {
         "total_bill": 12.9,
         "tip": 1.1,
         "sex": "Female",
         "smoker": "Yes",
         "day": "Sat",
         "time": "Dinner",
         "size": 2,
         "price_per_person": 6.45,
         "Payer Name": "Jessica Owen",
         "CC Number": 4726904879471,
         "Payment ID": "Sat6983",
         "_deepnote_index_column": 215
        },
        {
         "total_bill": 11.59,
         "tip": 1.5,
         "sex": "Male",
         "smoker": "Yes",
         "day": "Sat",
         "time": "Dinner",
         "size": 2,
         "price_per_person": 5.8,
         "Payer Name": "Gary Orr",
         "CC Number": 30324521283406,
         "Payment ID": "Sat8489",
         "_deepnote_index_column": 217
        },
        {
         "total_bill": 12.16,
         "tip": 2.2,
         "sex": "Male",
         "smoker": "Yes",
         "day": "Fri",
         "time": "Lunch",
         "size": 2,
         "price_per_person": 6.08,
         "Payer Name": "Ricky Johnson",
         "CC Number": 213109508670736,
         "Payment ID": "Fri4607",
         "_deepnote_index_column": 220
        },
        {
         "total_bill": 13.42,
         "tip": 3.48,
         "sex": "Female",
         "smoker": "Yes",
         "day": "Fri",
         "time": "Lunch",
         "size": 2,
         "price_per_person": 6.71,
         "Payer Name": "Leslie Kaufman",
         "CC Number": 379437981958785,
         "Payment ID": "Fri7511",
         "_deepnote_index_column": 221
        },
        {
         "total_bill": 15.98,
         "tip": 3,
         "sex": "Female",
         "smoker": "No",
         "day": "Fri",
         "time": "Lunch",
         "size": 3,
         "price_per_person": 5.33,
         "Payer Name": "Mary Rivera",
         "CC Number": 5343428579353069,
         "Payment ID": "Fri6014",
         "_deepnote_index_column": 223
        },
        {
         "total_bill": 13.42,
         "tip": 1.58,
         "sex": "Male",
         "smoker": "Yes",
         "day": "Fri",
         "time": "Lunch",
         "size": 2,
         "price_per_person": 6.71,
         "Payer Name": "Ronald Vaughn DVM",
         "CC Number": 341503466406403,
         "Payment ID": "Fri5959",
         "_deepnote_index_column": 224
        },
        {
         "total_bill": 16.27,
         "tip": 2.5,
         "sex": "Female",
         "smoker": "Yes",
         "day": "Fri",
         "time": "Lunch",
         "size": 2,
         "price_per_person": 8.14,
         "Payer Name": "Whitney Arnold",
         "CC Number": 3579111947217428,
         "Payment ID": "Fri6665",
         "_deepnote_index_column": 225
        },
        {
         "total_bill": 10.09,
         "tip": 2,
         "sex": "Female",
         "smoker": "Yes",
         "day": "Fri",
         "time": "Lunch",
         "size": 2,
         "price_per_person": 5.04,
         "Payer Name": "Ruth Weiss",
         "CC Number": 5268689490381635,
         "Payment ID": "Fri6359",
         "_deepnote_index_column": 226
        },
        {
         "total_bill": 13.28,
         "tip": 2.72,
         "sex": "Male",
         "smoker": "No",
         "day": "Sat",
         "time": "Dinner",
         "size": 2,
         "price_per_person": 6.64,
         "Payer Name": "Glenn Jones",
         "CC Number": 502061651712,
         "Payment ID": "Sat2937",
         "_deepnote_index_column": 228
        },
        {
         "total_bill": 15.69,
         "tip": 3,
         "sex": "Male",
         "smoker": "Yes",
         "day": "Sat",
         "time": "Dinner",
         "size": 3,
         "price_per_person": 5.23,
         "Payer Name": "Jason Parks",
         "CC Number": 4812333796161,
         "Payment ID": "Sat6334",
         "_deepnote_index_column": 231
        },
        {
         "total_bill": 11.61,
         "tip": 3.39,
         "sex": "Male",
         "smoker": "No",
         "day": "Sat",
         "time": "Dinner",
         "size": 2,
         "price_per_person": 5.8,
         "Payer Name": "James Taylor",
         "CC Number": 6011482917327995,
         "Payment ID": "Sat2124",
         "_deepnote_index_column": 232
        },
        {
         "total_bill": 10.77,
         "tip": 1.47,
         "sex": "Male",
         "smoker": "No",
         "day": "Sat",
         "time": "Dinner",
         "size": 2,
         "price_per_person": 5.38,
         "Payer Name": "Paul Novak",
         "CC Number": 6011698897610858,
         "Payment ID": "Sat1467",
         "_deepnote_index_column": 233
        },
        {
         "total_bill": 15.53,
         "tip": 3,
         "sex": "Male",
         "smoker": "Yes",
         "day": "Sat",
         "time": "Dinner",
         "size": 2,
         "price_per_person": 7.76,
         "Payer Name": "Tracy Douglas",
         "CC Number": 4097938155941930,
         "Payment ID": "Sat7220",
         "_deepnote_index_column": 234
        },
        {
         "total_bill": 10.07,
         "tip": 1.25,
         "sex": "Male",
         "smoker": "No",
         "day": "Sat",
         "time": "Dinner",
         "size": 2,
         "price_per_person": 5.04,
         "Payer Name": "Sean Gonzalez",
         "CC Number": 3534021246117605,
         "Payment ID": "Sat4615",
         "_deepnote_index_column": 235
        },
        {
         "total_bill": 12.6,
         "tip": 1,
         "sex": "Male",
         "smoker": "Yes",
         "day": "Sat",
         "time": "Dinner",
         "size": 2,
         "price_per_person": 6.3,
         "Payer Name": "Matthew Myers",
         "CC Number": 3543676378973965,
         "Payment ID": "Sat5032",
         "_deepnote_index_column": 236
        },
        {
         "total_bill": 17.82,
         "tip": 1.75,
         "sex": "Male",
         "smoker": "No",
         "day": "Sat",
         "time": "Dinner",
         "size": 2,
         "price_per_person": 8.91,
         "Payer Name": "Dennis Dixon",
         "CC Number": 4375220550950,
         "Payment ID": "Sat17",
         "_deepnote_index_column": 242
        },
        {
         "total_bill": 18.78,
         "tip": 3,
         "sex": "Female",
         "smoker": "No",
         "day": "Thur",
         "time": "Dinner",
         "size": 2,
         "price_per_person": 9.39,
         "Payer Name": "Michelle Hardin",
         "CC Number": 3511451626698139,
         "Payment ID": "Thur672",
         "_deepnote_index_column": 243
        }
       ]
      },
      "text/plain": "     total_bill   tip     sex smoker   day    time  size  price_per_person  \\\n0         16.99  1.01  Female     No   Sun  Dinner     2              8.49   \n1         10.34  1.66    Male     No   Sun  Dinner     3              3.45   \n8         15.04  1.96    Male     No   Sun  Dinner     2              7.52   \n9         14.78  3.23    Male     No   Sun  Dinner     2              7.39   \n10        10.27  1.71    Male     No   Sun  Dinner     2              5.14   \n..          ...   ...     ...    ...   ...     ...   ...               ...   \n234       15.53  3.00    Male    Yes   Sat  Dinner     2              7.76   \n235       10.07  1.25    Male     No   Sat  Dinner     2              5.04   \n236       12.60  1.00    Male    Yes   Sat  Dinner     2              6.30   \n242       17.82  1.75    Male     No   Sat  Dinner     2              8.91   \n243       18.78  3.00  Female     No  Thur  Dinner     2              9.39   \n\n             Payer Name         CC Number Payment ID  \n0    Christy Cunningham  3560325168603410    Sun2959  \n1        Douglas Tucker  4478071379779230    Sun4608  \n8       Joseph Mcdonald  3522866365840377    Sun6820  \n9         Jerome Abbott  3532124519049786    Sun3775  \n10        William Riley      566287581219    Sun2546  \n..                  ...               ...        ...  \n234       Tracy Douglas  4097938155941930    Sat7220  \n235       Sean Gonzalez  3534021246117605    Sat4615  \n236       Matthew Myers  3543676378973965    Sat5032  \n242        Dennis Dixon     4375220550950      Sat17  \n243     Michelle Hardin  3511451626698139    Thur672  \n\n[130 rows x 11 columns]",
      "text/html": "<div>\n<style scoped>\n    .dataframe tbody tr th:only-of-type {\n        vertical-align: middle;\n    }\n\n    .dataframe tbody tr th {\n        vertical-align: top;\n    }\n\n    .dataframe thead th {\n        text-align: right;\n    }\n</style>\n<table border=\"1\" class=\"dataframe\">\n  <thead>\n    <tr style=\"text-align: right;\">\n      <th></th>\n      <th>total_bill</th>\n      <th>tip</th>\n      <th>sex</th>\n      <th>smoker</th>\n      <th>day</th>\n      <th>time</th>\n      <th>size</th>\n      <th>price_per_person</th>\n      <th>Payer Name</th>\n      <th>CC Number</th>\n      <th>Payment ID</th>\n    </tr>\n  </thead>\n  <tbody>\n    <tr>\n      <th>0</th>\n      <td>16.99</td>\n      <td>1.01</td>\n      <td>Female</td>\n      <td>No</td>\n      <td>Sun</td>\n      <td>Dinner</td>\n      <td>2</td>\n      <td>8.49</td>\n      <td>Christy Cunningham</td>\n      <td>3560325168603410</td>\n      <td>Sun2959</td>\n    </tr>\n    <tr>\n      <th>1</th>\n      <td>10.34</td>\n      <td>1.66</td>\n      <td>Male</td>\n      <td>No</td>\n      <td>Sun</td>\n      <td>Dinner</td>\n      <td>3</td>\n      <td>3.45</td>\n      <td>Douglas Tucker</td>\n      <td>4478071379779230</td>\n      <td>Sun4608</td>\n    </tr>\n    <tr>\n      <th>8</th>\n      <td>15.04</td>\n      <td>1.96</td>\n      <td>Male</td>\n      <td>No</td>\n      <td>Sun</td>\n      <td>Dinner</td>\n      <td>2</td>\n      <td>7.52</td>\n      <td>Joseph Mcdonald</td>\n      <td>3522866365840377</td>\n      <td>Sun6820</td>\n    </tr>\n    <tr>\n      <th>9</th>\n      <td>14.78</td>\n      <td>3.23</td>\n      <td>Male</td>\n      <td>No</td>\n      <td>Sun</td>\n      <td>Dinner</td>\n      <td>2</td>\n      <td>7.39</td>\n      <td>Jerome Abbott</td>\n      <td>3532124519049786</td>\n      <td>Sun3775</td>\n    </tr>\n    <tr>\n      <th>10</th>\n      <td>10.27</td>\n      <td>1.71</td>\n      <td>Male</td>\n      <td>No</td>\n      <td>Sun</td>\n      <td>Dinner</td>\n      <td>2</td>\n      <td>5.14</td>\n      <td>William Riley</td>\n      <td>566287581219</td>\n      <td>Sun2546</td>\n    </tr>\n    <tr>\n      <th>...</th>\n      <td>...</td>\n      <td>...</td>\n      <td>...</td>\n      <td>...</td>\n      <td>...</td>\n      <td>...</td>\n      <td>...</td>\n      <td>...</td>\n      <td>...</td>\n      <td>...</td>\n      <td>...</td>\n    </tr>\n    <tr>\n      <th>234</th>\n      <td>15.53</td>\n      <td>3.00</td>\n      <td>Male</td>\n      <td>Yes</td>\n      <td>Sat</td>\n      <td>Dinner</td>\n      <td>2</td>\n      <td>7.76</td>\n      <td>Tracy Douglas</td>\n      <td>4097938155941930</td>\n      <td>Sat7220</td>\n    </tr>\n    <tr>\n      <th>235</th>\n      <td>10.07</td>\n      <td>1.25</td>\n      <td>Male</td>\n      <td>No</td>\n      <td>Sat</td>\n      <td>Dinner</td>\n      <td>2</td>\n      <td>5.04</td>\n      <td>Sean Gonzalez</td>\n      <td>3534021246117605</td>\n      <td>Sat4615</td>\n    </tr>\n    <tr>\n      <th>236</th>\n      <td>12.60</td>\n      <td>1.00</td>\n      <td>Male</td>\n      <td>Yes</td>\n      <td>Sat</td>\n      <td>Dinner</td>\n      <td>2</td>\n      <td>6.30</td>\n      <td>Matthew Myers</td>\n      <td>3543676378973965</td>\n      <td>Sat5032</td>\n    </tr>\n    <tr>\n      <th>242</th>\n      <td>17.82</td>\n      <td>1.75</td>\n      <td>Male</td>\n      <td>No</td>\n      <td>Sat</td>\n      <td>Dinner</td>\n      <td>2</td>\n      <td>8.91</td>\n      <td>Dennis Dixon</td>\n      <td>4375220550950</td>\n      <td>Sat17</td>\n    </tr>\n    <tr>\n      <th>243</th>\n      <td>18.78</td>\n      <td>3.00</td>\n      <td>Female</td>\n      <td>No</td>\n      <td>Thur</td>\n      <td>Dinner</td>\n      <td>2</td>\n      <td>9.39</td>\n      <td>Michelle Hardin</td>\n      <td>3511451626698139</td>\n      <td>Thur672</td>\n    </tr>\n  </tbody>\n</table>\n<p>130 rows × 11 columns</p>\n</div>"
     },
     "metadata": {}
    }
   ]
  },
  {
   "cell_type": "code",
   "metadata": {
    "tags": [],
    "cell_id": "00039-da6f2455-f04c-4911-9edb-856bdafce69e",
    "deepnote_to_be_reexecuted": false,
    "source_hash": "f7dc745d",
    "execution_start": 1622382411291,
    "deepnote_cell_type": "code"
   },
   "source": "#grabbing nlargest and nsmallest",
   "execution_count": 40,
   "outputs": []
  },
  {
   "cell_type": "code",
   "metadata": {
    "tags": [],
    "cell_id": "00040-c73f58e5-bafc-4540-86c1-5e34ffec1381",
    "deepnote_to_be_reexecuted": false,
    "source_hash": "d77a0fa0",
    "execution_start": 1622382473447,
    "execution_millis": 126,
    "deepnote_cell_type": "code"
   },
   "source": "df.nlargest(10,'tip')  #10 rows that have largest tip",
   "execution_count": 42,
   "outputs": [
    {
     "output_type": "execute_result",
     "execution_count": 42,
     "data": {
      "application/vnd.deepnote.dataframe.v2+json": {
       "row_count": 10,
       "column_count": 11,
       "columns": [
        {
         "name": "total_bill",
         "dtype": "float64",
         "stats": {
          "unique_count": 10,
          "nan_count": 0,
          "min": "23.17",
          "max": "50.81",
          "histogram": [
           {
            "bin_start": 23.17,
            "bin_end": 25.934,
            "count": 2
           },
           {
            "bin_start": 25.934,
            "bin_end": 28.698,
            "count": 1
           },
           {
            "bin_start": 28.698,
            "bin_end": 31.462000000000003,
            "count": 1
           },
           {
            "bin_start": 31.462000000000003,
            "bin_end": 34.226,
            "count": 1
           },
           {
            "bin_start": 34.226,
            "bin_end": 36.99,
            "count": 1
           },
           {
            "bin_start": 36.99,
            "bin_end": 39.754000000000005,
            "count": 1
           },
           {
            "bin_start": 39.754000000000005,
            "bin_end": 42.518,
            "count": 0
           },
           {
            "bin_start": 42.518,
            "bin_end": 45.282000000000004,
            "count": 0
           },
           {
            "bin_start": 45.282000000000004,
            "bin_end": 48.04600000000001,
            "count": 0
           },
           {
            "bin_start": 48.04600000000001,
            "bin_end": 50.81,
            "count": 3
           }
          ]
         }
        },
        {
         "name": "tip",
         "dtype": "float64",
         "stats": {
          "unique_count": 9,
          "nan_count": 0,
          "min": "5.85",
          "max": "10.0",
          "histogram": [
           {
            "bin_start": 5.85,
            "bin_end": 6.265,
            "count": 3
           },
           {
            "bin_start": 6.265,
            "bin_end": 6.68,
            "count": 2
           },
           {
            "bin_start": 6.68,
            "bin_end": 7.095,
            "count": 2
           },
           {
            "bin_start": 7.095,
            "bin_end": 7.51,
            "count": 0
           },
           {
            "bin_start": 7.51,
            "bin_end": 7.925,
            "count": 1
           },
           {
            "bin_start": 7.925,
            "bin_end": 8.34,
            "count": 0
           },
           {
            "bin_start": 8.34,
            "bin_end": 8.754999999999999,
            "count": 0
           },
           {
            "bin_start": 8.754999999999999,
            "bin_end": 9.17,
            "count": 1
           },
           {
            "bin_start": 9.17,
            "bin_end": 9.585,
            "count": 0
           },
           {
            "bin_start": 9.585,
            "bin_end": 10,
            "count": 1
           }
          ]
         }
        },
        {
         "name": "sex",
         "dtype": "object",
         "stats": {
          "unique_count": 2,
          "nan_count": 0,
          "categories": [
           {
            "name": "Male",
            "count": 9
           },
           {
            "name": "Female",
            "count": 1
           }
          ]
         }
        },
        {
         "name": "smoker",
         "dtype": "object",
         "stats": {
          "unique_count": 2,
          "nan_count": 0,
          "categories": [
           {
            "name": "No",
            "count": 7
           },
           {
            "name": "Yes",
            "count": 3
           }
          ]
         }
        },
        {
         "name": "day",
         "dtype": "object",
         "stats": {
          "unique_count": 3,
          "nan_count": 0,
          "categories": [
           {
            "name": "Sat",
            "count": 6
           },
           {
            "name": "Thur",
            "count": 2
           },
           {
            "name": "Sun",
            "count": 2
           }
          ]
         }
        },
        {
         "name": "time",
         "dtype": "object",
         "stats": {
          "unique_count": 2,
          "nan_count": 0,
          "categories": [
           {
            "name": "Dinner",
            "count": 8
           },
           {
            "name": "Lunch",
            "count": 2
           }
          ]
         }
        },
        {
         "name": "size",
         "dtype": "int64",
         "stats": {
          "unique_count": 4,
          "nan_count": 0,
          "min": "2",
          "max": "6",
          "histogram": [
           {
            "bin_start": 2,
            "bin_end": 2.4,
            "count": 1
           },
           {
            "bin_start": 2.4,
            "bin_end": 2.8,
            "count": 0
           },
           {
            "bin_start": 2.8,
            "bin_end": 3.2,
            "count": 3
           },
           {
            "bin_start": 3.2,
            "bin_end": 3.6,
            "count": 0
           },
           {
            "bin_start": 3.6,
            "bin_end": 4,
            "count": 0
           },
           {
            "bin_start": 4,
            "bin_end": 4.4,
            "count": 5
           },
           {
            "bin_start": 4.4,
            "bin_end": 4.800000000000001,
            "count": 0
           },
           {
            "bin_start": 4.800000000000001,
            "bin_end": 5.2,
            "count": 0
           },
           {
            "bin_start": 5.2,
            "bin_end": 5.6,
            "count": 0
           },
           {
            "bin_start": 5.6,
            "bin_end": 6,
            "count": 1
           }
          ]
         }
        },
        {
         "name": "price_per_person",
         "dtype": "float64",
         "stats": {
          "unique_count": 10,
          "nan_count": 0,
          "min": "5.72",
          "max": "16.94",
          "histogram": [
           {
            "bin_start": 5.72,
            "bin_end": 6.8420000000000005,
            "count": 2
           },
           {
            "bin_start": 6.8420000000000005,
            "bin_end": 7.964,
            "count": 0
           },
           {
            "bin_start": 7.964,
            "bin_end": 9.086,
            "count": 1
           },
           {
            "bin_start": 9.086,
            "bin_end": 10.208000000000002,
            "count": 3
           },
           {
            "bin_start": 10.208000000000002,
            "bin_end": 11.330000000000002,
            "count": 0
           },
           {
            "bin_start": 11.330000000000002,
            "bin_end": 12.452000000000002,
            "count": 3
           },
           {
            "bin_start": 12.452000000000002,
            "bin_end": 13.574000000000002,
            "count": 0
           },
           {
            "bin_start": 13.574000000000002,
            "bin_end": 14.696000000000002,
            "count": 0
           },
           {
            "bin_start": 14.696000000000002,
            "bin_end": 15.818000000000001,
            "count": 0
           },
           {
            "bin_start": 15.818000000000001,
            "bin_end": 16.94,
            "count": 1
           }
          ]
         }
        },
        {
         "name": "Payer Name",
         "dtype": "object",
         "stats": {
          "unique_count": 10,
          "nan_count": 0,
          "categories": [
           {
            "name": "Gregory Clark",
            "count": 1
           },
           {
            "name": "Alex Williamson",
            "count": 1
           },
           {
            "name": "8 others",
            "count": 8
           }
          ]
         }
        },
        {
         "name": "CC Number",
         "dtype": "int64",
         "stats": {
          "unique_count": 10,
          "nan_count": 0,
          "min": "676218815212",
          "max": "6596453823950595",
          "histogram": [
           {
            "bin_start": 676218815212,
            "bin_end": 660253979328750.2,
            "count": 3
           },
           {
            "bin_start": 660253979328750.2,
            "bin_end": 1319831739842288.5,
            "count": 0
           },
           {
            "bin_start": 1319831739842288.5,
            "bin_end": 1979409500355826.8,
            "count": 0
           },
           {
            "bin_start": 1979409500355826.8,
            "bin_end": 2638987260869365,
            "count": 0
           },
           {
            "bin_start": 2638987260869365,
            "bin_end": 3298565021382903,
            "count": 0
           },
           {
            "bin_start": 3298565021382903,
            "bin_end": 3958142781896441.5,
            "count": 3
           },
           {
            "bin_start": 3958142781896441.5,
            "bin_end": 4617720542409980,
            "count": 0
           },
           {
            "bin_start": 4617720542409980,
            "bin_end": 5277298302923518,
            "count": 1
           },
           {
            "bin_start": 5277298302923518,
            "bin_end": 5936876063437056,
            "count": 2
           },
           {
            "bin_start": 5936876063437056,
            "bin_end": 6596453823950595,
            "count": 1
           }
          ]
         }
        },
        {
         "name": "Payment ID",
         "dtype": "object",
         "stats": {
          "unique_count": 10,
          "nan_count": 0,
          "categories": [
           {
            "name": "Sat1954",
            "count": 1
           },
           {
            "name": "Sat4590",
            "count": 1
           },
           {
            "name": "8 others",
            "count": 8
           }
          ]
         }
        },
        {
         "name": "_deepnote_index_column",
         "dtype": "int64"
        }
       ],
       "rows_top": [
        {
         "total_bill": 50.81,
         "tip": 10,
         "sex": "Male",
         "smoker": "Yes",
         "day": "Sat",
         "time": "Dinner",
         "size": 3,
         "price_per_person": 16.94,
         "Payer Name": "Gregory Clark",
         "CC Number": 5473850968388236,
         "Payment ID": "Sat1954",
         "_deepnote_index_column": 170
        },
        {
         "total_bill": 48.33,
         "tip": 9,
         "sex": "Male",
         "smoker": "No",
         "day": "Sat",
         "time": "Dinner",
         "size": 4,
         "price_per_person": 12.08,
         "Payer Name": "Alex Williamson",
         "CC Number": 676218815212,
         "Payment ID": "Sat4590",
         "_deepnote_index_column": 212
        },
        {
         "total_bill": 39.42,
         "tip": 7.58,
         "sex": "Male",
         "smoker": "No",
         "day": "Sat",
         "time": "Dinner",
         "size": 4,
         "price_per_person": 9.86,
         "Payer Name": "Lance Peterson",
         "CC Number": 3542584061609808,
         "Payment ID": "Sat239",
         "_deepnote_index_column": 23
        },
        {
         "total_bill": 48.27,
         "tip": 6.73,
         "sex": "Male",
         "smoker": "No",
         "day": "Sat",
         "time": "Dinner",
         "size": 4,
         "price_per_person": 12.07,
         "Payer Name": "Brian Ortiz",
         "CC Number": 6596453823950595,
         "Payment ID": "Sat8139",
         "_deepnote_index_column": 59
        },
        {
         "total_bill": 34.3,
         "tip": 6.7,
         "sex": "Male",
         "smoker": "No",
         "day": "Thur",
         "time": "Lunch",
         "size": 6,
         "price_per_person": 5.72,
         "Payer Name": "Steven Carlson",
         "CC Number": 3526515703718508,
         "Payment ID": "Thur1025",
         "_deepnote_index_column": 141
        },
        {
         "total_bill": 23.17,
         "tip": 6.5,
         "sex": "Male",
         "smoker": "Yes",
         "day": "Sun",
         "time": "Dinner",
         "size": 4,
         "price_per_person": 5.79,
         "Payer Name": "Dr. Michael James",
         "CC Number": 4718501859162,
         "Payment ID": "Sun6059",
         "_deepnote_index_column": 183
        },
        {
         "total_bill": 28.17,
         "tip": 6.5,
         "sex": "Female",
         "smoker": "Yes",
         "day": "Sat",
         "time": "Dinner",
         "size": 3,
         "price_per_person": 9.39,
         "Payer Name": "Marissa Jackson",
         "CC Number": 4922302538691962,
         "Payment ID": "Sat3374",
         "_deepnote_index_column": 214
        },
        {
         "total_bill": 32.4,
         "tip": 6,
         "sex": "Male",
         "smoker": "No",
         "day": "Sun",
         "time": "Dinner",
         "size": 4,
         "price_per_person": 8.1,
         "Payer Name": "James Barnes",
         "CC Number": 3552002592874186,
         "Payment ID": "Sun9677",
         "_deepnote_index_column": 47
        },
        {
         "total_bill": 29.03,
         "tip": 5.92,
         "sex": "Male",
         "smoker": "No",
         "day": "Sat",
         "time": "Dinner",
         "size": 3,
         "price_per_person": 9.68,
         "Payer Name": "Michael Avila",
         "CC Number": 5296068606052842,
         "Payment ID": "Sat2657",
         "_deepnote_index_column": 239
        },
        {
         "total_bill": 24.71,
         "tip": 5.85,
         "sex": "Male",
         "smoker": "No",
         "day": "Thur",
         "time": "Lunch",
         "size": 2,
         "price_per_person": 12.36,
         "Payer Name": "Roger Taylor",
         "CC Number": 4410248629955,
         "Payment ID": "Thur9003",
         "_deepnote_index_column": 88
        }
       ],
       "rows_bottom": null
      },
      "text/plain": "     total_bill    tip     sex smoker   day    time  size  price_per_person  \\\n170       50.81  10.00    Male    Yes   Sat  Dinner     3             16.94   \n212       48.33   9.00    Male     No   Sat  Dinner     4             12.08   \n23        39.42   7.58    Male     No   Sat  Dinner     4              9.86   \n59        48.27   6.73    Male     No   Sat  Dinner     4             12.07   \n141       34.30   6.70    Male     No  Thur   Lunch     6              5.72   \n183       23.17   6.50    Male    Yes   Sun  Dinner     4              5.79   \n214       28.17   6.50  Female    Yes   Sat  Dinner     3              9.39   \n47        32.40   6.00    Male     No   Sun  Dinner     4              8.10   \n239       29.03   5.92    Male     No   Sat  Dinner     3              9.68   \n88        24.71   5.85    Male     No  Thur   Lunch     2             12.36   \n\n            Payer Name         CC Number Payment ID  \n170      Gregory Clark  5473850968388236    Sat1954  \n212    Alex Williamson      676218815212    Sat4590  \n23      Lance Peterson  3542584061609808     Sat239  \n59         Brian Ortiz  6596453823950595    Sat8139  \n141     Steven Carlson  3526515703718508   Thur1025  \n183  Dr. Michael James     4718501859162    Sun6059  \n214    Marissa Jackson  4922302538691962    Sat3374  \n47        James Barnes  3552002592874186    Sun9677  \n239      Michael Avila  5296068606052842    Sat2657  \n88        Roger Taylor     4410248629955   Thur9003  ",
      "text/html": "<div>\n<style scoped>\n    .dataframe tbody tr th:only-of-type {\n        vertical-align: middle;\n    }\n\n    .dataframe tbody tr th {\n        vertical-align: top;\n    }\n\n    .dataframe thead th {\n        text-align: right;\n    }\n</style>\n<table border=\"1\" class=\"dataframe\">\n  <thead>\n    <tr style=\"text-align: right;\">\n      <th></th>\n      <th>total_bill</th>\n      <th>tip</th>\n      <th>sex</th>\n      <th>smoker</th>\n      <th>day</th>\n      <th>time</th>\n      <th>size</th>\n      <th>price_per_person</th>\n      <th>Payer Name</th>\n      <th>CC Number</th>\n      <th>Payment ID</th>\n    </tr>\n  </thead>\n  <tbody>\n    <tr>\n      <th>170</th>\n      <td>50.81</td>\n      <td>10.00</td>\n      <td>Male</td>\n      <td>Yes</td>\n      <td>Sat</td>\n      <td>Dinner</td>\n      <td>3</td>\n      <td>16.94</td>\n      <td>Gregory Clark</td>\n      <td>5473850968388236</td>\n      <td>Sat1954</td>\n    </tr>\n    <tr>\n      <th>212</th>\n      <td>48.33</td>\n      <td>9.00</td>\n      <td>Male</td>\n      <td>No</td>\n      <td>Sat</td>\n      <td>Dinner</td>\n      <td>4</td>\n      <td>12.08</td>\n      <td>Alex Williamson</td>\n      <td>676218815212</td>\n      <td>Sat4590</td>\n    </tr>\n    <tr>\n      <th>23</th>\n      <td>39.42</td>\n      <td>7.58</td>\n      <td>Male</td>\n      <td>No</td>\n      <td>Sat</td>\n      <td>Dinner</td>\n      <td>4</td>\n      <td>9.86</td>\n      <td>Lance Peterson</td>\n      <td>3542584061609808</td>\n      <td>Sat239</td>\n    </tr>\n    <tr>\n      <th>59</th>\n      <td>48.27</td>\n      <td>6.73</td>\n      <td>Male</td>\n      <td>No</td>\n      <td>Sat</td>\n      <td>Dinner</td>\n      <td>4</td>\n      <td>12.07</td>\n      <td>Brian Ortiz</td>\n      <td>6596453823950595</td>\n      <td>Sat8139</td>\n    </tr>\n    <tr>\n      <th>141</th>\n      <td>34.30</td>\n      <td>6.70</td>\n      <td>Male</td>\n      <td>No</td>\n      <td>Thur</td>\n      <td>Lunch</td>\n      <td>6</td>\n      <td>5.72</td>\n      <td>Steven Carlson</td>\n      <td>3526515703718508</td>\n      <td>Thur1025</td>\n    </tr>\n    <tr>\n      <th>183</th>\n      <td>23.17</td>\n      <td>6.50</td>\n      <td>Male</td>\n      <td>Yes</td>\n      <td>Sun</td>\n      <td>Dinner</td>\n      <td>4</td>\n      <td>5.79</td>\n      <td>Dr. Michael James</td>\n      <td>4718501859162</td>\n      <td>Sun6059</td>\n    </tr>\n    <tr>\n      <th>214</th>\n      <td>28.17</td>\n      <td>6.50</td>\n      <td>Female</td>\n      <td>Yes</td>\n      <td>Sat</td>\n      <td>Dinner</td>\n      <td>3</td>\n      <td>9.39</td>\n      <td>Marissa Jackson</td>\n      <td>4922302538691962</td>\n      <td>Sat3374</td>\n    </tr>\n    <tr>\n      <th>47</th>\n      <td>32.40</td>\n      <td>6.00</td>\n      <td>Male</td>\n      <td>No</td>\n      <td>Sun</td>\n      <td>Dinner</td>\n      <td>4</td>\n      <td>8.10</td>\n      <td>James Barnes</td>\n      <td>3552002592874186</td>\n      <td>Sun9677</td>\n    </tr>\n    <tr>\n      <th>239</th>\n      <td>29.03</td>\n      <td>5.92</td>\n      <td>Male</td>\n      <td>No</td>\n      <td>Sat</td>\n      <td>Dinner</td>\n      <td>3</td>\n      <td>9.68</td>\n      <td>Michael Avila</td>\n      <td>5296068606052842</td>\n      <td>Sat2657</td>\n    </tr>\n    <tr>\n      <th>88</th>\n      <td>24.71</td>\n      <td>5.85</td>\n      <td>Male</td>\n      <td>No</td>\n      <td>Thur</td>\n      <td>Lunch</td>\n      <td>2</td>\n      <td>12.36</td>\n      <td>Roger Taylor</td>\n      <td>4410248629955</td>\n      <td>Thur9003</td>\n    </tr>\n  </tbody>\n</table>\n</div>"
     },
     "metadata": {}
    }
   ]
  },
  {
   "cell_type": "code",
   "source": "df.sample(5)             #sampling 5 random rows",
   "metadata": {
    "tags": [],
    "cell_id": "00041-e1fd9f9e-82e0-4c1d-86fe-6f0059e29d93",
    "deepnote_to_be_reexecuted": false,
    "source_hash": "f6110b39",
    "execution_start": 1622382587045,
    "execution_millis": 15,
    "deepnote_cell_type": "code"
   },
   "outputs": [
    {
     "output_type": "execute_result",
     "execution_count": 43,
     "data": {
      "application/vnd.deepnote.dataframe.v2+json": {
       "row_count": 5,
       "column_count": 11,
       "columns": [
        {
         "name": "total_bill",
         "dtype": "float64",
         "stats": {
          "unique_count": 5,
          "nan_count": 0,
          "min": "10.29",
          "max": "30.14",
          "histogram": [
           {
            "bin_start": 10.29,
            "bin_end": 12.274999999999999,
            "count": 2
           },
           {
            "bin_start": 12.274999999999999,
            "bin_end": 14.26,
            "count": 0
           },
           {
            "bin_start": 14.26,
            "bin_end": 16.244999999999997,
            "count": 0
           },
           {
            "bin_start": 16.244999999999997,
            "bin_end": 18.23,
            "count": 0
           },
           {
            "bin_start": 18.23,
            "bin_end": 20.215,
            "count": 0
           },
           {
            "bin_start": 20.215,
            "bin_end": 22.2,
            "count": 0
           },
           {
            "bin_start": 22.2,
            "bin_end": 24.185000000000002,
            "count": 0
           },
           {
            "bin_start": 24.185000000000002,
            "bin_end": 26.17,
            "count": 1
           },
           {
            "bin_start": 26.17,
            "bin_end": 28.155,
            "count": 0
           },
           {
            "bin_start": 28.155,
            "bin_end": 30.14,
            "count": 2
           }
          ]
         }
        },
        {
         "name": "tip",
         "dtype": "float64",
         "stats": {
          "unique_count": 5,
          "nan_count": 0,
          "min": "2.0",
          "max": "3.09",
          "histogram": [
           {
            "bin_start": 2,
            "bin_end": 2.109,
            "count": 2
           },
           {
            "bin_start": 2.109,
            "bin_end": 2.218,
            "count": 0
           },
           {
            "bin_start": 2.218,
            "bin_end": 2.327,
            "count": 0
           },
           {
            "bin_start": 2.327,
            "bin_end": 2.436,
            "count": 0
           },
           {
            "bin_start": 2.436,
            "bin_end": 2.545,
            "count": 0
           },
           {
            "bin_start": 2.545,
            "bin_end": 2.654,
            "count": 1
           },
           {
            "bin_start": 2.654,
            "bin_end": 2.763,
            "count": 0
           },
           {
            "bin_start": 2.763,
            "bin_end": 2.872,
            "count": 0
           },
           {
            "bin_start": 2.872,
            "bin_end": 2.981,
            "count": 0
           },
           {
            "bin_start": 2.981,
            "bin_end": 3.09,
            "count": 2
           }
          ]
         }
        },
        {
         "name": "sex",
         "dtype": "object",
         "stats": {
          "unique_count": 2,
          "nan_count": 0,
          "categories": [
           {
            "name": "Male",
            "count": 3
           },
           {
            "name": "Female",
            "count": 2
           }
          ]
         }
        },
        {
         "name": "smoker",
         "dtype": "object",
         "stats": {
          "unique_count": 2,
          "nan_count": 0,
          "categories": [
           {
            "name": "Yes",
            "count": 4
           },
           {
            "name": "No",
            "count": 1
           }
          ]
         }
        },
        {
         "name": "day",
         "dtype": "object",
         "stats": {
          "unique_count": 4,
          "nan_count": 0,
          "categories": [
           {
            "name": "Sat",
            "count": 2
           },
           {
            "name": "Sun",
            "count": 1
           },
           {
            "name": "2 others",
            "count": 2
           }
          ]
         }
        },
        {
         "name": "time",
         "dtype": "object",
         "stats": {
          "unique_count": 2,
          "nan_count": 0,
          "categories": [
           {
            "name": "Dinner",
            "count": 4
           },
           {
            "name": "Lunch",
            "count": 1
           }
          ]
         }
        },
        {
         "name": "size",
         "dtype": "int64",
         "stats": {
          "unique_count": 2,
          "nan_count": 0,
          "min": "2",
          "max": "4",
          "histogram": [
           {
            "bin_start": 2,
            "bin_end": 2.2,
            "count": 4
           },
           {
            "bin_start": 2.2,
            "bin_end": 2.4,
            "count": 0
           },
           {
            "bin_start": 2.4,
            "bin_end": 2.6,
            "count": 0
           },
           {
            "bin_start": 2.6,
            "bin_end": 2.8,
            "count": 0
           },
           {
            "bin_start": 2.8,
            "bin_end": 3,
            "count": 0
           },
           {
            "bin_start": 3,
            "bin_end": 3.2,
            "count": 0
           },
           {
            "bin_start": 3.2,
            "bin_end": 3.4000000000000004,
            "count": 0
           },
           {
            "bin_start": 3.4000000000000004,
            "bin_end": 3.6,
            "count": 0
           },
           {
            "bin_start": 3.6,
            "bin_end": 3.8,
            "count": 0
           },
           {
            "bin_start": 3.8,
            "bin_end": 4,
            "count": 1
           }
          ]
         }
        },
        {
         "name": "price_per_person",
         "dtype": "float64",
         "stats": {
          "unique_count": 5,
          "nan_count": 0,
          "min": "5.14",
          "max": "14.48",
          "histogram": [
           {
            "bin_start": 5.14,
            "bin_end": 6.074,
            "count": 2
           },
           {
            "bin_start": 6.074,
            "bin_end": 7.007999999999999,
            "count": 0
           },
           {
            "bin_start": 7.007999999999999,
            "bin_end": 7.941999999999999,
            "count": 1
           },
           {
            "bin_start": 7.941999999999999,
            "bin_end": 8.876,
            "count": 0
           },
           {
            "bin_start": 8.876,
            "bin_end": 9.809999999999999,
            "count": 0
           },
           {
            "bin_start": 9.809999999999999,
            "bin_end": 10.744,
            "count": 0
           },
           {
            "bin_start": 10.744,
            "bin_end": 11.677999999999999,
            "count": 0
           },
           {
            "bin_start": 11.677999999999999,
            "bin_end": 12.611999999999998,
            "count": 1
           },
           {
            "bin_start": 12.611999999999998,
            "bin_end": 13.546,
            "count": 0
           },
           {
            "bin_start": 13.546,
            "bin_end": 14.48,
            "count": 1
           }
          ]
         }
        },
        {
         "name": "Payer Name",
         "dtype": "object",
         "stats": {
          "unique_count": 5,
          "nan_count": 0,
          "categories": [
           {
            "name": "Jessica Ibarra",
            "count": 1
           },
           {
            "name": "Daniel Mason",
            "count": 1
           },
           {
            "name": "3 others",
            "count": 3
           }
          ]
         }
        },
        {
         "name": "CC Number",
         "dtype": "int64",
         "stats": {
          "unique_count": 5,
          "nan_count": 0,
          "min": "502097403252",
          "max": "4268942915626180",
          "histogram": [
           {
            "bin_start": 502097403252,
            "bin_end": 427346179225544.8,
            "count": 3
           },
           {
            "bin_start": 427346179225544.8,
            "bin_end": 854190261047837.6,
            "count": 0
           },
           {
            "bin_start": 854190261047837.6,
            "bin_end": 1281034342870130.5,
            "count": 0
           },
           {
            "bin_start": 1281034342870130.5,
            "bin_end": 1707878424692423.2,
            "count": 0
           },
           {
            "bin_start": 1707878424692423.2,
            "bin_end": 2134722506514716,
            "count": 0
           },
           {
            "bin_start": 2134722506514716,
            "bin_end": 2561566588337009,
            "count": 0
           },
           {
            "bin_start": 2561566588337009,
            "bin_end": 2988410670159301.5,
            "count": 0
           },
           {
            "bin_start": 2988410670159301.5,
            "bin_end": 3415254751981594.5,
            "count": 0
           },
           {
            "bin_start": 3415254751981594.5,
            "bin_end": 3842098833803887.5,
            "count": 1
           },
           {
            "bin_start": 3842098833803887.5,
            "bin_end": 4268942915626180,
            "count": 1
           }
          ]
         }
        },
        {
         "name": "Payment ID",
         "dtype": "object",
         "stats": {
          "unique_count": 5,
          "nan_count": 0,
          "categories": [
           {
            "name": "Sun4474",
            "count": 1
           },
           {
            "name": "Fri4175",
            "count": 1
           },
           {
            "name": "3 others",
            "count": 3
           }
          ]
         }
        },
        {
         "name": "_deepnote_index_column",
         "dtype": "int64"
        }
       ],
       "rows_top": [
        {
         "total_bill": 10.29,
         "tip": 2.6,
         "sex": "Female",
         "smoker": "No",
         "day": "Sun",
         "time": "Dinner",
         "size": 2,
         "price_per_person": 5.14,
         "Payer Name": "Jessica Ibarra",
         "CC Number": 4999759463713,
         "Payment ID": "Sun4474",
         "_deepnote_index_column": 51
        },
        {
         "total_bill": 28.97,
         "tip": 3,
         "sex": "Male",
         "smoker": "Yes",
         "day": "Fri",
         "time": "Dinner",
         "size": 2,
         "price_per_person": 14.48,
         "Payer Name": "Daniel Mason",
         "CC Number": 3597456900644078,
         "Payment ID": "Fri4175",
         "_deepnote_index_column": 90
        },
        {
         "total_bill": 24.27,
         "tip": 2.03,
         "sex": "Male",
         "smoker": "Yes",
         "day": "Sat",
         "time": "Dinner",
         "size": 2,
         "price_per_person": 12.14,
         "Payer Name": "Jason Carter",
         "CC Number": 4268942915626180,
         "Payment ID": "Sat6048",
         "_deepnote_index_column": 208
        },
        {
         "total_bill": 30.14,
         "tip": 3.09,
         "sex": "Female",
         "smoker": "Yes",
         "day": "Sat",
         "time": "Dinner",
         "size": 4,
         "price_per_person": 7.54,
         "Payer Name": "Shelby House",
         "CC Number": 502097403252,
         "Payment ID": "Sat8863",
         "_deepnote_index_column": 219
        },
        {
         "total_bill": 10.34,
         "tip": 2,
         "sex": "Male",
         "smoker": "Yes",
         "day": "Thur",
         "time": "Lunch",
         "size": 2,
         "price_per_person": 5.17,
         "Payer Name": "Eric Martin",
         "CC Number": 30442491190342,
         "Payment ID": "Thur9862",
         "_deepnote_index_column": 196
        }
       ],
       "rows_bottom": null
      },
      "text/plain": "     total_bill   tip     sex smoker   day    time  size  price_per_person  \\\n51        10.29  2.60  Female     No   Sun  Dinner     2              5.14   \n90        28.97  3.00    Male    Yes   Fri  Dinner     2             14.48   \n208       24.27  2.03    Male    Yes   Sat  Dinner     2             12.14   \n219       30.14  3.09  Female    Yes   Sat  Dinner     4              7.54   \n196       10.34  2.00    Male    Yes  Thur   Lunch     2              5.17   \n\n         Payer Name         CC Number Payment ID  \n51   Jessica Ibarra     4999759463713    Sun4474  \n90     Daniel Mason  3597456900644078    Fri4175  \n208    Jason Carter  4268942915626180    Sat6048  \n219    Shelby House      502097403252    Sat8863  \n196     Eric Martin    30442491190342   Thur9862  ",
      "text/html": "<div>\n<style scoped>\n    .dataframe tbody tr th:only-of-type {\n        vertical-align: middle;\n    }\n\n    .dataframe tbody tr th {\n        vertical-align: top;\n    }\n\n    .dataframe thead th {\n        text-align: right;\n    }\n</style>\n<table border=\"1\" class=\"dataframe\">\n  <thead>\n    <tr style=\"text-align: right;\">\n      <th></th>\n      <th>total_bill</th>\n      <th>tip</th>\n      <th>sex</th>\n      <th>smoker</th>\n      <th>day</th>\n      <th>time</th>\n      <th>size</th>\n      <th>price_per_person</th>\n      <th>Payer Name</th>\n      <th>CC Number</th>\n      <th>Payment ID</th>\n    </tr>\n  </thead>\n  <tbody>\n    <tr>\n      <th>51</th>\n      <td>10.29</td>\n      <td>2.60</td>\n      <td>Female</td>\n      <td>No</td>\n      <td>Sun</td>\n      <td>Dinner</td>\n      <td>2</td>\n      <td>5.14</td>\n      <td>Jessica Ibarra</td>\n      <td>4999759463713</td>\n      <td>Sun4474</td>\n    </tr>\n    <tr>\n      <th>90</th>\n      <td>28.97</td>\n      <td>3.00</td>\n      <td>Male</td>\n      <td>Yes</td>\n      <td>Fri</td>\n      <td>Dinner</td>\n      <td>2</td>\n      <td>14.48</td>\n      <td>Daniel Mason</td>\n      <td>3597456900644078</td>\n      <td>Fri4175</td>\n    </tr>\n    <tr>\n      <th>208</th>\n      <td>24.27</td>\n      <td>2.03</td>\n      <td>Male</td>\n      <td>Yes</td>\n      <td>Sat</td>\n      <td>Dinner</td>\n      <td>2</td>\n      <td>12.14</td>\n      <td>Jason Carter</td>\n      <td>4268942915626180</td>\n      <td>Sat6048</td>\n    </tr>\n    <tr>\n      <th>219</th>\n      <td>30.14</td>\n      <td>3.09</td>\n      <td>Female</td>\n      <td>Yes</td>\n      <td>Sat</td>\n      <td>Dinner</td>\n      <td>4</td>\n      <td>7.54</td>\n      <td>Shelby House</td>\n      <td>502097403252</td>\n      <td>Sat8863</td>\n    </tr>\n    <tr>\n      <th>196</th>\n      <td>10.34</td>\n      <td>2.00</td>\n      <td>Male</td>\n      <td>Yes</td>\n      <td>Thur</td>\n      <td>Lunch</td>\n      <td>2</td>\n      <td>5.17</td>\n      <td>Eric Martin</td>\n      <td>30442491190342</td>\n      <td>Thur9862</td>\n    </tr>\n  </tbody>\n</table>\n</div>"
     },
     "metadata": {}
    }
   ],
   "execution_count": 43
  },
  {
   "cell_type": "code",
   "source": "df.sample(frac=0.1)     #fractional part of total rows",
   "metadata": {
    "tags": [],
    "cell_id": "00042-d26ed9e3-acf2-45a6-a26e-91dfd2a76051",
    "deepnote_to_be_reexecuted": false,
    "source_hash": "e298389f",
    "execution_start": 1622382661554,
    "execution_millis": 84,
    "deepnote_cell_type": "code"
   },
   "outputs": [
    {
     "output_type": "execute_result",
     "execution_count": 44,
     "data": {
      "application/vnd.deepnote.dataframe.v2+json": {
       "row_count": 24,
       "column_count": 11,
       "columns": [
        {
         "name": "total_bill",
         "dtype": "float64",
         "stats": {
          "unique_count": 24,
          "nan_count": 0,
          "min": "8.35",
          "max": "45.35",
          "histogram": [
           {
            "bin_start": 8.35,
            "bin_end": 12.05,
            "count": 3
           },
           {
            "bin_start": 12.05,
            "bin_end": 15.75,
            "count": 9
           },
           {
            "bin_start": 15.75,
            "bin_end": 19.450000000000003,
            "count": 1
           },
           {
            "bin_start": 19.450000000000003,
            "bin_end": 23.15,
            "count": 5
           },
           {
            "bin_start": 23.15,
            "bin_end": 26.85,
            "count": 2
           },
           {
            "bin_start": 26.85,
            "bin_end": 30.550000000000004,
            "count": 2
           },
           {
            "bin_start": 30.550000000000004,
            "bin_end": 34.25,
            "count": 1
           },
           {
            "bin_start": 34.25,
            "bin_end": 37.95,
            "count": 0
           },
           {
            "bin_start": 37.95,
            "bin_end": 41.650000000000006,
            "count": 0
           },
           {
            "bin_start": 41.650000000000006,
            "bin_end": 45.35,
            "count": 1
           }
          ]
         }
        },
        {
         "name": "tip",
         "dtype": "float64",
         "stats": {
          "unique_count": 15,
          "nan_count": 0,
          "min": "1.1",
          "max": "5.14",
          "histogram": [
           {
            "bin_start": 1.1,
            "bin_end": 1.504,
            "count": 4
           },
           {
            "bin_start": 1.504,
            "bin_end": 1.908,
            "count": 0
           },
           {
            "bin_start": 1.908,
            "bin_end": 2.312,
            "count": 7
           },
           {
            "bin_start": 2.312,
            "bin_end": 2.7159999999999997,
            "count": 1
           },
           {
            "bin_start": 2.7159999999999997,
            "bin_end": 3.1199999999999997,
            "count": 2
           },
           {
            "bin_start": 3.1199999999999997,
            "bin_end": 3.5239999999999996,
            "count": 5
           },
           {
            "bin_start": 3.5239999999999996,
            "bin_end": 3.9279999999999995,
            "count": 0
           },
           {
            "bin_start": 3.9279999999999995,
            "bin_end": 4.331999999999999,
            "count": 3
           },
           {
            "bin_start": 4.331999999999999,
            "bin_end": 4.735999999999999,
            "count": 0
           },
           {
            "bin_start": 4.735999999999999,
            "bin_end": 5.14,
            "count": 2
           }
          ]
         }
        },
        {
         "name": "sex",
         "dtype": "object",
         "stats": {
          "unique_count": 2,
          "nan_count": 0,
          "categories": [
           {
            "name": "Male",
            "count": 17
           },
           {
            "name": "Female",
            "count": 7
           }
          ]
         }
        },
        {
         "name": "smoker",
         "dtype": "object",
         "stats": {
          "unique_count": 2,
          "nan_count": 0,
          "categories": [
           {
            "name": "No",
            "count": 13
           },
           {
            "name": "Yes",
            "count": 11
           }
          ]
         }
        },
        {
         "name": "day",
         "dtype": "object",
         "stats": {
          "unique_count": 4,
          "nan_count": 0,
          "categories": [
           {
            "name": "Sun",
            "count": 11
           },
           {
            "name": "Thur",
            "count": 6
           },
           {
            "name": "2 others",
            "count": 7
           }
          ]
         }
        },
        {
         "name": "time",
         "dtype": "object",
         "stats": {
          "unique_count": 2,
          "nan_count": 0,
          "categories": [
           {
            "name": "Dinner",
            "count": 17
           },
           {
            "name": "Lunch",
            "count": 7
           }
          ]
         }
        },
        {
         "name": "size",
         "dtype": "int64",
         "stats": {
          "unique_count": 4,
          "nan_count": 0,
          "min": "2",
          "max": "5",
          "histogram": [
           {
            "bin_start": 2,
            "bin_end": 2.3,
            "count": 16
           },
           {
            "bin_start": 2.3,
            "bin_end": 2.6,
            "count": 0
           },
           {
            "bin_start": 2.6,
            "bin_end": 2.9,
            "count": 0
           },
           {
            "bin_start": 2.9,
            "bin_end": 3.2,
            "count": 4
           },
           {
            "bin_start": 3.2,
            "bin_end": 3.5,
            "count": 0
           },
           {
            "bin_start": 3.5,
            "bin_end": 3.8,
            "count": 0
           },
           {
            "bin_start": 3.8,
            "bin_end": 4.1,
            "count": 3
           },
           {
            "bin_start": 4.1,
            "bin_end": 4.4,
            "count": 0
           },
           {
            "bin_start": 4.4,
            "bin_end": 4.699999999999999,
            "count": 0
           },
           {
            "bin_start": 4.699999999999999,
            "bin_end": 5,
            "count": 1
           }
          ]
         }
        },
        {
         "name": "price_per_person",
         "dtype": "float64",
         "stats": {
          "unique_count": 24,
          "nan_count": 0,
          "min": "4.18",
          "max": "16.45",
          "histogram": [
           {
            "bin_start": 4.18,
            "bin_end": 5.407,
            "count": 4
           },
           {
            "bin_start": 5.407,
            "bin_end": 6.6339999999999995,
            "count": 5
           },
           {
            "bin_start": 6.6339999999999995,
            "bin_end": 7.860999999999999,
            "count": 9
           },
           {
            "bin_start": 7.860999999999999,
            "bin_end": 9.088,
            "count": 1
           },
           {
            "bin_start": 9.088,
            "bin_end": 10.315,
            "count": 1
           },
           {
            "bin_start": 10.315,
            "bin_end": 11.541999999999998,
            "count": 1
           },
           {
            "bin_start": 11.541999999999998,
            "bin_end": 12.768999999999998,
            "count": 1
           },
           {
            "bin_start": 12.768999999999998,
            "bin_end": 13.995999999999999,
            "count": 0
           },
           {
            "bin_start": 13.995999999999999,
            "bin_end": 15.222999999999999,
            "count": 1
           },
           {
            "bin_start": 15.222999999999999,
            "bin_end": 16.45,
            "count": 1
           }
          ]
         }
        },
        {
         "name": "Payer Name",
         "dtype": "object",
         "stats": {
          "unique_count": 24,
          "nan_count": 0,
          "categories": [
           {
            "name": "Jose Parsons",
            "count": 1
           },
           {
            "name": "Madison Wilson",
            "count": 1
           },
           {
            "name": "22 others",
            "count": 22
           }
          ]
         }
        },
        {
         "name": "CC Number",
         "dtype": "int64",
         "stats": {
          "unique_count": 24,
          "nan_count": 0,
          "min": "580116092652",
          "max": "6547218923471275",
          "histogram": [
           {
            "bin_start": 580116092652,
            "bin_end": 655243996830514.2,
            "count": 10
           },
           {
            "bin_start": 655243996830514.2,
            "bin_end": 1309907877568376.5,
            "count": 0
           },
           {
            "bin_start": 1309907877568376.5,
            "bin_end": 1964571758306238.8,
            "count": 0
           },
           {
            "bin_start": 1964571758306238.8,
            "bin_end": 2619235639044101,
            "count": 1
           },
           {
            "bin_start": 2619235639044101,
            "bin_end": 3273899519781963,
            "count": 0
           },
           {
            "bin_start": 3273899519781963,
            "bin_end": 3928563400519825.5,
            "count": 4
           },
           {
            "bin_start": 3928563400519825.5,
            "bin_end": 4583227281257688,
            "count": 3
           },
           {
            "bin_start": 4583227281257688,
            "bin_end": 5237891161995550,
            "count": 2
           },
           {
            "bin_start": 5237891161995550,
            "bin_end": 5892555042733412,
            "count": 1
           },
           {
            "bin_start": 5892555042733412,
            "bin_end": 6547218923471275,
            "count": 3
           }
          ]
         }
        },
        {
         "name": "Payment ID",
         "dtype": "object",
         "stats": {
          "unique_count": 24,
          "nan_count": 0,
          "categories": [
           {
            "name": "Sun2337",
            "count": 1
           },
           {
            "name": "Sun9176",
            "count": 1
           },
           {
            "name": "22 others",
            "count": 22
           }
          ]
         }
        },
        {
         "name": "_deepnote_index_column",
         "dtype": "int64"
        }
       ],
       "rows_top": [
        {
         "total_bill": 45.35,
         "tip": 3.5,
         "sex": "Male",
         "smoker": "Yes",
         "day": "Sun",
         "time": "Dinner",
         "size": 3,
         "price_per_person": 15.12,
         "Payer Name": "Jose Parsons",
         "CC Number": 4112207559459910,
         "Payment ID": "Sun2337",
         "_deepnote_index_column": 182
        },
        {
         "total_bill": 29.85,
         "tip": 5.14,
         "sex": "Female",
         "smoker": "No",
         "day": "Sun",
         "time": "Dinner",
         "size": 5,
         "price_per_person": 5.97,
         "Payer Name": "Madison Wilson",
         "CC Number": 4210875236164664,
         "Payment ID": "Sun9176",
         "_deepnote_index_column": 155
        },
        {
         "total_bill": 22.49,
         "tip": 3.5,
         "sex": "Male",
         "smoker": "No",
         "day": "Fri",
         "time": "Dinner",
         "size": 2,
         "price_per_person": 11.24,
         "Payer Name": "Earl Horn",
         "CC Number": 6011849326227398,
         "Payment ID": "Fri5700",
         "_deepnote_index_column": 91
        },
        {
         "total_bill": 19.08,
         "tip": 1.5,
         "sex": "Male",
         "smoker": "No",
         "day": "Thur",
         "time": "Lunch",
         "size": 2,
         "price_per_person": 9.54,
         "Payer Name": "Seth Sexton",
         "CC Number": 213113680829581,
         "Payment ID": "Thur1446",
         "_deepnote_index_column": 130
        },
        {
         "total_bill": 29.93,
         "tip": 5.07,
         "sex": "Male",
         "smoker": "No",
         "day": "Sun",
         "time": "Dinner",
         "size": 4,
         "price_per_person": 7.48,
         "Payer Name": "Shawn Blake",
         "CC Number": 4689079711213722,
         "Payment ID": "Sun22",
         "_deepnote_index_column": 116
        },
        {
         "total_bill": 15.04,
         "tip": 1.96,
         "sex": "Male",
         "smoker": "No",
         "day": "Sun",
         "time": "Dinner",
         "size": 2,
         "price_per_person": 7.52,
         "Payer Name": "Joseph Mcdonald",
         "CC Number": 3522866365840377,
         "Payment ID": "Sun6820",
         "_deepnote_index_column": 8
        },
        {
         "total_bill": 13.37,
         "tip": 2,
         "sex": "Male",
         "smoker": "No",
         "day": "Sat",
         "time": "Dinner",
         "size": 2,
         "price_per_person": 6.68,
         "Payer Name": "Kyle Avery",
         "CC Number": 6531339539615499,
         "Payment ID": "Sat6651",
         "_deepnote_index_column": 26
        },
        {
         "total_bill": 20.9,
         "tip": 3.5,
         "sex": "Female",
         "smoker": "Yes",
         "day": "Sun",
         "time": "Dinner",
         "size": 3,
         "price_per_person": 6.97,
         "Payer Name": "Heidi Atkinson",
         "CC Number": 4422858423131187,
         "Payment ID": "Sun4254",
         "_deepnote_index_column": 186
        },
        {
         "total_bill": 12.16,
         "tip": 2.2,
         "sex": "Male",
         "smoker": "Yes",
         "day": "Fri",
         "time": "Lunch",
         "size": 2,
         "price_per_person": 6.08,
         "Payer Name": "Ricky Johnson",
         "CC Number": 213109508670736,
         "Payment ID": "Fri4607",
         "_deepnote_index_column": 220
        },
        {
         "total_bill": 20.69,
         "tip": 2.45,
         "sex": "Female",
         "smoker": "No",
         "day": "Sat",
         "time": "Dinner",
         "size": 4,
         "price_per_person": 5.17,
         "Payer Name": "Amber Francis",
         "CC Number": 377742985258914,
         "Payment ID": "Sat6649",
         "_deepnote_index_column": 33
        },
        {
         "total_bill": 20.53,
         "tip": 4,
         "sex": "Male",
         "smoker": "Yes",
         "day": "Thur",
         "time": "Lunch",
         "size": 4,
         "price_per_person": 5.13,
         "Payer Name": "Scott Kim",
         "CC Number": 3570611756827620,
         "Payment ID": "Thur2160",
         "_deepnote_index_column": 204
        },
        {
         "total_bill": 8.35,
         "tip": 1.5,
         "sex": "Female",
         "smoker": "No",
         "day": "Thur",
         "time": "Lunch",
         "size": 2,
         "price_per_person": 4.18,
         "Payer Name": "Amy Young",
         "CC Number": 4285454264477,
         "Payment ID": "Thur9331",
         "_deepnote_index_column": 145
        },
        {
         "total_bill": 13.51,
         "tip": 2,
         "sex": "Male",
         "smoker": "Yes",
         "day": "Thur",
         "time": "Lunch",
         "size": 2,
         "price_per_person": 6.76,
         "Payer Name": "Joseph Murphy MD",
         "CC Number": 6547218923471275,
         "Payment ID": "Thur2428",
         "_deepnote_index_column": 199
        },
        {
         "total_bill": 15.48,
         "tip": 2.02,
         "sex": "Male",
         "smoker": "Yes",
         "day": "Thur",
         "time": "Lunch",
         "size": 2,
         "price_per_person": 7.74,
         "Payer Name": "Raymond Sullivan",
         "CC Number": 180068856139315,
         "Payment ID": "Thur606",
         "_deepnote_index_column": 193
        },
        {
         "total_bill": 14.78,
         "tip": 3.23,
         "sex": "Male",
         "smoker": "No",
         "day": "Sun",
         "time": "Dinner",
         "size": 2,
         "price_per_person": 7.39,
         "Payer Name": "Jerome Abbott",
         "CC Number": 3532124519049786,
         "Payment ID": "Sun3775",
         "_deepnote_index_column": 9
        },
        {
         "total_bill": 25.71,
         "tip": 4,
         "sex": "Female",
         "smoker": "No",
         "day": "Sun",
         "time": "Dinner",
         "size": 3,
         "price_per_person": 8.57,
         "Payer Name": "Katie Smith",
         "CC Number": 5400160161311292,
         "Payment ID": "Sun6492",
         "_deepnote_index_column": 114
        },
        {
         "total_bill": 32.9,
         "tip": 3.11,
         "sex": "Male",
         "smoker": "Yes",
         "day": "Sun",
         "time": "Dinner",
         "size": 2,
         "price_per_person": 16.45,
         "Payer Name": "Nathan Reynolds",
         "CC Number": 370307040837149,
         "Payment ID": "Sun5109",
         "_deepnote_index_column": 175
        },
        {
         "total_bill": 23.68,
         "tip": 3.31,
         "sex": "Male",
         "smoker": "No",
         "day": "Sun",
         "time": "Dinner",
         "size": 2,
         "price_per_person": 11.84,
         "Payer Name": "Nathaniel Harris",
         "CC Number": 4676137647685994,
         "Payment ID": "Sun5260",
         "_deepnote_index_column": 3
        },
        {
         "total_bill": 12.9,
         "tip": 1.1,
         "sex": "Female",
         "smoker": "Yes",
         "day": "Sat",
         "time": "Dinner",
         "size": 2,
         "price_per_person": 6.45,
         "Payer Name": "Jessica Owen",
         "CC Number": 4726904879471,
         "Payment ID": "Sat6983",
         "_deepnote_index_column": 215
        },
        {
         "total_bill": 23.1,
         "tip": 4,
         "sex": "Male",
         "smoker": "Yes",
         "day": "Sun",
         "time": "Dinner",
         "size": 3,
         "price_per_person": 7.7,
         "Payer Name": "Richard Stevens",
         "CC Number": 3560193117506187,
         "Payment ID": "Sun1821",
         "_deepnote_index_column": 189
        },
        {
         "total_bill": 8.77,
         "tip": 2,
         "sex": "Male",
         "smoker": "No",
         "day": "Sun",
         "time": "Dinner",
         "size": 2,
         "price_per_person": 4.38,
         "Payer Name": "Kristopher Johnson",
         "CC Number": 2223727524230344,
         "Payment ID": "Sun5985",
         "_deepnote_index_column": 6
        },
        {
         "total_bill": 14,
         "tip": 3,
         "sex": "Male",
         "smoker": "No",
         "day": "Sat",
         "time": "Dinner",
         "size": 2,
         "price_per_person": 7,
         "Payer Name": "James Sanchez",
         "CC Number": 345243048851323,
         "Payment ID": "Sat6801",
         "_deepnote_index_column": 110
        },
        {
         "total_bill": 12.03,
         "tip": 1.5,
         "sex": "Male",
         "smoker": "Yes",
         "day": "Fri",
         "time": "Dinner",
         "size": 2,
         "price_per_person": 6.02,
         "Payer Name": "Eric Herrera",
         "CC Number": 580116092652,
         "Payment ID": "Fri9268",
         "_deepnote_index_column": 97
        },
        {
         "total_bill": 13,
         "tip": 2,
         "sex": "Female",
         "smoker": "Yes",
         "day": "Thur",
         "time": "Lunch",
         "size": 2,
         "price_per_person": 6.5,
         "Payer Name": "Ashley Shaw",
         "CC Number": 180088043008041,
         "Payment ID": "Thur1301",
         "_deepnote_index_column": 202
        }
       ],
       "rows_bottom": null
      },
      "text/plain": "     total_bill   tip     sex smoker   day    time  size  price_per_person  \\\n182       45.35  3.50    Male    Yes   Sun  Dinner     3             15.12   \n155       29.85  5.14  Female     No   Sun  Dinner     5              5.97   \n91        22.49  3.50    Male     No   Fri  Dinner     2             11.24   \n130       19.08  1.50    Male     No  Thur   Lunch     2              9.54   \n116       29.93  5.07    Male     No   Sun  Dinner     4              7.48   \n8         15.04  1.96    Male     No   Sun  Dinner     2              7.52   \n26        13.37  2.00    Male     No   Sat  Dinner     2              6.68   \n186       20.90  3.50  Female    Yes   Sun  Dinner     3              6.97   \n220       12.16  2.20    Male    Yes   Fri   Lunch     2              6.08   \n33        20.69  2.45  Female     No   Sat  Dinner     4              5.17   \n204       20.53  4.00    Male    Yes  Thur   Lunch     4              5.13   \n145        8.35  1.50  Female     No  Thur   Lunch     2              4.18   \n199       13.51  2.00    Male    Yes  Thur   Lunch     2              6.76   \n193       15.48  2.02    Male    Yes  Thur   Lunch     2              7.74   \n9         14.78  3.23    Male     No   Sun  Dinner     2              7.39   \n114       25.71  4.00  Female     No   Sun  Dinner     3              8.57   \n175       32.90  3.11    Male    Yes   Sun  Dinner     2             16.45   \n3         23.68  3.31    Male     No   Sun  Dinner     2             11.84   \n215       12.90  1.10  Female    Yes   Sat  Dinner     2              6.45   \n189       23.10  4.00    Male    Yes   Sun  Dinner     3              7.70   \n6          8.77  2.00    Male     No   Sun  Dinner     2              4.38   \n110       14.00  3.00    Male     No   Sat  Dinner     2              7.00   \n97        12.03  1.50    Male    Yes   Fri  Dinner     2              6.02   \n202       13.00  2.00  Female    Yes  Thur   Lunch     2              6.50   \n\n             Payer Name         CC Number Payment ID  \n182        Jose Parsons  4112207559459910    Sun2337  \n155      Madison Wilson  4210875236164664    Sun9176  \n91            Earl Horn  6011849326227398    Fri5700  \n130         Seth Sexton   213113680829581   Thur1446  \n116         Shawn Blake  4689079711213722      Sun22  \n8       Joseph Mcdonald  3522866365840377    Sun6820  \n26           Kyle Avery  6531339539615499    Sat6651  \n186      Heidi Atkinson  4422858423131187    Sun4254  \n220       Ricky Johnson   213109508670736    Fri4607  \n33        Amber Francis   377742985258914    Sat6649  \n204           Scott Kim  3570611756827620   Thur2160  \n145           Amy Young     4285454264477   Thur9331  \n199    Joseph Murphy MD  6547218923471275   Thur2428  \n193    Raymond Sullivan   180068856139315    Thur606  \n9         Jerome Abbott  3532124519049786    Sun3775  \n114         Katie Smith  5400160161311292    Sun6492  \n175     Nathan Reynolds   370307040837149    Sun5109  \n3      Nathaniel Harris  4676137647685994    Sun5260  \n215        Jessica Owen     4726904879471    Sat6983  \n189     Richard Stevens  3560193117506187    Sun1821  \n6    Kristopher Johnson  2223727524230344    Sun5985  \n110       James Sanchez   345243048851323    Sat6801  \n97         Eric Herrera      580116092652    Fri9268  \n202         Ashley Shaw   180088043008041   Thur1301  ",
      "text/html": "<div>\n<style scoped>\n    .dataframe tbody tr th:only-of-type {\n        vertical-align: middle;\n    }\n\n    .dataframe tbody tr th {\n        vertical-align: top;\n    }\n\n    .dataframe thead th {\n        text-align: right;\n    }\n</style>\n<table border=\"1\" class=\"dataframe\">\n  <thead>\n    <tr style=\"text-align: right;\">\n      <th></th>\n      <th>total_bill</th>\n      <th>tip</th>\n      <th>sex</th>\n      <th>smoker</th>\n      <th>day</th>\n      <th>time</th>\n      <th>size</th>\n      <th>price_per_person</th>\n      <th>Payer Name</th>\n      <th>CC Number</th>\n      <th>Payment ID</th>\n    </tr>\n  </thead>\n  <tbody>\n    <tr>\n      <th>182</th>\n      <td>45.35</td>\n      <td>3.50</td>\n      <td>Male</td>\n      <td>Yes</td>\n      <td>Sun</td>\n      <td>Dinner</td>\n      <td>3</td>\n      <td>15.12</td>\n      <td>Jose Parsons</td>\n      <td>4112207559459910</td>\n      <td>Sun2337</td>\n    </tr>\n    <tr>\n      <th>155</th>\n      <td>29.85</td>\n      <td>5.14</td>\n      <td>Female</td>\n      <td>No</td>\n      <td>Sun</td>\n      <td>Dinner</td>\n      <td>5</td>\n      <td>5.97</td>\n      <td>Madison Wilson</td>\n      <td>4210875236164664</td>\n      <td>Sun9176</td>\n    </tr>\n    <tr>\n      <th>91</th>\n      <td>22.49</td>\n      <td>3.50</td>\n      <td>Male</td>\n      <td>No</td>\n      <td>Fri</td>\n      <td>Dinner</td>\n      <td>2</td>\n      <td>11.24</td>\n      <td>Earl Horn</td>\n      <td>6011849326227398</td>\n      <td>Fri5700</td>\n    </tr>\n    <tr>\n      <th>130</th>\n      <td>19.08</td>\n      <td>1.50</td>\n      <td>Male</td>\n      <td>No</td>\n      <td>Thur</td>\n      <td>Lunch</td>\n      <td>2</td>\n      <td>9.54</td>\n      <td>Seth Sexton</td>\n      <td>213113680829581</td>\n      <td>Thur1446</td>\n    </tr>\n    <tr>\n      <th>116</th>\n      <td>29.93</td>\n      <td>5.07</td>\n      <td>Male</td>\n      <td>No</td>\n      <td>Sun</td>\n      <td>Dinner</td>\n      <td>4</td>\n      <td>7.48</td>\n      <td>Shawn Blake</td>\n      <td>4689079711213722</td>\n      <td>Sun22</td>\n    </tr>\n    <tr>\n      <th>8</th>\n      <td>15.04</td>\n      <td>1.96</td>\n      <td>Male</td>\n      <td>No</td>\n      <td>Sun</td>\n      <td>Dinner</td>\n      <td>2</td>\n      <td>7.52</td>\n      <td>Joseph Mcdonald</td>\n      <td>3522866365840377</td>\n      <td>Sun6820</td>\n    </tr>\n    <tr>\n      <th>26</th>\n      <td>13.37</td>\n      <td>2.00</td>\n      <td>Male</td>\n      <td>No</td>\n      <td>Sat</td>\n      <td>Dinner</td>\n      <td>2</td>\n      <td>6.68</td>\n      <td>Kyle Avery</td>\n      <td>6531339539615499</td>\n      <td>Sat6651</td>\n    </tr>\n    <tr>\n      <th>186</th>\n      <td>20.90</td>\n      <td>3.50</td>\n      <td>Female</td>\n      <td>Yes</td>\n      <td>Sun</td>\n      <td>Dinner</td>\n      <td>3</td>\n      <td>6.97</td>\n      <td>Heidi Atkinson</td>\n      <td>4422858423131187</td>\n      <td>Sun4254</td>\n    </tr>\n    <tr>\n      <th>220</th>\n      <td>12.16</td>\n      <td>2.20</td>\n      <td>Male</td>\n      <td>Yes</td>\n      <td>Fri</td>\n      <td>Lunch</td>\n      <td>2</td>\n      <td>6.08</td>\n      <td>Ricky Johnson</td>\n      <td>213109508670736</td>\n      <td>Fri4607</td>\n    </tr>\n    <tr>\n      <th>33</th>\n      <td>20.69</td>\n      <td>2.45</td>\n      <td>Female</td>\n      <td>No</td>\n      <td>Sat</td>\n      <td>Dinner</td>\n      <td>4</td>\n      <td>5.17</td>\n      <td>Amber Francis</td>\n      <td>377742985258914</td>\n      <td>Sat6649</td>\n    </tr>\n    <tr>\n      <th>204</th>\n      <td>20.53</td>\n      <td>4.00</td>\n      <td>Male</td>\n      <td>Yes</td>\n      <td>Thur</td>\n      <td>Lunch</td>\n      <td>4</td>\n      <td>5.13</td>\n      <td>Scott Kim</td>\n      <td>3570611756827620</td>\n      <td>Thur2160</td>\n    </tr>\n    <tr>\n      <th>145</th>\n      <td>8.35</td>\n      <td>1.50</td>\n      <td>Female</td>\n      <td>No</td>\n      <td>Thur</td>\n      <td>Lunch</td>\n      <td>2</td>\n      <td>4.18</td>\n      <td>Amy Young</td>\n      <td>4285454264477</td>\n      <td>Thur9331</td>\n    </tr>\n    <tr>\n      <th>199</th>\n      <td>13.51</td>\n      <td>2.00</td>\n      <td>Male</td>\n      <td>Yes</td>\n      <td>Thur</td>\n      <td>Lunch</td>\n      <td>2</td>\n      <td>6.76</td>\n      <td>Joseph Murphy MD</td>\n      <td>6547218923471275</td>\n      <td>Thur2428</td>\n    </tr>\n    <tr>\n      <th>193</th>\n      <td>15.48</td>\n      <td>2.02</td>\n      <td>Male</td>\n      <td>Yes</td>\n      <td>Thur</td>\n      <td>Lunch</td>\n      <td>2</td>\n      <td>7.74</td>\n      <td>Raymond Sullivan</td>\n      <td>180068856139315</td>\n      <td>Thur606</td>\n    </tr>\n    <tr>\n      <th>9</th>\n      <td>14.78</td>\n      <td>3.23</td>\n      <td>Male</td>\n      <td>No</td>\n      <td>Sun</td>\n      <td>Dinner</td>\n      <td>2</td>\n      <td>7.39</td>\n      <td>Jerome Abbott</td>\n      <td>3532124519049786</td>\n      <td>Sun3775</td>\n    </tr>\n    <tr>\n      <th>114</th>\n      <td>25.71</td>\n      <td>4.00</td>\n      <td>Female</td>\n      <td>No</td>\n      <td>Sun</td>\n      <td>Dinner</td>\n      <td>3</td>\n      <td>8.57</td>\n      <td>Katie Smith</td>\n      <td>5400160161311292</td>\n      <td>Sun6492</td>\n    </tr>\n    <tr>\n      <th>175</th>\n      <td>32.90</td>\n      <td>3.11</td>\n      <td>Male</td>\n      <td>Yes</td>\n      <td>Sun</td>\n      <td>Dinner</td>\n      <td>2</td>\n      <td>16.45</td>\n      <td>Nathan Reynolds</td>\n      <td>370307040837149</td>\n      <td>Sun5109</td>\n    </tr>\n    <tr>\n      <th>3</th>\n      <td>23.68</td>\n      <td>3.31</td>\n      <td>Male</td>\n      <td>No</td>\n      <td>Sun</td>\n      <td>Dinner</td>\n      <td>2</td>\n      <td>11.84</td>\n      <td>Nathaniel Harris</td>\n      <td>4676137647685994</td>\n      <td>Sun5260</td>\n    </tr>\n    <tr>\n      <th>215</th>\n      <td>12.90</td>\n      <td>1.10</td>\n      <td>Female</td>\n      <td>Yes</td>\n      <td>Sat</td>\n      <td>Dinner</td>\n      <td>2</td>\n      <td>6.45</td>\n      <td>Jessica Owen</td>\n      <td>4726904879471</td>\n      <td>Sat6983</td>\n    </tr>\n    <tr>\n      <th>189</th>\n      <td>23.10</td>\n      <td>4.00</td>\n      <td>Male</td>\n      <td>Yes</td>\n      <td>Sun</td>\n      <td>Dinner</td>\n      <td>3</td>\n      <td>7.70</td>\n      <td>Richard Stevens</td>\n      <td>3560193117506187</td>\n      <td>Sun1821</td>\n    </tr>\n    <tr>\n      <th>6</th>\n      <td>8.77</td>\n      <td>2.00</td>\n      <td>Male</td>\n      <td>No</td>\n      <td>Sun</td>\n      <td>Dinner</td>\n      <td>2</td>\n      <td>4.38</td>\n      <td>Kristopher Johnson</td>\n      <td>2223727524230344</td>\n      <td>Sun5985</td>\n    </tr>\n    <tr>\n      <th>110</th>\n      <td>14.00</td>\n      <td>3.00</td>\n      <td>Male</td>\n      <td>No</td>\n      <td>Sat</td>\n      <td>Dinner</td>\n      <td>2</td>\n      <td>7.00</td>\n      <td>James Sanchez</td>\n      <td>345243048851323</td>\n      <td>Sat6801</td>\n    </tr>\n    <tr>\n      <th>97</th>\n      <td>12.03</td>\n      <td>1.50</td>\n      <td>Male</td>\n      <td>Yes</td>\n      <td>Fri</td>\n      <td>Dinner</td>\n      <td>2</td>\n      <td>6.02</td>\n      <td>Eric Herrera</td>\n      <td>580116092652</td>\n      <td>Fri9268</td>\n    </tr>\n    <tr>\n      <th>202</th>\n      <td>13.00</td>\n      <td>2.00</td>\n      <td>Female</td>\n      <td>Yes</td>\n      <td>Thur</td>\n      <td>Lunch</td>\n      <td>2</td>\n      <td>6.50</td>\n      <td>Ashley Shaw</td>\n      <td>180088043008041</td>\n      <td>Thur1301</td>\n    </tr>\n  </tbody>\n</table>\n</div>"
     },
     "metadata": {}
    }
   ],
   "execution_count": 44
  },
  {
   "cell_type": "code",
   "source": "",
   "metadata": {
    "tags": [],
    "cell_id": "00043-7c0ff60e-a08b-436e-8371-2e7ab6ab3612",
    "deepnote_cell_type": "code"
   },
   "outputs": [],
   "execution_count": null
  },
  {
   "cell_type": "markdown",
   "source": "<a style='text-decoration:none;line-height:16px;display:flex;color:#5B5B62;padding:10px;justify-content:end;' href='https://deepnote.com?utm_source=created-in-deepnote-cell&projectId=1d2e029d-9969-43e3-9550-c09256e72c8b' target=\"_blank\">\n<img alt='Created in deepnote.com' style='display:inline;max-height:16px;margin:0px;margin-right:7.5px;' src='data:image/svg+xml;base64,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' > </img>\nCreated in <span style='font-weight:600;margin-left:4px;'>Deepnote</span></a>",
   "metadata": {
    "tags": [],
    "created_in_deepnote_cell": true,
    "deepnote_cell_type": "markdown"
   }
  }
 ],
 "nbformat": 4,
 "nbformat_minor": 2,
 "metadata": {
  "orig_nbformat": 2,
  "deepnote": {
   "is_reactive": false
  },
  "deepnote_notebook_id": "4404e436-8493-406f-a670-5b2329790316",
  "deepnote_execution_queue": []
 }
}