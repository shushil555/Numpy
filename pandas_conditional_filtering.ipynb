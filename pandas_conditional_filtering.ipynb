{
 "cells": [
  {
   "cell_type": "code",
   "metadata": {
    "tags": [],
    "cell_id": "00000-7a0329bc-9b16-4c02-8feb-c2be90a5ceb3",
    "deepnote_to_be_reexecuted": false,
    "source_hash": "86676265",
    "execution_start": 1622285026143,
    "execution_millis": 921262,
    "deepnote_cell_type": "code"
   },
   "source": "#conditional filtering",
   "execution_count": 1,
   "outputs": []
  },
  {
   "cell_type": "code",
   "source": "import numpy as np \nimport pandas as pd \n",
   "metadata": {
    "tags": [],
    "cell_id": "00001-99d84f3b-2a65-45a0-89a8-359c0e841844",
    "deepnote_to_be_reexecuted": false,
    "source_hash": "461c0d11",
    "execution_start": 1622285026172,
    "execution_millis": 921259,
    "deepnote_cell_type": "code"
   },
   "outputs": [],
   "execution_count": 2
  },
  {
   "cell_type": "code",
   "source": "df=pd.read_csv('tips.csv')",
   "metadata": {
    "tags": [],
    "cell_id": "00002-7fe2bd67-2980-4bec-86a7-cfeb556c73f4",
    "deepnote_to_be_reexecuted": false,
    "source_hash": "b9db7578",
    "execution_start": 1622285026207,
    "execution_millis": 921286,
    "deepnote_cell_type": "code"
   },
   "outputs": [],
   "execution_count": 3
  },
  {
   "cell_type": "code",
   "source": "df.head()",
   "metadata": {
    "tags": [],
    "cell_id": "00003-1ffd5f61-07bb-49fc-9b95-f142f391ebee",
    "deepnote_to_be_reexecuted": false,
    "source_hash": "c085b6ba",
    "execution_start": 1622285026250,
    "execution_millis": 184,
    "deepnote_cell_type": "code"
   },
   "outputs": [
    {
     "output_type": "execute_result",
     "execution_count": 4,
     "data": {
      "application/vnd.deepnote.dataframe.v2+json": {
       "row_count": 5,
       "column_count": 11,
       "columns": [
        {
         "name": "total_bill",
         "dtype": "float64",
         "stats": {
          "unique_count": 5,
          "nan_count": 0,
          "min": "10.34",
          "max": "24.59",
          "histogram": [
           {
            "bin_start": 10.34,
            "bin_end": 11.765,
            "count": 1
           },
           {
            "bin_start": 11.765,
            "bin_end": 13.19,
            "count": 0
           },
           {
            "bin_start": 13.19,
            "bin_end": 14.615,
            "count": 0
           },
           {
            "bin_start": 14.615,
            "bin_end": 16.04,
            "count": 0
           },
           {
            "bin_start": 16.04,
            "bin_end": 17.465,
            "count": 1
           },
           {
            "bin_start": 17.465,
            "bin_end": 18.89,
            "count": 0
           },
           {
            "bin_start": 18.89,
            "bin_end": 20.314999999999998,
            "count": 0
           },
           {
            "bin_start": 20.314999999999998,
            "bin_end": 21.740000000000002,
            "count": 1
           },
           {
            "bin_start": 21.740000000000002,
            "bin_end": 23.165,
            "count": 0
           },
           {
            "bin_start": 23.165,
            "bin_end": 24.59,
            "count": 2
           }
          ]
         }
        },
        {
         "name": "tip",
         "dtype": "float64",
         "stats": {
          "unique_count": 5,
          "nan_count": 0,
          "min": "1.01",
          "max": "3.61",
          "histogram": [
           {
            "bin_start": 1.01,
            "bin_end": 1.27,
            "count": 1
           },
           {
            "bin_start": 1.27,
            "bin_end": 1.5299999999999998,
            "count": 0
           },
           {
            "bin_start": 1.5299999999999998,
            "bin_end": 1.7899999999999998,
            "count": 1
           },
           {
            "bin_start": 1.7899999999999998,
            "bin_end": 2.05,
            "count": 0
           },
           {
            "bin_start": 2.05,
            "bin_end": 2.3099999999999996,
            "count": 0
           },
           {
            "bin_start": 2.3099999999999996,
            "bin_end": 2.5699999999999994,
            "count": 0
           },
           {
            "bin_start": 2.5699999999999994,
            "bin_end": 2.8299999999999996,
            "count": 0
           },
           {
            "bin_start": 2.8299999999999996,
            "bin_end": 3.09,
            "count": 0
           },
           {
            "bin_start": 3.09,
            "bin_end": 3.3499999999999996,
            "count": 1
           },
           {
            "bin_start": 3.3499999999999996,
            "bin_end": 3.61,
            "count": 2
           }
          ]
         }
        },
        {
         "name": "sex",
         "dtype": "object",
         "stats": {
          "unique_count": 2,
          "nan_count": 0,
          "categories": [
           {
            "name": "Male",
            "count": 3
           },
           {
            "name": "Female",
            "count": 2
           }
          ]
         }
        },
        {
         "name": "smoker",
         "dtype": "object",
         "stats": {
          "unique_count": 1,
          "nan_count": 0,
          "categories": [
           {
            "name": "No",
            "count": 5
           }
          ]
         }
        },
        {
         "name": "day",
         "dtype": "object",
         "stats": {
          "unique_count": 1,
          "nan_count": 0,
          "categories": [
           {
            "name": "Sun",
            "count": 5
           }
          ]
         }
        },
        {
         "name": "time",
         "dtype": "object",
         "stats": {
          "unique_count": 1,
          "nan_count": 0,
          "categories": [
           {
            "name": "Dinner",
            "count": 5
           }
          ]
         }
        },
        {
         "name": "size",
         "dtype": "int64",
         "stats": {
          "unique_count": 3,
          "nan_count": 0,
          "min": "2",
          "max": "4",
          "histogram": [
           {
            "bin_start": 2,
            "bin_end": 2.2,
            "count": 2
           },
           {
            "bin_start": 2.2,
            "bin_end": 2.4,
            "count": 0
           },
           {
            "bin_start": 2.4,
            "bin_end": 2.6,
            "count": 0
           },
           {
            "bin_start": 2.6,
            "bin_end": 2.8,
            "count": 0
           },
           {
            "bin_start": 2.8,
            "bin_end": 3,
            "count": 0
           },
           {
            "bin_start": 3,
            "bin_end": 3.2,
            "count": 2
           },
           {
            "bin_start": 3.2,
            "bin_end": 3.4000000000000004,
            "count": 0
           },
           {
            "bin_start": 3.4000000000000004,
            "bin_end": 3.6,
            "count": 0
           },
           {
            "bin_start": 3.6,
            "bin_end": 3.8,
            "count": 0
           },
           {
            "bin_start": 3.8,
            "bin_end": 4,
            "count": 1
           }
          ]
         }
        },
        {
         "name": "price_per_person",
         "dtype": "float64",
         "stats": {
          "unique_count": 5,
          "nan_count": 0,
          "min": "3.45",
          "max": "11.84",
          "histogram": [
           {
            "bin_start": 3.45,
            "bin_end": 4.289000000000001,
            "count": 1
           },
           {
            "bin_start": 4.289000000000001,
            "bin_end": 5.128,
            "count": 0
           },
           {
            "bin_start": 5.128,
            "bin_end": 5.9670000000000005,
            "count": 0
           },
           {
            "bin_start": 5.9670000000000005,
            "bin_end": 6.806000000000001,
            "count": 1
           },
           {
            "bin_start": 6.806000000000001,
            "bin_end": 7.6450000000000005,
            "count": 1
           },
           {
            "bin_start": 7.6450000000000005,
            "bin_end": 8.484000000000002,
            "count": 0
           },
           {
            "bin_start": 8.484000000000002,
            "bin_end": 9.323,
            "count": 1
           },
           {
            "bin_start": 9.323,
            "bin_end": 10.162,
            "count": 0
           },
           {
            "bin_start": 10.162,
            "bin_end": 11.001000000000001,
            "count": 0
           },
           {
            "bin_start": 11.001000000000001,
            "bin_end": 11.84,
            "count": 1
           }
          ]
         }
        },
        {
         "name": "Payer Name",
         "dtype": "object",
         "stats": {
          "unique_count": 5,
          "nan_count": 0,
          "categories": [
           {
            "name": "Christy Cunningham",
            "count": 1
           },
           {
            "name": "Douglas Tucker",
            "count": 1
           },
           {
            "name": "3 others",
            "count": 3
           }
          ]
         }
        },
        {
         "name": "CC Number",
         "dtype": "int64",
         "stats": {
          "unique_count": 5,
          "nan_count": 0,
          "min": "3560325168603410",
          "max": "6011812112971322",
          "histogram": [
           {
            "bin_start": 3560325168603410,
            "bin_end": 3805473863040201,
            "count": 1
           },
           {
            "bin_start": 3805473863040201,
            "bin_end": 4050622557476992.5,
            "count": 0
           },
           {
            "bin_start": 4050622557476992.5,
            "bin_end": 4295771251913783.5,
            "count": 0
           },
           {
            "bin_start": 4295771251913783.5,
            "bin_end": 4540919946350575,
            "count": 1
           },
           {
            "bin_start": 4540919946350575,
            "bin_end": 4786068640787366,
            "count": 1
           },
           {
            "bin_start": 4786068640787366,
            "bin_end": 5031217335224157,
            "count": 1
           },
           {
            "bin_start": 5031217335224157,
            "bin_end": 5276366029660948,
            "count": 0
           },
           {
            "bin_start": 5276366029660948,
            "bin_end": 5521514724097740,
            "count": 0
           },
           {
            "bin_start": 5521514724097740,
            "bin_end": 5766663418534531,
            "count": 0
           },
           {
            "bin_start": 5766663418534531,
            "bin_end": 6011812112971322,
            "count": 1
           }
          ]
         }
        },
        {
         "name": "Payment ID",
         "dtype": "object",
         "stats": {
          "unique_count": 5,
          "nan_count": 0,
          "categories": [
           {
            "name": "Sun2959",
            "count": 1
           },
           {
            "name": "Sun4608",
            "count": 1
           },
           {
            "name": "3 others",
            "count": 3
           }
          ]
         }
        },
        {
         "name": "_deepnote_index_column",
         "dtype": "int64"
        }
       ],
       "rows_top": [
        {
         "total_bill": 16.99,
         "tip": 1.01,
         "sex": "Female",
         "smoker": "No",
         "day": "Sun",
         "time": "Dinner",
         "size": 2,
         "price_per_person": 8.49,
         "Payer Name": "Christy Cunningham",
         "CC Number": 3560325168603410,
         "Payment ID": "Sun2959",
         "_deepnote_index_column": 0
        },
        {
         "total_bill": 10.34,
         "tip": 1.66,
         "sex": "Male",
         "smoker": "No",
         "day": "Sun",
         "time": "Dinner",
         "size": 3,
         "price_per_person": 3.45,
         "Payer Name": "Douglas Tucker",
         "CC Number": 4478071379779230,
         "Payment ID": "Sun4608",
         "_deepnote_index_column": 1
        },
        {
         "total_bill": 21.01,
         "tip": 3.5,
         "sex": "Male",
         "smoker": "No",
         "day": "Sun",
         "time": "Dinner",
         "size": 3,
         "price_per_person": 7,
         "Payer Name": "Travis Walters",
         "CC Number": 6011812112971322,
         "Payment ID": "Sun4458",
         "_deepnote_index_column": 2
        },
        {
         "total_bill": 23.68,
         "tip": 3.31,
         "sex": "Male",
         "smoker": "No",
         "day": "Sun",
         "time": "Dinner",
         "size": 2,
         "price_per_person": 11.84,
         "Payer Name": "Nathaniel Harris",
         "CC Number": 4676137647685994,
         "Payment ID": "Sun5260",
         "_deepnote_index_column": 3
        },
        {
         "total_bill": 24.59,
         "tip": 3.61,
         "sex": "Female",
         "smoker": "No",
         "day": "Sun",
         "time": "Dinner",
         "size": 4,
         "price_per_person": 6.15,
         "Payer Name": "Tonya Carter",
         "CC Number": 4832732618637221,
         "Payment ID": "Sun2251",
         "_deepnote_index_column": 4
        }
       ],
       "rows_bottom": null
      },
      "text/plain": "   total_bill   tip     sex smoker  day    time  size  price_per_person  \\\n0       16.99  1.01  Female     No  Sun  Dinner     2              8.49   \n1       10.34  1.66    Male     No  Sun  Dinner     3              3.45   \n2       21.01  3.50    Male     No  Sun  Dinner     3              7.00   \n3       23.68  3.31    Male     No  Sun  Dinner     2             11.84   \n4       24.59  3.61  Female     No  Sun  Dinner     4              6.15   \n\n           Payer Name         CC Number Payment ID  \n0  Christy Cunningham  3560325168603410    Sun2959  \n1      Douglas Tucker  4478071379779230    Sun4608  \n2      Travis Walters  6011812112971322    Sun4458  \n3    Nathaniel Harris  4676137647685994    Sun5260  \n4        Tonya Carter  4832732618637221    Sun2251  ",
      "text/html": "<div>\n<style scoped>\n    .dataframe tbody tr th:only-of-type {\n        vertical-align: middle;\n    }\n\n    .dataframe tbody tr th {\n        vertical-align: top;\n    }\n\n    .dataframe thead th {\n        text-align: right;\n    }\n</style>\n<table border=\"1\" class=\"dataframe\">\n  <thead>\n    <tr style=\"text-align: right;\">\n      <th></th>\n      <th>total_bill</th>\n      <th>tip</th>\n      <th>sex</th>\n      <th>smoker</th>\n      <th>day</th>\n      <th>time</th>\n      <th>size</th>\n      <th>price_per_person</th>\n      <th>Payer Name</th>\n      <th>CC Number</th>\n      <th>Payment ID</th>\n    </tr>\n  </thead>\n  <tbody>\n    <tr>\n      <th>0</th>\n      <td>16.99</td>\n      <td>1.01</td>\n      <td>Female</td>\n      <td>No</td>\n      <td>Sun</td>\n      <td>Dinner</td>\n      <td>2</td>\n      <td>8.49</td>\n      <td>Christy Cunningham</td>\n      <td>3560325168603410</td>\n      <td>Sun2959</td>\n    </tr>\n    <tr>\n      <th>1</th>\n      <td>10.34</td>\n      <td>1.66</td>\n      <td>Male</td>\n      <td>No</td>\n      <td>Sun</td>\n      <td>Dinner</td>\n      <td>3</td>\n      <td>3.45</td>\n      <td>Douglas Tucker</td>\n      <td>4478071379779230</td>\n      <td>Sun4608</td>\n    </tr>\n    <tr>\n      <th>2</th>\n      <td>21.01</td>\n      <td>3.50</td>\n      <td>Male</td>\n      <td>No</td>\n      <td>Sun</td>\n      <td>Dinner</td>\n      <td>3</td>\n      <td>7.00</td>\n      <td>Travis Walters</td>\n      <td>6011812112971322</td>\n      <td>Sun4458</td>\n    </tr>\n    <tr>\n      <th>3</th>\n      <td>23.68</td>\n      <td>3.31</td>\n      <td>Male</td>\n      <td>No</td>\n      <td>Sun</td>\n      <td>Dinner</td>\n      <td>2</td>\n      <td>11.84</td>\n      <td>Nathaniel Harris</td>\n      <td>4676137647685994</td>\n      <td>Sun5260</td>\n    </tr>\n    <tr>\n      <th>4</th>\n      <td>24.59</td>\n      <td>3.61</td>\n      <td>Female</td>\n      <td>No</td>\n      <td>Sun</td>\n      <td>Dinner</td>\n      <td>4</td>\n      <td>6.15</td>\n      <td>Tonya Carter</td>\n      <td>4832732618637221</td>\n      <td>Sun2251</td>\n    </tr>\n  </tbody>\n</table>\n</div>"
     },
     "metadata": {}
    }
   ],
   "execution_count": 4
  },
  {
   "cell_type": "code",
   "source": "df[df[\"total_bill\"]>40]",
   "metadata": {
    "tags": [],
    "cell_id": "00004-8eee15c8-80af-4e4d-8f69-7eea75a39488",
    "deepnote_to_be_reexecuted": false,
    "source_hash": "65ef517e",
    "execution_start": 1622285026493,
    "execution_millis": 229,
    "deepnote_cell_type": "code"
   },
   "outputs": [
    {
     "output_type": "execute_result",
     "execution_count": 5,
     "data": {
      "application/vnd.deepnote.dataframe.v2+json": {
       "row_count": 10,
       "column_count": 11,
       "columns": [
        {
         "name": "total_bill",
         "dtype": "float64",
         "stats": {
          "unique_count": 10,
          "nan_count": 0,
          "min": "40.17",
          "max": "50.81",
          "histogram": [
           {
            "bin_start": 40.17,
            "bin_end": 41.234,
            "count": 3
           },
           {
            "bin_start": 41.234,
            "bin_end": 42.298,
            "count": 0
           },
           {
            "bin_start": 42.298,
            "bin_end": 43.362,
            "count": 1
           },
           {
            "bin_start": 43.362,
            "bin_end": 44.426,
            "count": 1
           },
           {
            "bin_start": 44.426,
            "bin_end": 45.49,
            "count": 1
           },
           {
            "bin_start": 45.49,
            "bin_end": 46.554,
            "count": 0
           },
           {
            "bin_start": 46.554,
            "bin_end": 47.618,
            "count": 0
           },
           {
            "bin_start": 47.618,
            "bin_end": 48.682,
            "count": 3
           },
           {
            "bin_start": 48.682,
            "bin_end": 49.746,
            "count": 0
           },
           {
            "bin_start": 49.746,
            "bin_end": 50.81,
            "count": 1
           }
          ]
         }
        },
        {
         "name": "tip",
         "dtype": "float64",
         "stats": {
          "unique_count": 8,
          "nan_count": 0,
          "min": "2.5",
          "max": "10.0",
          "histogram": [
           {
            "bin_start": 2.5,
            "bin_end": 3.25,
            "count": 2
           },
           {
            "bin_start": 3.25,
            "bin_end": 4,
            "count": 1
           },
           {
            "bin_start": 4,
            "bin_end": 4.75,
            "count": 1
           },
           {
            "bin_start": 4.75,
            "bin_end": 5.5,
            "count": 3
           },
           {
            "bin_start": 5.5,
            "bin_end": 6.25,
            "count": 0
           },
           {
            "bin_start": 6.25,
            "bin_end": 7,
            "count": 1
           },
           {
            "bin_start": 7,
            "bin_end": 7.75,
            "count": 0
           },
           {
            "bin_start": 7.75,
            "bin_end": 8.5,
            "count": 0
           },
           {
            "bin_start": 8.5,
            "bin_end": 9.25,
            "count": 1
           },
           {
            "bin_start": 9.25,
            "bin_end": 10,
            "count": 1
           }
          ]
         }
        },
        {
         "name": "sex",
         "dtype": "object",
         "stats": {
          "unique_count": 2,
          "nan_count": 0,
          "categories": [
           {
            "name": "Male",
            "count": 8
           },
           {
            "name": "Female",
            "count": 2
           }
          ]
         }
        },
        {
         "name": "smoker",
         "dtype": "object",
         "stats": {
          "unique_count": 2,
          "nan_count": 0,
          "categories": [
           {
            "name": "Yes",
            "count": 6
           },
           {
            "name": "No",
            "count": 4
           }
          ]
         }
        },
        {
         "name": "day",
         "dtype": "object",
         "stats": {
          "unique_count": 4,
          "nan_count": 0,
          "categories": [
           {
            "name": "Sat",
            "count": 4
           },
           {
            "name": "Sun",
            "count": 3
           },
           {
            "name": "2 others",
            "count": 3
           }
          ]
         }
        },
        {
         "name": "time",
         "dtype": "object",
         "stats": {
          "unique_count": 2,
          "nan_count": 0,
          "categories": [
           {
            "name": "Dinner",
            "count": 8
           },
           {
            "name": "Lunch",
            "count": 2
           }
          ]
         }
        },
        {
         "name": "size",
         "dtype": "int64",
         "stats": {
          "unique_count": 5,
          "nan_count": 0,
          "min": "2",
          "max": "6",
          "histogram": [
           {
            "bin_start": 2,
            "bin_end": 2.4,
            "count": 1
           },
           {
            "bin_start": 2.4,
            "bin_end": 2.8,
            "count": 0
           },
           {
            "bin_start": 2.8,
            "bin_end": 3.2,
            "count": 3
           },
           {
            "bin_start": 3.2,
            "bin_end": 3.6,
            "count": 0
           },
           {
            "bin_start": 3.6,
            "bin_end": 4,
            "count": 0
           },
           {
            "bin_start": 4,
            "bin_end": 4.4,
            "count": 4
           },
           {
            "bin_start": 4.4,
            "bin_end": 4.800000000000001,
            "count": 0
           },
           {
            "bin_start": 4.800000000000001,
            "bin_end": 5.2,
            "count": 1
           },
           {
            "bin_start": 5.2,
            "bin_end": 5.6,
            "count": 0
           },
           {
            "bin_start": 5.6,
            "bin_end": 6,
            "count": 1
           }
          ]
         }
        },
        {
         "name": "price_per_person",
         "dtype": "float64",
         "stats": {
          "unique_count": 10,
          "nan_count": 0,
          "min": "8.03",
          "max": "20.27",
          "histogram": [
           {
            "bin_start": 8.03,
            "bin_end": 9.254,
            "count": 2
           },
           {
            "bin_start": 9.254,
            "bin_end": 10.478,
            "count": 1
           },
           {
            "bin_start": 10.478,
            "bin_end": 11.701999999999998,
            "count": 1
           },
           {
            "bin_start": 11.701999999999998,
            "bin_end": 12.925999999999998,
            "count": 2
           },
           {
            "bin_start": 12.925999999999998,
            "bin_end": 14.149999999999999,
            "count": 0
           },
           {
            "bin_start": 14.149999999999999,
            "bin_end": 15.373999999999999,
            "count": 2
           },
           {
            "bin_start": 15.373999999999999,
            "bin_end": 16.598,
            "count": 0
           },
           {
            "bin_start": 16.598,
            "bin_end": 17.822,
            "count": 1
           },
           {
            "bin_start": 17.822,
            "bin_end": 19.046,
            "count": 0
           },
           {
            "bin_start": 19.046,
            "bin_end": 20.27,
            "count": 1
           }
          ]
         }
        },
        {
         "name": "Payer Name",
         "dtype": "object",
         "stats": {
          "unique_count": 10,
          "nan_count": 0,
          "categories": [
           {
            "name": "Brian Ortiz",
            "count": 1
           },
           {
            "name": "Aaron Bentley",
            "count": 1
           },
           {
            "name": "8 others",
            "count": 8
           }
          ]
         }
        },
        {
         "name": "CC Number",
         "dtype": "int64",
         "stats": {
          "unique_count": 10,
          "nan_count": 0,
          "min": "676218815212",
          "max": "6596453823950595",
          "histogram": [
           {
            "bin_start": 676218815212,
            "bin_end": 660253979328750.2,
            "count": 3
           },
           {
            "bin_start": 660253979328750.2,
            "bin_end": 1319831739842288.5,
            "count": 0
           },
           {
            "bin_start": 1319831739842288.5,
            "bin_end": 1979409500355826.8,
            "count": 0
           },
           {
            "bin_start": 1979409500355826.8,
            "bin_end": 2638987260869365,
            "count": 0
           },
           {
            "bin_start": 2638987260869365,
            "bin_end": 3298565021382903,
            "count": 0
           },
           {
            "bin_start": 3298565021382903,
            "bin_end": 3958142781896441.5,
            "count": 2
           },
           {
            "bin_start": 3958142781896441.5,
            "bin_end": 4617720542409980,
            "count": 2
           },
           {
            "bin_start": 4617720542409980,
            "bin_end": 5277298302923518,
            "count": 0
           },
           {
            "bin_start": 5277298302923518,
            "bin_end": 5936876063437056,
            "count": 2
           },
           {
            "bin_start": 5936876063437056,
            "bin_end": 6596453823950595,
            "count": 1
           }
          ]
         }
        },
        {
         "name": "Payment ID",
         "dtype": "object",
         "stats": {
          "unique_count": 10,
          "nan_count": 0,
          "categories": [
           {
            "name": "Sat8139",
            "count": 1
           },
           {
            "name": "Fri9628",
            "count": 1
           },
           {
            "name": "8 others",
            "count": 8
           }
          ]
         }
        },
        {
         "name": "_deepnote_index_column",
         "dtype": "int64"
        }
       ],
       "rows_top": [
        {
         "total_bill": 48.27,
         "tip": 6.73,
         "sex": "Male",
         "smoker": "No",
         "day": "Sat",
         "time": "Dinner",
         "size": 4,
         "price_per_person": 12.07,
         "Payer Name": "Brian Ortiz",
         "CC Number": 6596453823950595,
         "Payment ID": "Sat8139",
         "_deepnote_index_column": 59
        },
        {
         "total_bill": 40.17,
         "tip": 4.73,
         "sex": "Male",
         "smoker": "Yes",
         "day": "Fri",
         "time": "Dinner",
         "size": 4,
         "price_per_person": 10.04,
         "Payer Name": "Aaron Bentley",
         "CC Number": 180026611638690,
         "Payment ID": "Fri9628",
         "_deepnote_index_column": 95
        },
        {
         "total_bill": 44.3,
         "tip": 2.5,
         "sex": "Female",
         "smoker": "Yes",
         "day": "Sat",
         "time": "Dinner",
         "size": 3,
         "price_per_person": 14.77,
         "Payer Name": "Heather Cohen",
         "CC Number": 379771118886604,
         "Payment ID": "Sat6240",
         "_deepnote_index_column": 102
        },
        {
         "total_bill": 41.19,
         "tip": 5,
         "sex": "Male",
         "smoker": "No",
         "day": "Thur",
         "time": "Lunch",
         "size": 5,
         "price_per_person": 8.24,
         "Payer Name": "Eric Andrews",
         "CC Number": 4356531761046453,
         "Payment ID": "Thur3621",
         "_deepnote_index_column": 142
        },
        {
         "total_bill": 48.17,
         "tip": 5,
         "sex": "Male",
         "smoker": "No",
         "day": "Sun",
         "time": "Dinner",
         "size": 6,
         "price_per_person": 8.03,
         "Payer Name": "Ryan Gonzales",
         "CC Number": 3523151482063321,
         "Payment ID": "Sun7518",
         "_deepnote_index_column": 156
        },
        {
         "total_bill": 50.81,
         "tip": 10,
         "sex": "Male",
         "smoker": "Yes",
         "day": "Sat",
         "time": "Dinner",
         "size": 3,
         "price_per_person": 16.94,
         "Payer Name": "Gregory Clark",
         "CC Number": 5473850968388236,
         "Payment ID": "Sat1954",
         "_deepnote_index_column": 170
        },
        {
         "total_bill": 45.35,
         "tip": 3.5,
         "sex": "Male",
         "smoker": "Yes",
         "day": "Sun",
         "time": "Dinner",
         "size": 3,
         "price_per_person": 15.12,
         "Payer Name": "Jose Parsons",
         "CC Number": 4112207559459910,
         "Payment ID": "Sun2337",
         "_deepnote_index_column": 182
        },
        {
         "total_bill": 40.55,
         "tip": 3,
         "sex": "Male",
         "smoker": "Yes",
         "day": "Sun",
         "time": "Dinner",
         "size": 2,
         "price_per_person": 20.27,
         "Payer Name": "Stephen Cox",
         "CC Number": 3547798222044029,
         "Payment ID": "Sun5140",
         "_deepnote_index_column": 184
        },
        {
         "total_bill": 43.11,
         "tip": 5,
         "sex": "Female",
         "smoker": "Yes",
         "day": "Thur",
         "time": "Lunch",
         "size": 4,
         "price_per_person": 10.78,
         "Payer Name": "Brooke Soto",
         "CC Number": 5544902205760175,
         "Payment ID": "Thur9313",
         "_deepnote_index_column": 197
        },
        {
         "total_bill": 48.33,
         "tip": 9,
         "sex": "Male",
         "smoker": "No",
         "day": "Sat",
         "time": "Dinner",
         "size": 4,
         "price_per_person": 12.08,
         "Payer Name": "Alex Williamson",
         "CC Number": 676218815212,
         "Payment ID": "Sat4590",
         "_deepnote_index_column": 212
        }
       ],
       "rows_bottom": null
      },
      "text/plain": "     total_bill    tip     sex smoker   day    time  size  price_per_person  \\\n59        48.27   6.73    Male     No   Sat  Dinner     4             12.07   \n95        40.17   4.73    Male    Yes   Fri  Dinner     4             10.04   \n102       44.30   2.50  Female    Yes   Sat  Dinner     3             14.77   \n142       41.19   5.00    Male     No  Thur   Lunch     5              8.24   \n156       48.17   5.00    Male     No   Sun  Dinner     6              8.03   \n170       50.81  10.00    Male    Yes   Sat  Dinner     3             16.94   \n182       45.35   3.50    Male    Yes   Sun  Dinner     3             15.12   \n184       40.55   3.00    Male    Yes   Sun  Dinner     2             20.27   \n197       43.11   5.00  Female    Yes  Thur   Lunch     4             10.78   \n212       48.33   9.00    Male     No   Sat  Dinner     4             12.08   \n\n          Payer Name         CC Number Payment ID  \n59       Brian Ortiz  6596453823950595    Sat8139  \n95     Aaron Bentley   180026611638690    Fri9628  \n102    Heather Cohen   379771118886604    Sat6240  \n142     Eric Andrews  4356531761046453   Thur3621  \n156    Ryan Gonzales  3523151482063321    Sun7518  \n170    Gregory Clark  5473850968388236    Sat1954  \n182     Jose Parsons  4112207559459910    Sun2337  \n184      Stephen Cox  3547798222044029    Sun5140  \n197      Brooke Soto  5544902205760175   Thur9313  \n212  Alex Williamson      676218815212    Sat4590  ",
      "text/html": "<div>\n<style scoped>\n    .dataframe tbody tr th:only-of-type {\n        vertical-align: middle;\n    }\n\n    .dataframe tbody tr th {\n        vertical-align: top;\n    }\n\n    .dataframe thead th {\n        text-align: right;\n    }\n</style>\n<table border=\"1\" class=\"dataframe\">\n  <thead>\n    <tr style=\"text-align: right;\">\n      <th></th>\n      <th>total_bill</th>\n      <th>tip</th>\n      <th>sex</th>\n      <th>smoker</th>\n      <th>day</th>\n      <th>time</th>\n      <th>size</th>\n      <th>price_per_person</th>\n      <th>Payer Name</th>\n      <th>CC Number</th>\n      <th>Payment ID</th>\n    </tr>\n  </thead>\n  <tbody>\n    <tr>\n      <th>59</th>\n      <td>48.27</td>\n      <td>6.73</td>\n      <td>Male</td>\n      <td>No</td>\n      <td>Sat</td>\n      <td>Dinner</td>\n      <td>4</td>\n      <td>12.07</td>\n      <td>Brian Ortiz</td>\n      <td>6596453823950595</td>\n      <td>Sat8139</td>\n    </tr>\n    <tr>\n      <th>95</th>\n      <td>40.17</td>\n      <td>4.73</td>\n      <td>Male</td>\n      <td>Yes</td>\n      <td>Fri</td>\n      <td>Dinner</td>\n      <td>4</td>\n      <td>10.04</td>\n      <td>Aaron Bentley</td>\n      <td>180026611638690</td>\n      <td>Fri9628</td>\n    </tr>\n    <tr>\n      <th>102</th>\n      <td>44.30</td>\n      <td>2.50</td>\n      <td>Female</td>\n      <td>Yes</td>\n      <td>Sat</td>\n      <td>Dinner</td>\n      <td>3</td>\n      <td>14.77</td>\n      <td>Heather Cohen</td>\n      <td>379771118886604</td>\n      <td>Sat6240</td>\n    </tr>\n    <tr>\n      <th>142</th>\n      <td>41.19</td>\n      <td>5.00</td>\n      <td>Male</td>\n      <td>No</td>\n      <td>Thur</td>\n      <td>Lunch</td>\n      <td>5</td>\n      <td>8.24</td>\n      <td>Eric Andrews</td>\n      <td>4356531761046453</td>\n      <td>Thur3621</td>\n    </tr>\n    <tr>\n      <th>156</th>\n      <td>48.17</td>\n      <td>5.00</td>\n      <td>Male</td>\n      <td>No</td>\n      <td>Sun</td>\n      <td>Dinner</td>\n      <td>6</td>\n      <td>8.03</td>\n      <td>Ryan Gonzales</td>\n      <td>3523151482063321</td>\n      <td>Sun7518</td>\n    </tr>\n    <tr>\n      <th>170</th>\n      <td>50.81</td>\n      <td>10.00</td>\n      <td>Male</td>\n      <td>Yes</td>\n      <td>Sat</td>\n      <td>Dinner</td>\n      <td>3</td>\n      <td>16.94</td>\n      <td>Gregory Clark</td>\n      <td>5473850968388236</td>\n      <td>Sat1954</td>\n    </tr>\n    <tr>\n      <th>182</th>\n      <td>45.35</td>\n      <td>3.50</td>\n      <td>Male</td>\n      <td>Yes</td>\n      <td>Sun</td>\n      <td>Dinner</td>\n      <td>3</td>\n      <td>15.12</td>\n      <td>Jose Parsons</td>\n      <td>4112207559459910</td>\n      <td>Sun2337</td>\n    </tr>\n    <tr>\n      <th>184</th>\n      <td>40.55</td>\n      <td>3.00</td>\n      <td>Male</td>\n      <td>Yes</td>\n      <td>Sun</td>\n      <td>Dinner</td>\n      <td>2</td>\n      <td>20.27</td>\n      <td>Stephen Cox</td>\n      <td>3547798222044029</td>\n      <td>Sun5140</td>\n    </tr>\n    <tr>\n      <th>197</th>\n      <td>43.11</td>\n      <td>5.00</td>\n      <td>Female</td>\n      <td>Yes</td>\n      <td>Thur</td>\n      <td>Lunch</td>\n      <td>4</td>\n      <td>10.78</td>\n      <td>Brooke Soto</td>\n      <td>5544902205760175</td>\n      <td>Thur9313</td>\n    </tr>\n    <tr>\n      <th>212</th>\n      <td>48.33</td>\n      <td>9.00</td>\n      <td>Male</td>\n      <td>No</td>\n      <td>Sat</td>\n      <td>Dinner</td>\n      <td>4</td>\n      <td>12.08</td>\n      <td>Alex Williamson</td>\n      <td>676218815212</td>\n      <td>Sat4590</td>\n    </tr>\n  </tbody>\n</table>\n</div>"
     },
     "metadata": {}
    }
   ],
   "execution_count": 5
  },
  {
   "cell_type": "code",
   "source": "df[df['sex']==\"Male\"]",
   "metadata": {
    "tags": [],
    "cell_id": "00006-7b35ef87-8520-4db9-94ba-62664816e7d7",
    "deepnote_to_be_reexecuted": false,
    "source_hash": "e97efbef",
    "execution_start": 1622285026718,
    "execution_millis": 180,
    "deepnote_cell_type": "code"
   },
   "outputs": [
    {
     "output_type": "execute_result",
     "execution_count": 6,
     "data": {
      "application/vnd.deepnote.dataframe.v2+json": {
       "row_count": 157,
       "column_count": 11,
       "columns": [
        {
         "name": "total_bill",
         "dtype": "float64",
         "stats": {
          "unique_count": 151,
          "nan_count": 0,
          "min": "7.25",
          "max": "50.81",
          "histogram": [
           {
            "bin_start": 7.25,
            "bin_end": 11.606,
            "count": 20
           },
           {
            "bin_start": 11.606,
            "bin_end": 15.962,
            "count": 34
           },
           {
            "bin_start": 15.962,
            "bin_end": 20.317999999999998,
            "count": 36
           },
           {
            "bin_start": 20.317999999999998,
            "bin_end": 24.674,
            "count": 27
           },
           {
            "bin_start": 24.674,
            "bin_end": 29.03,
            "count": 13
           },
           {
            "bin_start": 29.03,
            "bin_end": 33.385999999999996,
            "count": 12
           },
           {
            "bin_start": 33.385999999999996,
            "bin_end": 37.742,
            "count": 3
           },
           {
            "bin_start": 37.742,
            "bin_end": 42.098,
            "count": 7
           },
           {
            "bin_start": 42.098,
            "bin_end": 46.454,
            "count": 1
           },
           {
            "bin_start": 46.454,
            "bin_end": 50.81,
            "count": 4
           }
          ]
         }
        },
        {
         "name": "tip",
         "dtype": "float64",
         "stats": {
          "unique_count": 90,
          "nan_count": 0,
          "min": "1.0",
          "max": "10.0",
          "histogram": [
           {
            "bin_start": 1,
            "bin_end": 1.9,
            "count": 24
           },
           {
            "bin_start": 1.9,
            "bin_end": 2.8,
            "count": 51
           },
           {
            "bin_start": 2.8,
            "bin_end": 3.7,
            "count": 41
           },
           {
            "bin_start": 3.7,
            "bin_end": 4.6,
            "count": 19
           },
           {
            "bin_start": 4.6,
            "bin_end": 5.5,
            "count": 11
           },
           {
            "bin_start": 5.5,
            "bin_end": 6.4,
            "count": 5
           },
           {
            "bin_start": 6.4,
            "bin_end": 7.3,
            "count": 3
           },
           {
            "bin_start": 7.3,
            "bin_end": 8.2,
            "count": 1
           },
           {
            "bin_start": 8.2,
            "bin_end": 9.1,
            "count": 1
           },
           {
            "bin_start": 9.1,
            "bin_end": 10,
            "count": 1
           }
          ]
         }
        },
        {
         "name": "sex",
         "dtype": "object",
         "stats": {
          "unique_count": 1,
          "nan_count": 0,
          "categories": [
           {
            "name": "Male",
            "count": 157
           }
          ]
         }
        },
        {
         "name": "smoker",
         "dtype": "object",
         "stats": {
          "unique_count": 2,
          "nan_count": 0,
          "categories": [
           {
            "name": "No",
            "count": 97
           },
           {
            "name": "Yes",
            "count": 60
           }
          ]
         }
        },
        {
         "name": "day",
         "dtype": "object",
         "stats": {
          "unique_count": 4,
          "nan_count": 0,
          "categories": [
           {
            "name": "Sat",
            "count": 59
           },
           {
            "name": "Sun",
            "count": 58
           },
           {
            "name": "2 others",
            "count": 40
           }
          ]
         }
        },
        {
         "name": "time",
         "dtype": "object",
         "stats": {
          "unique_count": 2,
          "nan_count": 0,
          "categories": [
           {
            "name": "Dinner",
            "count": 124
           },
           {
            "name": "Lunch",
            "count": 33
           }
          ]
         }
        },
        {
         "name": "size",
         "dtype": "int64",
         "stats": {
          "unique_count": 6,
          "nan_count": 0,
          "min": "1",
          "max": "6",
          "histogram": [
           {
            "bin_start": 1,
            "bin_end": 1.5,
            "count": 1
           },
           {
            "bin_start": 1.5,
            "bin_end": 2,
            "count": 0
           },
           {
            "bin_start": 2,
            "bin_end": 2.5,
            "count": 98
           },
           {
            "bin_start": 2.5,
            "bin_end": 3,
            "count": 0
           },
           {
            "bin_start": 3,
            "bin_end": 3.5,
            "count": 24
           },
           {
            "bin_start": 3.5,
            "bin_end": 4,
            "count": 0
           },
           {
            "bin_start": 4,
            "bin_end": 4.5,
            "count": 28
           },
           {
            "bin_start": 4.5,
            "bin_end": 5,
            "count": 0
           },
           {
            "bin_start": 5,
            "bin_end": 5.5,
            "count": 4
           },
           {
            "bin_start": 5.5,
            "bin_end": 6,
            "count": 2
           }
          ]
         }
        },
        {
         "name": "price_per_person",
         "dtype": "float64",
         "stats": {
          "unique_count": 149,
          "nan_count": 0,
          "min": "3.45",
          "max": "20.27",
          "histogram": [
           {
            "bin_start": 3.45,
            "bin_end": 5.132,
            "count": 21
           },
           {
            "bin_start": 5.132,
            "bin_end": 6.814,
            "count": 44
           },
           {
            "bin_start": 6.814,
            "bin_end": 8.495999999999999,
            "count": 34
           },
           {
            "bin_start": 8.495999999999999,
            "bin_end": 10.178,
            "count": 27
           },
           {
            "bin_start": 10.178,
            "bin_end": 11.86,
            "count": 13
           },
           {
            "bin_start": 11.86,
            "bin_end": 13.541999999999998,
            "count": 7
           },
           {
            "bin_start": 13.541999999999998,
            "bin_end": 15.224,
            "count": 4
           },
           {
            "bin_start": 15.224,
            "bin_end": 16.906,
            "count": 4
           },
           {
            "bin_start": 16.906,
            "bin_end": 18.588,
            "count": 2
           },
           {
            "bin_start": 18.588,
            "bin_end": 20.27,
            "count": 1
           }
          ]
         }
        },
        {
         "name": "Payer Name",
         "dtype": "object",
         "stats": {
          "unique_count": 157,
          "nan_count": 0,
          "categories": [
           {
            "name": "Douglas Tucker",
            "count": 1
           },
           {
            "name": "Travis Walters",
            "count": 1
           },
           {
            "name": "155 others",
            "count": 155
           }
          ]
         }
        },
        {
         "name": "CC Number",
         "dtype": "int64",
         "stats": {
          "unique_count": 157,
          "nan_count": 0,
          "min": "60406789937",
          "max": "6596453823950595",
          "histogram": [
           {
            "bin_start": 60406789937,
            "bin_end": 659699748506002.8,
            "count": 69
           },
           {
            "bin_start": 659699748506002.8,
            "bin_end": 1319339090222068.5,
            "count": 0
           },
           {
            "bin_start": 1319339090222068.5,
            "bin_end": 1978978431938134.2,
            "count": 0
           },
           {
            "bin_start": 1978978431938134.2,
            "bin_end": 2638617773654200,
            "count": 3
           },
           {
            "bin_start": 2638617773654200,
            "bin_end": 3298257115370266,
            "count": 0
           },
           {
            "bin_start": 3298257115370266,
            "bin_end": 3957896457086331.5,
            "count": 28
           },
           {
            "bin_start": 3957896457086331.5,
            "bin_end": 4617535798802397,
            "count": 19
           },
           {
            "bin_start": 4617535798802397,
            "bin_end": 5277175140518463,
            "count": 11
           },
           {
            "bin_start": 5277175140518463,
            "bin_end": 5936814482234529,
            "count": 7
           },
           {
            "bin_start": 5936814482234529,
            "bin_end": 6596453823950595,
            "count": 20
           }
          ]
         }
        },
        {
         "name": "Payment ID",
         "dtype": "object",
         "stats": {
          "unique_count": 157,
          "nan_count": 0,
          "categories": [
           {
            "name": "Sun4608",
            "count": 1
           },
           {
            "name": "Sun4458",
            "count": 1
           },
           {
            "name": "155 others",
            "count": 155
           }
          ]
         }
        },
        {
         "name": "_deepnote_index_column",
         "dtype": "int64"
        }
       ],
       "rows_top": [
        {
         "total_bill": 10.34,
         "tip": 1.66,
         "sex": "Male",
         "smoker": "No",
         "day": "Sun",
         "time": "Dinner",
         "size": 3,
         "price_per_person": 3.45,
         "Payer Name": "Douglas Tucker",
         "CC Number": 4478071379779230,
         "Payment ID": "Sun4608",
         "_deepnote_index_column": 1
        },
        {
         "total_bill": 21.01,
         "tip": 3.5,
         "sex": "Male",
         "smoker": "No",
         "day": "Sun",
         "time": "Dinner",
         "size": 3,
         "price_per_person": 7,
         "Payer Name": "Travis Walters",
         "CC Number": 6011812112971322,
         "Payment ID": "Sun4458",
         "_deepnote_index_column": 2
        },
        {
         "total_bill": 23.68,
         "tip": 3.31,
         "sex": "Male",
         "smoker": "No",
         "day": "Sun",
         "time": "Dinner",
         "size": 2,
         "price_per_person": 11.84,
         "Payer Name": "Nathaniel Harris",
         "CC Number": 4676137647685994,
         "Payment ID": "Sun5260",
         "_deepnote_index_column": 3
        },
        {
         "total_bill": 25.29,
         "tip": 4.71,
         "sex": "Male",
         "smoker": "No",
         "day": "Sun",
         "time": "Dinner",
         "size": 4,
         "price_per_person": 6.32,
         "Payer Name": "Erik Smith",
         "CC Number": 213140353657882,
         "Payment ID": "Sun9679",
         "_deepnote_index_column": 5
        },
        {
         "total_bill": 8.77,
         "tip": 2,
         "sex": "Male",
         "smoker": "No",
         "day": "Sun",
         "time": "Dinner",
         "size": 2,
         "price_per_person": 4.38,
         "Payer Name": "Kristopher Johnson",
         "CC Number": 2223727524230344,
         "Payment ID": "Sun5985",
         "_deepnote_index_column": 6
        },
        {
         "total_bill": 26.88,
         "tip": 3.12,
         "sex": "Male",
         "smoker": "No",
         "day": "Sun",
         "time": "Dinner",
         "size": 4,
         "price_per_person": 6.72,
         "Payer Name": "Robert Buck",
         "CC Number": 3514785077705092,
         "Payment ID": "Sun8157",
         "_deepnote_index_column": 7
        },
        {
         "total_bill": 15.04,
         "tip": 1.96,
         "sex": "Male",
         "smoker": "No",
         "day": "Sun",
         "time": "Dinner",
         "size": 2,
         "price_per_person": 7.52,
         "Payer Name": "Joseph Mcdonald",
         "CC Number": 3522866365840377,
         "Payment ID": "Sun6820",
         "_deepnote_index_column": 8
        },
        {
         "total_bill": 14.78,
         "tip": 3.23,
         "sex": "Male",
         "smoker": "No",
         "day": "Sun",
         "time": "Dinner",
         "size": 2,
         "price_per_person": 7.39,
         "Payer Name": "Jerome Abbott",
         "CC Number": 3532124519049786,
         "Payment ID": "Sun3775",
         "_deepnote_index_column": 9
        },
        {
         "total_bill": 10.27,
         "tip": 1.71,
         "sex": "Male",
         "smoker": "No",
         "day": "Sun",
         "time": "Dinner",
         "size": 2,
         "price_per_person": 5.14,
         "Payer Name": "William Riley",
         "CC Number": 566287581219,
         "Payment ID": "Sun2546",
         "_deepnote_index_column": 10
        },
        {
         "total_bill": 15.42,
         "tip": 1.57,
         "sex": "Male",
         "smoker": "No",
         "day": "Sun",
         "time": "Dinner",
         "size": 2,
         "price_per_person": 7.71,
         "Payer Name": "Chad Harrington",
         "CC Number": 577040572932,
         "Payment ID": "Sun1300",
         "_deepnote_index_column": 12
        },
        {
         "total_bill": 18.43,
         "tip": 3,
         "sex": "Male",
         "smoker": "No",
         "day": "Sun",
         "time": "Dinner",
         "size": 4,
         "price_per_person": 4.61,
         "Payer Name": "Joshua Jones",
         "CC Number": 6011163105616890,
         "Payment ID": "Sun2971",
         "_deepnote_index_column": 13
        },
        {
         "total_bill": 21.58,
         "tip": 3.92,
         "sex": "Male",
         "smoker": "No",
         "day": "Sun",
         "time": "Dinner",
         "size": 2,
         "price_per_person": 10.79,
         "Payer Name": "Matthew Reilly",
         "CC Number": 180073029785069,
         "Payment ID": "Sun1878",
         "_deepnote_index_column": 15
        },
        {
         "total_bill": 16.29,
         "tip": 3.71,
         "sex": "Male",
         "smoker": "No",
         "day": "Sun",
         "time": "Dinner",
         "size": 3,
         "price_per_person": 5.43,
         "Payer Name": "John Pittman",
         "CC Number": 6521340257218708,
         "Payment ID": "Sun2998",
         "_deepnote_index_column": 17
        },
        {
         "total_bill": 20.65,
         "tip": 3.35,
         "sex": "Male",
         "smoker": "No",
         "day": "Sat",
         "time": "Dinner",
         "size": 3,
         "price_per_person": 6.88,
         "Payer Name": "Timothy Oneal",
         "CC Number": 6568069240986485,
         "Payment ID": "Sat9213",
         "_deepnote_index_column": 19
        },
        {
         "total_bill": 17.92,
         "tip": 4.08,
         "sex": "Male",
         "smoker": "No",
         "day": "Sat",
         "time": "Dinner",
         "size": 2,
         "price_per_person": 8.96,
         "Payer Name": "Thomas Rice",
         "CC Number": 4403296224639756,
         "Payment ID": "Sat1709",
         "_deepnote_index_column": 20
        },
        {
         "total_bill": 39.42,
         "tip": 7.58,
         "sex": "Male",
         "smoker": "No",
         "day": "Sat",
         "time": "Dinner",
         "size": 4,
         "price_per_person": 9.86,
         "Payer Name": "Lance Peterson",
         "CC Number": 3542584061609808,
         "Payment ID": "Sat239",
         "_deepnote_index_column": 23
        },
        {
         "total_bill": 19.82,
         "tip": 3.18,
         "sex": "Male",
         "smoker": "No",
         "day": "Sat",
         "time": "Dinner",
         "size": 2,
         "price_per_person": 9.91,
         "Payer Name": "Christopher Ross",
         "CC Number": 36739148167928,
         "Payment ID": "Sat6236",
         "_deepnote_index_column": 24
        },
        {
         "total_bill": 17.81,
         "tip": 2.34,
         "sex": "Male",
         "smoker": "No",
         "day": "Sat",
         "time": "Dinner",
         "size": 4,
         "price_per_person": 4.45,
         "Payer Name": "Robert Perkins",
         "CC Number": 30502930499388,
         "Payment ID": "Sat907",
         "_deepnote_index_column": 25
        },
        {
         "total_bill": 13.37,
         "tip": 2,
         "sex": "Male",
         "smoker": "No",
         "day": "Sat",
         "time": "Dinner",
         "size": 2,
         "price_per_person": 6.68,
         "Payer Name": "Kyle Avery",
         "CC Number": 6531339539615499,
         "Payment ID": "Sat6651",
         "_deepnote_index_column": 26
        },
        {
         "total_bill": 12.69,
         "tip": 2,
         "sex": "Male",
         "smoker": "No",
         "day": "Sat",
         "time": "Dinner",
         "size": 2,
         "price_per_person": 6.34,
         "Payer Name": "Patrick Barber",
         "CC Number": 30155551880343,
         "Payment ID": "Sat394",
         "_deepnote_index_column": 27
        },
        {
         "total_bill": 21.7,
         "tip": 4.3,
         "sex": "Male",
         "smoker": "No",
         "day": "Sat",
         "time": "Dinner",
         "size": 2,
         "price_per_person": 10.85,
         "Payer Name": "David Collier",
         "CC Number": 5529694315416009,
         "Payment ID": "Sat3697",
         "_deepnote_index_column": 28
        },
        {
         "total_bill": 9.55,
         "tip": 1.45,
         "sex": "Male",
         "smoker": "No",
         "day": "Sat",
         "time": "Dinner",
         "size": 2,
         "price_per_person": 4.78,
         "Payer Name": "Grant Hall",
         "CC Number": 30196517521548,
         "Payment ID": "Sat4099",
         "_deepnote_index_column": 30
        },
        {
         "total_bill": 18.35,
         "tip": 2.5,
         "sex": "Male",
         "smoker": "No",
         "day": "Sat",
         "time": "Dinner",
         "size": 4,
         "price_per_person": 4.59,
         "Payer Name": "Danny Santiago",
         "CC Number": 630415546013,
         "Payment ID": "Sat4947",
         "_deepnote_index_column": 31
        },
        {
         "total_bill": 17.78,
         "tip": 3.27,
         "sex": "Male",
         "smoker": "No",
         "day": "Sat",
         "time": "Dinner",
         "size": 2,
         "price_per_person": 8.89,
         "Payer Name": "Jacob Castillo",
         "CC Number": 3551492000704805,
         "Payment ID": "Sat8124",
         "_deepnote_index_column": 34
        },
        {
         "total_bill": 24.06,
         "tip": 3.6,
         "sex": "Male",
         "smoker": "No",
         "day": "Sat",
         "time": "Dinner",
         "size": 3,
         "price_per_person": 8.02,
         "Payer Name": "Joseph Mullins",
         "CC Number": 5519770449260299,
         "Payment ID": "Sat632",
         "_deepnote_index_column": 35
        },
        {
         "total_bill": 16.31,
         "tip": 2,
         "sex": "Male",
         "smoker": "No",
         "day": "Sat",
         "time": "Dinner",
         "size": 3,
         "price_per_person": 5.44,
         "Payer Name": "William Ford",
         "CC Number": 3527691170179398,
         "Payment ID": "Sat9139",
         "_deepnote_index_column": 36
        },
        {
         "total_bill": 18.69,
         "tip": 2.31,
         "sex": "Male",
         "smoker": "No",
         "day": "Sat",
         "time": "Dinner",
         "size": 3,
         "price_per_person": 6.23,
         "Payer Name": "Brandon Bradley",
         "CC Number": 4427601595688633,
         "Payment ID": "Sat4056",
         "_deepnote_index_column": 38
        },
        {
         "total_bill": 31.27,
         "tip": 5,
         "sex": "Male",
         "smoker": "No",
         "day": "Sat",
         "time": "Dinner",
         "size": 3,
         "price_per_person": 10.42,
         "Payer Name": "Mr. Brandon Berry",
         "CC Number": 6011525851069856,
         "Payment ID": "Sat6373",
         "_deepnote_index_column": 39
        },
        {
         "total_bill": 16.04,
         "tip": 2.24,
         "sex": "Male",
         "smoker": "No",
         "day": "Sat",
         "time": "Dinner",
         "size": 3,
         "price_per_person": 5.35,
         "Payer Name": "Adam Edwards",
         "CC Number": 3544447755679420,
         "Payment ID": "Sat8549",
         "_deepnote_index_column": 40
        },
        {
         "total_bill": 17.46,
         "tip": 2.54,
         "sex": "Male",
         "smoker": "No",
         "day": "Sun",
         "time": "Dinner",
         "size": 2,
         "price_per_person": 8.73,
         "Payer Name": "David Boyer",
         "CC Number": 3536678244278149,
         "Payment ID": "Sun9460",
         "_deepnote_index_column": 41
        },
        {
         "total_bill": 13.94,
         "tip": 3.06,
         "sex": "Male",
         "smoker": "No",
         "day": "Sun",
         "time": "Dinner",
         "size": 2,
         "price_per_person": 6.97,
         "Payer Name": "Bryan Brown",
         "CC Number": 36231182760859,
         "Payment ID": "Sun1699",
         "_deepnote_index_column": 42
        },
        {
         "total_bill": 9.68,
         "tip": 1.32,
         "sex": "Male",
         "smoker": "No",
         "day": "Sun",
         "time": "Dinner",
         "size": 2,
         "price_per_person": 4.84,
         "Payer Name": "Christopher Spears",
         "CC Number": 4387671121369212,
         "Payment ID": "Sun3279",
         "_deepnote_index_column": 43
        },
        {
         "total_bill": 30.4,
         "tip": 5.6,
         "sex": "Male",
         "smoker": "No",
         "day": "Sun",
         "time": "Dinner",
         "size": 4,
         "price_per_person": 7.6,
         "Payer Name": "Todd Cooper",
         "CC Number": 503846761263,
         "Payment ID": "Sun2274",
         "_deepnote_index_column": 44
        },
        {
         "total_bill": 18.29,
         "tip": 3,
         "sex": "Male",
         "smoker": "No",
         "day": "Sun",
         "time": "Dinner",
         "size": 2,
         "price_per_person": 9.14,
         "Payer Name": "Richard Fitzgerald",
         "CC Number": 375156610762053,
         "Payment ID": "Sun8643",
         "_deepnote_index_column": 45
        },
        {
         "total_bill": 22.23,
         "tip": 5,
         "sex": "Male",
         "smoker": "No",
         "day": "Sun",
         "time": "Dinner",
         "size": 2,
         "price_per_person": 11.12,
         "Payer Name": "Joshua Gilmore",
         "CC Number": 4292072734899,
         "Payment ID": "Sun7097",
         "_deepnote_index_column": 46
        },
        {
         "total_bill": 32.4,
         "tip": 6,
         "sex": "Male",
         "smoker": "No",
         "day": "Sun",
         "time": "Dinner",
         "size": 4,
         "price_per_person": 8.1,
         "Payer Name": "James Barnes",
         "CC Number": 3552002592874186,
         "Payment ID": "Sun9677",
         "_deepnote_index_column": 47
        },
        {
         "total_bill": 28.55,
         "tip": 2.05,
         "sex": "Male",
         "smoker": "No",
         "day": "Sun",
         "time": "Dinner",
         "size": 3,
         "price_per_person": 9.52,
         "Payer Name": "Austin Fisher",
         "CC Number": 6011481668986587,
         "Payment ID": "Sun4142",
         "_deepnote_index_column": 48
        },
        {
         "total_bill": 18.04,
         "tip": 3,
         "sex": "Male",
         "smoker": "No",
         "day": "Sun",
         "time": "Dinner",
         "size": 2,
         "price_per_person": 9.02,
         "Payer Name": "William Roth",
         "CC Number": 6573923967142503,
         "Payment ID": "Sun9774",
         "_deepnote_index_column": 49
        },
        {
         "total_bill": 12.54,
         "tip": 2.5,
         "sex": "Male",
         "smoker": "No",
         "day": "Sun",
         "time": "Dinner",
         "size": 2,
         "price_per_person": 6.27,
         "Payer Name": "Jeremiah Neal",
         "CC Number": 2225400829691416,
         "Payment ID": "Sun2021",
         "_deepnote_index_column": 50
        },
        {
         "total_bill": 9.94,
         "tip": 1.56,
         "sex": "Male",
         "smoker": "No",
         "day": "Sun",
         "time": "Dinner",
         "size": 2,
         "price_per_person": 4.97,
         "Payer Name": "Curtis Morgan",
         "CC Number": 4628628020417301,
         "Payment ID": "Sun4561",
         "_deepnote_index_column": 53
        },
        {
         "total_bill": 25.56,
         "tip": 4.34,
         "sex": "Male",
         "smoker": "No",
         "day": "Sun",
         "time": "Dinner",
         "size": 4,
         "price_per_person": 6.39,
         "Payer Name": "Ronald Owens",
         "CC Number": 6569607991983380,
         "Payment ID": "Sun9470",
         "_deepnote_index_column": 54
        },
        {
         "total_bill": 19.49,
         "tip": 3.51,
         "sex": "Male",
         "smoker": "No",
         "day": "Sun",
         "time": "Dinner",
         "size": 2,
         "price_per_person": 9.74,
         "Payer Name": "Michael Hamilton",
         "CC Number": 6502227786581768,
         "Payment ID": "Sun1118",
         "_deepnote_index_column": 55
        },
        {
         "total_bill": 38.01,
         "tip": 3,
         "sex": "Male",
         "smoker": "Yes",
         "day": "Sat",
         "time": "Dinner",
         "size": 4,
         "price_per_person": 9.5,
         "Payer Name": "James Christensen DDS",
         "CC Number": 349793629453226,
         "Payment ID": "Sat8903",
         "_deepnote_index_column": 56
        },
        {
         "total_bill": 11.24,
         "tip": 1.76,
         "sex": "Male",
         "smoker": "Yes",
         "day": "Sat",
         "time": "Dinner",
         "size": 2,
         "price_per_person": 5.62,
         "Payer Name": "Troy Guerrero",
         "CC Number": 3560782621035582,
         "Payment ID": "Sat6683",
         "_deepnote_index_column": 58
        },
        {
         "total_bill": 48.27,
         "tip": 6.73,
         "sex": "Male",
         "smoker": "No",
         "day": "Sat",
         "time": "Dinner",
         "size": 4,
         "price_per_person": 12.07,
         "Payer Name": "Brian Ortiz",
         "CC Number": 6596453823950595,
         "Payment ID": "Sat8139",
         "_deepnote_index_column": 59
        }
       ],
       "rows_bottom": [
        {
         "total_bill": 17.89,
         "tip": 2,
         "sex": "Male",
         "smoker": "Yes",
         "day": "Sun",
         "time": "Dinner",
         "size": 2,
         "price_per_person": 8.94,
         "Payer Name": "Walter Simmons",
         "CC Number": 6011481578696110,
         "Payment ID": "Sun5961",
         "_deepnote_index_column": 176
        },
        {
         "total_bill": 14.48,
         "tip": 2,
         "sex": "Male",
         "smoker": "Yes",
         "day": "Sun",
         "time": "Dinner",
         "size": 2,
         "price_per_person": 7.24,
         "Payer Name": "John Dudley",
         "CC Number": 4565183162071073,
         "Payment ID": "Sun6203",
         "_deepnote_index_column": 177
        },
        {
         "total_bill": 34.63,
         "tip": 3.55,
         "sex": "Male",
         "smoker": "Yes",
         "day": "Sun",
         "time": "Dinner",
         "size": 2,
         "price_per_person": 17.32,
         "Payer Name": "Brian Bailey",
         "CC Number": 346656312114848,
         "Payment ID": "Sun9851",
         "_deepnote_index_column": 179
        },
        {
         "total_bill": 34.65,
         "tip": 3.68,
         "sex": "Male",
         "smoker": "Yes",
         "day": "Sun",
         "time": "Dinner",
         "size": 4,
         "price_per_person": 8.66,
         "Payer Name": "James Hebert DDS",
         "CC Number": 676168737648,
         "Payment ID": "Sun7544",
         "_deepnote_index_column": 180
        },
        {
         "total_bill": 23.33,
         "tip": 5.65,
         "sex": "Male",
         "smoker": "Yes",
         "day": "Sun",
         "time": "Dinner",
         "size": 2,
         "price_per_person": 11.66,
         "Payer Name": "Jason Cox",
         "CC Number": 6556931703586223,
         "Payment ID": "Sun3402",
         "_deepnote_index_column": 181
        },
        {
         "total_bill": 45.35,
         "tip": 3.5,
         "sex": "Male",
         "smoker": "Yes",
         "day": "Sun",
         "time": "Dinner",
         "size": 3,
         "price_per_person": 15.12,
         "Payer Name": "Jose Parsons",
         "CC Number": 4112207559459910,
         "Payment ID": "Sun2337",
         "_deepnote_index_column": 182
        },
        {
         "total_bill": 23.17,
         "tip": 6.5,
         "sex": "Male",
         "smoker": "Yes",
         "day": "Sun",
         "time": "Dinner",
         "size": 4,
         "price_per_person": 5.79,
         "Payer Name": "Dr. Michael James",
         "CC Number": 4718501859162,
         "Payment ID": "Sun6059",
         "_deepnote_index_column": 183
        },
        {
         "total_bill": 40.55,
         "tip": 3,
         "sex": "Male",
         "smoker": "Yes",
         "day": "Sun",
         "time": "Dinner",
         "size": 2,
         "price_per_person": 20.27,
         "Payer Name": "Stephen Cox",
         "CC Number": 3547798222044029,
         "Payment ID": "Sun5140",
         "_deepnote_index_column": 184
        },
        {
         "total_bill": 20.69,
         "tip": 5,
         "sex": "Male",
         "smoker": "No",
         "day": "Sun",
         "time": "Dinner",
         "size": 5,
         "price_per_person": 4.14,
         "Payer Name": "Joseph Howell",
         "CC Number": 30362407455623,
         "Payment ID": "Sun5842",
         "_deepnote_index_column": 185
        },
        {
         "total_bill": 30.46,
         "tip": 2,
         "sex": "Male",
         "smoker": "Yes",
         "day": "Sun",
         "time": "Dinner",
         "size": 5,
         "price_per_person": 6.09,
         "Payer Name": "David Barrett",
         "CC Number": 4792882899700988,
         "Payment ID": "Sun9987",
         "_deepnote_index_column": 187
        },
        {
         "total_bill": 23.1,
         "tip": 4,
         "sex": "Male",
         "smoker": "Yes",
         "day": "Sun",
         "time": "Dinner",
         "size": 3,
         "price_per_person": 7.7,
         "Payer Name": "Richard Stevens",
         "CC Number": 3560193117506187,
         "Payment ID": "Sun1821",
         "_deepnote_index_column": 189
        },
        {
         "total_bill": 15.69,
         "tip": 1.5,
         "sex": "Male",
         "smoker": "Yes",
         "day": "Sun",
         "time": "Dinner",
         "size": 2,
         "price_per_person": 7.84,
         "Payer Name": "Riley Barnes",
         "CC Number": 180053549128800,
         "Payment ID": "Sun5104",
         "_deepnote_index_column": 190
        },
        {
         "total_bill": 28.44,
         "tip": 2.56,
         "sex": "Male",
         "smoker": "Yes",
         "day": "Thur",
         "time": "Lunch",
         "size": 2,
         "price_per_person": 14.22,
         "Payer Name": "Dr. Jeffrey Rich",
         "CC Number": 4737538358295,
         "Payment ID": "Thur4334",
         "_deepnote_index_column": 192
        },
        {
         "total_bill": 15.48,
         "tip": 2.02,
         "sex": "Male",
         "smoker": "Yes",
         "day": "Thur",
         "time": "Lunch",
         "size": 2,
         "price_per_person": 7.74,
         "Payer Name": "Raymond Sullivan",
         "CC Number": 180068856139315,
         "Payment ID": "Thur606",
         "_deepnote_index_column": 193
        },
        {
         "total_bill": 16.58,
         "tip": 4,
         "sex": "Male",
         "smoker": "Yes",
         "day": "Thur",
         "time": "Lunch",
         "size": 2,
         "price_per_person": 8.29,
         "Payer Name": "Benjamin Weber",
         "CC Number": 676210011505,
         "Payment ID": "Thur9318",
         "_deepnote_index_column": 194
        },
        {
         "total_bill": 7.56,
         "tip": 1.44,
         "sex": "Male",
         "smoker": "No",
         "day": "Thur",
         "time": "Lunch",
         "size": 2,
         "price_per_person": 3.78,
         "Payer Name": "Michael White",
         "CC Number": 4865390263095532,
         "Payment ID": "Thur697",
         "_deepnote_index_column": 195
        },
        {
         "total_bill": 10.34,
         "tip": 2,
         "sex": "Male",
         "smoker": "Yes",
         "day": "Thur",
         "time": "Lunch",
         "size": 2,
         "price_per_person": 5.17,
         "Payer Name": "Eric Martin",
         "CC Number": 30442491190342,
         "Payment ID": "Thur9862",
         "_deepnote_index_column": 196
        },
        {
         "total_bill": 13.51,
         "tip": 2,
         "sex": "Male",
         "smoker": "Yes",
         "day": "Thur",
         "time": "Lunch",
         "size": 2,
         "price_per_person": 6.76,
         "Payer Name": "Joseph Murphy MD",
         "CC Number": 6547218923471275,
         "Payment ID": "Thur2428",
         "_deepnote_index_column": 199
        },
        {
         "total_bill": 18.71,
         "tip": 4,
         "sex": "Male",
         "smoker": "Yes",
         "day": "Thur",
         "time": "Lunch",
         "size": 3,
         "price_per_person": 6.24,
         "Payer Name": "Jason Conrad",
         "CC Number": 4581233003487,
         "Payment ID": "Thur6048",
         "_deepnote_index_column": 200
        },
        {
         "total_bill": 20.53,
         "tip": 4,
         "sex": "Male",
         "smoker": "Yes",
         "day": "Thur",
         "time": "Lunch",
         "size": 4,
         "price_per_person": 5.13,
         "Payer Name": "Scott Kim",
         "CC Number": 3570611756827620,
         "Payment ID": "Thur2160",
         "_deepnote_index_column": 204
        },
        {
         "total_bill": 26.59,
         "tip": 3.41,
         "sex": "Male",
         "smoker": "Yes",
         "day": "Sat",
         "time": "Dinner",
         "size": 3,
         "price_per_person": 8.86,
         "Payer Name": "Daniel Owens",
         "CC Number": 38971087967574,
         "Payment ID": "Sat1",
         "_deepnote_index_column": 206
        },
        {
         "total_bill": 38.73,
         "tip": 3,
         "sex": "Male",
         "smoker": "Yes",
         "day": "Sat",
         "time": "Dinner",
         "size": 4,
         "price_per_person": 9.68,
         "Payer Name": "Ricky Ramirez",
         "CC Number": 347817964484033,
         "Payment ID": "Sat4505",
         "_deepnote_index_column": 207
        },
        {
         "total_bill": 24.27,
         "tip": 2.03,
         "sex": "Male",
         "smoker": "Yes",
         "day": "Sat",
         "time": "Dinner",
         "size": 2,
         "price_per_person": 12.14,
         "Payer Name": "Jason Carter",
         "CC Number": 4268942915626180,
         "Payment ID": "Sat6048",
         "_deepnote_index_column": 208
        },
        {
         "total_bill": 30.06,
         "tip": 2,
         "sex": "Male",
         "smoker": "Yes",
         "day": "Sat",
         "time": "Dinner",
         "size": 3,
         "price_per_person": 10.02,
         "Payer Name": "Shawn Mendoza",
         "CC Number": 30184049218122,
         "Payment ID": "Sat8361",
         "_deepnote_index_column": 210
        },
        {
         "total_bill": 25.89,
         "tip": 5.16,
         "sex": "Male",
         "smoker": "Yes",
         "day": "Sat",
         "time": "Dinner",
         "size": 4,
         "price_per_person": 6.47,
         "Payer Name": "Christopher Li",
         "CC Number": 6011962464150569,
         "Payment ID": "Sat6735",
         "_deepnote_index_column": 211
        },
        {
         "total_bill": 48.33,
         "tip": 9,
         "sex": "Male",
         "smoker": "No",
         "day": "Sat",
         "time": "Dinner",
         "size": 4,
         "price_per_person": 12.08,
         "Payer Name": "Alex Williamson",
         "CC Number": 676218815212,
         "Payment ID": "Sat4590",
         "_deepnote_index_column": 212
        },
        {
         "total_bill": 28.15,
         "tip": 3,
         "sex": "Male",
         "smoker": "Yes",
         "day": "Sat",
         "time": "Dinner",
         "size": 5,
         "price_per_person": 5.63,
         "Payer Name": "Shawn Barnett PhD",
         "CC Number": 4590982568244,
         "Payment ID": "Sat7320",
         "_deepnote_index_column": 216
        },
        {
         "total_bill": 11.59,
         "tip": 1.5,
         "sex": "Male",
         "smoker": "Yes",
         "day": "Sat",
         "time": "Dinner",
         "size": 2,
         "price_per_person": 5.8,
         "Payer Name": "Gary Orr",
         "CC Number": 30324521283406,
         "Payment ID": "Sat8489",
         "_deepnote_index_column": 217
        },
        {
         "total_bill": 7.74,
         "tip": 1.44,
         "sex": "Male",
         "smoker": "Yes",
         "day": "Sat",
         "time": "Dinner",
         "size": 2,
         "price_per_person": 3.87,
         "Payer Name": "Nicholas Archer",
         "CC Number": 340517153733524,
         "Payment ID": "Sat4772",
         "_deepnote_index_column": 218
        },
        {
         "total_bill": 12.16,
         "tip": 2.2,
         "sex": "Male",
         "smoker": "Yes",
         "day": "Fri",
         "time": "Lunch",
         "size": 2,
         "price_per_person": 6.08,
         "Payer Name": "Ricky Johnson",
         "CC Number": 213109508670736,
         "Payment ID": "Fri4607",
         "_deepnote_index_column": 220
        },
        {
         "total_bill": 8.58,
         "tip": 1.92,
         "sex": "Male",
         "smoker": "Yes",
         "day": "Fri",
         "time": "Lunch",
         "size": 1,
         "price_per_person": 8.58,
         "Payer Name": "Jason Lawrence",
         "CC Number": 3505302934650403,
         "Payment ID": "Fri6624",
         "_deepnote_index_column": 222
        },
        {
         "total_bill": 13.42,
         "tip": 1.58,
         "sex": "Male",
         "smoker": "Yes",
         "day": "Fri",
         "time": "Lunch",
         "size": 2,
         "price_per_person": 6.71,
         "Payer Name": "Ronald Vaughn DVM",
         "CC Number": 341503466406403,
         "Payment ID": "Fri5959",
         "_deepnote_index_column": 224
        },
        {
         "total_bill": 20.45,
         "tip": 3,
         "sex": "Male",
         "smoker": "No",
         "day": "Sat",
         "time": "Dinner",
         "size": 4,
         "price_per_person": 5.11,
         "Payer Name": "Robert Bradley",
         "CC Number": 213141668145910,
         "Payment ID": "Sat4319",
         "_deepnote_index_column": 227
        },
        {
         "total_bill": 13.28,
         "tip": 2.72,
         "sex": "Male",
         "smoker": "No",
         "day": "Sat",
         "time": "Dinner",
         "size": 2,
         "price_per_person": 6.64,
         "Payer Name": "Glenn Jones",
         "CC Number": 502061651712,
         "Payment ID": "Sat2937",
         "_deepnote_index_column": 228
        },
        {
         "total_bill": 24.01,
         "tip": 2,
         "sex": "Male",
         "smoker": "Yes",
         "day": "Sat",
         "time": "Dinner",
         "size": 4,
         "price_per_person": 6,
         "Payer Name": "Michael Osborne",
         "CC Number": 4258682154026,
         "Payment ID": "Sat7872",
         "_deepnote_index_column": 230
        },
        {
         "total_bill": 15.69,
         "tip": 3,
         "sex": "Male",
         "smoker": "Yes",
         "day": "Sat",
         "time": "Dinner",
         "size": 3,
         "price_per_person": 5.23,
         "Payer Name": "Jason Parks",
         "CC Number": 4812333796161,
         "Payment ID": "Sat6334",
         "_deepnote_index_column": 231
        },
        {
         "total_bill": 11.61,
         "tip": 3.39,
         "sex": "Male",
         "smoker": "No",
         "day": "Sat",
         "time": "Dinner",
         "size": 2,
         "price_per_person": 5.8,
         "Payer Name": "James Taylor",
         "CC Number": 6011482917327995,
         "Payment ID": "Sat2124",
         "_deepnote_index_column": 232
        },
        {
         "total_bill": 10.77,
         "tip": 1.47,
         "sex": "Male",
         "smoker": "No",
         "day": "Sat",
         "time": "Dinner",
         "size": 2,
         "price_per_person": 5.38,
         "Payer Name": "Paul Novak",
         "CC Number": 6011698897610858,
         "Payment ID": "Sat1467",
         "_deepnote_index_column": 233
        },
        {
         "total_bill": 15.53,
         "tip": 3,
         "sex": "Male",
         "smoker": "Yes",
         "day": "Sat",
         "time": "Dinner",
         "size": 2,
         "price_per_person": 7.76,
         "Payer Name": "Tracy Douglas",
         "CC Number": 4097938155941930,
         "Payment ID": "Sat7220",
         "_deepnote_index_column": 234
        },
        {
         "total_bill": 10.07,
         "tip": 1.25,
         "sex": "Male",
         "smoker": "No",
         "day": "Sat",
         "time": "Dinner",
         "size": 2,
         "price_per_person": 5.04,
         "Payer Name": "Sean Gonzalez",
         "CC Number": 3534021246117605,
         "Payment ID": "Sat4615",
         "_deepnote_index_column": 235
        },
        {
         "total_bill": 12.6,
         "tip": 1,
         "sex": "Male",
         "smoker": "Yes",
         "day": "Sat",
         "time": "Dinner",
         "size": 2,
         "price_per_person": 6.3,
         "Payer Name": "Matthew Myers",
         "CC Number": 3543676378973965,
         "Payment ID": "Sat5032",
         "_deepnote_index_column": 236
        },
        {
         "total_bill": 32.83,
         "tip": 1.17,
         "sex": "Male",
         "smoker": "Yes",
         "day": "Sat",
         "time": "Dinner",
         "size": 2,
         "price_per_person": 16.42,
         "Payer Name": "Thomas Brown",
         "CC Number": 4284722681265508,
         "Payment ID": "Sat2929",
         "_deepnote_index_column": 237
        },
        {
         "total_bill": 29.03,
         "tip": 5.92,
         "sex": "Male",
         "smoker": "No",
         "day": "Sat",
         "time": "Dinner",
         "size": 3,
         "price_per_person": 9.68,
         "Payer Name": "Michael Avila",
         "CC Number": 5296068606052842,
         "Payment ID": "Sat2657",
         "_deepnote_index_column": 239
        },
        {
         "total_bill": 22.67,
         "tip": 2,
         "sex": "Male",
         "smoker": "Yes",
         "day": "Sat",
         "time": "Dinner",
         "size": 2,
         "price_per_person": 11.34,
         "Payer Name": "Keith Wong",
         "CC Number": 6011891618747196,
         "Payment ID": "Sat3880",
         "_deepnote_index_column": 241
        },
        {
         "total_bill": 17.82,
         "tip": 1.75,
         "sex": "Male",
         "smoker": "No",
         "day": "Sat",
         "time": "Dinner",
         "size": 2,
         "price_per_person": 8.91,
         "Payer Name": "Dennis Dixon",
         "CC Number": 4375220550950,
         "Payment ID": "Sat17",
         "_deepnote_index_column": 242
        }
       ]
      },
      "text/plain": "     total_bill   tip   sex smoker  day    time  size  price_per_person  \\\n1         10.34  1.66  Male     No  Sun  Dinner     3              3.45   \n2         21.01  3.50  Male     No  Sun  Dinner     3              7.00   \n3         23.68  3.31  Male     No  Sun  Dinner     2             11.84   \n5         25.29  4.71  Male     No  Sun  Dinner     4              6.32   \n6          8.77  2.00  Male     No  Sun  Dinner     2              4.38   \n..          ...   ...   ...    ...  ...     ...   ...               ...   \n236       12.60  1.00  Male    Yes  Sat  Dinner     2              6.30   \n237       32.83  1.17  Male    Yes  Sat  Dinner     2             16.42   \n239       29.03  5.92  Male     No  Sat  Dinner     3              9.68   \n241       22.67  2.00  Male    Yes  Sat  Dinner     2             11.34   \n242       17.82  1.75  Male     No  Sat  Dinner     2              8.91   \n\n             Payer Name         CC Number Payment ID  \n1        Douglas Tucker  4478071379779230    Sun4608  \n2        Travis Walters  6011812112971322    Sun4458  \n3      Nathaniel Harris  4676137647685994    Sun5260  \n5            Erik Smith   213140353657882    Sun9679  \n6    Kristopher Johnson  2223727524230344    Sun5985  \n..                  ...               ...        ...  \n236       Matthew Myers  3543676378973965    Sat5032  \n237        Thomas Brown  4284722681265508    Sat2929  \n239       Michael Avila  5296068606052842    Sat2657  \n241          Keith Wong  6011891618747196    Sat3880  \n242        Dennis Dixon     4375220550950      Sat17  \n\n[157 rows x 11 columns]",
      "text/html": "<div>\n<style scoped>\n    .dataframe tbody tr th:only-of-type {\n        vertical-align: middle;\n    }\n\n    .dataframe tbody tr th {\n        vertical-align: top;\n    }\n\n    .dataframe thead th {\n        text-align: right;\n    }\n</style>\n<table border=\"1\" class=\"dataframe\">\n  <thead>\n    <tr style=\"text-align: right;\">\n      <th></th>\n      <th>total_bill</th>\n      <th>tip</th>\n      <th>sex</th>\n      <th>smoker</th>\n      <th>day</th>\n      <th>time</th>\n      <th>size</th>\n      <th>price_per_person</th>\n      <th>Payer Name</th>\n      <th>CC Number</th>\n      <th>Payment ID</th>\n    </tr>\n  </thead>\n  <tbody>\n    <tr>\n      <th>1</th>\n      <td>10.34</td>\n      <td>1.66</td>\n      <td>Male</td>\n      <td>No</td>\n      <td>Sun</td>\n      <td>Dinner</td>\n      <td>3</td>\n      <td>3.45</td>\n      <td>Douglas Tucker</td>\n      <td>4478071379779230</td>\n      <td>Sun4608</td>\n    </tr>\n    <tr>\n      <th>2</th>\n      <td>21.01</td>\n      <td>3.50</td>\n      <td>Male</td>\n      <td>No</td>\n      <td>Sun</td>\n      <td>Dinner</td>\n      <td>3</td>\n      <td>7.00</td>\n      <td>Travis Walters</td>\n      <td>6011812112971322</td>\n      <td>Sun4458</td>\n    </tr>\n    <tr>\n      <th>3</th>\n      <td>23.68</td>\n      <td>3.31</td>\n      <td>Male</td>\n      <td>No</td>\n      <td>Sun</td>\n      <td>Dinner</td>\n      <td>2</td>\n      <td>11.84</td>\n      <td>Nathaniel Harris</td>\n      <td>4676137647685994</td>\n      <td>Sun5260</td>\n    </tr>\n    <tr>\n      <th>5</th>\n      <td>25.29</td>\n      <td>4.71</td>\n      <td>Male</td>\n      <td>No</td>\n      <td>Sun</td>\n      <td>Dinner</td>\n      <td>4</td>\n      <td>6.32</td>\n      <td>Erik Smith</td>\n      <td>213140353657882</td>\n      <td>Sun9679</td>\n    </tr>\n    <tr>\n      <th>6</th>\n      <td>8.77</td>\n      <td>2.00</td>\n      <td>Male</td>\n      <td>No</td>\n      <td>Sun</td>\n      <td>Dinner</td>\n      <td>2</td>\n      <td>4.38</td>\n      <td>Kristopher Johnson</td>\n      <td>2223727524230344</td>\n      <td>Sun5985</td>\n    </tr>\n    <tr>\n      <th>...</th>\n      <td>...</td>\n      <td>...</td>\n      <td>...</td>\n      <td>...</td>\n      <td>...</td>\n      <td>...</td>\n      <td>...</td>\n      <td>...</td>\n      <td>...</td>\n      <td>...</td>\n      <td>...</td>\n    </tr>\n    <tr>\n      <th>236</th>\n      <td>12.60</td>\n      <td>1.00</td>\n      <td>Male</td>\n      <td>Yes</td>\n      <td>Sat</td>\n      <td>Dinner</td>\n      <td>2</td>\n      <td>6.30</td>\n      <td>Matthew Myers</td>\n      <td>3543676378973965</td>\n      <td>Sat5032</td>\n    </tr>\n    <tr>\n      <th>237</th>\n      <td>32.83</td>\n      <td>1.17</td>\n      <td>Male</td>\n      <td>Yes</td>\n      <td>Sat</td>\n      <td>Dinner</td>\n      <td>2</td>\n      <td>16.42</td>\n      <td>Thomas Brown</td>\n      <td>4284722681265508</td>\n      <td>Sat2929</td>\n    </tr>\n    <tr>\n      <th>239</th>\n      <td>29.03</td>\n      <td>5.92</td>\n      <td>Male</td>\n      <td>No</td>\n      <td>Sat</td>\n      <td>Dinner</td>\n      <td>3</td>\n      <td>9.68</td>\n      <td>Michael Avila</td>\n      <td>5296068606052842</td>\n      <td>Sat2657</td>\n    </tr>\n    <tr>\n      <th>241</th>\n      <td>22.67</td>\n      <td>2.00</td>\n      <td>Male</td>\n      <td>Yes</td>\n      <td>Sat</td>\n      <td>Dinner</td>\n      <td>2</td>\n      <td>11.34</td>\n      <td>Keith Wong</td>\n      <td>6011891618747196</td>\n      <td>Sat3880</td>\n    </tr>\n    <tr>\n      <th>242</th>\n      <td>17.82</td>\n      <td>1.75</td>\n      <td>Male</td>\n      <td>No</td>\n      <td>Sat</td>\n      <td>Dinner</td>\n      <td>2</td>\n      <td>8.91</td>\n      <td>Dennis Dixon</td>\n      <td>4375220550950</td>\n      <td>Sat17</td>\n    </tr>\n  </tbody>\n</table>\n<p>157 rows × 11 columns</p>\n</div>"
     },
     "metadata": {}
    }
   ],
   "execution_count": 6
  },
  {
   "cell_type": "code",
   "source": "#multiple conditions using and--both condition must be true\n#using or--either condition must be true",
   "metadata": {
    "tags": [],
    "cell_id": "00006-383965f3-4161-4372-a655-08ee32314f0a",
    "deepnote_to_be_reexecuted": false,
    "source_hash": "80177e41",
    "execution_start": 1622285026918,
    "deepnote_cell_type": "code"
   },
   "outputs": [],
   "execution_count": 7
  },
  {
   "cell_type": "code",
   "source": "df[(df['total_bill']>30) &  (df[\"sex\"]==\"Male\") ]",
   "metadata": {
    "tags": [],
    "cell_id": "00008-5c7a28ba-c920-4044-b5ea-c6fd8e9bba77",
    "deepnote_to_be_reexecuted": false,
    "source_hash": "6e01cb63",
    "execution_start": 1622285026939,
    "execution_millis": 226,
    "deepnote_cell_type": "code"
   },
   "outputs": [
    {
     "output_type": "execute_result",
     "execution_count": 8,
     "data": {
      "application/vnd.deepnote.dataframe.v2+json": {
       "row_count": 25,
       "column_count": 11,
       "columns": [
        {
         "name": "total_bill",
         "dtype": "float64",
         "stats": {
          "unique_count": 25,
          "nan_count": 0,
          "min": "30.06",
          "max": "50.81",
          "histogram": [
           {
            "bin_start": 30.06,
            "bin_end": 32.135,
            "count": 6
           },
           {
            "bin_start": 32.135,
            "bin_end": 34.21,
            "count": 4
           },
           {
            "bin_start": 34.21,
            "bin_end": 36.285,
            "count": 3
           },
           {
            "bin_start": 36.285,
            "bin_end": 38.36,
            "count": 2
           },
           {
            "bin_start": 38.36,
            "bin_end": 40.435,
            "count": 3
           },
           {
            "bin_start": 40.435,
            "bin_end": 42.51,
            "count": 2
           },
           {
            "bin_start": 42.51,
            "bin_end": 44.585,
            "count": 0
           },
           {
            "bin_start": 44.585,
            "bin_end": 46.66,
            "count": 1
           },
           {
            "bin_start": 46.66,
            "bin_end": 48.735,
            "count": 3
           },
           {
            "bin_start": 48.735,
            "bin_end": 50.81,
            "count": 1
           }
          ]
         }
        },
        {
         "name": "tip",
         "dtype": "float64",
         "stats": {
          "unique_count": 19,
          "nan_count": 0,
          "min": "1.17",
          "max": "10.0",
          "histogram": [
           {
            "bin_start": 1.17,
            "bin_end": 2.053,
            "count": 3
           },
           {
            "bin_start": 2.053,
            "bin_end": 2.936,
            "count": 0
           },
           {
            "bin_start": 2.936,
            "bin_end": 3.819,
            "count": 8
           },
           {
            "bin_start": 3.819,
            "bin_end": 4.702,
            "count": 2
           },
           {
            "bin_start": 4.702,
            "bin_end": 5.585,
            "count": 5
           },
           {
            "bin_start": 5.585,
            "bin_end": 6.468,
            "count": 2
           },
           {
            "bin_start": 6.468,
            "bin_end": 7.351,
            "count": 2
           },
           {
            "bin_start": 7.351,
            "bin_end": 8.234,
            "count": 1
           },
           {
            "bin_start": 8.234,
            "bin_end": 9.117,
            "count": 1
           },
           {
            "bin_start": 9.117,
            "bin_end": 10,
            "count": 1
           }
          ]
         }
        },
        {
         "name": "sex",
         "dtype": "object",
         "stats": {
          "unique_count": 1,
          "nan_count": 0,
          "categories": [
           {
            "name": "Male",
            "count": 25
           }
          ]
         }
        },
        {
         "name": "smoker",
         "dtype": "object",
         "stats": {
          "unique_count": 2,
          "nan_count": 0,
          "categories": [
           {
            "name": "Yes",
            "count": 14
           },
           {
            "name": "No",
            "count": 11
           }
          ]
         }
        },
        {
         "name": "day",
         "dtype": "object",
         "stats": {
          "unique_count": 4,
          "nan_count": 0,
          "categories": [
           {
            "name": "Sun",
            "count": 12
           },
           {
            "name": "Sat",
            "count": 9
           },
           {
            "name": "2 others",
            "count": 4
           }
          ]
         }
        },
        {
         "name": "time",
         "dtype": "object",
         "stats": {
          "unique_count": 2,
          "nan_count": 0,
          "categories": [
           {
            "name": "Dinner",
            "count": 22
           },
           {
            "name": "Lunch",
            "count": 3
           }
          ]
         }
        },
        {
         "name": "size",
         "dtype": "int64",
         "stats": {
          "unique_count": 5,
          "nan_count": 0,
          "min": "2",
          "max": "6",
          "histogram": [
           {
            "bin_start": 2,
            "bin_end": 2.4,
            "count": 6
           },
           {
            "bin_start": 2.4,
            "bin_end": 2.8,
            "count": 0
           },
           {
            "bin_start": 2.8,
            "bin_end": 3.2,
            "count": 5
           },
           {
            "bin_start": 3.2,
            "bin_end": 3.6,
            "count": 0
           },
           {
            "bin_start": 3.6,
            "bin_end": 4,
            "count": 0
           },
           {
            "bin_start": 4,
            "bin_end": 4.4,
            "count": 10
           },
           {
            "bin_start": 4.4,
            "bin_end": 4.800000000000001,
            "count": 0
           },
           {
            "bin_start": 4.800000000000001,
            "bin_end": 5.2,
            "count": 2
           },
           {
            "bin_start": 5.2,
            "bin_end": 5.6,
            "count": 0
           },
           {
            "bin_start": 5.6,
            "bin_end": 6,
            "count": 2
           }
          ]
         }
        },
        {
         "name": "price_per_person",
         "dtype": "float64",
         "stats": {
          "unique_count": 25,
          "nan_count": 0,
          "min": "5.72",
          "max": "20.27",
          "histogram": [
           {
            "bin_start": 5.72,
            "bin_end": 7.175,
            "count": 2
           },
           {
            "bin_start": 7.175,
            "bin_end": 8.629999999999999,
            "count": 5
           },
           {
            "bin_start": 8.629999999999999,
            "bin_end": 10.085,
            "count": 6
           },
           {
            "bin_start": 10.085,
            "bin_end": 11.54,
            "count": 1
           },
           {
            "bin_start": 11.54,
            "bin_end": 12.995000000000001,
            "count": 3
           },
           {
            "bin_start": 12.995000000000001,
            "bin_end": 14.45,
            "count": 0
           },
           {
            "bin_start": 14.45,
            "bin_end": 15.905000000000001,
            "count": 1
           },
           {
            "bin_start": 15.905000000000001,
            "bin_end": 17.36,
            "count": 6
           },
           {
            "bin_start": 17.36,
            "bin_end": 18.815,
            "count": 0
           },
           {
            "bin_start": 18.815,
            "bin_end": 20.27,
            "count": 1
           }
          ]
         }
        },
        {
         "name": "Payer Name",
         "dtype": "object",
         "stats": {
          "unique_count": 25,
          "nan_count": 0,
          "categories": [
           {
            "name": "Lance Peterson",
            "count": 1
           },
           {
            "name": "Mr. Brandon Berry",
            "count": 1
           },
           {
            "name": "23 others",
            "count": 23
           }
          ]
         }
        },
        {
         "name": "CC Number",
         "dtype": "int64",
         "stats": {
          "unique_count": 25,
          "nan_count": 0,
          "min": "503846761263",
          "max": "6596453823950595",
          "histogram": [
           {
            "bin_start": 503846761263,
            "bin_end": 660098844480196.2,
            "count": 9
           },
           {
            "bin_start": 660098844480196.2,
            "bin_end": 1319693842199129.5,
            "count": 0
           },
           {
            "bin_start": 1319693842199129.5,
            "bin_end": 1979288839918062.8,
            "count": 0
           },
           {
            "bin_start": 1979288839918062.8,
            "bin_end": 2638883837636996,
            "count": 0
           },
           {
            "bin_start": 2638883837636996,
            "bin_end": 3298478835355929,
            "count": 0
           },
           {
            "bin_start": 3298478835355929,
            "bin_end": 3958073833074862.5,
            "count": 8
           },
           {
            "bin_start": 3958073833074862.5,
            "bin_end": 4617668830793796,
            "count": 3
           },
           {
            "bin_start": 4617668830793796,
            "bin_end": 5277263828512729,
            "count": 1
           },
           {
            "bin_start": 5277263828512729,
            "bin_end": 5936858826231662,
            "count": 2
           },
           {
            "bin_start": 5936858826231662,
            "bin_end": 6596453823950595,
            "count": 2
           }
          ]
         }
        },
        {
         "name": "Payment ID",
         "dtype": "object",
         "stats": {
          "unique_count": 25,
          "nan_count": 0,
          "categories": [
           {
            "name": "Sat239",
            "count": 1
           },
           {
            "name": "Sat6373",
            "count": 1
           },
           {
            "name": "23 others",
            "count": 23
           }
          ]
         }
        },
        {
         "name": "_deepnote_index_column",
         "dtype": "int64"
        }
       ],
       "rows_top": [
        {
         "total_bill": 39.42,
         "tip": 7.58,
         "sex": "Male",
         "smoker": "No",
         "day": "Sat",
         "time": "Dinner",
         "size": 4,
         "price_per_person": 9.86,
         "Payer Name": "Lance Peterson",
         "CC Number": 3542584061609808,
         "Payment ID": "Sat239",
         "_deepnote_index_column": 23
        },
        {
         "total_bill": 31.27,
         "tip": 5,
         "sex": "Male",
         "smoker": "No",
         "day": "Sat",
         "time": "Dinner",
         "size": 3,
         "price_per_person": 10.42,
         "Payer Name": "Mr. Brandon Berry",
         "CC Number": 6011525851069856,
         "Payment ID": "Sat6373",
         "_deepnote_index_column": 39
        },
        {
         "total_bill": 30.4,
         "tip": 5.6,
         "sex": "Male",
         "smoker": "No",
         "day": "Sun",
         "time": "Dinner",
         "size": 4,
         "price_per_person": 7.6,
         "Payer Name": "Todd Cooper",
         "CC Number": 503846761263,
         "Payment ID": "Sun2274",
         "_deepnote_index_column": 44
        },
        {
         "total_bill": 32.4,
         "tip": 6,
         "sex": "Male",
         "smoker": "No",
         "day": "Sun",
         "time": "Dinner",
         "size": 4,
         "price_per_person": 8.1,
         "Payer Name": "James Barnes",
         "CC Number": 3552002592874186,
         "Payment ID": "Sun9677",
         "_deepnote_index_column": 47
        },
        {
         "total_bill": 38.01,
         "tip": 3,
         "sex": "Male",
         "smoker": "Yes",
         "day": "Sat",
         "time": "Dinner",
         "size": 4,
         "price_per_person": 9.5,
         "Payer Name": "James Christensen DDS",
         "CC Number": 349793629453226,
         "Payment ID": "Sat8903",
         "_deepnote_index_column": 56
        },
        {
         "total_bill": 48.27,
         "tip": 6.73,
         "sex": "Male",
         "smoker": "No",
         "day": "Sat",
         "time": "Dinner",
         "size": 4,
         "price_per_person": 12.07,
         "Payer Name": "Brian Ortiz",
         "CC Number": 6596453823950595,
         "Payment ID": "Sat8139",
         "_deepnote_index_column": 59
        },
        {
         "total_bill": 32.68,
         "tip": 5,
         "sex": "Male",
         "smoker": "Yes",
         "day": "Thur",
         "time": "Lunch",
         "size": 2,
         "price_per_person": 16.34,
         "Payer Name": "Daniel Murphy",
         "CC Number": 5356177501009133,
         "Payment ID": "Thur8801",
         "_deepnote_index_column": 83
        },
        {
         "total_bill": 40.17,
         "tip": 4.73,
         "sex": "Male",
         "smoker": "Yes",
         "day": "Fri",
         "time": "Dinner",
         "size": 4,
         "price_per_person": 10.04,
         "Payer Name": "Aaron Bentley",
         "CC Number": 180026611638690,
         "Payment ID": "Fri9628",
         "_deepnote_index_column": 95
        },
        {
         "total_bill": 38.07,
         "tip": 4,
         "sex": "Male",
         "smoker": "No",
         "day": "Sun",
         "time": "Dinner",
         "size": 3,
         "price_per_person": 12.69,
         "Payer Name": "Jeff Lopez",
         "CC Number": 3572865915176463,
         "Payment ID": "Sun591",
         "_deepnote_index_column": 112
        },
        {
         "total_bill": 34.3,
         "tip": 6.7,
         "sex": "Male",
         "smoker": "No",
         "day": "Thur",
         "time": "Lunch",
         "size": 6,
         "price_per_person": 5.72,
         "Payer Name": "Steven Carlson",
         "CC Number": 3526515703718508,
         "Payment ID": "Thur1025",
         "_deepnote_index_column": 141
        },
        {
         "total_bill": 41.19,
         "tip": 5,
         "sex": "Male",
         "smoker": "No",
         "day": "Thur",
         "time": "Lunch",
         "size": 5,
         "price_per_person": 8.24,
         "Payer Name": "Eric Andrews",
         "CC Number": 4356531761046453,
         "Payment ID": "Thur3621",
         "_deepnote_index_column": 142
        },
        {
         "total_bill": 48.17,
         "tip": 5,
         "sex": "Male",
         "smoker": "No",
         "day": "Sun",
         "time": "Dinner",
         "size": 6,
         "price_per_person": 8.03,
         "Payer Name": "Ryan Gonzales",
         "CC Number": 3523151482063321,
         "Payment ID": "Sun7518",
         "_deepnote_index_column": 156
        },
        {
         "total_bill": 31.71,
         "tip": 4.5,
         "sex": "Male",
         "smoker": "No",
         "day": "Sun",
         "time": "Dinner",
         "size": 4,
         "price_per_person": 7.93,
         "Payer Name": "Michael Lawson",
         "CC Number": 3566285921227119,
         "Payment ID": "Sun3719",
         "_deepnote_index_column": 167
        },
        {
         "total_bill": 50.81,
         "tip": 10,
         "sex": "Male",
         "smoker": "Yes",
         "day": "Sat",
         "time": "Dinner",
         "size": 3,
         "price_per_person": 16.94,
         "Payer Name": "Gregory Clark",
         "CC Number": 5473850968388236,
         "Payment ID": "Sat1954",
         "_deepnote_index_column": 170
        },
        {
         "total_bill": 31.85,
         "tip": 3.18,
         "sex": "Male",
         "smoker": "Yes",
         "day": "Sun",
         "time": "Dinner",
         "size": 2,
         "price_per_person": 15.92,
         "Payer Name": "Scott Perez",
         "CC Number": 3577115550328507,
         "Payment ID": "Sun9335",
         "_deepnote_index_column": 173
        },
        {
         "total_bill": 32.9,
         "tip": 3.11,
         "sex": "Male",
         "smoker": "Yes",
         "day": "Sun",
         "time": "Dinner",
         "size": 2,
         "price_per_person": 16.45,
         "Payer Name": "Nathan Reynolds",
         "CC Number": 370307040837149,
         "Payment ID": "Sun5109",
         "_deepnote_index_column": 175
        },
        {
         "total_bill": 34.63,
         "tip": 3.55,
         "sex": "Male",
         "smoker": "Yes",
         "day": "Sun",
         "time": "Dinner",
         "size": 2,
         "price_per_person": 17.32,
         "Payer Name": "Brian Bailey",
         "CC Number": 346656312114848,
         "Payment ID": "Sun9851",
         "_deepnote_index_column": 179
        },
        {
         "total_bill": 34.65,
         "tip": 3.68,
         "sex": "Male",
         "smoker": "Yes",
         "day": "Sun",
         "time": "Dinner",
         "size": 4,
         "price_per_person": 8.66,
         "Payer Name": "James Hebert DDS",
         "CC Number": 676168737648,
         "Payment ID": "Sun7544",
         "_deepnote_index_column": 180
        },
        {
         "total_bill": 45.35,
         "tip": 3.5,
         "sex": "Male",
         "smoker": "Yes",
         "day": "Sun",
         "time": "Dinner",
         "size": 3,
         "price_per_person": 15.12,
         "Payer Name": "Jose Parsons",
         "CC Number": 4112207559459910,
         "Payment ID": "Sun2337",
         "_deepnote_index_column": 182
        },
        {
         "total_bill": 40.55,
         "tip": 3,
         "sex": "Male",
         "smoker": "Yes",
         "day": "Sun",
         "time": "Dinner",
         "size": 2,
         "price_per_person": 20.27,
         "Payer Name": "Stephen Cox",
         "CC Number": 3547798222044029,
         "Payment ID": "Sun5140",
         "_deepnote_index_column": 184
        },
        {
         "total_bill": 30.46,
         "tip": 2,
         "sex": "Male",
         "smoker": "Yes",
         "day": "Sun",
         "time": "Dinner",
         "size": 5,
         "price_per_person": 6.09,
         "Payer Name": "David Barrett",
         "CC Number": 4792882899700988,
         "Payment ID": "Sun9987",
         "_deepnote_index_column": 187
        },
        {
         "total_bill": 38.73,
         "tip": 3,
         "sex": "Male",
         "smoker": "Yes",
         "day": "Sat",
         "time": "Dinner",
         "size": 4,
         "price_per_person": 9.68,
         "Payer Name": "Ricky Ramirez",
         "CC Number": 347817964484033,
         "Payment ID": "Sat4505",
         "_deepnote_index_column": 207
        },
        {
         "total_bill": 30.06,
         "tip": 2,
         "sex": "Male",
         "smoker": "Yes",
         "day": "Sat",
         "time": "Dinner",
         "size": 3,
         "price_per_person": 10.02,
         "Payer Name": "Shawn Mendoza",
         "CC Number": 30184049218122,
         "Payment ID": "Sat8361",
         "_deepnote_index_column": 210
        },
        {
         "total_bill": 48.33,
         "tip": 9,
         "sex": "Male",
         "smoker": "No",
         "day": "Sat",
         "time": "Dinner",
         "size": 4,
         "price_per_person": 12.08,
         "Payer Name": "Alex Williamson",
         "CC Number": 676218815212,
         "Payment ID": "Sat4590",
         "_deepnote_index_column": 212
        },
        {
         "total_bill": 32.83,
         "tip": 1.17,
         "sex": "Male",
         "smoker": "Yes",
         "day": "Sat",
         "time": "Dinner",
         "size": 2,
         "price_per_person": 16.42,
         "Payer Name": "Thomas Brown",
         "CC Number": 4284722681265508,
         "Payment ID": "Sat2929",
         "_deepnote_index_column": 237
        }
       ],
       "rows_bottom": null
      },
      "text/plain": "     total_bill    tip   sex smoker   day    time  size  price_per_person  \\\n23        39.42   7.58  Male     No   Sat  Dinner     4              9.86   \n39        31.27   5.00  Male     No   Sat  Dinner     3             10.42   \n44        30.40   5.60  Male     No   Sun  Dinner     4              7.60   \n47        32.40   6.00  Male     No   Sun  Dinner     4              8.10   \n56        38.01   3.00  Male    Yes   Sat  Dinner     4              9.50   \n59        48.27   6.73  Male     No   Sat  Dinner     4             12.07   \n83        32.68   5.00  Male    Yes  Thur   Lunch     2             16.34   \n95        40.17   4.73  Male    Yes   Fri  Dinner     4             10.04   \n112       38.07   4.00  Male     No   Sun  Dinner     3             12.69   \n141       34.30   6.70  Male     No  Thur   Lunch     6              5.72   \n142       41.19   5.00  Male     No  Thur   Lunch     5              8.24   \n156       48.17   5.00  Male     No   Sun  Dinner     6              8.03   \n167       31.71   4.50  Male     No   Sun  Dinner     4              7.93   \n170       50.81  10.00  Male    Yes   Sat  Dinner     3             16.94   \n173       31.85   3.18  Male    Yes   Sun  Dinner     2             15.92   \n175       32.90   3.11  Male    Yes   Sun  Dinner     2             16.45   \n179       34.63   3.55  Male    Yes   Sun  Dinner     2             17.32   \n180       34.65   3.68  Male    Yes   Sun  Dinner     4              8.66   \n182       45.35   3.50  Male    Yes   Sun  Dinner     3             15.12   \n184       40.55   3.00  Male    Yes   Sun  Dinner     2             20.27   \n187       30.46   2.00  Male    Yes   Sun  Dinner     5              6.09   \n207       38.73   3.00  Male    Yes   Sat  Dinner     4              9.68   \n210       30.06   2.00  Male    Yes   Sat  Dinner     3             10.02   \n212       48.33   9.00  Male     No   Sat  Dinner     4             12.08   \n237       32.83   1.17  Male    Yes   Sat  Dinner     2             16.42   \n\n                Payer Name         CC Number Payment ID  \n23          Lance Peterson  3542584061609808     Sat239  \n39       Mr. Brandon Berry  6011525851069856    Sat6373  \n44             Todd Cooper      503846761263    Sun2274  \n47            James Barnes  3552002592874186    Sun9677  \n56   James Christensen DDS   349793629453226    Sat8903  \n59             Brian Ortiz  6596453823950595    Sat8139  \n83           Daniel Murphy  5356177501009133   Thur8801  \n95           Aaron Bentley   180026611638690    Fri9628  \n112             Jeff Lopez  3572865915176463     Sun591  \n141         Steven Carlson  3526515703718508   Thur1025  \n142           Eric Andrews  4356531761046453   Thur3621  \n156          Ryan Gonzales  3523151482063321    Sun7518  \n167         Michael Lawson  3566285921227119    Sun3719  \n170          Gregory Clark  5473850968388236    Sat1954  \n173            Scott Perez  3577115550328507    Sun9335  \n175        Nathan Reynolds   370307040837149    Sun5109  \n179           Brian Bailey   346656312114848    Sun9851  \n180       James Hebert DDS      676168737648    Sun7544  \n182           Jose Parsons  4112207559459910    Sun2337  \n184            Stephen Cox  3547798222044029    Sun5140  \n187          David Barrett  4792882899700988    Sun9987  \n207          Ricky Ramirez   347817964484033    Sat4505  \n210          Shawn Mendoza    30184049218122    Sat8361  \n212        Alex Williamson      676218815212    Sat4590  \n237           Thomas Brown  4284722681265508    Sat2929  ",
      "text/html": "<div>\n<style scoped>\n    .dataframe tbody tr th:only-of-type {\n        vertical-align: middle;\n    }\n\n    .dataframe tbody tr th {\n        vertical-align: top;\n    }\n\n    .dataframe thead th {\n        text-align: right;\n    }\n</style>\n<table border=\"1\" class=\"dataframe\">\n  <thead>\n    <tr style=\"text-align: right;\">\n      <th></th>\n      <th>total_bill</th>\n      <th>tip</th>\n      <th>sex</th>\n      <th>smoker</th>\n      <th>day</th>\n      <th>time</th>\n      <th>size</th>\n      <th>price_per_person</th>\n      <th>Payer Name</th>\n      <th>CC Number</th>\n      <th>Payment ID</th>\n    </tr>\n  </thead>\n  <tbody>\n    <tr>\n      <th>23</th>\n      <td>39.42</td>\n      <td>7.58</td>\n      <td>Male</td>\n      <td>No</td>\n      <td>Sat</td>\n      <td>Dinner</td>\n      <td>4</td>\n      <td>9.86</td>\n      <td>Lance Peterson</td>\n      <td>3542584061609808</td>\n      <td>Sat239</td>\n    </tr>\n    <tr>\n      <th>39</th>\n      <td>31.27</td>\n      <td>5.00</td>\n      <td>Male</td>\n      <td>No</td>\n      <td>Sat</td>\n      <td>Dinner</td>\n      <td>3</td>\n      <td>10.42</td>\n      <td>Mr. Brandon Berry</td>\n      <td>6011525851069856</td>\n      <td>Sat6373</td>\n    </tr>\n    <tr>\n      <th>44</th>\n      <td>30.40</td>\n      <td>5.60</td>\n      <td>Male</td>\n      <td>No</td>\n      <td>Sun</td>\n      <td>Dinner</td>\n      <td>4</td>\n      <td>7.60</td>\n      <td>Todd Cooper</td>\n      <td>503846761263</td>\n      <td>Sun2274</td>\n    </tr>\n    <tr>\n      <th>47</th>\n      <td>32.40</td>\n      <td>6.00</td>\n      <td>Male</td>\n      <td>No</td>\n      <td>Sun</td>\n      <td>Dinner</td>\n      <td>4</td>\n      <td>8.10</td>\n      <td>James Barnes</td>\n      <td>3552002592874186</td>\n      <td>Sun9677</td>\n    </tr>\n    <tr>\n      <th>56</th>\n      <td>38.01</td>\n      <td>3.00</td>\n      <td>Male</td>\n      <td>Yes</td>\n      <td>Sat</td>\n      <td>Dinner</td>\n      <td>4</td>\n      <td>9.50</td>\n      <td>James Christensen DDS</td>\n      <td>349793629453226</td>\n      <td>Sat8903</td>\n    </tr>\n    <tr>\n      <th>59</th>\n      <td>48.27</td>\n      <td>6.73</td>\n      <td>Male</td>\n      <td>No</td>\n      <td>Sat</td>\n      <td>Dinner</td>\n      <td>4</td>\n      <td>12.07</td>\n      <td>Brian Ortiz</td>\n      <td>6596453823950595</td>\n      <td>Sat8139</td>\n    </tr>\n    <tr>\n      <th>83</th>\n      <td>32.68</td>\n      <td>5.00</td>\n      <td>Male</td>\n      <td>Yes</td>\n      <td>Thur</td>\n      <td>Lunch</td>\n      <td>2</td>\n      <td>16.34</td>\n      <td>Daniel Murphy</td>\n      <td>5356177501009133</td>\n      <td>Thur8801</td>\n    </tr>\n    <tr>\n      <th>95</th>\n      <td>40.17</td>\n      <td>4.73</td>\n      <td>Male</td>\n      <td>Yes</td>\n      <td>Fri</td>\n      <td>Dinner</td>\n      <td>4</td>\n      <td>10.04</td>\n      <td>Aaron Bentley</td>\n      <td>180026611638690</td>\n      <td>Fri9628</td>\n    </tr>\n    <tr>\n      <th>112</th>\n      <td>38.07</td>\n      <td>4.00</td>\n      <td>Male</td>\n      <td>No</td>\n      <td>Sun</td>\n      <td>Dinner</td>\n      <td>3</td>\n      <td>12.69</td>\n      <td>Jeff Lopez</td>\n      <td>3572865915176463</td>\n      <td>Sun591</td>\n    </tr>\n    <tr>\n      <th>141</th>\n      <td>34.30</td>\n      <td>6.70</td>\n      <td>Male</td>\n      <td>No</td>\n      <td>Thur</td>\n      <td>Lunch</td>\n      <td>6</td>\n      <td>5.72</td>\n      <td>Steven Carlson</td>\n      <td>3526515703718508</td>\n      <td>Thur1025</td>\n    </tr>\n    <tr>\n      <th>142</th>\n      <td>41.19</td>\n      <td>5.00</td>\n      <td>Male</td>\n      <td>No</td>\n      <td>Thur</td>\n      <td>Lunch</td>\n      <td>5</td>\n      <td>8.24</td>\n      <td>Eric Andrews</td>\n      <td>4356531761046453</td>\n      <td>Thur3621</td>\n    </tr>\n    <tr>\n      <th>156</th>\n      <td>48.17</td>\n      <td>5.00</td>\n      <td>Male</td>\n      <td>No</td>\n      <td>Sun</td>\n      <td>Dinner</td>\n      <td>6</td>\n      <td>8.03</td>\n      <td>Ryan Gonzales</td>\n      <td>3523151482063321</td>\n      <td>Sun7518</td>\n    </tr>\n    <tr>\n      <th>167</th>\n      <td>31.71</td>\n      <td>4.50</td>\n      <td>Male</td>\n      <td>No</td>\n      <td>Sun</td>\n      <td>Dinner</td>\n      <td>4</td>\n      <td>7.93</td>\n      <td>Michael Lawson</td>\n      <td>3566285921227119</td>\n      <td>Sun3719</td>\n    </tr>\n    <tr>\n      <th>170</th>\n      <td>50.81</td>\n      <td>10.00</td>\n      <td>Male</td>\n      <td>Yes</td>\n      <td>Sat</td>\n      <td>Dinner</td>\n      <td>3</td>\n      <td>16.94</td>\n      <td>Gregory Clark</td>\n      <td>5473850968388236</td>\n      <td>Sat1954</td>\n    </tr>\n    <tr>\n      <th>173</th>\n      <td>31.85</td>\n      <td>3.18</td>\n      <td>Male</td>\n      <td>Yes</td>\n      <td>Sun</td>\n      <td>Dinner</td>\n      <td>2</td>\n      <td>15.92</td>\n      <td>Scott Perez</td>\n      <td>3577115550328507</td>\n      <td>Sun9335</td>\n    </tr>\n    <tr>\n      <th>175</th>\n      <td>32.90</td>\n      <td>3.11</td>\n      <td>Male</td>\n      <td>Yes</td>\n      <td>Sun</td>\n      <td>Dinner</td>\n      <td>2</td>\n      <td>16.45</td>\n      <td>Nathan Reynolds</td>\n      <td>370307040837149</td>\n      <td>Sun5109</td>\n    </tr>\n    <tr>\n      <th>179</th>\n      <td>34.63</td>\n      <td>3.55</td>\n      <td>Male</td>\n      <td>Yes</td>\n      <td>Sun</td>\n      <td>Dinner</td>\n      <td>2</td>\n      <td>17.32</td>\n      <td>Brian Bailey</td>\n      <td>346656312114848</td>\n      <td>Sun9851</td>\n    </tr>\n    <tr>\n      <th>180</th>\n      <td>34.65</td>\n      <td>3.68</td>\n      <td>Male</td>\n      <td>Yes</td>\n      <td>Sun</td>\n      <td>Dinner</td>\n      <td>4</td>\n      <td>8.66</td>\n      <td>James Hebert DDS</td>\n      <td>676168737648</td>\n      <td>Sun7544</td>\n    </tr>\n    <tr>\n      <th>182</th>\n      <td>45.35</td>\n      <td>3.50</td>\n      <td>Male</td>\n      <td>Yes</td>\n      <td>Sun</td>\n      <td>Dinner</td>\n      <td>3</td>\n      <td>15.12</td>\n      <td>Jose Parsons</td>\n      <td>4112207559459910</td>\n      <td>Sun2337</td>\n    </tr>\n    <tr>\n      <th>184</th>\n      <td>40.55</td>\n      <td>3.00</td>\n      <td>Male</td>\n      <td>Yes</td>\n      <td>Sun</td>\n      <td>Dinner</td>\n      <td>2</td>\n      <td>20.27</td>\n      <td>Stephen Cox</td>\n      <td>3547798222044029</td>\n      <td>Sun5140</td>\n    </tr>\n    <tr>\n      <th>187</th>\n      <td>30.46</td>\n      <td>2.00</td>\n      <td>Male</td>\n      <td>Yes</td>\n      <td>Sun</td>\n      <td>Dinner</td>\n      <td>5</td>\n      <td>6.09</td>\n      <td>David Barrett</td>\n      <td>4792882899700988</td>\n      <td>Sun9987</td>\n    </tr>\n    <tr>\n      <th>207</th>\n      <td>38.73</td>\n      <td>3.00</td>\n      <td>Male</td>\n      <td>Yes</td>\n      <td>Sat</td>\n      <td>Dinner</td>\n      <td>4</td>\n      <td>9.68</td>\n      <td>Ricky Ramirez</td>\n      <td>347817964484033</td>\n      <td>Sat4505</td>\n    </tr>\n    <tr>\n      <th>210</th>\n      <td>30.06</td>\n      <td>2.00</td>\n      <td>Male</td>\n      <td>Yes</td>\n      <td>Sat</td>\n      <td>Dinner</td>\n      <td>3</td>\n      <td>10.02</td>\n      <td>Shawn Mendoza</td>\n      <td>30184049218122</td>\n      <td>Sat8361</td>\n    </tr>\n    <tr>\n      <th>212</th>\n      <td>48.33</td>\n      <td>9.00</td>\n      <td>Male</td>\n      <td>No</td>\n      <td>Sat</td>\n      <td>Dinner</td>\n      <td>4</td>\n      <td>12.08</td>\n      <td>Alex Williamson</td>\n      <td>676218815212</td>\n      <td>Sat4590</td>\n    </tr>\n    <tr>\n      <th>237</th>\n      <td>32.83</td>\n      <td>1.17</td>\n      <td>Male</td>\n      <td>Yes</td>\n      <td>Sat</td>\n      <td>Dinner</td>\n      <td>2</td>\n      <td>16.42</td>\n      <td>Thomas Brown</td>\n      <td>4284722681265508</td>\n      <td>Sat2929</td>\n    </tr>\n  </tbody>\n</table>\n</div>"
     },
     "metadata": {}
    }
   ],
   "execution_count": 8
  },
  {
   "cell_type": "code",
   "source": "options=[\"Sat\",\"Sun\"]\ndf[df[\"day\"].isin(options)]",
   "metadata": {
    "tags": [],
    "cell_id": "00009-a911e594-33f5-4686-adf3-e09a17b97b01",
    "deepnote_to_be_reexecuted": false,
    "source_hash": "5dc99ce4",
    "execution_start": 1622285057289,
    "execution_millis": 90,
    "deepnote_cell_type": "code"
   },
   "outputs": [
    {
     "output_type": "execute_result",
     "execution_count": 10,
     "data": {
      "application/vnd.deepnote.dataframe.v2+json": {
       "row_count": 163,
       "column_count": 11,
       "columns": [
        {
         "name": "total_bill",
         "dtype": "float64",
         "stats": {
          "unique_count": 156,
          "nan_count": 0,
          "min": "3.07",
          "max": "50.81",
          "histogram": [
           {
            "bin_start": 3.07,
            "bin_end": 7.843999999999999,
            "count": 4
           },
           {
            "bin_start": 7.843999999999999,
            "bin_end": 12.618,
            "count": 21
           },
           {
            "bin_start": 12.618,
            "bin_end": 17.392,
            "count": 42
           },
           {
            "bin_start": 17.392,
            "bin_end": 22.166,
            "count": 38
           },
           {
            "bin_start": 22.166,
            "bin_end": 26.94,
            "count": 25
           },
           {
            "bin_start": 26.94,
            "bin_end": 31.714,
            "count": 13
           },
           {
            "bin_start": 31.714,
            "bin_end": 36.488,
            "count": 9
           },
           {
            "bin_start": 36.488,
            "bin_end": 41.262,
            "count": 5
           },
           {
            "bin_start": 41.262,
            "bin_end": 46.036,
            "count": 2
           },
           {
            "bin_start": 46.036,
            "bin_end": 50.81,
            "count": 4
           }
          ]
         }
        },
        {
         "name": "tip",
         "dtype": "float64",
         "stats": {
          "unique_count": 98,
          "nan_count": 0,
          "min": "1.0",
          "max": "10.0",
          "histogram": [
           {
            "bin_start": 1,
            "bin_end": 1.9,
            "count": 24
           },
           {
            "bin_start": 1.9,
            "bin_end": 2.8,
            "count": 49
           },
           {
            "bin_start": 2.8,
            "bin_end": 3.7,
            "count": 49
           },
           {
            "bin_start": 3.7,
            "bin_end": 4.6,
            "count": 18
           },
           {
            "bin_start": 4.6,
            "bin_end": 5.5,
            "count": 13
           },
           {
            "bin_start": 5.5,
            "bin_end": 6.4,
            "count": 4
           },
           {
            "bin_start": 6.4,
            "bin_end": 7.3,
            "count": 3
           },
           {
            "bin_start": 7.3,
            "bin_end": 8.2,
            "count": 1
           },
           {
            "bin_start": 8.2,
            "bin_end": 9.1,
            "count": 1
           },
           {
            "bin_start": 9.1,
            "bin_end": 10,
            "count": 1
           }
          ]
         }
        },
        {
         "name": "sex",
         "dtype": "object",
         "stats": {
          "unique_count": 2,
          "nan_count": 0,
          "categories": [
           {
            "name": "Male",
            "count": 117
           },
           {
            "name": "Female",
            "count": 46
           }
          ]
         }
        },
        {
         "name": "smoker",
         "dtype": "object",
         "stats": {
          "unique_count": 2,
          "nan_count": 0,
          "categories": [
           {
            "name": "No",
            "count": 102
           },
           {
            "name": "Yes",
            "count": 61
           }
          ]
         }
        },
        {
         "name": "day",
         "dtype": "object",
         "stats": {
          "unique_count": 2,
          "nan_count": 0,
          "categories": [
           {
            "name": "Sat",
            "count": 87
           },
           {
            "name": "Sun",
            "count": 76
           }
          ]
         }
        },
        {
         "name": "time",
         "dtype": "object",
         "stats": {
          "unique_count": 1,
          "nan_count": 0,
          "categories": [
           {
            "name": "Dinner",
            "count": 163
           }
          ]
         }
        },
        {
         "name": "size",
         "dtype": "int64",
         "stats": {
          "unique_count": 6,
          "nan_count": 0,
          "min": "1",
          "max": "6",
          "histogram": [
           {
            "bin_start": 1,
            "bin_end": 1.5,
            "count": 2
           },
           {
            "bin_start": 1.5,
            "bin_end": 2,
            "count": 0
           },
           {
            "bin_start": 2,
            "bin_end": 2.5,
            "count": 92
           },
           {
            "bin_start": 2.5,
            "bin_end": 3,
            "count": 0
           },
           {
            "bin_start": 3,
            "bin_end": 3.5,
            "count": 33
           },
           {
            "bin_start": 3.5,
            "bin_end": 4,
            "count": 0
           },
           {
            "bin_start": 4,
            "bin_end": 4.5,
            "count": 31
           },
           {
            "bin_start": 4.5,
            "bin_end": 5,
            "count": 0
           },
           {
            "bin_start": 5,
            "bin_end": 5.5,
            "count": 4
           },
           {
            "bin_start": 5.5,
            "bin_end": 6,
            "count": 1
           }
          ]
         }
        },
        {
         "name": "price_per_person",
         "dtype": "float64",
         "stats": {
          "unique_count": 153,
          "nan_count": 0,
          "min": "3.07",
          "max": "20.27",
          "histogram": [
           {
            "bin_start": 3.07,
            "bin_end": 4.79,
            "count": 13
           },
           {
            "bin_start": 4.79,
            "bin_end": 6.51,
            "count": 48
           },
           {
            "bin_start": 6.51,
            "bin_end": 8.23,
            "count": 40
           },
           {
            "bin_start": 8.23,
            "bin_end": 9.95,
            "count": 27
           },
           {
            "bin_start": 9.95,
            "bin_end": 11.67,
            "count": 15
           },
           {
            "bin_start": 11.67,
            "bin_end": 13.39,
            "count": 10
           },
           {
            "bin_start": 13.39,
            "bin_end": 15.11,
            "count": 3
           },
           {
            "bin_start": 15.11,
            "bin_end": 16.83,
            "count": 4
           },
           {
            "bin_start": 16.83,
            "bin_end": 18.55,
            "count": 2
           },
           {
            "bin_start": 18.55,
            "bin_end": 20.27,
            "count": 1
           }
          ]
         }
        },
        {
         "name": "Payer Name",
         "dtype": "object",
         "stats": {
          "unique_count": 163,
          "nan_count": 0,
          "categories": [
           {
            "name": "Christy Cunningham",
            "count": 1
           },
           {
            "name": "Douglas Tucker",
            "count": 1
           },
           {
            "name": "161 others",
            "count": 161
           }
          ]
         }
        },
        {
         "name": "CC Number",
         "dtype": "int64",
         "stats": {
          "unique_count": 163,
          "nan_count": 0,
          "min": "60406789937",
          "max": "6596453823950595",
          "histogram": [
           {
            "bin_start": 60406789937,
            "bin_end": 659699748506002.8,
            "count": 72
           },
           {
            "bin_start": 659699748506002.8,
            "bin_end": 1319339090222068.5,
            "count": 0
           },
           {
            "bin_start": 1319339090222068.5,
            "bin_end": 1978978431938134.2,
            "count": 0
           },
           {
            "bin_start": 1978978431938134.2,
            "bin_end": 2638617773654200,
            "count": 3
           },
           {
            "bin_start": 2638617773654200,
            "bin_end": 3298257115370266,
            "count": 0
           },
           {
            "bin_start": 3298257115370266,
            "bin_end": 3957896457086331.5,
            "count": 29
           },
           {
            "bin_start": 3957896457086331.5,
            "bin_end": 4617535798802397,
            "count": 21
           },
           {
            "bin_start": 4617535798802397,
            "bin_end": 5277175140518463,
            "count": 10
           },
           {
            "bin_start": 5277175140518463,
            "bin_end": 5936814482234529,
            "count": 10
           },
           {
            "bin_start": 5936814482234529,
            "bin_end": 6596453823950595,
            "count": 18
           }
          ]
         }
        },
        {
         "name": "Payment ID",
         "dtype": "object",
         "stats": {
          "unique_count": 163,
          "nan_count": 0,
          "categories": [
           {
            "name": "Sun2959",
            "count": 1
           },
           {
            "name": "Sun4608",
            "count": 1
           },
           {
            "name": "161 others",
            "count": 161
           }
          ]
         }
        },
        {
         "name": "_deepnote_index_column",
         "dtype": "int64"
        }
       ],
       "rows_top": [
        {
         "total_bill": 16.99,
         "tip": 1.01,
         "sex": "Female",
         "smoker": "No",
         "day": "Sun",
         "time": "Dinner",
         "size": 2,
         "price_per_person": 8.49,
         "Payer Name": "Christy Cunningham",
         "CC Number": 3560325168603410,
         "Payment ID": "Sun2959",
         "_deepnote_index_column": 0
        },
        {
         "total_bill": 10.34,
         "tip": 1.66,
         "sex": "Male",
         "smoker": "No",
         "day": "Sun",
         "time": "Dinner",
         "size": 3,
         "price_per_person": 3.45,
         "Payer Name": "Douglas Tucker",
         "CC Number": 4478071379779230,
         "Payment ID": "Sun4608",
         "_deepnote_index_column": 1
        },
        {
         "total_bill": 21.01,
         "tip": 3.5,
         "sex": "Male",
         "smoker": "No",
         "day": "Sun",
         "time": "Dinner",
         "size": 3,
         "price_per_person": 7,
         "Payer Name": "Travis Walters",
         "CC Number": 6011812112971322,
         "Payment ID": "Sun4458",
         "_deepnote_index_column": 2
        },
        {
         "total_bill": 23.68,
         "tip": 3.31,
         "sex": "Male",
         "smoker": "No",
         "day": "Sun",
         "time": "Dinner",
         "size": 2,
         "price_per_person": 11.84,
         "Payer Name": "Nathaniel Harris",
         "CC Number": 4676137647685994,
         "Payment ID": "Sun5260",
         "_deepnote_index_column": 3
        },
        {
         "total_bill": 24.59,
         "tip": 3.61,
         "sex": "Female",
         "smoker": "No",
         "day": "Sun",
         "time": "Dinner",
         "size": 4,
         "price_per_person": 6.15,
         "Payer Name": "Tonya Carter",
         "CC Number": 4832732618637221,
         "Payment ID": "Sun2251",
         "_deepnote_index_column": 4
        },
        {
         "total_bill": 25.29,
         "tip": 4.71,
         "sex": "Male",
         "smoker": "No",
         "day": "Sun",
         "time": "Dinner",
         "size": 4,
         "price_per_person": 6.32,
         "Payer Name": "Erik Smith",
         "CC Number": 213140353657882,
         "Payment ID": "Sun9679",
         "_deepnote_index_column": 5
        },
        {
         "total_bill": 8.77,
         "tip": 2,
         "sex": "Male",
         "smoker": "No",
         "day": "Sun",
         "time": "Dinner",
         "size": 2,
         "price_per_person": 4.38,
         "Payer Name": "Kristopher Johnson",
         "CC Number": 2223727524230344,
         "Payment ID": "Sun5985",
         "_deepnote_index_column": 6
        },
        {
         "total_bill": 26.88,
         "tip": 3.12,
         "sex": "Male",
         "smoker": "No",
         "day": "Sun",
         "time": "Dinner",
         "size": 4,
         "price_per_person": 6.72,
         "Payer Name": "Robert Buck",
         "CC Number": 3514785077705092,
         "Payment ID": "Sun8157",
         "_deepnote_index_column": 7
        },
        {
         "total_bill": 15.04,
         "tip": 1.96,
         "sex": "Male",
         "smoker": "No",
         "day": "Sun",
         "time": "Dinner",
         "size": 2,
         "price_per_person": 7.52,
         "Payer Name": "Joseph Mcdonald",
         "CC Number": 3522866365840377,
         "Payment ID": "Sun6820",
         "_deepnote_index_column": 8
        },
        {
         "total_bill": 14.78,
         "tip": 3.23,
         "sex": "Male",
         "smoker": "No",
         "day": "Sun",
         "time": "Dinner",
         "size": 2,
         "price_per_person": 7.39,
         "Payer Name": "Jerome Abbott",
         "CC Number": 3532124519049786,
         "Payment ID": "Sun3775",
         "_deepnote_index_column": 9
        },
        {
         "total_bill": 10.27,
         "tip": 1.71,
         "sex": "Male",
         "smoker": "No",
         "day": "Sun",
         "time": "Dinner",
         "size": 2,
         "price_per_person": 5.14,
         "Payer Name": "William Riley",
         "CC Number": 566287581219,
         "Payment ID": "Sun2546",
         "_deepnote_index_column": 10
        },
        {
         "total_bill": 35.26,
         "tip": 5,
         "sex": "Female",
         "smoker": "No",
         "day": "Sun",
         "time": "Dinner",
         "size": 4,
         "price_per_person": 8.82,
         "Payer Name": "Diane Macias",
         "CC Number": 4577817359320969,
         "Payment ID": "Sun6686",
         "_deepnote_index_column": 11
        },
        {
         "total_bill": 15.42,
         "tip": 1.57,
         "sex": "Male",
         "smoker": "No",
         "day": "Sun",
         "time": "Dinner",
         "size": 2,
         "price_per_person": 7.71,
         "Payer Name": "Chad Harrington",
         "CC Number": 577040572932,
         "Payment ID": "Sun1300",
         "_deepnote_index_column": 12
        },
        {
         "total_bill": 18.43,
         "tip": 3,
         "sex": "Male",
         "smoker": "No",
         "day": "Sun",
         "time": "Dinner",
         "size": 4,
         "price_per_person": 4.61,
         "Payer Name": "Joshua Jones",
         "CC Number": 6011163105616890,
         "Payment ID": "Sun2971",
         "_deepnote_index_column": 13
        },
        {
         "total_bill": 14.83,
         "tip": 3.02,
         "sex": "Female",
         "smoker": "No",
         "day": "Sun",
         "time": "Dinner",
         "size": 2,
         "price_per_person": 7.42,
         "Payer Name": "Vanessa Jones",
         "CC Number": 30016702287574,
         "Payment ID": "Sun3848",
         "_deepnote_index_column": 14
        },
        {
         "total_bill": 21.58,
         "tip": 3.92,
         "sex": "Male",
         "smoker": "No",
         "day": "Sun",
         "time": "Dinner",
         "size": 2,
         "price_per_person": 10.79,
         "Payer Name": "Matthew Reilly",
         "CC Number": 180073029785069,
         "Payment ID": "Sun1878",
         "_deepnote_index_column": 15
        },
        {
         "total_bill": 10.33,
         "tip": 1.67,
         "sex": "Female",
         "smoker": "No",
         "day": "Sun",
         "time": "Dinner",
         "size": 3,
         "price_per_person": 3.44,
         "Payer Name": "Elizabeth Foster",
         "CC Number": 4240025044626033,
         "Payment ID": "Sun9715",
         "_deepnote_index_column": 16
        },
        {
         "total_bill": 16.29,
         "tip": 3.71,
         "sex": "Male",
         "smoker": "No",
         "day": "Sun",
         "time": "Dinner",
         "size": 3,
         "price_per_person": 5.43,
         "Payer Name": "John Pittman",
         "CC Number": 6521340257218708,
         "Payment ID": "Sun2998",
         "_deepnote_index_column": 17
        },
        {
         "total_bill": 16.97,
         "tip": 3.5,
         "sex": "Female",
         "smoker": "No",
         "day": "Sun",
         "time": "Dinner",
         "size": 3,
         "price_per_person": 5.66,
         "Payer Name": "Laura Martinez",
         "CC Number": 30422275171379,
         "Payment ID": "Sun2789",
         "_deepnote_index_column": 18
        },
        {
         "total_bill": 20.65,
         "tip": 3.35,
         "sex": "Male",
         "smoker": "No",
         "day": "Sat",
         "time": "Dinner",
         "size": 3,
         "price_per_person": 6.88,
         "Payer Name": "Timothy Oneal",
         "CC Number": 6568069240986485,
         "Payment ID": "Sat9213",
         "_deepnote_index_column": 19
        },
        {
         "total_bill": 17.92,
         "tip": 4.08,
         "sex": "Male",
         "smoker": "No",
         "day": "Sat",
         "time": "Dinner",
         "size": 2,
         "price_per_person": 8.96,
         "Payer Name": "Thomas Rice",
         "CC Number": 4403296224639756,
         "Payment ID": "Sat1709",
         "_deepnote_index_column": 20
        },
        {
         "total_bill": 20.29,
         "tip": 2.75,
         "sex": "Female",
         "smoker": "No",
         "day": "Sat",
         "time": "Dinner",
         "size": 2,
         "price_per_person": 10.14,
         "Payer Name": "Natalie Gardner",
         "CC Number": 5448125351489749,
         "Payment ID": "Sat9618",
         "_deepnote_index_column": 21
        },
        {
         "total_bill": 15.77,
         "tip": 2.23,
         "sex": "Female",
         "smoker": "No",
         "day": "Sat",
         "time": "Dinner",
         "size": 2,
         "price_per_person": 7.88,
         "Payer Name": "Ashley Shelton",
         "CC Number": 3524119516293213,
         "Payment ID": "Sat9786",
         "_deepnote_index_column": 22
        },
        {
         "total_bill": 39.42,
         "tip": 7.58,
         "sex": "Male",
         "smoker": "No",
         "day": "Sat",
         "time": "Dinner",
         "size": 4,
         "price_per_person": 9.86,
         "Payer Name": "Lance Peterson",
         "CC Number": 3542584061609808,
         "Payment ID": "Sat239",
         "_deepnote_index_column": 23
        },
        {
         "total_bill": 19.82,
         "tip": 3.18,
         "sex": "Male",
         "smoker": "No",
         "day": "Sat",
         "time": "Dinner",
         "size": 2,
         "price_per_person": 9.91,
         "Payer Name": "Christopher Ross",
         "CC Number": 36739148167928,
         "Payment ID": "Sat6236",
         "_deepnote_index_column": 24
        },
        {
         "total_bill": 17.81,
         "tip": 2.34,
         "sex": "Male",
         "smoker": "No",
         "day": "Sat",
         "time": "Dinner",
         "size": 4,
         "price_per_person": 4.45,
         "Payer Name": "Robert Perkins",
         "CC Number": 30502930499388,
         "Payment ID": "Sat907",
         "_deepnote_index_column": 25
        },
        {
         "total_bill": 13.37,
         "tip": 2,
         "sex": "Male",
         "smoker": "No",
         "day": "Sat",
         "time": "Dinner",
         "size": 2,
         "price_per_person": 6.68,
         "Payer Name": "Kyle Avery",
         "CC Number": 6531339539615499,
         "Payment ID": "Sat6651",
         "_deepnote_index_column": 26
        },
        {
         "total_bill": 12.69,
         "tip": 2,
         "sex": "Male",
         "smoker": "No",
         "day": "Sat",
         "time": "Dinner",
         "size": 2,
         "price_per_person": 6.34,
         "Payer Name": "Patrick Barber",
         "CC Number": 30155551880343,
         "Payment ID": "Sat394",
         "_deepnote_index_column": 27
        },
        {
         "total_bill": 21.7,
         "tip": 4.3,
         "sex": "Male",
         "smoker": "No",
         "day": "Sat",
         "time": "Dinner",
         "size": 2,
         "price_per_person": 10.85,
         "Payer Name": "David Collier",
         "CC Number": 5529694315416009,
         "Payment ID": "Sat3697",
         "_deepnote_index_column": 28
        },
        {
         "total_bill": 19.65,
         "tip": 3,
         "sex": "Female",
         "smoker": "No",
         "day": "Sat",
         "time": "Dinner",
         "size": 2,
         "price_per_person": 9.82,
         "Payer Name": "Melinda Murphy",
         "CC Number": 5489272944576051,
         "Payment ID": "Sat2467",
         "_deepnote_index_column": 29
        },
        {
         "total_bill": 9.55,
         "tip": 1.45,
         "sex": "Male",
         "smoker": "No",
         "day": "Sat",
         "time": "Dinner",
         "size": 2,
         "price_per_person": 4.78,
         "Payer Name": "Grant Hall",
         "CC Number": 30196517521548,
         "Payment ID": "Sat4099",
         "_deepnote_index_column": 30
        },
        {
         "total_bill": 18.35,
         "tip": 2.5,
         "sex": "Male",
         "smoker": "No",
         "day": "Sat",
         "time": "Dinner",
         "size": 4,
         "price_per_person": 4.59,
         "Payer Name": "Danny Santiago",
         "CC Number": 630415546013,
         "Payment ID": "Sat4947",
         "_deepnote_index_column": 31
        },
        {
         "total_bill": 15.06,
         "tip": 3,
         "sex": "Female",
         "smoker": "No",
         "day": "Sat",
         "time": "Dinner",
         "size": 2,
         "price_per_person": 7.53,
         "Payer Name": "Amanda Wilson",
         "CC Number": 213186304291560,
         "Payment ID": "Sat1327",
         "_deepnote_index_column": 32
        },
        {
         "total_bill": 20.69,
         "tip": 2.45,
         "sex": "Female",
         "smoker": "No",
         "day": "Sat",
         "time": "Dinner",
         "size": 4,
         "price_per_person": 5.17,
         "Payer Name": "Amber Francis",
         "CC Number": 377742985258914,
         "Payment ID": "Sat6649",
         "_deepnote_index_column": 33
        },
        {
         "total_bill": 17.78,
         "tip": 3.27,
         "sex": "Male",
         "smoker": "No",
         "day": "Sat",
         "time": "Dinner",
         "size": 2,
         "price_per_person": 8.89,
         "Payer Name": "Jacob Castillo",
         "CC Number": 3551492000704805,
         "Payment ID": "Sat8124",
         "_deepnote_index_column": 34
        },
        {
         "total_bill": 24.06,
         "tip": 3.6,
         "sex": "Male",
         "smoker": "No",
         "day": "Sat",
         "time": "Dinner",
         "size": 3,
         "price_per_person": 8.02,
         "Payer Name": "Joseph Mullins",
         "CC Number": 5519770449260299,
         "Payment ID": "Sat632",
         "_deepnote_index_column": 35
        },
        {
         "total_bill": 16.31,
         "tip": 2,
         "sex": "Male",
         "smoker": "No",
         "day": "Sat",
         "time": "Dinner",
         "size": 3,
         "price_per_person": 5.44,
         "Payer Name": "William Ford",
         "CC Number": 3527691170179398,
         "Payment ID": "Sat9139",
         "_deepnote_index_column": 36
        },
        {
         "total_bill": 16.93,
         "tip": 3.07,
         "sex": "Female",
         "smoker": "No",
         "day": "Sat",
         "time": "Dinner",
         "size": 3,
         "price_per_person": 5.64,
         "Payer Name": "Erin Lewis",
         "CC Number": 5161695527390786,
         "Payment ID": "Sat6406",
         "_deepnote_index_column": 37
        },
        {
         "total_bill": 18.69,
         "tip": 2.31,
         "sex": "Male",
         "smoker": "No",
         "day": "Sat",
         "time": "Dinner",
         "size": 3,
         "price_per_person": 6.23,
         "Payer Name": "Brandon Bradley",
         "CC Number": 4427601595688633,
         "Payment ID": "Sat4056",
         "_deepnote_index_column": 38
        },
        {
         "total_bill": 31.27,
         "tip": 5,
         "sex": "Male",
         "smoker": "No",
         "day": "Sat",
         "time": "Dinner",
         "size": 3,
         "price_per_person": 10.42,
         "Payer Name": "Mr. Brandon Berry",
         "CC Number": 6011525851069856,
         "Payment ID": "Sat6373",
         "_deepnote_index_column": 39
        },
        {
         "total_bill": 16.04,
         "tip": 2.24,
         "sex": "Male",
         "smoker": "No",
         "day": "Sat",
         "time": "Dinner",
         "size": 3,
         "price_per_person": 5.35,
         "Payer Name": "Adam Edwards",
         "CC Number": 3544447755679420,
         "Payment ID": "Sat8549",
         "_deepnote_index_column": 40
        },
        {
         "total_bill": 17.46,
         "tip": 2.54,
         "sex": "Male",
         "smoker": "No",
         "day": "Sun",
         "time": "Dinner",
         "size": 2,
         "price_per_person": 8.73,
         "Payer Name": "David Boyer",
         "CC Number": 3536678244278149,
         "Payment ID": "Sun9460",
         "_deepnote_index_column": 41
        },
        {
         "total_bill": 13.94,
         "tip": 3.06,
         "sex": "Male",
         "smoker": "No",
         "day": "Sun",
         "time": "Dinner",
         "size": 2,
         "price_per_person": 6.97,
         "Payer Name": "Bryan Brown",
         "CC Number": 36231182760859,
         "Payment ID": "Sun1699",
         "_deepnote_index_column": 42
        },
        {
         "total_bill": 9.68,
         "tip": 1.32,
         "sex": "Male",
         "smoker": "No",
         "day": "Sun",
         "time": "Dinner",
         "size": 2,
         "price_per_person": 4.84,
         "Payer Name": "Christopher Spears",
         "CC Number": 4387671121369212,
         "Payment ID": "Sun3279",
         "_deepnote_index_column": 43
        },
        {
         "total_bill": 30.4,
         "tip": 5.6,
         "sex": "Male",
         "smoker": "No",
         "day": "Sun",
         "time": "Dinner",
         "size": 4,
         "price_per_person": 7.6,
         "Payer Name": "Todd Cooper",
         "CC Number": 503846761263,
         "Payment ID": "Sun2274",
         "_deepnote_index_column": 44
        }
       ],
       "rows_bottom": [
        {
         "total_bill": 17.89,
         "tip": 2,
         "sex": "Male",
         "smoker": "Yes",
         "day": "Sun",
         "time": "Dinner",
         "size": 2,
         "price_per_person": 8.94,
         "Payer Name": "Walter Simmons",
         "CC Number": 6011481578696110,
         "Payment ID": "Sun5961",
         "_deepnote_index_column": 176
        },
        {
         "total_bill": 14.48,
         "tip": 2,
         "sex": "Male",
         "smoker": "Yes",
         "day": "Sun",
         "time": "Dinner",
         "size": 2,
         "price_per_person": 7.24,
         "Payer Name": "John Dudley",
         "CC Number": 4565183162071073,
         "Payment ID": "Sun6203",
         "_deepnote_index_column": 177
        },
        {
         "total_bill": 9.6,
         "tip": 4,
         "sex": "Female",
         "smoker": "Yes",
         "day": "Sun",
         "time": "Dinner",
         "size": 2,
         "price_per_person": 4.8,
         "Payer Name": "Melanie Gray",
         "CC Number": 4211808859168,
         "Payment ID": "Sun4598",
         "_deepnote_index_column": 178
        },
        {
         "total_bill": 34.63,
         "tip": 3.55,
         "sex": "Male",
         "smoker": "Yes",
         "day": "Sun",
         "time": "Dinner",
         "size": 2,
         "price_per_person": 17.32,
         "Payer Name": "Brian Bailey",
         "CC Number": 346656312114848,
         "Payment ID": "Sun9851",
         "_deepnote_index_column": 179
        },
        {
         "total_bill": 34.65,
         "tip": 3.68,
         "sex": "Male",
         "smoker": "Yes",
         "day": "Sun",
         "time": "Dinner",
         "size": 4,
         "price_per_person": 8.66,
         "Payer Name": "James Hebert DDS",
         "CC Number": 676168737648,
         "Payment ID": "Sun7544",
         "_deepnote_index_column": 180
        },
        {
         "total_bill": 23.33,
         "tip": 5.65,
         "sex": "Male",
         "smoker": "Yes",
         "day": "Sun",
         "time": "Dinner",
         "size": 2,
         "price_per_person": 11.66,
         "Payer Name": "Jason Cox",
         "CC Number": 6556931703586223,
         "Payment ID": "Sun3402",
         "_deepnote_index_column": 181
        },
        {
         "total_bill": 45.35,
         "tip": 3.5,
         "sex": "Male",
         "smoker": "Yes",
         "day": "Sun",
         "time": "Dinner",
         "size": 3,
         "price_per_person": 15.12,
         "Payer Name": "Jose Parsons",
         "CC Number": 4112207559459910,
         "Payment ID": "Sun2337",
         "_deepnote_index_column": 182
        },
        {
         "total_bill": 23.17,
         "tip": 6.5,
         "sex": "Male",
         "smoker": "Yes",
         "day": "Sun",
         "time": "Dinner",
         "size": 4,
         "price_per_person": 5.79,
         "Payer Name": "Dr. Michael James",
         "CC Number": 4718501859162,
         "Payment ID": "Sun6059",
         "_deepnote_index_column": 183
        },
        {
         "total_bill": 40.55,
         "tip": 3,
         "sex": "Male",
         "smoker": "Yes",
         "day": "Sun",
         "time": "Dinner",
         "size": 2,
         "price_per_person": 20.27,
         "Payer Name": "Stephen Cox",
         "CC Number": 3547798222044029,
         "Payment ID": "Sun5140",
         "_deepnote_index_column": 184
        },
        {
         "total_bill": 20.69,
         "tip": 5,
         "sex": "Male",
         "smoker": "No",
         "day": "Sun",
         "time": "Dinner",
         "size": 5,
         "price_per_person": 4.14,
         "Payer Name": "Joseph Howell",
         "CC Number": 30362407455623,
         "Payment ID": "Sun5842",
         "_deepnote_index_column": 185
        },
        {
         "total_bill": 20.9,
         "tip": 3.5,
         "sex": "Female",
         "smoker": "Yes",
         "day": "Sun",
         "time": "Dinner",
         "size": 3,
         "price_per_person": 6.97,
         "Payer Name": "Heidi Atkinson",
         "CC Number": 4422858423131187,
         "Payment ID": "Sun4254",
         "_deepnote_index_column": 186
        },
        {
         "total_bill": 30.46,
         "tip": 2,
         "sex": "Male",
         "smoker": "Yes",
         "day": "Sun",
         "time": "Dinner",
         "size": 5,
         "price_per_person": 6.09,
         "Payer Name": "David Barrett",
         "CC Number": 4792882899700988,
         "Payment ID": "Sun9987",
         "_deepnote_index_column": 187
        },
        {
         "total_bill": 18.15,
         "tip": 3.5,
         "sex": "Female",
         "smoker": "Yes",
         "day": "Sun",
         "time": "Dinner",
         "size": 3,
         "price_per_person": 6.05,
         "Payer Name": "Glenda Wiggins",
         "CC Number": 578329325307,
         "Payment ID": "Sun430",
         "_deepnote_index_column": 188
        },
        {
         "total_bill": 23.1,
         "tip": 4,
         "sex": "Male",
         "smoker": "Yes",
         "day": "Sun",
         "time": "Dinner",
         "size": 3,
         "price_per_person": 7.7,
         "Payer Name": "Richard Stevens",
         "CC Number": 3560193117506187,
         "Payment ID": "Sun1821",
         "_deepnote_index_column": 189
        },
        {
         "total_bill": 15.69,
         "tip": 1.5,
         "sex": "Male",
         "smoker": "Yes",
         "day": "Sun",
         "time": "Dinner",
         "size": 2,
         "price_per_person": 7.84,
         "Payer Name": "Riley Barnes",
         "CC Number": 180053549128800,
         "Payment ID": "Sun5104",
         "_deepnote_index_column": 190
        },
        {
         "total_bill": 26.59,
         "tip": 3.41,
         "sex": "Male",
         "smoker": "Yes",
         "day": "Sat",
         "time": "Dinner",
         "size": 3,
         "price_per_person": 8.86,
         "Payer Name": "Daniel Owens",
         "CC Number": 38971087967574,
         "Payment ID": "Sat1",
         "_deepnote_index_column": 206
        },
        {
         "total_bill": 38.73,
         "tip": 3,
         "sex": "Male",
         "smoker": "Yes",
         "day": "Sat",
         "time": "Dinner",
         "size": 4,
         "price_per_person": 9.68,
         "Payer Name": "Ricky Ramirez",
         "CC Number": 347817964484033,
         "Payment ID": "Sat4505",
         "_deepnote_index_column": 207
        },
        {
         "total_bill": 24.27,
         "tip": 2.03,
         "sex": "Male",
         "smoker": "Yes",
         "day": "Sat",
         "time": "Dinner",
         "size": 2,
         "price_per_person": 12.14,
         "Payer Name": "Jason Carter",
         "CC Number": 4268942915626180,
         "Payment ID": "Sat6048",
         "_deepnote_index_column": 208
        },
        {
         "total_bill": 12.76,
         "tip": 2.23,
         "sex": "Female",
         "smoker": "Yes",
         "day": "Sat",
         "time": "Dinner",
         "size": 2,
         "price_per_person": 6.38,
         "Payer Name": "Sarah Cunningham",
         "CC Number": 341876516331163,
         "Payment ID": "Sat1274",
         "_deepnote_index_column": 209
        },
        {
         "total_bill": 30.06,
         "tip": 2,
         "sex": "Male",
         "smoker": "Yes",
         "day": "Sat",
         "time": "Dinner",
         "size": 3,
         "price_per_person": 10.02,
         "Payer Name": "Shawn Mendoza",
         "CC Number": 30184049218122,
         "Payment ID": "Sat8361",
         "_deepnote_index_column": 210
        },
        {
         "total_bill": 25.89,
         "tip": 5.16,
         "sex": "Male",
         "smoker": "Yes",
         "day": "Sat",
         "time": "Dinner",
         "size": 4,
         "price_per_person": 6.47,
         "Payer Name": "Christopher Li",
         "CC Number": 6011962464150569,
         "Payment ID": "Sat6735",
         "_deepnote_index_column": 211
        },
        {
         "total_bill": 48.33,
         "tip": 9,
         "sex": "Male",
         "smoker": "No",
         "day": "Sat",
         "time": "Dinner",
         "size": 4,
         "price_per_person": 12.08,
         "Payer Name": "Alex Williamson",
         "CC Number": 676218815212,
         "Payment ID": "Sat4590",
         "_deepnote_index_column": 212
        },
        {
         "total_bill": 13.27,
         "tip": 2.5,
         "sex": "Female",
         "smoker": "Yes",
         "day": "Sat",
         "time": "Dinner",
         "size": 2,
         "price_per_person": 6.64,
         "Payer Name": "Robin Andersen",
         "CC Number": 580140531089,
         "Payment ID": "Sat1374",
         "_deepnote_index_column": 213
        },
        {
         "total_bill": 28.17,
         "tip": 6.5,
         "sex": "Female",
         "smoker": "Yes",
         "day": "Sat",
         "time": "Dinner",
         "size": 3,
         "price_per_person": 9.39,
         "Payer Name": "Marissa Jackson",
         "CC Number": 4922302538691962,
         "Payment ID": "Sat3374",
         "_deepnote_index_column": 214
        },
        {
         "total_bill": 12.9,
         "tip": 1.1,
         "sex": "Female",
         "smoker": "Yes",
         "day": "Sat",
         "time": "Dinner",
         "size": 2,
         "price_per_person": 6.45,
         "Payer Name": "Jessica Owen",
         "CC Number": 4726904879471,
         "Payment ID": "Sat6983",
         "_deepnote_index_column": 215
        },
        {
         "total_bill": 28.15,
         "tip": 3,
         "sex": "Male",
         "smoker": "Yes",
         "day": "Sat",
         "time": "Dinner",
         "size": 5,
         "price_per_person": 5.63,
         "Payer Name": "Shawn Barnett PhD",
         "CC Number": 4590982568244,
         "Payment ID": "Sat7320",
         "_deepnote_index_column": 216
        },
        {
         "total_bill": 11.59,
         "tip": 1.5,
         "sex": "Male",
         "smoker": "Yes",
         "day": "Sat",
         "time": "Dinner",
         "size": 2,
         "price_per_person": 5.8,
         "Payer Name": "Gary Orr",
         "CC Number": 30324521283406,
         "Payment ID": "Sat8489",
         "_deepnote_index_column": 217
        },
        {
         "total_bill": 7.74,
         "tip": 1.44,
         "sex": "Male",
         "smoker": "Yes",
         "day": "Sat",
         "time": "Dinner",
         "size": 2,
         "price_per_person": 3.87,
         "Payer Name": "Nicholas Archer",
         "CC Number": 340517153733524,
         "Payment ID": "Sat4772",
         "_deepnote_index_column": 218
        },
        {
         "total_bill": 30.14,
         "tip": 3.09,
         "sex": "Female",
         "smoker": "Yes",
         "day": "Sat",
         "time": "Dinner",
         "size": 4,
         "price_per_person": 7.54,
         "Payer Name": "Shelby House",
         "CC Number": 502097403252,
         "Payment ID": "Sat8863",
         "_deepnote_index_column": 219
        },
        {
         "total_bill": 20.45,
         "tip": 3,
         "sex": "Male",
         "smoker": "No",
         "day": "Sat",
         "time": "Dinner",
         "size": 4,
         "price_per_person": 5.11,
         "Payer Name": "Robert Bradley",
         "CC Number": 213141668145910,
         "Payment ID": "Sat4319",
         "_deepnote_index_column": 227
        },
        {
         "total_bill": 13.28,
         "tip": 2.72,
         "sex": "Male",
         "smoker": "No",
         "day": "Sat",
         "time": "Dinner",
         "size": 2,
         "price_per_person": 6.64,
         "Payer Name": "Glenn Jones",
         "CC Number": 502061651712,
         "Payment ID": "Sat2937",
         "_deepnote_index_column": 228
        },
        {
         "total_bill": 22.12,
         "tip": 2.88,
         "sex": "Female",
         "smoker": "Yes",
         "day": "Sat",
         "time": "Dinner",
         "size": 2,
         "price_per_person": 11.06,
         "Payer Name": "Jennifer Russell",
         "CC Number": 4793003293608,
         "Payment ID": "Sat3943",
         "_deepnote_index_column": 229
        },
        {
         "total_bill": 24.01,
         "tip": 2,
         "sex": "Male",
         "smoker": "Yes",
         "day": "Sat",
         "time": "Dinner",
         "size": 4,
         "price_per_person": 6,
         "Payer Name": "Michael Osborne",
         "CC Number": 4258682154026,
         "Payment ID": "Sat7872",
         "_deepnote_index_column": 230
        },
        {
         "total_bill": 15.69,
         "tip": 3,
         "sex": "Male",
         "smoker": "Yes",
         "day": "Sat",
         "time": "Dinner",
         "size": 3,
         "price_per_person": 5.23,
         "Payer Name": "Jason Parks",
         "CC Number": 4812333796161,
         "Payment ID": "Sat6334",
         "_deepnote_index_column": 231
        },
        {
         "total_bill": 11.61,
         "tip": 3.39,
         "sex": "Male",
         "smoker": "No",
         "day": "Sat",
         "time": "Dinner",
         "size": 2,
         "price_per_person": 5.8,
         "Payer Name": "James Taylor",
         "CC Number": 6011482917327995,
         "Payment ID": "Sat2124",
         "_deepnote_index_column": 232
        },
        {
         "total_bill": 10.77,
         "tip": 1.47,
         "sex": "Male",
         "smoker": "No",
         "day": "Sat",
         "time": "Dinner",
         "size": 2,
         "price_per_person": 5.38,
         "Payer Name": "Paul Novak",
         "CC Number": 6011698897610858,
         "Payment ID": "Sat1467",
         "_deepnote_index_column": 233
        },
        {
         "total_bill": 15.53,
         "tip": 3,
         "sex": "Male",
         "smoker": "Yes",
         "day": "Sat",
         "time": "Dinner",
         "size": 2,
         "price_per_person": 7.76,
         "Payer Name": "Tracy Douglas",
         "CC Number": 4097938155941930,
         "Payment ID": "Sat7220",
         "_deepnote_index_column": 234
        },
        {
         "total_bill": 10.07,
         "tip": 1.25,
         "sex": "Male",
         "smoker": "No",
         "day": "Sat",
         "time": "Dinner",
         "size": 2,
         "price_per_person": 5.04,
         "Payer Name": "Sean Gonzalez",
         "CC Number": 3534021246117605,
         "Payment ID": "Sat4615",
         "_deepnote_index_column": 235
        },
        {
         "total_bill": 12.6,
         "tip": 1,
         "sex": "Male",
         "smoker": "Yes",
         "day": "Sat",
         "time": "Dinner",
         "size": 2,
         "price_per_person": 6.3,
         "Payer Name": "Matthew Myers",
         "CC Number": 3543676378973965,
         "Payment ID": "Sat5032",
         "_deepnote_index_column": 236
        },
        {
         "total_bill": 32.83,
         "tip": 1.17,
         "sex": "Male",
         "smoker": "Yes",
         "day": "Sat",
         "time": "Dinner",
         "size": 2,
         "price_per_person": 16.42,
         "Payer Name": "Thomas Brown",
         "CC Number": 4284722681265508,
         "Payment ID": "Sat2929",
         "_deepnote_index_column": 237
        },
        {
         "total_bill": 35.83,
         "tip": 4.67,
         "sex": "Female",
         "smoker": "No",
         "day": "Sat",
         "time": "Dinner",
         "size": 3,
         "price_per_person": 11.94,
         "Payer Name": "Kimberly Crane",
         "CC Number": 676184013727,
         "Payment ID": "Sat9777",
         "_deepnote_index_column": 238
        },
        {
         "total_bill": 29.03,
         "tip": 5.92,
         "sex": "Male",
         "smoker": "No",
         "day": "Sat",
         "time": "Dinner",
         "size": 3,
         "price_per_person": 9.68,
         "Payer Name": "Michael Avila",
         "CC Number": 5296068606052842,
         "Payment ID": "Sat2657",
         "_deepnote_index_column": 239
        },
        {
         "total_bill": 27.18,
         "tip": 2,
         "sex": "Female",
         "smoker": "Yes",
         "day": "Sat",
         "time": "Dinner",
         "size": 2,
         "price_per_person": 13.59,
         "Payer Name": "Monica Sanders",
         "CC Number": 3506806155565404,
         "Payment ID": "Sat1766",
         "_deepnote_index_column": 240
        },
        {
         "total_bill": 22.67,
         "tip": 2,
         "sex": "Male",
         "smoker": "Yes",
         "day": "Sat",
         "time": "Dinner",
         "size": 2,
         "price_per_person": 11.34,
         "Payer Name": "Keith Wong",
         "CC Number": 6011891618747196,
         "Payment ID": "Sat3880",
         "_deepnote_index_column": 241
        },
        {
         "total_bill": 17.82,
         "tip": 1.75,
         "sex": "Male",
         "smoker": "No",
         "day": "Sat",
         "time": "Dinner",
         "size": 2,
         "price_per_person": 8.91,
         "Payer Name": "Dennis Dixon",
         "CC Number": 4375220550950,
         "Payment ID": "Sat17",
         "_deepnote_index_column": 242
        }
       ]
      },
      "text/plain": "     total_bill   tip     sex smoker  day    time  size  price_per_person  \\\n0         16.99  1.01  Female     No  Sun  Dinner     2              8.49   \n1         10.34  1.66    Male     No  Sun  Dinner     3              3.45   \n2         21.01  3.50    Male     No  Sun  Dinner     3              7.00   \n3         23.68  3.31    Male     No  Sun  Dinner     2             11.84   \n4         24.59  3.61  Female     No  Sun  Dinner     4              6.15   \n..          ...   ...     ...    ...  ...     ...   ...               ...   \n238       35.83  4.67  Female     No  Sat  Dinner     3             11.94   \n239       29.03  5.92    Male     No  Sat  Dinner     3              9.68   \n240       27.18  2.00  Female    Yes  Sat  Dinner     2             13.59   \n241       22.67  2.00    Male    Yes  Sat  Dinner     2             11.34   \n242       17.82  1.75    Male     No  Sat  Dinner     2              8.91   \n\n             Payer Name         CC Number Payment ID  \n0    Christy Cunningham  3560325168603410    Sun2959  \n1        Douglas Tucker  4478071379779230    Sun4608  \n2        Travis Walters  6011812112971322    Sun4458  \n3      Nathaniel Harris  4676137647685994    Sun5260  \n4          Tonya Carter  4832732618637221    Sun2251  \n..                  ...               ...        ...  \n238      Kimberly Crane      676184013727    Sat9777  \n239       Michael Avila  5296068606052842    Sat2657  \n240      Monica Sanders  3506806155565404    Sat1766  \n241          Keith Wong  6011891618747196    Sat3880  \n242        Dennis Dixon     4375220550950      Sat17  \n\n[163 rows x 11 columns]",
      "text/html": "<div>\n<style scoped>\n    .dataframe tbody tr th:only-of-type {\n        vertical-align: middle;\n    }\n\n    .dataframe tbody tr th {\n        vertical-align: top;\n    }\n\n    .dataframe thead th {\n        text-align: right;\n    }\n</style>\n<table border=\"1\" class=\"dataframe\">\n  <thead>\n    <tr style=\"text-align: right;\">\n      <th></th>\n      <th>total_bill</th>\n      <th>tip</th>\n      <th>sex</th>\n      <th>smoker</th>\n      <th>day</th>\n      <th>time</th>\n      <th>size</th>\n      <th>price_per_person</th>\n      <th>Payer Name</th>\n      <th>CC Number</th>\n      <th>Payment ID</th>\n    </tr>\n  </thead>\n  <tbody>\n    <tr>\n      <th>0</th>\n      <td>16.99</td>\n      <td>1.01</td>\n      <td>Female</td>\n      <td>No</td>\n      <td>Sun</td>\n      <td>Dinner</td>\n      <td>2</td>\n      <td>8.49</td>\n      <td>Christy Cunningham</td>\n      <td>3560325168603410</td>\n      <td>Sun2959</td>\n    </tr>\n    <tr>\n      <th>1</th>\n      <td>10.34</td>\n      <td>1.66</td>\n      <td>Male</td>\n      <td>No</td>\n      <td>Sun</td>\n      <td>Dinner</td>\n      <td>3</td>\n      <td>3.45</td>\n      <td>Douglas Tucker</td>\n      <td>4478071379779230</td>\n      <td>Sun4608</td>\n    </tr>\n    <tr>\n      <th>2</th>\n      <td>21.01</td>\n      <td>3.50</td>\n      <td>Male</td>\n      <td>No</td>\n      <td>Sun</td>\n      <td>Dinner</td>\n      <td>3</td>\n      <td>7.00</td>\n      <td>Travis Walters</td>\n      <td>6011812112971322</td>\n      <td>Sun4458</td>\n    </tr>\n    <tr>\n      <th>3</th>\n      <td>23.68</td>\n      <td>3.31</td>\n      <td>Male</td>\n      <td>No</td>\n      <td>Sun</td>\n      <td>Dinner</td>\n      <td>2</td>\n      <td>11.84</td>\n      <td>Nathaniel Harris</td>\n      <td>4676137647685994</td>\n      <td>Sun5260</td>\n    </tr>\n    <tr>\n      <th>4</th>\n      <td>24.59</td>\n      <td>3.61</td>\n      <td>Female</td>\n      <td>No</td>\n      <td>Sun</td>\n      <td>Dinner</td>\n      <td>4</td>\n      <td>6.15</td>\n      <td>Tonya Carter</td>\n      <td>4832732618637221</td>\n      <td>Sun2251</td>\n    </tr>\n    <tr>\n      <th>...</th>\n      <td>...</td>\n      <td>...</td>\n      <td>...</td>\n      <td>...</td>\n      <td>...</td>\n      <td>...</td>\n      <td>...</td>\n      <td>...</td>\n      <td>...</td>\n      <td>...</td>\n      <td>...</td>\n    </tr>\n    <tr>\n      <th>238</th>\n      <td>35.83</td>\n      <td>4.67</td>\n      <td>Female</td>\n      <td>No</td>\n      <td>Sat</td>\n      <td>Dinner</td>\n      <td>3</td>\n      <td>11.94</td>\n      <td>Kimberly Crane</td>\n      <td>676184013727</td>\n      <td>Sat9777</td>\n    </tr>\n    <tr>\n      <th>239</th>\n      <td>29.03</td>\n      <td>5.92</td>\n      <td>Male</td>\n      <td>No</td>\n      <td>Sat</td>\n      <td>Dinner</td>\n      <td>3</td>\n      <td>9.68</td>\n      <td>Michael Avila</td>\n      <td>5296068606052842</td>\n      <td>Sat2657</td>\n    </tr>\n    <tr>\n      <th>240</th>\n      <td>27.18</td>\n      <td>2.00</td>\n      <td>Female</td>\n      <td>Yes</td>\n      <td>Sat</td>\n      <td>Dinner</td>\n      <td>2</td>\n      <td>13.59</td>\n      <td>Monica Sanders</td>\n      <td>3506806155565404</td>\n      <td>Sat1766</td>\n    </tr>\n    <tr>\n      <th>241</th>\n      <td>22.67</td>\n      <td>2.00</td>\n      <td>Male</td>\n      <td>Yes</td>\n      <td>Sat</td>\n      <td>Dinner</td>\n      <td>2</td>\n      <td>11.34</td>\n      <td>Keith Wong</td>\n      <td>6011891618747196</td>\n      <td>Sat3880</td>\n    </tr>\n    <tr>\n      <th>242</th>\n      <td>17.82</td>\n      <td>1.75</td>\n      <td>Male</td>\n      <td>No</td>\n      <td>Sat</td>\n      <td>Dinner</td>\n      <td>2</td>\n      <td>8.91</td>\n      <td>Dennis Dixon</td>\n      <td>4375220550950</td>\n      <td>Sat17</td>\n    </tr>\n  </tbody>\n</table>\n<p>163 rows × 11 columns</p>\n</div>"
     },
     "metadata": {}
    }
   ],
   "execution_count": 10
  },
  {
   "cell_type": "code",
   "source": "",
   "metadata": {
    "tags": [],
    "cell_id": "00009-2cebc31d-5ca7-47f9-b13a-9baf87883344",
    "deepnote_cell_type": "code"
   },
   "outputs": [],
   "execution_count": null
  },
  {
   "cell_type": "markdown",
   "source": "<a style='text-decoration:none;line-height:16px;display:flex;color:#5B5B62;padding:10px;justify-content:end;' href='https://deepnote.com?utm_source=created-in-deepnote-cell&projectId=1d2e029d-9969-43e3-9550-c09256e72c8b' target=\"_blank\">\n<img alt='Created in deepnote.com' style='display:inline;max-height:16px;margin:0px;margin-right:7.5px;' src='data:image/svg+xml;base64,PD94bWwgdmVyc2lvbj0iMS4wIiBlbmNvZGluZz0iVVRGLTgiPz4KPHN2ZyB3aWR0aD0iODBweCIgaGVpZ2h0PSI4MHB4IiB2aWV3Qm94PSIwIDAgODAgODAiIHZlcnNpb249IjEuMSIgeG1sbnM9Imh0dHA6Ly93d3cudzMub3JnLzIwMDAvc3ZnIiB4bWxuczp4bGluaz0iaHR0cDovL3d3dy53My5vcmcvMTk5OS94bGluayI+CiAgICA8IS0tIEdlbmVyYXRvcjogU2tldGNoIDU0LjEgKDc2NDkwKSAtIGh0dHBzOi8vc2tldGNoYXBwLmNvbSAtLT4KICAgIDx0aXRsZT5Hcm91cCAzPC90aXRsZT4KICAgIDxkZXNjPkNyZWF0ZWQgd2l0aCBTa2V0Y2guPC9kZXNjPgogICAgPGcgaWQ9IkxhbmRpbmciIHN0cm9rZT0ibm9uZSIgc3Ryb2tlLXdpZHRoPSIxIiBmaWxsPSJub25lIiBmaWxsLXJ1bGU9ImV2ZW5vZGQiPgogICAgICAgIDxnIGlkPSJBcnRib2FyZCIgdHJhbnNmb3JtPSJ0cmFuc2xhdGUoLTEyMzUuMDAwMDAwLCAtNzkuMDAwMDAwKSI+CiAgICAgICAgICAgIDxnIGlkPSJHcm91cC0zIiB0cmFuc2Zvcm09InRyYW5zbGF0ZSgxMjM1LjAwMDAwMCwgNzkuMDAwMDAwKSI+CiAgICAgICAgICAgICAgICA8cG9seWdvbiBpZD0iUGF0aC0yMCIgZmlsbD0iIzAyNjVCNCIgcG9pbnRzPSIyLjM3NjIzNzYyIDgwIDM4LjA0NzY2NjcgODAgNTcuODIxNzgyMiA3My44MDU3NTkyIDU3LjgyMTc4MjIgMzIuNzU5MjczOSAzOS4xNDAyMjc4IDMxLjY4MzE2ODMiPjwvcG9seWdvbj4KICAgICAgICAgICAgICAgIDxwYXRoIGQ9Ik0zNS4wMDc3MTgsODAgQzQyLjkwNjIwMDcsNzYuNDU0OTM1OCA0Ny41NjQ5MTY3LDcxLjU0MjI2NzEgNDguOTgzODY2LDY1LjI2MTk5MzkgQzUxLjExMjI4OTksNTUuODQxNTg0MiA0MS42NzcxNzk1LDQ5LjIxMjIyODQgMjUuNjIzOTg0Niw0OS4yMTIyMjg0IEMyNS40ODQ5Mjg5LDQ5LjEyNjg0NDggMjkuODI2MTI5Niw0My4yODM4MjQ4IDM4LjY0NzU4NjksMzEuNjgzMTY4MyBMNzIuODcxMjg3MSwzMi41NTQ0MjUgTDY1LjI4MDk3Myw2Ny42NzYzNDIxIEw1MS4xMTIyODk5LDc3LjM3NjE0NCBMMzUuMDA3NzE4LDgwIFoiIGlkPSJQYXRoLTIyIiBmaWxsPSIjMDAyODY4Ij48L3BhdGg+CiAgICAgICAgICAgICAgICA8cGF0aCBkPSJNMCwzNy43MzA0NDA1IEwyNy4xMTQ1MzcsMC4yNTcxMTE0MzYgQzYyLjM3MTUxMjMsLTEuOTkwNzE3MDEgODAsMTAuNTAwMzkyNyA4MCwzNy43MzA0NDA1IEM4MCw2NC45NjA0ODgyIDY0Ljc3NjUwMzgsNzkuMDUwMzQxNCAzNC4zMjk1MTEzLDgwIEM0Ny4wNTUzNDg5LDc3LjU2NzA4MDggNTMuNDE4MjY3Nyw3MC4zMTM2MTAzIDUzLjQxODI2NzcsNTguMjM5NTg4NSBDNTMuNDE4MjY3Nyw0MC4xMjg1NTU3IDM2LjMwMzk1NDQsMzcuNzMwNDQwNSAyNS4yMjc0MTcsMzcuNzMwNDQwNSBDMTcuODQzMDU4NiwzNy43MzA0NDA1IDkuNDMzOTE5NjYsMzcuNzMwNDQwNSAwLDM3LjczMDQ0MDUgWiIgaWQ9IlBhdGgtMTkiIGZpbGw9IiMzNzkzRUYiPjwvcGF0aD4KICAgICAgICAgICAgPC9nPgogICAgICAgIDwvZz4KICAgIDwvZz4KPC9zdmc+' > </img>\nCreated in <span style='font-weight:600;margin-left:4px;'>Deepnote</span></a>",
   "metadata": {
    "tags": [],
    "created_in_deepnote_cell": true,
    "deepnote_cell_type": "markdown"
   }
  }
 ],
 "nbformat": 4,
 "nbformat_minor": 2,
 "metadata": {
  "orig_nbformat": 2,
  "deepnote": {
   "is_reactive": false
  },
  "deepnote_notebook_id": "505bd254-7490-4483-b4d0-eb1476e760fb",
  "deepnote_execution_queue": []
 }
}