{
 "cells": [
  {
   "cell_type": "code",
   "metadata": {
    "tags": [],
    "cell_id": "00000-85ae19cb-6f19-4ce5-aa98-d9a6494b723b",
    "deepnote_to_be_reexecuted": false,
    "source_hash": "15e3097f",
    "execution_start": 1622282522239,
    "execution_millis": 0,
    "deepnote_cell_type": "code"
   },
   "source": "#Data Frames\nimport numpy as np\nimport pandas as pd \n",
   "outputs": [],
   "execution_count": null
  },
  {
   "cell_type": "code",
   "metadata": {
    "tags": [],
    "cell_id": "00001-9677f10c-8174-4fa3-ba8a-5cc114aa4ad6",
    "deepnote_to_be_reexecuted": false,
    "source_hash": "6062cefd",
    "execution_start": 1622282522239,
    "execution_millis": 7,
    "deepnote_cell_type": "code"
   },
   "source": "#creating a dataframe manually\nnp.random.seed(101)\nmydata= np.random.randint(0,101,(4,3))\nmydata",
   "outputs": [
    {
     "output_type": "execute_result",
     "execution_count": 2,
     "data": {
      "text/plain": "array([[95, 11, 81],\n       [70, 63, 87],\n       [75,  9, 77],\n       [40,  4, 63]])"
     },
     "metadata": {}
    }
   ],
   "execution_count": null
  },
  {
   "cell_type": "code",
   "metadata": {
    "tags": [],
    "cell_id": "00002-e0f32cff-e876-47dd-b585-4c2ce5b97bec",
    "deepnote_to_be_reexecuted": false,
    "source_hash": "7cb74676",
    "execution_start": 1622282522282,
    "execution_millis": 0,
    "deepnote_cell_type": "code"
   },
   "source": "myindex=['CA','NY','AZ','TX']\nmycolumns=['Jan','Feb','Mar']",
   "outputs": [],
   "execution_count": null
  },
  {
   "cell_type": "code",
   "metadata": {
    "tags": [],
    "cell_id": "00003-57aff213-06ef-42b7-a3b4-896e11df2d2e",
    "deepnote_to_be_reexecuted": false,
    "source_hash": "570c9671",
    "execution_start": 1622282522283,
    "execution_millis": 4,
    "deepnote_cell_type": "code"
   },
   "source": "df=pd.DataFrame(mydata,myindex,mycolumns)\ndf",
   "outputs": [
    {
     "output_type": "execute_result",
     "execution_count": 4,
     "data": {
      "application/vnd.deepnote.dataframe.v2+json": {
       "row_count": 4,
       "column_count": 3,
       "columns": [
        {
         "name": "Jan",
         "dtype": "int64",
         "stats": {
          "unique_count": 4,
          "nan_count": 0,
          "min": "40",
          "max": "95",
          "histogram": [
           {
            "bin_start": 40,
            "bin_end": 45.5,
            "count": 1
           },
           {
            "bin_start": 45.5,
            "bin_end": 51,
            "count": 0
           },
           {
            "bin_start": 51,
            "bin_end": 56.5,
            "count": 0
           },
           {
            "bin_start": 56.5,
            "bin_end": 62,
            "count": 0
           },
           {
            "bin_start": 62,
            "bin_end": 67.5,
            "count": 0
           },
           {
            "bin_start": 67.5,
            "bin_end": 73,
            "count": 1
           },
           {
            "bin_start": 73,
            "bin_end": 78.5,
            "count": 1
           },
           {
            "bin_start": 78.5,
            "bin_end": 84,
            "count": 0
           },
           {
            "bin_start": 84,
            "bin_end": 89.5,
            "count": 0
           },
           {
            "bin_start": 89.5,
            "bin_end": 95,
            "count": 1
           }
          ]
         }
        },
        {
         "name": "Feb",
         "dtype": "int64",
         "stats": {
          "unique_count": 4,
          "nan_count": 0,
          "min": "4",
          "max": "63",
          "histogram": [
           {
            "bin_start": 4,
            "bin_end": 9.9,
            "count": 2
           },
           {
            "bin_start": 9.9,
            "bin_end": 15.8,
            "count": 1
           },
           {
            "bin_start": 15.8,
            "bin_end": 21.700000000000003,
            "count": 0
           },
           {
            "bin_start": 21.700000000000003,
            "bin_end": 27.6,
            "count": 0
           },
           {
            "bin_start": 27.6,
            "bin_end": 33.5,
            "count": 0
           },
           {
            "bin_start": 33.5,
            "bin_end": 39.400000000000006,
            "count": 0
           },
           {
            "bin_start": 39.400000000000006,
            "bin_end": 45.300000000000004,
            "count": 0
           },
           {
            "bin_start": 45.300000000000004,
            "bin_end": 51.2,
            "count": 0
           },
           {
            "bin_start": 51.2,
            "bin_end": 57.1,
            "count": 0
           },
           {
            "bin_start": 57.1,
            "bin_end": 63,
            "count": 1
           }
          ]
         }
        },
        {
         "name": "Mar",
         "dtype": "int64",
         "stats": {
          "unique_count": 4,
          "nan_count": 0,
          "min": "63",
          "max": "87",
          "histogram": [
           {
            "bin_start": 63,
            "bin_end": 65.4,
            "count": 1
           },
           {
            "bin_start": 65.4,
            "bin_end": 67.8,
            "count": 0
           },
           {
            "bin_start": 67.8,
            "bin_end": 70.2,
            "count": 0
           },
           {
            "bin_start": 70.2,
            "bin_end": 72.6,
            "count": 0
           },
           {
            "bin_start": 72.6,
            "bin_end": 75,
            "count": 0
           },
           {
            "bin_start": 75,
            "bin_end": 77.4,
            "count": 1
           },
           {
            "bin_start": 77.4,
            "bin_end": 79.8,
            "count": 0
           },
           {
            "bin_start": 79.8,
            "bin_end": 82.2,
            "count": 1
           },
           {
            "bin_start": 82.2,
            "bin_end": 84.6,
            "count": 0
           },
           {
            "bin_start": 84.6,
            "bin_end": 87,
            "count": 1
           }
          ]
         }
        },
        {
         "name": "_deepnote_index_column",
         "dtype": "object"
        }
       ],
       "rows_top": [
        {
         "Jan": 95,
         "Feb": 11,
         "Mar": 81,
         "_deepnote_index_column": "CA"
        },
        {
         "Jan": 70,
         "Feb": 63,
         "Mar": 87,
         "_deepnote_index_column": "NY"
        },
        {
         "Jan": 75,
         "Feb": 9,
         "Mar": 77,
         "_deepnote_index_column": "AZ"
        },
        {
         "Jan": 40,
         "Feb": 4,
         "Mar": 63,
         "_deepnote_index_column": "TX"
        }
       ],
       "rows_bottom": null
      },
      "text/plain": "    Jan  Feb  Mar\nCA   95   11   81\nNY   70   63   87\nAZ   75    9   77\nTX   40    4   63",
      "text/html": "<div>\n<style scoped>\n    .dataframe tbody tr th:only-of-type {\n        vertical-align: middle;\n    }\n\n    .dataframe tbody tr th {\n        vertical-align: top;\n    }\n\n    .dataframe thead th {\n        text-align: right;\n    }\n</style>\n<table border=\"1\" class=\"dataframe\">\n  <thead>\n    <tr style=\"text-align: right;\">\n      <th></th>\n      <th>Jan</th>\n      <th>Feb</th>\n      <th>Mar</th>\n    </tr>\n  </thead>\n  <tbody>\n    <tr>\n      <th>CA</th>\n      <td>95</td>\n      <td>11</td>\n      <td>81</td>\n    </tr>\n    <tr>\n      <th>NY</th>\n      <td>70</td>\n      <td>63</td>\n      <td>87</td>\n    </tr>\n    <tr>\n      <th>AZ</th>\n      <td>75</td>\n      <td>9</td>\n      <td>77</td>\n    </tr>\n    <tr>\n      <th>TX</th>\n      <td>40</td>\n      <td>4</td>\n      <td>63</td>\n    </tr>\n  </tbody>\n</table>\n</div>"
     },
     "metadata": {}
    }
   ],
   "execution_count": null
  },
  {
   "cell_type": "code",
   "metadata": {
    "tags": [],
    "cell_id": "00004-fab5e3a9-7c4f-4732-a3ba-85473cd469f9",
    "deepnote_to_be_reexecuted": false,
    "source_hash": "de1e323c",
    "execution_start": 1622282522321,
    "execution_millis": 6,
    "deepnote_cell_type": "code"
   },
   "source": "df.info()",
   "outputs": [
    {
     "name": "stdout",
     "text": "<class 'pandas.core.frame.DataFrame'>\nIndex: 4 entries, CA to TX\nData columns (total 3 columns):\n #   Column  Non-Null Count  Dtype\n---  ------  --------------  -----\n 0   Jan     4 non-null      int64\n 1   Feb     4 non-null      int64\n 2   Mar     4 non-null      int64\ndtypes: int64(3)\nmemory usage: 300.0+ bytes\n",
     "output_type": "stream"
    }
   ],
   "execution_count": null
  },
  {
   "cell_type": "code",
   "metadata": {
    "tags": [],
    "cell_id": "00005-394ae186-09ae-4ee5-8ffc-b3f5f6a5bde7",
    "deepnote_to_be_reexecuted": false,
    "source_hash": "702d6304",
    "execution_start": 1622282522322,
    "execution_millis": 0,
    "deepnote_cell_type": "code"
   },
   "source": "#reading a csv file\n#where is my python code located?\n",
   "outputs": [],
   "execution_count": null
  },
  {
   "cell_type": "code",
   "metadata": {
    "tags": [],
    "cell_id": "00006-b1cd9437-bfb0-4a25-bd5c-1d50e5a2645a",
    "deepnote_to_be_reexecuted": false,
    "source_hash": "56cb903f",
    "execution_start": 1622282522322,
    "execution_millis": 5,
    "deepnote_cell_type": "code"
   },
   "source": "pwd",
   "outputs": [
    {
     "output_type": "execute_result",
     "execution_count": 7,
     "data": {
      "text/plain": "'/work'"
     },
     "metadata": {}
    }
   ],
   "execution_count": null
  },
  {
   "cell_type": "code",
   "metadata": {
    "tags": [],
    "cell_id": "00007-b2e017c2-ae09-4dc2-893c-09614f7ec0f5",
    "deepnote_to_be_reexecuted": false,
    "source_hash": "8825846e",
    "execution_start": 1622282522325,
    "execution_millis": 296,
    "deepnote_cell_type": "code"
   },
   "source": "ls",
   "outputs": [
    {
     "name": "stdout",
     "text": " init.ipynb   PandasDataFrame.ipynb  'Pandas series.ipynb'   tips.csv\r\n",
     "output_type": "stream"
    }
   ],
   "execution_count": null
  },
  {
   "cell_type": "code",
   "metadata": {
    "tags": [],
    "cell_id": "00008-e9b13440-3c1a-4e5b-8f09-4928eeadf392",
    "deepnote_to_be_reexecuted": false,
    "source_hash": "b9db7578",
    "execution_start": 1622282522666,
    "execution_millis": 0,
    "deepnote_cell_type": "code"
   },
   "source": "df=pd.read_csv('tips.csv')",
   "outputs": [],
   "execution_count": null
  },
  {
   "cell_type": "code",
   "metadata": {
    "tags": [],
    "cell_id": "00009-b52198d9-3c11-4029-8827-bdf0de3d6afb",
    "deepnote_to_be_reexecuted": false,
    "source_hash": "f804c160",
    "execution_start": 1622282522667,
    "execution_millis": 70,
    "deepnote_cell_type": "code"
   },
   "source": "df",
   "outputs": [
    {
     "output_type": "execute_result",
     "execution_count": 10,
     "data": {
      "application/vnd.deepnote.dataframe.v2+json": {
       "row_count": 244,
       "column_count": 11,
       "columns": [
        {
         "name": "total_bill",
         "dtype": "float64",
         "stats": {
          "unique_count": 229,
          "nan_count": 0,
          "min": "3.07",
          "max": "50.81",
          "histogram": [
           {
            "bin_start": 3.07,
            "bin_end": 7.843999999999999,
            "count": 7
           },
           {
            "bin_start": 7.843999999999999,
            "bin_end": 12.618,
            "count": 42
           },
           {
            "bin_start": 12.618,
            "bin_end": 17.392,
            "count": 68
           },
           {
            "bin_start": 17.392,
            "bin_end": 22.166,
            "count": 51
           },
           {
            "bin_start": 22.166,
            "bin_end": 26.94,
            "count": 31
           },
           {
            "bin_start": 26.94,
            "bin_end": 31.714,
            "count": 19
           },
           {
            "bin_start": 31.714,
            "bin_end": 36.488,
            "count": 12
           },
           {
            "bin_start": 36.488,
            "bin_end": 41.262,
            "count": 7
           },
           {
            "bin_start": 41.262,
            "bin_end": 46.036,
            "count": 3
           },
           {
            "bin_start": 46.036,
            "bin_end": 50.81,
            "count": 4
           }
          ]
         }
        },
        {
         "name": "tip",
         "dtype": "float64",
         "stats": {
          "unique_count": 123,
          "nan_count": 0,
          "min": "1.0",
          "max": "10.0",
          "histogram": [
           {
            "bin_start": 1,
            "bin_end": 1.9,
            "count": 41
           },
           {
            "bin_start": 1.9,
            "bin_end": 2.8,
            "count": 79
           },
           {
            "bin_start": 2.8,
            "bin_end": 3.7,
            "count": 66
           },
           {
            "bin_start": 3.7,
            "bin_end": 4.6,
            "count": 27
           },
           {
            "bin_start": 4.6,
            "bin_end": 5.5,
            "count": 19
           },
           {
            "bin_start": 5.5,
            "bin_end": 6.4,
            "count": 5
           },
           {
            "bin_start": 6.4,
            "bin_end": 7.3,
            "count": 4
           },
           {
            "bin_start": 7.3,
            "bin_end": 8.2,
            "count": 1
           },
           {
            "bin_start": 8.2,
            "bin_end": 9.1,
            "count": 1
           },
           {
            "bin_start": 9.1,
            "bin_end": 10,
            "count": 1
           }
          ]
         }
        },
        {
         "name": "sex",
         "dtype": "object",
         "stats": {
          "unique_count": 2,
          "nan_count": 0,
          "categories": [
           {
            "name": "Male",
            "count": 157
           },
           {
            "name": "Female",
            "count": 87
           }
          ]
         }
        },
        {
         "name": "smoker",
         "dtype": "object",
         "stats": {
          "unique_count": 2,
          "nan_count": 0,
          "categories": [
           {
            "name": "No",
            "count": 151
           },
           {
            "name": "Yes",
            "count": 93
           }
          ]
         }
        },
        {
         "name": "day",
         "dtype": "object",
         "stats": {
          "unique_count": 4,
          "nan_count": 0,
          "categories": [
           {
            "name": "Sat",
            "count": 87
           },
           {
            "name": "Sun",
            "count": 76
           },
           {
            "name": "2 others",
            "count": 81
           }
          ]
         }
        },
        {
         "name": "time",
         "dtype": "object",
         "stats": {
          "unique_count": 2,
          "nan_count": 0,
          "categories": [
           {
            "name": "Dinner",
            "count": 176
           },
           {
            "name": "Lunch",
            "count": 68
           }
          ]
         }
        },
        {
         "name": "size",
         "dtype": "int64",
         "stats": {
          "unique_count": 6,
          "nan_count": 0,
          "min": "1",
          "max": "6",
          "histogram": [
           {
            "bin_start": 1,
            "bin_end": 1.5,
            "count": 4
           },
           {
            "bin_start": 1.5,
            "bin_end": 2,
            "count": 0
           },
           {
            "bin_start": 2,
            "bin_end": 2.5,
            "count": 156
           },
           {
            "bin_start": 2.5,
            "bin_end": 3,
            "count": 0
           },
           {
            "bin_start": 3,
            "bin_end": 3.5,
            "count": 38
           },
           {
            "bin_start": 3.5,
            "bin_end": 4,
            "count": 0
           },
           {
            "bin_start": 4,
            "bin_end": 4.5,
            "count": 37
           },
           {
            "bin_start": 4.5,
            "bin_end": 5,
            "count": 0
           },
           {
            "bin_start": 5,
            "bin_end": 5.5,
            "count": 5
           },
           {
            "bin_start": 5.5,
            "bin_end": 6,
            "count": 4
           }
          ]
         }
        },
        {
         "name": "price_per_person",
         "dtype": "float64",
         "stats": {
          "unique_count": 217,
          "nan_count": 0,
          "min": "2.88",
          "max": "20.27",
          "histogram": [
           {
            "bin_start": 2.88,
            "bin_end": 4.619,
            "count": 19
           },
           {
            "bin_start": 4.619,
            "bin_end": 6.3580000000000005,
            "count": 69
           },
           {
            "bin_start": 6.3580000000000005,
            "bin_end": 8.097000000000001,
            "count": 60
           },
           {
            "bin_start": 8.097000000000001,
            "bin_end": 9.836,
            "count": 44
           },
           {
            "bin_start": 9.836,
            "bin_end": 11.575,
            "count": 26
           },
           {
            "bin_start": 11.575,
            "bin_end": 13.314,
            "count": 12
           },
           {
            "bin_start": 13.314,
            "bin_end": 15.053,
            "count": 6
           },
           {
            "bin_start": 15.053,
            "bin_end": 16.792,
            "count": 5
           },
           {
            "bin_start": 16.792,
            "bin_end": 18.531000000000002,
            "count": 2
           },
           {
            "bin_start": 18.531000000000002,
            "bin_end": 20.27,
            "count": 1
           }
          ]
         }
        },
        {
         "name": "Payer Name",
         "dtype": "object",
         "stats": {
          "unique_count": 244,
          "nan_count": 0,
          "categories": [
           {
            "name": "Christy Cunningham",
            "count": 1
           },
           {
            "name": "Douglas Tucker",
            "count": 1
           },
           {
            "name": "242 others",
            "count": 242
           }
          ]
         }
        },
        {
         "name": "CC Number",
         "dtype": "int64",
         "stats": {
          "unique_count": 244,
          "nan_count": 0,
          "min": "60406789937",
          "max": "6596453823950595",
          "histogram": [
           {
            "bin_start": 60406789937,
            "bin_end": 659699748506002.8,
            "count": 110
           },
           {
            "bin_start": 659699748506002.8,
            "bin_end": 1319339090222068.5,
            "count": 0
           },
           {
            "bin_start": 1319339090222068.5,
            "bin_end": 1978978431938134.2,
            "count": 0
           },
           {
            "bin_start": 1978978431938134.2,
            "bin_end": 2638617773654200,
            "count": 3
           },
           {
            "bin_start": 2638617773654200,
            "bin_end": 3298257115370266,
            "count": 0
           },
           {
            "bin_start": 3298257115370266,
            "bin_end": 3957896457086331.5,
            "count": 43
           },
           {
            "bin_start": 3957896457086331.5,
            "bin_end": 4617535798802397,
            "count": 30
           },
           {
            "bin_start": 4617535798802397,
            "bin_end": 5277175140518463,
            "count": 19
           },
           {
            "bin_start": 5277175140518463,
            "bin_end": 5936814482234529,
            "count": 15
           },
           {
            "bin_start": 5936814482234529,
            "bin_end": 6596453823950595,
            "count": 24
           }
          ]
         }
        },
        {
         "name": "Payment ID",
         "dtype": "object",
         "stats": {
          "unique_count": 243,
          "nan_count": 0,
          "categories": [
           {
            "name": "Thur8084",
            "count": 2
           },
           {
            "name": "Sun2959",
            "count": 1
           },
           {
            "name": "241 others",
            "count": 241
           }
          ]
         }
        },
        {
         "name": "_deepnote_index_column",
         "dtype": "int64"
        }
       ],
       "rows_top": [
        {
         "total_bill": 16.99,
         "tip": 1.01,
         "sex": "Female",
         "smoker": "No",
         "day": "Sun",
         "time": "Dinner",
         "size": 2,
         "price_per_person": 8.49,
         "Payer Name": "Christy Cunningham",
         "CC Number": 3560325168603410,
         "Payment ID": "Sun2959",
         "_deepnote_index_column": 0
        },
        {
         "total_bill": 10.34,
         "tip": 1.66,
         "sex": "Male",
         "smoker": "No",
         "day": "Sun",
         "time": "Dinner",
         "size": 3,
         "price_per_person": 3.45,
         "Payer Name": "Douglas Tucker",
         "CC Number": 4478071379779230,
         "Payment ID": "Sun4608",
         "_deepnote_index_column": 1
        },
        {
         "total_bill": 21.01,
         "tip": 3.5,
         "sex": "Male",
         "smoker": "No",
         "day": "Sun",
         "time": "Dinner",
         "size": 3,
         "price_per_person": 7,
         "Payer Name": "Travis Walters",
         "CC Number": 6011812112971322,
         "Payment ID": "Sun4458",
         "_deepnote_index_column": 2
        },
        {
         "total_bill": 23.68,
         "tip": 3.31,
         "sex": "Male",
         "smoker": "No",
         "day": "Sun",
         "time": "Dinner",
         "size": 2,
         "price_per_person": 11.84,
         "Payer Name": "Nathaniel Harris",
         "CC Number": 4676137647685994,
         "Payment ID": "Sun5260",
         "_deepnote_index_column": 3
        },
        {
         "total_bill": 24.59,
         "tip": 3.61,
         "sex": "Female",
         "smoker": "No",
         "day": "Sun",
         "time": "Dinner",
         "size": 4,
         "price_per_person": 6.15,
         "Payer Name": "Tonya Carter",
         "CC Number": 4832732618637221,
         "Payment ID": "Sun2251",
         "_deepnote_index_column": 4
        },
        {
         "total_bill": 25.29,
         "tip": 4.71,
         "sex": "Male",
         "smoker": "No",
         "day": "Sun",
         "time": "Dinner",
         "size": 4,
         "price_per_person": 6.32,
         "Payer Name": "Erik Smith",
         "CC Number": 213140353657882,
         "Payment ID": "Sun9679",
         "_deepnote_index_column": 5
        },
        {
         "total_bill": 8.77,
         "tip": 2,
         "sex": "Male",
         "smoker": "No",
         "day": "Sun",
         "time": "Dinner",
         "size": 2,
         "price_per_person": 4.38,
         "Payer Name": "Kristopher Johnson",
         "CC Number": 2223727524230344,
         "Payment ID": "Sun5985",
         "_deepnote_index_column": 6
        },
        {
         "total_bill": 26.88,
         "tip": 3.12,
         "sex": "Male",
         "smoker": "No",
         "day": "Sun",
         "time": "Dinner",
         "size": 4,
         "price_per_person": 6.72,
         "Payer Name": "Robert Buck",
         "CC Number": 3514785077705092,
         "Payment ID": "Sun8157",
         "_deepnote_index_column": 7
        },
        {
         "total_bill": 15.04,
         "tip": 1.96,
         "sex": "Male",
         "smoker": "No",
         "day": "Sun",
         "time": "Dinner",
         "size": 2,
         "price_per_person": 7.52,
         "Payer Name": "Joseph Mcdonald",
         "CC Number": 3522866365840377,
         "Payment ID": "Sun6820",
         "_deepnote_index_column": 8
        },
        {
         "total_bill": 14.78,
         "tip": 3.23,
         "sex": "Male",
         "smoker": "No",
         "day": "Sun",
         "time": "Dinner",
         "size": 2,
         "price_per_person": 7.39,
         "Payer Name": "Jerome Abbott",
         "CC Number": 3532124519049786,
         "Payment ID": "Sun3775",
         "_deepnote_index_column": 9
        },
        {
         "total_bill": 10.27,
         "tip": 1.71,
         "sex": "Male",
         "smoker": "No",
         "day": "Sun",
         "time": "Dinner",
         "size": 2,
         "price_per_person": 5.14,
         "Payer Name": "William Riley",
         "CC Number": 566287581219,
         "Payment ID": "Sun2546",
         "_deepnote_index_column": 10
        },
        {
         "total_bill": 35.26,
         "tip": 5,
         "sex": "Female",
         "smoker": "No",
         "day": "Sun",
         "time": "Dinner",
         "size": 4,
         "price_per_person": 8.82,
         "Payer Name": "Diane Macias",
         "CC Number": 4577817359320969,
         "Payment ID": "Sun6686",
         "_deepnote_index_column": 11
        },
        {
         "total_bill": 15.42,
         "tip": 1.57,
         "sex": "Male",
         "smoker": "No",
         "day": "Sun",
         "time": "Dinner",
         "size": 2,
         "price_per_person": 7.71,
         "Payer Name": "Chad Harrington",
         "CC Number": 577040572932,
         "Payment ID": "Sun1300",
         "_deepnote_index_column": 12
        },
        {
         "total_bill": 18.43,
         "tip": 3,
         "sex": "Male",
         "smoker": "No",
         "day": "Sun",
         "time": "Dinner",
         "size": 4,
         "price_per_person": 4.61,
         "Payer Name": "Joshua Jones",
         "CC Number": 6011163105616890,
         "Payment ID": "Sun2971",
         "_deepnote_index_column": 13
        },
        {
         "total_bill": 14.83,
         "tip": 3.02,
         "sex": "Female",
         "smoker": "No",
         "day": "Sun",
         "time": "Dinner",
         "size": 2,
         "price_per_person": 7.42,
         "Payer Name": "Vanessa Jones",
         "CC Number": 30016702287574,
         "Payment ID": "Sun3848",
         "_deepnote_index_column": 14
        },
        {
         "total_bill": 21.58,
         "tip": 3.92,
         "sex": "Male",
         "smoker": "No",
         "day": "Sun",
         "time": "Dinner",
         "size": 2,
         "price_per_person": 10.79,
         "Payer Name": "Matthew Reilly",
         "CC Number": 180073029785069,
         "Payment ID": "Sun1878",
         "_deepnote_index_column": 15
        },
        {
         "total_bill": 10.33,
         "tip": 1.67,
         "sex": "Female",
         "smoker": "No",
         "day": "Sun",
         "time": "Dinner",
         "size": 3,
         "price_per_person": 3.44,
         "Payer Name": "Elizabeth Foster",
         "CC Number": 4240025044626033,
         "Payment ID": "Sun9715",
         "_deepnote_index_column": 16
        },
        {
         "total_bill": 16.29,
         "tip": 3.71,
         "sex": "Male",
         "smoker": "No",
         "day": "Sun",
         "time": "Dinner",
         "size": 3,
         "price_per_person": 5.43,
         "Payer Name": "John Pittman",
         "CC Number": 6521340257218708,
         "Payment ID": "Sun2998",
         "_deepnote_index_column": 17
        },
        {
         "total_bill": 16.97,
         "tip": 3.5,
         "sex": "Female",
         "smoker": "No",
         "day": "Sun",
         "time": "Dinner",
         "size": 3,
         "price_per_person": 5.66,
         "Payer Name": "Laura Martinez",
         "CC Number": 30422275171379,
         "Payment ID": "Sun2789",
         "_deepnote_index_column": 18
        },
        {
         "total_bill": 20.65,
         "tip": 3.35,
         "sex": "Male",
         "smoker": "No",
         "day": "Sat",
         "time": "Dinner",
         "size": 3,
         "price_per_person": 6.88,
         "Payer Name": "Timothy Oneal",
         "CC Number": 6568069240986485,
         "Payment ID": "Sat9213",
         "_deepnote_index_column": 19
        },
        {
         "total_bill": 17.92,
         "tip": 4.08,
         "sex": "Male",
         "smoker": "No",
         "day": "Sat",
         "time": "Dinner",
         "size": 2,
         "price_per_person": 8.96,
         "Payer Name": "Thomas Rice",
         "CC Number": 4403296224639756,
         "Payment ID": "Sat1709",
         "_deepnote_index_column": 20
        },
        {
         "total_bill": 20.29,
         "tip": 2.75,
         "sex": "Female",
         "smoker": "No",
         "day": "Sat",
         "time": "Dinner",
         "size": 2,
         "price_per_person": 10.14,
         "Payer Name": "Natalie Gardner",
         "CC Number": 5448125351489749,
         "Payment ID": "Sat9618",
         "_deepnote_index_column": 21
        },
        {
         "total_bill": 15.77,
         "tip": 2.23,
         "sex": "Female",
         "smoker": "No",
         "day": "Sat",
         "time": "Dinner",
         "size": 2,
         "price_per_person": 7.88,
         "Payer Name": "Ashley Shelton",
         "CC Number": 3524119516293213,
         "Payment ID": "Sat9786",
         "_deepnote_index_column": 22
        },
        {
         "total_bill": 39.42,
         "tip": 7.58,
         "sex": "Male",
         "smoker": "No",
         "day": "Sat",
         "time": "Dinner",
         "size": 4,
         "price_per_person": 9.86,
         "Payer Name": "Lance Peterson",
         "CC Number": 3542584061609808,
         "Payment ID": "Sat239",
         "_deepnote_index_column": 23
        },
        {
         "total_bill": 19.82,
         "tip": 3.18,
         "sex": "Male",
         "smoker": "No",
         "day": "Sat",
         "time": "Dinner",
         "size": 2,
         "price_per_person": 9.91,
         "Payer Name": "Christopher Ross",
         "CC Number": 36739148167928,
         "Payment ID": "Sat6236",
         "_deepnote_index_column": 24
        },
        {
         "total_bill": 17.81,
         "tip": 2.34,
         "sex": "Male",
         "smoker": "No",
         "day": "Sat",
         "time": "Dinner",
         "size": 4,
         "price_per_person": 4.45,
         "Payer Name": "Robert Perkins",
         "CC Number": 30502930499388,
         "Payment ID": "Sat907",
         "_deepnote_index_column": 25
        },
        {
         "total_bill": 13.37,
         "tip": 2,
         "sex": "Male",
         "smoker": "No",
         "day": "Sat",
         "time": "Dinner",
         "size": 2,
         "price_per_person": 6.68,
         "Payer Name": "Kyle Avery",
         "CC Number": 6531339539615499,
         "Payment ID": "Sat6651",
         "_deepnote_index_column": 26
        },
        {
         "total_bill": 12.69,
         "tip": 2,
         "sex": "Male",
         "smoker": "No",
         "day": "Sat",
         "time": "Dinner",
         "size": 2,
         "price_per_person": 6.34,
         "Payer Name": "Patrick Barber",
         "CC Number": 30155551880343,
         "Payment ID": "Sat394",
         "_deepnote_index_column": 27
        },
        {
         "total_bill": 21.7,
         "tip": 4.3,
         "sex": "Male",
         "smoker": "No",
         "day": "Sat",
         "time": "Dinner",
         "size": 2,
         "price_per_person": 10.85,
         "Payer Name": "David Collier",
         "CC Number": 5529694315416009,
         "Payment ID": "Sat3697",
         "_deepnote_index_column": 28
        },
        {
         "total_bill": 19.65,
         "tip": 3,
         "sex": "Female",
         "smoker": "No",
         "day": "Sat",
         "time": "Dinner",
         "size": 2,
         "price_per_person": 9.82,
         "Payer Name": "Melinda Murphy",
         "CC Number": 5489272944576051,
         "Payment ID": "Sat2467",
         "_deepnote_index_column": 29
        },
        {
         "total_bill": 9.55,
         "tip": 1.45,
         "sex": "Male",
         "smoker": "No",
         "day": "Sat",
         "time": "Dinner",
         "size": 2,
         "price_per_person": 4.78,
         "Payer Name": "Grant Hall",
         "CC Number": 30196517521548,
         "Payment ID": "Sat4099",
         "_deepnote_index_column": 30
        },
        {
         "total_bill": 18.35,
         "tip": 2.5,
         "sex": "Male",
         "smoker": "No",
         "day": "Sat",
         "time": "Dinner",
         "size": 4,
         "price_per_person": 4.59,
         "Payer Name": "Danny Santiago",
         "CC Number": 630415546013,
         "Payment ID": "Sat4947",
         "_deepnote_index_column": 31
        },
        {
         "total_bill": 15.06,
         "tip": 3,
         "sex": "Female",
         "smoker": "No",
         "day": "Sat",
         "time": "Dinner",
         "size": 2,
         "price_per_person": 7.53,
         "Payer Name": "Amanda Wilson",
         "CC Number": 213186304291560,
         "Payment ID": "Sat1327",
         "_deepnote_index_column": 32
        },
        {
         "total_bill": 20.69,
         "tip": 2.45,
         "sex": "Female",
         "smoker": "No",
         "day": "Sat",
         "time": "Dinner",
         "size": 4,
         "price_per_person": 5.17,
         "Payer Name": "Amber Francis",
         "CC Number": 377742985258914,
         "Payment ID": "Sat6649",
         "_deepnote_index_column": 33
        },
        {
         "total_bill": 17.78,
         "tip": 3.27,
         "sex": "Male",
         "smoker": "No",
         "day": "Sat",
         "time": "Dinner",
         "size": 2,
         "price_per_person": 8.89,
         "Payer Name": "Jacob Castillo",
         "CC Number": 3551492000704805,
         "Payment ID": "Sat8124",
         "_deepnote_index_column": 34
        },
        {
         "total_bill": 24.06,
         "tip": 3.6,
         "sex": "Male",
         "smoker": "No",
         "day": "Sat",
         "time": "Dinner",
         "size": 3,
         "price_per_person": 8.02,
         "Payer Name": "Joseph Mullins",
         "CC Number": 5519770449260299,
         "Payment ID": "Sat632",
         "_deepnote_index_column": 35
        },
        {
         "total_bill": 16.31,
         "tip": 2,
         "sex": "Male",
         "smoker": "No",
         "day": "Sat",
         "time": "Dinner",
         "size": 3,
         "price_per_person": 5.44,
         "Payer Name": "William Ford",
         "CC Number": 3527691170179398,
         "Payment ID": "Sat9139",
         "_deepnote_index_column": 36
        },
        {
         "total_bill": 16.93,
         "tip": 3.07,
         "sex": "Female",
         "smoker": "No",
         "day": "Sat",
         "time": "Dinner",
         "size": 3,
         "price_per_person": 5.64,
         "Payer Name": "Erin Lewis",
         "CC Number": 5161695527390786,
         "Payment ID": "Sat6406",
         "_deepnote_index_column": 37
        },
        {
         "total_bill": 18.69,
         "tip": 2.31,
         "sex": "Male",
         "smoker": "No",
         "day": "Sat",
         "time": "Dinner",
         "size": 3,
         "price_per_person": 6.23,
         "Payer Name": "Brandon Bradley",
         "CC Number": 4427601595688633,
         "Payment ID": "Sat4056",
         "_deepnote_index_column": 38
        },
        {
         "total_bill": 31.27,
         "tip": 5,
         "sex": "Male",
         "smoker": "No",
         "day": "Sat",
         "time": "Dinner",
         "size": 3,
         "price_per_person": 10.42,
         "Payer Name": "Mr. Brandon Berry",
         "CC Number": 6011525851069856,
         "Payment ID": "Sat6373",
         "_deepnote_index_column": 39
        },
        {
         "total_bill": 16.04,
         "tip": 2.24,
         "sex": "Male",
         "smoker": "No",
         "day": "Sat",
         "time": "Dinner",
         "size": 3,
         "price_per_person": 5.35,
         "Payer Name": "Adam Edwards",
         "CC Number": 3544447755679420,
         "Payment ID": "Sat8549",
         "_deepnote_index_column": 40
        },
        {
         "total_bill": 17.46,
         "tip": 2.54,
         "sex": "Male",
         "smoker": "No",
         "day": "Sun",
         "time": "Dinner",
         "size": 2,
         "price_per_person": 8.73,
         "Payer Name": "David Boyer",
         "CC Number": 3536678244278149,
         "Payment ID": "Sun9460",
         "_deepnote_index_column": 41
        },
        {
         "total_bill": 13.94,
         "tip": 3.06,
         "sex": "Male",
         "smoker": "No",
         "day": "Sun",
         "time": "Dinner",
         "size": 2,
         "price_per_person": 6.97,
         "Payer Name": "Bryan Brown",
         "CC Number": 36231182760859,
         "Payment ID": "Sun1699",
         "_deepnote_index_column": 42
        },
        {
         "total_bill": 9.68,
         "tip": 1.32,
         "sex": "Male",
         "smoker": "No",
         "day": "Sun",
         "time": "Dinner",
         "size": 2,
         "price_per_person": 4.84,
         "Payer Name": "Christopher Spears",
         "CC Number": 4387671121369212,
         "Payment ID": "Sun3279",
         "_deepnote_index_column": 43
        },
        {
         "total_bill": 30.4,
         "tip": 5.6,
         "sex": "Male",
         "smoker": "No",
         "day": "Sun",
         "time": "Dinner",
         "size": 4,
         "price_per_person": 7.6,
         "Payer Name": "Todd Cooper",
         "CC Number": 503846761263,
         "Payment ID": "Sun2274",
         "_deepnote_index_column": 44
        }
       ],
       "rows_bottom": [
        {
         "total_bill": 13.51,
         "tip": 2,
         "sex": "Male",
         "smoker": "Yes",
         "day": "Thur",
         "time": "Lunch",
         "size": 2,
         "price_per_person": 6.76,
         "Payer Name": "Joseph Murphy MD",
         "CC Number": 6547218923471275,
         "Payment ID": "Thur2428",
         "_deepnote_index_column": 199
        },
        {
         "total_bill": 18.71,
         "tip": 4,
         "sex": "Male",
         "smoker": "Yes",
         "day": "Thur",
         "time": "Lunch",
         "size": 3,
         "price_per_person": 6.24,
         "Payer Name": "Jason Conrad",
         "CC Number": 4581233003487,
         "Payment ID": "Thur6048",
         "_deepnote_index_column": 200
        },
        {
         "total_bill": 12.74,
         "tip": 2.01,
         "sex": "Female",
         "smoker": "Yes",
         "day": "Thur",
         "time": "Lunch",
         "size": 2,
         "price_per_person": 6.37,
         "Payer Name": "Abigail Parks",
         "CC Number": 3586645396220590,
         "Payment ID": "Thur2544",
         "_deepnote_index_column": 201
        },
        {
         "total_bill": 13,
         "tip": 2,
         "sex": "Female",
         "smoker": "Yes",
         "day": "Thur",
         "time": "Lunch",
         "size": 2,
         "price_per_person": 6.5,
         "Payer Name": "Ashley Shaw",
         "CC Number": 180088043008041,
         "Payment ID": "Thur1301",
         "_deepnote_index_column": 202
        },
        {
         "total_bill": 16.4,
         "tip": 2.5,
         "sex": "Female",
         "smoker": "Yes",
         "day": "Thur",
         "time": "Lunch",
         "size": 2,
         "price_per_person": 8.2,
         "Payer Name": "Toni Brooks",
         "CC Number": 3582289985920239,
         "Payment ID": "Thur7770",
         "_deepnote_index_column": 203
        },
        {
         "total_bill": 20.53,
         "tip": 4,
         "sex": "Male",
         "smoker": "Yes",
         "day": "Thur",
         "time": "Lunch",
         "size": 4,
         "price_per_person": 5.13,
         "Payer Name": "Scott Kim",
         "CC Number": 3570611756827620,
         "Payment ID": "Thur2160",
         "_deepnote_index_column": 204
        },
        {
         "total_bill": 16.47,
         "tip": 3.23,
         "sex": "Female",
         "smoker": "Yes",
         "day": "Thur",
         "time": "Lunch",
         "size": 3,
         "price_per_person": 5.49,
         "Payer Name": "Carly Reyes",
         "CC Number": 4787787236486,
         "Payment ID": "Thur8084",
         "_deepnote_index_column": 205
        },
        {
         "total_bill": 26.59,
         "tip": 3.41,
         "sex": "Male",
         "smoker": "Yes",
         "day": "Sat",
         "time": "Dinner",
         "size": 3,
         "price_per_person": 8.86,
         "Payer Name": "Daniel Owens",
         "CC Number": 38971087967574,
         "Payment ID": "Sat1",
         "_deepnote_index_column": 206
        },
        {
         "total_bill": 38.73,
         "tip": 3,
         "sex": "Male",
         "smoker": "Yes",
         "day": "Sat",
         "time": "Dinner",
         "size": 4,
         "price_per_person": 9.68,
         "Payer Name": "Ricky Ramirez",
         "CC Number": 347817964484033,
         "Payment ID": "Sat4505",
         "_deepnote_index_column": 207
        },
        {
         "total_bill": 24.27,
         "tip": 2.03,
         "sex": "Male",
         "smoker": "Yes",
         "day": "Sat",
         "time": "Dinner",
         "size": 2,
         "price_per_person": 12.14,
         "Payer Name": "Jason Carter",
         "CC Number": 4268942915626180,
         "Payment ID": "Sat6048",
         "_deepnote_index_column": 208
        },
        {
         "total_bill": 12.76,
         "tip": 2.23,
         "sex": "Female",
         "smoker": "Yes",
         "day": "Sat",
         "time": "Dinner",
         "size": 2,
         "price_per_person": 6.38,
         "Payer Name": "Sarah Cunningham",
         "CC Number": 341876516331163,
         "Payment ID": "Sat1274",
         "_deepnote_index_column": 209
        },
        {
         "total_bill": 30.06,
         "tip": 2,
         "sex": "Male",
         "smoker": "Yes",
         "day": "Sat",
         "time": "Dinner",
         "size": 3,
         "price_per_person": 10.02,
         "Payer Name": "Shawn Mendoza",
         "CC Number": 30184049218122,
         "Payment ID": "Sat8361",
         "_deepnote_index_column": 210
        },
        {
         "total_bill": 25.89,
         "tip": 5.16,
         "sex": "Male",
         "smoker": "Yes",
         "day": "Sat",
         "time": "Dinner",
         "size": 4,
         "price_per_person": 6.47,
         "Payer Name": "Christopher Li",
         "CC Number": 6011962464150569,
         "Payment ID": "Sat6735",
         "_deepnote_index_column": 211
        },
        {
         "total_bill": 48.33,
         "tip": 9,
         "sex": "Male",
         "smoker": "No",
         "day": "Sat",
         "time": "Dinner",
         "size": 4,
         "price_per_person": 12.08,
         "Payer Name": "Alex Williamson",
         "CC Number": 676218815212,
         "Payment ID": "Sat4590",
         "_deepnote_index_column": 212
        },
        {
         "total_bill": 13.27,
         "tip": 2.5,
         "sex": "Female",
         "smoker": "Yes",
         "day": "Sat",
         "time": "Dinner",
         "size": 2,
         "price_per_person": 6.64,
         "Payer Name": "Robin Andersen",
         "CC Number": 580140531089,
         "Payment ID": "Sat1374",
         "_deepnote_index_column": 213
        },
        {
         "total_bill": 28.17,
         "tip": 6.5,
         "sex": "Female",
         "smoker": "Yes",
         "day": "Sat",
         "time": "Dinner",
         "size": 3,
         "price_per_person": 9.39,
         "Payer Name": "Marissa Jackson",
         "CC Number": 4922302538691962,
         "Payment ID": "Sat3374",
         "_deepnote_index_column": 214
        },
        {
         "total_bill": 12.9,
         "tip": 1.1,
         "sex": "Female",
         "smoker": "Yes",
         "day": "Sat",
         "time": "Dinner",
         "size": 2,
         "price_per_person": 6.45,
         "Payer Name": "Jessica Owen",
         "CC Number": 4726904879471,
         "Payment ID": "Sat6983",
         "_deepnote_index_column": 215
        },
        {
         "total_bill": 28.15,
         "tip": 3,
         "sex": "Male",
         "smoker": "Yes",
         "day": "Sat",
         "time": "Dinner",
         "size": 5,
         "price_per_person": 5.63,
         "Payer Name": "Shawn Barnett PhD",
         "CC Number": 4590982568244,
         "Payment ID": "Sat7320",
         "_deepnote_index_column": 216
        },
        {
         "total_bill": 11.59,
         "tip": 1.5,
         "sex": "Male",
         "smoker": "Yes",
         "day": "Sat",
         "time": "Dinner",
         "size": 2,
         "price_per_person": 5.8,
         "Payer Name": "Gary Orr",
         "CC Number": 30324521283406,
         "Payment ID": "Sat8489",
         "_deepnote_index_column": 217
        },
        {
         "total_bill": 7.74,
         "tip": 1.44,
         "sex": "Male",
         "smoker": "Yes",
         "day": "Sat",
         "time": "Dinner",
         "size": 2,
         "price_per_person": 3.87,
         "Payer Name": "Nicholas Archer",
         "CC Number": 340517153733524,
         "Payment ID": "Sat4772",
         "_deepnote_index_column": 218
        },
        {
         "total_bill": 30.14,
         "tip": 3.09,
         "sex": "Female",
         "smoker": "Yes",
         "day": "Sat",
         "time": "Dinner",
         "size": 4,
         "price_per_person": 7.54,
         "Payer Name": "Shelby House",
         "CC Number": 502097403252,
         "Payment ID": "Sat8863",
         "_deepnote_index_column": 219
        },
        {
         "total_bill": 12.16,
         "tip": 2.2,
         "sex": "Male",
         "smoker": "Yes",
         "day": "Fri",
         "time": "Lunch",
         "size": 2,
         "price_per_person": 6.08,
         "Payer Name": "Ricky Johnson",
         "CC Number": 213109508670736,
         "Payment ID": "Fri4607",
         "_deepnote_index_column": 220
        },
        {
         "total_bill": 13.42,
         "tip": 3.48,
         "sex": "Female",
         "smoker": "Yes",
         "day": "Fri",
         "time": "Lunch",
         "size": 2,
         "price_per_person": 6.71,
         "Payer Name": "Leslie Kaufman",
         "CC Number": 379437981958785,
         "Payment ID": "Fri7511",
         "_deepnote_index_column": 221
        },
        {
         "total_bill": 8.58,
         "tip": 1.92,
         "sex": "Male",
         "smoker": "Yes",
         "day": "Fri",
         "time": "Lunch",
         "size": 1,
         "price_per_person": 8.58,
         "Payer Name": "Jason Lawrence",
         "CC Number": 3505302934650403,
         "Payment ID": "Fri6624",
         "_deepnote_index_column": 222
        },
        {
         "total_bill": 15.98,
         "tip": 3,
         "sex": "Female",
         "smoker": "No",
         "day": "Fri",
         "time": "Lunch",
         "size": 3,
         "price_per_person": 5.33,
         "Payer Name": "Mary Rivera",
         "CC Number": 5343428579353069,
         "Payment ID": "Fri6014",
         "_deepnote_index_column": 223
        },
        {
         "total_bill": 13.42,
         "tip": 1.58,
         "sex": "Male",
         "smoker": "Yes",
         "day": "Fri",
         "time": "Lunch",
         "size": 2,
         "price_per_person": 6.71,
         "Payer Name": "Ronald Vaughn DVM",
         "CC Number": 341503466406403,
         "Payment ID": "Fri5959",
         "_deepnote_index_column": 224
        },
        {
         "total_bill": 16.27,
         "tip": 2.5,
         "sex": "Female",
         "smoker": "Yes",
         "day": "Fri",
         "time": "Lunch",
         "size": 2,
         "price_per_person": 8.14,
         "Payer Name": "Whitney Arnold",
         "CC Number": 3579111947217428,
         "Payment ID": "Fri6665",
         "_deepnote_index_column": 225
        },
        {
         "total_bill": 10.09,
         "tip": 2,
         "sex": "Female",
         "smoker": "Yes",
         "day": "Fri",
         "time": "Lunch",
         "size": 2,
         "price_per_person": 5.04,
         "Payer Name": "Ruth Weiss",
         "CC Number": 5268689490381635,
         "Payment ID": "Fri6359",
         "_deepnote_index_column": 226
        },
        {
         "total_bill": 20.45,
         "tip": 3,
         "sex": "Male",
         "smoker": "No",
         "day": "Sat",
         "time": "Dinner",
         "size": 4,
         "price_per_person": 5.11,
         "Payer Name": "Robert Bradley",
         "CC Number": 213141668145910,
         "Payment ID": "Sat4319",
         "_deepnote_index_column": 227
        },
        {
         "total_bill": 13.28,
         "tip": 2.72,
         "sex": "Male",
         "smoker": "No",
         "day": "Sat",
         "time": "Dinner",
         "size": 2,
         "price_per_person": 6.64,
         "Payer Name": "Glenn Jones",
         "CC Number": 502061651712,
         "Payment ID": "Sat2937",
         "_deepnote_index_column": 228
        },
        {
         "total_bill": 22.12,
         "tip": 2.88,
         "sex": "Female",
         "smoker": "Yes",
         "day": "Sat",
         "time": "Dinner",
         "size": 2,
         "price_per_person": 11.06,
         "Payer Name": "Jennifer Russell",
         "CC Number": 4793003293608,
         "Payment ID": "Sat3943",
         "_deepnote_index_column": 229
        },
        {
         "total_bill": 24.01,
         "tip": 2,
         "sex": "Male",
         "smoker": "Yes",
         "day": "Sat",
         "time": "Dinner",
         "size": 4,
         "price_per_person": 6,
         "Payer Name": "Michael Osborne",
         "CC Number": 4258682154026,
         "Payment ID": "Sat7872",
         "_deepnote_index_column": 230
        },
        {
         "total_bill": 15.69,
         "tip": 3,
         "sex": "Male",
         "smoker": "Yes",
         "day": "Sat",
         "time": "Dinner",
         "size": 3,
         "price_per_person": 5.23,
         "Payer Name": "Jason Parks",
         "CC Number": 4812333796161,
         "Payment ID": "Sat6334",
         "_deepnote_index_column": 231
        },
        {
         "total_bill": 11.61,
         "tip": 3.39,
         "sex": "Male",
         "smoker": "No",
         "day": "Sat",
         "time": "Dinner",
         "size": 2,
         "price_per_person": 5.8,
         "Payer Name": "James Taylor",
         "CC Number": 6011482917327995,
         "Payment ID": "Sat2124",
         "_deepnote_index_column": 232
        },
        {
         "total_bill": 10.77,
         "tip": 1.47,
         "sex": "Male",
         "smoker": "No",
         "day": "Sat",
         "time": "Dinner",
         "size": 2,
         "price_per_person": 5.38,
         "Payer Name": "Paul Novak",
         "CC Number": 6011698897610858,
         "Payment ID": "Sat1467",
         "_deepnote_index_column": 233
        },
        {
         "total_bill": 15.53,
         "tip": 3,
         "sex": "Male",
         "smoker": "Yes",
         "day": "Sat",
         "time": "Dinner",
         "size": 2,
         "price_per_person": 7.76,
         "Payer Name": "Tracy Douglas",
         "CC Number": 4097938155941930,
         "Payment ID": "Sat7220",
         "_deepnote_index_column": 234
        },
        {
         "total_bill": 10.07,
         "tip": 1.25,
         "sex": "Male",
         "smoker": "No",
         "day": "Sat",
         "time": "Dinner",
         "size": 2,
         "price_per_person": 5.04,
         "Payer Name": "Sean Gonzalez",
         "CC Number": 3534021246117605,
         "Payment ID": "Sat4615",
         "_deepnote_index_column": 235
        },
        {
         "total_bill": 12.6,
         "tip": 1,
         "sex": "Male",
         "smoker": "Yes",
         "day": "Sat",
         "time": "Dinner",
         "size": 2,
         "price_per_person": 6.3,
         "Payer Name": "Matthew Myers",
         "CC Number": 3543676378973965,
         "Payment ID": "Sat5032",
         "_deepnote_index_column": 236
        },
        {
         "total_bill": 32.83,
         "tip": 1.17,
         "sex": "Male",
         "smoker": "Yes",
         "day": "Sat",
         "time": "Dinner",
         "size": 2,
         "price_per_person": 16.42,
         "Payer Name": "Thomas Brown",
         "CC Number": 4284722681265508,
         "Payment ID": "Sat2929",
         "_deepnote_index_column": 237
        },
        {
         "total_bill": 35.83,
         "tip": 4.67,
         "sex": "Female",
         "smoker": "No",
         "day": "Sat",
         "time": "Dinner",
         "size": 3,
         "price_per_person": 11.94,
         "Payer Name": "Kimberly Crane",
         "CC Number": 676184013727,
         "Payment ID": "Sat9777",
         "_deepnote_index_column": 238
        },
        {
         "total_bill": 29.03,
         "tip": 5.92,
         "sex": "Male",
         "smoker": "No",
         "day": "Sat",
         "time": "Dinner",
         "size": 3,
         "price_per_person": 9.68,
         "Payer Name": "Michael Avila",
         "CC Number": 5296068606052842,
         "Payment ID": "Sat2657",
         "_deepnote_index_column": 239
        },
        {
         "total_bill": 27.18,
         "tip": 2,
         "sex": "Female",
         "smoker": "Yes",
         "day": "Sat",
         "time": "Dinner",
         "size": 2,
         "price_per_person": 13.59,
         "Payer Name": "Monica Sanders",
         "CC Number": 3506806155565404,
         "Payment ID": "Sat1766",
         "_deepnote_index_column": 240
        },
        {
         "total_bill": 22.67,
         "tip": 2,
         "sex": "Male",
         "smoker": "Yes",
         "day": "Sat",
         "time": "Dinner",
         "size": 2,
         "price_per_person": 11.34,
         "Payer Name": "Keith Wong",
         "CC Number": 6011891618747196,
         "Payment ID": "Sat3880",
         "_deepnote_index_column": 241
        },
        {
         "total_bill": 17.82,
         "tip": 1.75,
         "sex": "Male",
         "smoker": "No",
         "day": "Sat",
         "time": "Dinner",
         "size": 2,
         "price_per_person": 8.91,
         "Payer Name": "Dennis Dixon",
         "CC Number": 4375220550950,
         "Payment ID": "Sat17",
         "_deepnote_index_column": 242
        },
        {
         "total_bill": 18.78,
         "tip": 3,
         "sex": "Female",
         "smoker": "No",
         "day": "Thur",
         "time": "Dinner",
         "size": 2,
         "price_per_person": 9.39,
         "Payer Name": "Michelle Hardin",
         "CC Number": 3511451626698139,
         "Payment ID": "Thur672",
         "_deepnote_index_column": 243
        }
       ]
      },
      "text/plain": "     total_bill   tip     sex smoker   day    time  size  price_per_person  \\\n0         16.99  1.01  Female     No   Sun  Dinner     2              8.49   \n1         10.34  1.66    Male     No   Sun  Dinner     3              3.45   \n2         21.01  3.50    Male     No   Sun  Dinner     3              7.00   \n3         23.68  3.31    Male     No   Sun  Dinner     2             11.84   \n4         24.59  3.61  Female     No   Sun  Dinner     4              6.15   \n..          ...   ...     ...    ...   ...     ...   ...               ...   \n239       29.03  5.92    Male     No   Sat  Dinner     3              9.68   \n240       27.18  2.00  Female    Yes   Sat  Dinner     2             13.59   \n241       22.67  2.00    Male    Yes   Sat  Dinner     2             11.34   \n242       17.82  1.75    Male     No   Sat  Dinner     2              8.91   \n243       18.78  3.00  Female     No  Thur  Dinner     2              9.39   \n\n             Payer Name         CC Number Payment ID  \n0    Christy Cunningham  3560325168603410    Sun2959  \n1        Douglas Tucker  4478071379779230    Sun4608  \n2        Travis Walters  6011812112971322    Sun4458  \n3      Nathaniel Harris  4676137647685994    Sun5260  \n4          Tonya Carter  4832732618637221    Sun2251  \n..                  ...               ...        ...  \n239       Michael Avila  5296068606052842    Sat2657  \n240      Monica Sanders  3506806155565404    Sat1766  \n241          Keith Wong  6011891618747196    Sat3880  \n242        Dennis Dixon     4375220550950      Sat17  \n243     Michelle Hardin  3511451626698139    Thur672  \n\n[244 rows x 11 columns]",
      "text/html": "<div>\n<style scoped>\n    .dataframe tbody tr th:only-of-type {\n        vertical-align: middle;\n    }\n\n    .dataframe tbody tr th {\n        vertical-align: top;\n    }\n\n    .dataframe thead th {\n        text-align: right;\n    }\n</style>\n<table border=\"1\" class=\"dataframe\">\n  <thead>\n    <tr style=\"text-align: right;\">\n      <th></th>\n      <th>total_bill</th>\n      <th>tip</th>\n      <th>sex</th>\n      <th>smoker</th>\n      <th>day</th>\n      <th>time</th>\n      <th>size</th>\n      <th>price_per_person</th>\n      <th>Payer Name</th>\n      <th>CC Number</th>\n      <th>Payment ID</th>\n    </tr>\n  </thead>\n  <tbody>\n    <tr>\n      <th>0</th>\n      <td>16.99</td>\n      <td>1.01</td>\n      <td>Female</td>\n      <td>No</td>\n      <td>Sun</td>\n      <td>Dinner</td>\n      <td>2</td>\n      <td>8.49</td>\n      <td>Christy Cunningham</td>\n      <td>3560325168603410</td>\n      <td>Sun2959</td>\n    </tr>\n    <tr>\n      <th>1</th>\n      <td>10.34</td>\n      <td>1.66</td>\n      <td>Male</td>\n      <td>No</td>\n      <td>Sun</td>\n      <td>Dinner</td>\n      <td>3</td>\n      <td>3.45</td>\n      <td>Douglas Tucker</td>\n      <td>4478071379779230</td>\n      <td>Sun4608</td>\n    </tr>\n    <tr>\n      <th>2</th>\n      <td>21.01</td>\n      <td>3.50</td>\n      <td>Male</td>\n      <td>No</td>\n      <td>Sun</td>\n      <td>Dinner</td>\n      <td>3</td>\n      <td>7.00</td>\n      <td>Travis Walters</td>\n      <td>6011812112971322</td>\n      <td>Sun4458</td>\n    </tr>\n    <tr>\n      <th>3</th>\n      <td>23.68</td>\n      <td>3.31</td>\n      <td>Male</td>\n      <td>No</td>\n      <td>Sun</td>\n      <td>Dinner</td>\n      <td>2</td>\n      <td>11.84</td>\n      <td>Nathaniel Harris</td>\n      <td>4676137647685994</td>\n      <td>Sun5260</td>\n    </tr>\n    <tr>\n      <th>4</th>\n      <td>24.59</td>\n      <td>3.61</td>\n      <td>Female</td>\n      <td>No</td>\n      <td>Sun</td>\n      <td>Dinner</td>\n      <td>4</td>\n      <td>6.15</td>\n      <td>Tonya Carter</td>\n      <td>4832732618637221</td>\n      <td>Sun2251</td>\n    </tr>\n    <tr>\n      <th>...</th>\n      <td>...</td>\n      <td>...</td>\n      <td>...</td>\n      <td>...</td>\n      <td>...</td>\n      <td>...</td>\n      <td>...</td>\n      <td>...</td>\n      <td>...</td>\n      <td>...</td>\n      <td>...</td>\n    </tr>\n    <tr>\n      <th>239</th>\n      <td>29.03</td>\n      <td>5.92</td>\n      <td>Male</td>\n      <td>No</td>\n      <td>Sat</td>\n      <td>Dinner</td>\n      <td>3</td>\n      <td>9.68</td>\n      <td>Michael Avila</td>\n      <td>5296068606052842</td>\n      <td>Sat2657</td>\n    </tr>\n    <tr>\n      <th>240</th>\n      <td>27.18</td>\n      <td>2.00</td>\n      <td>Female</td>\n      <td>Yes</td>\n      <td>Sat</td>\n      <td>Dinner</td>\n      <td>2</td>\n      <td>13.59</td>\n      <td>Monica Sanders</td>\n      <td>3506806155565404</td>\n      <td>Sat1766</td>\n    </tr>\n    <tr>\n      <th>241</th>\n      <td>22.67</td>\n      <td>2.00</td>\n      <td>Male</td>\n      <td>Yes</td>\n      <td>Sat</td>\n      <td>Dinner</td>\n      <td>2</td>\n      <td>11.34</td>\n      <td>Keith Wong</td>\n      <td>6011891618747196</td>\n      <td>Sat3880</td>\n    </tr>\n    <tr>\n      <th>242</th>\n      <td>17.82</td>\n      <td>1.75</td>\n      <td>Male</td>\n      <td>No</td>\n      <td>Sat</td>\n      <td>Dinner</td>\n      <td>2</td>\n      <td>8.91</td>\n      <td>Dennis Dixon</td>\n      <td>4375220550950</td>\n      <td>Sat17</td>\n    </tr>\n    <tr>\n      <th>243</th>\n      <td>18.78</td>\n      <td>3.00</td>\n      <td>Female</td>\n      <td>No</td>\n      <td>Thur</td>\n      <td>Dinner</td>\n      <td>2</td>\n      <td>9.39</td>\n      <td>Michelle Hardin</td>\n      <td>3511451626698139</td>\n      <td>Thur672</td>\n    </tr>\n  </tbody>\n</table>\n<p>244 rows × 11 columns</p>\n</div>"
     },
     "metadata": {}
    }
   ],
   "execution_count": null
  },
  {
   "cell_type": "code",
   "metadata": {
    "tags": [],
    "cell_id": "00010-7bd69602-8985-4aa7-8aec-fbea86e43306",
    "deepnote_to_be_reexecuted": false,
    "source_hash": "25d43fa0",
    "execution_start": 1622282522746,
    "execution_millis": 705670,
    "deepnote_cell_type": "code"
   },
   "source": "df.columns",
   "outputs": [
    {
     "output_type": "execute_result",
     "execution_count": 11,
     "data": {
      "text/plain": "Index(['total_bill', 'tip', 'sex', 'smoker', 'day', 'time', 'size',\n       'price_per_person', 'Payer Name', 'CC Number', 'Payment ID'],\n      dtype='object')"
     },
     "metadata": {}
    }
   ],
   "execution_count": null
  },
  {
   "cell_type": "code",
   "metadata": {
    "tags": [],
    "cell_id": "00011-ffcffe34-214d-4fee-898a-c913f4531bb8",
    "deepnote_to_be_reexecuted": false,
    "source_hash": "651ad380",
    "execution_start": 1622282522794,
    "execution_millis": 5,
    "deepnote_cell_type": "code"
   },
   "source": "df.index",
   "outputs": [
    {
     "output_type": "execute_result",
     "execution_count": 12,
     "data": {
      "text/plain": "RangeIndex(start=0, stop=244, step=1)"
     },
     "metadata": {}
    }
   ],
   "execution_count": null
  },
  {
   "cell_type": "code",
   "metadata": {
    "tags": [],
    "cell_id": "00012-20d3b119-0e96-4921-8819-872533e1fe95",
    "deepnote_to_be_reexecuted": false,
    "source_hash": "c085b6ba",
    "execution_start": 1622282522842,
    "execution_millis": 13,
    "deepnote_cell_type": "code"
   },
   "source": "df.head()",
   "outputs": [
    {
     "output_type": "execute_result",
     "execution_count": 13,
     "data": {
      "application/vnd.deepnote.dataframe.v2+json": {
       "row_count": 5,
       "column_count": 11,
       "columns": [
        {
         "name": "total_bill",
         "dtype": "float64",
         "stats": {
          "unique_count": 5,
          "nan_count": 0,
          "min": "10.34",
          "max": "24.59",
          "histogram": [
           {
            "bin_start": 10.34,
            "bin_end": 11.765,
            "count": 1
           },
           {
            "bin_start": 11.765,
            "bin_end": 13.19,
            "count": 0
           },
           {
            "bin_start": 13.19,
            "bin_end": 14.615,
            "count": 0
           },
           {
            "bin_start": 14.615,
            "bin_end": 16.04,
            "count": 0
           },
           {
            "bin_start": 16.04,
            "bin_end": 17.465,
            "count": 1
           },
           {
            "bin_start": 17.465,
            "bin_end": 18.89,
            "count": 0
           },
           {
            "bin_start": 18.89,
            "bin_end": 20.314999999999998,
            "count": 0
           },
           {
            "bin_start": 20.314999999999998,
            "bin_end": 21.740000000000002,
            "count": 1
           },
           {
            "bin_start": 21.740000000000002,
            "bin_end": 23.165,
            "count": 0
           },
           {
            "bin_start": 23.165,
            "bin_end": 24.59,
            "count": 2
           }
          ]
         }
        },
        {
         "name": "tip",
         "dtype": "float64",
         "stats": {
          "unique_count": 5,
          "nan_count": 0,
          "min": "1.01",
          "max": "3.61",
          "histogram": [
           {
            "bin_start": 1.01,
            "bin_end": 1.27,
            "count": 1
           },
           {
            "bin_start": 1.27,
            "bin_end": 1.5299999999999998,
            "count": 0
           },
           {
            "bin_start": 1.5299999999999998,
            "bin_end": 1.7899999999999998,
            "count": 1
           },
           {
            "bin_start": 1.7899999999999998,
            "bin_end": 2.05,
            "count": 0
           },
           {
            "bin_start": 2.05,
            "bin_end": 2.3099999999999996,
            "count": 0
           },
           {
            "bin_start": 2.3099999999999996,
            "bin_end": 2.5699999999999994,
            "count": 0
           },
           {
            "bin_start": 2.5699999999999994,
            "bin_end": 2.8299999999999996,
            "count": 0
           },
           {
            "bin_start": 2.8299999999999996,
            "bin_end": 3.09,
            "count": 0
           },
           {
            "bin_start": 3.09,
            "bin_end": 3.3499999999999996,
            "count": 1
           },
           {
            "bin_start": 3.3499999999999996,
            "bin_end": 3.61,
            "count": 2
           }
          ]
         }
        },
        {
         "name": "sex",
         "dtype": "object",
         "stats": {
          "unique_count": 2,
          "nan_count": 0,
          "categories": [
           {
            "name": "Male",
            "count": 3
           },
           {
            "name": "Female",
            "count": 2
           }
          ]
         }
        },
        {
         "name": "smoker",
         "dtype": "object",
         "stats": {
          "unique_count": 1,
          "nan_count": 0,
          "categories": [
           {
            "name": "No",
            "count": 5
           }
          ]
         }
        },
        {
         "name": "day",
         "dtype": "object",
         "stats": {
          "unique_count": 1,
          "nan_count": 0,
          "categories": [
           {
            "name": "Sun",
            "count": 5
           }
          ]
         }
        },
        {
         "name": "time",
         "dtype": "object",
         "stats": {
          "unique_count": 1,
          "nan_count": 0,
          "categories": [
           {
            "name": "Dinner",
            "count": 5
           }
          ]
         }
        },
        {
         "name": "size",
         "dtype": "int64",
         "stats": {
          "unique_count": 3,
          "nan_count": 0,
          "min": "2",
          "max": "4",
          "histogram": [
           {
            "bin_start": 2,
            "bin_end": 2.2,
            "count": 2
           },
           {
            "bin_start": 2.2,
            "bin_end": 2.4,
            "count": 0
           },
           {
            "bin_start": 2.4,
            "bin_end": 2.6,
            "count": 0
           },
           {
            "bin_start": 2.6,
            "bin_end": 2.8,
            "count": 0
           },
           {
            "bin_start": 2.8,
            "bin_end": 3,
            "count": 0
           },
           {
            "bin_start": 3,
            "bin_end": 3.2,
            "count": 2
           },
           {
            "bin_start": 3.2,
            "bin_end": 3.4000000000000004,
            "count": 0
           },
           {
            "bin_start": 3.4000000000000004,
            "bin_end": 3.6,
            "count": 0
           },
           {
            "bin_start": 3.6,
            "bin_end": 3.8,
            "count": 0
           },
           {
            "bin_start": 3.8,
            "bin_end": 4,
            "count": 1
           }
          ]
         }
        },
        {
         "name": "price_per_person",
         "dtype": "float64",
         "stats": {
          "unique_count": 5,
          "nan_count": 0,
          "min": "3.45",
          "max": "11.84",
          "histogram": [
           {
            "bin_start": 3.45,
            "bin_end": 4.289000000000001,
            "count": 1
           },
           {
            "bin_start": 4.289000000000001,
            "bin_end": 5.128,
            "count": 0
           },
           {
            "bin_start": 5.128,
            "bin_end": 5.9670000000000005,
            "count": 0
           },
           {
            "bin_start": 5.9670000000000005,
            "bin_end": 6.806000000000001,
            "count": 1
           },
           {
            "bin_start": 6.806000000000001,
            "bin_end": 7.6450000000000005,
            "count": 1
           },
           {
            "bin_start": 7.6450000000000005,
            "bin_end": 8.484000000000002,
            "count": 0
           },
           {
            "bin_start": 8.484000000000002,
            "bin_end": 9.323,
            "count": 1
           },
           {
            "bin_start": 9.323,
            "bin_end": 10.162,
            "count": 0
           },
           {
            "bin_start": 10.162,
            "bin_end": 11.001000000000001,
            "count": 0
           },
           {
            "bin_start": 11.001000000000001,
            "bin_end": 11.84,
            "count": 1
           }
          ]
         }
        },
        {
         "name": "Payer Name",
         "dtype": "object",
         "stats": {
          "unique_count": 5,
          "nan_count": 0,
          "categories": [
           {
            "name": "Christy Cunningham",
            "count": 1
           },
           {
            "name": "Douglas Tucker",
            "count": 1
           },
           {
            "name": "3 others",
            "count": 3
           }
          ]
         }
        },
        {
         "name": "CC Number",
         "dtype": "int64",
         "stats": {
          "unique_count": 5,
          "nan_count": 0,
          "min": "3560325168603410",
          "max": "6011812112971322",
          "histogram": [
           {
            "bin_start": 3560325168603410,
            "bin_end": 3805473863040201,
            "count": 1
           },
           {
            "bin_start": 3805473863040201,
            "bin_end": 4050622557476992.5,
            "count": 0
           },
           {
            "bin_start": 4050622557476992.5,
            "bin_end": 4295771251913783.5,
            "count": 0
           },
           {
            "bin_start": 4295771251913783.5,
            "bin_end": 4540919946350575,
            "count": 1
           },
           {
            "bin_start": 4540919946350575,
            "bin_end": 4786068640787366,
            "count": 1
           },
           {
            "bin_start": 4786068640787366,
            "bin_end": 5031217335224157,
            "count": 1
           },
           {
            "bin_start": 5031217335224157,
            "bin_end": 5276366029660948,
            "count": 0
           },
           {
            "bin_start": 5276366029660948,
            "bin_end": 5521514724097740,
            "count": 0
           },
           {
            "bin_start": 5521514724097740,
            "bin_end": 5766663418534531,
            "count": 0
           },
           {
            "bin_start": 5766663418534531,
            "bin_end": 6011812112971322,
            "count": 1
           }
          ]
         }
        },
        {
         "name": "Payment ID",
         "dtype": "object",
         "stats": {
          "unique_count": 5,
          "nan_count": 0,
          "categories": [
           {
            "name": "Sun2959",
            "count": 1
           },
           {
            "name": "Sun4608",
            "count": 1
           },
           {
            "name": "3 others",
            "count": 3
           }
          ]
         }
        },
        {
         "name": "_deepnote_index_column",
         "dtype": "int64"
        }
       ],
       "rows_top": [
        {
         "total_bill": 16.99,
         "tip": 1.01,
         "sex": "Female",
         "smoker": "No",
         "day": "Sun",
         "time": "Dinner",
         "size": 2,
         "price_per_person": 8.49,
         "Payer Name": "Christy Cunningham",
         "CC Number": 3560325168603410,
         "Payment ID": "Sun2959",
         "_deepnote_index_column": 0
        },
        {
         "total_bill": 10.34,
         "tip": 1.66,
         "sex": "Male",
         "smoker": "No",
         "day": "Sun",
         "time": "Dinner",
         "size": 3,
         "price_per_person": 3.45,
         "Payer Name": "Douglas Tucker",
         "CC Number": 4478071379779230,
         "Payment ID": "Sun4608",
         "_deepnote_index_column": 1
        },
        {
         "total_bill": 21.01,
         "tip": 3.5,
         "sex": "Male",
         "smoker": "No",
         "day": "Sun",
         "time": "Dinner",
         "size": 3,
         "price_per_person": 7,
         "Payer Name": "Travis Walters",
         "CC Number": 6011812112971322,
         "Payment ID": "Sun4458",
         "_deepnote_index_column": 2
        },
        {
         "total_bill": 23.68,
         "tip": 3.31,
         "sex": "Male",
         "smoker": "No",
         "day": "Sun",
         "time": "Dinner",
         "size": 2,
         "price_per_person": 11.84,
         "Payer Name": "Nathaniel Harris",
         "CC Number": 4676137647685994,
         "Payment ID": "Sun5260",
         "_deepnote_index_column": 3
        },
        {
         "total_bill": 24.59,
         "tip": 3.61,
         "sex": "Female",
         "smoker": "No",
         "day": "Sun",
         "time": "Dinner",
         "size": 4,
         "price_per_person": 6.15,
         "Payer Name": "Tonya Carter",
         "CC Number": 4832732618637221,
         "Payment ID": "Sun2251",
         "_deepnote_index_column": 4
        }
       ],
       "rows_bottom": null
      },
      "text/plain": "   total_bill   tip     sex smoker  day    time  size  price_per_person  \\\n0       16.99  1.01  Female     No  Sun  Dinner     2              8.49   \n1       10.34  1.66    Male     No  Sun  Dinner     3              3.45   \n2       21.01  3.50    Male     No  Sun  Dinner     3              7.00   \n3       23.68  3.31    Male     No  Sun  Dinner     2             11.84   \n4       24.59  3.61  Female     No  Sun  Dinner     4              6.15   \n\n           Payer Name         CC Number Payment ID  \n0  Christy Cunningham  3560325168603410    Sun2959  \n1      Douglas Tucker  4478071379779230    Sun4608  \n2      Travis Walters  6011812112971322    Sun4458  \n3    Nathaniel Harris  4676137647685994    Sun5260  \n4        Tonya Carter  4832732618637221    Sun2251  ",
      "text/html": "<div>\n<style scoped>\n    .dataframe tbody tr th:only-of-type {\n        vertical-align: middle;\n    }\n\n    .dataframe tbody tr th {\n        vertical-align: top;\n    }\n\n    .dataframe thead th {\n        text-align: right;\n    }\n</style>\n<table border=\"1\" class=\"dataframe\">\n  <thead>\n    <tr style=\"text-align: right;\">\n      <th></th>\n      <th>total_bill</th>\n      <th>tip</th>\n      <th>sex</th>\n      <th>smoker</th>\n      <th>day</th>\n      <th>time</th>\n      <th>size</th>\n      <th>price_per_person</th>\n      <th>Payer Name</th>\n      <th>CC Number</th>\n      <th>Payment ID</th>\n    </tr>\n  </thead>\n  <tbody>\n    <tr>\n      <th>0</th>\n      <td>16.99</td>\n      <td>1.01</td>\n      <td>Female</td>\n      <td>No</td>\n      <td>Sun</td>\n      <td>Dinner</td>\n      <td>2</td>\n      <td>8.49</td>\n      <td>Christy Cunningham</td>\n      <td>3560325168603410</td>\n      <td>Sun2959</td>\n    </tr>\n    <tr>\n      <th>1</th>\n      <td>10.34</td>\n      <td>1.66</td>\n      <td>Male</td>\n      <td>No</td>\n      <td>Sun</td>\n      <td>Dinner</td>\n      <td>3</td>\n      <td>3.45</td>\n      <td>Douglas Tucker</td>\n      <td>4478071379779230</td>\n      <td>Sun4608</td>\n    </tr>\n    <tr>\n      <th>2</th>\n      <td>21.01</td>\n      <td>3.50</td>\n      <td>Male</td>\n      <td>No</td>\n      <td>Sun</td>\n      <td>Dinner</td>\n      <td>3</td>\n      <td>7.00</td>\n      <td>Travis Walters</td>\n      <td>6011812112971322</td>\n      <td>Sun4458</td>\n    </tr>\n    <tr>\n      <th>3</th>\n      <td>23.68</td>\n      <td>3.31</td>\n      <td>Male</td>\n      <td>No</td>\n      <td>Sun</td>\n      <td>Dinner</td>\n      <td>2</td>\n      <td>11.84</td>\n      <td>Nathaniel Harris</td>\n      <td>4676137647685994</td>\n      <td>Sun5260</td>\n    </tr>\n    <tr>\n      <th>4</th>\n      <td>24.59</td>\n      <td>3.61</td>\n      <td>Female</td>\n      <td>No</td>\n      <td>Sun</td>\n      <td>Dinner</td>\n      <td>4</td>\n      <td>6.15</td>\n      <td>Tonya Carter</td>\n      <td>4832732618637221</td>\n      <td>Sun2251</td>\n    </tr>\n  </tbody>\n</table>\n</div>"
     },
     "metadata": {}
    }
   ],
   "execution_count": null
  },
  {
   "cell_type": "code",
   "metadata": {
    "tags": [],
    "cell_id": "00013-28237891-09ac-43b2-afbe-a906869af110",
    "deepnote_to_be_reexecuted": false,
    "source_hash": "de1e323c",
    "execution_start": 1622282522855,
    "execution_millis": 29,
    "deepnote_cell_type": "code"
   },
   "source": "df.info()",
   "outputs": [
    {
     "name": "stdout",
     "text": "<class 'pandas.core.frame.DataFrame'>\nRangeIndex: 244 entries, 0 to 243\nData columns (total 11 columns):\n #   Column            Non-Null Count  Dtype  \n---  ------            --------------  -----  \n 0   total_bill        244 non-null    float64\n 1   tip               244 non-null    float64\n 2   sex               244 non-null    object \n 3   smoker            244 non-null    object \n 4   day               244 non-null    object \n 5   time              244 non-null    object \n 6   size              244 non-null    int64  \n 7   price_per_person  244 non-null    float64\n 8   Payer Name        244 non-null    object \n 9   CC Number         244 non-null    int64  \n 10  Payment ID        244 non-null    object \ndtypes: float64(3), int64(2), object(6)\nmemory usage: 21.1+ KB\n",
     "output_type": "stream"
    }
   ],
   "execution_count": null
  },
  {
   "cell_type": "code",
   "metadata": {
    "tags": [],
    "cell_id": "00014-46ecb559-f9f7-4724-b57f-f6c4948a3fa4",
    "deepnote_to_be_reexecuted": false,
    "source_hash": "cde6341a",
    "execution_start": 1622282522891,
    "execution_millis": 92,
    "deepnote_cell_type": "code"
   },
   "source": "df.describe().transpose()            #for general operations",
   "outputs": [
    {
     "output_type": "execute_result",
     "execution_count": 15,
     "data": {
      "application/vnd.deepnote.dataframe.v2+json": {
       "row_count": 5,
       "column_count": 8,
       "columns": [
        {
         "name": "count",
         "dtype": "float64",
         "stats": {
          "unique_count": 1,
          "nan_count": 0,
          "min": "244.0",
          "max": "244.0",
          "histogram": [
           {
            "bin_start": 243.5,
            "bin_end": 243.6,
            "count": 0
           },
           {
            "bin_start": 243.6,
            "bin_end": 243.7,
            "count": 0
           },
           {
            "bin_start": 243.7,
            "bin_end": 243.8,
            "count": 0
           },
           {
            "bin_start": 243.8,
            "bin_end": 243.9,
            "count": 0
           },
           {
            "bin_start": 243.9,
            "bin_end": 244,
            "count": 0
           },
           {
            "bin_start": 244,
            "bin_end": 244.1,
            "count": 5
           },
           {
            "bin_start": 244.1,
            "bin_end": 244.2,
            "count": 0
           },
           {
            "bin_start": 244.2,
            "bin_end": 244.3,
            "count": 0
           },
           {
            "bin_start": 244.3,
            "bin_end": 244.4,
            "count": 0
           },
           {
            "bin_start": 244.4,
            "bin_end": 244.5,
            "count": 0
           }
          ]
         }
        },
        {
         "name": "mean",
         "dtype": "float64",
         "stats": {
          "unique_count": 5,
          "nan_count": 0,
          "min": "2.569672131147541",
          "max": "2563495562019613.0",
          "histogram": [
           {
            "bin_start": 2.569672131147541,
            "bin_end": 256349556201963.62,
            "count": 4
           },
           {
            "bin_start": 256349556201963.62,
            "bin_end": 512699112403924.7,
            "count": 0
           },
           {
            "bin_start": 512699112403924.7,
            "bin_end": 769048668605885.9,
            "count": 0
           },
           {
            "bin_start": 769048668605885.9,
            "bin_end": 1025398224807846.9,
            "count": 0
           },
           {
            "bin_start": 1025398224807846.9,
            "bin_end": 1281747781009807.8,
            "count": 0
           },
           {
            "bin_start": 1281747781009807.8,
            "bin_end": 1538097337211769,
            "count": 0
           },
           {
            "bin_start": 1538097337211769,
            "bin_end": 1794446893413730,
            "count": 0
           },
           {
            "bin_start": 1794446893413730,
            "bin_end": 2050796449615691,
            "count": 0
           },
           {
            "bin_start": 2050796449615691,
            "bin_end": 2307146005817652,
            "count": 0
           },
           {
            "bin_start": 2307146005817652,
            "bin_end": 2563495562019613,
            "count": 1
           }
          ]
         }
        },
        {
         "name": "std",
         "dtype": "float64",
         "stats": {
          "unique_count": 5,
          "nan_count": 0,
          "min": "0.9510998047322344",
          "max": "2369339882289543.5",
          "histogram": [
           {
            "bin_start": 0.9510998047322344,
            "bin_end": 236933988228955.2,
            "count": 4
           },
           {
            "bin_start": 236933988228955.2,
            "bin_end": 473867976457909.44,
            "count": 0
           },
           {
            "bin_start": 473867976457909.44,
            "bin_end": 710801964686863.8,
            "count": 0
           },
           {
            "bin_start": 710801964686863.8,
            "bin_end": 947735952915818,
            "count": 0
           },
           {
            "bin_start": 947735952915818,
            "bin_end": 1184669941144772.2,
            "count": 0
           },
           {
            "bin_start": 1184669941144772.2,
            "bin_end": 1421603929373726.5,
            "count": 0
           },
           {
            "bin_start": 1421603929373726.5,
            "bin_end": 1658537917602680.8,
            "count": 0
           },
           {
            "bin_start": 1658537917602680.8,
            "bin_end": 1895471905831635,
            "count": 0
           },
           {
            "bin_start": 1895471905831635,
            "bin_end": 2132405894060589.2,
            "count": 0
           },
           {
            "bin_start": 2132405894060589.2,
            "bin_end": 2369339882289543.5,
            "count": 1
           }
          ]
         }
        },
        {
         "name": "min",
         "dtype": "float64",
         "stats": {
          "unique_count": 4,
          "nan_count": 0,
          "min": "1.0",
          "max": "60406789937.0",
          "histogram": [
           {
            "bin_start": 1,
            "bin_end": 6040678994.6,
            "count": 4
           },
           {
            "bin_start": 6040678994.6,
            "bin_end": 12081357988.2,
            "count": 0
           },
           {
            "bin_start": 12081357988.2,
            "bin_end": 18122036981.800003,
            "count": 0
           },
           {
            "bin_start": 18122036981.800003,
            "bin_end": 24162715975.4,
            "count": 0
           },
           {
            "bin_start": 24162715975.4,
            "bin_end": 30203394969,
            "count": 0
           },
           {
            "bin_start": 30203394969,
            "bin_end": 36244073962.600006,
            "count": 0
           },
           {
            "bin_start": 36244073962.600006,
            "bin_end": 42284752956.200005,
            "count": 0
           },
           {
            "bin_start": 42284752956.200005,
            "bin_end": 48325431949.8,
            "count": 0
           },
           {
            "bin_start": 48325431949.8,
            "bin_end": 54366110943.4,
            "count": 0
           },
           {
            "bin_start": 54366110943.4,
            "bin_end": 60406789937,
            "count": 1
           }
          ]
         }
        },
        {
         "name": "25%",
         "dtype": "float64",
         "stats": {
          "unique_count": 4,
          "nan_count": 0,
          "min": "2.0",
          "max": "30407308242440.0",
          "histogram": [
           {
            "bin_start": 2,
            "bin_end": 3040730824245.8,
            "count": 4
           },
           {
            "bin_start": 3040730824245.8,
            "bin_end": 6081461648489.6,
            "count": 0
           },
           {
            "bin_start": 6081461648489.6,
            "bin_end": 9122192472733.398,
            "count": 0
           },
           {
            "bin_start": 9122192472733.398,
            "bin_end": 12162923296977.2,
            "count": 0
           },
           {
            "bin_start": 12162923296977.2,
            "bin_end": 15203654121221,
            "count": 0
           },
           {
            "bin_start": 15203654121221,
            "bin_end": 18244384945464.797,
            "count": 0
           },
           {
            "bin_start": 18244384945464.797,
            "bin_end": 21285115769708.598,
            "count": 0
           },
           {
            "bin_start": 21285115769708.598,
            "bin_end": 24325846593952.4,
            "count": 0
           },
           {
            "bin_start": 24325846593952.4,
            "bin_end": 27366577418196.2,
            "count": 0
           },
           {
            "bin_start": 27366577418196.2,
            "bin_end": 30407308242440,
            "count": 1
           }
          ]
         }
        },
        {
         "name": "50%",
         "dtype": "float64",
         "stats": {
          "unique_count": 5,
          "nan_count": 0,
          "min": "2.0",
          "max": "3525317610005860.5",
          "histogram": [
           {
            "bin_start": 2,
            "bin_end": 352531761000587.9,
            "count": 4
           },
           {
            "bin_start": 352531761000587.9,
            "bin_end": 705063522001173.8,
            "count": 0
           },
           {
            "bin_start": 705063522001173.8,
            "bin_end": 1057595283001759.6,
            "count": 0
           },
           {
            "bin_start": 1057595283001759.6,
            "bin_end": 1410127044002345.5,
            "count": 0
           },
           {
            "bin_start": 1410127044002345.5,
            "bin_end": 1762658805002931.5,
            "count": 0
           },
           {
            "bin_start": 1762658805002931.5,
            "bin_end": 2115190566003517.2,
            "count": 0
           },
           {
            "bin_start": 2115190566003517.2,
            "bin_end": 2467722327004103,
            "count": 0
           },
           {
            "bin_start": 2467722327004103,
            "bin_end": 2820254088004689,
            "count": 0
           },
           {
            "bin_start": 2820254088004689,
            "bin_end": 3172785849005275,
            "count": 0
           },
           {
            "bin_start": 3172785849005275,
            "bin_end": 3525317610005860.5,
            "count": 1
           }
          ]
         }
        },
        {
         "name": "75%",
         "dtype": "float64",
         "stats": {
          "unique_count": 5,
          "nan_count": 0,
          "min": "3.0",
          "max": "4553675399499020.0",
          "histogram": [
           {
            "bin_start": 3,
            "bin_end": 455367539949904.7,
            "count": 4
           },
           {
            "bin_start": 455367539949904.7,
            "bin_end": 910735079899806.4,
            "count": 0
           },
           {
            "bin_start": 910735079899806.4,
            "bin_end": 1366102619849708,
            "count": 0
           },
           {
            "bin_start": 1366102619849708,
            "bin_end": 1821470159799609.8,
            "count": 0
           },
           {
            "bin_start": 1821470159799609.8,
            "bin_end": 2276837699749511.5,
            "count": 0
           },
           {
            "bin_start": 2276837699749511.5,
            "bin_end": 2732205239699413,
            "count": 0
           },
           {
            "bin_start": 2732205239699413,
            "bin_end": 3187572779649315,
            "count": 0
           },
           {
            "bin_start": 3187572779649315,
            "bin_end": 3642940319599216.5,
            "count": 0
           },
           {
            "bin_start": 3642940319599216.5,
            "bin_end": 4098307859549118,
            "count": 0
           },
           {
            "bin_start": 4098307859549118,
            "bin_end": 4553675399499020,
            "count": 1
           }
          ]
         }
        },
        {
         "name": "max",
         "dtype": "float64",
         "stats": {
          "unique_count": 5,
          "nan_count": 0,
          "min": "6.0",
          "max": "6596453823950595.0",
          "histogram": [
           {
            "bin_start": 6,
            "bin_end": 659645382395064.9,
            "count": 4
           },
           {
            "bin_start": 659645382395064.9,
            "bin_end": 1319290764790123.8,
            "count": 0
           },
           {
            "bin_start": 1319290764790123.8,
            "bin_end": 1978936147185182.5,
            "count": 0
           },
           {
            "bin_start": 1978936147185182.5,
            "bin_end": 2638581529580241.5,
            "count": 0
           },
           {
            "bin_start": 2638581529580241.5,
            "bin_end": 3298226911975300.5,
            "count": 0
           },
           {
            "bin_start": 3298226911975300.5,
            "bin_end": 3957872294370359,
            "count": 0
           },
           {
            "bin_start": 3957872294370359,
            "bin_end": 4617517676765418,
            "count": 0
           },
           {
            "bin_start": 4617517676765418,
            "bin_end": 5277163059160477,
            "count": 0
           },
           {
            "bin_start": 5277163059160477,
            "bin_end": 5936808441555536,
            "count": 0
           },
           {
            "bin_start": 5936808441555536,
            "bin_end": 6596453823950595,
            "count": 1
           }
          ]
         }
        },
        {
         "name": "_deepnote_index_column",
         "dtype": "object"
        }
       ],
       "rows_top": [
        {
         "count": 244,
         "mean": 19.78594262295082,
         "std": 8.902411954856856,
         "min": 3.07,
         "25%": 13.3475,
         "50%": 17.795,
         "75%": 24.127499999999998,
         "max": 50.81,
         "_deepnote_index_column": "total_bill"
        },
        {
         "count": 244,
         "mean": 2.99827868852459,
         "std": 1.3836381890011822,
         "min": 1,
         "25%": 2,
         "50%": 2.9,
         "75%": 3.5624999999999996,
         "max": 10,
         "_deepnote_index_column": "tip"
        },
        {
         "count": 244,
         "mean": 2.569672131147541,
         "std": 0.9510998047322344,
         "min": 1,
         "25%": 2,
         "50%": 2,
         "75%": 3,
         "max": 6,
         "_deepnote_index_column": "size"
        },
        {
         "count": 244,
         "mean": 7.888196721311474,
         "std": 2.9142341225118225,
         "min": 2.88,
         "25%": 5.8,
         "50%": 7.255,
         "75%": 9.39,
         "max": 20.27,
         "_deepnote_index_column": "price_per_person"
        },
        {
         "count": 244,
         "mean": 2563495562019613,
         "std": 2369339882289543.5,
         "min": 60406789937,
         "25%": 30407308242440,
         "50%": 3525317610005860.5,
         "75%": 4553675399499020,
         "max": 6596453823950595,
         "_deepnote_index_column": "CC Number"
        }
       ],
       "rows_bottom": null
      },
      "text/plain": "                  count          mean           std           min  \\\ntotal_bill        244.0  1.978594e+01  8.902412e+00  3.070000e+00   \ntip               244.0  2.998279e+00  1.383638e+00  1.000000e+00   \nsize              244.0  2.569672e+00  9.510998e-01  1.000000e+00   \nprice_per_person  244.0  7.888197e+00  2.914234e+00  2.880000e+00   \nCC Number         244.0  2.563496e+15  2.369340e+15  6.040679e+10   \n\n                           25%           50%           75%           max  \ntotal_bill        1.334750e+01  1.779500e+01  2.412750e+01  5.081000e+01  \ntip               2.000000e+00  2.900000e+00  3.562500e+00  1.000000e+01  \nsize              2.000000e+00  2.000000e+00  3.000000e+00  6.000000e+00  \nprice_per_person  5.800000e+00  7.255000e+00  9.390000e+00  2.027000e+01  \nCC Number         3.040731e+13  3.525318e+15  4.553675e+15  6.596454e+15  ",
      "text/html": "<div>\n<style scoped>\n    .dataframe tbody tr th:only-of-type {\n        vertical-align: middle;\n    }\n\n    .dataframe tbody tr th {\n        vertical-align: top;\n    }\n\n    .dataframe thead th {\n        text-align: right;\n    }\n</style>\n<table border=\"1\" class=\"dataframe\">\n  <thead>\n    <tr style=\"text-align: right;\">\n      <th></th>\n      <th>count</th>\n      <th>mean</th>\n      <th>std</th>\n      <th>min</th>\n      <th>25%</th>\n      <th>50%</th>\n      <th>75%</th>\n      <th>max</th>\n    </tr>\n  </thead>\n  <tbody>\n    <tr>\n      <th>total_bill</th>\n      <td>244.0</td>\n      <td>1.978594e+01</td>\n      <td>8.902412e+00</td>\n      <td>3.070000e+00</td>\n      <td>1.334750e+01</td>\n      <td>1.779500e+01</td>\n      <td>2.412750e+01</td>\n      <td>5.081000e+01</td>\n    </tr>\n    <tr>\n      <th>tip</th>\n      <td>244.0</td>\n      <td>2.998279e+00</td>\n      <td>1.383638e+00</td>\n      <td>1.000000e+00</td>\n      <td>2.000000e+00</td>\n      <td>2.900000e+00</td>\n      <td>3.562500e+00</td>\n      <td>1.000000e+01</td>\n    </tr>\n    <tr>\n      <th>size</th>\n      <td>244.0</td>\n      <td>2.569672e+00</td>\n      <td>9.510998e-01</td>\n      <td>1.000000e+00</td>\n      <td>2.000000e+00</td>\n      <td>2.000000e+00</td>\n      <td>3.000000e+00</td>\n      <td>6.000000e+00</td>\n    </tr>\n    <tr>\n      <th>price_per_person</th>\n      <td>244.0</td>\n      <td>7.888197e+00</td>\n      <td>2.914234e+00</td>\n      <td>2.880000e+00</td>\n      <td>5.800000e+00</td>\n      <td>7.255000e+00</td>\n      <td>9.390000e+00</td>\n      <td>2.027000e+01</td>\n    </tr>\n    <tr>\n      <th>CC Number</th>\n      <td>244.0</td>\n      <td>2.563496e+15</td>\n      <td>2.369340e+15</td>\n      <td>6.040679e+10</td>\n      <td>3.040731e+13</td>\n      <td>3.525318e+15</td>\n      <td>4.553675e+15</td>\n      <td>6.596454e+15</td>\n    </tr>\n  </tbody>\n</table>\n</div>"
     },
     "metadata": {}
    }
   ],
   "execution_count": null
  },
  {
   "cell_type": "code",
   "metadata": {
    "tags": [],
    "cell_id": "00015-a2c1fb49-3087-4124-a91d-740c18c127e3",
    "deepnote_to_be_reexecuted": false,
    "source_hash": "65cc3526",
    "execution_start": 1622282522971,
    "execution_millis": 705750,
    "deepnote_cell_type": "code"
   },
   "source": "#COLUMNS",
   "outputs": [],
   "execution_count": null
  },
  {
   "cell_type": "code",
   "metadata": {
    "tags": [],
    "cell_id": "00015-c08b7aab-82bd-4c73-8f78-57cd9b5aa11a",
    "deepnote_to_be_reexecuted": false,
    "source_hash": "c085b6ba",
    "execution_start": 1622282523024,
    "execution_millis": 17,
    "deepnote_cell_type": "code"
   },
   "source": "df.head()",
   "outputs": [
    {
     "output_type": "execute_result",
     "execution_count": 17,
     "data": {
      "application/vnd.deepnote.dataframe.v2+json": {
       "row_count": 5,
       "column_count": 11,
       "columns": [
        {
         "name": "total_bill",
         "dtype": "float64",
         "stats": {
          "unique_count": 5,
          "nan_count": 0,
          "min": "10.34",
          "max": "24.59",
          "histogram": [
           {
            "bin_start": 10.34,
            "bin_end": 11.765,
            "count": 1
           },
           {
            "bin_start": 11.765,
            "bin_end": 13.19,
            "count": 0
           },
           {
            "bin_start": 13.19,
            "bin_end": 14.615,
            "count": 0
           },
           {
            "bin_start": 14.615,
            "bin_end": 16.04,
            "count": 0
           },
           {
            "bin_start": 16.04,
            "bin_end": 17.465,
            "count": 1
           },
           {
            "bin_start": 17.465,
            "bin_end": 18.89,
            "count": 0
           },
           {
            "bin_start": 18.89,
            "bin_end": 20.314999999999998,
            "count": 0
           },
           {
            "bin_start": 20.314999999999998,
            "bin_end": 21.740000000000002,
            "count": 1
           },
           {
            "bin_start": 21.740000000000002,
            "bin_end": 23.165,
            "count": 0
           },
           {
            "bin_start": 23.165,
            "bin_end": 24.59,
            "count": 2
           }
          ]
         }
        },
        {
         "name": "tip",
         "dtype": "float64",
         "stats": {
          "unique_count": 5,
          "nan_count": 0,
          "min": "1.01",
          "max": "3.61",
          "histogram": [
           {
            "bin_start": 1.01,
            "bin_end": 1.27,
            "count": 1
           },
           {
            "bin_start": 1.27,
            "bin_end": 1.5299999999999998,
            "count": 0
           },
           {
            "bin_start": 1.5299999999999998,
            "bin_end": 1.7899999999999998,
            "count": 1
           },
           {
            "bin_start": 1.7899999999999998,
            "bin_end": 2.05,
            "count": 0
           },
           {
            "bin_start": 2.05,
            "bin_end": 2.3099999999999996,
            "count": 0
           },
           {
            "bin_start": 2.3099999999999996,
            "bin_end": 2.5699999999999994,
            "count": 0
           },
           {
            "bin_start": 2.5699999999999994,
            "bin_end": 2.8299999999999996,
            "count": 0
           },
           {
            "bin_start": 2.8299999999999996,
            "bin_end": 3.09,
            "count": 0
           },
           {
            "bin_start": 3.09,
            "bin_end": 3.3499999999999996,
            "count": 1
           },
           {
            "bin_start": 3.3499999999999996,
            "bin_end": 3.61,
            "count": 2
           }
          ]
         }
        },
        {
         "name": "sex",
         "dtype": "object",
         "stats": {
          "unique_count": 2,
          "nan_count": 0,
          "categories": [
           {
            "name": "Male",
            "count": 3
           },
           {
            "name": "Female",
            "count": 2
           }
          ]
         }
        },
        {
         "name": "smoker",
         "dtype": "object",
         "stats": {
          "unique_count": 1,
          "nan_count": 0,
          "categories": [
           {
            "name": "No",
            "count": 5
           }
          ]
         }
        },
        {
         "name": "day",
         "dtype": "object",
         "stats": {
          "unique_count": 1,
          "nan_count": 0,
          "categories": [
           {
            "name": "Sun",
            "count": 5
           }
          ]
         }
        },
        {
         "name": "time",
         "dtype": "object",
         "stats": {
          "unique_count": 1,
          "nan_count": 0,
          "categories": [
           {
            "name": "Dinner",
            "count": 5
           }
          ]
         }
        },
        {
         "name": "size",
         "dtype": "int64",
         "stats": {
          "unique_count": 3,
          "nan_count": 0,
          "min": "2",
          "max": "4",
          "histogram": [
           {
            "bin_start": 2,
            "bin_end": 2.2,
            "count": 2
           },
           {
            "bin_start": 2.2,
            "bin_end": 2.4,
            "count": 0
           },
           {
            "bin_start": 2.4,
            "bin_end": 2.6,
            "count": 0
           },
           {
            "bin_start": 2.6,
            "bin_end": 2.8,
            "count": 0
           },
           {
            "bin_start": 2.8,
            "bin_end": 3,
            "count": 0
           },
           {
            "bin_start": 3,
            "bin_end": 3.2,
            "count": 2
           },
           {
            "bin_start": 3.2,
            "bin_end": 3.4000000000000004,
            "count": 0
           },
           {
            "bin_start": 3.4000000000000004,
            "bin_end": 3.6,
            "count": 0
           },
           {
            "bin_start": 3.6,
            "bin_end": 3.8,
            "count": 0
           },
           {
            "bin_start": 3.8,
            "bin_end": 4,
            "count": 1
           }
          ]
         }
        },
        {
         "name": "price_per_person",
         "dtype": "float64",
         "stats": {
          "unique_count": 5,
          "nan_count": 0,
          "min": "3.45",
          "max": "11.84",
          "histogram": [
           {
            "bin_start": 3.45,
            "bin_end": 4.289000000000001,
            "count": 1
           },
           {
            "bin_start": 4.289000000000001,
            "bin_end": 5.128,
            "count": 0
           },
           {
            "bin_start": 5.128,
            "bin_end": 5.9670000000000005,
            "count": 0
           },
           {
            "bin_start": 5.9670000000000005,
            "bin_end": 6.806000000000001,
            "count": 1
           },
           {
            "bin_start": 6.806000000000001,
            "bin_end": 7.6450000000000005,
            "count": 1
           },
           {
            "bin_start": 7.6450000000000005,
            "bin_end": 8.484000000000002,
            "count": 0
           },
           {
            "bin_start": 8.484000000000002,
            "bin_end": 9.323,
            "count": 1
           },
           {
            "bin_start": 9.323,
            "bin_end": 10.162,
            "count": 0
           },
           {
            "bin_start": 10.162,
            "bin_end": 11.001000000000001,
            "count": 0
           },
           {
            "bin_start": 11.001000000000001,
            "bin_end": 11.84,
            "count": 1
           }
          ]
         }
        },
        {
         "name": "Payer Name",
         "dtype": "object",
         "stats": {
          "unique_count": 5,
          "nan_count": 0,
          "categories": [
           {
            "name": "Christy Cunningham",
            "count": 1
           },
           {
            "name": "Douglas Tucker",
            "count": 1
           },
           {
            "name": "3 others",
            "count": 3
           }
          ]
         }
        },
        {
         "name": "CC Number",
         "dtype": "int64",
         "stats": {
          "unique_count": 5,
          "nan_count": 0,
          "min": "3560325168603410",
          "max": "6011812112971322",
          "histogram": [
           {
            "bin_start": 3560325168603410,
            "bin_end": 3805473863040201,
            "count": 1
           },
           {
            "bin_start": 3805473863040201,
            "bin_end": 4050622557476992.5,
            "count": 0
           },
           {
            "bin_start": 4050622557476992.5,
            "bin_end": 4295771251913783.5,
            "count": 0
           },
           {
            "bin_start": 4295771251913783.5,
            "bin_end": 4540919946350575,
            "count": 1
           },
           {
            "bin_start": 4540919946350575,
            "bin_end": 4786068640787366,
            "count": 1
           },
           {
            "bin_start": 4786068640787366,
            "bin_end": 5031217335224157,
            "count": 1
           },
           {
            "bin_start": 5031217335224157,
            "bin_end": 5276366029660948,
            "count": 0
           },
           {
            "bin_start": 5276366029660948,
            "bin_end": 5521514724097740,
            "count": 0
           },
           {
            "bin_start": 5521514724097740,
            "bin_end": 5766663418534531,
            "count": 0
           },
           {
            "bin_start": 5766663418534531,
            "bin_end": 6011812112971322,
            "count": 1
           }
          ]
         }
        },
        {
         "name": "Payment ID",
         "dtype": "object",
         "stats": {
          "unique_count": 5,
          "nan_count": 0,
          "categories": [
           {
            "name": "Sun2959",
            "count": 1
           },
           {
            "name": "Sun4608",
            "count": 1
           },
           {
            "name": "3 others",
            "count": 3
           }
          ]
         }
        },
        {
         "name": "_deepnote_index_column",
         "dtype": "int64"
        }
       ],
       "rows_top": [
        {
         "total_bill": 16.99,
         "tip": 1.01,
         "sex": "Female",
         "smoker": "No",
         "day": "Sun",
         "time": "Dinner",
         "size": 2,
         "price_per_person": 8.49,
         "Payer Name": "Christy Cunningham",
         "CC Number": 3560325168603410,
         "Payment ID": "Sun2959",
         "_deepnote_index_column": 0
        },
        {
         "total_bill": 10.34,
         "tip": 1.66,
         "sex": "Male",
         "smoker": "No",
         "day": "Sun",
         "time": "Dinner",
         "size": 3,
         "price_per_person": 3.45,
         "Payer Name": "Douglas Tucker",
         "CC Number": 4478071379779230,
         "Payment ID": "Sun4608",
         "_deepnote_index_column": 1
        },
        {
         "total_bill": 21.01,
         "tip": 3.5,
         "sex": "Male",
         "smoker": "No",
         "day": "Sun",
         "time": "Dinner",
         "size": 3,
         "price_per_person": 7,
         "Payer Name": "Travis Walters",
         "CC Number": 6011812112971322,
         "Payment ID": "Sun4458",
         "_deepnote_index_column": 2
        },
        {
         "total_bill": 23.68,
         "tip": 3.31,
         "sex": "Male",
         "smoker": "No",
         "day": "Sun",
         "time": "Dinner",
         "size": 2,
         "price_per_person": 11.84,
         "Payer Name": "Nathaniel Harris",
         "CC Number": 4676137647685994,
         "Payment ID": "Sun5260",
         "_deepnote_index_column": 3
        },
        {
         "total_bill": 24.59,
         "tip": 3.61,
         "sex": "Female",
         "smoker": "No",
         "day": "Sun",
         "time": "Dinner",
         "size": 4,
         "price_per_person": 6.15,
         "Payer Name": "Tonya Carter",
         "CC Number": 4832732618637221,
         "Payment ID": "Sun2251",
         "_deepnote_index_column": 4
        }
       ],
       "rows_bottom": null
      },
      "text/plain": "   total_bill   tip     sex smoker  day    time  size  price_per_person  \\\n0       16.99  1.01  Female     No  Sun  Dinner     2              8.49   \n1       10.34  1.66    Male     No  Sun  Dinner     3              3.45   \n2       21.01  3.50    Male     No  Sun  Dinner     3              7.00   \n3       23.68  3.31    Male     No  Sun  Dinner     2             11.84   \n4       24.59  3.61  Female     No  Sun  Dinner     4              6.15   \n\n           Payer Name         CC Number Payment ID  \n0  Christy Cunningham  3560325168603410    Sun2959  \n1      Douglas Tucker  4478071379779230    Sun4608  \n2      Travis Walters  6011812112971322    Sun4458  \n3    Nathaniel Harris  4676137647685994    Sun5260  \n4        Tonya Carter  4832732618637221    Sun2251  ",
      "text/html": "<div>\n<style scoped>\n    .dataframe tbody tr th:only-of-type {\n        vertical-align: middle;\n    }\n\n    .dataframe tbody tr th {\n        vertical-align: top;\n    }\n\n    .dataframe thead th {\n        text-align: right;\n    }\n</style>\n<table border=\"1\" class=\"dataframe\">\n  <thead>\n    <tr style=\"text-align: right;\">\n      <th></th>\n      <th>total_bill</th>\n      <th>tip</th>\n      <th>sex</th>\n      <th>smoker</th>\n      <th>day</th>\n      <th>time</th>\n      <th>size</th>\n      <th>price_per_person</th>\n      <th>Payer Name</th>\n      <th>CC Number</th>\n      <th>Payment ID</th>\n    </tr>\n  </thead>\n  <tbody>\n    <tr>\n      <th>0</th>\n      <td>16.99</td>\n      <td>1.01</td>\n      <td>Female</td>\n      <td>No</td>\n      <td>Sun</td>\n      <td>Dinner</td>\n      <td>2</td>\n      <td>8.49</td>\n      <td>Christy Cunningham</td>\n      <td>3560325168603410</td>\n      <td>Sun2959</td>\n    </tr>\n    <tr>\n      <th>1</th>\n      <td>10.34</td>\n      <td>1.66</td>\n      <td>Male</td>\n      <td>No</td>\n      <td>Sun</td>\n      <td>Dinner</td>\n      <td>3</td>\n      <td>3.45</td>\n      <td>Douglas Tucker</td>\n      <td>4478071379779230</td>\n      <td>Sun4608</td>\n    </tr>\n    <tr>\n      <th>2</th>\n      <td>21.01</td>\n      <td>3.50</td>\n      <td>Male</td>\n      <td>No</td>\n      <td>Sun</td>\n      <td>Dinner</td>\n      <td>3</td>\n      <td>7.00</td>\n      <td>Travis Walters</td>\n      <td>6011812112971322</td>\n      <td>Sun4458</td>\n    </tr>\n    <tr>\n      <th>3</th>\n      <td>23.68</td>\n      <td>3.31</td>\n      <td>Male</td>\n      <td>No</td>\n      <td>Sun</td>\n      <td>Dinner</td>\n      <td>2</td>\n      <td>11.84</td>\n      <td>Nathaniel Harris</td>\n      <td>4676137647685994</td>\n      <td>Sun5260</td>\n    </tr>\n    <tr>\n      <th>4</th>\n      <td>24.59</td>\n      <td>3.61</td>\n      <td>Female</td>\n      <td>No</td>\n      <td>Sun</td>\n      <td>Dinner</td>\n      <td>4</td>\n      <td>6.15</td>\n      <td>Tonya Carter</td>\n      <td>4832732618637221</td>\n      <td>Sun2251</td>\n    </tr>\n  </tbody>\n</table>\n</div>"
     },
     "metadata": {}
    }
   ],
   "execution_count": null
  },
  {
   "cell_type": "code",
   "metadata": {
    "tags": [],
    "cell_id": "00017-d69eea8f-5c6e-4778-bd3a-0f30bf3dd4fc",
    "deepnote_to_be_reexecuted": false,
    "source_hash": "803007b3",
    "execution_start": 1622282523034,
    "execution_millis": 16,
    "deepnote_cell_type": "code"
   },
   "source": "df['total_bill']",
   "outputs": [
    {
     "output_type": "execute_result",
     "execution_count": 18,
     "data": {
      "text/plain": "0      16.99\n1      10.34\n2      21.01\n3      23.68\n4      24.59\n       ...  \n239    29.03\n240    27.18\n241    22.67\n242    17.82\n243    18.78\nName: total_bill, Length: 244, dtype: float64"
     },
     "metadata": {}
    }
   ],
   "execution_count": null
  },
  {
   "cell_type": "code",
   "metadata": {
    "tags": [],
    "cell_id": "00018-477bb21e-f927-48d2-9f72-8ac24924cae0",
    "deepnote_to_be_reexecuted": false,
    "source_hash": "ae7a26e3",
    "execution_start": 1622282523056,
    "execution_millis": 39,
    "deepnote_cell_type": "code"
   },
   "source": "df[['total_bill','tip']]",
   "outputs": [
    {
     "output_type": "execute_result",
     "execution_count": 19,
     "data": {
      "application/vnd.deepnote.dataframe.v2+json": {
       "row_count": 244,
       "column_count": 2,
       "columns": [
        {
         "name": "total_bill",
         "dtype": "float64",
         "stats": {
          "unique_count": 229,
          "nan_count": 0,
          "min": "3.07",
          "max": "50.81",
          "histogram": [
           {
            "bin_start": 3.07,
            "bin_end": 7.843999999999999,
            "count": 7
           },
           {
            "bin_start": 7.843999999999999,
            "bin_end": 12.618,
            "count": 42
           },
           {
            "bin_start": 12.618,
            "bin_end": 17.392,
            "count": 68
           },
           {
            "bin_start": 17.392,
            "bin_end": 22.166,
            "count": 51
           },
           {
            "bin_start": 22.166,
            "bin_end": 26.94,
            "count": 31
           },
           {
            "bin_start": 26.94,
            "bin_end": 31.714,
            "count": 19
           },
           {
            "bin_start": 31.714,
            "bin_end": 36.488,
            "count": 12
           },
           {
            "bin_start": 36.488,
            "bin_end": 41.262,
            "count": 7
           },
           {
            "bin_start": 41.262,
            "bin_end": 46.036,
            "count": 3
           },
           {
            "bin_start": 46.036,
            "bin_end": 50.81,
            "count": 4
           }
          ]
         }
        },
        {
         "name": "tip",
         "dtype": "float64",
         "stats": {
          "unique_count": 123,
          "nan_count": 0,
          "min": "1.0",
          "max": "10.0",
          "histogram": [
           {
            "bin_start": 1,
            "bin_end": 1.9,
            "count": 41
           },
           {
            "bin_start": 1.9,
            "bin_end": 2.8,
            "count": 79
           },
           {
            "bin_start": 2.8,
            "bin_end": 3.7,
            "count": 66
           },
           {
            "bin_start": 3.7,
            "bin_end": 4.6,
            "count": 27
           },
           {
            "bin_start": 4.6,
            "bin_end": 5.5,
            "count": 19
           },
           {
            "bin_start": 5.5,
            "bin_end": 6.4,
            "count": 5
           },
           {
            "bin_start": 6.4,
            "bin_end": 7.3,
            "count": 4
           },
           {
            "bin_start": 7.3,
            "bin_end": 8.2,
            "count": 1
           },
           {
            "bin_start": 8.2,
            "bin_end": 9.1,
            "count": 1
           },
           {
            "bin_start": 9.1,
            "bin_end": 10,
            "count": 1
           }
          ]
         }
        },
        {
         "name": "_deepnote_index_column",
         "dtype": "int64"
        }
       ],
       "rows_top": [
        {
         "total_bill": 16.99,
         "tip": 1.01,
         "_deepnote_index_column": 0
        },
        {
         "total_bill": 10.34,
         "tip": 1.66,
         "_deepnote_index_column": 1
        },
        {
         "total_bill": 21.01,
         "tip": 3.5,
         "_deepnote_index_column": 2
        },
        {
         "total_bill": 23.68,
         "tip": 3.31,
         "_deepnote_index_column": 3
        },
        {
         "total_bill": 24.59,
         "tip": 3.61,
         "_deepnote_index_column": 4
        },
        {
         "total_bill": 25.29,
         "tip": 4.71,
         "_deepnote_index_column": 5
        },
        {
         "total_bill": 8.77,
         "tip": 2,
         "_deepnote_index_column": 6
        },
        {
         "total_bill": 26.88,
         "tip": 3.12,
         "_deepnote_index_column": 7
        },
        {
         "total_bill": 15.04,
         "tip": 1.96,
         "_deepnote_index_column": 8
        },
        {
         "total_bill": 14.78,
         "tip": 3.23,
         "_deepnote_index_column": 9
        },
        {
         "total_bill": 10.27,
         "tip": 1.71,
         "_deepnote_index_column": 10
        },
        {
         "total_bill": 35.26,
         "tip": 5,
         "_deepnote_index_column": 11
        },
        {
         "total_bill": 15.42,
         "tip": 1.57,
         "_deepnote_index_column": 12
        },
        {
         "total_bill": 18.43,
         "tip": 3,
         "_deepnote_index_column": 13
        },
        {
         "total_bill": 14.83,
         "tip": 3.02,
         "_deepnote_index_column": 14
        },
        {
         "total_bill": 21.58,
         "tip": 3.92,
         "_deepnote_index_column": 15
        },
        {
         "total_bill": 10.33,
         "tip": 1.67,
         "_deepnote_index_column": 16
        },
        {
         "total_bill": 16.29,
         "tip": 3.71,
         "_deepnote_index_column": 17
        },
        {
         "total_bill": 16.97,
         "tip": 3.5,
         "_deepnote_index_column": 18
        },
        {
         "total_bill": 20.65,
         "tip": 3.35,
         "_deepnote_index_column": 19
        },
        {
         "total_bill": 17.92,
         "tip": 4.08,
         "_deepnote_index_column": 20
        },
        {
         "total_bill": 20.29,
         "tip": 2.75,
         "_deepnote_index_column": 21
        },
        {
         "total_bill": 15.77,
         "tip": 2.23,
         "_deepnote_index_column": 22
        },
        {
         "total_bill": 39.42,
         "tip": 7.58,
         "_deepnote_index_column": 23
        },
        {
         "total_bill": 19.82,
         "tip": 3.18,
         "_deepnote_index_column": 24
        },
        {
         "total_bill": 17.81,
         "tip": 2.34,
         "_deepnote_index_column": 25
        },
        {
         "total_bill": 13.37,
         "tip": 2,
         "_deepnote_index_column": 26
        },
        {
         "total_bill": 12.69,
         "tip": 2,
         "_deepnote_index_column": 27
        },
        {
         "total_bill": 21.7,
         "tip": 4.3,
         "_deepnote_index_column": 28
        },
        {
         "total_bill": 19.65,
         "tip": 3,
         "_deepnote_index_column": 29
        },
        {
         "total_bill": 9.55,
         "tip": 1.45,
         "_deepnote_index_column": 30
        },
        {
         "total_bill": 18.35,
         "tip": 2.5,
         "_deepnote_index_column": 31
        },
        {
         "total_bill": 15.06,
         "tip": 3,
         "_deepnote_index_column": 32
        },
        {
         "total_bill": 20.69,
         "tip": 2.45,
         "_deepnote_index_column": 33
        },
        {
         "total_bill": 17.78,
         "tip": 3.27,
         "_deepnote_index_column": 34
        },
        {
         "total_bill": 24.06,
         "tip": 3.6,
         "_deepnote_index_column": 35
        },
        {
         "total_bill": 16.31,
         "tip": 2,
         "_deepnote_index_column": 36
        },
        {
         "total_bill": 16.93,
         "tip": 3.07,
         "_deepnote_index_column": 37
        },
        {
         "total_bill": 18.69,
         "tip": 2.31,
         "_deepnote_index_column": 38
        },
        {
         "total_bill": 31.27,
         "tip": 5,
         "_deepnote_index_column": 39
        },
        {
         "total_bill": 16.04,
         "tip": 2.24,
         "_deepnote_index_column": 40
        },
        {
         "total_bill": 17.46,
         "tip": 2.54,
         "_deepnote_index_column": 41
        },
        {
         "total_bill": 13.94,
         "tip": 3.06,
         "_deepnote_index_column": 42
        },
        {
         "total_bill": 9.68,
         "tip": 1.32,
         "_deepnote_index_column": 43
        },
        {
         "total_bill": 30.4,
         "tip": 5.6,
         "_deepnote_index_column": 44
        },
        {
         "total_bill": 18.29,
         "tip": 3,
         "_deepnote_index_column": 45
        },
        {
         "total_bill": 22.23,
         "tip": 5,
         "_deepnote_index_column": 46
        },
        {
         "total_bill": 32.4,
         "tip": 6,
         "_deepnote_index_column": 47
        },
        {
         "total_bill": 28.55,
         "tip": 2.05,
         "_deepnote_index_column": 48
        },
        {
         "total_bill": 18.04,
         "tip": 3,
         "_deepnote_index_column": 49
        },
        {
         "total_bill": 12.54,
         "tip": 2.5,
         "_deepnote_index_column": 50
        },
        {
         "total_bill": 10.29,
         "tip": 2.6,
         "_deepnote_index_column": 51
        },
        {
         "total_bill": 34.81,
         "tip": 5.2,
         "_deepnote_index_column": 52
        },
        {
         "total_bill": 9.94,
         "tip": 1.56,
         "_deepnote_index_column": 53
        },
        {
         "total_bill": 25.56,
         "tip": 4.34,
         "_deepnote_index_column": 54
        },
        {
         "total_bill": 19.49,
         "tip": 3.51,
         "_deepnote_index_column": 55
        },
        {
         "total_bill": 38.01,
         "tip": 3,
         "_deepnote_index_column": 56
        },
        {
         "total_bill": 26.41,
         "tip": 1.5,
         "_deepnote_index_column": 57
        },
        {
         "total_bill": 11.24,
         "tip": 1.76,
         "_deepnote_index_column": 58
        },
        {
         "total_bill": 48.27,
         "tip": 6.73,
         "_deepnote_index_column": 59
        },
        {
         "total_bill": 20.29,
         "tip": 3.21,
         "_deepnote_index_column": 60
        },
        {
         "total_bill": 13.81,
         "tip": 2,
         "_deepnote_index_column": 61
        },
        {
         "total_bill": 11.02,
         "tip": 1.98,
         "_deepnote_index_column": 62
        },
        {
         "total_bill": 18.29,
         "tip": 3.76,
         "_deepnote_index_column": 63
        },
        {
         "total_bill": 17.59,
         "tip": 2.64,
         "_deepnote_index_column": 64
        },
        {
         "total_bill": 20.08,
         "tip": 3.15,
         "_deepnote_index_column": 65
        },
        {
         "total_bill": 16.45,
         "tip": 2.47,
         "_deepnote_index_column": 66
        },
        {
         "total_bill": 3.07,
         "tip": 1,
         "_deepnote_index_column": 67
        },
        {
         "total_bill": 20.23,
         "tip": 2.01,
         "_deepnote_index_column": 68
        },
        {
         "total_bill": 15.01,
         "tip": 2.09,
         "_deepnote_index_column": 69
        },
        {
         "total_bill": 12.02,
         "tip": 1.97,
         "_deepnote_index_column": 70
        },
        {
         "total_bill": 17.07,
         "tip": 3,
         "_deepnote_index_column": 71
        },
        {
         "total_bill": 26.86,
         "tip": 3.14,
         "_deepnote_index_column": 72
        },
        {
         "total_bill": 25.28,
         "tip": 5,
         "_deepnote_index_column": 73
        },
        {
         "total_bill": 14.73,
         "tip": 2.2,
         "_deepnote_index_column": 74
        },
        {
         "total_bill": 10.51,
         "tip": 1.25,
         "_deepnote_index_column": 75
        },
        {
         "total_bill": 17.92,
         "tip": 3.08,
         "_deepnote_index_column": 76
        },
        {
         "total_bill": 27.2,
         "tip": 4,
         "_deepnote_index_column": 77
        },
        {
         "total_bill": 22.76,
         "tip": 3,
         "_deepnote_index_column": 78
        },
        {
         "total_bill": 17.29,
         "tip": 2.71,
         "_deepnote_index_column": 79
        },
        {
         "total_bill": 19.44,
         "tip": 3,
         "_deepnote_index_column": 80
        },
        {
         "total_bill": 16.66,
         "tip": 3.4,
         "_deepnote_index_column": 81
        },
        {
         "total_bill": 10.07,
         "tip": 1.83,
         "_deepnote_index_column": 82
        },
        {
         "total_bill": 32.68,
         "tip": 5,
         "_deepnote_index_column": 83
        },
        {
         "total_bill": 15.98,
         "tip": 2.03,
         "_deepnote_index_column": 84
        },
        {
         "total_bill": 34.83,
         "tip": 5.17,
         "_deepnote_index_column": 85
        },
        {
         "total_bill": 13.03,
         "tip": 2,
         "_deepnote_index_column": 86
        },
        {
         "total_bill": 18.28,
         "tip": 4,
         "_deepnote_index_column": 87
        },
        {
         "total_bill": 24.71,
         "tip": 5.85,
         "_deepnote_index_column": 88
        },
        {
         "total_bill": 21.16,
         "tip": 3,
         "_deepnote_index_column": 89
        },
        {
         "total_bill": 28.97,
         "tip": 3,
         "_deepnote_index_column": 90
        },
        {
         "total_bill": 22.49,
         "tip": 3.5,
         "_deepnote_index_column": 91
        },
        {
         "total_bill": 5.75,
         "tip": 1,
         "_deepnote_index_column": 92
        },
        {
         "total_bill": 16.32,
         "tip": 4.3,
         "_deepnote_index_column": 93
        },
        {
         "total_bill": 22.75,
         "tip": 3.25,
         "_deepnote_index_column": 94
        },
        {
         "total_bill": 40.17,
         "tip": 4.73,
         "_deepnote_index_column": 95
        },
        {
         "total_bill": 27.28,
         "tip": 4,
         "_deepnote_index_column": 96
        },
        {
         "total_bill": 12.03,
         "tip": 1.5,
         "_deepnote_index_column": 97
        },
        {
         "total_bill": 21.01,
         "tip": 3,
         "_deepnote_index_column": 98
        },
        {
         "total_bill": 12.46,
         "tip": 1.5,
         "_deepnote_index_column": 99
        },
        {
         "total_bill": 11.35,
         "tip": 2.5,
         "_deepnote_index_column": 100
        },
        {
         "total_bill": 15.38,
         "tip": 3,
         "_deepnote_index_column": 101
        },
        {
         "total_bill": 44.3,
         "tip": 2.5,
         "_deepnote_index_column": 102
        },
        {
         "total_bill": 22.42,
         "tip": 3.48,
         "_deepnote_index_column": 103
        },
        {
         "total_bill": 20.92,
         "tip": 4.08,
         "_deepnote_index_column": 104
        },
        {
         "total_bill": 15.36,
         "tip": 1.64,
         "_deepnote_index_column": 105
        },
        {
         "total_bill": 20.49,
         "tip": 4.06,
         "_deepnote_index_column": 106
        },
        {
         "total_bill": 25.21,
         "tip": 4.29,
         "_deepnote_index_column": 107
        },
        {
         "total_bill": 18.24,
         "tip": 3.76,
         "_deepnote_index_column": 108
        },
        {
         "total_bill": 14.31,
         "tip": 4,
         "_deepnote_index_column": 109
        },
        {
         "total_bill": 14,
         "tip": 3,
         "_deepnote_index_column": 110
        },
        {
         "total_bill": 7.25,
         "tip": 1,
         "_deepnote_index_column": 111
        },
        {
         "total_bill": 38.07,
         "tip": 4,
         "_deepnote_index_column": 112
        },
        {
         "total_bill": 23.95,
         "tip": 2.55,
         "_deepnote_index_column": 113
        },
        {
         "total_bill": 25.71,
         "tip": 4,
         "_deepnote_index_column": 114
        },
        {
         "total_bill": 17.31,
         "tip": 3.5,
         "_deepnote_index_column": 115
        },
        {
         "total_bill": 29.93,
         "tip": 5.07,
         "_deepnote_index_column": 116
        },
        {
         "total_bill": 10.65,
         "tip": 1.5,
         "_deepnote_index_column": 117
        },
        {
         "total_bill": 12.43,
         "tip": 1.8,
         "_deepnote_index_column": 118
        },
        {
         "total_bill": 24.08,
         "tip": 2.92,
         "_deepnote_index_column": 119
        },
        {
         "total_bill": 11.69,
         "tip": 2.31,
         "_deepnote_index_column": 120
        },
        {
         "total_bill": 13.42,
         "tip": 1.68,
         "_deepnote_index_column": 121
        },
        {
         "total_bill": 14.26,
         "tip": 2.5,
         "_deepnote_index_column": 122
        },
        {
         "total_bill": 15.95,
         "tip": 2,
         "_deepnote_index_column": 123
        },
        {
         "total_bill": 12.48,
         "tip": 2.52,
         "_deepnote_index_column": 124
        },
        {
         "total_bill": 29.8,
         "tip": 4.2,
         "_deepnote_index_column": 125
        },
        {
         "total_bill": 8.52,
         "tip": 1.48,
         "_deepnote_index_column": 126
        },
        {
         "total_bill": 14.52,
         "tip": 2,
         "_deepnote_index_column": 127
        },
        {
         "total_bill": 11.38,
         "tip": 2,
         "_deepnote_index_column": 128
        },
        {
         "total_bill": 22.82,
         "tip": 2.18,
         "_deepnote_index_column": 129
        },
        {
         "total_bill": 19.08,
         "tip": 1.5,
         "_deepnote_index_column": 130
        },
        {
         "total_bill": 20.27,
         "tip": 2.83,
         "_deepnote_index_column": 131
        },
        {
         "total_bill": 11.17,
         "tip": 1.5,
         "_deepnote_index_column": 132
        },
        {
         "total_bill": 12.26,
         "tip": 2,
         "_deepnote_index_column": 133
        },
        {
         "total_bill": 18.26,
         "tip": 3.25,
         "_deepnote_index_column": 134
        },
        {
         "total_bill": 8.51,
         "tip": 1.25,
         "_deepnote_index_column": 135
        },
        {
         "total_bill": 10.33,
         "tip": 2,
         "_deepnote_index_column": 136
        },
        {
         "total_bill": 14.15,
         "tip": 2,
         "_deepnote_index_column": 137
        },
        {
         "total_bill": 16,
         "tip": 2,
         "_deepnote_index_column": 138
        },
        {
         "total_bill": 13.16,
         "tip": 2.75,
         "_deepnote_index_column": 139
        },
        {
         "total_bill": 17.47,
         "tip": 3.5,
         "_deepnote_index_column": 140
        },
        {
         "total_bill": 34.3,
         "tip": 6.7,
         "_deepnote_index_column": 141
        },
        {
         "total_bill": 41.19,
         "tip": 5,
         "_deepnote_index_column": 142
        },
        {
         "total_bill": 27.05,
         "tip": 5,
         "_deepnote_index_column": 143
        },
        {
         "total_bill": 16.43,
         "tip": 2.3,
         "_deepnote_index_column": 144
        },
        {
         "total_bill": 8.35,
         "tip": 1.5,
         "_deepnote_index_column": 145
        },
        {
         "total_bill": 18.64,
         "tip": 1.36,
         "_deepnote_index_column": 146
        },
        {
         "total_bill": 11.87,
         "tip": 1.63,
         "_deepnote_index_column": 147
        },
        {
         "total_bill": 9.78,
         "tip": 1.73,
         "_deepnote_index_column": 148
        },
        {
         "total_bill": 7.51,
         "tip": 2,
         "_deepnote_index_column": 149
        },
        {
         "total_bill": 14.07,
         "tip": 2.5,
         "_deepnote_index_column": 150
        },
        {
         "total_bill": 13.13,
         "tip": 2,
         "_deepnote_index_column": 151
        },
        {
         "total_bill": 17.26,
         "tip": 2.74,
         "_deepnote_index_column": 152
        },
        {
         "total_bill": 24.55,
         "tip": 2,
         "_deepnote_index_column": 153
        },
        {
         "total_bill": 19.77,
         "tip": 2,
         "_deepnote_index_column": 154
        },
        {
         "total_bill": 29.85,
         "tip": 5.14,
         "_deepnote_index_column": 155
        },
        {
         "total_bill": 48.17,
         "tip": 5,
         "_deepnote_index_column": 156
        },
        {
         "total_bill": 25,
         "tip": 3.75,
         "_deepnote_index_column": 157
        },
        {
         "total_bill": 13.39,
         "tip": 2.61,
         "_deepnote_index_column": 158
        },
        {
         "total_bill": 16.49,
         "tip": 2,
         "_deepnote_index_column": 159
        },
        {
         "total_bill": 21.5,
         "tip": 3.5,
         "_deepnote_index_column": 160
        },
        {
         "total_bill": 12.66,
         "tip": 2.5,
         "_deepnote_index_column": 161
        },
        {
         "total_bill": 16.21,
         "tip": 2,
         "_deepnote_index_column": 162
        },
        {
         "total_bill": 13.81,
         "tip": 2,
         "_deepnote_index_column": 163
        },
        {
         "total_bill": 17.51,
         "tip": 3,
         "_deepnote_index_column": 164
        },
        {
         "total_bill": 24.52,
         "tip": 3.48,
         "_deepnote_index_column": 165
        },
        {
         "total_bill": 20.76,
         "tip": 2.24,
         "_deepnote_index_column": 166
        },
        {
         "total_bill": 31.71,
         "tip": 4.5,
         "_deepnote_index_column": 167
        },
        {
         "total_bill": 10.59,
         "tip": 1.61,
         "_deepnote_index_column": 168
        },
        {
         "total_bill": 10.63,
         "tip": 2,
         "_deepnote_index_column": 169
        },
        {
         "total_bill": 50.81,
         "tip": 10,
         "_deepnote_index_column": 170
        },
        {
         "total_bill": 15.81,
         "tip": 3.16,
         "_deepnote_index_column": 171
        },
        {
         "total_bill": 7.25,
         "tip": 5.15,
         "_deepnote_index_column": 172
        },
        {
         "total_bill": 31.85,
         "tip": 3.18,
         "_deepnote_index_column": 173
        },
        {
         "total_bill": 16.82,
         "tip": 4,
         "_deepnote_index_column": 174
        },
        {
         "total_bill": 32.9,
         "tip": 3.11,
         "_deepnote_index_column": 175
        },
        {
         "total_bill": 17.89,
         "tip": 2,
         "_deepnote_index_column": 176
        },
        {
         "total_bill": 14.48,
         "tip": 2,
         "_deepnote_index_column": 177
        },
        {
         "total_bill": 9.6,
         "tip": 4,
         "_deepnote_index_column": 178
        },
        {
         "total_bill": 34.63,
         "tip": 3.55,
         "_deepnote_index_column": 179
        },
        {
         "total_bill": 34.65,
         "tip": 3.68,
         "_deepnote_index_column": 180
        },
        {
         "total_bill": 23.33,
         "tip": 5.65,
         "_deepnote_index_column": 181
        },
        {
         "total_bill": 45.35,
         "tip": 3.5,
         "_deepnote_index_column": 182
        },
        {
         "total_bill": 23.17,
         "tip": 6.5,
         "_deepnote_index_column": 183
        },
        {
         "total_bill": 40.55,
         "tip": 3,
         "_deepnote_index_column": 184
        },
        {
         "total_bill": 20.69,
         "tip": 5,
         "_deepnote_index_column": 185
        },
        {
         "total_bill": 20.9,
         "tip": 3.5,
         "_deepnote_index_column": 186
        },
        {
         "total_bill": 30.46,
         "tip": 2,
         "_deepnote_index_column": 187
        },
        {
         "total_bill": 18.15,
         "tip": 3.5,
         "_deepnote_index_column": 188
        },
        {
         "total_bill": 23.1,
         "tip": 4,
         "_deepnote_index_column": 189
        },
        {
         "total_bill": 15.69,
         "tip": 1.5,
         "_deepnote_index_column": 190
        },
        {
         "total_bill": 19.81,
         "tip": 4.19,
         "_deepnote_index_column": 191
        },
        {
         "total_bill": 28.44,
         "tip": 2.56,
         "_deepnote_index_column": 192
        },
        {
         "total_bill": 15.48,
         "tip": 2.02,
         "_deepnote_index_column": 193
        },
        {
         "total_bill": 16.58,
         "tip": 4,
         "_deepnote_index_column": 194
        },
        {
         "total_bill": 7.56,
         "tip": 1.44,
         "_deepnote_index_column": 195
        },
        {
         "total_bill": 10.34,
         "tip": 2,
         "_deepnote_index_column": 196
        },
        {
         "total_bill": 43.11,
         "tip": 5,
         "_deepnote_index_column": 197
        },
        {
         "total_bill": 13,
         "tip": 2,
         "_deepnote_index_column": 198
        },
        {
         "total_bill": 13.51,
         "tip": 2,
         "_deepnote_index_column": 199
        },
        {
         "total_bill": 18.71,
         "tip": 4,
         "_deepnote_index_column": 200
        },
        {
         "total_bill": 12.74,
         "tip": 2.01,
         "_deepnote_index_column": 201
        },
        {
         "total_bill": 13,
         "tip": 2,
         "_deepnote_index_column": 202
        },
        {
         "total_bill": 16.4,
         "tip": 2.5,
         "_deepnote_index_column": 203
        },
        {
         "total_bill": 20.53,
         "tip": 4,
         "_deepnote_index_column": 204
        },
        {
         "total_bill": 16.47,
         "tip": 3.23,
         "_deepnote_index_column": 205
        },
        {
         "total_bill": 26.59,
         "tip": 3.41,
         "_deepnote_index_column": 206
        },
        {
         "total_bill": 38.73,
         "tip": 3,
         "_deepnote_index_column": 207
        },
        {
         "total_bill": 24.27,
         "tip": 2.03,
         "_deepnote_index_column": 208
        },
        {
         "total_bill": 12.76,
         "tip": 2.23,
         "_deepnote_index_column": 209
        },
        {
         "total_bill": 30.06,
         "tip": 2,
         "_deepnote_index_column": 210
        },
        {
         "total_bill": 25.89,
         "tip": 5.16,
         "_deepnote_index_column": 211
        },
        {
         "total_bill": 48.33,
         "tip": 9,
         "_deepnote_index_column": 212
        },
        {
         "total_bill": 13.27,
         "tip": 2.5,
         "_deepnote_index_column": 213
        },
        {
         "total_bill": 28.17,
         "tip": 6.5,
         "_deepnote_index_column": 214
        },
        {
         "total_bill": 12.9,
         "tip": 1.1,
         "_deepnote_index_column": 215
        },
        {
         "total_bill": 28.15,
         "tip": 3,
         "_deepnote_index_column": 216
        },
        {
         "total_bill": 11.59,
         "tip": 1.5,
         "_deepnote_index_column": 217
        },
        {
         "total_bill": 7.74,
         "tip": 1.44,
         "_deepnote_index_column": 218
        },
        {
         "total_bill": 30.14,
         "tip": 3.09,
         "_deepnote_index_column": 219
        },
        {
         "total_bill": 12.16,
         "tip": 2.2,
         "_deepnote_index_column": 220
        },
        {
         "total_bill": 13.42,
         "tip": 3.48,
         "_deepnote_index_column": 221
        },
        {
         "total_bill": 8.58,
         "tip": 1.92,
         "_deepnote_index_column": 222
        },
        {
         "total_bill": 15.98,
         "tip": 3,
         "_deepnote_index_column": 223
        },
        {
         "total_bill": 13.42,
         "tip": 1.58,
         "_deepnote_index_column": 224
        },
        {
         "total_bill": 16.27,
         "tip": 2.5,
         "_deepnote_index_column": 225
        },
        {
         "total_bill": 10.09,
         "tip": 2,
         "_deepnote_index_column": 226
        },
        {
         "total_bill": 20.45,
         "tip": 3,
         "_deepnote_index_column": 227
        },
        {
         "total_bill": 13.28,
         "tip": 2.72,
         "_deepnote_index_column": 228
        },
        {
         "total_bill": 22.12,
         "tip": 2.88,
         "_deepnote_index_column": 229
        },
        {
         "total_bill": 24.01,
         "tip": 2,
         "_deepnote_index_column": 230
        },
        {
         "total_bill": 15.69,
         "tip": 3,
         "_deepnote_index_column": 231
        },
        {
         "total_bill": 11.61,
         "tip": 3.39,
         "_deepnote_index_column": 232
        },
        {
         "total_bill": 10.77,
         "tip": 1.47,
         "_deepnote_index_column": 233
        },
        {
         "total_bill": 15.53,
         "tip": 3,
         "_deepnote_index_column": 234
        },
        {
         "total_bill": 10.07,
         "tip": 1.25,
         "_deepnote_index_column": 235
        },
        {
         "total_bill": 12.6,
         "tip": 1,
         "_deepnote_index_column": 236
        },
        {
         "total_bill": 32.83,
         "tip": 1.17,
         "_deepnote_index_column": 237
        },
        {
         "total_bill": 35.83,
         "tip": 4.67,
         "_deepnote_index_column": 238
        },
        {
         "total_bill": 29.03,
         "tip": 5.92,
         "_deepnote_index_column": 239
        },
        {
         "total_bill": 27.18,
         "tip": 2,
         "_deepnote_index_column": 240
        },
        {
         "total_bill": 22.67,
         "tip": 2,
         "_deepnote_index_column": 241
        },
        {
         "total_bill": 17.82,
         "tip": 1.75,
         "_deepnote_index_column": 242
        },
        {
         "total_bill": 18.78,
         "tip": 3,
         "_deepnote_index_column": 243
        }
       ],
       "rows_bottom": null
      },
      "text/plain": "     total_bill   tip\n0         16.99  1.01\n1         10.34  1.66\n2         21.01  3.50\n3         23.68  3.31\n4         24.59  3.61\n..          ...   ...\n239       29.03  5.92\n240       27.18  2.00\n241       22.67  2.00\n242       17.82  1.75\n243       18.78  3.00\n\n[244 rows x 2 columns]",
      "text/html": "<div>\n<style scoped>\n    .dataframe tbody tr th:only-of-type {\n        vertical-align: middle;\n    }\n\n    .dataframe tbody tr th {\n        vertical-align: top;\n    }\n\n    .dataframe thead th {\n        text-align: right;\n    }\n</style>\n<table border=\"1\" class=\"dataframe\">\n  <thead>\n    <tr style=\"text-align: right;\">\n      <th></th>\n      <th>total_bill</th>\n      <th>tip</th>\n    </tr>\n  </thead>\n  <tbody>\n    <tr>\n      <th>0</th>\n      <td>16.99</td>\n      <td>1.01</td>\n    </tr>\n    <tr>\n      <th>1</th>\n      <td>10.34</td>\n      <td>1.66</td>\n    </tr>\n    <tr>\n      <th>2</th>\n      <td>21.01</td>\n      <td>3.50</td>\n    </tr>\n    <tr>\n      <th>3</th>\n      <td>23.68</td>\n      <td>3.31</td>\n    </tr>\n    <tr>\n      <th>4</th>\n      <td>24.59</td>\n      <td>3.61</td>\n    </tr>\n    <tr>\n      <th>...</th>\n      <td>...</td>\n      <td>...</td>\n    </tr>\n    <tr>\n      <th>239</th>\n      <td>29.03</td>\n      <td>5.92</td>\n    </tr>\n    <tr>\n      <th>240</th>\n      <td>27.18</td>\n      <td>2.00</td>\n    </tr>\n    <tr>\n      <th>241</th>\n      <td>22.67</td>\n      <td>2.00</td>\n    </tr>\n    <tr>\n      <th>242</th>\n      <td>17.82</td>\n      <td>1.75</td>\n    </tr>\n    <tr>\n      <th>243</th>\n      <td>18.78</td>\n      <td>3.00</td>\n    </tr>\n  </tbody>\n</table>\n<p>244 rows × 2 columns</p>\n</div>"
     },
     "metadata": {}
    }
   ],
   "execution_count": null
  },
  {
   "cell_type": "code",
   "metadata": {
    "tags": [],
    "cell_id": "00019-17c3818f-16c4-4147-81d1-a0936fec2cc3",
    "deepnote_to_be_reexecuted": false,
    "source_hash": "239bc4e",
    "execution_start": 1622282523142,
    "execution_millis": 5,
    "deepnote_cell_type": "code"
   },
   "source": "df['tip']/df['total_bill'] *100",
   "outputs": [
    {
     "output_type": "execute_result",
     "execution_count": 20,
     "data": {
      "text/plain": "0       5.944673\n1      16.054159\n2      16.658734\n3      13.978041\n4      14.680765\n         ...    \n239    20.392697\n240     7.358352\n241     8.822232\n242     9.820426\n243    15.974441\nLength: 244, dtype: float64"
     },
     "metadata": {}
    }
   ],
   "execution_count": null
  },
  {
   "cell_type": "code",
   "metadata": {
    "tags": [],
    "cell_id": "00020-aaaabfcb-0240-4ea7-8617-6e5233f21ee8",
    "deepnote_to_be_reexecuted": false,
    "source_hash": "37109133",
    "execution_start": 1622282523143,
    "execution_millis": 0,
    "deepnote_cell_type": "code"
   },
   "source": "df['tip_percent']=df['tip']/df['total_bill'] *100    #created a new column",
   "outputs": [],
   "execution_count": null
  },
  {
   "cell_type": "code",
   "metadata": {
    "tags": [],
    "cell_id": "00021-d7bcb380-d90a-4ab6-ae28-6bb07876b2b4",
    "deepnote_to_be_reexecuted": false,
    "source_hash": "92b57b4",
    "execution_start": 1622282523143,
    "execution_millis": 47,
    "deepnote_cell_type": "code"
   },
   "source": "df.head()      ",
   "outputs": [
    {
     "output_type": "execute_result",
     "execution_count": 22,
     "data": {
      "application/vnd.deepnote.dataframe.v2+json": {
       "row_count": 5,
       "column_count": 12,
       "columns": [
        {
         "name": "total_bill",
         "dtype": "float64",
         "stats": {
          "unique_count": 5,
          "nan_count": 0,
          "min": "10.34",
          "max": "24.59",
          "histogram": [
           {
            "bin_start": 10.34,
            "bin_end": 11.765,
            "count": 1
           },
           {
            "bin_start": 11.765,
            "bin_end": 13.19,
            "count": 0
           },
           {
            "bin_start": 13.19,
            "bin_end": 14.615,
            "count": 0
           },
           {
            "bin_start": 14.615,
            "bin_end": 16.04,
            "count": 0
           },
           {
            "bin_start": 16.04,
            "bin_end": 17.465,
            "count": 1
           },
           {
            "bin_start": 17.465,
            "bin_end": 18.89,
            "count": 0
           },
           {
            "bin_start": 18.89,
            "bin_end": 20.314999999999998,
            "count": 0
           },
           {
            "bin_start": 20.314999999999998,
            "bin_end": 21.740000000000002,
            "count": 1
           },
           {
            "bin_start": 21.740000000000002,
            "bin_end": 23.165,
            "count": 0
           },
           {
            "bin_start": 23.165,
            "bin_end": 24.59,
            "count": 2
           }
          ]
         }
        },
        {
         "name": "tip",
         "dtype": "float64",
         "stats": {
          "unique_count": 5,
          "nan_count": 0,
          "min": "1.01",
          "max": "3.61",
          "histogram": [
           {
            "bin_start": 1.01,
            "bin_end": 1.27,
            "count": 1
           },
           {
            "bin_start": 1.27,
            "bin_end": 1.5299999999999998,
            "count": 0
           },
           {
            "bin_start": 1.5299999999999998,
            "bin_end": 1.7899999999999998,
            "count": 1
           },
           {
            "bin_start": 1.7899999999999998,
            "bin_end": 2.05,
            "count": 0
           },
           {
            "bin_start": 2.05,
            "bin_end": 2.3099999999999996,
            "count": 0
           },
           {
            "bin_start": 2.3099999999999996,
            "bin_end": 2.5699999999999994,
            "count": 0
           },
           {
            "bin_start": 2.5699999999999994,
            "bin_end": 2.8299999999999996,
            "count": 0
           },
           {
            "bin_start": 2.8299999999999996,
            "bin_end": 3.09,
            "count": 0
           },
           {
            "bin_start": 3.09,
            "bin_end": 3.3499999999999996,
            "count": 1
           },
           {
            "bin_start": 3.3499999999999996,
            "bin_end": 3.61,
            "count": 2
           }
          ]
         }
        },
        {
         "name": "sex",
         "dtype": "object",
         "stats": {
          "unique_count": 2,
          "nan_count": 0,
          "categories": [
           {
            "name": "Male",
            "count": 3
           },
           {
            "name": "Female",
            "count": 2
           }
          ]
         }
        },
        {
         "name": "smoker",
         "dtype": "object",
         "stats": {
          "unique_count": 1,
          "nan_count": 0,
          "categories": [
           {
            "name": "No",
            "count": 5
           }
          ]
         }
        },
        {
         "name": "day",
         "dtype": "object",
         "stats": {
          "unique_count": 1,
          "nan_count": 0,
          "categories": [
           {
            "name": "Sun",
            "count": 5
           }
          ]
         }
        },
        {
         "name": "time",
         "dtype": "object",
         "stats": {
          "unique_count": 1,
          "nan_count": 0,
          "categories": [
           {
            "name": "Dinner",
            "count": 5
           }
          ]
         }
        },
        {
         "name": "size",
         "dtype": "int64",
         "stats": {
          "unique_count": 3,
          "nan_count": 0,
          "min": "2",
          "max": "4",
          "histogram": [
           {
            "bin_start": 2,
            "bin_end": 2.2,
            "count": 2
           },
           {
            "bin_start": 2.2,
            "bin_end": 2.4,
            "count": 0
           },
           {
            "bin_start": 2.4,
            "bin_end": 2.6,
            "count": 0
           },
           {
            "bin_start": 2.6,
            "bin_end": 2.8,
            "count": 0
           },
           {
            "bin_start": 2.8,
            "bin_end": 3,
            "count": 0
           },
           {
            "bin_start": 3,
            "bin_end": 3.2,
            "count": 2
           },
           {
            "bin_start": 3.2,
            "bin_end": 3.4000000000000004,
            "count": 0
           },
           {
            "bin_start": 3.4000000000000004,
            "bin_end": 3.6,
            "count": 0
           },
           {
            "bin_start": 3.6,
            "bin_end": 3.8,
            "count": 0
           },
           {
            "bin_start": 3.8,
            "bin_end": 4,
            "count": 1
           }
          ]
         }
        },
        {
         "name": "price_per_person",
         "dtype": "float64",
         "stats": {
          "unique_count": 5,
          "nan_count": 0,
          "min": "3.45",
          "max": "11.84",
          "histogram": [
           {
            "bin_start": 3.45,
            "bin_end": 4.289000000000001,
            "count": 1
           },
           {
            "bin_start": 4.289000000000001,
            "bin_end": 5.128,
            "count": 0
           },
           {
            "bin_start": 5.128,
            "bin_end": 5.9670000000000005,
            "count": 0
           },
           {
            "bin_start": 5.9670000000000005,
            "bin_end": 6.806000000000001,
            "count": 1
           },
           {
            "bin_start": 6.806000000000001,
            "bin_end": 7.6450000000000005,
            "count": 1
           },
           {
            "bin_start": 7.6450000000000005,
            "bin_end": 8.484000000000002,
            "count": 0
           },
           {
            "bin_start": 8.484000000000002,
            "bin_end": 9.323,
            "count": 1
           },
           {
            "bin_start": 9.323,
            "bin_end": 10.162,
            "count": 0
           },
           {
            "bin_start": 10.162,
            "bin_end": 11.001000000000001,
            "count": 0
           },
           {
            "bin_start": 11.001000000000001,
            "bin_end": 11.84,
            "count": 1
           }
          ]
         }
        },
        {
         "name": "Payer Name",
         "dtype": "object",
         "stats": {
          "unique_count": 5,
          "nan_count": 0,
          "categories": [
           {
            "name": "Christy Cunningham",
            "count": 1
           },
           {
            "name": "Douglas Tucker",
            "count": 1
           },
           {
            "name": "3 others",
            "count": 3
           }
          ]
         }
        },
        {
         "name": "CC Number",
         "dtype": "int64",
         "stats": {
          "unique_count": 5,
          "nan_count": 0,
          "min": "3560325168603410",
          "max": "6011812112971322",
          "histogram": [
           {
            "bin_start": 3560325168603410,
            "bin_end": 3805473863040201,
            "count": 1
           },
           {
            "bin_start": 3805473863040201,
            "bin_end": 4050622557476992.5,
            "count": 0
           },
           {
            "bin_start": 4050622557476992.5,
            "bin_end": 4295771251913783.5,
            "count": 0
           },
           {
            "bin_start": 4295771251913783.5,
            "bin_end": 4540919946350575,
            "count": 1
           },
           {
            "bin_start": 4540919946350575,
            "bin_end": 4786068640787366,
            "count": 1
           },
           {
            "bin_start": 4786068640787366,
            "bin_end": 5031217335224157,
            "count": 1
           },
           {
            "bin_start": 5031217335224157,
            "bin_end": 5276366029660948,
            "count": 0
           },
           {
            "bin_start": 5276366029660948,
            "bin_end": 5521514724097740,
            "count": 0
           },
           {
            "bin_start": 5521514724097740,
            "bin_end": 5766663418534531,
            "count": 0
           },
           {
            "bin_start": 5766663418534531,
            "bin_end": 6011812112971322,
            "count": 1
           }
          ]
         }
        },
        {
         "name": "Payment ID",
         "dtype": "object",
         "stats": {
          "unique_count": 5,
          "nan_count": 0,
          "categories": [
           {
            "name": "Sun2959",
            "count": 1
           },
           {
            "name": "Sun4608",
            "count": 1
           },
           {
            "name": "3 others",
            "count": 3
           }
          ]
         }
        },
        {
         "name": "tip_percent",
         "dtype": "float64",
         "stats": {
          "unique_count": 5,
          "nan_count": 0,
          "min": "5.9446733372572105",
          "max": "16.658733936220845",
          "histogram": [
           {
            "bin_start": 5.9446733372572105,
            "bin_end": 7.0160793971535735,
            "count": 1
           },
           {
            "bin_start": 7.0160793971535735,
            "bin_end": 8.087485457049937,
            "count": 0
           },
           {
            "bin_start": 8.087485457049937,
            "bin_end": 9.158891516946301,
            "count": 0
           },
           {
            "bin_start": 9.158891516946301,
            "bin_end": 10.230297576842664,
            "count": 0
           },
           {
            "bin_start": 10.230297576842664,
            "bin_end": 11.301703636739028,
            "count": 0
           },
           {
            "bin_start": 11.301703636739028,
            "bin_end": 12.373109696635392,
            "count": 0
           },
           {
            "bin_start": 12.373109696635392,
            "bin_end": 13.444515756531755,
            "count": 0
           },
           {
            "bin_start": 13.444515756531755,
            "bin_end": 14.515921816428119,
            "count": 1
           },
           {
            "bin_start": 14.515921816428119,
            "bin_end": 15.587327876324482,
            "count": 1
           },
           {
            "bin_start": 15.587327876324482,
            "bin_end": 16.658733936220845,
            "count": 2
           }
          ]
         }
        },
        {
         "name": "_deepnote_index_column",
         "dtype": "int64"
        }
       ],
       "rows_top": [
        {
         "total_bill": 16.99,
         "tip": 1.01,
         "sex": "Female",
         "smoker": "No",
         "day": "Sun",
         "time": "Dinner",
         "size": 2,
         "price_per_person": 8.49,
         "Payer Name": "Christy Cunningham",
         "CC Number": 3560325168603410,
         "Payment ID": "Sun2959",
         "tip_percent": 5.9446733372572105,
         "_deepnote_index_column": 0
        },
        {
         "total_bill": 10.34,
         "tip": 1.66,
         "sex": "Male",
         "smoker": "No",
         "day": "Sun",
         "time": "Dinner",
         "size": 3,
         "price_per_person": 3.45,
         "Payer Name": "Douglas Tucker",
         "CC Number": 4478071379779230,
         "Payment ID": "Sun4608",
         "tip_percent": 16.054158607350097,
         "_deepnote_index_column": 1
        },
        {
         "total_bill": 21.01,
         "tip": 3.5,
         "sex": "Male",
         "smoker": "No",
         "day": "Sun",
         "time": "Dinner",
         "size": 3,
         "price_per_person": 7,
         "Payer Name": "Travis Walters",
         "CC Number": 6011812112971322,
         "Payment ID": "Sun4458",
         "tip_percent": 16.658733936220845,
         "_deepnote_index_column": 2
        },
        {
         "total_bill": 23.68,
         "tip": 3.31,
         "sex": "Male",
         "smoker": "No",
         "day": "Sun",
         "time": "Dinner",
         "size": 2,
         "price_per_person": 11.84,
         "Payer Name": "Nathaniel Harris",
         "CC Number": 4676137647685994,
         "Payment ID": "Sun5260",
         "tip_percent": 13.97804054054054,
         "_deepnote_index_column": 3
        },
        {
         "total_bill": 24.59,
         "tip": 3.61,
         "sex": "Female",
         "smoker": "No",
         "day": "Sun",
         "time": "Dinner",
         "size": 4,
         "price_per_person": 6.15,
         "Payer Name": "Tonya Carter",
         "CC Number": 4832732618637221,
         "Payment ID": "Sun2251",
         "tip_percent": 14.680764538430255,
         "_deepnote_index_column": 4
        }
       ],
       "rows_bottom": null
      },
      "text/plain": "   total_bill   tip     sex smoker  day    time  size  price_per_person  \\\n0       16.99  1.01  Female     No  Sun  Dinner     2              8.49   \n1       10.34  1.66    Male     No  Sun  Dinner     3              3.45   \n2       21.01  3.50    Male     No  Sun  Dinner     3              7.00   \n3       23.68  3.31    Male     No  Sun  Dinner     2             11.84   \n4       24.59  3.61  Female     No  Sun  Dinner     4              6.15   \n\n           Payer Name         CC Number Payment ID  tip_percent  \n0  Christy Cunningham  3560325168603410    Sun2959     5.944673  \n1      Douglas Tucker  4478071379779230    Sun4608    16.054159  \n2      Travis Walters  6011812112971322    Sun4458    16.658734  \n3    Nathaniel Harris  4676137647685994    Sun5260    13.978041  \n4        Tonya Carter  4832732618637221    Sun2251    14.680765  ",
      "text/html": "<div>\n<style scoped>\n    .dataframe tbody tr th:only-of-type {\n        vertical-align: middle;\n    }\n\n    .dataframe tbody tr th {\n        vertical-align: top;\n    }\n\n    .dataframe thead th {\n        text-align: right;\n    }\n</style>\n<table border=\"1\" class=\"dataframe\">\n  <thead>\n    <tr style=\"text-align: right;\">\n      <th></th>\n      <th>total_bill</th>\n      <th>tip</th>\n      <th>sex</th>\n      <th>smoker</th>\n      <th>day</th>\n      <th>time</th>\n      <th>size</th>\n      <th>price_per_person</th>\n      <th>Payer Name</th>\n      <th>CC Number</th>\n      <th>Payment ID</th>\n      <th>tip_percent</th>\n    </tr>\n  </thead>\n  <tbody>\n    <tr>\n      <th>0</th>\n      <td>16.99</td>\n      <td>1.01</td>\n      <td>Female</td>\n      <td>No</td>\n      <td>Sun</td>\n      <td>Dinner</td>\n      <td>2</td>\n      <td>8.49</td>\n      <td>Christy Cunningham</td>\n      <td>3560325168603410</td>\n      <td>Sun2959</td>\n      <td>5.944673</td>\n    </tr>\n    <tr>\n      <th>1</th>\n      <td>10.34</td>\n      <td>1.66</td>\n      <td>Male</td>\n      <td>No</td>\n      <td>Sun</td>\n      <td>Dinner</td>\n      <td>3</td>\n      <td>3.45</td>\n      <td>Douglas Tucker</td>\n      <td>4478071379779230</td>\n      <td>Sun4608</td>\n      <td>16.054159</td>\n    </tr>\n    <tr>\n      <th>2</th>\n      <td>21.01</td>\n      <td>3.50</td>\n      <td>Male</td>\n      <td>No</td>\n      <td>Sun</td>\n      <td>Dinner</td>\n      <td>3</td>\n      <td>7.00</td>\n      <td>Travis Walters</td>\n      <td>6011812112971322</td>\n      <td>Sun4458</td>\n      <td>16.658734</td>\n    </tr>\n    <tr>\n      <th>3</th>\n      <td>23.68</td>\n      <td>3.31</td>\n      <td>Male</td>\n      <td>No</td>\n      <td>Sun</td>\n      <td>Dinner</td>\n      <td>2</td>\n      <td>11.84</td>\n      <td>Nathaniel Harris</td>\n      <td>4676137647685994</td>\n      <td>Sun5260</td>\n      <td>13.978041</td>\n    </tr>\n    <tr>\n      <th>4</th>\n      <td>24.59</td>\n      <td>3.61</td>\n      <td>Female</td>\n      <td>No</td>\n      <td>Sun</td>\n      <td>Dinner</td>\n      <td>4</td>\n      <td>6.15</td>\n      <td>Tonya Carter</td>\n      <td>4832732618637221</td>\n      <td>Sun2251</td>\n      <td>14.680765</td>\n    </tr>\n  </tbody>\n</table>\n</div>"
     },
     "metadata": {}
    }
   ],
   "execution_count": null
  },
  {
   "cell_type": "code",
   "metadata": {
    "tags": [],
    "cell_id": "00022-7b500f13-0eac-421a-a037-260c72856d38",
    "deepnote_to_be_reexecuted": false,
    "source_hash": "6ba62c1f",
    "execution_start": 1622282523188,
    "execution_millis": 2,
    "deepnote_cell_type": "code"
   },
   "source": "#giving the same name of the column to  a new column overwrites the original column",
   "outputs": [],
   "execution_count": null
  },
  {
   "cell_type": "code",
   "metadata": {
    "tags": [],
    "cell_id": "00025-3d1859ef-2c59-427e-aaae-b944789f9854",
    "deepnote_to_be_reexecuted": false,
    "source_hash": "5379b327",
    "execution_start": 1622282523241,
    "execution_millis": 47,
    "deepnote_cell_type": "code"
   },
   "source": "df.drop('tip_percent',axis=1)",
   "outputs": [
    {
     "output_type": "execute_result",
     "execution_count": 24,
     "data": {
      "application/vnd.deepnote.dataframe.v2+json": {
       "row_count": 244,
       "column_count": 11,
       "columns": [
        {
         "name": "total_bill",
         "dtype": "float64",
         "stats": {
          "unique_count": 229,
          "nan_count": 0,
          "min": "3.07",
          "max": "50.81",
          "histogram": [
           {
            "bin_start": 3.07,
            "bin_end": 7.843999999999999,
            "count": 7
           },
           {
            "bin_start": 7.843999999999999,
            "bin_end": 12.618,
            "count": 42
           },
           {
            "bin_start": 12.618,
            "bin_end": 17.392,
            "count": 68
           },
           {
            "bin_start": 17.392,
            "bin_end": 22.166,
            "count": 51
           },
           {
            "bin_start": 22.166,
            "bin_end": 26.94,
            "count": 31
           },
           {
            "bin_start": 26.94,
            "bin_end": 31.714,
            "count": 19
           },
           {
            "bin_start": 31.714,
            "bin_end": 36.488,
            "count": 12
           },
           {
            "bin_start": 36.488,
            "bin_end": 41.262,
            "count": 7
           },
           {
            "bin_start": 41.262,
            "bin_end": 46.036,
            "count": 3
           },
           {
            "bin_start": 46.036,
            "bin_end": 50.81,
            "count": 4
           }
          ]
         }
        },
        {
         "name": "tip",
         "dtype": "float64",
         "stats": {
          "unique_count": 123,
          "nan_count": 0,
          "min": "1.0",
          "max": "10.0",
          "histogram": [
           {
            "bin_start": 1,
            "bin_end": 1.9,
            "count": 41
           },
           {
            "bin_start": 1.9,
            "bin_end": 2.8,
            "count": 79
           },
           {
            "bin_start": 2.8,
            "bin_end": 3.7,
            "count": 66
           },
           {
            "bin_start": 3.7,
            "bin_end": 4.6,
            "count": 27
           },
           {
            "bin_start": 4.6,
            "bin_end": 5.5,
            "count": 19
           },
           {
            "bin_start": 5.5,
            "bin_end": 6.4,
            "count": 5
           },
           {
            "bin_start": 6.4,
            "bin_end": 7.3,
            "count": 4
           },
           {
            "bin_start": 7.3,
            "bin_end": 8.2,
            "count": 1
           },
           {
            "bin_start": 8.2,
            "bin_end": 9.1,
            "count": 1
           },
           {
            "bin_start": 9.1,
            "bin_end": 10,
            "count": 1
           }
          ]
         }
        },
        {
         "name": "sex",
         "dtype": "object",
         "stats": {
          "unique_count": 2,
          "nan_count": 0,
          "categories": [
           {
            "name": "Male",
            "count": 157
           },
           {
            "name": "Female",
            "count": 87
           }
          ]
         }
        },
        {
         "name": "smoker",
         "dtype": "object",
         "stats": {
          "unique_count": 2,
          "nan_count": 0,
          "categories": [
           {
            "name": "No",
            "count": 151
           },
           {
            "name": "Yes",
            "count": 93
           }
          ]
         }
        },
        {
         "name": "day",
         "dtype": "object",
         "stats": {
          "unique_count": 4,
          "nan_count": 0,
          "categories": [
           {
            "name": "Sat",
            "count": 87
           },
           {
            "name": "Sun",
            "count": 76
           },
           {
            "name": "2 others",
            "count": 81
           }
          ]
         }
        },
        {
         "name": "time",
         "dtype": "object",
         "stats": {
          "unique_count": 2,
          "nan_count": 0,
          "categories": [
           {
            "name": "Dinner",
            "count": 176
           },
           {
            "name": "Lunch",
            "count": 68
           }
          ]
         }
        },
        {
         "name": "size",
         "dtype": "int64",
         "stats": {
          "unique_count": 6,
          "nan_count": 0,
          "min": "1",
          "max": "6",
          "histogram": [
           {
            "bin_start": 1,
            "bin_end": 1.5,
            "count": 4
           },
           {
            "bin_start": 1.5,
            "bin_end": 2,
            "count": 0
           },
           {
            "bin_start": 2,
            "bin_end": 2.5,
            "count": 156
           },
           {
            "bin_start": 2.5,
            "bin_end": 3,
            "count": 0
           },
           {
            "bin_start": 3,
            "bin_end": 3.5,
            "count": 38
           },
           {
            "bin_start": 3.5,
            "bin_end": 4,
            "count": 0
           },
           {
            "bin_start": 4,
            "bin_end": 4.5,
            "count": 37
           },
           {
            "bin_start": 4.5,
            "bin_end": 5,
            "count": 0
           },
           {
            "bin_start": 5,
            "bin_end": 5.5,
            "count": 5
           },
           {
            "bin_start": 5.5,
            "bin_end": 6,
            "count": 4
           }
          ]
         }
        },
        {
         "name": "price_per_person",
         "dtype": "float64",
         "stats": {
          "unique_count": 217,
          "nan_count": 0,
          "min": "2.88",
          "max": "20.27",
          "histogram": [
           {
            "bin_start": 2.88,
            "bin_end": 4.619,
            "count": 19
           },
           {
            "bin_start": 4.619,
            "bin_end": 6.3580000000000005,
            "count": 69
           },
           {
            "bin_start": 6.3580000000000005,
            "bin_end": 8.097000000000001,
            "count": 60
           },
           {
            "bin_start": 8.097000000000001,
            "bin_end": 9.836,
            "count": 44
           },
           {
            "bin_start": 9.836,
            "bin_end": 11.575,
            "count": 26
           },
           {
            "bin_start": 11.575,
            "bin_end": 13.314,
            "count": 12
           },
           {
            "bin_start": 13.314,
            "bin_end": 15.053,
            "count": 6
           },
           {
            "bin_start": 15.053,
            "bin_end": 16.792,
            "count": 5
           },
           {
            "bin_start": 16.792,
            "bin_end": 18.531000000000002,
            "count": 2
           },
           {
            "bin_start": 18.531000000000002,
            "bin_end": 20.27,
            "count": 1
           }
          ]
         }
        },
        {
         "name": "Payer Name",
         "dtype": "object",
         "stats": {
          "unique_count": 244,
          "nan_count": 0,
          "categories": [
           {
            "name": "Christy Cunningham",
            "count": 1
           },
           {
            "name": "Douglas Tucker",
            "count": 1
           },
           {
            "name": "242 others",
            "count": 242
           }
          ]
         }
        },
        {
         "name": "CC Number",
         "dtype": "int64",
         "stats": {
          "unique_count": 244,
          "nan_count": 0,
          "min": "60406789937",
          "max": "6596453823950595",
          "histogram": [
           {
            "bin_start": 60406789937,
            "bin_end": 659699748506002.8,
            "count": 110
           },
           {
            "bin_start": 659699748506002.8,
            "bin_end": 1319339090222068.5,
            "count": 0
           },
           {
            "bin_start": 1319339090222068.5,
            "bin_end": 1978978431938134.2,
            "count": 0
           },
           {
            "bin_start": 1978978431938134.2,
            "bin_end": 2638617773654200,
            "count": 3
           },
           {
            "bin_start": 2638617773654200,
            "bin_end": 3298257115370266,
            "count": 0
           },
           {
            "bin_start": 3298257115370266,
            "bin_end": 3957896457086331.5,
            "count": 43
           },
           {
            "bin_start": 3957896457086331.5,
            "bin_end": 4617535798802397,
            "count": 30
           },
           {
            "bin_start": 4617535798802397,
            "bin_end": 5277175140518463,
            "count": 19
           },
           {
            "bin_start": 5277175140518463,
            "bin_end": 5936814482234529,
            "count": 15
           },
           {
            "bin_start": 5936814482234529,
            "bin_end": 6596453823950595,
            "count": 24
           }
          ]
         }
        },
        {
         "name": "Payment ID",
         "dtype": "object",
         "stats": {
          "unique_count": 243,
          "nan_count": 0,
          "categories": [
           {
            "name": "Thur8084",
            "count": 2
           },
           {
            "name": "Sun2959",
            "count": 1
           },
           {
            "name": "241 others",
            "count": 241
           }
          ]
         }
        },
        {
         "name": "_deepnote_index_column",
         "dtype": "int64"
        }
       ],
       "rows_top": [
        {
         "total_bill": 16.99,
         "tip": 1.01,
         "sex": "Female",
         "smoker": "No",
         "day": "Sun",
         "time": "Dinner",
         "size": 2,
         "price_per_person": 8.49,
         "Payer Name": "Christy Cunningham",
         "CC Number": 3560325168603410,
         "Payment ID": "Sun2959",
         "_deepnote_index_column": 0
        },
        {
         "total_bill": 10.34,
         "tip": 1.66,
         "sex": "Male",
         "smoker": "No",
         "day": "Sun",
         "time": "Dinner",
         "size": 3,
         "price_per_person": 3.45,
         "Payer Name": "Douglas Tucker",
         "CC Number": 4478071379779230,
         "Payment ID": "Sun4608",
         "_deepnote_index_column": 1
        },
        {
         "total_bill": 21.01,
         "tip": 3.5,
         "sex": "Male",
         "smoker": "No",
         "day": "Sun",
         "time": "Dinner",
         "size": 3,
         "price_per_person": 7,
         "Payer Name": "Travis Walters",
         "CC Number": 6011812112971322,
         "Payment ID": "Sun4458",
         "_deepnote_index_column": 2
        },
        {
         "total_bill": 23.68,
         "tip": 3.31,
         "sex": "Male",
         "smoker": "No",
         "day": "Sun",
         "time": "Dinner",
         "size": 2,
         "price_per_person": 11.84,
         "Payer Name": "Nathaniel Harris",
         "CC Number": 4676137647685994,
         "Payment ID": "Sun5260",
         "_deepnote_index_column": 3
        },
        {
         "total_bill": 24.59,
         "tip": 3.61,
         "sex": "Female",
         "smoker": "No",
         "day": "Sun",
         "time": "Dinner",
         "size": 4,
         "price_per_person": 6.15,
         "Payer Name": "Tonya Carter",
         "CC Number": 4832732618637221,
         "Payment ID": "Sun2251",
         "_deepnote_index_column": 4
        },
        {
         "total_bill": 25.29,
         "tip": 4.71,
         "sex": "Male",
         "smoker": "No",
         "day": "Sun",
         "time": "Dinner",
         "size": 4,
         "price_per_person": 6.32,
         "Payer Name": "Erik Smith",
         "CC Number": 213140353657882,
         "Payment ID": "Sun9679",
         "_deepnote_index_column": 5
        },
        {
         "total_bill": 8.77,
         "tip": 2,
         "sex": "Male",
         "smoker": "No",
         "day": "Sun",
         "time": "Dinner",
         "size": 2,
         "price_per_person": 4.38,
         "Payer Name": "Kristopher Johnson",
         "CC Number": 2223727524230344,
         "Payment ID": "Sun5985",
         "_deepnote_index_column": 6
        },
        {
         "total_bill": 26.88,
         "tip": 3.12,
         "sex": "Male",
         "smoker": "No",
         "day": "Sun",
         "time": "Dinner",
         "size": 4,
         "price_per_person": 6.72,
         "Payer Name": "Robert Buck",
         "CC Number": 3514785077705092,
         "Payment ID": "Sun8157",
         "_deepnote_index_column": 7
        },
        {
         "total_bill": 15.04,
         "tip": 1.96,
         "sex": "Male",
         "smoker": "No",
         "day": "Sun",
         "time": "Dinner",
         "size": 2,
         "price_per_person": 7.52,
         "Payer Name": "Joseph Mcdonald",
         "CC Number": 3522866365840377,
         "Payment ID": "Sun6820",
         "_deepnote_index_column": 8
        },
        {
         "total_bill": 14.78,
         "tip": 3.23,
         "sex": "Male",
         "smoker": "No",
         "day": "Sun",
         "time": "Dinner",
         "size": 2,
         "price_per_person": 7.39,
         "Payer Name": "Jerome Abbott",
         "CC Number": 3532124519049786,
         "Payment ID": "Sun3775",
         "_deepnote_index_column": 9
        },
        {
         "total_bill": 10.27,
         "tip": 1.71,
         "sex": "Male",
         "smoker": "No",
         "day": "Sun",
         "time": "Dinner",
         "size": 2,
         "price_per_person": 5.14,
         "Payer Name": "William Riley",
         "CC Number": 566287581219,
         "Payment ID": "Sun2546",
         "_deepnote_index_column": 10
        },
        {
         "total_bill": 35.26,
         "tip": 5,
         "sex": "Female",
         "smoker": "No",
         "day": "Sun",
         "time": "Dinner",
         "size": 4,
         "price_per_person": 8.82,
         "Payer Name": "Diane Macias",
         "CC Number": 4577817359320969,
         "Payment ID": "Sun6686",
         "_deepnote_index_column": 11
        },
        {
         "total_bill": 15.42,
         "tip": 1.57,
         "sex": "Male",
         "smoker": "No",
         "day": "Sun",
         "time": "Dinner",
         "size": 2,
         "price_per_person": 7.71,
         "Payer Name": "Chad Harrington",
         "CC Number": 577040572932,
         "Payment ID": "Sun1300",
         "_deepnote_index_column": 12
        },
        {
         "total_bill": 18.43,
         "tip": 3,
         "sex": "Male",
         "smoker": "No",
         "day": "Sun",
         "time": "Dinner",
         "size": 4,
         "price_per_person": 4.61,
         "Payer Name": "Joshua Jones",
         "CC Number": 6011163105616890,
         "Payment ID": "Sun2971",
         "_deepnote_index_column": 13
        },
        {
         "total_bill": 14.83,
         "tip": 3.02,
         "sex": "Female",
         "smoker": "No",
         "day": "Sun",
         "time": "Dinner",
         "size": 2,
         "price_per_person": 7.42,
         "Payer Name": "Vanessa Jones",
         "CC Number": 30016702287574,
         "Payment ID": "Sun3848",
         "_deepnote_index_column": 14
        },
        {
         "total_bill": 21.58,
         "tip": 3.92,
         "sex": "Male",
         "smoker": "No",
         "day": "Sun",
         "time": "Dinner",
         "size": 2,
         "price_per_person": 10.79,
         "Payer Name": "Matthew Reilly",
         "CC Number": 180073029785069,
         "Payment ID": "Sun1878",
         "_deepnote_index_column": 15
        },
        {
         "total_bill": 10.33,
         "tip": 1.67,
         "sex": "Female",
         "smoker": "No",
         "day": "Sun",
         "time": "Dinner",
         "size": 3,
         "price_per_person": 3.44,
         "Payer Name": "Elizabeth Foster",
         "CC Number": 4240025044626033,
         "Payment ID": "Sun9715",
         "_deepnote_index_column": 16
        },
        {
         "total_bill": 16.29,
         "tip": 3.71,
         "sex": "Male",
         "smoker": "No",
         "day": "Sun",
         "time": "Dinner",
         "size": 3,
         "price_per_person": 5.43,
         "Payer Name": "John Pittman",
         "CC Number": 6521340257218708,
         "Payment ID": "Sun2998",
         "_deepnote_index_column": 17
        },
        {
         "total_bill": 16.97,
         "tip": 3.5,
         "sex": "Female",
         "smoker": "No",
         "day": "Sun",
         "time": "Dinner",
         "size": 3,
         "price_per_person": 5.66,
         "Payer Name": "Laura Martinez",
         "CC Number": 30422275171379,
         "Payment ID": "Sun2789",
         "_deepnote_index_column": 18
        },
        {
         "total_bill": 20.65,
         "tip": 3.35,
         "sex": "Male",
         "smoker": "No",
         "day": "Sat",
         "time": "Dinner",
         "size": 3,
         "price_per_person": 6.88,
         "Payer Name": "Timothy Oneal",
         "CC Number": 6568069240986485,
         "Payment ID": "Sat9213",
         "_deepnote_index_column": 19
        },
        {
         "total_bill": 17.92,
         "tip": 4.08,
         "sex": "Male",
         "smoker": "No",
         "day": "Sat",
         "time": "Dinner",
         "size": 2,
         "price_per_person": 8.96,
         "Payer Name": "Thomas Rice",
         "CC Number": 4403296224639756,
         "Payment ID": "Sat1709",
         "_deepnote_index_column": 20
        },
        {
         "total_bill": 20.29,
         "tip": 2.75,
         "sex": "Female",
         "smoker": "No",
         "day": "Sat",
         "time": "Dinner",
         "size": 2,
         "price_per_person": 10.14,
         "Payer Name": "Natalie Gardner",
         "CC Number": 5448125351489749,
         "Payment ID": "Sat9618",
         "_deepnote_index_column": 21
        },
        {
         "total_bill": 15.77,
         "tip": 2.23,
         "sex": "Female",
         "smoker": "No",
         "day": "Sat",
         "time": "Dinner",
         "size": 2,
         "price_per_person": 7.88,
         "Payer Name": "Ashley Shelton",
         "CC Number": 3524119516293213,
         "Payment ID": "Sat9786",
         "_deepnote_index_column": 22
        },
        {
         "total_bill": 39.42,
         "tip": 7.58,
         "sex": "Male",
         "smoker": "No",
         "day": "Sat",
         "time": "Dinner",
         "size": 4,
         "price_per_person": 9.86,
         "Payer Name": "Lance Peterson",
         "CC Number": 3542584061609808,
         "Payment ID": "Sat239",
         "_deepnote_index_column": 23
        },
        {
         "total_bill": 19.82,
         "tip": 3.18,
         "sex": "Male",
         "smoker": "No",
         "day": "Sat",
         "time": "Dinner",
         "size": 2,
         "price_per_person": 9.91,
         "Payer Name": "Christopher Ross",
         "CC Number": 36739148167928,
         "Payment ID": "Sat6236",
         "_deepnote_index_column": 24
        },
        {
         "total_bill": 17.81,
         "tip": 2.34,
         "sex": "Male",
         "smoker": "No",
         "day": "Sat",
         "time": "Dinner",
         "size": 4,
         "price_per_person": 4.45,
         "Payer Name": "Robert Perkins",
         "CC Number": 30502930499388,
         "Payment ID": "Sat907",
         "_deepnote_index_column": 25
        },
        {
         "total_bill": 13.37,
         "tip": 2,
         "sex": "Male",
         "smoker": "No",
         "day": "Sat",
         "time": "Dinner",
         "size": 2,
         "price_per_person": 6.68,
         "Payer Name": "Kyle Avery",
         "CC Number": 6531339539615499,
         "Payment ID": "Sat6651",
         "_deepnote_index_column": 26
        },
        {
         "total_bill": 12.69,
         "tip": 2,
         "sex": "Male",
         "smoker": "No",
         "day": "Sat",
         "time": "Dinner",
         "size": 2,
         "price_per_person": 6.34,
         "Payer Name": "Patrick Barber",
         "CC Number": 30155551880343,
         "Payment ID": "Sat394",
         "_deepnote_index_column": 27
        },
        {
         "total_bill": 21.7,
         "tip": 4.3,
         "sex": "Male",
         "smoker": "No",
         "day": "Sat",
         "time": "Dinner",
         "size": 2,
         "price_per_person": 10.85,
         "Payer Name": "David Collier",
         "CC Number": 5529694315416009,
         "Payment ID": "Sat3697",
         "_deepnote_index_column": 28
        },
        {
         "total_bill": 19.65,
         "tip": 3,
         "sex": "Female",
         "smoker": "No",
         "day": "Sat",
         "time": "Dinner",
         "size": 2,
         "price_per_person": 9.82,
         "Payer Name": "Melinda Murphy",
         "CC Number": 5489272944576051,
         "Payment ID": "Sat2467",
         "_deepnote_index_column": 29
        },
        {
         "total_bill": 9.55,
         "tip": 1.45,
         "sex": "Male",
         "smoker": "No",
         "day": "Sat",
         "time": "Dinner",
         "size": 2,
         "price_per_person": 4.78,
         "Payer Name": "Grant Hall",
         "CC Number": 30196517521548,
         "Payment ID": "Sat4099",
         "_deepnote_index_column": 30
        },
        {
         "total_bill": 18.35,
         "tip": 2.5,
         "sex": "Male",
         "smoker": "No",
         "day": "Sat",
         "time": "Dinner",
         "size": 4,
         "price_per_person": 4.59,
         "Payer Name": "Danny Santiago",
         "CC Number": 630415546013,
         "Payment ID": "Sat4947",
         "_deepnote_index_column": 31
        },
        {
         "total_bill": 15.06,
         "tip": 3,
         "sex": "Female",
         "smoker": "No",
         "day": "Sat",
         "time": "Dinner",
         "size": 2,
         "price_per_person": 7.53,
         "Payer Name": "Amanda Wilson",
         "CC Number": 213186304291560,
         "Payment ID": "Sat1327",
         "_deepnote_index_column": 32
        },
        {
         "total_bill": 20.69,
         "tip": 2.45,
         "sex": "Female",
         "smoker": "No",
         "day": "Sat",
         "time": "Dinner",
         "size": 4,
         "price_per_person": 5.17,
         "Payer Name": "Amber Francis",
         "CC Number": 377742985258914,
         "Payment ID": "Sat6649",
         "_deepnote_index_column": 33
        },
        {
         "total_bill": 17.78,
         "tip": 3.27,
         "sex": "Male",
         "smoker": "No",
         "day": "Sat",
         "time": "Dinner",
         "size": 2,
         "price_per_person": 8.89,
         "Payer Name": "Jacob Castillo",
         "CC Number": 3551492000704805,
         "Payment ID": "Sat8124",
         "_deepnote_index_column": 34
        },
        {
         "total_bill": 24.06,
         "tip": 3.6,
         "sex": "Male",
         "smoker": "No",
         "day": "Sat",
         "time": "Dinner",
         "size": 3,
         "price_per_person": 8.02,
         "Payer Name": "Joseph Mullins",
         "CC Number": 5519770449260299,
         "Payment ID": "Sat632",
         "_deepnote_index_column": 35
        },
        {
         "total_bill": 16.31,
         "tip": 2,
         "sex": "Male",
         "smoker": "No",
         "day": "Sat",
         "time": "Dinner",
         "size": 3,
         "price_per_person": 5.44,
         "Payer Name": "William Ford",
         "CC Number": 3527691170179398,
         "Payment ID": "Sat9139",
         "_deepnote_index_column": 36
        },
        {
         "total_bill": 16.93,
         "tip": 3.07,
         "sex": "Female",
         "smoker": "No",
         "day": "Sat",
         "time": "Dinner",
         "size": 3,
         "price_per_person": 5.64,
         "Payer Name": "Erin Lewis",
         "CC Number": 5161695527390786,
         "Payment ID": "Sat6406",
         "_deepnote_index_column": 37
        },
        {
         "total_bill": 18.69,
         "tip": 2.31,
         "sex": "Male",
         "smoker": "No",
         "day": "Sat",
         "time": "Dinner",
         "size": 3,
         "price_per_person": 6.23,
         "Payer Name": "Brandon Bradley",
         "CC Number": 4427601595688633,
         "Payment ID": "Sat4056",
         "_deepnote_index_column": 38
        },
        {
         "total_bill": 31.27,
         "tip": 5,
         "sex": "Male",
         "smoker": "No",
         "day": "Sat",
         "time": "Dinner",
         "size": 3,
         "price_per_person": 10.42,
         "Payer Name": "Mr. Brandon Berry",
         "CC Number": 6011525851069856,
         "Payment ID": "Sat6373",
         "_deepnote_index_column": 39
        },
        {
         "total_bill": 16.04,
         "tip": 2.24,
         "sex": "Male",
         "smoker": "No",
         "day": "Sat",
         "time": "Dinner",
         "size": 3,
         "price_per_person": 5.35,
         "Payer Name": "Adam Edwards",
         "CC Number": 3544447755679420,
         "Payment ID": "Sat8549",
         "_deepnote_index_column": 40
        },
        {
         "total_bill": 17.46,
         "tip": 2.54,
         "sex": "Male",
         "smoker": "No",
         "day": "Sun",
         "time": "Dinner",
         "size": 2,
         "price_per_person": 8.73,
         "Payer Name": "David Boyer",
         "CC Number": 3536678244278149,
         "Payment ID": "Sun9460",
         "_deepnote_index_column": 41
        },
        {
         "total_bill": 13.94,
         "tip": 3.06,
         "sex": "Male",
         "smoker": "No",
         "day": "Sun",
         "time": "Dinner",
         "size": 2,
         "price_per_person": 6.97,
         "Payer Name": "Bryan Brown",
         "CC Number": 36231182760859,
         "Payment ID": "Sun1699",
         "_deepnote_index_column": 42
        },
        {
         "total_bill": 9.68,
         "tip": 1.32,
         "sex": "Male",
         "smoker": "No",
         "day": "Sun",
         "time": "Dinner",
         "size": 2,
         "price_per_person": 4.84,
         "Payer Name": "Christopher Spears",
         "CC Number": 4387671121369212,
         "Payment ID": "Sun3279",
         "_deepnote_index_column": 43
        },
        {
         "total_bill": 30.4,
         "tip": 5.6,
         "sex": "Male",
         "smoker": "No",
         "day": "Sun",
         "time": "Dinner",
         "size": 4,
         "price_per_person": 7.6,
         "Payer Name": "Todd Cooper",
         "CC Number": 503846761263,
         "Payment ID": "Sun2274",
         "_deepnote_index_column": 44
        }
       ],
       "rows_bottom": [
        {
         "total_bill": 13.51,
         "tip": 2,
         "sex": "Male",
         "smoker": "Yes",
         "day": "Thur",
         "time": "Lunch",
         "size": 2,
         "price_per_person": 6.76,
         "Payer Name": "Joseph Murphy MD",
         "CC Number": 6547218923471275,
         "Payment ID": "Thur2428",
         "_deepnote_index_column": 199
        },
        {
         "total_bill": 18.71,
         "tip": 4,
         "sex": "Male",
         "smoker": "Yes",
         "day": "Thur",
         "time": "Lunch",
         "size": 3,
         "price_per_person": 6.24,
         "Payer Name": "Jason Conrad",
         "CC Number": 4581233003487,
         "Payment ID": "Thur6048",
         "_deepnote_index_column": 200
        },
        {
         "total_bill": 12.74,
         "tip": 2.01,
         "sex": "Female",
         "smoker": "Yes",
         "day": "Thur",
         "time": "Lunch",
         "size": 2,
         "price_per_person": 6.37,
         "Payer Name": "Abigail Parks",
         "CC Number": 3586645396220590,
         "Payment ID": "Thur2544",
         "_deepnote_index_column": 201
        },
        {
         "total_bill": 13,
         "tip": 2,
         "sex": "Female",
         "smoker": "Yes",
         "day": "Thur",
         "time": "Lunch",
         "size": 2,
         "price_per_person": 6.5,
         "Payer Name": "Ashley Shaw",
         "CC Number": 180088043008041,
         "Payment ID": "Thur1301",
         "_deepnote_index_column": 202
        },
        {
         "total_bill": 16.4,
         "tip": 2.5,
         "sex": "Female",
         "smoker": "Yes",
         "day": "Thur",
         "time": "Lunch",
         "size": 2,
         "price_per_person": 8.2,
         "Payer Name": "Toni Brooks",
         "CC Number": 3582289985920239,
         "Payment ID": "Thur7770",
         "_deepnote_index_column": 203
        },
        {
         "total_bill": 20.53,
         "tip": 4,
         "sex": "Male",
         "smoker": "Yes",
         "day": "Thur",
         "time": "Lunch",
         "size": 4,
         "price_per_person": 5.13,
         "Payer Name": "Scott Kim",
         "CC Number": 3570611756827620,
         "Payment ID": "Thur2160",
         "_deepnote_index_column": 204
        },
        {
         "total_bill": 16.47,
         "tip": 3.23,
         "sex": "Female",
         "smoker": "Yes",
         "day": "Thur",
         "time": "Lunch",
         "size": 3,
         "price_per_person": 5.49,
         "Payer Name": "Carly Reyes",
         "CC Number": 4787787236486,
         "Payment ID": "Thur8084",
         "_deepnote_index_column": 205
        },
        {
         "total_bill": 26.59,
         "tip": 3.41,
         "sex": "Male",
         "smoker": "Yes",
         "day": "Sat",
         "time": "Dinner",
         "size": 3,
         "price_per_person": 8.86,
         "Payer Name": "Daniel Owens",
         "CC Number": 38971087967574,
         "Payment ID": "Sat1",
         "_deepnote_index_column": 206
        },
        {
         "total_bill": 38.73,
         "tip": 3,
         "sex": "Male",
         "smoker": "Yes",
         "day": "Sat",
         "time": "Dinner",
         "size": 4,
         "price_per_person": 9.68,
         "Payer Name": "Ricky Ramirez",
         "CC Number": 347817964484033,
         "Payment ID": "Sat4505",
         "_deepnote_index_column": 207
        },
        {
         "total_bill": 24.27,
         "tip": 2.03,
         "sex": "Male",
         "smoker": "Yes",
         "day": "Sat",
         "time": "Dinner",
         "size": 2,
         "price_per_person": 12.14,
         "Payer Name": "Jason Carter",
         "CC Number": 4268942915626180,
         "Payment ID": "Sat6048",
         "_deepnote_index_column": 208
        },
        {
         "total_bill": 12.76,
         "tip": 2.23,
         "sex": "Female",
         "smoker": "Yes",
         "day": "Sat",
         "time": "Dinner",
         "size": 2,
         "price_per_person": 6.38,
         "Payer Name": "Sarah Cunningham",
         "CC Number": 341876516331163,
         "Payment ID": "Sat1274",
         "_deepnote_index_column": 209
        },
        {
         "total_bill": 30.06,
         "tip": 2,
         "sex": "Male",
         "smoker": "Yes",
         "day": "Sat",
         "time": "Dinner",
         "size": 3,
         "price_per_person": 10.02,
         "Payer Name": "Shawn Mendoza",
         "CC Number": 30184049218122,
         "Payment ID": "Sat8361",
         "_deepnote_index_column": 210
        },
        {
         "total_bill": 25.89,
         "tip": 5.16,
         "sex": "Male",
         "smoker": "Yes",
         "day": "Sat",
         "time": "Dinner",
         "size": 4,
         "price_per_person": 6.47,
         "Payer Name": "Christopher Li",
         "CC Number": 6011962464150569,
         "Payment ID": "Sat6735",
         "_deepnote_index_column": 211
        },
        {
         "total_bill": 48.33,
         "tip": 9,
         "sex": "Male",
         "smoker": "No",
         "day": "Sat",
         "time": "Dinner",
         "size": 4,
         "price_per_person": 12.08,
         "Payer Name": "Alex Williamson",
         "CC Number": 676218815212,
         "Payment ID": "Sat4590",
         "_deepnote_index_column": 212
        },
        {
         "total_bill": 13.27,
         "tip": 2.5,
         "sex": "Female",
         "smoker": "Yes",
         "day": "Sat",
         "time": "Dinner",
         "size": 2,
         "price_per_person": 6.64,
         "Payer Name": "Robin Andersen",
         "CC Number": 580140531089,
         "Payment ID": "Sat1374",
         "_deepnote_index_column": 213
        },
        {
         "total_bill": 28.17,
         "tip": 6.5,
         "sex": "Female",
         "smoker": "Yes",
         "day": "Sat",
         "time": "Dinner",
         "size": 3,
         "price_per_person": 9.39,
         "Payer Name": "Marissa Jackson",
         "CC Number": 4922302538691962,
         "Payment ID": "Sat3374",
         "_deepnote_index_column": 214
        },
        {
         "total_bill": 12.9,
         "tip": 1.1,
         "sex": "Female",
         "smoker": "Yes",
         "day": "Sat",
         "time": "Dinner",
         "size": 2,
         "price_per_person": 6.45,
         "Payer Name": "Jessica Owen",
         "CC Number": 4726904879471,
         "Payment ID": "Sat6983",
         "_deepnote_index_column": 215
        },
        {
         "total_bill": 28.15,
         "tip": 3,
         "sex": "Male",
         "smoker": "Yes",
         "day": "Sat",
         "time": "Dinner",
         "size": 5,
         "price_per_person": 5.63,
         "Payer Name": "Shawn Barnett PhD",
         "CC Number": 4590982568244,
         "Payment ID": "Sat7320",
         "_deepnote_index_column": 216
        },
        {
         "total_bill": 11.59,
         "tip": 1.5,
         "sex": "Male",
         "smoker": "Yes",
         "day": "Sat",
         "time": "Dinner",
         "size": 2,
         "price_per_person": 5.8,
         "Payer Name": "Gary Orr",
         "CC Number": 30324521283406,
         "Payment ID": "Sat8489",
         "_deepnote_index_column": 217
        },
        {
         "total_bill": 7.74,
         "tip": 1.44,
         "sex": "Male",
         "smoker": "Yes",
         "day": "Sat",
         "time": "Dinner",
         "size": 2,
         "price_per_person": 3.87,
         "Payer Name": "Nicholas Archer",
         "CC Number": 340517153733524,
         "Payment ID": "Sat4772",
         "_deepnote_index_column": 218
        },
        {
         "total_bill": 30.14,
         "tip": 3.09,
         "sex": "Female",
         "smoker": "Yes",
         "day": "Sat",
         "time": "Dinner",
         "size": 4,
         "price_per_person": 7.54,
         "Payer Name": "Shelby House",
         "CC Number": 502097403252,
         "Payment ID": "Sat8863",
         "_deepnote_index_column": 219
        },
        {
         "total_bill": 12.16,
         "tip": 2.2,
         "sex": "Male",
         "smoker": "Yes",
         "day": "Fri",
         "time": "Lunch",
         "size": 2,
         "price_per_person": 6.08,
         "Payer Name": "Ricky Johnson",
         "CC Number": 213109508670736,
         "Payment ID": "Fri4607",
         "_deepnote_index_column": 220
        },
        {
         "total_bill": 13.42,
         "tip": 3.48,
         "sex": "Female",
         "smoker": "Yes",
         "day": "Fri",
         "time": "Lunch",
         "size": 2,
         "price_per_person": 6.71,
         "Payer Name": "Leslie Kaufman",
         "CC Number": 379437981958785,
         "Payment ID": "Fri7511",
         "_deepnote_index_column": 221
        },
        {
         "total_bill": 8.58,
         "tip": 1.92,
         "sex": "Male",
         "smoker": "Yes",
         "day": "Fri",
         "time": "Lunch",
         "size": 1,
         "price_per_person": 8.58,
         "Payer Name": "Jason Lawrence",
         "CC Number": 3505302934650403,
         "Payment ID": "Fri6624",
         "_deepnote_index_column": 222
        },
        {
         "total_bill": 15.98,
         "tip": 3,
         "sex": "Female",
         "smoker": "No",
         "day": "Fri",
         "time": "Lunch",
         "size": 3,
         "price_per_person": 5.33,
         "Payer Name": "Mary Rivera",
         "CC Number": 5343428579353069,
         "Payment ID": "Fri6014",
         "_deepnote_index_column": 223
        },
        {
         "total_bill": 13.42,
         "tip": 1.58,
         "sex": "Male",
         "smoker": "Yes",
         "day": "Fri",
         "time": "Lunch",
         "size": 2,
         "price_per_person": 6.71,
         "Payer Name": "Ronald Vaughn DVM",
         "CC Number": 341503466406403,
         "Payment ID": "Fri5959",
         "_deepnote_index_column": 224
        },
        {
         "total_bill": 16.27,
         "tip": 2.5,
         "sex": "Female",
         "smoker": "Yes",
         "day": "Fri",
         "time": "Lunch",
         "size": 2,
         "price_per_person": 8.14,
         "Payer Name": "Whitney Arnold",
         "CC Number": 3579111947217428,
         "Payment ID": "Fri6665",
         "_deepnote_index_column": 225
        },
        {
         "total_bill": 10.09,
         "tip": 2,
         "sex": "Female",
         "smoker": "Yes",
         "day": "Fri",
         "time": "Lunch",
         "size": 2,
         "price_per_person": 5.04,
         "Payer Name": "Ruth Weiss",
         "CC Number": 5268689490381635,
         "Payment ID": "Fri6359",
         "_deepnote_index_column": 226
        },
        {
         "total_bill": 20.45,
         "tip": 3,
         "sex": "Male",
         "smoker": "No",
         "day": "Sat",
         "time": "Dinner",
         "size": 4,
         "price_per_person": 5.11,
         "Payer Name": "Robert Bradley",
         "CC Number": 213141668145910,
         "Payment ID": "Sat4319",
         "_deepnote_index_column": 227
        },
        {
         "total_bill": 13.28,
         "tip": 2.72,
         "sex": "Male",
         "smoker": "No",
         "day": "Sat",
         "time": "Dinner",
         "size": 2,
         "price_per_person": 6.64,
         "Payer Name": "Glenn Jones",
         "CC Number": 502061651712,
         "Payment ID": "Sat2937",
         "_deepnote_index_column": 228
        },
        {
         "total_bill": 22.12,
         "tip": 2.88,
         "sex": "Female",
         "smoker": "Yes",
         "day": "Sat",
         "time": "Dinner",
         "size": 2,
         "price_per_person": 11.06,
         "Payer Name": "Jennifer Russell",
         "CC Number": 4793003293608,
         "Payment ID": "Sat3943",
         "_deepnote_index_column": 229
        },
        {
         "total_bill": 24.01,
         "tip": 2,
         "sex": "Male",
         "smoker": "Yes",
         "day": "Sat",
         "time": "Dinner",
         "size": 4,
         "price_per_person": 6,
         "Payer Name": "Michael Osborne",
         "CC Number": 4258682154026,
         "Payment ID": "Sat7872",
         "_deepnote_index_column": 230
        },
        {
         "total_bill": 15.69,
         "tip": 3,
         "sex": "Male",
         "smoker": "Yes",
         "day": "Sat",
         "time": "Dinner",
         "size": 3,
         "price_per_person": 5.23,
         "Payer Name": "Jason Parks",
         "CC Number": 4812333796161,
         "Payment ID": "Sat6334",
         "_deepnote_index_column": 231
        },
        {
         "total_bill": 11.61,
         "tip": 3.39,
         "sex": "Male",
         "smoker": "No",
         "day": "Sat",
         "time": "Dinner",
         "size": 2,
         "price_per_person": 5.8,
         "Payer Name": "James Taylor",
         "CC Number": 6011482917327995,
         "Payment ID": "Sat2124",
         "_deepnote_index_column": 232
        },
        {
         "total_bill": 10.77,
         "tip": 1.47,
         "sex": "Male",
         "smoker": "No",
         "day": "Sat",
         "time": "Dinner",
         "size": 2,
         "price_per_person": 5.38,
         "Payer Name": "Paul Novak",
         "CC Number": 6011698897610858,
         "Payment ID": "Sat1467",
         "_deepnote_index_column": 233
        },
        {
         "total_bill": 15.53,
         "tip": 3,
         "sex": "Male",
         "smoker": "Yes",
         "day": "Sat",
         "time": "Dinner",
         "size": 2,
         "price_per_person": 7.76,
         "Payer Name": "Tracy Douglas",
         "CC Number": 4097938155941930,
         "Payment ID": "Sat7220",
         "_deepnote_index_column": 234
        },
        {
         "total_bill": 10.07,
         "tip": 1.25,
         "sex": "Male",
         "smoker": "No",
         "day": "Sat",
         "time": "Dinner",
         "size": 2,
         "price_per_person": 5.04,
         "Payer Name": "Sean Gonzalez",
         "CC Number": 3534021246117605,
         "Payment ID": "Sat4615",
         "_deepnote_index_column": 235
        },
        {
         "total_bill": 12.6,
         "tip": 1,
         "sex": "Male",
         "smoker": "Yes",
         "day": "Sat",
         "time": "Dinner",
         "size": 2,
         "price_per_person": 6.3,
         "Payer Name": "Matthew Myers",
         "CC Number": 3543676378973965,
         "Payment ID": "Sat5032",
         "_deepnote_index_column": 236
        },
        {
         "total_bill": 32.83,
         "tip": 1.17,
         "sex": "Male",
         "smoker": "Yes",
         "day": "Sat",
         "time": "Dinner",
         "size": 2,
         "price_per_person": 16.42,
         "Payer Name": "Thomas Brown",
         "CC Number": 4284722681265508,
         "Payment ID": "Sat2929",
         "_deepnote_index_column": 237
        },
        {
         "total_bill": 35.83,
         "tip": 4.67,
         "sex": "Female",
         "smoker": "No",
         "day": "Sat",
         "time": "Dinner",
         "size": 3,
         "price_per_person": 11.94,
         "Payer Name": "Kimberly Crane",
         "CC Number": 676184013727,
         "Payment ID": "Sat9777",
         "_deepnote_index_column": 238
        },
        {
         "total_bill": 29.03,
         "tip": 5.92,
         "sex": "Male",
         "smoker": "No",
         "day": "Sat",
         "time": "Dinner",
         "size": 3,
         "price_per_person": 9.68,
         "Payer Name": "Michael Avila",
         "CC Number": 5296068606052842,
         "Payment ID": "Sat2657",
         "_deepnote_index_column": 239
        },
        {
         "total_bill": 27.18,
         "tip": 2,
         "sex": "Female",
         "smoker": "Yes",
         "day": "Sat",
         "time": "Dinner",
         "size": 2,
         "price_per_person": 13.59,
         "Payer Name": "Monica Sanders",
         "CC Number": 3506806155565404,
         "Payment ID": "Sat1766",
         "_deepnote_index_column": 240
        },
        {
         "total_bill": 22.67,
         "tip": 2,
         "sex": "Male",
         "smoker": "Yes",
         "day": "Sat",
         "time": "Dinner",
         "size": 2,
         "price_per_person": 11.34,
         "Payer Name": "Keith Wong",
         "CC Number": 6011891618747196,
         "Payment ID": "Sat3880",
         "_deepnote_index_column": 241
        },
        {
         "total_bill": 17.82,
         "tip": 1.75,
         "sex": "Male",
         "smoker": "No",
         "day": "Sat",
         "time": "Dinner",
         "size": 2,
         "price_per_person": 8.91,
         "Payer Name": "Dennis Dixon",
         "CC Number": 4375220550950,
         "Payment ID": "Sat17",
         "_deepnote_index_column": 242
        },
        {
         "total_bill": 18.78,
         "tip": 3,
         "sex": "Female",
         "smoker": "No",
         "day": "Thur",
         "time": "Dinner",
         "size": 2,
         "price_per_person": 9.39,
         "Payer Name": "Michelle Hardin",
         "CC Number": 3511451626698139,
         "Payment ID": "Thur672",
         "_deepnote_index_column": 243
        }
       ]
      },
      "text/plain": "     total_bill   tip     sex smoker   day    time  size  price_per_person  \\\n0         16.99  1.01  Female     No   Sun  Dinner     2              8.49   \n1         10.34  1.66    Male     No   Sun  Dinner     3              3.45   \n2         21.01  3.50    Male     No   Sun  Dinner     3              7.00   \n3         23.68  3.31    Male     No   Sun  Dinner     2             11.84   \n4         24.59  3.61  Female     No   Sun  Dinner     4              6.15   \n..          ...   ...     ...    ...   ...     ...   ...               ...   \n239       29.03  5.92    Male     No   Sat  Dinner     3              9.68   \n240       27.18  2.00  Female    Yes   Sat  Dinner     2             13.59   \n241       22.67  2.00    Male    Yes   Sat  Dinner     2             11.34   \n242       17.82  1.75    Male     No   Sat  Dinner     2              8.91   \n243       18.78  3.00  Female     No  Thur  Dinner     2              9.39   \n\n             Payer Name         CC Number Payment ID  \n0    Christy Cunningham  3560325168603410    Sun2959  \n1        Douglas Tucker  4478071379779230    Sun4608  \n2        Travis Walters  6011812112971322    Sun4458  \n3      Nathaniel Harris  4676137647685994    Sun5260  \n4          Tonya Carter  4832732618637221    Sun2251  \n..                  ...               ...        ...  \n239       Michael Avila  5296068606052842    Sat2657  \n240      Monica Sanders  3506806155565404    Sat1766  \n241          Keith Wong  6011891618747196    Sat3880  \n242        Dennis Dixon     4375220550950      Sat17  \n243     Michelle Hardin  3511451626698139    Thur672  \n\n[244 rows x 11 columns]",
      "text/html": "<div>\n<style scoped>\n    .dataframe tbody tr th:only-of-type {\n        vertical-align: middle;\n    }\n\n    .dataframe tbody tr th {\n        vertical-align: top;\n    }\n\n    .dataframe thead th {\n        text-align: right;\n    }\n</style>\n<table border=\"1\" class=\"dataframe\">\n  <thead>\n    <tr style=\"text-align: right;\">\n      <th></th>\n      <th>total_bill</th>\n      <th>tip</th>\n      <th>sex</th>\n      <th>smoker</th>\n      <th>day</th>\n      <th>time</th>\n      <th>size</th>\n      <th>price_per_person</th>\n      <th>Payer Name</th>\n      <th>CC Number</th>\n      <th>Payment ID</th>\n    </tr>\n  </thead>\n  <tbody>\n    <tr>\n      <th>0</th>\n      <td>16.99</td>\n      <td>1.01</td>\n      <td>Female</td>\n      <td>No</td>\n      <td>Sun</td>\n      <td>Dinner</td>\n      <td>2</td>\n      <td>8.49</td>\n      <td>Christy Cunningham</td>\n      <td>3560325168603410</td>\n      <td>Sun2959</td>\n    </tr>\n    <tr>\n      <th>1</th>\n      <td>10.34</td>\n      <td>1.66</td>\n      <td>Male</td>\n      <td>No</td>\n      <td>Sun</td>\n      <td>Dinner</td>\n      <td>3</td>\n      <td>3.45</td>\n      <td>Douglas Tucker</td>\n      <td>4478071379779230</td>\n      <td>Sun4608</td>\n    </tr>\n    <tr>\n      <th>2</th>\n      <td>21.01</td>\n      <td>3.50</td>\n      <td>Male</td>\n      <td>No</td>\n      <td>Sun</td>\n      <td>Dinner</td>\n      <td>3</td>\n      <td>7.00</td>\n      <td>Travis Walters</td>\n      <td>6011812112971322</td>\n      <td>Sun4458</td>\n    </tr>\n    <tr>\n      <th>3</th>\n      <td>23.68</td>\n      <td>3.31</td>\n      <td>Male</td>\n      <td>No</td>\n      <td>Sun</td>\n      <td>Dinner</td>\n      <td>2</td>\n      <td>11.84</td>\n      <td>Nathaniel Harris</td>\n      <td>4676137647685994</td>\n      <td>Sun5260</td>\n    </tr>\n    <tr>\n      <th>4</th>\n      <td>24.59</td>\n      <td>3.61</td>\n      <td>Female</td>\n      <td>No</td>\n      <td>Sun</td>\n      <td>Dinner</td>\n      <td>4</td>\n      <td>6.15</td>\n      <td>Tonya Carter</td>\n      <td>4832732618637221</td>\n      <td>Sun2251</td>\n    </tr>\n    <tr>\n      <th>...</th>\n      <td>...</td>\n      <td>...</td>\n      <td>...</td>\n      <td>...</td>\n      <td>...</td>\n      <td>...</td>\n      <td>...</td>\n      <td>...</td>\n      <td>...</td>\n      <td>...</td>\n      <td>...</td>\n    </tr>\n    <tr>\n      <th>239</th>\n      <td>29.03</td>\n      <td>5.92</td>\n      <td>Male</td>\n      <td>No</td>\n      <td>Sat</td>\n      <td>Dinner</td>\n      <td>3</td>\n      <td>9.68</td>\n      <td>Michael Avila</td>\n      <td>5296068606052842</td>\n      <td>Sat2657</td>\n    </tr>\n    <tr>\n      <th>240</th>\n      <td>27.18</td>\n      <td>2.00</td>\n      <td>Female</td>\n      <td>Yes</td>\n      <td>Sat</td>\n      <td>Dinner</td>\n      <td>2</td>\n      <td>13.59</td>\n      <td>Monica Sanders</td>\n      <td>3506806155565404</td>\n      <td>Sat1766</td>\n    </tr>\n    <tr>\n      <th>241</th>\n      <td>22.67</td>\n      <td>2.00</td>\n      <td>Male</td>\n      <td>Yes</td>\n      <td>Sat</td>\n      <td>Dinner</td>\n      <td>2</td>\n      <td>11.34</td>\n      <td>Keith Wong</td>\n      <td>6011891618747196</td>\n      <td>Sat3880</td>\n    </tr>\n    <tr>\n      <th>242</th>\n      <td>17.82</td>\n      <td>1.75</td>\n      <td>Male</td>\n      <td>No</td>\n      <td>Sat</td>\n      <td>Dinner</td>\n      <td>2</td>\n      <td>8.91</td>\n      <td>Dennis Dixon</td>\n      <td>4375220550950</td>\n      <td>Sat17</td>\n    </tr>\n    <tr>\n      <th>243</th>\n      <td>18.78</td>\n      <td>3.00</td>\n      <td>Female</td>\n      <td>No</td>\n      <td>Thur</td>\n      <td>Dinner</td>\n      <td>2</td>\n      <td>9.39</td>\n      <td>Michelle Hardin</td>\n      <td>3511451626698139</td>\n      <td>Thur672</td>\n    </tr>\n  </tbody>\n</table>\n<p>244 rows × 11 columns</p>\n</div>"
     },
     "metadata": {}
    }
   ],
   "execution_count": null
  },
  {
   "cell_type": "code",
   "metadata": {
    "tags": [],
    "cell_id": "00024-3f10a922-bab9-4e0f-82b6-d872a4eb0311",
    "deepnote_to_be_reexecuted": false,
    "source_hash": "bc00b170",
    "execution_start": 1622282523285,
    "execution_millis": 4,
    "deepnote_cell_type": "code"
   },
   "source": "df=df.drop('tip_percent',axis=1)        #deleting a column",
   "outputs": [],
   "execution_count": null
  },
  {
   "cell_type": "code",
   "metadata": {
    "tags": [],
    "cell_id": "00025-5b476d4d-565e-4d39-af79-6f64fd73fdda",
    "deepnote_to_be_reexecuted": false,
    "source_hash": "c085b6ba",
    "execution_start": 1622282523352,
    "execution_millis": 19,
    "deepnote_cell_type": "code"
   },
   "source": "df.head()",
   "outputs": [
    {
     "output_type": "execute_result",
     "execution_count": 26,
     "data": {
      "application/vnd.deepnote.dataframe.v2+json": {
       "row_count": 5,
       "column_count": 11,
       "columns": [
        {
         "name": "total_bill",
         "dtype": "float64",
         "stats": {
          "unique_count": 5,
          "nan_count": 0,
          "min": "10.34",
          "max": "24.59",
          "histogram": [
           {
            "bin_start": 10.34,
            "bin_end": 11.765,
            "count": 1
           },
           {
            "bin_start": 11.765,
            "bin_end": 13.19,
            "count": 0
           },
           {
            "bin_start": 13.19,
            "bin_end": 14.615,
            "count": 0
           },
           {
            "bin_start": 14.615,
            "bin_end": 16.04,
            "count": 0
           },
           {
            "bin_start": 16.04,
            "bin_end": 17.465,
            "count": 1
           },
           {
            "bin_start": 17.465,
            "bin_end": 18.89,
            "count": 0
           },
           {
            "bin_start": 18.89,
            "bin_end": 20.314999999999998,
            "count": 0
           },
           {
            "bin_start": 20.314999999999998,
            "bin_end": 21.740000000000002,
            "count": 1
           },
           {
            "bin_start": 21.740000000000002,
            "bin_end": 23.165,
            "count": 0
           },
           {
            "bin_start": 23.165,
            "bin_end": 24.59,
            "count": 2
           }
          ]
         }
        },
        {
         "name": "tip",
         "dtype": "float64",
         "stats": {
          "unique_count": 5,
          "nan_count": 0,
          "min": "1.01",
          "max": "3.61",
          "histogram": [
           {
            "bin_start": 1.01,
            "bin_end": 1.27,
            "count": 1
           },
           {
            "bin_start": 1.27,
            "bin_end": 1.5299999999999998,
            "count": 0
           },
           {
            "bin_start": 1.5299999999999998,
            "bin_end": 1.7899999999999998,
            "count": 1
           },
           {
            "bin_start": 1.7899999999999998,
            "bin_end": 2.05,
            "count": 0
           },
           {
            "bin_start": 2.05,
            "bin_end": 2.3099999999999996,
            "count": 0
           },
           {
            "bin_start": 2.3099999999999996,
            "bin_end": 2.5699999999999994,
            "count": 0
           },
           {
            "bin_start": 2.5699999999999994,
            "bin_end": 2.8299999999999996,
            "count": 0
           },
           {
            "bin_start": 2.8299999999999996,
            "bin_end": 3.09,
            "count": 0
           },
           {
            "bin_start": 3.09,
            "bin_end": 3.3499999999999996,
            "count": 1
           },
           {
            "bin_start": 3.3499999999999996,
            "bin_end": 3.61,
            "count": 2
           }
          ]
         }
        },
        {
         "name": "sex",
         "dtype": "object",
         "stats": {
          "unique_count": 2,
          "nan_count": 0,
          "categories": [
           {
            "name": "Male",
            "count": 3
           },
           {
            "name": "Female",
            "count": 2
           }
          ]
         }
        },
        {
         "name": "smoker",
         "dtype": "object",
         "stats": {
          "unique_count": 1,
          "nan_count": 0,
          "categories": [
           {
            "name": "No",
            "count": 5
           }
          ]
         }
        },
        {
         "name": "day",
         "dtype": "object",
         "stats": {
          "unique_count": 1,
          "nan_count": 0,
          "categories": [
           {
            "name": "Sun",
            "count": 5
           }
          ]
         }
        },
        {
         "name": "time",
         "dtype": "object",
         "stats": {
          "unique_count": 1,
          "nan_count": 0,
          "categories": [
           {
            "name": "Dinner",
            "count": 5
           }
          ]
         }
        },
        {
         "name": "size",
         "dtype": "int64",
         "stats": {
          "unique_count": 3,
          "nan_count": 0,
          "min": "2",
          "max": "4",
          "histogram": [
           {
            "bin_start": 2,
            "bin_end": 2.2,
            "count": 2
           },
           {
            "bin_start": 2.2,
            "bin_end": 2.4,
            "count": 0
           },
           {
            "bin_start": 2.4,
            "bin_end": 2.6,
            "count": 0
           },
           {
            "bin_start": 2.6,
            "bin_end": 2.8,
            "count": 0
           },
           {
            "bin_start": 2.8,
            "bin_end": 3,
            "count": 0
           },
           {
            "bin_start": 3,
            "bin_end": 3.2,
            "count": 2
           },
           {
            "bin_start": 3.2,
            "bin_end": 3.4000000000000004,
            "count": 0
           },
           {
            "bin_start": 3.4000000000000004,
            "bin_end": 3.6,
            "count": 0
           },
           {
            "bin_start": 3.6,
            "bin_end": 3.8,
            "count": 0
           },
           {
            "bin_start": 3.8,
            "bin_end": 4,
            "count": 1
           }
          ]
         }
        },
        {
         "name": "price_per_person",
         "dtype": "float64",
         "stats": {
          "unique_count": 5,
          "nan_count": 0,
          "min": "3.45",
          "max": "11.84",
          "histogram": [
           {
            "bin_start": 3.45,
            "bin_end": 4.289000000000001,
            "count": 1
           },
           {
            "bin_start": 4.289000000000001,
            "bin_end": 5.128,
            "count": 0
           },
           {
            "bin_start": 5.128,
            "bin_end": 5.9670000000000005,
            "count": 0
           },
           {
            "bin_start": 5.9670000000000005,
            "bin_end": 6.806000000000001,
            "count": 1
           },
           {
            "bin_start": 6.806000000000001,
            "bin_end": 7.6450000000000005,
            "count": 1
           },
           {
            "bin_start": 7.6450000000000005,
            "bin_end": 8.484000000000002,
            "count": 0
           },
           {
            "bin_start": 8.484000000000002,
            "bin_end": 9.323,
            "count": 1
           },
           {
            "bin_start": 9.323,
            "bin_end": 10.162,
            "count": 0
           },
           {
            "bin_start": 10.162,
            "bin_end": 11.001000000000001,
            "count": 0
           },
           {
            "bin_start": 11.001000000000001,
            "bin_end": 11.84,
            "count": 1
           }
          ]
         }
        },
        {
         "name": "Payer Name",
         "dtype": "object",
         "stats": {
          "unique_count": 5,
          "nan_count": 0,
          "categories": [
           {
            "name": "Christy Cunningham",
            "count": 1
           },
           {
            "name": "Douglas Tucker",
            "count": 1
           },
           {
            "name": "3 others",
            "count": 3
           }
          ]
         }
        },
        {
         "name": "CC Number",
         "dtype": "int64",
         "stats": {
          "unique_count": 5,
          "nan_count": 0,
          "min": "3560325168603410",
          "max": "6011812112971322",
          "histogram": [
           {
            "bin_start": 3560325168603410,
            "bin_end": 3805473863040201,
            "count": 1
           },
           {
            "bin_start": 3805473863040201,
            "bin_end": 4050622557476992.5,
            "count": 0
           },
           {
            "bin_start": 4050622557476992.5,
            "bin_end": 4295771251913783.5,
            "count": 0
           },
           {
            "bin_start": 4295771251913783.5,
            "bin_end": 4540919946350575,
            "count": 1
           },
           {
            "bin_start": 4540919946350575,
            "bin_end": 4786068640787366,
            "count": 1
           },
           {
            "bin_start": 4786068640787366,
            "bin_end": 5031217335224157,
            "count": 1
           },
           {
            "bin_start": 5031217335224157,
            "bin_end": 5276366029660948,
            "count": 0
           },
           {
            "bin_start": 5276366029660948,
            "bin_end": 5521514724097740,
            "count": 0
           },
           {
            "bin_start": 5521514724097740,
            "bin_end": 5766663418534531,
            "count": 0
           },
           {
            "bin_start": 5766663418534531,
            "bin_end": 6011812112971322,
            "count": 1
           }
          ]
         }
        },
        {
         "name": "Payment ID",
         "dtype": "object",
         "stats": {
          "unique_count": 5,
          "nan_count": 0,
          "categories": [
           {
            "name": "Sun2959",
            "count": 1
           },
           {
            "name": "Sun4608",
            "count": 1
           },
           {
            "name": "3 others",
            "count": 3
           }
          ]
         }
        },
        {
         "name": "_deepnote_index_column",
         "dtype": "int64"
        }
       ],
       "rows_top": [
        {
         "total_bill": 16.99,
         "tip": 1.01,
         "sex": "Female",
         "smoker": "No",
         "day": "Sun",
         "time": "Dinner",
         "size": 2,
         "price_per_person": 8.49,
         "Payer Name": "Christy Cunningham",
         "CC Number": 3560325168603410,
         "Payment ID": "Sun2959",
         "_deepnote_index_column": 0
        },
        {
         "total_bill": 10.34,
         "tip": 1.66,
         "sex": "Male",
         "smoker": "No",
         "day": "Sun",
         "time": "Dinner",
         "size": 3,
         "price_per_person": 3.45,
         "Payer Name": "Douglas Tucker",
         "CC Number": 4478071379779230,
         "Payment ID": "Sun4608",
         "_deepnote_index_column": 1
        },
        {
         "total_bill": 21.01,
         "tip": 3.5,
         "sex": "Male",
         "smoker": "No",
         "day": "Sun",
         "time": "Dinner",
         "size": 3,
         "price_per_person": 7,
         "Payer Name": "Travis Walters",
         "CC Number": 6011812112971322,
         "Payment ID": "Sun4458",
         "_deepnote_index_column": 2
        },
        {
         "total_bill": 23.68,
         "tip": 3.31,
         "sex": "Male",
         "smoker": "No",
         "day": "Sun",
         "time": "Dinner",
         "size": 2,
         "price_per_person": 11.84,
         "Payer Name": "Nathaniel Harris",
         "CC Number": 4676137647685994,
         "Payment ID": "Sun5260",
         "_deepnote_index_column": 3
        },
        {
         "total_bill": 24.59,
         "tip": 3.61,
         "sex": "Female",
         "smoker": "No",
         "day": "Sun",
         "time": "Dinner",
         "size": 4,
         "price_per_person": 6.15,
         "Payer Name": "Tonya Carter",
         "CC Number": 4832732618637221,
         "Payment ID": "Sun2251",
         "_deepnote_index_column": 4
        }
       ],
       "rows_bottom": null
      },
      "text/plain": "   total_bill   tip     sex smoker  day    time  size  price_per_person  \\\n0       16.99  1.01  Female     No  Sun  Dinner     2              8.49   \n1       10.34  1.66    Male     No  Sun  Dinner     3              3.45   \n2       21.01  3.50    Male     No  Sun  Dinner     3              7.00   \n3       23.68  3.31    Male     No  Sun  Dinner     2             11.84   \n4       24.59  3.61  Female     No  Sun  Dinner     4              6.15   \n\n           Payer Name         CC Number Payment ID  \n0  Christy Cunningham  3560325168603410    Sun2959  \n1      Douglas Tucker  4478071379779230    Sun4608  \n2      Travis Walters  6011812112971322    Sun4458  \n3    Nathaniel Harris  4676137647685994    Sun5260  \n4        Tonya Carter  4832732618637221    Sun2251  ",
      "text/html": "<div>\n<style scoped>\n    .dataframe tbody tr th:only-of-type {\n        vertical-align: middle;\n    }\n\n    .dataframe tbody tr th {\n        vertical-align: top;\n    }\n\n    .dataframe thead th {\n        text-align: right;\n    }\n</style>\n<table border=\"1\" class=\"dataframe\">\n  <thead>\n    <tr style=\"text-align: right;\">\n      <th></th>\n      <th>total_bill</th>\n      <th>tip</th>\n      <th>sex</th>\n      <th>smoker</th>\n      <th>day</th>\n      <th>time</th>\n      <th>size</th>\n      <th>price_per_person</th>\n      <th>Payer Name</th>\n      <th>CC Number</th>\n      <th>Payment ID</th>\n    </tr>\n  </thead>\n  <tbody>\n    <tr>\n      <th>0</th>\n      <td>16.99</td>\n      <td>1.01</td>\n      <td>Female</td>\n      <td>No</td>\n      <td>Sun</td>\n      <td>Dinner</td>\n      <td>2</td>\n      <td>8.49</td>\n      <td>Christy Cunningham</td>\n      <td>3560325168603410</td>\n      <td>Sun2959</td>\n    </tr>\n    <tr>\n      <th>1</th>\n      <td>10.34</td>\n      <td>1.66</td>\n      <td>Male</td>\n      <td>No</td>\n      <td>Sun</td>\n      <td>Dinner</td>\n      <td>3</td>\n      <td>3.45</td>\n      <td>Douglas Tucker</td>\n      <td>4478071379779230</td>\n      <td>Sun4608</td>\n    </tr>\n    <tr>\n      <th>2</th>\n      <td>21.01</td>\n      <td>3.50</td>\n      <td>Male</td>\n      <td>No</td>\n      <td>Sun</td>\n      <td>Dinner</td>\n      <td>3</td>\n      <td>7.00</td>\n      <td>Travis Walters</td>\n      <td>6011812112971322</td>\n      <td>Sun4458</td>\n    </tr>\n    <tr>\n      <th>3</th>\n      <td>23.68</td>\n      <td>3.31</td>\n      <td>Male</td>\n      <td>No</td>\n      <td>Sun</td>\n      <td>Dinner</td>\n      <td>2</td>\n      <td>11.84</td>\n      <td>Nathaniel Harris</td>\n      <td>4676137647685994</td>\n      <td>Sun5260</td>\n    </tr>\n    <tr>\n      <th>4</th>\n      <td>24.59</td>\n      <td>3.61</td>\n      <td>Female</td>\n      <td>No</td>\n      <td>Sun</td>\n      <td>Dinner</td>\n      <td>4</td>\n      <td>6.15</td>\n      <td>Tonya Carter</td>\n      <td>4832732618637221</td>\n      <td>Sun2251</td>\n    </tr>\n  </tbody>\n</table>\n</div>"
     },
     "metadata": {}
    }
   ],
   "execution_count": null
  },
  {
   "cell_type": "code",
   "metadata": {
    "tags": [],
    "cell_id": "00026-ba7b3cbe-1257-47e3-a37e-16c55e7b8c32",
    "deepnote_to_be_reexecuted": false,
    "source_hash": "ae0b02c1",
    "execution_start": 1622282523364,
    "execution_millis": 0,
    "deepnote_cell_type": "code"
   },
   "source": "#ROWS",
   "outputs": [],
   "execution_count": null
  },
  {
   "cell_type": "code",
   "metadata": {
    "tags": [],
    "cell_id": "00027-ef7697e7-a41c-4d6d-ae00-1737a208e091",
    "deepnote_to_be_reexecuted": false,
    "source_hash": "6985cdcf",
    "execution_start": 1622282764258,
    "execution_millis": 655,
    "deepnote_cell_type": "code"
   },
   "source": " #making a column index\n df=df.set_index(\"Payment ID\")\n ",
   "outputs": [
    {
     "output_type": "error",
     "ename": "KeyError",
     "evalue": "\"None of ['Payment ID'] are in the columns\"",
     "traceback": [
      "\u001b[0;31m---------------------------------------------------------------------------\u001b[0m",
      "\u001b[0;31mKeyError\u001b[0m                                  Traceback (most recent call last)",
      "\u001b[0;32m<ipython-input-30-f13e6d07d714>\u001b[0m in \u001b[0;36m<module>\u001b[0;34m\u001b[0m\n\u001b[1;32m      1\u001b[0m \u001b[0;31m#making a column index\u001b[0m\u001b[0;34m\u001b[0m\u001b[0;34m\u001b[0m\u001b[0;34m\u001b[0m\u001b[0m\n\u001b[0;32m----> 2\u001b[0;31m \u001b[0mdf\u001b[0m\u001b[0;34m=\u001b[0m\u001b[0mdf\u001b[0m\u001b[0;34m.\u001b[0m\u001b[0mset_index\u001b[0m\u001b[0;34m(\u001b[0m\u001b[0;34m\"Payment ID\"\u001b[0m\u001b[0;34m)\u001b[0m\u001b[0;34m\u001b[0m\u001b[0;34m\u001b[0m\u001b[0m\n\u001b[0m\u001b[1;32m      3\u001b[0m \u001b[0mdf\u001b[0m\u001b[0;34m\u001b[0m\u001b[0;34m\u001b[0m\u001b[0m\n",
      "\u001b[0;32m/shared-libs/python3.7/py/lib/python3.7/site-packages/pandas/core/frame.py\u001b[0m in \u001b[0;36mset_index\u001b[0;34m(self, keys, drop, append, inplace, verify_integrity)\u001b[0m\n\u001b[1;32m   4725\u001b[0m \u001b[0;34m\u001b[0m\u001b[0m\n\u001b[1;32m   4726\u001b[0m         \u001b[0;32mif\u001b[0m \u001b[0mmissing\u001b[0m\u001b[0;34m:\u001b[0m\u001b[0;34m\u001b[0m\u001b[0;34m\u001b[0m\u001b[0m\n\u001b[0;32m-> 4727\u001b[0;31m             \u001b[0;32mraise\u001b[0m \u001b[0mKeyError\u001b[0m\u001b[0;34m(\u001b[0m\u001b[0;34mf\"None of {missing} are in the columns\"\u001b[0m\u001b[0;34m)\u001b[0m\u001b[0;34m\u001b[0m\u001b[0;34m\u001b[0m\u001b[0m\n\u001b[0m\u001b[1;32m   4728\u001b[0m \u001b[0;34m\u001b[0m\u001b[0m\n\u001b[1;32m   4729\u001b[0m         \u001b[0;32mif\u001b[0m \u001b[0minplace\u001b[0m\u001b[0;34m:\u001b[0m\u001b[0;34m\u001b[0m\u001b[0;34m\u001b[0m\u001b[0m\n",
      "\u001b[0;31mKeyError\u001b[0m: \"None of ['Payment ID'] are in the columns\""
     ]
    }
   ],
   "execution_count": null
  },
  {
   "cell_type": "code",
   "source": "df.head()",
   "metadata": {
    "tags": [],
    "cell_id": "00028-1e3ed550-79a6-4eeb-8a36-6726fad5a367",
    "deepnote_to_be_reexecuted": false,
    "source_hash": "c085b6ba",
    "execution_start": 1622282779910,
    "execution_millis": 65,
    "deepnote_cell_type": "code"
   },
   "outputs": [
    {
     "output_type": "execute_result",
     "execution_count": 31,
     "data": {
      "application/vnd.deepnote.dataframe.v2+json": {
       "row_count": 5,
       "column_count": 10,
       "columns": [
        {
         "name": "total_bill",
         "dtype": "float64",
         "stats": {
          "unique_count": 5,
          "nan_count": 0,
          "min": "10.34",
          "max": "24.59",
          "histogram": [
           {
            "bin_start": 10.34,
            "bin_end": 11.765,
            "count": 1
           },
           {
            "bin_start": 11.765,
            "bin_end": 13.19,
            "count": 0
           },
           {
            "bin_start": 13.19,
            "bin_end": 14.615,
            "count": 0
           },
           {
            "bin_start": 14.615,
            "bin_end": 16.04,
            "count": 0
           },
           {
            "bin_start": 16.04,
            "bin_end": 17.465,
            "count": 1
           },
           {
            "bin_start": 17.465,
            "bin_end": 18.89,
            "count": 0
           },
           {
            "bin_start": 18.89,
            "bin_end": 20.314999999999998,
            "count": 0
           },
           {
            "bin_start": 20.314999999999998,
            "bin_end": 21.740000000000002,
            "count": 1
           },
           {
            "bin_start": 21.740000000000002,
            "bin_end": 23.165,
            "count": 0
           },
           {
            "bin_start": 23.165,
            "bin_end": 24.59,
            "count": 2
           }
          ]
         }
        },
        {
         "name": "tip",
         "dtype": "float64",
         "stats": {
          "unique_count": 5,
          "nan_count": 0,
          "min": "1.01",
          "max": "3.61",
          "histogram": [
           {
            "bin_start": 1.01,
            "bin_end": 1.27,
            "count": 1
           },
           {
            "bin_start": 1.27,
            "bin_end": 1.5299999999999998,
            "count": 0
           },
           {
            "bin_start": 1.5299999999999998,
            "bin_end": 1.7899999999999998,
            "count": 1
           },
           {
            "bin_start": 1.7899999999999998,
            "bin_end": 2.05,
            "count": 0
           },
           {
            "bin_start": 2.05,
            "bin_end": 2.3099999999999996,
            "count": 0
           },
           {
            "bin_start": 2.3099999999999996,
            "bin_end": 2.5699999999999994,
            "count": 0
           },
           {
            "bin_start": 2.5699999999999994,
            "bin_end": 2.8299999999999996,
            "count": 0
           },
           {
            "bin_start": 2.8299999999999996,
            "bin_end": 3.09,
            "count": 0
           },
           {
            "bin_start": 3.09,
            "bin_end": 3.3499999999999996,
            "count": 1
           },
           {
            "bin_start": 3.3499999999999996,
            "bin_end": 3.61,
            "count": 2
           }
          ]
         }
        },
        {
         "name": "sex",
         "dtype": "object",
         "stats": {
          "unique_count": 2,
          "nan_count": 0,
          "categories": [
           {
            "name": "Male",
            "count": 3
           },
           {
            "name": "Female",
            "count": 2
           }
          ]
         }
        },
        {
         "name": "smoker",
         "dtype": "object",
         "stats": {
          "unique_count": 1,
          "nan_count": 0,
          "categories": [
           {
            "name": "No",
            "count": 5
           }
          ]
         }
        },
        {
         "name": "day",
         "dtype": "object",
         "stats": {
          "unique_count": 1,
          "nan_count": 0,
          "categories": [
           {
            "name": "Sun",
            "count": 5
           }
          ]
         }
        },
        {
         "name": "time",
         "dtype": "object",
         "stats": {
          "unique_count": 1,
          "nan_count": 0,
          "categories": [
           {
            "name": "Dinner",
            "count": 5
           }
          ]
         }
        },
        {
         "name": "size",
         "dtype": "int64",
         "stats": {
          "unique_count": 3,
          "nan_count": 0,
          "min": "2",
          "max": "4",
          "histogram": [
           {
            "bin_start": 2,
            "bin_end": 2.2,
            "count": 2
           },
           {
            "bin_start": 2.2,
            "bin_end": 2.4,
            "count": 0
           },
           {
            "bin_start": 2.4,
            "bin_end": 2.6,
            "count": 0
           },
           {
            "bin_start": 2.6,
            "bin_end": 2.8,
            "count": 0
           },
           {
            "bin_start": 2.8,
            "bin_end": 3,
            "count": 0
           },
           {
            "bin_start": 3,
            "bin_end": 3.2,
            "count": 2
           },
           {
            "bin_start": 3.2,
            "bin_end": 3.4000000000000004,
            "count": 0
           },
           {
            "bin_start": 3.4000000000000004,
            "bin_end": 3.6,
            "count": 0
           },
           {
            "bin_start": 3.6,
            "bin_end": 3.8,
            "count": 0
           },
           {
            "bin_start": 3.8,
            "bin_end": 4,
            "count": 1
           }
          ]
         }
        },
        {
         "name": "price_per_person",
         "dtype": "float64",
         "stats": {
          "unique_count": 5,
          "nan_count": 0,
          "min": "3.45",
          "max": "11.84",
          "histogram": [
           {
            "bin_start": 3.45,
            "bin_end": 4.289000000000001,
            "count": 1
           },
           {
            "bin_start": 4.289000000000001,
            "bin_end": 5.128,
            "count": 0
           },
           {
            "bin_start": 5.128,
            "bin_end": 5.9670000000000005,
            "count": 0
           },
           {
            "bin_start": 5.9670000000000005,
            "bin_end": 6.806000000000001,
            "count": 1
           },
           {
            "bin_start": 6.806000000000001,
            "bin_end": 7.6450000000000005,
            "count": 1
           },
           {
            "bin_start": 7.6450000000000005,
            "bin_end": 8.484000000000002,
            "count": 0
           },
           {
            "bin_start": 8.484000000000002,
            "bin_end": 9.323,
            "count": 1
           },
           {
            "bin_start": 9.323,
            "bin_end": 10.162,
            "count": 0
           },
           {
            "bin_start": 10.162,
            "bin_end": 11.001000000000001,
            "count": 0
           },
           {
            "bin_start": 11.001000000000001,
            "bin_end": 11.84,
            "count": 1
           }
          ]
         }
        },
        {
         "name": "Payer Name",
         "dtype": "object",
         "stats": {
          "unique_count": 5,
          "nan_count": 0,
          "categories": [
           {
            "name": "Christy Cunningham",
            "count": 1
           },
           {
            "name": "Douglas Tucker",
            "count": 1
           },
           {
            "name": "3 others",
            "count": 3
           }
          ]
         }
        },
        {
         "name": "CC Number",
         "dtype": "int64",
         "stats": {
          "unique_count": 5,
          "nan_count": 0,
          "min": "3560325168603410",
          "max": "6011812112971322",
          "histogram": [
           {
            "bin_start": 3560325168603410,
            "bin_end": 3805473863040201,
            "count": 1
           },
           {
            "bin_start": 3805473863040201,
            "bin_end": 4050622557476992.5,
            "count": 0
           },
           {
            "bin_start": 4050622557476992.5,
            "bin_end": 4295771251913783.5,
            "count": 0
           },
           {
            "bin_start": 4295771251913783.5,
            "bin_end": 4540919946350575,
            "count": 1
           },
           {
            "bin_start": 4540919946350575,
            "bin_end": 4786068640787366,
            "count": 1
           },
           {
            "bin_start": 4786068640787366,
            "bin_end": 5031217335224157,
            "count": 1
           },
           {
            "bin_start": 5031217335224157,
            "bin_end": 5276366029660948,
            "count": 0
           },
           {
            "bin_start": 5276366029660948,
            "bin_end": 5521514724097740,
            "count": 0
           },
           {
            "bin_start": 5521514724097740,
            "bin_end": 5766663418534531,
            "count": 0
           },
           {
            "bin_start": 5766663418534531,
            "bin_end": 6011812112971322,
            "count": 1
           }
          ]
         }
        },
        {
         "name": "_deepnote_index_column",
         "dtype": "object"
        }
       ],
       "rows_top": [
        {
         "total_bill": 16.99,
         "tip": 1.01,
         "sex": "Female",
         "smoker": "No",
         "day": "Sun",
         "time": "Dinner",
         "size": 2,
         "price_per_person": 8.49,
         "Payer Name": "Christy Cunningham",
         "CC Number": 3560325168603410,
         "_deepnote_index_column": "Sun2959"
        },
        {
         "total_bill": 10.34,
         "tip": 1.66,
         "sex": "Male",
         "smoker": "No",
         "day": "Sun",
         "time": "Dinner",
         "size": 3,
         "price_per_person": 3.45,
         "Payer Name": "Douglas Tucker",
         "CC Number": 4478071379779230,
         "_deepnote_index_column": "Sun4608"
        },
        {
         "total_bill": 21.01,
         "tip": 3.5,
         "sex": "Male",
         "smoker": "No",
         "day": "Sun",
         "time": "Dinner",
         "size": 3,
         "price_per_person": 7,
         "Payer Name": "Travis Walters",
         "CC Number": 6011812112971322,
         "_deepnote_index_column": "Sun4458"
        },
        {
         "total_bill": 23.68,
         "tip": 3.31,
         "sex": "Male",
         "smoker": "No",
         "day": "Sun",
         "time": "Dinner",
         "size": 2,
         "price_per_person": 11.84,
         "Payer Name": "Nathaniel Harris",
         "CC Number": 4676137647685994,
         "_deepnote_index_column": "Sun5260"
        },
        {
         "total_bill": 24.59,
         "tip": 3.61,
         "sex": "Female",
         "smoker": "No",
         "day": "Sun",
         "time": "Dinner",
         "size": 4,
         "price_per_person": 6.15,
         "Payer Name": "Tonya Carter",
         "CC Number": 4832732618637221,
         "_deepnote_index_column": "Sun2251"
        }
       ],
       "rows_bottom": null
      },
      "text/plain": "            total_bill   tip     sex smoker  day    time  size  \\\nPayment ID                                                       \nSun2959          16.99  1.01  Female     No  Sun  Dinner     2   \nSun4608          10.34  1.66    Male     No  Sun  Dinner     3   \nSun4458          21.01  3.50    Male     No  Sun  Dinner     3   \nSun5260          23.68  3.31    Male     No  Sun  Dinner     2   \nSun2251          24.59  3.61  Female     No  Sun  Dinner     4   \n\n            price_per_person          Payer Name         CC Number  \nPayment ID                                                          \nSun2959                 8.49  Christy Cunningham  3560325168603410  \nSun4608                 3.45      Douglas Tucker  4478071379779230  \nSun4458                 7.00      Travis Walters  6011812112971322  \nSun5260                11.84    Nathaniel Harris  4676137647685994  \nSun2251                 6.15        Tonya Carter  4832732618637221  ",
      "text/html": "<div>\n<style scoped>\n    .dataframe tbody tr th:only-of-type {\n        vertical-align: middle;\n    }\n\n    .dataframe tbody tr th {\n        vertical-align: top;\n    }\n\n    .dataframe thead th {\n        text-align: right;\n    }\n</style>\n<table border=\"1\" class=\"dataframe\">\n  <thead>\n    <tr style=\"text-align: right;\">\n      <th></th>\n      <th>total_bill</th>\n      <th>tip</th>\n      <th>sex</th>\n      <th>smoker</th>\n      <th>day</th>\n      <th>time</th>\n      <th>size</th>\n      <th>price_per_person</th>\n      <th>Payer Name</th>\n      <th>CC Number</th>\n    </tr>\n    <tr>\n      <th>Payment ID</th>\n      <th></th>\n      <th></th>\n      <th></th>\n      <th></th>\n      <th></th>\n      <th></th>\n      <th></th>\n      <th></th>\n      <th></th>\n      <th></th>\n    </tr>\n  </thead>\n  <tbody>\n    <tr>\n      <th>Sun2959</th>\n      <td>16.99</td>\n      <td>1.01</td>\n      <td>Female</td>\n      <td>No</td>\n      <td>Sun</td>\n      <td>Dinner</td>\n      <td>2</td>\n      <td>8.49</td>\n      <td>Christy Cunningham</td>\n      <td>3560325168603410</td>\n    </tr>\n    <tr>\n      <th>Sun4608</th>\n      <td>10.34</td>\n      <td>1.66</td>\n      <td>Male</td>\n      <td>No</td>\n      <td>Sun</td>\n      <td>Dinner</td>\n      <td>3</td>\n      <td>3.45</td>\n      <td>Douglas Tucker</td>\n      <td>4478071379779230</td>\n    </tr>\n    <tr>\n      <th>Sun4458</th>\n      <td>21.01</td>\n      <td>3.50</td>\n      <td>Male</td>\n      <td>No</td>\n      <td>Sun</td>\n      <td>Dinner</td>\n      <td>3</td>\n      <td>7.00</td>\n      <td>Travis Walters</td>\n      <td>6011812112971322</td>\n    </tr>\n    <tr>\n      <th>Sun5260</th>\n      <td>23.68</td>\n      <td>3.31</td>\n      <td>Male</td>\n      <td>No</td>\n      <td>Sun</td>\n      <td>Dinner</td>\n      <td>2</td>\n      <td>11.84</td>\n      <td>Nathaniel Harris</td>\n      <td>4676137647685994</td>\n    </tr>\n    <tr>\n      <th>Sun2251</th>\n      <td>24.59</td>\n      <td>3.61</td>\n      <td>Female</td>\n      <td>No</td>\n      <td>Sun</td>\n      <td>Dinner</td>\n      <td>4</td>\n      <td>6.15</td>\n      <td>Tonya Carter</td>\n      <td>4832732618637221</td>\n    </tr>\n  </tbody>\n</table>\n</div>"
     },
     "metadata": {}
    }
   ],
   "execution_count": null
  },
  {
   "cell_type": "code",
   "source": "df.iloc[0]",
   "metadata": {
    "tags": [],
    "cell_id": "00031-51d3fdfc-82fb-479a-9bc6-e76ed60359b4",
    "deepnote_to_be_reexecuted": false,
    "source_hash": "4911d67d",
    "execution_start": 1622282960461,
    "execution_millis": 11,
    "deepnote_cell_type": "code"
   },
   "outputs": [
    {
     "output_type": "execute_result",
     "execution_count": 34,
     "data": {
      "text/plain": "total_bill                       16.99\ntip                               1.01\nsex                             Female\nsmoker                              No\nday                                Sun\ntime                            Dinner\nsize                                 2\nprice_per_person                  8.49\nPayer Name          Christy Cunningham\nCC Number             3560325168603410\nName: Sun2959, dtype: object"
     },
     "metadata": {}
    }
   ],
   "execution_count": null
  },
  {
   "cell_type": "code",
   "source": "df.loc['Sun2959']",
   "metadata": {
    "tags": [],
    "cell_id": "00030-ded921f7-26ba-4073-8c60-adf7fccae17c",
    "deepnote_to_be_reexecuted": false,
    "source_hash": "578760e6",
    "execution_start": 1622283016678,
    "execution_millis": 17,
    "deepnote_cell_type": "code"
   },
   "outputs": [
    {
     "output_type": "execute_result",
     "execution_count": 35,
     "data": {
      "text/plain": "total_bill                       16.99\ntip                               1.01\nsex                             Female\nsmoker                              No\nday                                Sun\ntime                            Dinner\nsize                                 2\nprice_per_person                  8.49\nPayer Name          Christy Cunningham\nCC Number             3560325168603410\nName: Sun2959, dtype: object"
     },
     "metadata": {}
    }
   ],
   "execution_count": null
  },
  {
   "cell_type": "code",
   "source": "df.iloc[:4]",
   "metadata": {
    "tags": [],
    "cell_id": "00031-7c1c3cce-5e04-44e7-af60-7748fcf60d0d",
    "deepnote_to_be_reexecuted": false,
    "source_hash": "4b5aae1f",
    "execution_start": 1622283031893,
    "execution_millis": 16,
    "deepnote_cell_type": "code"
   },
   "outputs": [
    {
     "output_type": "execute_result",
     "execution_count": 36,
     "data": {
      "application/vnd.deepnote.dataframe.v2+json": {
       "row_count": 4,
       "column_count": 10,
       "columns": [
        {
         "name": "total_bill",
         "dtype": "float64",
         "stats": {
          "unique_count": 4,
          "nan_count": 0,
          "min": "10.34",
          "max": "23.68",
          "histogram": [
           {
            "bin_start": 10.34,
            "bin_end": 11.674,
            "count": 1
           },
           {
            "bin_start": 11.674,
            "bin_end": 13.008,
            "count": 0
           },
           {
            "bin_start": 13.008,
            "bin_end": 14.342,
            "count": 0
           },
           {
            "bin_start": 14.342,
            "bin_end": 15.676,
            "count": 0
           },
           {
            "bin_start": 15.676,
            "bin_end": 17.009999999999998,
            "count": 1
           },
           {
            "bin_start": 17.009999999999998,
            "bin_end": 18.344,
            "count": 0
           },
           {
            "bin_start": 18.344,
            "bin_end": 19.678,
            "count": 0
           },
           {
            "bin_start": 19.678,
            "bin_end": 21.012,
            "count": 1
           },
           {
            "bin_start": 21.012,
            "bin_end": 22.346,
            "count": 0
           },
           {
            "bin_start": 22.346,
            "bin_end": 23.68,
            "count": 1
           }
          ]
         }
        },
        {
         "name": "tip",
         "dtype": "float64",
         "stats": {
          "unique_count": 4,
          "nan_count": 0,
          "min": "1.01",
          "max": "3.5",
          "histogram": [
           {
            "bin_start": 1.01,
            "bin_end": 1.2590000000000001,
            "count": 1
           },
           {
            "bin_start": 1.2590000000000001,
            "bin_end": 1.508,
            "count": 0
           },
           {
            "bin_start": 1.508,
            "bin_end": 1.7570000000000001,
            "count": 1
           },
           {
            "bin_start": 1.7570000000000001,
            "bin_end": 2.0060000000000002,
            "count": 0
           },
           {
            "bin_start": 2.0060000000000002,
            "bin_end": 2.255,
            "count": 0
           },
           {
            "bin_start": 2.255,
            "bin_end": 2.5040000000000004,
            "count": 0
           },
           {
            "bin_start": 2.5040000000000004,
            "bin_end": 2.753,
            "count": 0
           },
           {
            "bin_start": 2.753,
            "bin_end": 3.0020000000000002,
            "count": 0
           },
           {
            "bin_start": 3.0020000000000002,
            "bin_end": 3.2510000000000003,
            "count": 0
           },
           {
            "bin_start": 3.2510000000000003,
            "bin_end": 3.5,
            "count": 2
           }
          ]
         }
        },
        {
         "name": "sex",
         "dtype": "object",
         "stats": {
          "unique_count": 2,
          "nan_count": 0,
          "categories": [
           {
            "name": "Male",
            "count": 3
           },
           {
            "name": "Female",
            "count": 1
           }
          ]
         }
        },
        {
         "name": "smoker",
         "dtype": "object",
         "stats": {
          "unique_count": 1,
          "nan_count": 0,
          "categories": [
           {
            "name": "No",
            "count": 4
           }
          ]
         }
        },
        {
         "name": "day",
         "dtype": "object",
         "stats": {
          "unique_count": 1,
          "nan_count": 0,
          "categories": [
           {
            "name": "Sun",
            "count": 4
           }
          ]
         }
        },
        {
         "name": "time",
         "dtype": "object",
         "stats": {
          "unique_count": 1,
          "nan_count": 0,
          "categories": [
           {
            "name": "Dinner",
            "count": 4
           }
          ]
         }
        },
        {
         "name": "size",
         "dtype": "int64",
         "stats": {
          "unique_count": 2,
          "nan_count": 0,
          "min": "2",
          "max": "3",
          "histogram": [
           {
            "bin_start": 2,
            "bin_end": 2.1,
            "count": 2
           },
           {
            "bin_start": 2.1,
            "bin_end": 2.2,
            "count": 0
           },
           {
            "bin_start": 2.2,
            "bin_end": 2.3,
            "count": 0
           },
           {
            "bin_start": 2.3,
            "bin_end": 2.4,
            "count": 0
           },
           {
            "bin_start": 2.4,
            "bin_end": 2.5,
            "count": 0
           },
           {
            "bin_start": 2.5,
            "bin_end": 2.6,
            "count": 0
           },
           {
            "bin_start": 2.6,
            "bin_end": 2.7,
            "count": 0
           },
           {
            "bin_start": 2.7,
            "bin_end": 2.8,
            "count": 0
           },
           {
            "bin_start": 2.8,
            "bin_end": 2.9,
            "count": 0
           },
           {
            "bin_start": 2.9,
            "bin_end": 3,
            "count": 2
           }
          ]
         }
        },
        {
         "name": "price_per_person",
         "dtype": "float64",
         "stats": {
          "unique_count": 4,
          "nan_count": 0,
          "min": "3.45",
          "max": "11.84",
          "histogram": [
           {
            "bin_start": 3.45,
            "bin_end": 4.289000000000001,
            "count": 1
           },
           {
            "bin_start": 4.289000000000001,
            "bin_end": 5.128,
            "count": 0
           },
           {
            "bin_start": 5.128,
            "bin_end": 5.9670000000000005,
            "count": 0
           },
           {
            "bin_start": 5.9670000000000005,
            "bin_end": 6.806000000000001,
            "count": 0
           },
           {
            "bin_start": 6.806000000000001,
            "bin_end": 7.6450000000000005,
            "count": 1
           },
           {
            "bin_start": 7.6450000000000005,
            "bin_end": 8.484000000000002,
            "count": 0
           },
           {
            "bin_start": 8.484000000000002,
            "bin_end": 9.323,
            "count": 1
           },
           {
            "bin_start": 9.323,
            "bin_end": 10.162,
            "count": 0
           },
           {
            "bin_start": 10.162,
            "bin_end": 11.001000000000001,
            "count": 0
           },
           {
            "bin_start": 11.001000000000001,
            "bin_end": 11.84,
            "count": 1
           }
          ]
         }
        },
        {
         "name": "Payer Name",
         "dtype": "object",
         "stats": {
          "unique_count": 4,
          "nan_count": 0,
          "categories": [
           {
            "name": "Christy Cunningham",
            "count": 1
           },
           {
            "name": "Douglas Tucker",
            "count": 1
           },
           {
            "name": "2 others",
            "count": 2
           }
          ]
         }
        },
        {
         "name": "CC Number",
         "dtype": "int64",
         "stats": {
          "unique_count": 4,
          "nan_count": 0,
          "min": "3560325168603410",
          "max": "6011812112971322",
          "histogram": [
           {
            "bin_start": 3560325168603410,
            "bin_end": 3805473863040201,
            "count": 1
           },
           {
            "bin_start": 3805473863040201,
            "bin_end": 4050622557476992.5,
            "count": 0
           },
           {
            "bin_start": 4050622557476992.5,
            "bin_end": 4295771251913783.5,
            "count": 0
           },
           {
            "bin_start": 4295771251913783.5,
            "bin_end": 4540919946350575,
            "count": 1
           },
           {
            "bin_start": 4540919946350575,
            "bin_end": 4786068640787366,
            "count": 1
           },
           {
            "bin_start": 4786068640787366,
            "bin_end": 5031217335224157,
            "count": 0
           },
           {
            "bin_start": 5031217335224157,
            "bin_end": 5276366029660948,
            "count": 0
           },
           {
            "bin_start": 5276366029660948,
            "bin_end": 5521514724097740,
            "count": 0
           },
           {
            "bin_start": 5521514724097740,
            "bin_end": 5766663418534531,
            "count": 0
           },
           {
            "bin_start": 5766663418534531,
            "bin_end": 6011812112971322,
            "count": 1
           }
          ]
         }
        },
        {
         "name": "_deepnote_index_column",
         "dtype": "object"
        }
       ],
       "rows_top": [
        {
         "total_bill": 16.99,
         "tip": 1.01,
         "sex": "Female",
         "smoker": "No",
         "day": "Sun",
         "time": "Dinner",
         "size": 2,
         "price_per_person": 8.49,
         "Payer Name": "Christy Cunningham",
         "CC Number": 3560325168603410,
         "_deepnote_index_column": "Sun2959"
        },
        {
         "total_bill": 10.34,
         "tip": 1.66,
         "sex": "Male",
         "smoker": "No",
         "day": "Sun",
         "time": "Dinner",
         "size": 3,
         "price_per_person": 3.45,
         "Payer Name": "Douglas Tucker",
         "CC Number": 4478071379779230,
         "_deepnote_index_column": "Sun4608"
        },
        {
         "total_bill": 21.01,
         "tip": 3.5,
         "sex": "Male",
         "smoker": "No",
         "day": "Sun",
         "time": "Dinner",
         "size": 3,
         "price_per_person": 7,
         "Payer Name": "Travis Walters",
         "CC Number": 6011812112971322,
         "_deepnote_index_column": "Sun4458"
        },
        {
         "total_bill": 23.68,
         "tip": 3.31,
         "sex": "Male",
         "smoker": "No",
         "day": "Sun",
         "time": "Dinner",
         "size": 2,
         "price_per_person": 11.84,
         "Payer Name": "Nathaniel Harris",
         "CC Number": 4676137647685994,
         "_deepnote_index_column": "Sun5260"
        }
       ],
       "rows_bottom": null
      },
      "text/plain": "            total_bill   tip     sex smoker  day    time  size  \\\nPayment ID                                                       \nSun2959          16.99  1.01  Female     No  Sun  Dinner     2   \nSun4608          10.34  1.66    Male     No  Sun  Dinner     3   \nSun4458          21.01  3.50    Male     No  Sun  Dinner     3   \nSun5260          23.68  3.31    Male     No  Sun  Dinner     2   \n\n            price_per_person          Payer Name         CC Number  \nPayment ID                                                          \nSun2959                 8.49  Christy Cunningham  3560325168603410  \nSun4608                 3.45      Douglas Tucker  4478071379779230  \nSun4458                 7.00      Travis Walters  6011812112971322  \nSun5260                11.84    Nathaniel Harris  4676137647685994  ",
      "text/html": "<div>\n<style scoped>\n    .dataframe tbody tr th:only-of-type {\n        vertical-align: middle;\n    }\n\n    .dataframe tbody tr th {\n        vertical-align: top;\n    }\n\n    .dataframe thead th {\n        text-align: right;\n    }\n</style>\n<table border=\"1\" class=\"dataframe\">\n  <thead>\n    <tr style=\"text-align: right;\">\n      <th></th>\n      <th>total_bill</th>\n      <th>tip</th>\n      <th>sex</th>\n      <th>smoker</th>\n      <th>day</th>\n      <th>time</th>\n      <th>size</th>\n      <th>price_per_person</th>\n      <th>Payer Name</th>\n      <th>CC Number</th>\n    </tr>\n    <tr>\n      <th>Payment ID</th>\n      <th></th>\n      <th></th>\n      <th></th>\n      <th></th>\n      <th></th>\n      <th></th>\n      <th></th>\n      <th></th>\n      <th></th>\n      <th></th>\n    </tr>\n  </thead>\n  <tbody>\n    <tr>\n      <th>Sun2959</th>\n      <td>16.99</td>\n      <td>1.01</td>\n      <td>Female</td>\n      <td>No</td>\n      <td>Sun</td>\n      <td>Dinner</td>\n      <td>2</td>\n      <td>8.49</td>\n      <td>Christy Cunningham</td>\n      <td>3560325168603410</td>\n    </tr>\n    <tr>\n      <th>Sun4608</th>\n      <td>10.34</td>\n      <td>1.66</td>\n      <td>Male</td>\n      <td>No</td>\n      <td>Sun</td>\n      <td>Dinner</td>\n      <td>3</td>\n      <td>3.45</td>\n      <td>Douglas Tucker</td>\n      <td>4478071379779230</td>\n    </tr>\n    <tr>\n      <th>Sun4458</th>\n      <td>21.01</td>\n      <td>3.50</td>\n      <td>Male</td>\n      <td>No</td>\n      <td>Sun</td>\n      <td>Dinner</td>\n      <td>3</td>\n      <td>7.00</td>\n      <td>Travis Walters</td>\n      <td>6011812112971322</td>\n    </tr>\n    <tr>\n      <th>Sun5260</th>\n      <td>23.68</td>\n      <td>3.31</td>\n      <td>Male</td>\n      <td>No</td>\n      <td>Sun</td>\n      <td>Dinner</td>\n      <td>2</td>\n      <td>11.84</td>\n      <td>Nathaniel Harris</td>\n      <td>4676137647685994</td>\n    </tr>\n  </tbody>\n</table>\n</div>"
     },
     "metadata": {}
    }
   ],
   "execution_count": null
  },
  {
   "cell_type": "code",
   "source": " #deleting row\n df=df.drop('Sun2959',axis=0)\n df.head()",
   "metadata": {
    "tags": [],
    "cell_id": "00032-acf672b0-6e00-4ae1-853b-a281fc76ca70",
    "deepnote_to_be_reexecuted": false,
    "source_hash": "80753051",
    "execution_start": 1622283234950,
    "execution_millis": 16,
    "deepnote_cell_type": "code"
   },
   "outputs": [
    {
     "output_type": "execute_result",
     "execution_count": 39,
     "data": {
      "application/vnd.deepnote.dataframe.v2+json": {
       "row_count": 5,
       "column_count": 10,
       "columns": [
        {
         "name": "total_bill",
         "dtype": "float64",
         "stats": {
          "unique_count": 5,
          "nan_count": 0,
          "min": "10.34",
          "max": "25.29",
          "histogram": [
           {
            "bin_start": 10.34,
            "bin_end": 11.834999999999999,
            "count": 1
           },
           {
            "bin_start": 11.834999999999999,
            "bin_end": 13.33,
            "count": 0
           },
           {
            "bin_start": 13.33,
            "bin_end": 14.825,
            "count": 0
           },
           {
            "bin_start": 14.825,
            "bin_end": 16.32,
            "count": 0
           },
           {
            "bin_start": 16.32,
            "bin_end": 17.814999999999998,
            "count": 0
           },
           {
            "bin_start": 17.814999999999998,
            "bin_end": 19.31,
            "count": 0
           },
           {
            "bin_start": 19.31,
            "bin_end": 20.805,
            "count": 0
           },
           {
            "bin_start": 20.805,
            "bin_end": 22.299999999999997,
            "count": 1
           },
           {
            "bin_start": 22.299999999999997,
            "bin_end": 23.794999999999998,
            "count": 1
           },
           {
            "bin_start": 23.794999999999998,
            "bin_end": 25.29,
            "count": 2
           }
          ]
         }
        },
        {
         "name": "tip",
         "dtype": "float64",
         "stats": {
          "unique_count": 5,
          "nan_count": 0,
          "min": "1.66",
          "max": "4.71",
          "histogram": [
           {
            "bin_start": 1.66,
            "bin_end": 1.9649999999999999,
            "count": 1
           },
           {
            "bin_start": 1.9649999999999999,
            "bin_end": 2.27,
            "count": 0
           },
           {
            "bin_start": 2.27,
            "bin_end": 2.575,
            "count": 0
           },
           {
            "bin_start": 2.575,
            "bin_end": 2.88,
            "count": 0
           },
           {
            "bin_start": 2.88,
            "bin_end": 3.1849999999999996,
            "count": 0
           },
           {
            "bin_start": 3.1849999999999996,
            "bin_end": 3.49,
            "count": 1
           },
           {
            "bin_start": 3.49,
            "bin_end": 3.795,
            "count": 2
           },
           {
            "bin_start": 3.795,
            "bin_end": 4.1,
            "count": 0
           },
           {
            "bin_start": 4.1,
            "bin_end": 4.405,
            "count": 0
           },
           {
            "bin_start": 4.405,
            "bin_end": 4.71,
            "count": 1
           }
          ]
         }
        },
        {
         "name": "sex",
         "dtype": "object",
         "stats": {
          "unique_count": 2,
          "nan_count": 0,
          "categories": [
           {
            "name": "Male",
            "count": 4
           },
           {
            "name": "Female",
            "count": 1
           }
          ]
         }
        },
        {
         "name": "smoker",
         "dtype": "object",
         "stats": {
          "unique_count": 1,
          "nan_count": 0,
          "categories": [
           {
            "name": "No",
            "count": 5
           }
          ]
         }
        },
        {
         "name": "day",
         "dtype": "object",
         "stats": {
          "unique_count": 1,
          "nan_count": 0,
          "categories": [
           {
            "name": "Sun",
            "count": 5
           }
          ]
         }
        },
        {
         "name": "time",
         "dtype": "object",
         "stats": {
          "unique_count": 1,
          "nan_count": 0,
          "categories": [
           {
            "name": "Dinner",
            "count": 5
           }
          ]
         }
        },
        {
         "name": "size",
         "dtype": "int64",
         "stats": {
          "unique_count": 3,
          "nan_count": 0,
          "min": "2",
          "max": "4",
          "histogram": [
           {
            "bin_start": 2,
            "bin_end": 2.2,
            "count": 1
           },
           {
            "bin_start": 2.2,
            "bin_end": 2.4,
            "count": 0
           },
           {
            "bin_start": 2.4,
            "bin_end": 2.6,
            "count": 0
           },
           {
            "bin_start": 2.6,
            "bin_end": 2.8,
            "count": 0
           },
           {
            "bin_start": 2.8,
            "bin_end": 3,
            "count": 0
           },
           {
            "bin_start": 3,
            "bin_end": 3.2,
            "count": 2
           },
           {
            "bin_start": 3.2,
            "bin_end": 3.4000000000000004,
            "count": 0
           },
           {
            "bin_start": 3.4000000000000004,
            "bin_end": 3.6,
            "count": 0
           },
           {
            "bin_start": 3.6,
            "bin_end": 3.8,
            "count": 0
           },
           {
            "bin_start": 3.8,
            "bin_end": 4,
            "count": 2
           }
          ]
         }
        },
        {
         "name": "price_per_person",
         "dtype": "float64",
         "stats": {
          "unique_count": 5,
          "nan_count": 0,
          "min": "3.45",
          "max": "11.84",
          "histogram": [
           {
            "bin_start": 3.45,
            "bin_end": 4.289000000000001,
            "count": 1
           },
           {
            "bin_start": 4.289000000000001,
            "bin_end": 5.128,
            "count": 0
           },
           {
            "bin_start": 5.128,
            "bin_end": 5.9670000000000005,
            "count": 0
           },
           {
            "bin_start": 5.9670000000000005,
            "bin_end": 6.806000000000001,
            "count": 2
           },
           {
            "bin_start": 6.806000000000001,
            "bin_end": 7.6450000000000005,
            "count": 1
           },
           {
            "bin_start": 7.6450000000000005,
            "bin_end": 8.484000000000002,
            "count": 0
           },
           {
            "bin_start": 8.484000000000002,
            "bin_end": 9.323,
            "count": 0
           },
           {
            "bin_start": 9.323,
            "bin_end": 10.162,
            "count": 0
           },
           {
            "bin_start": 10.162,
            "bin_end": 11.001000000000001,
            "count": 0
           },
           {
            "bin_start": 11.001000000000001,
            "bin_end": 11.84,
            "count": 1
           }
          ]
         }
        },
        {
         "name": "Payer Name",
         "dtype": "object",
         "stats": {
          "unique_count": 5,
          "nan_count": 0,
          "categories": [
           {
            "name": "Douglas Tucker",
            "count": 1
           },
           {
            "name": "Travis Walters",
            "count": 1
           },
           {
            "name": "3 others",
            "count": 3
           }
          ]
         }
        },
        {
         "name": "CC Number",
         "dtype": "int64",
         "stats": {
          "unique_count": 5,
          "nan_count": 0,
          "min": "213140353657882",
          "max": "6011812112971322",
          "histogram": [
           {
            "bin_start": 213140353657882,
            "bin_end": 793007529589226,
            "count": 1
           },
           {
            "bin_start": 793007529589226,
            "bin_end": 1372874705520570,
            "count": 0
           },
           {
            "bin_start": 1372874705520570,
            "bin_end": 1952741881451914,
            "count": 0
           },
           {
            "bin_start": 1952741881451914,
            "bin_end": 2532609057383258,
            "count": 0
           },
           {
            "bin_start": 2532609057383258,
            "bin_end": 3112476233314602,
            "count": 0
           },
           {
            "bin_start": 3112476233314602,
            "bin_end": 3692343409245946,
            "count": 0
           },
           {
            "bin_start": 3692343409245946,
            "bin_end": 4272210585177290,
            "count": 0
           },
           {
            "bin_start": 4272210585177290,
            "bin_end": 4852077761108634,
            "count": 3
           },
           {
            "bin_start": 4852077761108634,
            "bin_end": 5431944937039978,
            "count": 0
           },
           {
            "bin_start": 5431944937039978,
            "bin_end": 6011812112971322,
            "count": 1
           }
          ]
         }
        },
        {
         "name": "_deepnote_index_column",
         "dtype": "object"
        }
       ],
       "rows_top": [
        {
         "total_bill": 10.34,
         "tip": 1.66,
         "sex": "Male",
         "smoker": "No",
         "day": "Sun",
         "time": "Dinner",
         "size": 3,
         "price_per_person": 3.45,
         "Payer Name": "Douglas Tucker",
         "CC Number": 4478071379779230,
         "_deepnote_index_column": "Sun4608"
        },
        {
         "total_bill": 21.01,
         "tip": 3.5,
         "sex": "Male",
         "smoker": "No",
         "day": "Sun",
         "time": "Dinner",
         "size": 3,
         "price_per_person": 7,
         "Payer Name": "Travis Walters",
         "CC Number": 6011812112971322,
         "_deepnote_index_column": "Sun4458"
        },
        {
         "total_bill": 23.68,
         "tip": 3.31,
         "sex": "Male",
         "smoker": "No",
         "day": "Sun",
         "time": "Dinner",
         "size": 2,
         "price_per_person": 11.84,
         "Payer Name": "Nathaniel Harris",
         "CC Number": 4676137647685994,
         "_deepnote_index_column": "Sun5260"
        },
        {
         "total_bill": 24.59,
         "tip": 3.61,
         "sex": "Female",
         "smoker": "No",
         "day": "Sun",
         "time": "Dinner",
         "size": 4,
         "price_per_person": 6.15,
         "Payer Name": "Tonya Carter",
         "CC Number": 4832732618637221,
         "_deepnote_index_column": "Sun2251"
        },
        {
         "total_bill": 25.29,
         "tip": 4.71,
         "sex": "Male",
         "smoker": "No",
         "day": "Sun",
         "time": "Dinner",
         "size": 4,
         "price_per_person": 6.32,
         "Payer Name": "Erik Smith",
         "CC Number": 213140353657882,
         "_deepnote_index_column": "Sun9679"
        }
       ],
       "rows_bottom": null
      },
      "text/plain": "            total_bill   tip     sex smoker  day    time  size  \\\nPayment ID                                                       \nSun4608          10.34  1.66    Male     No  Sun  Dinner     3   \nSun4458          21.01  3.50    Male     No  Sun  Dinner     3   \nSun5260          23.68  3.31    Male     No  Sun  Dinner     2   \nSun2251          24.59  3.61  Female     No  Sun  Dinner     4   \nSun9679          25.29  4.71    Male     No  Sun  Dinner     4   \n\n            price_per_person        Payer Name         CC Number  \nPayment ID                                                        \nSun4608                 3.45    Douglas Tucker  4478071379779230  \nSun4458                 7.00    Travis Walters  6011812112971322  \nSun5260                11.84  Nathaniel Harris  4676137647685994  \nSun2251                 6.15      Tonya Carter  4832732618637221  \nSun9679                 6.32        Erik Smith   213140353657882  ",
      "text/html": "<div>\n<style scoped>\n    .dataframe tbody tr th:only-of-type {\n        vertical-align: middle;\n    }\n\n    .dataframe tbody tr th {\n        vertical-align: top;\n    }\n\n    .dataframe thead th {\n        text-align: right;\n    }\n</style>\n<table border=\"1\" class=\"dataframe\">\n  <thead>\n    <tr style=\"text-align: right;\">\n      <th></th>\n      <th>total_bill</th>\n      <th>tip</th>\n      <th>sex</th>\n      <th>smoker</th>\n      <th>day</th>\n      <th>time</th>\n      <th>size</th>\n      <th>price_per_person</th>\n      <th>Payer Name</th>\n      <th>CC Number</th>\n    </tr>\n    <tr>\n      <th>Payment ID</th>\n      <th></th>\n      <th></th>\n      <th></th>\n      <th></th>\n      <th></th>\n      <th></th>\n      <th></th>\n      <th></th>\n      <th></th>\n      <th></th>\n    </tr>\n  </thead>\n  <tbody>\n    <tr>\n      <th>Sun4608</th>\n      <td>10.34</td>\n      <td>1.66</td>\n      <td>Male</td>\n      <td>No</td>\n      <td>Sun</td>\n      <td>Dinner</td>\n      <td>3</td>\n      <td>3.45</td>\n      <td>Douglas Tucker</td>\n      <td>4478071379779230</td>\n    </tr>\n    <tr>\n      <th>Sun4458</th>\n      <td>21.01</td>\n      <td>3.50</td>\n      <td>Male</td>\n      <td>No</td>\n      <td>Sun</td>\n      <td>Dinner</td>\n      <td>3</td>\n      <td>7.00</td>\n      <td>Travis Walters</td>\n      <td>6011812112971322</td>\n    </tr>\n    <tr>\n      <th>Sun5260</th>\n      <td>23.68</td>\n      <td>3.31</td>\n      <td>Male</td>\n      <td>No</td>\n      <td>Sun</td>\n      <td>Dinner</td>\n      <td>2</td>\n      <td>11.84</td>\n      <td>Nathaniel Harris</td>\n      <td>4676137647685994</td>\n    </tr>\n    <tr>\n      <th>Sun2251</th>\n      <td>24.59</td>\n      <td>3.61</td>\n      <td>Female</td>\n      <td>No</td>\n      <td>Sun</td>\n      <td>Dinner</td>\n      <td>4</td>\n      <td>6.15</td>\n      <td>Tonya Carter</td>\n      <td>4832732618637221</td>\n    </tr>\n    <tr>\n      <th>Sun9679</th>\n      <td>25.29</td>\n      <td>4.71</td>\n      <td>Male</td>\n      <td>No</td>\n      <td>Sun</td>\n      <td>Dinner</td>\n      <td>4</td>\n      <td>6.32</td>\n      <td>Erik Smith</td>\n      <td>213140353657882</td>\n    </tr>\n  </tbody>\n</table>\n</div>"
     },
     "metadata": {}
    }
   ],
   "execution_count": null
  },
  {
   "cell_type": "code",
   "source": "#adding new row\none_row=df.iloc[0]\none_row",
   "metadata": {
    "tags": [],
    "cell_id": "00033-6d77fb3a-a38b-4efa-8f6a-6532ee5b721d",
    "deepnote_to_be_reexecuted": false,
    "source_hash": "91fe3d9e",
    "execution_start": 1622283380176,
    "execution_millis": 11,
    "deepnote_cell_type": "code"
   },
   "outputs": [
    {
     "output_type": "execute_result",
     "execution_count": 41,
     "data": {
      "text/plain": "total_bill                     10.34\ntip                             1.66\nsex                             Male\nsmoker                            No\nday                              Sun\ntime                          Dinner\nsize                               3\nprice_per_person                3.45\nPayer Name            Douglas Tucker\nCC Number           4478071379779230\nName: Sun4608, dtype: object"
     },
     "metadata": {}
    }
   ],
   "execution_count": null
  },
  {
   "cell_type": "code",
   "source": "df=df.append(one_row)",
   "metadata": {
    "tags": [],
    "cell_id": "00034-af280500-0e95-43dc-96e5-8edc545db3cd",
    "deepnote_to_be_reexecuted": false,
    "source_hash": "adcef35d",
    "execution_start": 1622283442650,
    "execution_millis": 0,
    "deepnote_cell_type": "code"
   },
   "outputs": [],
   "execution_count": null
  },
  {
   "cell_type": "code",
   "source": "df",
   "metadata": {
    "tags": [],
    "cell_id": "00035-ae04e2f6-8e98-4555-8da0-f0a1a41b4e13",
    "deepnote_to_be_reexecuted": false,
    "source_hash": "f804c160",
    "execution_start": 1622283449340,
    "execution_millis": 60,
    "deepnote_cell_type": "code"
   },
   "outputs": [
    {
     "output_type": "execute_result",
     "execution_count": 44,
     "data": {
      "application/vnd.deepnote.dataframe.v2+json": {
       "row_count": 244,
       "column_count": 10,
       "columns": [
        {
         "name": "total_bill",
         "dtype": "float64",
         "stats": {
          "unique_count": 228,
          "nan_count": 0,
          "min": "3.07",
          "max": "50.81",
          "histogram": [
           {
            "bin_start": 3.07,
            "bin_end": 7.843999999999999,
            "count": 7
           },
           {
            "bin_start": 7.843999999999999,
            "bin_end": 12.618,
            "count": 43
           },
           {
            "bin_start": 12.618,
            "bin_end": 17.392,
            "count": 67
           },
           {
            "bin_start": 17.392,
            "bin_end": 22.166,
            "count": 51
           },
           {
            "bin_start": 22.166,
            "bin_end": 26.94,
            "count": 31
           },
           {
            "bin_start": 26.94,
            "bin_end": 31.714,
            "count": 19
           },
           {
            "bin_start": 31.714,
            "bin_end": 36.488,
            "count": 12
           },
           {
            "bin_start": 36.488,
            "bin_end": 41.262,
            "count": 7
           },
           {
            "bin_start": 41.262,
            "bin_end": 46.036,
            "count": 3
           },
           {
            "bin_start": 46.036,
            "bin_end": 50.81,
            "count": 4
           }
          ]
         }
        },
        {
         "name": "tip",
         "dtype": "float64",
         "stats": {
          "unique_count": 122,
          "nan_count": 0,
          "min": "1.0",
          "max": "10.0",
          "histogram": [
           {
            "bin_start": 1,
            "bin_end": 1.9,
            "count": 41
           },
           {
            "bin_start": 1.9,
            "bin_end": 2.8,
            "count": 79
           },
           {
            "bin_start": 2.8,
            "bin_end": 3.7,
            "count": 66
           },
           {
            "bin_start": 3.7,
            "bin_end": 4.6,
            "count": 27
           },
           {
            "bin_start": 4.6,
            "bin_end": 5.5,
            "count": 19
           },
           {
            "bin_start": 5.5,
            "bin_end": 6.4,
            "count": 5
           },
           {
            "bin_start": 6.4,
            "bin_end": 7.3,
            "count": 4
           },
           {
            "bin_start": 7.3,
            "bin_end": 8.2,
            "count": 1
           },
           {
            "bin_start": 8.2,
            "bin_end": 9.1,
            "count": 1
           },
           {
            "bin_start": 9.1,
            "bin_end": 10,
            "count": 1
           }
          ]
         }
        },
        {
         "name": "sex",
         "dtype": "object",
         "stats": {
          "unique_count": 2,
          "nan_count": 0,
          "categories": [
           {
            "name": "Male",
            "count": 158
           },
           {
            "name": "Female",
            "count": 86
           }
          ]
         }
        },
        {
         "name": "smoker",
         "dtype": "object",
         "stats": {
          "unique_count": 2,
          "nan_count": 0,
          "categories": [
           {
            "name": "No",
            "count": 151
           },
           {
            "name": "Yes",
            "count": 93
           }
          ]
         }
        },
        {
         "name": "day",
         "dtype": "object",
         "stats": {
          "unique_count": 4,
          "nan_count": 0,
          "categories": [
           {
            "name": "Sat",
            "count": 87
           },
           {
            "name": "Sun",
            "count": 76
           },
           {
            "name": "2 others",
            "count": 81
           }
          ]
         }
        },
        {
         "name": "time",
         "dtype": "object",
         "stats": {
          "unique_count": 2,
          "nan_count": 0,
          "categories": [
           {
            "name": "Dinner",
            "count": 176
           },
           {
            "name": "Lunch",
            "count": 68
           }
          ]
         }
        },
        {
         "name": "size",
         "dtype": "int64",
         "stats": {
          "unique_count": 6,
          "nan_count": 0,
          "min": "1",
          "max": "6",
          "histogram": [
           {
            "bin_start": 1,
            "bin_end": 1.5,
            "count": 4
           },
           {
            "bin_start": 1.5,
            "bin_end": 2,
            "count": 0
           },
           {
            "bin_start": 2,
            "bin_end": 2.5,
            "count": 155
           },
           {
            "bin_start": 2.5,
            "bin_end": 3,
            "count": 0
           },
           {
            "bin_start": 3,
            "bin_end": 3.5,
            "count": 39
           },
           {
            "bin_start": 3.5,
            "bin_end": 4,
            "count": 0
           },
           {
            "bin_start": 4,
            "bin_end": 4.5,
            "count": 37
           },
           {
            "bin_start": 4.5,
            "bin_end": 5,
            "count": 0
           },
           {
            "bin_start": 5,
            "bin_end": 5.5,
            "count": 5
           },
           {
            "bin_start": 5.5,
            "bin_end": 6,
            "count": 4
           }
          ]
         }
        },
        {
         "name": "price_per_person",
         "dtype": "float64",
         "stats": {
          "unique_count": 216,
          "nan_count": 0,
          "min": "2.88",
          "max": "20.27",
          "histogram": [
           {
            "bin_start": 2.88,
            "bin_end": 4.619,
            "count": 20
           },
           {
            "bin_start": 4.619,
            "bin_end": 6.3580000000000005,
            "count": 69
           },
           {
            "bin_start": 6.3580000000000005,
            "bin_end": 8.097000000000001,
            "count": 60
           },
           {
            "bin_start": 8.097000000000001,
            "bin_end": 9.836,
            "count": 43
           },
           {
            "bin_start": 9.836,
            "bin_end": 11.575,
            "count": 26
           },
           {
            "bin_start": 11.575,
            "bin_end": 13.314,
            "count": 12
           },
           {
            "bin_start": 13.314,
            "bin_end": 15.053,
            "count": 6
           },
           {
            "bin_start": 15.053,
            "bin_end": 16.792,
            "count": 5
           },
           {
            "bin_start": 16.792,
            "bin_end": 18.531000000000002,
            "count": 2
           },
           {
            "bin_start": 18.531000000000002,
            "bin_end": 20.27,
            "count": 1
           }
          ]
         }
        },
        {
         "name": "Payer Name",
         "dtype": "object",
         "stats": {
          "unique_count": 243,
          "nan_count": 0,
          "categories": [
           {
            "name": "Douglas Tucker",
            "count": 2
           },
           {
            "name": "Travis Walters",
            "count": 1
           },
           {
            "name": "241 others",
            "count": 241
           }
          ]
         }
        },
        {
         "name": "CC Number",
         "dtype": "int64",
         "stats": {
          "unique_count": 243,
          "nan_count": 0,
          "min": "60406789937",
          "max": "6596453823950595",
          "histogram": [
           {
            "bin_start": 60406789937,
            "bin_end": 659699748506002.8,
            "count": 110
           },
           {
            "bin_start": 659699748506002.8,
            "bin_end": 1319339090222068.5,
            "count": 0
           },
           {
            "bin_start": 1319339090222068.5,
            "bin_end": 1978978431938134.2,
            "count": 0
           },
           {
            "bin_start": 1978978431938134.2,
            "bin_end": 2638617773654200,
            "count": 3
           },
           {
            "bin_start": 2638617773654200,
            "bin_end": 3298257115370266,
            "count": 0
           },
           {
            "bin_start": 3298257115370266,
            "bin_end": 3957896457086331.5,
            "count": 42
           },
           {
            "bin_start": 3957896457086331.5,
            "bin_end": 4617535798802397,
            "count": 31
           },
           {
            "bin_start": 4617535798802397,
            "bin_end": 5277175140518463,
            "count": 19
           },
           {
            "bin_start": 5277175140518463,
            "bin_end": 5936814482234529,
            "count": 15
           },
           {
            "bin_start": 5936814482234529,
            "bin_end": 6596453823950595,
            "count": 24
           }
          ]
         }
        },
        {
         "name": "_deepnote_index_column",
         "dtype": "object"
        }
       ],
       "rows_top": [
        {
         "total_bill": 10.34,
         "tip": 1.66,
         "sex": "Male",
         "smoker": "No",
         "day": "Sun",
         "time": "Dinner",
         "size": 3,
         "price_per_person": 3.45,
         "Payer Name": "Douglas Tucker",
         "CC Number": 4478071379779230,
         "_deepnote_index_column": "Sun4608"
        },
        {
         "total_bill": 21.01,
         "tip": 3.5,
         "sex": "Male",
         "smoker": "No",
         "day": "Sun",
         "time": "Dinner",
         "size": 3,
         "price_per_person": 7,
         "Payer Name": "Travis Walters",
         "CC Number": 6011812112971322,
         "_deepnote_index_column": "Sun4458"
        },
        {
         "total_bill": 23.68,
         "tip": 3.31,
         "sex": "Male",
         "smoker": "No",
         "day": "Sun",
         "time": "Dinner",
         "size": 2,
         "price_per_person": 11.84,
         "Payer Name": "Nathaniel Harris",
         "CC Number": 4676137647685994,
         "_deepnote_index_column": "Sun5260"
        },
        {
         "total_bill": 24.59,
         "tip": 3.61,
         "sex": "Female",
         "smoker": "No",
         "day": "Sun",
         "time": "Dinner",
         "size": 4,
         "price_per_person": 6.15,
         "Payer Name": "Tonya Carter",
         "CC Number": 4832732618637221,
         "_deepnote_index_column": "Sun2251"
        },
        {
         "total_bill": 25.29,
         "tip": 4.71,
         "sex": "Male",
         "smoker": "No",
         "day": "Sun",
         "time": "Dinner",
         "size": 4,
         "price_per_person": 6.32,
         "Payer Name": "Erik Smith",
         "CC Number": 213140353657882,
         "_deepnote_index_column": "Sun9679"
        },
        {
         "total_bill": 8.77,
         "tip": 2,
         "sex": "Male",
         "smoker": "No",
         "day": "Sun",
         "time": "Dinner",
         "size": 2,
         "price_per_person": 4.38,
         "Payer Name": "Kristopher Johnson",
         "CC Number": 2223727524230344,
         "_deepnote_index_column": "Sun5985"
        },
        {
         "total_bill": 26.88,
         "tip": 3.12,
         "sex": "Male",
         "smoker": "No",
         "day": "Sun",
         "time": "Dinner",
         "size": 4,
         "price_per_person": 6.72,
         "Payer Name": "Robert Buck",
         "CC Number": 3514785077705092,
         "_deepnote_index_column": "Sun8157"
        },
        {
         "total_bill": 15.04,
         "tip": 1.96,
         "sex": "Male",
         "smoker": "No",
         "day": "Sun",
         "time": "Dinner",
         "size": 2,
         "price_per_person": 7.52,
         "Payer Name": "Joseph Mcdonald",
         "CC Number": 3522866365840377,
         "_deepnote_index_column": "Sun6820"
        },
        {
         "total_bill": 14.78,
         "tip": 3.23,
         "sex": "Male",
         "smoker": "No",
         "day": "Sun",
         "time": "Dinner",
         "size": 2,
         "price_per_person": 7.39,
         "Payer Name": "Jerome Abbott",
         "CC Number": 3532124519049786,
         "_deepnote_index_column": "Sun3775"
        },
        {
         "total_bill": 10.27,
         "tip": 1.71,
         "sex": "Male",
         "smoker": "No",
         "day": "Sun",
         "time": "Dinner",
         "size": 2,
         "price_per_person": 5.14,
         "Payer Name": "William Riley",
         "CC Number": 566287581219,
         "_deepnote_index_column": "Sun2546"
        },
        {
         "total_bill": 35.26,
         "tip": 5,
         "sex": "Female",
         "smoker": "No",
         "day": "Sun",
         "time": "Dinner",
         "size": 4,
         "price_per_person": 8.82,
         "Payer Name": "Diane Macias",
         "CC Number": 4577817359320969,
         "_deepnote_index_column": "Sun6686"
        },
        {
         "total_bill": 15.42,
         "tip": 1.57,
         "sex": "Male",
         "smoker": "No",
         "day": "Sun",
         "time": "Dinner",
         "size": 2,
         "price_per_person": 7.71,
         "Payer Name": "Chad Harrington",
         "CC Number": 577040572932,
         "_deepnote_index_column": "Sun1300"
        },
        {
         "total_bill": 18.43,
         "tip": 3,
         "sex": "Male",
         "smoker": "No",
         "day": "Sun",
         "time": "Dinner",
         "size": 4,
         "price_per_person": 4.61,
         "Payer Name": "Joshua Jones",
         "CC Number": 6011163105616890,
         "_deepnote_index_column": "Sun2971"
        },
        {
         "total_bill": 14.83,
         "tip": 3.02,
         "sex": "Female",
         "smoker": "No",
         "day": "Sun",
         "time": "Dinner",
         "size": 2,
         "price_per_person": 7.42,
         "Payer Name": "Vanessa Jones",
         "CC Number": 30016702287574,
         "_deepnote_index_column": "Sun3848"
        },
        {
         "total_bill": 21.58,
         "tip": 3.92,
         "sex": "Male",
         "smoker": "No",
         "day": "Sun",
         "time": "Dinner",
         "size": 2,
         "price_per_person": 10.79,
         "Payer Name": "Matthew Reilly",
         "CC Number": 180073029785069,
         "_deepnote_index_column": "Sun1878"
        },
        {
         "total_bill": 10.33,
         "tip": 1.67,
         "sex": "Female",
         "smoker": "No",
         "day": "Sun",
         "time": "Dinner",
         "size": 3,
         "price_per_person": 3.44,
         "Payer Name": "Elizabeth Foster",
         "CC Number": 4240025044626033,
         "_deepnote_index_column": "Sun9715"
        },
        {
         "total_bill": 16.29,
         "tip": 3.71,
         "sex": "Male",
         "smoker": "No",
         "day": "Sun",
         "time": "Dinner",
         "size": 3,
         "price_per_person": 5.43,
         "Payer Name": "John Pittman",
         "CC Number": 6521340257218708,
         "_deepnote_index_column": "Sun2998"
        },
        {
         "total_bill": 16.97,
         "tip": 3.5,
         "sex": "Female",
         "smoker": "No",
         "day": "Sun",
         "time": "Dinner",
         "size": 3,
         "price_per_person": 5.66,
         "Payer Name": "Laura Martinez",
         "CC Number": 30422275171379,
         "_deepnote_index_column": "Sun2789"
        },
        {
         "total_bill": 20.65,
         "tip": 3.35,
         "sex": "Male",
         "smoker": "No",
         "day": "Sat",
         "time": "Dinner",
         "size": 3,
         "price_per_person": 6.88,
         "Payer Name": "Timothy Oneal",
         "CC Number": 6568069240986485,
         "_deepnote_index_column": "Sat9213"
        },
        {
         "total_bill": 17.92,
         "tip": 4.08,
         "sex": "Male",
         "smoker": "No",
         "day": "Sat",
         "time": "Dinner",
         "size": 2,
         "price_per_person": 8.96,
         "Payer Name": "Thomas Rice",
         "CC Number": 4403296224639756,
         "_deepnote_index_column": "Sat1709"
        },
        {
         "total_bill": 20.29,
         "tip": 2.75,
         "sex": "Female",
         "smoker": "No",
         "day": "Sat",
         "time": "Dinner",
         "size": 2,
         "price_per_person": 10.14,
         "Payer Name": "Natalie Gardner",
         "CC Number": 5448125351489749,
         "_deepnote_index_column": "Sat9618"
        },
        {
         "total_bill": 15.77,
         "tip": 2.23,
         "sex": "Female",
         "smoker": "No",
         "day": "Sat",
         "time": "Dinner",
         "size": 2,
         "price_per_person": 7.88,
         "Payer Name": "Ashley Shelton",
         "CC Number": 3524119516293213,
         "_deepnote_index_column": "Sat9786"
        },
        {
         "total_bill": 39.42,
         "tip": 7.58,
         "sex": "Male",
         "smoker": "No",
         "day": "Sat",
         "time": "Dinner",
         "size": 4,
         "price_per_person": 9.86,
         "Payer Name": "Lance Peterson",
         "CC Number": 3542584061609808,
         "_deepnote_index_column": "Sat239"
        },
        {
         "total_bill": 19.82,
         "tip": 3.18,
         "sex": "Male",
         "smoker": "No",
         "day": "Sat",
         "time": "Dinner",
         "size": 2,
         "price_per_person": 9.91,
         "Payer Name": "Christopher Ross",
         "CC Number": 36739148167928,
         "_deepnote_index_column": "Sat6236"
        },
        {
         "total_bill": 17.81,
         "tip": 2.34,
         "sex": "Male",
         "smoker": "No",
         "day": "Sat",
         "time": "Dinner",
         "size": 4,
         "price_per_person": 4.45,
         "Payer Name": "Robert Perkins",
         "CC Number": 30502930499388,
         "_deepnote_index_column": "Sat907"
        },
        {
         "total_bill": 13.37,
         "tip": 2,
         "sex": "Male",
         "smoker": "No",
         "day": "Sat",
         "time": "Dinner",
         "size": 2,
         "price_per_person": 6.68,
         "Payer Name": "Kyle Avery",
         "CC Number": 6531339539615499,
         "_deepnote_index_column": "Sat6651"
        },
        {
         "total_bill": 12.69,
         "tip": 2,
         "sex": "Male",
         "smoker": "No",
         "day": "Sat",
         "time": "Dinner",
         "size": 2,
         "price_per_person": 6.34,
         "Payer Name": "Patrick Barber",
         "CC Number": 30155551880343,
         "_deepnote_index_column": "Sat394"
        },
        {
         "total_bill": 21.7,
         "tip": 4.3,
         "sex": "Male",
         "smoker": "No",
         "day": "Sat",
         "time": "Dinner",
         "size": 2,
         "price_per_person": 10.85,
         "Payer Name": "David Collier",
         "CC Number": 5529694315416009,
         "_deepnote_index_column": "Sat3697"
        },
        {
         "total_bill": 19.65,
         "tip": 3,
         "sex": "Female",
         "smoker": "No",
         "day": "Sat",
         "time": "Dinner",
         "size": 2,
         "price_per_person": 9.82,
         "Payer Name": "Melinda Murphy",
         "CC Number": 5489272944576051,
         "_deepnote_index_column": "Sat2467"
        },
        {
         "total_bill": 9.55,
         "tip": 1.45,
         "sex": "Male",
         "smoker": "No",
         "day": "Sat",
         "time": "Dinner",
         "size": 2,
         "price_per_person": 4.78,
         "Payer Name": "Grant Hall",
         "CC Number": 30196517521548,
         "_deepnote_index_column": "Sat4099"
        },
        {
         "total_bill": 18.35,
         "tip": 2.5,
         "sex": "Male",
         "smoker": "No",
         "day": "Sat",
         "time": "Dinner",
         "size": 4,
         "price_per_person": 4.59,
         "Payer Name": "Danny Santiago",
         "CC Number": 630415546013,
         "_deepnote_index_column": "Sat4947"
        },
        {
         "total_bill": 15.06,
         "tip": 3,
         "sex": "Female",
         "smoker": "No",
         "day": "Sat",
         "time": "Dinner",
         "size": 2,
         "price_per_person": 7.53,
         "Payer Name": "Amanda Wilson",
         "CC Number": 213186304291560,
         "_deepnote_index_column": "Sat1327"
        },
        {
         "total_bill": 20.69,
         "tip": 2.45,
         "sex": "Female",
         "smoker": "No",
         "day": "Sat",
         "time": "Dinner",
         "size": 4,
         "price_per_person": 5.17,
         "Payer Name": "Amber Francis",
         "CC Number": 377742985258914,
         "_deepnote_index_column": "Sat6649"
        },
        {
         "total_bill": 17.78,
         "tip": 3.27,
         "sex": "Male",
         "smoker": "No",
         "day": "Sat",
         "time": "Dinner",
         "size": 2,
         "price_per_person": 8.89,
         "Payer Name": "Jacob Castillo",
         "CC Number": 3551492000704805,
         "_deepnote_index_column": "Sat8124"
        },
        {
         "total_bill": 24.06,
         "tip": 3.6,
         "sex": "Male",
         "smoker": "No",
         "day": "Sat",
         "time": "Dinner",
         "size": 3,
         "price_per_person": 8.02,
         "Payer Name": "Joseph Mullins",
         "CC Number": 5519770449260299,
         "_deepnote_index_column": "Sat632"
        },
        {
         "total_bill": 16.31,
         "tip": 2,
         "sex": "Male",
         "smoker": "No",
         "day": "Sat",
         "time": "Dinner",
         "size": 3,
         "price_per_person": 5.44,
         "Payer Name": "William Ford",
         "CC Number": 3527691170179398,
         "_deepnote_index_column": "Sat9139"
        },
        {
         "total_bill": 16.93,
         "tip": 3.07,
         "sex": "Female",
         "smoker": "No",
         "day": "Sat",
         "time": "Dinner",
         "size": 3,
         "price_per_person": 5.64,
         "Payer Name": "Erin Lewis",
         "CC Number": 5161695527390786,
         "_deepnote_index_column": "Sat6406"
        },
        {
         "total_bill": 18.69,
         "tip": 2.31,
         "sex": "Male",
         "smoker": "No",
         "day": "Sat",
         "time": "Dinner",
         "size": 3,
         "price_per_person": 6.23,
         "Payer Name": "Brandon Bradley",
         "CC Number": 4427601595688633,
         "_deepnote_index_column": "Sat4056"
        },
        {
         "total_bill": 31.27,
         "tip": 5,
         "sex": "Male",
         "smoker": "No",
         "day": "Sat",
         "time": "Dinner",
         "size": 3,
         "price_per_person": 10.42,
         "Payer Name": "Mr. Brandon Berry",
         "CC Number": 6011525851069856,
         "_deepnote_index_column": "Sat6373"
        },
        {
         "total_bill": 16.04,
         "tip": 2.24,
         "sex": "Male",
         "smoker": "No",
         "day": "Sat",
         "time": "Dinner",
         "size": 3,
         "price_per_person": 5.35,
         "Payer Name": "Adam Edwards",
         "CC Number": 3544447755679420,
         "_deepnote_index_column": "Sat8549"
        },
        {
         "total_bill": 17.46,
         "tip": 2.54,
         "sex": "Male",
         "smoker": "No",
         "day": "Sun",
         "time": "Dinner",
         "size": 2,
         "price_per_person": 8.73,
         "Payer Name": "David Boyer",
         "CC Number": 3536678244278149,
         "_deepnote_index_column": "Sun9460"
        },
        {
         "total_bill": 13.94,
         "tip": 3.06,
         "sex": "Male",
         "smoker": "No",
         "day": "Sun",
         "time": "Dinner",
         "size": 2,
         "price_per_person": 6.97,
         "Payer Name": "Bryan Brown",
         "CC Number": 36231182760859,
         "_deepnote_index_column": "Sun1699"
        },
        {
         "total_bill": 9.68,
         "tip": 1.32,
         "sex": "Male",
         "smoker": "No",
         "day": "Sun",
         "time": "Dinner",
         "size": 2,
         "price_per_person": 4.84,
         "Payer Name": "Christopher Spears",
         "CC Number": 4387671121369212,
         "_deepnote_index_column": "Sun3279"
        },
        {
         "total_bill": 30.4,
         "tip": 5.6,
         "sex": "Male",
         "smoker": "No",
         "day": "Sun",
         "time": "Dinner",
         "size": 4,
         "price_per_person": 7.6,
         "Payer Name": "Todd Cooper",
         "CC Number": 503846761263,
         "_deepnote_index_column": "Sun2274"
        },
        {
         "total_bill": 18.29,
         "tip": 3,
         "sex": "Male",
         "smoker": "No",
         "day": "Sun",
         "time": "Dinner",
         "size": 2,
         "price_per_person": 9.14,
         "Payer Name": "Richard Fitzgerald",
         "CC Number": 375156610762053,
         "_deepnote_index_column": "Sun8643"
        },
        {
         "total_bill": 22.23,
         "tip": 5,
         "sex": "Male",
         "smoker": "No",
         "day": "Sun",
         "time": "Dinner",
         "size": 2,
         "price_per_person": 11.12,
         "Payer Name": "Joshua Gilmore",
         "CC Number": 4292072734899,
         "_deepnote_index_column": "Sun7097"
        },
        {
         "total_bill": 32.4,
         "tip": 6,
         "sex": "Male",
         "smoker": "No",
         "day": "Sun",
         "time": "Dinner",
         "size": 4,
         "price_per_person": 8.1,
         "Payer Name": "James Barnes",
         "CC Number": 3552002592874186,
         "_deepnote_index_column": "Sun9677"
        },
        {
         "total_bill": 28.55,
         "tip": 2.05,
         "sex": "Male",
         "smoker": "No",
         "day": "Sun",
         "time": "Dinner",
         "size": 3,
         "price_per_person": 9.52,
         "Payer Name": "Austin Fisher",
         "CC Number": 6011481668986587,
         "_deepnote_index_column": "Sun4142"
        },
        {
         "total_bill": 18.04,
         "tip": 3,
         "sex": "Male",
         "smoker": "No",
         "day": "Sun",
         "time": "Dinner",
         "size": 2,
         "price_per_person": 9.02,
         "Payer Name": "William Roth",
         "CC Number": 6573923967142503,
         "_deepnote_index_column": "Sun9774"
        },
        {
         "total_bill": 12.54,
         "tip": 2.5,
         "sex": "Male",
         "smoker": "No",
         "day": "Sun",
         "time": "Dinner",
         "size": 2,
         "price_per_person": 6.27,
         "Payer Name": "Jeremiah Neal",
         "CC Number": 2225400829691416,
         "_deepnote_index_column": "Sun2021"
        }
       ],
       "rows_bottom": [
        {
         "total_bill": 7.56,
         "tip": 1.44,
         "sex": "Male",
         "smoker": "No",
         "day": "Thur",
         "time": "Lunch",
         "size": 2,
         "price_per_person": 3.78,
         "Payer Name": "Michael White",
         "CC Number": 4865390263095532,
         "_deepnote_index_column": "Thur697"
        },
        {
         "total_bill": 10.34,
         "tip": 2,
         "sex": "Male",
         "smoker": "Yes",
         "day": "Thur",
         "time": "Lunch",
         "size": 2,
         "price_per_person": 5.17,
         "Payer Name": "Eric Martin",
         "CC Number": 30442491190342,
         "_deepnote_index_column": "Thur9862"
        },
        {
         "total_bill": 43.11,
         "tip": 5,
         "sex": "Female",
         "smoker": "Yes",
         "day": "Thur",
         "time": "Lunch",
         "size": 4,
         "price_per_person": 10.78,
         "Payer Name": "Brooke Soto",
         "CC Number": 5544902205760175,
         "_deepnote_index_column": "Thur9313"
        },
        {
         "total_bill": 13,
         "tip": 2,
         "sex": "Female",
         "smoker": "Yes",
         "day": "Thur",
         "time": "Lunch",
         "size": 2,
         "price_per_person": 6.5,
         "Payer Name": "Katherine Bond",
         "CC Number": 4926725945192,
         "_deepnote_index_column": "Thur437"
        },
        {
         "total_bill": 13.51,
         "tip": 2,
         "sex": "Male",
         "smoker": "Yes",
         "day": "Thur",
         "time": "Lunch",
         "size": 2,
         "price_per_person": 6.76,
         "Payer Name": "Joseph Murphy MD",
         "CC Number": 6547218923471275,
         "_deepnote_index_column": "Thur2428"
        },
        {
         "total_bill": 18.71,
         "tip": 4,
         "sex": "Male",
         "smoker": "Yes",
         "day": "Thur",
         "time": "Lunch",
         "size": 3,
         "price_per_person": 6.24,
         "Payer Name": "Jason Conrad",
         "CC Number": 4581233003487,
         "_deepnote_index_column": "Thur6048"
        },
        {
         "total_bill": 12.74,
         "tip": 2.01,
         "sex": "Female",
         "smoker": "Yes",
         "day": "Thur",
         "time": "Lunch",
         "size": 2,
         "price_per_person": 6.37,
         "Payer Name": "Abigail Parks",
         "CC Number": 3586645396220590,
         "_deepnote_index_column": "Thur2544"
        },
        {
         "total_bill": 13,
         "tip": 2,
         "sex": "Female",
         "smoker": "Yes",
         "day": "Thur",
         "time": "Lunch",
         "size": 2,
         "price_per_person": 6.5,
         "Payer Name": "Ashley Shaw",
         "CC Number": 180088043008041,
         "_deepnote_index_column": "Thur1301"
        },
        {
         "total_bill": 16.4,
         "tip": 2.5,
         "sex": "Female",
         "smoker": "Yes",
         "day": "Thur",
         "time": "Lunch",
         "size": 2,
         "price_per_person": 8.2,
         "Payer Name": "Toni Brooks",
         "CC Number": 3582289985920239,
         "_deepnote_index_column": "Thur7770"
        },
        {
         "total_bill": 20.53,
         "tip": 4,
         "sex": "Male",
         "smoker": "Yes",
         "day": "Thur",
         "time": "Lunch",
         "size": 4,
         "price_per_person": 5.13,
         "Payer Name": "Scott Kim",
         "CC Number": 3570611756827620,
         "_deepnote_index_column": "Thur2160"
        },
        {
         "total_bill": 16.47,
         "tip": 3.23,
         "sex": "Female",
         "smoker": "Yes",
         "day": "Thur",
         "time": "Lunch",
         "size": 3,
         "price_per_person": 5.49,
         "Payer Name": "Carly Reyes",
         "CC Number": 4787787236486,
         "_deepnote_index_column": "Thur8084"
        },
        {
         "total_bill": 26.59,
         "tip": 3.41,
         "sex": "Male",
         "smoker": "Yes",
         "day": "Sat",
         "time": "Dinner",
         "size": 3,
         "price_per_person": 8.86,
         "Payer Name": "Daniel Owens",
         "CC Number": 38971087967574,
         "_deepnote_index_column": "Sat1"
        },
        {
         "total_bill": 38.73,
         "tip": 3,
         "sex": "Male",
         "smoker": "Yes",
         "day": "Sat",
         "time": "Dinner",
         "size": 4,
         "price_per_person": 9.68,
         "Payer Name": "Ricky Ramirez",
         "CC Number": 347817964484033,
         "_deepnote_index_column": "Sat4505"
        },
        {
         "total_bill": 24.27,
         "tip": 2.03,
         "sex": "Male",
         "smoker": "Yes",
         "day": "Sat",
         "time": "Dinner",
         "size": 2,
         "price_per_person": 12.14,
         "Payer Name": "Jason Carter",
         "CC Number": 4268942915626180,
         "_deepnote_index_column": "Sat6048"
        },
        {
         "total_bill": 12.76,
         "tip": 2.23,
         "sex": "Female",
         "smoker": "Yes",
         "day": "Sat",
         "time": "Dinner",
         "size": 2,
         "price_per_person": 6.38,
         "Payer Name": "Sarah Cunningham",
         "CC Number": 341876516331163,
         "_deepnote_index_column": "Sat1274"
        },
        {
         "total_bill": 30.06,
         "tip": 2,
         "sex": "Male",
         "smoker": "Yes",
         "day": "Sat",
         "time": "Dinner",
         "size": 3,
         "price_per_person": 10.02,
         "Payer Name": "Shawn Mendoza",
         "CC Number": 30184049218122,
         "_deepnote_index_column": "Sat8361"
        },
        {
         "total_bill": 25.89,
         "tip": 5.16,
         "sex": "Male",
         "smoker": "Yes",
         "day": "Sat",
         "time": "Dinner",
         "size": 4,
         "price_per_person": 6.47,
         "Payer Name": "Christopher Li",
         "CC Number": 6011962464150569,
         "_deepnote_index_column": "Sat6735"
        },
        {
         "total_bill": 48.33,
         "tip": 9,
         "sex": "Male",
         "smoker": "No",
         "day": "Sat",
         "time": "Dinner",
         "size": 4,
         "price_per_person": 12.08,
         "Payer Name": "Alex Williamson",
         "CC Number": 676218815212,
         "_deepnote_index_column": "Sat4590"
        },
        {
         "total_bill": 13.27,
         "tip": 2.5,
         "sex": "Female",
         "smoker": "Yes",
         "day": "Sat",
         "time": "Dinner",
         "size": 2,
         "price_per_person": 6.64,
         "Payer Name": "Robin Andersen",
         "CC Number": 580140531089,
         "_deepnote_index_column": "Sat1374"
        },
        {
         "total_bill": 28.17,
         "tip": 6.5,
         "sex": "Female",
         "smoker": "Yes",
         "day": "Sat",
         "time": "Dinner",
         "size": 3,
         "price_per_person": 9.39,
         "Payer Name": "Marissa Jackson",
         "CC Number": 4922302538691962,
         "_deepnote_index_column": "Sat3374"
        },
        {
         "total_bill": 12.9,
         "tip": 1.1,
         "sex": "Female",
         "smoker": "Yes",
         "day": "Sat",
         "time": "Dinner",
         "size": 2,
         "price_per_person": 6.45,
         "Payer Name": "Jessica Owen",
         "CC Number": 4726904879471,
         "_deepnote_index_column": "Sat6983"
        },
        {
         "total_bill": 28.15,
         "tip": 3,
         "sex": "Male",
         "smoker": "Yes",
         "day": "Sat",
         "time": "Dinner",
         "size": 5,
         "price_per_person": 5.63,
         "Payer Name": "Shawn Barnett PhD",
         "CC Number": 4590982568244,
         "_deepnote_index_column": "Sat7320"
        },
        {
         "total_bill": 11.59,
         "tip": 1.5,
         "sex": "Male",
         "smoker": "Yes",
         "day": "Sat",
         "time": "Dinner",
         "size": 2,
         "price_per_person": 5.8,
         "Payer Name": "Gary Orr",
         "CC Number": 30324521283406,
         "_deepnote_index_column": "Sat8489"
        },
        {
         "total_bill": 7.74,
         "tip": 1.44,
         "sex": "Male",
         "smoker": "Yes",
         "day": "Sat",
         "time": "Dinner",
         "size": 2,
         "price_per_person": 3.87,
         "Payer Name": "Nicholas Archer",
         "CC Number": 340517153733524,
         "_deepnote_index_column": "Sat4772"
        },
        {
         "total_bill": 30.14,
         "tip": 3.09,
         "sex": "Female",
         "smoker": "Yes",
         "day": "Sat",
         "time": "Dinner",
         "size": 4,
         "price_per_person": 7.54,
         "Payer Name": "Shelby House",
         "CC Number": 502097403252,
         "_deepnote_index_column": "Sat8863"
        },
        {
         "total_bill": 12.16,
         "tip": 2.2,
         "sex": "Male",
         "smoker": "Yes",
         "day": "Fri",
         "time": "Lunch",
         "size": 2,
         "price_per_person": 6.08,
         "Payer Name": "Ricky Johnson",
         "CC Number": 213109508670736,
         "_deepnote_index_column": "Fri4607"
        },
        {
         "total_bill": 13.42,
         "tip": 3.48,
         "sex": "Female",
         "smoker": "Yes",
         "day": "Fri",
         "time": "Lunch",
         "size": 2,
         "price_per_person": 6.71,
         "Payer Name": "Leslie Kaufman",
         "CC Number": 379437981958785,
         "_deepnote_index_column": "Fri7511"
        },
        {
         "total_bill": 8.58,
         "tip": 1.92,
         "sex": "Male",
         "smoker": "Yes",
         "day": "Fri",
         "time": "Lunch",
         "size": 1,
         "price_per_person": 8.58,
         "Payer Name": "Jason Lawrence",
         "CC Number": 3505302934650403,
         "_deepnote_index_column": "Fri6624"
        },
        {
         "total_bill": 15.98,
         "tip": 3,
         "sex": "Female",
         "smoker": "No",
         "day": "Fri",
         "time": "Lunch",
         "size": 3,
         "price_per_person": 5.33,
         "Payer Name": "Mary Rivera",
         "CC Number": 5343428579353069,
         "_deepnote_index_column": "Fri6014"
        },
        {
         "total_bill": 13.42,
         "tip": 1.58,
         "sex": "Male",
         "smoker": "Yes",
         "day": "Fri",
         "time": "Lunch",
         "size": 2,
         "price_per_person": 6.71,
         "Payer Name": "Ronald Vaughn DVM",
         "CC Number": 341503466406403,
         "_deepnote_index_column": "Fri5959"
        },
        {
         "total_bill": 16.27,
         "tip": 2.5,
         "sex": "Female",
         "smoker": "Yes",
         "day": "Fri",
         "time": "Lunch",
         "size": 2,
         "price_per_person": 8.14,
         "Payer Name": "Whitney Arnold",
         "CC Number": 3579111947217428,
         "_deepnote_index_column": "Fri6665"
        },
        {
         "total_bill": 10.09,
         "tip": 2,
         "sex": "Female",
         "smoker": "Yes",
         "day": "Fri",
         "time": "Lunch",
         "size": 2,
         "price_per_person": 5.04,
         "Payer Name": "Ruth Weiss",
         "CC Number": 5268689490381635,
         "_deepnote_index_column": "Fri6359"
        },
        {
         "total_bill": 20.45,
         "tip": 3,
         "sex": "Male",
         "smoker": "No",
         "day": "Sat",
         "time": "Dinner",
         "size": 4,
         "price_per_person": 5.11,
         "Payer Name": "Robert Bradley",
         "CC Number": 213141668145910,
         "_deepnote_index_column": "Sat4319"
        },
        {
         "total_bill": 13.28,
         "tip": 2.72,
         "sex": "Male",
         "smoker": "No",
         "day": "Sat",
         "time": "Dinner",
         "size": 2,
         "price_per_person": 6.64,
         "Payer Name": "Glenn Jones",
         "CC Number": 502061651712,
         "_deepnote_index_column": "Sat2937"
        },
        {
         "total_bill": 22.12,
         "tip": 2.88,
         "sex": "Female",
         "smoker": "Yes",
         "day": "Sat",
         "time": "Dinner",
         "size": 2,
         "price_per_person": 11.06,
         "Payer Name": "Jennifer Russell",
         "CC Number": 4793003293608,
         "_deepnote_index_column": "Sat3943"
        },
        {
         "total_bill": 24.01,
         "tip": 2,
         "sex": "Male",
         "smoker": "Yes",
         "day": "Sat",
         "time": "Dinner",
         "size": 4,
         "price_per_person": 6,
         "Payer Name": "Michael Osborne",
         "CC Number": 4258682154026,
         "_deepnote_index_column": "Sat7872"
        },
        {
         "total_bill": 15.69,
         "tip": 3,
         "sex": "Male",
         "smoker": "Yes",
         "day": "Sat",
         "time": "Dinner",
         "size": 3,
         "price_per_person": 5.23,
         "Payer Name": "Jason Parks",
         "CC Number": 4812333796161,
         "_deepnote_index_column": "Sat6334"
        },
        {
         "total_bill": 11.61,
         "tip": 3.39,
         "sex": "Male",
         "smoker": "No",
         "day": "Sat",
         "time": "Dinner",
         "size": 2,
         "price_per_person": 5.8,
         "Payer Name": "James Taylor",
         "CC Number": 6011482917327995,
         "_deepnote_index_column": "Sat2124"
        },
        {
         "total_bill": 10.77,
         "tip": 1.47,
         "sex": "Male",
         "smoker": "No",
         "day": "Sat",
         "time": "Dinner",
         "size": 2,
         "price_per_person": 5.38,
         "Payer Name": "Paul Novak",
         "CC Number": 6011698897610858,
         "_deepnote_index_column": "Sat1467"
        },
        {
         "total_bill": 15.53,
         "tip": 3,
         "sex": "Male",
         "smoker": "Yes",
         "day": "Sat",
         "time": "Dinner",
         "size": 2,
         "price_per_person": 7.76,
         "Payer Name": "Tracy Douglas",
         "CC Number": 4097938155941930,
         "_deepnote_index_column": "Sat7220"
        },
        {
         "total_bill": 10.07,
         "tip": 1.25,
         "sex": "Male",
         "smoker": "No",
         "day": "Sat",
         "time": "Dinner",
         "size": 2,
         "price_per_person": 5.04,
         "Payer Name": "Sean Gonzalez",
         "CC Number": 3534021246117605,
         "_deepnote_index_column": "Sat4615"
        },
        {
         "total_bill": 12.6,
         "tip": 1,
         "sex": "Male",
         "smoker": "Yes",
         "day": "Sat",
         "time": "Dinner",
         "size": 2,
         "price_per_person": 6.3,
         "Payer Name": "Matthew Myers",
         "CC Number": 3543676378973965,
         "_deepnote_index_column": "Sat5032"
        },
        {
         "total_bill": 32.83,
         "tip": 1.17,
         "sex": "Male",
         "smoker": "Yes",
         "day": "Sat",
         "time": "Dinner",
         "size": 2,
         "price_per_person": 16.42,
         "Payer Name": "Thomas Brown",
         "CC Number": 4284722681265508,
         "_deepnote_index_column": "Sat2929"
        },
        {
         "total_bill": 35.83,
         "tip": 4.67,
         "sex": "Female",
         "smoker": "No",
         "day": "Sat",
         "time": "Dinner",
         "size": 3,
         "price_per_person": 11.94,
         "Payer Name": "Kimberly Crane",
         "CC Number": 676184013727,
         "_deepnote_index_column": "Sat9777"
        },
        {
         "total_bill": 29.03,
         "tip": 5.92,
         "sex": "Male",
         "smoker": "No",
         "day": "Sat",
         "time": "Dinner",
         "size": 3,
         "price_per_person": 9.68,
         "Payer Name": "Michael Avila",
         "CC Number": 5296068606052842,
         "_deepnote_index_column": "Sat2657"
        },
        {
         "total_bill": 27.18,
         "tip": 2,
         "sex": "Female",
         "smoker": "Yes",
         "day": "Sat",
         "time": "Dinner",
         "size": 2,
         "price_per_person": 13.59,
         "Payer Name": "Monica Sanders",
         "CC Number": 3506806155565404,
         "_deepnote_index_column": "Sat1766"
        },
        {
         "total_bill": 22.67,
         "tip": 2,
         "sex": "Male",
         "smoker": "Yes",
         "day": "Sat",
         "time": "Dinner",
         "size": 2,
         "price_per_person": 11.34,
         "Payer Name": "Keith Wong",
         "CC Number": 6011891618747196,
         "_deepnote_index_column": "Sat3880"
        },
        {
         "total_bill": 17.82,
         "tip": 1.75,
         "sex": "Male",
         "smoker": "No",
         "day": "Sat",
         "time": "Dinner",
         "size": 2,
         "price_per_person": 8.91,
         "Payer Name": "Dennis Dixon",
         "CC Number": 4375220550950,
         "_deepnote_index_column": "Sat17"
        },
        {
         "total_bill": 18.78,
         "tip": 3,
         "sex": "Female",
         "smoker": "No",
         "day": "Thur",
         "time": "Dinner",
         "size": 2,
         "price_per_person": 9.39,
         "Payer Name": "Michelle Hardin",
         "CC Number": 3511451626698139,
         "_deepnote_index_column": "Thur672"
        },
        {
         "total_bill": 10.34,
         "tip": 1.66,
         "sex": "Male",
         "smoker": "No",
         "day": "Sun",
         "time": "Dinner",
         "size": 3,
         "price_per_person": 3.45,
         "Payer Name": "Douglas Tucker",
         "CC Number": 4478071379779230,
         "_deepnote_index_column": "Sun4608"
        }
       ]
      },
      "text/plain": "            total_bill   tip     sex smoker   day    time  size  \\\nPayment ID                                                        \nSun4608          10.34  1.66    Male     No   Sun  Dinner     3   \nSun4458          21.01  3.50    Male     No   Sun  Dinner     3   \nSun5260          23.68  3.31    Male     No   Sun  Dinner     2   \nSun2251          24.59  3.61  Female     No   Sun  Dinner     4   \nSun9679          25.29  4.71    Male     No   Sun  Dinner     4   \n...                ...   ...     ...    ...   ...     ...   ...   \nSat1766          27.18  2.00  Female    Yes   Sat  Dinner     2   \nSat3880          22.67  2.00    Male    Yes   Sat  Dinner     2   \nSat17            17.82  1.75    Male     No   Sat  Dinner     2   \nThur672          18.78  3.00  Female     No  Thur  Dinner     2   \nSun4608          10.34  1.66    Male     No   Sun  Dinner     3   \n\n            price_per_person        Payer Name         CC Number  \nPayment ID                                                        \nSun4608                 3.45    Douglas Tucker  4478071379779230  \nSun4458                 7.00    Travis Walters  6011812112971322  \nSun5260                11.84  Nathaniel Harris  4676137647685994  \nSun2251                 6.15      Tonya Carter  4832732618637221  \nSun9679                 6.32        Erik Smith   213140353657882  \n...                      ...               ...               ...  \nSat1766                13.59    Monica Sanders  3506806155565404  \nSat3880                11.34        Keith Wong  6011891618747196  \nSat17                   8.91      Dennis Dixon     4375220550950  \nThur672                 9.39   Michelle Hardin  3511451626698139  \nSun4608                 3.45    Douglas Tucker  4478071379779230  \n\n[244 rows x 10 columns]",
      "text/html": "<div>\n<style scoped>\n    .dataframe tbody tr th:only-of-type {\n        vertical-align: middle;\n    }\n\n    .dataframe tbody tr th {\n        vertical-align: top;\n    }\n\n    .dataframe thead th {\n        text-align: right;\n    }\n</style>\n<table border=\"1\" class=\"dataframe\">\n  <thead>\n    <tr style=\"text-align: right;\">\n      <th></th>\n      <th>total_bill</th>\n      <th>tip</th>\n      <th>sex</th>\n      <th>smoker</th>\n      <th>day</th>\n      <th>time</th>\n      <th>size</th>\n      <th>price_per_person</th>\n      <th>Payer Name</th>\n      <th>CC Number</th>\n    </tr>\n    <tr>\n      <th>Payment ID</th>\n      <th></th>\n      <th></th>\n      <th></th>\n      <th></th>\n      <th></th>\n      <th></th>\n      <th></th>\n      <th></th>\n      <th></th>\n      <th></th>\n    </tr>\n  </thead>\n  <tbody>\n    <tr>\n      <th>Sun4608</th>\n      <td>10.34</td>\n      <td>1.66</td>\n      <td>Male</td>\n      <td>No</td>\n      <td>Sun</td>\n      <td>Dinner</td>\n      <td>3</td>\n      <td>3.45</td>\n      <td>Douglas Tucker</td>\n      <td>4478071379779230</td>\n    </tr>\n    <tr>\n      <th>Sun4458</th>\n      <td>21.01</td>\n      <td>3.50</td>\n      <td>Male</td>\n      <td>No</td>\n      <td>Sun</td>\n      <td>Dinner</td>\n      <td>3</td>\n      <td>7.00</td>\n      <td>Travis Walters</td>\n      <td>6011812112971322</td>\n    </tr>\n    <tr>\n      <th>Sun5260</th>\n      <td>23.68</td>\n      <td>3.31</td>\n      <td>Male</td>\n      <td>No</td>\n      <td>Sun</td>\n      <td>Dinner</td>\n      <td>2</td>\n      <td>11.84</td>\n      <td>Nathaniel Harris</td>\n      <td>4676137647685994</td>\n    </tr>\n    <tr>\n      <th>Sun2251</th>\n      <td>24.59</td>\n      <td>3.61</td>\n      <td>Female</td>\n      <td>No</td>\n      <td>Sun</td>\n      <td>Dinner</td>\n      <td>4</td>\n      <td>6.15</td>\n      <td>Tonya Carter</td>\n      <td>4832732618637221</td>\n    </tr>\n    <tr>\n      <th>Sun9679</th>\n      <td>25.29</td>\n      <td>4.71</td>\n      <td>Male</td>\n      <td>No</td>\n      <td>Sun</td>\n      <td>Dinner</td>\n      <td>4</td>\n      <td>6.32</td>\n      <td>Erik Smith</td>\n      <td>213140353657882</td>\n    </tr>\n    <tr>\n      <th>...</th>\n      <td>...</td>\n      <td>...</td>\n      <td>...</td>\n      <td>...</td>\n      <td>...</td>\n      <td>...</td>\n      <td>...</td>\n      <td>...</td>\n      <td>...</td>\n      <td>...</td>\n    </tr>\n    <tr>\n      <th>Sat1766</th>\n      <td>27.18</td>\n      <td>2.00</td>\n      <td>Female</td>\n      <td>Yes</td>\n      <td>Sat</td>\n      <td>Dinner</td>\n      <td>2</td>\n      <td>13.59</td>\n      <td>Monica Sanders</td>\n      <td>3506806155565404</td>\n    </tr>\n    <tr>\n      <th>Sat3880</th>\n      <td>22.67</td>\n      <td>2.00</td>\n      <td>Male</td>\n      <td>Yes</td>\n      <td>Sat</td>\n      <td>Dinner</td>\n      <td>2</td>\n      <td>11.34</td>\n      <td>Keith Wong</td>\n      <td>6011891618747196</td>\n    </tr>\n    <tr>\n      <th>Sat17</th>\n      <td>17.82</td>\n      <td>1.75</td>\n      <td>Male</td>\n      <td>No</td>\n      <td>Sat</td>\n      <td>Dinner</td>\n      <td>2</td>\n      <td>8.91</td>\n      <td>Dennis Dixon</td>\n      <td>4375220550950</td>\n    </tr>\n    <tr>\n      <th>Thur672</th>\n      <td>18.78</td>\n      <td>3.00</td>\n      <td>Female</td>\n      <td>No</td>\n      <td>Thur</td>\n      <td>Dinner</td>\n      <td>2</td>\n      <td>9.39</td>\n      <td>Michelle Hardin</td>\n      <td>3511451626698139</td>\n    </tr>\n    <tr>\n      <th>Sun4608</th>\n      <td>10.34</td>\n      <td>1.66</td>\n      <td>Male</td>\n      <td>No</td>\n      <td>Sun</td>\n      <td>Dinner</td>\n      <td>3</td>\n      <td>3.45</td>\n      <td>Douglas Tucker</td>\n      <td>4478071379779230</td>\n    </tr>\n  </tbody>\n</table>\n<p>244 rows × 10 columns</p>\n</div>"
     },
     "metadata": {}
    }
   ],
   "execution_count": null
  },
  {
   "cell_type": "code",
   "source": "",
   "metadata": {
    "tags": [],
    "cell_id": "00036-14b19c06-4ab4-4ac5-a954-2792bf22dbba",
    "deepnote_cell_type": "code"
   },
   "outputs": [],
   "execution_count": null
  },
  {
   "cell_type": "markdown",
   "source": "<a style='text-decoration:none;line-height:16px;display:flex;color:#5B5B62;padding:10px;justify-content:end;' href='https://deepnote.com?utm_source=created-in-deepnote-cell&projectId=1d2e029d-9969-43e3-9550-c09256e72c8b' target=\"_blank\">\n<img alt='Created in deepnote.com' style='display:inline;max-height:16px;margin:0px;margin-right:7.5px;' src='data:image/svg+xml;base64,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' > </img>\nCreated in <span style='font-weight:600;margin-left:4px;'>Deepnote</span></a>",
   "metadata": {
    "tags": [],
    "created_in_deepnote_cell": true,
    "deepnote_cell_type": "markdown"
   }
  }
 ],
 "nbformat": 4,
 "nbformat_minor": 2,
 "metadata": {
  "orig_nbformat": 2,
  "deepnote": {
   "is_reactive": false
  },
  "deepnote_notebook_id": "aaf9228b-57ce-40d5-9850-31b281d221d0",
  "deepnote_execution_queue": []
 }
}